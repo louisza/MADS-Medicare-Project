{
 "cells": [
  {
   "cell_type": "markdown",
   "source": "# Import libraries",
   "metadata": {
    "id": "Io_ziZrK8xqB",
    "cell_id": "968b6af7-bd03-4a38-a9ee-fcb2b205de1f",
    "deepnote_cell_type": "markdown"
   }
  },
  {
   "cell_type": "code",
   "metadata": {
    "colab": {
     "base_uri": "https://localhost:8080/"
    },
    "id": "3ErZj94mAiN0",
    "executionInfo": {
     "status": "ok",
     "timestamp": 1642953779714,
     "user_tz": -330,
     "elapsed": 4231,
     "user": {
      "displayName": "Himank Kansal",
      "photoUrl": "https://lh3.googleusercontent.com/a/default-user=s64",
      "userId": "12921478214650450287"
     }
    },
    "outputId": "b273b582-f62f-455b-bc7a-f051f6c95d6e",
    "cell_id": "00001-2225baca-ed7e-4603-adf9-17b915346c9f",
    "deepnote_cell_type": "code"
   },
   "source": "#!pip install -U pandas-profiling[notebook]\n#!pip install koalas\n#!jupyter nbextension enable --py widgetsnbextension\n#!pip install sweetviz",
   "outputs": [
    {
     "output_type": "stream",
     "name": "stdout",
     "text": "Requirement already satisfied: sweetviz in /usr/local/lib/python3.7/dist-packages (2.1.3)\nRequirement already satisfied: numpy>=1.16.0 in /usr/local/lib/python3.7/dist-packages (from sweetviz) (1.19.5)\nRequirement already satisfied: tqdm>=4.43.0 in /usr/local/lib/python3.7/dist-packages (from sweetviz) (4.62.3)\nRequirement already satisfied: pandas!=1.0.0,!=1.0.1,!=1.0.2,>=0.25.3 in /usr/local/lib/python3.7/dist-packages (from sweetviz) (1.1.5)\nRequirement already satisfied: jinja2>=2.11.1 in /usr/local/lib/python3.7/dist-packages (from sweetviz) (2.11.3)\nRequirement already satisfied: matplotlib>=3.1.3 in /usr/local/lib/python3.7/dist-packages (from sweetviz) (3.2.2)\nRequirement already satisfied: importlib-resources>=1.2.0 in /usr/local/lib/python3.7/dist-packages (from sweetviz) (5.4.0)\nRequirement already satisfied: scipy>=1.3.2 in /usr/local/lib/python3.7/dist-packages (from sweetviz) (1.4.1)\nRequirement already satisfied: zipp>=3.1.0 in /usr/local/lib/python3.7/dist-packages (from importlib-resources>=1.2.0->sweetviz) (3.7.0)\nRequirement already satisfied: MarkupSafe>=0.23 in /usr/local/lib/python3.7/dist-packages (from jinja2>=2.11.1->sweetviz) (2.0.1)\nRequirement already satisfied: kiwisolver>=1.0.1 in /usr/local/lib/python3.7/dist-packages (from matplotlib>=3.1.3->sweetviz) (1.3.2)\nRequirement already satisfied: cycler>=0.10 in /usr/local/lib/python3.7/dist-packages (from matplotlib>=3.1.3->sweetviz) (0.11.0)\nRequirement already satisfied: python-dateutil>=2.1 in /usr/local/lib/python3.7/dist-packages (from matplotlib>=3.1.3->sweetviz) (2.8.2)\nRequirement already satisfied: pyparsing!=2.0.4,!=2.1.2,!=2.1.6,>=2.0.1 in /usr/local/lib/python3.7/dist-packages (from matplotlib>=3.1.3->sweetviz) (3.0.6)\nRequirement already satisfied: pytz>=2017.2 in /usr/local/lib/python3.7/dist-packages (from pandas!=1.0.0,!=1.0.1,!=1.0.2,>=0.25.3->sweetviz) (2018.9)\nRequirement already satisfied: six>=1.5 in /usr/local/lib/python3.7/dist-packages (from python-dateutil>=2.1->matplotlib>=3.1.3->sweetviz) (1.15.0)\n"
    }
   ],
   "execution_count": null
  },
  {
   "cell_type": "code",
   "metadata": {
    "colab": {
     "base_uri": "https://localhost:8080/",
     "height": 330
    },
    "id": "Hm1T08G-wLMk",
    "executionInfo": {
     "status": "ok",
     "timestamp": 1642955087400,
     "user_tz": -330,
     "elapsed": 19066,
     "user": {
      "displayName": "Himank Kansal",
      "photoUrl": "https://lh3.googleusercontent.com/a/default-user=s64",
      "userId": "12921478214650450287"
     }
    },
    "outputId": "7831431b-a789-4e67-8833-ad55d3e379eb",
    "cell_id": "00002-b3e34947-cb3e-4798-aadc-c9513a6e7d32",
    "deepnote_output_heights": [
     null,
     2
    ],
    "deepnote_cell_type": "code"
   },
   "source": "!pip install -U plotly",
   "outputs": [
    {
     "output_type": "stream",
     "name": "stdout",
     "text": "Requirement already satisfied: plotly in /usr/local/lib/python3.7/dist-packages (4.4.1)\nCollecting plotly\n  Downloading plotly-5.5.0-py2.py3-none-any.whl (26.5 MB)\n\u001b[K     |████████████████████████████████| 26.5 MB 2.5 MB/s \n\u001b[?25hCollecting tenacity>=6.2.0\n  Downloading tenacity-8.0.1-py3-none-any.whl (24 kB)\nRequirement already satisfied: six in /usr/local/lib/python3.7/dist-packages (from plotly) (1.15.0)\nInstalling collected packages: tenacity, plotly\n  Attempting uninstall: plotly\n    Found existing installation: plotly 4.4.1\n    Uninstalling plotly-4.4.1:\n      Successfully uninstalled plotly-4.4.1\nSuccessfully installed plotly-5.5.0 tenacity-8.0.1\n"
    },
    {
     "output_type": "display_data",
     "data": {
      "application/vnd.colab-display-data+json": {
       "pip_warning": {
        "packages": [
         "_plotly_utils",
         "plotly"
        ]
       }
      }
     },
     "metadata": {}
    }
   ],
   "execution_count": null
  },
  {
   "cell_type": "code",
   "metadata": {
    "id": "K4xcafmC9rep",
    "executionInfo": {
     "status": "ok",
     "timestamp": 1642955120885,
     "user_tz": -330,
     "elapsed": 503,
     "user": {
      "displayName": "Himank Kansal",
      "photoUrl": "https://lh3.googleusercontent.com/a/default-user=s64",
      "userId": "12921478214650450287"
     }
    },
    "cell_id": "00003-b165cb40-98df-4ce4-8bc4-bfd7f886d9a1",
    "deepnote_cell_type": "code"
   },
   "source": "import numpy as np\nimport pandas as pd\nimport random\nfrom pandas_profiling import ProfileReport\nimport sweetviz as sv",
   "outputs": [],
   "execution_count": null
  },
  {
   "cell_type": "code",
   "metadata": {
    "id": "nGnonhmCPqwp",
    "executionInfo": {
     "status": "ok",
     "timestamp": 1642955122552,
     "user_tz": -330,
     "elapsed": 2,
     "user": {
      "displayName": "Himank Kansal",
      "photoUrl": "https://lh3.googleusercontent.com/a/default-user=s64",
      "userId": "12921478214650450287"
     }
    },
    "cell_id": "00004-db6e1a62-8933-442a-91c5-51bf8b59a21e",
    "deepnote_cell_type": "code"
   },
   "source": "from IPython.core.interactiveshell import InteractiveShell\nInteractiveShell.ast_node_interactivity = \"all\"\n\n%matplotlib notebook\n%matplotlib inline",
   "outputs": [],
   "execution_count": null
  },
  {
   "cell_type": "code",
   "metadata": {
    "colab": {
     "base_uri": "https://localhost:8080/"
    },
    "id": "Dvx5O--9bYIi",
    "executionInfo": {
     "status": "ok",
     "timestamp": 1642953785463,
     "user_tz": -330,
     "elapsed": 3313,
     "user": {
      "displayName": "Himank Kansal",
      "photoUrl": "https://lh3.googleusercontent.com/a/default-user=s64",
      "userId": "12921478214650450287"
     }
    },
    "outputId": "27b547fc-73eb-4c0c-f51e-9c5565e04cf6",
    "cell_id": "00005-1ca10b6a-9dd3-4eb1-8e00-cef1fee1fa8e",
    "deepnote_cell_type": "code"
   },
   "source": "from google.colab import drive\ndrive.mount('/content/drive')",
   "outputs": [
    {
     "output_type": "stream",
     "name": "stdout",
     "text": "Drive already mounted at /content/drive; to attempt to forcibly remount, call drive.mount(\"/content/drive\", force_remount=True).\n"
    }
   ],
   "execution_count": null
  },
  {
   "cell_type": "markdown",
   "source": "# Load Data",
   "metadata": {
    "id": "VEUT9ohTtJ1b",
    "cell_id": "00006-b287e267-81c0-4cf4-af49-ade85e24afc7",
    "deepnote_cell_type": "markdown"
   }
  },
  {
   "cell_type": "code",
   "metadata": {
    "colab": {
     "base_uri": "https://localhost:8080/"
    },
    "id": "lZloKBXwu1O1",
    "executionInfo": {
     "status": "ok",
     "timestamp": 1642955125903,
     "user_tz": -330,
     "elapsed": 476,
     "user": {
      "displayName": "Himank Kansal",
      "photoUrl": "https://lh3.googleusercontent.com/a/default-user=s64",
      "userId": "12921478214650450287"
     }
    },
    "outputId": "16d08c9d-a5f9-45c5-e617-28ecd8f23720",
    "cell_id": "00007-00375094-1e53-4916-a63c-10aab4bbbdca",
    "deepnote_cell_type": "code"
   },
   "source": "# change working directory\n\n%cd /datasets/cms\n!ls -art",
   "outputs": [
    {
     "output_type": "stream",
     "name": "stdout",
     "text": "/content/drive/MyDrive/Colab Notebooks\n MUP_PHY_R21_P04_V10_D19_Prov_Svc.csv\n MUP_PHY_R21_P04_V10_D19_Geo.csv\n MUP_PHY_R21_P04_V10_D19_Prov.csv\n zip_lat_long.xlsx\n Report.html\n'Supervised and Unsupervised learning on CMS Data.ipynb'\n"
    }
   ],
   "execution_count": null
  },
  {
   "cell_type": "code",
   "metadata": {
    "colab": {
     "base_uri": "https://localhost:8080/",
     "height": 652
    },
    "id": "tGoC94r4tOfK",
    "executionInfo": {
     "status": "ok",
     "timestamp": 1642317978763,
     "user_tz": -330,
     "elapsed": 129036,
     "user": {
      "displayName": "Himank Kansal",
      "photoUrl": "https://lh3.googleusercontent.com/a/default-user=s64",
      "userId": "12921478214650450287"
     }
    },
    "outputId": "3c057121-abd7-4cea-9ebf-29a6341419bc",
    "cell_id": "00008-4e832186-a25c-4b36-8ce1-01f69e59f6a5",
    "deepnote_output_heights": [
     1
    ],
    "deepnote_cell_type": "code"
   },
   "source": "#df_prov_svc = pd.read_csv('MUP_PHY_R21_P04_V10_D19_Prov_Svc.csv', dtype=\"string\", encoding='latin-1')\n#df_prov_svc.head()",
   "outputs": [
    {
     "output_type": "execute_result",
     "data": {
      "text/html": "\n  <div id=\"df-f32750f8-79c5-4d08-a2b5-50579f7d02ce\">\n    <div class=\"colab-df-container\">\n      <div>\n<style scoped>\n    .dataframe tbody tr th:only-of-type {\n        vertical-align: middle;\n    }\n\n    .dataframe tbody tr th {\n        vertical-align: top;\n    }\n\n    .dataframe thead th {\n        text-align: right;\n    }\n</style>\n<table border=\"1\" class=\"dataframe\">\n  <thead>\n    <tr style=\"text-align: right;\">\n      <th></th>\n      <th>Rndrng_NPI</th>\n      <th>Rndrng_Prvdr_Last_Org_Name</th>\n      <th>Rndrng_Prvdr_First_Name</th>\n      <th>Rndrng_Prvdr_MI</th>\n      <th>Rndrng_Prvdr_Crdntls</th>\n      <th>Rndrng_Prvdr_Gndr</th>\n      <th>Rndrng_Prvdr_Ent_Cd</th>\n      <th>Rndrng_Prvdr_St1</th>\n      <th>Rndrng_Prvdr_St2</th>\n      <th>Rndrng_Prvdr_City</th>\n      <th>Rndrng_Prvdr_State_Abrvtn</th>\n      <th>Rndrng_Prvdr_State_FIPS</th>\n      <th>Rndrng_Prvdr_Zip5</th>\n      <th>Rndrng_Prvdr_RUCA</th>\n      <th>Rndrng_Prvdr_RUCA_Desc</th>\n      <th>Rndrng_Prvdr_Cntry</th>\n      <th>Rndrng_Prvdr_Type</th>\n      <th>Rndrng_Prvdr_Mdcr_Prtcptg_Ind</th>\n      <th>HCPCS_Cd</th>\n      <th>HCPCS_Desc</th>\n      <th>HCPCS_Drug_Ind</th>\n      <th>Place_Of_Srvc</th>\n      <th>Tot_Benes</th>\n      <th>Tot_Srvcs</th>\n      <th>Tot_Bene_Day_Srvcs</th>\n      <th>Avg_Sbmtd_Chrg</th>\n      <th>Avg_Mdcr_Alowd_Amt</th>\n      <th>Avg_Mdcr_Pymt_Amt</th>\n      <th>Avg_Mdcr_Stdzd_Amt</th>\n    </tr>\n  </thead>\n  <tbody>\n    <tr>\n      <th>0</th>\n      <td>1003000126</td>\n      <td>Enkeshafi</td>\n      <td>Ardalan</td>\n      <td>&lt;NA&gt;</td>\n      <td>M.D.</td>\n      <td>M</td>\n      <td>I</td>\n      <td>900 Seton Dr</td>\n      <td>&lt;NA&gt;</td>\n      <td>Cumberland</td>\n      <td>MD</td>\n      <td>24</td>\n      <td>21502</td>\n      <td>1</td>\n      <td>Metropolitan area core: primary flow within an...</td>\n      <td>US</td>\n      <td>Internal Medicine</td>\n      <td>Y</td>\n      <td>99217</td>\n      <td>Hospital observation care on day of discharge</td>\n      <td>N</td>\n      <td>F</td>\n      <td>40</td>\n      <td>40</td>\n      <td>40</td>\n      <td>232.275</td>\n      <td>72.59</td>\n      <td>57.87</td>\n      <td>58.19175</td>\n    </tr>\n    <tr>\n      <th>1</th>\n      <td>1003000126</td>\n      <td>Enkeshafi</td>\n      <td>Ardalan</td>\n      <td>&lt;NA&gt;</td>\n      <td>M.D.</td>\n      <td>M</td>\n      <td>I</td>\n      <td>900 Seton Dr</td>\n      <td>&lt;NA&gt;</td>\n      <td>Cumberland</td>\n      <td>MD</td>\n      <td>24</td>\n      <td>21502</td>\n      <td>1</td>\n      <td>Metropolitan area core: primary flow within an...</td>\n      <td>US</td>\n      <td>Internal Medicine</td>\n      <td>Y</td>\n      <td>99220</td>\n      <td>Hospital observation care, typically 70 minutes</td>\n      <td>N</td>\n      <td>F</td>\n      <td>25</td>\n      <td>25</td>\n      <td>25</td>\n      <td>712.8</td>\n      <td>186.7252</td>\n      <td>148.8516</td>\n      <td>147.77</td>\n    </tr>\n    <tr>\n      <th>2</th>\n      <td>1003000126</td>\n      <td>Enkeshafi</td>\n      <td>Ardalan</td>\n      <td>&lt;NA&gt;</td>\n      <td>M.D.</td>\n      <td>M</td>\n      <td>I</td>\n      <td>900 Seton Dr</td>\n      <td>&lt;NA&gt;</td>\n      <td>Cumberland</td>\n      <td>MD</td>\n      <td>24</td>\n      <td>21502</td>\n      <td>1</td>\n      <td>Metropolitan area core: primary flow within an...</td>\n      <td>US</td>\n      <td>Internal Medicine</td>\n      <td>Y</td>\n      <td>99221</td>\n      <td>Initial hospital inpatient care, typically 30 ...</td>\n      <td>N</td>\n      <td>F</td>\n      <td>24</td>\n      <td>24</td>\n      <td>24</td>\n      <td>320.16666667</td>\n      <td>101.12125</td>\n      <td>80.615833333</td>\n      <td>80.81</td>\n    </tr>\n    <tr>\n      <th>3</th>\n      <td>1003000126</td>\n      <td>Enkeshafi</td>\n      <td>Ardalan</td>\n      <td>&lt;NA&gt;</td>\n      <td>M.D.</td>\n      <td>M</td>\n      <td>I</td>\n      <td>900 Seton Dr</td>\n      <td>&lt;NA&gt;</td>\n      <td>Cumberland</td>\n      <td>MD</td>\n      <td>24</td>\n      <td>21502</td>\n      <td>1</td>\n      <td>Metropolitan area core: primary flow within an...</td>\n      <td>US</td>\n      <td>Internal Medicine</td>\n      <td>Y</td>\n      <td>99223</td>\n      <td>Initial hospital inpatient care, typically 70 ...</td>\n      <td>N</td>\n      <td>F</td>\n      <td>157</td>\n      <td>158</td>\n      <td>158</td>\n      <td>651.41772152</td>\n      <td>200.93</td>\n      <td>160.19</td>\n      <td>161.06</td>\n    </tr>\n    <tr>\n      <th>4</th>\n      <td>1003000126</td>\n      <td>Enkeshafi</td>\n      <td>Ardalan</td>\n      <td>&lt;NA&gt;</td>\n      <td>M.D.</td>\n      <td>M</td>\n      <td>I</td>\n      <td>900 Seton Dr</td>\n      <td>&lt;NA&gt;</td>\n      <td>Cumberland</td>\n      <td>MD</td>\n      <td>24</td>\n      <td>21502</td>\n      <td>1</td>\n      <td>Metropolitan area core: primary flow within an...</td>\n      <td>US</td>\n      <td>Internal Medicine</td>\n      <td>Y</td>\n      <td>99232</td>\n      <td>Subsequent hospital inpatient care, typically ...</td>\n      <td>N</td>\n      <td>F</td>\n      <td>117</td>\n      <td>205</td>\n      <td>205</td>\n      <td>245.61463415</td>\n      <td>72.756390244</td>\n      <td>58.005560976</td>\n      <td>57.93</td>\n    </tr>\n  </tbody>\n</table>\n</div>\n      <button class=\"colab-df-convert\" onclick=\"convertToInteractive('df-f32750f8-79c5-4d08-a2b5-50579f7d02ce')\"\n              title=\"Convert this dataframe to an interactive table.\"\n              style=\"display:none;\">\n        \n  <svg xmlns=\"http://www.w3.org/2000/svg\" height=\"24px\"viewBox=\"0 0 24 24\"\n       width=\"24px\">\n    <path d=\"M0 0h24v24H0V0z\" fill=\"none\"/>\n    <path d=\"M18.56 5.44l.94 2.06.94-2.06 2.06-.94-2.06-.94-.94-2.06-.94 2.06-2.06.94zm-11 1L8.5 8.5l.94-2.06 2.06-.94-2.06-.94L8.5 2.5l-.94 2.06-2.06.94zm10 10l.94 2.06.94-2.06 2.06-.94-2.06-.94-.94-2.06-.94 2.06-2.06.94z\"/><path d=\"M17.41 7.96l-1.37-1.37c-.4-.4-.92-.59-1.43-.59-.52 0-1.04.2-1.43.59L10.3 9.45l-7.72 7.72c-.78.78-.78 2.05 0 2.83L4 21.41c.39.39.9.59 1.41.59.51 0 1.02-.2 1.41-.59l7.78-7.78 2.81-2.81c.8-.78.8-2.07 0-2.86zM5.41 20L4 18.59l7.72-7.72 1.47 1.35L5.41 20z\"/>\n  </svg>\n      </button>\n      \n  <style>\n    .colab-df-container {\n      display:flex;\n      flex-wrap:wrap;\n      gap: 12px;\n    }\n\n    .colab-df-convert {\n      background-color: #E8F0FE;\n      border: none;\n      border-radius: 50%;\n      cursor: pointer;\n      display: none;\n      fill: #1967D2;\n      height: 32px;\n      padding: 0 0 0 0;\n      width: 32px;\n    }\n\n    .colab-df-convert:hover {\n      background-color: #E2EBFA;\n      box-shadow: 0px 1px 2px rgba(60, 64, 67, 0.3), 0px 1px 3px 1px rgba(60, 64, 67, 0.15);\n      fill: #174EA6;\n    }\n\n    [theme=dark] .colab-df-convert {\n      background-color: #3B4455;\n      fill: #D2E3FC;\n    }\n\n    [theme=dark] .colab-df-convert:hover {\n      background-color: #434B5C;\n      box-shadow: 0px 1px 3px 1px rgba(0, 0, 0, 0.15);\n      filter: drop-shadow(0px 1px 2px rgba(0, 0, 0, 0.3));\n      fill: #FFFFFF;\n    }\n  </style>\n\n      <script>\n        const buttonEl =\n          document.querySelector('#df-f32750f8-79c5-4d08-a2b5-50579f7d02ce button.colab-df-convert');\n        buttonEl.style.display =\n          google.colab.kernel.accessAllowed ? 'block' : 'none';\n\n        async function convertToInteractive(key) {\n          const element = document.querySelector('#df-f32750f8-79c5-4d08-a2b5-50579f7d02ce');\n          const dataTable =\n            await google.colab.kernel.invokeFunction('convertToInteractive',\n                                                     [key], {});\n          if (!dataTable) return;\n\n          const docLinkHtml = 'Like what you see? Visit the ' +\n            '<a target=\"_blank\" href=https://colab.research.google.com/notebooks/data_table.ipynb>data table notebook</a>'\n            + ' to learn more about interactive tables.';\n          element.innerHTML = '';\n          dataTable['output_type'] = 'display_data';\n          await google.colab.output.renderOutput(dataTable, element);\n          const docLink = document.createElement('div');\n          docLink.innerHTML = docLinkHtml;\n          element.appendChild(docLink);\n        }\n      </script>\n    </div>\n  </div>\n  ",
      "text/plain": "   Rndrng_NPI Rndrng_Prvdr_Last_Org_Name  ... Avg_Mdcr_Pymt_Amt Avg_Mdcr_Stdzd_Amt\n0  1003000126                  Enkeshafi  ...             57.87           58.19175\n1  1003000126                  Enkeshafi  ...          148.8516             147.77\n2  1003000126                  Enkeshafi  ...      80.615833333              80.81\n3  1003000126                  Enkeshafi  ...            160.19             161.06\n4  1003000126                  Enkeshafi  ...      58.005560976              57.93\n\n[5 rows x 29 columns]"
     },
     "metadata": {},
     "execution_count": 7
    }
   ],
   "execution_count": null
  },
  {
   "cell_type": "code",
   "metadata": {
    "colab": {
     "base_uri": "https://localhost:8080/",
     "height": 357
    },
    "id": "w_pFK0Tgvnat",
    "executionInfo": {
     "status": "ok",
     "timestamp": 1642955164203,
     "user_tz": -330,
     "elapsed": 31849,
     "user": {
      "displayName": "Himank Kansal",
      "photoUrl": "https://lh3.googleusercontent.com/a/default-user=s64",
      "userId": "12921478214650450287"
     }
    },
    "outputId": "1b91c01d-14b4-4a59-a5bd-cea145c604bb",
    "cell_id": "00009-53c39877-5f73-4f2a-9440-4e05273ebfaa",
    "deepnote_output_heights": [
     1
    ],
    "deepnote_cell_type": "code"
   },
   "source": "df_prov = pd.read_csv('MUP_PHY_R21_P04_V10_D19_Prov.csv', dtype=\"string\", encoding='latin-1')\n\ndf_prov.head()",
   "outputs": [
    {
     "output_type": "execute_result",
     "data": {
      "text/html": "\n  <div id=\"df-f3a6236e-b5ea-4638-8a0a-aa0f6753f1df\">\n    <div class=\"colab-df-container\">\n      <div>\n<style scoped>\n    .dataframe tbody tr th:only-of-type {\n        vertical-align: middle;\n    }\n\n    .dataframe tbody tr th {\n        vertical-align: top;\n    }\n\n    .dataframe thead th {\n        text-align: right;\n    }\n</style>\n<table border=\"1\" class=\"dataframe\">\n  <thead>\n    <tr style=\"text-align: right;\">\n      <th></th>\n      <th>Rndrng_NPI</th>\n      <th>Rndrng_Prvdr_Last_Org_Name</th>\n      <th>Rndrng_Prvdr_First_Name</th>\n      <th>Rndrng_Prvdr_MI</th>\n      <th>Rndrng_Prvdr_Crdntls</th>\n      <th>Rndrng_Prvdr_Gndr</th>\n      <th>Rndrng_Prvdr_Ent_Cd</th>\n      <th>Rndrng_Prvdr_St1</th>\n      <th>Rndrng_Prvdr_St2</th>\n      <th>Rndrng_Prvdr_City</th>\n      <th>Rndrng_Prvdr_State_Abrvtn</th>\n      <th>Rndrng_Prvdr_State_FIPS</th>\n      <th>Rndrng_Prvdr_Zip5</th>\n      <th>Rndrng_Prvdr_RUCA</th>\n      <th>Rndrng_Prvdr_RUCA_Desc</th>\n      <th>Rndrng_Prvdr_Cntry</th>\n      <th>Rndrng_Prvdr_Type</th>\n      <th>Rndrng_Prvdr_Mdcr_Prtcptg_Ind</th>\n      <th>Tot_HCPCS_Cds</th>\n      <th>Tot_Benes</th>\n      <th>Tot_Srvcs</th>\n      <th>Tot_Sbmtd_Chrg</th>\n      <th>Tot_Mdcr_Alowd_Amt</th>\n      <th>Tot_Mdcr_Pymt_Amt</th>\n      <th>Tot_Mdcr_Stdzd_Amt</th>\n      <th>Drug_Sprsn_Ind</th>\n      <th>Drug_Tot_HCPCS_Cds</th>\n      <th>Drug_Tot_Benes</th>\n      <th>Drug_Tot_Srvcs</th>\n      <th>Drug_Sbmtd_Chrg</th>\n      <th>Drug_Mdcr_Alowd_Amt</th>\n      <th>Drug_Mdcr_Pymt_Amt</th>\n      <th>Drug_Mdcr_Stdzd_Amt</th>\n      <th>Med_Sprsn_Ind</th>\n      <th>Med_Tot_HCPCS_Cds</th>\n      <th>Med_Tot_Benes</th>\n      <th>Med_Tot_Srvcs</th>\n      <th>Med_Sbmtd_Chrg</th>\n      <th>Med_Mdcr_Alowd_Amt</th>\n      <th>Med_Mdcr_Pymt_Amt</th>\n      <th>Med_Mdcr_Stdzd_Amt</th>\n      <th>Bene_Avg_Age</th>\n      <th>Bene_Age_LT_65_Cnt</th>\n      <th>Bene_Age_65_74_Cnt</th>\n      <th>Bene_Age_75_84_Cnt</th>\n      <th>Bene_Age_GT_84_Cnt</th>\n      <th>Bene_Feml_Cnt</th>\n      <th>Bene_Male_Cnt</th>\n      <th>Bene_Race_Wht_Cnt</th>\n      <th>Bene_Race_Black_Cnt</th>\n      <th>Bene_Race_API_Cnt</th>\n      <th>Bene_Race_Hspnc_Cnt</th>\n      <th>Bene_Race_NatInd_Cnt</th>\n      <th>Bene_Race_Othr_Cnt</th>\n      <th>Bene_Dual_Cnt</th>\n      <th>Bene_Ndual_Cnt</th>\n      <th>Bene_CC_AF_Pct</th>\n      <th>Bene_CC_Alzhmr_Pct</th>\n      <th>Bene_CC_Asthma_Pct</th>\n      <th>Bene_CC_Cncr_Pct</th>\n      <th>Bene_CC_CHF_Pct</th>\n      <th>Bene_CC_CKD_Pct</th>\n      <th>Bene_CC_COPD_Pct</th>\n      <th>Bene_CC_Dprssn_Pct</th>\n      <th>Bene_CC_Dbts_Pct</th>\n      <th>Bene_CC_Hyplpdma_Pct</th>\n      <th>Bene_CC_Hyprtnsn_Pct</th>\n      <th>Bene_CC_IHD_Pct</th>\n      <th>Bene_CC_Opo_Pct</th>\n      <th>Bene_CC_RAOA_Pct</th>\n      <th>Bene_CC_Sz_Pct</th>\n      <th>Bene_CC_Strok_Pct</th>\n      <th>Bene_Avg_Risk_Scre</th>\n    </tr>\n  </thead>\n  <tbody>\n    <tr>\n      <th>0</th>\n      <td>1003000126</td>\n      <td>Enkeshafi</td>\n      <td>Ardalan</td>\n      <td>&lt;NA&gt;</td>\n      <td>M.D.</td>\n      <td>M</td>\n      <td>I</td>\n      <td>900 Seton Dr</td>\n      <td>&lt;NA&gt;</td>\n      <td>Cumberland</td>\n      <td>MD</td>\n      <td>24</td>\n      <td>21502</td>\n      <td>1</td>\n      <td>Metropolitan area core: primary flow within an...</td>\n      <td>US</td>\n      <td>Internal Medicine</td>\n      <td>Y</td>\n      <td>18</td>\n      <td>610</td>\n      <td>1392</td>\n      <td>519136</td>\n      <td>156626.32</td>\n      <td>124877.67</td>\n      <td>125266.1</td>\n      <td>&lt;NA&gt;</td>\n      <td>0</td>\n      <td>0</td>\n      <td>0</td>\n      <td>0</td>\n      <td>0</td>\n      <td>0</td>\n      <td>0</td>\n      <td>&lt;NA&gt;</td>\n      <td>18</td>\n      <td>610</td>\n      <td>1392</td>\n      <td>519136</td>\n      <td>156626.32</td>\n      <td>124877.67</td>\n      <td>125266.1</td>\n      <td>75</td>\n      <td>82</td>\n      <td>200</td>\n      <td>184</td>\n      <td>144</td>\n      <td>345</td>\n      <td>265</td>\n      <td>402</td>\n      <td>175</td>\n      <td>&lt;NA&gt;</td>\n      <td>15</td>\n      <td>&lt;NA&gt;</td>\n      <td>&lt;NA&gt;</td>\n      <td>106</td>\n      <td>504</td>\n      <td>0.3</td>\n      <td>0.37</td>\n      <td>0.14</td>\n      <td>0.19</td>\n      <td>0.51</td>\n      <td>0.7</td>\n      <td>0.36</td>\n      <td>0.41</td>\n      <td>0.54</td>\n      <td>0.75</td>\n      <td>0.75</td>\n      <td>0.61</td>\n      <td>0.11</td>\n      <td>0.54</td>\n      <td>0.08</td>\n      <td>0.21</td>\n      <td>2.5917</td>\n    </tr>\n    <tr>\n      <th>1</th>\n      <td>1003000134</td>\n      <td>Cibull</td>\n      <td>Thomas</td>\n      <td>L</td>\n      <td>M.D.</td>\n      <td>M</td>\n      <td>I</td>\n      <td>2650 Ridge Ave</td>\n      <td>Evanston Hospital</td>\n      <td>Evanston</td>\n      <td>IL</td>\n      <td>17</td>\n      <td>60201</td>\n      <td>1</td>\n      <td>Metropolitan area core: primary flow within an...</td>\n      <td>US</td>\n      <td>Pathology</td>\n      <td>Y</td>\n      <td>20</td>\n      <td>3614</td>\n      <td>7835</td>\n      <td>1213264</td>\n      <td>298905.09</td>\n      <td>228078.56</td>\n      <td>218268.63</td>\n      <td>&lt;NA&gt;</td>\n      <td>0</td>\n      <td>0</td>\n      <td>0</td>\n      <td>0</td>\n      <td>0</td>\n      <td>0</td>\n      <td>0</td>\n      <td>&lt;NA&gt;</td>\n      <td>20</td>\n      <td>3614</td>\n      <td>7835</td>\n      <td>1213264</td>\n      <td>298905.09</td>\n      <td>228078.56</td>\n      <td>218268.63</td>\n      <td>76</td>\n      <td>97</td>\n      <td>1623</td>\n      <td>1333</td>\n      <td>561</td>\n      <td>1767</td>\n      <td>1847</td>\n      <td>3312</td>\n      <td>41</td>\n      <td>62</td>\n      <td>43</td>\n      <td>0</td>\n      <td>156</td>\n      <td>195</td>\n      <td>3419</td>\n      <td>0.12</td>\n      <td>0.07</td>\n      <td>0.04</td>\n      <td>0.13</td>\n      <td>0.12</td>\n      <td>0.22</td>\n      <td>0.07</td>\n      <td>0.16</td>\n      <td>0.21</td>\n      <td>0.53</td>\n      <td>0.53</td>\n      <td>0.26</td>\n      <td>0.1</td>\n      <td>0.41</td>\n      <td>0.01</td>\n      <td>0.03</td>\n      <td>1.1246</td>\n    </tr>\n    <tr>\n      <th>2</th>\n      <td>1003000142</td>\n      <td>Khalil</td>\n      <td>Rashid</td>\n      <td>&lt;NA&gt;</td>\n      <td>M.D.</td>\n      <td>M</td>\n      <td>I</td>\n      <td>4126 N Holland Sylvania Rd</td>\n      <td>Suite 220</td>\n      <td>Toledo</td>\n      <td>OH</td>\n      <td>39</td>\n      <td>43623</td>\n      <td>1</td>\n      <td>Metropolitan area core: primary flow within an...</td>\n      <td>US</td>\n      <td>Anesthesiology</td>\n      <td>Y</td>\n      <td>54</td>\n      <td>264</td>\n      <td>2530</td>\n      <td>215156</td>\n      <td>113631.83</td>\n      <td>83582.18</td>\n      <td>88998.87</td>\n      <td>*</td>\n      <td>&lt;NA&gt;</td>\n      <td>&lt;NA&gt;</td>\n      <td>&lt;NA&gt;</td>\n      <td>&lt;NA&gt;</td>\n      <td>&lt;NA&gt;</td>\n      <td>&lt;NA&gt;</td>\n      <td>&lt;NA&gt;</td>\n      <td>#</td>\n      <td>&lt;NA&gt;</td>\n      <td>&lt;NA&gt;</td>\n      <td>&lt;NA&gt;</td>\n      <td>&lt;NA&gt;</td>\n      <td>&lt;NA&gt;</td>\n      <td>&lt;NA&gt;</td>\n      <td>&lt;NA&gt;</td>\n      <td>65</td>\n      <td>116</td>\n      <td>99</td>\n      <td>37</td>\n      <td>12</td>\n      <td>143</td>\n      <td>121</td>\n      <td>188</td>\n      <td>57</td>\n      <td>&lt;NA&gt;</td>\n      <td>&lt;NA&gt;</td>\n      <td>&lt;NA&gt;</td>\n      <td>&lt;NA&gt;</td>\n      <td>93</td>\n      <td>171</td>\n      <td>0.07</td>\n      <td>0.09</td>\n      <td>0.13</td>\n      <td>0.08</td>\n      <td>0.25</td>\n      <td>0.32</td>\n      <td>0.28</td>\n      <td>0.41</td>\n      <td>0.34</td>\n      <td>0.51</td>\n      <td>0.7</td>\n      <td>0.32</td>\n      <td>0.06</td>\n      <td>0.75</td>\n      <td>0.05</td>\n      <td>0.05</td>\n      <td>1.6146</td>\n    </tr>\n    <tr>\n      <th>3</th>\n      <td>1003000423</td>\n      <td>Velotta</td>\n      <td>Jennifer</td>\n      <td>A</td>\n      <td>M.D.</td>\n      <td>F</td>\n      <td>I</td>\n      <td>11100 Euclid Ave</td>\n      <td>&lt;NA&gt;</td>\n      <td>Cleveland</td>\n      <td>OH</td>\n      <td>39</td>\n      <td>44106</td>\n      <td>1</td>\n      <td>Metropolitan area core: primary flow within an...</td>\n      <td>US</td>\n      <td>Obstetrics &amp; Gynecology</td>\n      <td>Y</td>\n      <td>24</td>\n      <td>74</td>\n      <td>897</td>\n      <td>23150</td>\n      <td>11089.67</td>\n      <td>9007.31</td>\n      <td>9376.96</td>\n      <td>*</td>\n      <td>&lt;NA&gt;</td>\n      <td>&lt;NA&gt;</td>\n      <td>&lt;NA&gt;</td>\n      <td>&lt;NA&gt;</td>\n      <td>&lt;NA&gt;</td>\n      <td>&lt;NA&gt;</td>\n      <td>&lt;NA&gt;</td>\n      <td>#</td>\n      <td>&lt;NA&gt;</td>\n      <td>&lt;NA&gt;</td>\n      <td>&lt;NA&gt;</td>\n      <td>&lt;NA&gt;</td>\n      <td>&lt;NA&gt;</td>\n      <td>&lt;NA&gt;</td>\n      <td>&lt;NA&gt;</td>\n      <td>66</td>\n      <td>16</td>\n      <td>43</td>\n      <td>&lt;NA&gt;</td>\n      <td>&lt;NA&gt;</td>\n      <td>74</td>\n      <td>0</td>\n      <td>&lt;NA&gt;</td>\n      <td>&lt;NA&gt;</td>\n      <td>&lt;NA&gt;</td>\n      <td>&lt;NA&gt;</td>\n      <td>&lt;NA&gt;</td>\n      <td>&lt;NA&gt;</td>\n      <td>&lt;NA&gt;</td>\n      <td>&lt;NA&gt;</td>\n      <td>&lt;NA&gt;</td>\n      <td>&lt;NA&gt;</td>\n      <td>&lt;NA&gt;</td>\n      <td>&lt;NA&gt;</td>\n      <td>&lt;NA&gt;</td>\n      <td>&lt;NA&gt;</td>\n      <td>&lt;NA&gt;</td>\n      <td>0.22</td>\n      <td>0.19</td>\n      <td>0.43</td>\n      <td>0.46</td>\n      <td>&lt;NA&gt;</td>\n      <td>&lt;NA&gt;</td>\n      <td>0.43</td>\n      <td>0</td>\n      <td>0</td>\n      <td>0.9065</td>\n    </tr>\n    <tr>\n      <th>4</th>\n      <td>1003000480</td>\n      <td>Rothchild</td>\n      <td>Kevin</td>\n      <td>B</td>\n      <td>MD</td>\n      <td>M</td>\n      <td>I</td>\n      <td>12605 E 16th Ave</td>\n      <td>&lt;NA&gt;</td>\n      <td>Aurora</td>\n      <td>CO</td>\n      <td>08</td>\n      <td>80045</td>\n      <td>1</td>\n      <td>Metropolitan area core: primary flow within an...</td>\n      <td>US</td>\n      <td>General Surgery</td>\n      <td>Y</td>\n      <td>30</td>\n      <td>104</td>\n      <td>159</td>\n      <td>210964.25</td>\n      <td>40069.88</td>\n      <td>31113.49</td>\n      <td>30002.44</td>\n      <td>&lt;NA&gt;</td>\n      <td>0</td>\n      <td>0</td>\n      <td>0</td>\n      <td>0</td>\n      <td>0</td>\n      <td>0</td>\n      <td>0</td>\n      <td>&lt;NA&gt;</td>\n      <td>30</td>\n      <td>104</td>\n      <td>159</td>\n      <td>210964.25</td>\n      <td>40069.88</td>\n      <td>31113.49</td>\n      <td>30002.44</td>\n      <td>64</td>\n      <td>45</td>\n      <td>40</td>\n      <td>&lt;NA&gt;</td>\n      <td>&lt;NA&gt;</td>\n      <td>60</td>\n      <td>44</td>\n      <td>73</td>\n      <td>16</td>\n      <td>&lt;NA&gt;</td>\n      <td>&lt;NA&gt;</td>\n      <td>&lt;NA&gt;</td>\n      <td>&lt;NA&gt;</td>\n      <td>44</td>\n      <td>60</td>\n      <td>0.11</td>\n      <td>&lt;NA&gt;</td>\n      <td>0.17</td>\n      <td>0.12</td>\n      <td>0.21</td>\n      <td>0.37</td>\n      <td>0.14</td>\n      <td>0.55</td>\n      <td>0.38</td>\n      <td>0.38</td>\n      <td>0.67</td>\n      <td>0.29</td>\n      <td>0.15</td>\n      <td>0.53</td>\n      <td>&lt;NA&gt;</td>\n      <td>&lt;NA&gt;</td>\n      <td>1.7191</td>\n    </tr>\n  </tbody>\n</table>\n</div>\n      <button class=\"colab-df-convert\" onclick=\"convertToInteractive('df-f3a6236e-b5ea-4638-8a0a-aa0f6753f1df')\"\n              title=\"Convert this dataframe to an interactive table.\"\n              style=\"display:none;\">\n        \n  <svg xmlns=\"http://www.w3.org/2000/svg\" height=\"24px\"viewBox=\"0 0 24 24\"\n       width=\"24px\">\n    <path d=\"M0 0h24v24H0V0z\" fill=\"none\"/>\n    <path d=\"M18.56 5.44l.94 2.06.94-2.06 2.06-.94-2.06-.94-.94-2.06-.94 2.06-2.06.94zm-11 1L8.5 8.5l.94-2.06 2.06-.94-2.06-.94L8.5 2.5l-.94 2.06-2.06.94zm10 10l.94 2.06.94-2.06 2.06-.94-2.06-.94-.94-2.06-.94 2.06-2.06.94z\"/><path d=\"M17.41 7.96l-1.37-1.37c-.4-.4-.92-.59-1.43-.59-.52 0-1.04.2-1.43.59L10.3 9.45l-7.72 7.72c-.78.78-.78 2.05 0 2.83L4 21.41c.39.39.9.59 1.41.59.51 0 1.02-.2 1.41-.59l7.78-7.78 2.81-2.81c.8-.78.8-2.07 0-2.86zM5.41 20L4 18.59l7.72-7.72 1.47 1.35L5.41 20z\"/>\n  </svg>\n      </button>\n      \n  <style>\n    .colab-df-container {\n      display:flex;\n      flex-wrap:wrap;\n      gap: 12px;\n    }\n\n    .colab-df-convert {\n      background-color: #E8F0FE;\n      border: none;\n      border-radius: 50%;\n      cursor: pointer;\n      display: none;\n      fill: #1967D2;\n      height: 32px;\n      padding: 0 0 0 0;\n      width: 32px;\n    }\n\n    .colab-df-convert:hover {\n      background-color: #E2EBFA;\n      box-shadow: 0px 1px 2px rgba(60, 64, 67, 0.3), 0px 1px 3px 1px rgba(60, 64, 67, 0.15);\n      fill: #174EA6;\n    }\n\n    [theme=dark] .colab-df-convert {\n      background-color: #3B4455;\n      fill: #D2E3FC;\n    }\n\n    [theme=dark] .colab-df-convert:hover {\n      background-color: #434B5C;\n      box-shadow: 0px 1px 3px 1px rgba(0, 0, 0, 0.15);\n      filter: drop-shadow(0px 1px 2px rgba(0, 0, 0, 0.3));\n      fill: #FFFFFF;\n    }\n  </style>\n\n      <script>\n        const buttonEl =\n          document.querySelector('#df-f3a6236e-b5ea-4638-8a0a-aa0f6753f1df button.colab-df-convert');\n        buttonEl.style.display =\n          google.colab.kernel.accessAllowed ? 'block' : 'none';\n\n        async function convertToInteractive(key) {\n          const element = document.querySelector('#df-f3a6236e-b5ea-4638-8a0a-aa0f6753f1df');\n          const dataTable =\n            await google.colab.kernel.invokeFunction('convertToInteractive',\n                                                     [key], {});\n          if (!dataTable) return;\n\n          const docLinkHtml = 'Like what you see? Visit the ' +\n            '<a target=\"_blank\" href=https://colab.research.google.com/notebooks/data_table.ipynb>data table notebook</a>'\n            + ' to learn more about interactive tables.';\n          element.innerHTML = '';\n          dataTable['output_type'] = 'display_data';\n          await google.colab.output.renderOutput(dataTable, element);\n          const docLink = document.createElement('div');\n          docLink.innerHTML = docLinkHtml;\n          element.appendChild(docLink);\n        }\n      </script>\n    </div>\n  </div>\n  ",
      "text/plain": "   Rndrng_NPI Rndrng_Prvdr_Last_Org_Name  ... Bene_CC_Strok_Pct Bene_Avg_Risk_Scre\n0  1003000126                  Enkeshafi  ...              0.21             2.5917\n1  1003000134                     Cibull  ...              0.03             1.1246\n2  1003000142                     Khalil  ...              0.05             1.6146\n3  1003000423                    Velotta  ...                 0             0.9065\n4  1003000480                  Rothchild  ...              <NA>             1.7191\n\n[5 rows x 73 columns]"
     },
     "metadata": {},
     "execution_count": 4
    }
   ],
   "execution_count": null
  },
  {
   "cell_type": "code",
   "metadata": {
    "id": "3LXzGvN5nGch",
    "executionInfo": {
     "status": "ok",
     "timestamp": 1642955169705,
     "user_tz": -330,
     "elapsed": 3868,
     "user": {
      "displayName": "Himank Kansal",
      "photoUrl": "https://lh3.googleusercontent.com/a/default-user=s64",
      "userId": "12921478214650450287"
     }
    },
    "cell_id": "00010-d1e96bd9-aa4a-4dc5-a3a1-1e49e386c8d3",
    "deepnote_cell_type": "code"
   },
   "source": "df_prov['Rndrng_Prvdr_Zip5'] = df_prov['Rndrng_Prvdr_Zip5'].astype(str)\n\ndf_prov['Tot_Benes'] = df_prov['Tot_Benes'].fillna('0')\ndf_prov['Tot_Srvcs'] = df_prov['Tot_Srvcs'].fillna('0')\ndf_prov['Tot_Sbmtd_Chrg'] = df_prov['Tot_Sbmtd_Chrg'].fillna('0')\ndf_prov['Tot_Mdcr_Alowd_Amt'] = df_prov['Tot_Mdcr_Alowd_Amt'].fillna('0')\ndf_prov['Tot_Mdcr_Pymt_Amt'] = df_prov['Tot_Mdcr_Pymt_Amt'].fillna('0')\ndf_prov['Tot_Mdcr_Stdzd_Amt'] = df_prov['Tot_Mdcr_Stdzd_Amt'].fillna('0')\n\ndf_prov['Drug_Tot_Benes'] = df_prov['Drug_Tot_Benes'].fillna('0')\ndf_prov['Drug_Tot_Srvcs'] = df_prov['Drug_Tot_Srvcs'].fillna('0')\ndf_prov['Med_Sbmtd_Chrg'] = df_prov['Med_Sbmtd_Chrg'].fillna('0')\ndf_prov['Med_Mdcr_Alowd_Amt'] = df_prov['Med_Mdcr_Alowd_Amt'].fillna('0')\ndf_prov['Med_Mdcr_Pymt_Amt'] = df_prov['Med_Mdcr_Pymt_Amt'].fillna('0')\ndf_prov['Med_Mdcr_Stdzd_Amt'] = df_prov['Med_Mdcr_Stdzd_Amt'].fillna('0')\n\ndf_prov['Tot_Benes'] = df_prov['Tot_Benes'].astype(float)\ndf_prov['Tot_Srvcs'] = df_prov['Tot_Srvcs'].astype(float)\ndf_prov['Tot_Sbmtd_Chrg'] = df_prov['Tot_Sbmtd_Chrg'].astype(float)\ndf_prov['Tot_Mdcr_Alowd_Amt'] = df_prov['Tot_Mdcr_Alowd_Amt'].astype(float)\ndf_prov['Tot_Mdcr_Pymt_Amt'] = df_prov['Tot_Mdcr_Pymt_Amt'].astype(float)\ndf_prov['Tot_Mdcr_Stdzd_Amt'] = df_prov['Tot_Mdcr_Stdzd_Amt'].astype(float)\n\ndf_prov['Drug_Tot_Benes'] = df_prov['Drug_Tot_Benes'].astype(float)\ndf_prov['Drug_Tot_Srvcs'] = df_prov['Drug_Tot_Srvcs'].astype(float)\ndf_prov['Med_Sbmtd_Chrg'] = df_prov['Med_Sbmtd_Chrg'].astype(float)\ndf_prov['Med_Mdcr_Alowd_Amt'] = df_prov['Med_Mdcr_Alowd_Amt'].astype(float)\ndf_prov['Med_Mdcr_Pymt_Amt'] = df_prov['Med_Mdcr_Pymt_Amt'].astype(float)\ndf_prov['Med_Mdcr_Stdzd_Amt'] = df_prov['Med_Mdcr_Stdzd_Amt'].astype(float)",
   "outputs": [],
   "execution_count": null
  },
  {
   "cell_type": "code",
   "metadata": {
    "colab": {
     "base_uri": "https://localhost:8080/",
     "height": 617
    },
    "id": "k1nASWHhwDvT",
    "executionInfo": {
     "status": "ok",
     "timestamp": 1642318036858,
     "user_tz": -330,
     "elapsed": 4120,
     "user": {
      "displayName": "Himank Kansal",
      "photoUrl": "https://lh3.googleusercontent.com/a/default-user=s64",
      "userId": "12921478214650450287"
     }
    },
    "outputId": "93221a0a-aa05-476d-cd60-d3204085100a",
    "cell_id": "00011-da7ef6f8-ec01-4dc0-ad64-77217aa46ea6",
    "deepnote_output_heights": [
     1
    ],
    "deepnote_cell_type": "code"
   },
   "source": "#df_geo = pd.read_csv('MUP_PHY_R21_P04_V10_D19_Geo.csv', dtype=\"string\", encoding='latin-1')\n\n#df_geo.head()",
   "outputs": [
    {
     "output_type": "execute_result",
     "data": {
      "text/html": "\n  <div id=\"df-80abade2-fa17-45e6-9b48-91253addad3c\">\n    <div class=\"colab-df-container\">\n      <div>\n<style scoped>\n    .dataframe tbody tr th:only-of-type {\n        vertical-align: middle;\n    }\n\n    .dataframe tbody tr th {\n        vertical-align: top;\n    }\n\n    .dataframe thead th {\n        text-align: right;\n    }\n</style>\n<table border=\"1\" class=\"dataframe\">\n  <thead>\n    <tr style=\"text-align: right;\">\n      <th></th>\n      <th>Rndrng_Prvdr_Geo_Lvl</th>\n      <th>Rndrng_Prvdr_Geo_Cd</th>\n      <th>Rndrng_Prvdr_Geo_Desc</th>\n      <th>HCPCS_Cd</th>\n      <th>HCPCS_Desc</th>\n      <th>HCPCS_Drug_Ind</th>\n      <th>Place_Of_Srvc</th>\n      <th>Tot_Rndrng_Prvdrs</th>\n      <th>Tot_Benes</th>\n      <th>Tot_Srvcs</th>\n      <th>Tot_Bene_Day_Srvcs</th>\n      <th>Avg_Sbmtd_Chrg</th>\n      <th>Avg_Mdcr_Alowd_Amt</th>\n      <th>Avg_Mdcr_Pymt_Amt</th>\n      <th>Avg_Mdcr_Stdzd_Amt</th>\n    </tr>\n  </thead>\n  <tbody>\n    <tr>\n      <th>0</th>\n      <td>National</td>\n      <td>&lt;NA&gt;</td>\n      <td>National</td>\n      <td>0003M</td>\n      <td>Liver disease, ten biochemical assays (alt, a2...</td>\n      <td>N</td>\n      <td>O</td>\n      <td>12</td>\n      <td>41</td>\n      <td>42</td>\n      <td>42</td>\n      <td>680.54714286</td>\n      <td>438.21166667</td>\n      <td>438.21166667</td>\n      <td>447.51357143</td>\n    </tr>\n    <tr>\n      <th>1</th>\n      <td>National</td>\n      <td>&lt;NA&gt;</td>\n      <td>National</td>\n      <td>0005U</td>\n      <td>Test for detecting genes associated with prost...</td>\n      <td>N</td>\n      <td>O</td>\n      <td>1</td>\n      <td>539</td>\n      <td>540</td>\n      <td>540</td>\n      <td>795</td>\n      <td>744.8</td>\n      <td>744.8</td>\n      <td>744.8</td>\n    </tr>\n    <tr>\n      <th>2</th>\n      <td>National</td>\n      <td>&lt;NA&gt;</td>\n      <td>National</td>\n      <td>00100</td>\n      <td>Anesthesia for procedure on salivary gland wit...</td>\n      <td>N</td>\n      <td>F</td>\n      <td>9574</td>\n      <td>8232</td>\n      <td>12019</td>\n      <td>12016</td>\n      <td>1959.5081255</td>\n      <td>237.03888676</td>\n      <td>187.54344288</td>\n      <td>186.4306964</td>\n    </tr>\n    <tr>\n      <th>3</th>\n      <td>National</td>\n      <td>&lt;NA&gt;</td>\n      <td>National</td>\n      <td>00100</td>\n      <td>Anesthesia for procedure on salivary gland wit...</td>\n      <td>N</td>\n      <td>O</td>\n      <td>91</td>\n      <td>59</td>\n      <td>99</td>\n      <td>99</td>\n      <td>1409.5910101</td>\n      <td>170.32555556</td>\n      <td>134.01565657</td>\n      <td>129.77858586</td>\n    </tr>\n    <tr>\n      <th>4</th>\n      <td>National</td>\n      <td>&lt;NA&gt;</td>\n      <td>National</td>\n      <td>00102</td>\n      <td>Anesthesia for procedure to repair lip defect ...</td>\n      <td>N</td>\n      <td>F</td>\n      <td>63</td>\n      <td>48</td>\n      <td>70</td>\n      <td>70</td>\n      <td>1210.9484286</td>\n      <td>165.06457143</td>\n      <td>129.08271429</td>\n      <td>128.45257143</td>\n    </tr>\n  </tbody>\n</table>\n</div>\n      <button class=\"colab-df-convert\" onclick=\"convertToInteractive('df-80abade2-fa17-45e6-9b48-91253addad3c')\"\n              title=\"Convert this dataframe to an interactive table.\"\n              style=\"display:none;\">\n        \n  <svg xmlns=\"http://www.w3.org/2000/svg\" height=\"24px\"viewBox=\"0 0 24 24\"\n       width=\"24px\">\n    <path d=\"M0 0h24v24H0V0z\" fill=\"none\"/>\n    <path d=\"M18.56 5.44l.94 2.06.94-2.06 2.06-.94-2.06-.94-.94-2.06-.94 2.06-2.06.94zm-11 1L8.5 8.5l.94-2.06 2.06-.94-2.06-.94L8.5 2.5l-.94 2.06-2.06.94zm10 10l.94 2.06.94-2.06 2.06-.94-2.06-.94-.94-2.06-.94 2.06-2.06.94z\"/><path d=\"M17.41 7.96l-1.37-1.37c-.4-.4-.92-.59-1.43-.59-.52 0-1.04.2-1.43.59L10.3 9.45l-7.72 7.72c-.78.78-.78 2.05 0 2.83L4 21.41c.39.39.9.59 1.41.59.51 0 1.02-.2 1.41-.59l7.78-7.78 2.81-2.81c.8-.78.8-2.07 0-2.86zM5.41 20L4 18.59l7.72-7.72 1.47 1.35L5.41 20z\"/>\n  </svg>\n      </button>\n      \n  <style>\n    .colab-df-container {\n      display:flex;\n      flex-wrap:wrap;\n      gap: 12px;\n    }\n\n    .colab-df-convert {\n      background-color: #E8F0FE;\n      border: none;\n      border-radius: 50%;\n      cursor: pointer;\n      display: none;\n      fill: #1967D2;\n      height: 32px;\n      padding: 0 0 0 0;\n      width: 32px;\n    }\n\n    .colab-df-convert:hover {\n      background-color: #E2EBFA;\n      box-shadow: 0px 1px 2px rgba(60, 64, 67, 0.3), 0px 1px 3px 1px rgba(60, 64, 67, 0.15);\n      fill: #174EA6;\n    }\n\n    [theme=dark] .colab-df-convert {\n      background-color: #3B4455;\n      fill: #D2E3FC;\n    }\n\n    [theme=dark] .colab-df-convert:hover {\n      background-color: #434B5C;\n      box-shadow: 0px 1px 3px 1px rgba(0, 0, 0, 0.15);\n      filter: drop-shadow(0px 1px 2px rgba(0, 0, 0, 0.3));\n      fill: #FFFFFF;\n    }\n  </style>\n\n      <script>\n        const buttonEl =\n          document.querySelector('#df-80abade2-fa17-45e6-9b48-91253addad3c button.colab-df-convert');\n        buttonEl.style.display =\n          google.colab.kernel.accessAllowed ? 'block' : 'none';\n\n        async function convertToInteractive(key) {\n          const element = document.querySelector('#df-80abade2-fa17-45e6-9b48-91253addad3c');\n          const dataTable =\n            await google.colab.kernel.invokeFunction('convertToInteractive',\n                                                     [key], {});\n          if (!dataTable) return;\n\n          const docLinkHtml = 'Like what you see? Visit the ' +\n            '<a target=\"_blank\" href=https://colab.research.google.com/notebooks/data_table.ipynb>data table notebook</a>'\n            + ' to learn more about interactive tables.';\n          element.innerHTML = '';\n          dataTable['output_type'] = 'display_data';\n          await google.colab.output.renderOutput(dataTable, element);\n          const docLink = document.createElement('div');\n          docLink.innerHTML = docLinkHtml;\n          element.appendChild(docLink);\n        }\n      </script>\n    </div>\n  </div>\n  ",
      "text/plain": "  Rndrng_Prvdr_Geo_Lvl Rndrng_Prvdr_Geo_Cd  ... Avg_Mdcr_Pymt_Amt Avg_Mdcr_Stdzd_Amt\n0             National                <NA>  ...      438.21166667       447.51357143\n1             National                <NA>  ...             744.8              744.8\n2             National                <NA>  ...      187.54344288        186.4306964\n3             National                <NA>  ...      134.01565657       129.77858586\n4             National                <NA>  ...      129.08271429       128.45257143\n\n[5 rows x 15 columns]"
     },
     "metadata": {},
     "execution_count": 9
    }
   ],
   "execution_count": null
  },
  {
   "cell_type": "markdown",
   "source": "# EDA",
   "metadata": {
    "id": "FAQqLaFe8_nG",
    "cell_id": "00012-07936cc3-075d-4846-b143-c2308f441da0",
    "deepnote_cell_type": "markdown"
   }
  },
  {
   "cell_type": "code",
   "metadata": {
    "id": "099MhQ4G8j_l",
    "colab": {
     "base_uri": "https://localhost:8080/"
    },
    "executionInfo": {
     "status": "ok",
     "timestamp": 1642946388364,
     "user_tz": -330,
     "elapsed": 4517,
     "user": {
      "displayName": "Himank Kansal",
      "photoUrl": "https://lh3.googleusercontent.com/a/default-user=s64",
      "userId": "12921478214650450287"
     }
    },
    "outputId": "fd3bb3b4-8171-42db-a075-613a7e671900",
    "cell_id": "00013-c8541f05-1c20-4003-91b2-cd1b197cf85f",
    "deepnote_cell_type": "code"
   },
   "source": "# Use random sample for exploration\nfilename = \"MUP_PHY_R21_P04_V10_D19_Prov.csv\"\np = 0.15  # 15% of the lines\n# keep the header, then take only 15% of lines\n# if random from [0,1] interval is greater than 0.15 the row will be skipped\ndf = pd.read_csv(\n         filename,\n         header=0, \n         skiprows = lambda i: i>0 and random.random() > p)\n\ndf['Rndrng_Prvdr_Zip5'] = df['Rndrng_Prvdr_Zip5'].astype(str)",
   "outputs": [
    {
     "output_type": "stream",
     "name": "stderr",
     "text": "/usr/local/lib/python3.7/dist-packages/IPython/core/interactiveshell.py:2718: DtypeWarning: Columns (12) have mixed types.Specify dtype option on import or set low_memory=False.\n  interactivity=interactivity, compiler=compiler, result=result)\n"
    }
   ],
   "execution_count": null
  },
  {
   "cell_type": "code",
   "metadata": {
    "id": "5wrK-l1LBW6q",
    "cell_id": "00014-944086ed-654a-4fb2-8fb4-149d92982743",
    "deepnote_cell_type": "code"
   },
   "source": "#profile = ProfileReport(df_prov_svc, title=\"Pandas Profiling Report\")",
   "outputs": [],
   "execution_count": null
  },
  {
   "cell_type": "code",
   "metadata": {
    "colab": {
     "base_uri": "https://localhost:8080/"
    },
    "id": "JL_bgdHSCLgs",
    "executionInfo": {
     "status": "ok",
     "timestamp": 1641791636717,
     "user_tz": -330,
     "elapsed": 8,
     "user": {
      "displayName": "Himank Kansal",
      "photoUrl": "https://lh3.googleusercontent.com/a/default-user=s64",
      "userId": "12921478214650450287"
     }
    },
    "outputId": "fa2da47e-7efb-480b-dbd9-585e71ada9f9",
    "cell_id": "00015-f296411d-0870-4236-b409-1975ae73c89c",
    "deepnote_cell_type": "code"
   },
   "source": "#profile",
   "outputs": [
    {
     "output_type": "stream",
     "name": "stdout",
     "text": "default\n"
    },
    {
     "output_type": "stream",
     "name": "stderr",
     "text": "/usr/local/lib/python3.7/dist-packages/IPython/core/magics/basic.py:300: UserWarning: %profile is now deprecated. Please use get_ipython().profile instead.\n  warn(\"%profile is now deprecated. Please use get_ipython().profile instead.\")\n"
    }
   ],
   "execution_count": null
  },
  {
   "cell_type": "code",
   "metadata": {
    "id": "IVspbL6ZzFBh",
    "colab": {
     "base_uri": "https://localhost:8080/",
     "height": 166
    },
    "executionInfo": {
     "status": "error",
     "timestamp": 1642953837039,
     "user_tz": -330,
     "elapsed": 11,
     "user": {
      "displayName": "Himank Kansal",
      "photoUrl": "https://lh3.googleusercontent.com/a/default-user=s64",
      "userId": "12921478214650450287"
     }
    },
    "outputId": "2ecd29a6-5804-47fc-8744-d16439538eb2",
    "cell_id": "00016-573476cc-b522-4640-a4b4-79a1ffc6dfa7",
    "deepnote_cell_type": "code"
   },
   "source": "df['Rndrng_Prvdr_Zip5'] = df['Rndrng_Prvdr_Zip5'].astype(str)",
   "outputs": [
    {
     "output_type": "error",
     "ename": "NameError",
     "evalue": "ignored",
     "traceback": [
      "\u001b[0;31m---------------------------------------------------------------------------\u001b[0m",
      "\u001b[0;31mNameError\u001b[0m                                 Traceback (most recent call last)",
      "\u001b[0;32m<ipython-input-10-116e2386e1ae>\u001b[0m in \u001b[0;36m<module>\u001b[0;34m()\u001b[0m\n\u001b[0;32m----> 1\u001b[0;31m \u001b[0mdf\u001b[0m\u001b[0;34m[\u001b[0m\u001b[0;34m'Rndrng_Prvdr_Zip5'\u001b[0m\u001b[0;34m]\u001b[0m \u001b[0;34m=\u001b[0m \u001b[0mdf\u001b[0m\u001b[0;34m[\u001b[0m\u001b[0;34m'Rndrng_Prvdr_Zip5'\u001b[0m\u001b[0;34m]\u001b[0m\u001b[0;34m.\u001b[0m\u001b[0mastype\u001b[0m\u001b[0;34m(\u001b[0m\u001b[0mstr\u001b[0m\u001b[0;34m)\u001b[0m\u001b[0;34m\u001b[0m\u001b[0;34m\u001b[0m\u001b[0m\n\u001b[0m",
      "\u001b[0;31mNameError\u001b[0m: name 'df' is not defined"
     ]
    }
   ],
   "execution_count": null
  },
  {
   "cell_type": "code",
   "metadata": {
    "id": "nunuav6HCNWD",
    "colab": {
     "base_uri": "https://localhost:8080/",
     "height": 66,
     "referenced_widgets": [
      "441a8131566644a4a38420cd33d51792",
      "c302e8be5b2c471c93157cb45cdd7cf7",
      "2f334eb116c04c009898dd33d053fa06",
      "38c3ec321d354d389cdada1154a789ae",
      "a3146fcec3994388861605eafeb50945",
      "73e0403af264460d97d568c5ce639f5f",
      "470dc5eadcfa4b858bae0ae432bda6a3",
      "f68fcf20c499479ba2f396d3bb3fe85c",
      "ff14c16630114b9e9203743a394b65dd",
      "f8da841ac8154333898eddf65f51e834",
      "651f80536409424486766c9a8f5d6634"
     ]
    },
    "executionInfo": {
     "status": "ok",
     "timestamp": 1642946546442,
     "user_tz": -330,
     "elapsed": 147850,
     "user": {
      "displayName": "Himank Kansal",
      "photoUrl": "https://lh3.googleusercontent.com/a/default-user=s64",
      "userId": "12921478214650450287"
     }
    },
    "outputId": "ef1f1f11-aacd-4430-e2fc-e0424ca77160",
    "cell_id": "00017-e6d53ed9-c031-430c-824c-62966e614c92",
    "deepnote_cell_type": "code"
   },
   "source": "report = sv.analyze(df)\nreport.show_html('Report.html')",
   "outputs": [
    {
     "output_type": "display_data",
     "data": {
      "application/vnd.jupyter.widget-view+json": {
       "model_id": "441a8131566644a4a38420cd33d51792",
       "version_minor": 0,
       "version_major": 2
      },
      "text/plain": "                                             |          | [  0%]   00:00 -> (? left)"
     },
     "metadata": {}
    },
    {
     "output_type": "stream",
     "name": "stdout",
     "text": "Report Report.html was generated! NOTEBOOK/COLAB USERS: the web browser MAY not pop up, regardless, the report IS saved in your notebook/colab files.\n"
    }
   ],
   "execution_count": null
  },
  {
   "cell_type": "code",
   "metadata": {
    "colab": {
     "base_uri": "https://localhost:8080/",
     "height": 1000,
     "output_embedded_package_id": "1ErRCoJV08qQC17-8cPmulnGywZsLkreu"
    },
    "id": "4snkDc-_z7dJ",
    "executionInfo": {
     "status": "ok",
     "timestamp": 1642318523843,
     "user_tz": -330,
     "elapsed": 4007,
     "user": {
      "displayName": "Himank Kansal",
      "photoUrl": "https://lh3.googleusercontent.com/a/default-user=s64",
      "userId": "12921478214650450287"
     }
    },
    "outputId": "81a86060-aa87-4181-f39a-6dea17de4989",
    "cell_id": "00018-1e7f800b-f969-4189-a145-8cb2688559e2",
    "deepnote_output_heights": [
     1
    ],
    "deepnote_cell_type": "code"
   },
   "source": "import IPython\nIPython.display.HTML('Report.html')",
   "outputs": [
    {
     "output_type": "display_data",
     "data": {
      "text/plain": "Output hidden; open in https://colab.research.google.com to view."
     },
     "metadata": {}
    }
   ],
   "execution_count": null
  },
  {
   "cell_type": "code",
   "metadata": {
    "colab": {
     "base_uri": "https://localhost:8080/",
     "height": 166
    },
    "id": "LnL5EWfre59i",
    "executionInfo": {
     "status": "error",
     "timestamp": 1642858129116,
     "user_tz": -330,
     "elapsed": 387,
     "user": {
      "displayName": "Himank Kansal",
      "photoUrl": "https://lh3.googleusercontent.com/a/default-user=s64",
      "userId": "12921478214650450287"
     }
    },
    "outputId": "d31c6fdb-e894-4ef3-e91a-81bdb97c92b6",
    "cell_id": "00019-017e7368-4cc5-4d59-bf75-1cb931766479",
    "deepnote_cell_type": "code"
   },
   "source": "#df_geo.count()",
   "outputs": [
    {
     "output_type": "error",
     "ename": "NameError",
     "evalue": "ignored",
     "traceback": [
      "\u001b[0;31m---------------------------------------------------------------------------\u001b[0m",
      "\u001b[0;31mNameError\u001b[0m                                 Traceback (most recent call last)",
      "\u001b[0;32m<ipython-input-10-96d0798ace1e>\u001b[0m in \u001b[0;36m<module>\u001b[0;34m()\u001b[0m\n\u001b[0;32m----> 1\u001b[0;31m \u001b[0mdf_geo\u001b[0m\u001b[0;34m.\u001b[0m\u001b[0mcount\u001b[0m\u001b[0;34m(\u001b[0m\u001b[0;34m)\u001b[0m\u001b[0;34m\u001b[0m\u001b[0;34m\u001b[0m\u001b[0m\n\u001b[0m",
      "\u001b[0;31mNameError\u001b[0m: name 'df_geo' is not defined"
     ]
    }
   ],
   "execution_count": null
  },
  {
   "cell_type": "code",
   "metadata": {
    "colab": {
     "base_uri": "https://localhost:8080/"
    },
    "id": "4Im-Vzxqj6r6",
    "executionInfo": {
     "status": "ok",
     "timestamp": 1642955172736,
     "user_tz": -330,
     "elapsed": 3044,
     "user": {
      "displayName": "Himank Kansal",
      "photoUrl": "https://lh3.googleusercontent.com/a/default-user=s64",
      "userId": "12921478214650450287"
     }
    },
    "outputId": "98e01fc6-837a-433b-ae37-d9f53bccc99b",
    "cell_id": "00020-18e9875f-dd40-4bad-8bf5-7dc6b447eff6",
    "deepnote_output_heights": [
     1
    ],
    "deepnote_cell_type": "code"
   },
   "source": "df_prov.count()",
   "outputs": [
    {
     "output_type": "execute_result",
     "data": {
      "text/plain": "Rndrng_NPI                    1155870\nRndrng_Prvdr_Last_Org_Name    1155870\nRndrng_Prvdr_First_Name       1095941\nRndrng_Prvdr_MI                760923\nRndrng_Prvdr_Crdntls          1033638\n                               ...   \nBene_CC_Opo_Pct                740060\nBene_CC_RAOA_Pct              1049296\nBene_CC_Sz_Pct                 514185\nBene_CC_Strok_Pct              625934\nBene_Avg_Risk_Scre            1155870\nLength: 73, dtype: int64"
     },
     "metadata": {},
     "execution_count": 6
    }
   ],
   "execution_count": null
  },
  {
   "cell_type": "code",
   "metadata": {
    "colab": {
     "base_uri": "https://localhost:8080/"
    },
    "id": "jj8jo5oFk49Z",
    "executionInfo": {
     "status": "ok",
     "timestamp": 1642955172736,
     "user_tz": -330,
     "elapsed": 6,
     "user": {
      "displayName": "Himank Kansal",
      "photoUrl": "https://lh3.googleusercontent.com/a/default-user=s64",
      "userId": "12921478214650450287"
     }
    },
    "outputId": "c839b131-f19a-4328-fd9d-54a561d63ed1",
    "cell_id": "00021-5eb21120-28f5-43d2-92c3-827348f9d7eb",
    "deepnote_output_heights": [
     1
    ],
    "deepnote_cell_type": "code"
   },
   "source": "df_prov.columns",
   "outputs": [
    {
     "output_type": "execute_result",
     "data": {
      "text/plain": "Index(['Rndrng_NPI', 'Rndrng_Prvdr_Last_Org_Name', 'Rndrng_Prvdr_First_Name',\n       'Rndrng_Prvdr_MI', 'Rndrng_Prvdr_Crdntls', 'Rndrng_Prvdr_Gndr',\n       'Rndrng_Prvdr_Ent_Cd', 'Rndrng_Prvdr_St1', 'Rndrng_Prvdr_St2',\n       'Rndrng_Prvdr_City', 'Rndrng_Prvdr_State_Abrvtn',\n       'Rndrng_Prvdr_State_FIPS', 'Rndrng_Prvdr_Zip5', 'Rndrng_Prvdr_RUCA',\n       'Rndrng_Prvdr_RUCA_Desc', 'Rndrng_Prvdr_Cntry', 'Rndrng_Prvdr_Type',\n       'Rndrng_Prvdr_Mdcr_Prtcptg_Ind', 'Tot_HCPCS_Cds', 'Tot_Benes',\n       'Tot_Srvcs', 'Tot_Sbmtd_Chrg', 'Tot_Mdcr_Alowd_Amt',\n       'Tot_Mdcr_Pymt_Amt', 'Tot_Mdcr_Stdzd_Amt', 'Drug_Sprsn_Ind',\n       'Drug_Tot_HCPCS_Cds', 'Drug_Tot_Benes', 'Drug_Tot_Srvcs',\n       'Drug_Sbmtd_Chrg', 'Drug_Mdcr_Alowd_Amt', 'Drug_Mdcr_Pymt_Amt',\n       'Drug_Mdcr_Stdzd_Amt', 'Med_Sprsn_Ind', 'Med_Tot_HCPCS_Cds',\n       'Med_Tot_Benes', 'Med_Tot_Srvcs', 'Med_Sbmtd_Chrg',\n       'Med_Mdcr_Alowd_Amt', 'Med_Mdcr_Pymt_Amt', 'Med_Mdcr_Stdzd_Amt',\n       'Bene_Avg_Age', 'Bene_Age_LT_65_Cnt', 'Bene_Age_65_74_Cnt',\n       'Bene_Age_75_84_Cnt', 'Bene_Age_GT_84_Cnt', 'Bene_Feml_Cnt',\n       'Bene_Male_Cnt', 'Bene_Race_Wht_Cnt', 'Bene_Race_Black_Cnt',\n       'Bene_Race_API_Cnt', 'Bene_Race_Hspnc_Cnt', 'Bene_Race_NatInd_Cnt',\n       'Bene_Race_Othr_Cnt', 'Bene_Dual_Cnt', 'Bene_Ndual_Cnt',\n       'Bene_CC_AF_Pct', 'Bene_CC_Alzhmr_Pct', 'Bene_CC_Asthma_Pct',\n       'Bene_CC_Cncr_Pct', 'Bene_CC_CHF_Pct', 'Bene_CC_CKD_Pct',\n       'Bene_CC_COPD_Pct', 'Bene_CC_Dprssn_Pct', 'Bene_CC_Dbts_Pct',\n       'Bene_CC_Hyplpdma_Pct', 'Bene_CC_Hyprtnsn_Pct', 'Bene_CC_IHD_Pct',\n       'Bene_CC_Opo_Pct', 'Bene_CC_RAOA_Pct', 'Bene_CC_Sz_Pct',\n       'Bene_CC_Strok_Pct', 'Bene_Avg_Risk_Scre'],\n      dtype='object')"
     },
     "metadata": {},
     "execution_count": 7
    }
   ],
   "execution_count": null
  },
  {
   "cell_type": "code",
   "metadata": {
    "id": "DqC1LH9DkkbQ",
    "cell_id": "00022-e723a996-973e-455f-a916-75d27988be3f",
    "deepnote_cell_type": "code"
   },
   "source": "",
   "outputs": [],
   "execution_count": null
  },
  {
   "cell_type": "markdown",
   "source": "# Supervised Learning",
   "metadata": {
    "id": "eDGL62qq9FoG",
    "cell_id": "00023-17c085dc-0b93-4d86-b3b5-ff596cd915c1",
    "deepnote_cell_type": "markdown"
   }
  },
  {
   "cell_type": "markdown",
   "source": "# Unsupervised Learning",
   "metadata": {
    "id": "VOIYoYdC9Lzz",
    "cell_id": "00024-5fc52234-286f-425f-b1cb-cc746c83eb1d",
    "deepnote_cell_type": "markdown"
   }
  },
  {
   "cell_type": "code",
   "metadata": {
    "id": "TjT7q9CP9Iit",
    "colab": {
     "base_uri": "https://localhost:8080/",
     "height": 357
    },
    "executionInfo": {
     "status": "ok",
     "timestamp": 1642955173454,
     "user_tz": -330,
     "elapsed": 722,
     "user": {
      "displayName": "Himank Kansal",
      "photoUrl": "https://lh3.googleusercontent.com/a/default-user=s64",
      "userId": "12921478214650450287"
     }
    },
    "outputId": "7a217295-6220-42a6-c99c-ff2bcf93c1f4",
    "cell_id": "00025-7d14b38f-0097-4682-baeb-d940eb83e182",
    "deepnote_output_heights": [
     1
    ],
    "deepnote_cell_type": "code"
   },
   "source": "df_prov_cluster = df_prov.sample(100000)\ndf_prov_cluster = df_prov_cluster[['Rndrng_NPI', 'Rndrng_Prvdr_Last_Org_Name', 'Rndrng_Prvdr_First_Name',\n       'Rndrng_Prvdr_MI', 'Rndrng_Prvdr_Crdntls', 'Rndrng_Prvdr_Gndr',\n       'Rndrng_Prvdr_Ent_Cd', 'Rndrng_Prvdr_St1', 'Rndrng_Prvdr_St2',\n       'Rndrng_Prvdr_City', 'Rndrng_Prvdr_State_Abrvtn',\n       'Rndrng_Prvdr_State_FIPS', 'Rndrng_Prvdr_Zip5', 'Rndrng_Prvdr_RUCA',\n       'Rndrng_Prvdr_RUCA_Desc', 'Rndrng_Prvdr_Cntry', 'Rndrng_Prvdr_Type',\n       'Rndrng_Prvdr_Mdcr_Prtcptg_Ind', 'Tot_HCPCS_Cds', 'Tot_Benes',\n       'Tot_Srvcs', 'Tot_Sbmtd_Chrg', 'Tot_Mdcr_Alowd_Amt',\n       'Tot_Mdcr_Pymt_Amt', 'Tot_Mdcr_Stdzd_Amt', 'Drug_Sprsn_Ind',\n       'Drug_Tot_HCPCS_Cds', 'Drug_Tot_Benes', 'Drug_Tot_Srvcs',\n       'Drug_Sbmtd_Chrg', 'Drug_Mdcr_Alowd_Amt', 'Drug_Mdcr_Pymt_Amt',\n       'Drug_Mdcr_Stdzd_Amt', 'Med_Sprsn_Ind', 'Med_Tot_HCPCS_Cds',\n       'Med_Tot_Benes', 'Med_Tot_Srvcs', 'Med_Sbmtd_Chrg',\n       'Med_Mdcr_Alowd_Amt', 'Med_Mdcr_Pymt_Amt', 'Med_Mdcr_Stdzd_Amt']]\ndf_prov_cluster.head()",
   "outputs": [
    {
     "output_type": "execute_result",
     "data": {
      "text/html": "\n  <div id=\"df-94e7b1bd-1ab3-4541-868e-0f74e4192cd0\">\n    <div class=\"colab-df-container\">\n      <div>\n<style scoped>\n    .dataframe tbody tr th:only-of-type {\n        vertical-align: middle;\n    }\n\n    .dataframe tbody tr th {\n        vertical-align: top;\n    }\n\n    .dataframe thead th {\n        text-align: right;\n    }\n</style>\n<table border=\"1\" class=\"dataframe\">\n  <thead>\n    <tr style=\"text-align: right;\">\n      <th></th>\n      <th>Rndrng_NPI</th>\n      <th>Rndrng_Prvdr_Last_Org_Name</th>\n      <th>Rndrng_Prvdr_First_Name</th>\n      <th>Rndrng_Prvdr_MI</th>\n      <th>Rndrng_Prvdr_Crdntls</th>\n      <th>Rndrng_Prvdr_Gndr</th>\n      <th>Rndrng_Prvdr_Ent_Cd</th>\n      <th>Rndrng_Prvdr_St1</th>\n      <th>Rndrng_Prvdr_St2</th>\n      <th>Rndrng_Prvdr_City</th>\n      <th>Rndrng_Prvdr_State_Abrvtn</th>\n      <th>Rndrng_Prvdr_State_FIPS</th>\n      <th>Rndrng_Prvdr_Zip5</th>\n      <th>Rndrng_Prvdr_RUCA</th>\n      <th>Rndrng_Prvdr_RUCA_Desc</th>\n      <th>Rndrng_Prvdr_Cntry</th>\n      <th>Rndrng_Prvdr_Type</th>\n      <th>Rndrng_Prvdr_Mdcr_Prtcptg_Ind</th>\n      <th>Tot_HCPCS_Cds</th>\n      <th>Tot_Benes</th>\n      <th>Tot_Srvcs</th>\n      <th>Tot_Sbmtd_Chrg</th>\n      <th>Tot_Mdcr_Alowd_Amt</th>\n      <th>Tot_Mdcr_Pymt_Amt</th>\n      <th>Tot_Mdcr_Stdzd_Amt</th>\n      <th>Drug_Sprsn_Ind</th>\n      <th>Drug_Tot_HCPCS_Cds</th>\n      <th>Drug_Tot_Benes</th>\n      <th>Drug_Tot_Srvcs</th>\n      <th>Drug_Sbmtd_Chrg</th>\n      <th>Drug_Mdcr_Alowd_Amt</th>\n      <th>Drug_Mdcr_Pymt_Amt</th>\n      <th>Drug_Mdcr_Stdzd_Amt</th>\n      <th>Med_Sprsn_Ind</th>\n      <th>Med_Tot_HCPCS_Cds</th>\n      <th>Med_Tot_Benes</th>\n      <th>Med_Tot_Srvcs</th>\n      <th>Med_Sbmtd_Chrg</th>\n      <th>Med_Mdcr_Alowd_Amt</th>\n      <th>Med_Mdcr_Pymt_Amt</th>\n      <th>Med_Mdcr_Stdzd_Amt</th>\n    </tr>\n  </thead>\n  <tbody>\n    <tr>\n      <th>156123</th>\n      <td>1134296395</td>\n      <td>Wishnov</td>\n      <td>Bruce</td>\n      <td>&lt;NA&gt;</td>\n      <td>DO</td>\n      <td>M</td>\n      <td>I</td>\n      <td>22065 State Road 7</td>\n      <td>&lt;NA&gt;</td>\n      <td>Boca Raton</td>\n      <td>FL</td>\n      <td>12</td>\n      <td>33428</td>\n      <td>1</td>\n      <td>Metropolitan area core: primary flow within an...</td>\n      <td>US</td>\n      <td>Family Practice</td>\n      <td>Y</td>\n      <td>54</td>\n      <td>442.0</td>\n      <td>3076.0</td>\n      <td>371042.63</td>\n      <td>223153.13</td>\n      <td>177551.28</td>\n      <td>170545.83</td>\n      <td>&lt;NA&gt;</td>\n      <td>13</td>\n      <td>40.0</td>\n      <td>48.0</td>\n      <td>1993</td>\n      <td>1218.57</td>\n      <td>1170.6</td>\n      <td>1170.6</td>\n      <td>&lt;NA&gt;</td>\n      <td>41</td>\n      <td>442</td>\n      <td>3028</td>\n      <td>369049.63</td>\n      <td>221934.56</td>\n      <td>176380.68</td>\n      <td>169375.23</td>\n    </tr>\n    <tr>\n      <th>929638</th>\n      <td>1801324199</td>\n      <td>Thompkins</td>\n      <td>Terrie</td>\n      <td>T</td>\n      <td>MD</td>\n      <td>F</td>\n      <td>I</td>\n      <td>4950 Essen Ln Ste 400</td>\n      <td>&lt;NA&gt;</td>\n      <td>Baton Rouge</td>\n      <td>LA</td>\n      <td>22</td>\n      <td>70809</td>\n      <td>1</td>\n      <td>Metropolitan area core: primary flow within an...</td>\n      <td>US</td>\n      <td>Nurse Practitioner</td>\n      <td>Y</td>\n      <td>17</td>\n      <td>30.0</td>\n      <td>42.0</td>\n      <td>9575.00</td>\n      <td>2816.02</td>\n      <td>2058.40</td>\n      <td>2288.59</td>\n      <td>&lt;NA&gt;</td>\n      <td>0</td>\n      <td>0.0</td>\n      <td>0.0</td>\n      <td>0</td>\n      <td>0</td>\n      <td>0</td>\n      <td>0</td>\n      <td>&lt;NA&gt;</td>\n      <td>17</td>\n      <td>30</td>\n      <td>42</td>\n      <td>9575.00</td>\n      <td>2816.02</td>\n      <td>2058.40</td>\n      <td>2288.59</td>\n    </tr>\n    <tr>\n      <th>433604</th>\n      <td>1376635334</td>\n      <td>Chiou</td>\n      <td>Billy</td>\n      <td>Y</td>\n      <td>MD</td>\n      <td>M</td>\n      <td>I</td>\n      <td>211 Hospital Rd</td>\n      <td>&lt;NA&gt;</td>\n      <td>Red Bay</td>\n      <td>AL</td>\n      <td>01</td>\n      <td>35582</td>\n      <td>10</td>\n      <td>Rural areas: primary flow to a tract outside a...</td>\n      <td>US</td>\n      <td>Emergency Medicine</td>\n      <td>Y</td>\n      <td>21</td>\n      <td>164.0</td>\n      <td>208.0</td>\n      <td>302677.00</td>\n      <td>26691.19</td>\n      <td>19969.96</td>\n      <td>20000.77</td>\n      <td>&lt;NA&gt;</td>\n      <td>0</td>\n      <td>0.0</td>\n      <td>0.0</td>\n      <td>0</td>\n      <td>0</td>\n      <td>0</td>\n      <td>0</td>\n      <td>&lt;NA&gt;</td>\n      <td>21</td>\n      <td>164</td>\n      <td>208</td>\n      <td>302677.00</td>\n      <td>26691.19</td>\n      <td>19969.96</td>\n      <td>20000.77</td>\n    </tr>\n    <tr>\n      <th>371611</th>\n      <td>1326028317</td>\n      <td>Trentacosti</td>\n      <td>Cynthia</td>\n      <td>D</td>\n      <td>D.D.S</td>\n      <td>F</td>\n      <td>I</td>\n      <td>600 E Marshall St Ste 106</td>\n      <td>&lt;NA&gt;</td>\n      <td>West Chester</td>\n      <td>PA</td>\n      <td>42</td>\n      <td>19380</td>\n      <td>1</td>\n      <td>Metropolitan area core: primary flow within an...</td>\n      <td>US</td>\n      <td>Oral Surgery (Dentist only)</td>\n      <td>Y</td>\n      <td>19</td>\n      <td>72.0</td>\n      <td>113.0</td>\n      <td>22794.00</td>\n      <td>13636.02</td>\n      <td>10181.67</td>\n      <td>9620.87</td>\n      <td>&lt;NA&gt;</td>\n      <td>0</td>\n      <td>0.0</td>\n      <td>0.0</td>\n      <td>0</td>\n      <td>0</td>\n      <td>0</td>\n      <td>0</td>\n      <td>&lt;NA&gt;</td>\n      <td>19</td>\n      <td>72</td>\n      <td>113</td>\n      <td>22794.00</td>\n      <td>13636.02</td>\n      <td>10181.67</td>\n      <td>9620.87</td>\n    </tr>\n    <tr>\n      <th>1018268</th>\n      <td>1881075059</td>\n      <td>Gill-Henry</td>\n      <td>Deborah</td>\n      <td>A</td>\n      <td>NP</td>\n      <td>F</td>\n      <td>I</td>\n      <td>7910 W Jefferson Blvd Ste 200</td>\n      <td>&lt;NA&gt;</td>\n      <td>Fort Wayne</td>\n      <td>IN</td>\n      <td>18</td>\n      <td>46804</td>\n      <td>1</td>\n      <td>Metropolitan area core: primary flow within an...</td>\n      <td>US</td>\n      <td>Nurse Practitioner</td>\n      <td>Y</td>\n      <td>14</td>\n      <td>37.0</td>\n      <td>109.0</td>\n      <td>15566.33</td>\n      <td>6335.83</td>\n      <td>4613.44</td>\n      <td>4923.21</td>\n      <td>*</td>\n      <td>&lt;NA&gt;</td>\n      <td>0.0</td>\n      <td>0.0</td>\n      <td>&lt;NA&gt;</td>\n      <td>&lt;NA&gt;</td>\n      <td>&lt;NA&gt;</td>\n      <td>&lt;NA&gt;</td>\n      <td>#</td>\n      <td>&lt;NA&gt;</td>\n      <td>&lt;NA&gt;</td>\n      <td>&lt;NA&gt;</td>\n      <td>0.00</td>\n      <td>0.00</td>\n      <td>0.00</td>\n      <td>0.00</td>\n    </tr>\n  </tbody>\n</table>\n</div>\n      <button class=\"colab-df-convert\" onclick=\"convertToInteractive('df-94e7b1bd-1ab3-4541-868e-0f74e4192cd0')\"\n              title=\"Convert this dataframe to an interactive table.\"\n              style=\"display:none;\">\n        \n  <svg xmlns=\"http://www.w3.org/2000/svg\" height=\"24px\"viewBox=\"0 0 24 24\"\n       width=\"24px\">\n    <path d=\"M0 0h24v24H0V0z\" fill=\"none\"/>\n    <path d=\"M18.56 5.44l.94 2.06.94-2.06 2.06-.94-2.06-.94-.94-2.06-.94 2.06-2.06.94zm-11 1L8.5 8.5l.94-2.06 2.06-.94-2.06-.94L8.5 2.5l-.94 2.06-2.06.94zm10 10l.94 2.06.94-2.06 2.06-.94-2.06-.94-.94-2.06-.94 2.06-2.06.94z\"/><path d=\"M17.41 7.96l-1.37-1.37c-.4-.4-.92-.59-1.43-.59-.52 0-1.04.2-1.43.59L10.3 9.45l-7.72 7.72c-.78.78-.78 2.05 0 2.83L4 21.41c.39.39.9.59 1.41.59.51 0 1.02-.2 1.41-.59l7.78-7.78 2.81-2.81c.8-.78.8-2.07 0-2.86zM5.41 20L4 18.59l7.72-7.72 1.47 1.35L5.41 20z\"/>\n  </svg>\n      </button>\n      \n  <style>\n    .colab-df-container {\n      display:flex;\n      flex-wrap:wrap;\n      gap: 12px;\n    }\n\n    .colab-df-convert {\n      background-color: #E8F0FE;\n      border: none;\n      border-radius: 50%;\n      cursor: pointer;\n      display: none;\n      fill: #1967D2;\n      height: 32px;\n      padding: 0 0 0 0;\n      width: 32px;\n    }\n\n    .colab-df-convert:hover {\n      background-color: #E2EBFA;\n      box-shadow: 0px 1px 2px rgba(60, 64, 67, 0.3), 0px 1px 3px 1px rgba(60, 64, 67, 0.15);\n      fill: #174EA6;\n    }\n\n    [theme=dark] .colab-df-convert {\n      background-color: #3B4455;\n      fill: #D2E3FC;\n    }\n\n    [theme=dark] .colab-df-convert:hover {\n      background-color: #434B5C;\n      box-shadow: 0px 1px 3px 1px rgba(0, 0, 0, 0.15);\n      filter: drop-shadow(0px 1px 2px rgba(0, 0, 0, 0.3));\n      fill: #FFFFFF;\n    }\n  </style>\n\n      <script>\n        const buttonEl =\n          document.querySelector('#df-94e7b1bd-1ab3-4541-868e-0f74e4192cd0 button.colab-df-convert');\n        buttonEl.style.display =\n          google.colab.kernel.accessAllowed ? 'block' : 'none';\n\n        async function convertToInteractive(key) {\n          const element = document.querySelector('#df-94e7b1bd-1ab3-4541-868e-0f74e4192cd0');\n          const dataTable =\n            await google.colab.kernel.invokeFunction('convertToInteractive',\n                                                     [key], {});\n          if (!dataTable) return;\n\n          const docLinkHtml = 'Like what you see? Visit the ' +\n            '<a target=\"_blank\" href=https://colab.research.google.com/notebooks/data_table.ipynb>data table notebook</a>'\n            + ' to learn more about interactive tables.';\n          element.innerHTML = '';\n          dataTable['output_type'] = 'display_data';\n          await google.colab.output.renderOutput(dataTable, element);\n          const docLink = document.createElement('div');\n          docLink.innerHTML = docLinkHtml;\n          element.appendChild(docLink);\n        }\n      </script>\n    </div>\n  </div>\n  ",
      "text/plain": "         Rndrng_NPI  ... Med_Mdcr_Stdzd_Amt\n156123   1134296395  ...          169375.23\n929638   1801324199  ...            2288.59\n433604   1376635334  ...           20000.77\n371611   1326028317  ...            9620.87\n1018268  1881075059  ...               0.00\n\n[5 rows x 41 columns]"
     },
     "metadata": {},
     "execution_count": 8
    }
   ],
   "execution_count": null
  },
  {
   "cell_type": "code",
   "metadata": {
    "id": "VTyWeUN9lday",
    "executionInfo": {
     "status": "ok",
     "timestamp": 1642955174671,
     "user_tz": -330,
     "elapsed": 2,
     "user": {
      "displayName": "Himank Kansal",
      "photoUrl": "https://lh3.googleusercontent.com/a/default-user=s64",
      "userId": "12921478214650450287"
     }
    },
    "colab": {
     "base_uri": "https://localhost:8080/"
    },
    "outputId": "79e68626-bfcd-41c9-ff24-900e736e68e1",
    "cell_id": "00026-2bb05b72-6bfc-4efe-9882-31f205741176",
    "deepnote_output_heights": [
     1
    ],
    "deepnote_cell_type": "code"
   },
   "source": "df_prov_cluster['Tot_Benes'].describe()",
   "outputs": [
    {
     "output_type": "execute_result",
     "data": {
      "text/plain": "count    100000.000000\nmean        339.166050\nstd        2453.048725\nmin          11.000000\n25%          63.000000\n50%         163.000000\n75%         353.000000\nmax      667790.000000\nName: Tot_Benes, dtype: float64"
     },
     "metadata": {},
     "execution_count": 9
    }
   ],
   "execution_count": null
  },
  {
   "cell_type": "code",
   "metadata": {
    "id": "YdchSATopczo",
    "executionInfo": {
     "status": "ok",
     "timestamp": 1642955175841,
     "user_tz": -330,
     "elapsed": 469,
     "user": {
      "displayName": "Himank Kansal",
      "photoUrl": "https://lh3.googleusercontent.com/a/default-user=s64",
      "userId": "12921478214650450287"
     }
    },
    "colab": {
     "base_uri": "https://localhost:8080/"
    },
    "outputId": "24831665-8882-4358-e4a7-a12ea0f93343",
    "cell_id": "00027-54138f99-1728-462f-89c1-176ece785018",
    "deepnote_cell_type": "code"
   },
   "source": "q1 = df_prov_cluster['Tot_Benes'].quantile(0.25)\nq2 = df_prov_cluster['Tot_Benes'].quantile(0.50)\nq3 = df_prov_cluster['Tot_Benes'].quantile(0.75)\nprint(q1,q2,q3)",
   "outputs": [
    {
     "output_type": "stream",
     "name": "stdout",
     "text": "63.0 163.0 353.0\n"
    }
   ],
   "execution_count": null
  },
  {
   "cell_type": "code",
   "metadata": {
    "id": "5vsbWjRqmYW0",
    "executionInfo": {
     "status": "ok",
     "timestamp": 1642955182356,
     "user_tz": -330,
     "elapsed": 453,
     "user": {
      "displayName": "Himank Kansal",
      "photoUrl": "https://lh3.googleusercontent.com/a/default-user=s64",
      "userId": "12921478214650450287"
     }
    },
    "cell_id": "00028-6b343ac0-93a8-43f6-be97-e9ba344b8dcc",
    "deepnote_cell_type": "code"
   },
   "source": "# Using quantiles to create groups of patients into high, medium, low for EDA\ndf_prov_cluster['Tot_Benes_group']=np.where(df_prov_cluster['Tot_Benes']>=q3,'High',(np.where(df_prov_cluster['Tot_Benes']>=q1,'Medium','Low')))",
   "outputs": [],
   "execution_count": null
  },
  {
   "cell_type": "code",
   "metadata": {
    "id": "q6tTTUnCqJ3Z",
    "executionInfo": {
     "status": "ok",
     "timestamp": 1642955183148,
     "user_tz": -330,
     "elapsed": 6,
     "user": {
      "displayName": "Himank Kansal",
      "photoUrl": "https://lh3.googleusercontent.com/a/default-user=s64",
      "userId": "12921478214650450287"
     }
    },
    "colab": {
     "base_uri": "https://localhost:8080/",
     "height": 297
    },
    "outputId": "d45c9c58-f547-44d7-b053-f3f955bea4cb",
    "cell_id": "00029-94d622b3-f042-40e9-8b64-c2ec421eafe9",
    "deepnote_output_heights": [
     1,
     265
    ],
    "deepnote_cell_type": "code"
   },
   "source": "import seaborn as sns\nimport matplotlib.pyplot as plt\nsns.boxplot(x='Tot_Benes', y='Tot_Benes_group', data=df_prov_cluster)",
   "outputs": [
    {
     "output_type": "execute_result",
     "data": {
      "text/plain": "<matplotlib.axes._subplots.AxesSubplot at 0x7f86ae359090>"
     },
     "metadata": {},
     "execution_count": 12
    },
    {
     "output_type": "display_data",
     "data": {
      "image/png": "[encoded data removed]",
      "text/plain": "<Figure size 432x288 with 1 Axes>"
     },
     "metadata": {
      "needs_background": "light",
      "image/png": {
       "width": 429,
       "height": 263
      }
     }
    }
   ],
   "execution_count": null
  },
  {
   "cell_type": "code",
   "metadata": {
    "id": "UwC-JfApqWz8",
    "cell_id": "00030-98d8f496-79b7-4fb4-9641-440613545c02",
    "deepnote_cell_type": "code"
   },
   "source": "",
   "outputs": [],
   "execution_count": null
  },
  {
   "cell_type": "markdown",
   "source": "**Clustering**",
   "metadata": {
    "id": "ViLwFGyWACFJ",
    "cell_id": "00031-acfd8bc5-e97f-4b4d-9d28-84d1ff6e0e29",
    "deepnote_cell_type": "markdown"
   }
  },
  {
   "cell_type": "code",
   "metadata": {
    "id": "iFuviGukA3so",
    "executionInfo": {
     "status": "ok",
     "timestamp": 1642955189279,
     "user_tz": -330,
     "elapsed": 450,
     "user": {
      "displayName": "Himank Kansal",
      "photoUrl": "https://lh3.googleusercontent.com/a/default-user=s64",
      "userId": "12921478214650450287"
     }
    },
    "cell_id": "00032-610f62e8-42bb-4b20-b453-3c3735163345",
    "deepnote_cell_type": "code"
   },
   "source": "# Features and Target\n\nX = df_prov_cluster[['Rndrng_NPI','Tot_Benes',\n       'Tot_Srvcs', 'Tot_Sbmtd_Chrg', 'Tot_Mdcr_Alowd_Amt',\n       'Tot_Mdcr_Pymt_Amt', 'Tot_Mdcr_Stdzd_Amt', 'Drug_Sprsn_Ind',\n       'Drug_Tot_HCPCS_Cds', 'Drug_Tot_Benes', 'Drug_Tot_Srvcs',\n       'Drug_Sbmtd_Chrg', 'Drug_Mdcr_Alowd_Amt', 'Drug_Mdcr_Pymt_Amt',\n       'Drug_Mdcr_Stdzd_Amt', 'Med_Sprsn_Ind', 'Med_Tot_HCPCS_Cds',\n       'Med_Tot_Benes', 'Med_Tot_Srvcs', 'Med_Sbmtd_Chrg',\n       'Med_Mdcr_Alowd_Amt', 'Med_Mdcr_Pymt_Amt', 'Med_Mdcr_Stdzd_Amt']]\n\n#y = df_prov_cluster[['Tot_Benes']]",
   "outputs": [],
   "execution_count": null
  },
  {
   "cell_type": "code",
   "metadata": {
    "id": "GABDSvMXAFfY",
    "executionInfo": {
     "status": "ok",
     "timestamp": 1642955190730,
     "user_tz": -330,
     "elapsed": 3,
     "user": {
      "displayName": "Himank Kansal",
      "photoUrl": "https://lh3.googleusercontent.com/a/default-user=s64",
      "userId": "12921478214650450287"
     }
    },
    "cell_id": "00033-78ce314d-8ed4-4c62-bc7b-31d0d6dba9c0",
    "deepnote_cell_type": "code"
   },
   "source": "### Clustering\nfrom sklearn.cluster import KMeans\nfrom sklearn.preprocessing import StandardScaler",
   "outputs": [],
   "execution_count": null
  },
  {
   "cell_type": "code",
   "metadata": {
    "id": "b51zbflMAWhg",
    "executionInfo": {
     "status": "ok",
     "timestamp": 1642955193476,
     "user_tz": -330,
     "elapsed": 459,
     "user": {
      "displayName": "Himank Kansal",
      "photoUrl": "https://lh3.googleusercontent.com/a/default-user=s64",
      "userId": "12921478214650450287"
     }
    },
    "cell_id": "00034-e151f723-1057-4698-b0f5-e37d7d3a4633",
    "deepnote_cell_type": "code"
   },
   "source": "imp_features = ['Tot_Benes', 'Tot_Srvcs', 'Tot_Sbmtd_Chrg']",
   "outputs": [],
   "execution_count": null
  },
  {
   "cell_type": "code",
   "metadata": {
    "id": "k1rSBl1YAK08",
    "executionInfo": {
     "status": "ok",
     "timestamp": 1642955194181,
     "user_tz": -330,
     "elapsed": 3,
     "user": {
      "displayName": "Himank Kansal",
      "photoUrl": "https://lh3.googleusercontent.com/a/default-user=s64",
      "userId": "12921478214650450287"
     }
    },
    "cell_id": "00035-9ae8073e-d377-4546-b7da-dc6090746afd",
    "deepnote_cell_type": "code"
   },
   "source": "scaler = StandardScaler()\nscaled_data = scaler.fit_transform(X[imp_features])",
   "outputs": [],
   "execution_count": null
  },
  {
   "cell_type": "code",
   "metadata": {
    "id": "6z4Z9eGhBen9",
    "executionInfo": {
     "status": "ok",
     "timestamp": 1642955209271,
     "user_tz": -330,
     "elapsed": 5854,
     "user": {
      "displayName": "Himank Kansal",
      "photoUrl": "https://lh3.googleusercontent.com/a/default-user=s64",
      "userId": "12921478214650450287"
     }
    },
    "colab": {
     "base_uri": "https://localhost:8080/",
     "height": 312
    },
    "outputId": "60bda2c6-a9d2-4fed-ee2d-943f9f8682fa",
    "cell_id": "00036-5198afdf-2401-4be0-ad3d-1b0f8bfb4ae0",
    "deepnote_output_heights": [
     1,
     1,
     1,
     1,
     1,
     1,
     1,
     1,
     1,
     280
    ],
    "deepnote_cell_type": "code"
   },
   "source": "plot=[]\nfor i in range(1,7):\n    kmeans = KMeans(i)\n    kmeans.fit(X[imp_features])\n    plot.append(kmeans.inertia_)\n\nnumber_clusters = range(1,7)\nplt.plot(number_clusters,plot)\nplt.title('The Elbow Method')\nplt.xlabel('Number of clusters')",
   "outputs": [
    {
     "output_type": "execute_result",
     "data": {
      "text/plain": "KMeans(n_clusters=1)"
     },
     "metadata": {},
     "execution_count": 17
    },
    {
     "output_type": "execute_result",
     "data": {
      "text/plain": "KMeans(n_clusters=2)"
     },
     "metadata": {},
     "execution_count": 17
    },
    {
     "output_type": "execute_result",
     "data": {
      "text/plain": "KMeans(n_clusters=3)"
     },
     "metadata": {},
     "execution_count": 17
    },
    {
     "output_type": "execute_result",
     "data": {
      "text/plain": "KMeans(n_clusters=4)"
     },
     "metadata": {},
     "execution_count": 17
    },
    {
     "output_type": "execute_result",
     "data": {
      "text/plain": "KMeans(n_clusters=5)"
     },
     "metadata": {},
     "execution_count": 17
    },
    {
     "output_type": "execute_result",
     "data": {
      "text/plain": "KMeans(n_clusters=6)"
     },
     "metadata": {},
     "execution_count": 17
    },
    {
     "output_type": "execute_result",
     "data": {
      "text/plain": "[<matplotlib.lines.Line2D at 0x7f863e680950>]"
     },
     "metadata": {},
     "execution_count": 17
    },
    {
     "output_type": "execute_result",
     "data": {
      "text/plain": "Text(0.5, 1.0, 'The Elbow Method')"
     },
     "metadata": {},
     "execution_count": 17
    },
    {
     "output_type": "execute_result",
     "data": {
      "text/plain": "Text(0.5, 0, 'Number of clusters')"
     },
     "metadata": {},
     "execution_count": 17
    },
    {
     "output_type": "display_data",
     "data": {
      "image/png": "[encoded data removed]",
      "text/plain": "<Figure size 432x288 with 1 Axes>"
     },
     "metadata": {
      "needs_background": "light",
      "image/png": {
       "width": 362,
       "height": 278
      }
     }
    }
   ],
   "execution_count": null
  },
  {
   "cell_type": "code",
   "metadata": {
    "id": "sIofL6EDBnih",
    "executionInfo": {
     "status": "ok",
     "timestamp": 1642955210035,
     "user_tz": -330,
     "elapsed": 771,
     "user": {
      "displayName": "Himank Kansal",
      "photoUrl": "https://lh3.googleusercontent.com/a/default-user=s64",
      "userId": "12921478214650450287"
     }
    },
    "colab": {
     "base_uri": "https://localhost:8080/"
    },
    "outputId": "81e34d9f-3d2e-4365-a0e8-115b52a836d1",
    "cell_id": "00037-c71ecc7e-74c2-42af-bdb8-f5208ff9bd58",
    "deepnote_output_heights": [
     1
    ],
    "deepnote_cell_type": "code"
   },
   "source": "kmeans = KMeans(3)\nkmeans.fit(scaled_data)",
   "outputs": [
    {
     "output_type": "execute_result",
     "data": {
      "text/plain": "KMeans(n_clusters=3)"
     },
     "metadata": {},
     "execution_count": 18
    }
   ],
   "execution_count": null
  },
  {
   "cell_type": "code",
   "metadata": {
    "id": "EJocWoD_BrY6",
    "executionInfo": {
     "status": "ok",
     "timestamp": 1642955210524,
     "user_tz": -330,
     "elapsed": 493,
     "user": {
      "displayName": "Himank Kansal",
      "photoUrl": "https://lh3.googleusercontent.com/a/default-user=s64",
      "userId": "12921478214650450287"
     }
    },
    "cell_id": "00038-f7282250-454d-4a14-bd9a-ed5c09a21e5e",
    "deepnote_cell_type": "code"
   },
   "source": "clusters = kmeans.fit_predict(scaled_data)",
   "outputs": [],
   "execution_count": null
  },
  {
   "cell_type": "code",
   "metadata": {
    "id": "MePWfp2lBxWo",
    "executionInfo": {
     "status": "ok",
     "timestamp": 1642955210970,
     "user_tz": -330,
     "elapsed": 4,
     "user": {
      "displayName": "Himank Kansal",
      "photoUrl": "https://lh3.googleusercontent.com/a/default-user=s64",
      "userId": "12921478214650450287"
     }
    },
    "colab": {
     "base_uri": "https://localhost:8080/"
    },
    "outputId": "79e520a1-e62b-439f-c2ab-50d24d8f711b",
    "cell_id": "00039-200320cc-6a1d-4289-b34a-0f30d5868d15",
    "deepnote_cell_type": "code"
   },
   "source": "X['cluster_id'] = clusters",
   "outputs": [
    {
     "output_type": "stream",
     "name": "stderr",
     "text": "/usr/local/lib/python3.7/dist-packages/ipykernel_launcher.py:1: SettingWithCopyWarning: \nA value is trying to be set on a copy of a slice from a DataFrame.\nTry using .loc[row_indexer,col_indexer] = value instead\n\nSee the caveats in the documentation: https://pandas.pydata.org/pandas-docs/stable/user_guide/indexing.html#returning-a-view-versus-a-copy\n  \"\"\"Entry point for launching an IPython kernel.\n"
    }
   ],
   "execution_count": null
  },
  {
   "cell_type": "code",
   "metadata": {
    "id": "DOYmPoiXB116",
    "executionInfo": {
     "status": "ok",
     "timestamp": 1642955212226,
     "user_tz": -330,
     "elapsed": 8,
     "user": {
      "displayName": "Himank Kansal",
      "photoUrl": "https://lh3.googleusercontent.com/a/default-user=s64",
      "userId": "12921478214650450287"
     }
    },
    "colab": {
     "base_uri": "https://localhost:8080/",
     "height": 270
    },
    "outputId": "6bee1348-b75c-4755-eefa-3fc04e523fe7",
    "cell_id": "00040-7ca654ef-3b95-4b54-a6ac-f2fe97683470",
    "deepnote_output_heights": [
     1
    ],
    "deepnote_cell_type": "code"
   },
   "source": "X.head()",
   "outputs": [
    {
     "output_type": "execute_result",
     "data": {
      "text/html": "\n  <div id=\"df-f4896302-a0dd-40ed-a184-3c757be6900f\">\n    <div class=\"colab-df-container\">\n      <div>\n<style scoped>\n    .dataframe tbody tr th:only-of-type {\n        vertical-align: middle;\n    }\n\n    .dataframe tbody tr th {\n        vertical-align: top;\n    }\n\n    .dataframe thead th {\n        text-align: right;\n    }\n</style>\n<table border=\"1\" class=\"dataframe\">\n  <thead>\n    <tr style=\"text-align: right;\">\n      <th></th>\n      <th>Rndrng_NPI</th>\n      <th>Tot_Benes</th>\n      <th>Tot_Srvcs</th>\n      <th>Tot_Sbmtd_Chrg</th>\n      <th>Tot_Mdcr_Alowd_Amt</th>\n      <th>Tot_Mdcr_Pymt_Amt</th>\n      <th>Tot_Mdcr_Stdzd_Amt</th>\n      <th>Drug_Sprsn_Ind</th>\n      <th>Drug_Tot_HCPCS_Cds</th>\n      <th>Drug_Tot_Benes</th>\n      <th>Drug_Tot_Srvcs</th>\n      <th>Drug_Sbmtd_Chrg</th>\n      <th>Drug_Mdcr_Alowd_Amt</th>\n      <th>Drug_Mdcr_Pymt_Amt</th>\n      <th>Drug_Mdcr_Stdzd_Amt</th>\n      <th>Med_Sprsn_Ind</th>\n      <th>Med_Tot_HCPCS_Cds</th>\n      <th>Med_Tot_Benes</th>\n      <th>Med_Tot_Srvcs</th>\n      <th>Med_Sbmtd_Chrg</th>\n      <th>Med_Mdcr_Alowd_Amt</th>\n      <th>Med_Mdcr_Pymt_Amt</th>\n      <th>Med_Mdcr_Stdzd_Amt</th>\n      <th>cluster_id</th>\n    </tr>\n  </thead>\n  <tbody>\n    <tr>\n      <th>156123</th>\n      <td>1134296395</td>\n      <td>442.0</td>\n      <td>3076.0</td>\n      <td>371042.63</td>\n      <td>223153.13</td>\n      <td>177551.28</td>\n      <td>170545.83</td>\n      <td>&lt;NA&gt;</td>\n      <td>13</td>\n      <td>40.0</td>\n      <td>48.0</td>\n      <td>1993</td>\n      <td>1218.57</td>\n      <td>1170.6</td>\n      <td>1170.6</td>\n      <td>&lt;NA&gt;</td>\n      <td>41</td>\n      <td>442</td>\n      <td>3028</td>\n      <td>369049.63</td>\n      <td>221934.56</td>\n      <td>176380.68</td>\n      <td>169375.23</td>\n      <td>0</td>\n    </tr>\n    <tr>\n      <th>929638</th>\n      <td>1801324199</td>\n      <td>30.0</td>\n      <td>42.0</td>\n      <td>9575.00</td>\n      <td>2816.02</td>\n      <td>2058.40</td>\n      <td>2288.59</td>\n      <td>&lt;NA&gt;</td>\n      <td>0</td>\n      <td>0.0</td>\n      <td>0.0</td>\n      <td>0</td>\n      <td>0</td>\n      <td>0</td>\n      <td>0</td>\n      <td>&lt;NA&gt;</td>\n      <td>17</td>\n      <td>30</td>\n      <td>42</td>\n      <td>9575.00</td>\n      <td>2816.02</td>\n      <td>2058.40</td>\n      <td>2288.59</td>\n      <td>0</td>\n    </tr>\n    <tr>\n      <th>433604</th>\n      <td>1376635334</td>\n      <td>164.0</td>\n      <td>208.0</td>\n      <td>302677.00</td>\n      <td>26691.19</td>\n      <td>19969.96</td>\n      <td>20000.77</td>\n      <td>&lt;NA&gt;</td>\n      <td>0</td>\n      <td>0.0</td>\n      <td>0.0</td>\n      <td>0</td>\n      <td>0</td>\n      <td>0</td>\n      <td>0</td>\n      <td>&lt;NA&gt;</td>\n      <td>21</td>\n      <td>164</td>\n      <td>208</td>\n      <td>302677.00</td>\n      <td>26691.19</td>\n      <td>19969.96</td>\n      <td>20000.77</td>\n      <td>0</td>\n    </tr>\n    <tr>\n      <th>371611</th>\n      <td>1326028317</td>\n      <td>72.0</td>\n      <td>113.0</td>\n      <td>22794.00</td>\n      <td>13636.02</td>\n      <td>10181.67</td>\n      <td>9620.87</td>\n      <td>&lt;NA&gt;</td>\n      <td>0</td>\n      <td>0.0</td>\n      <td>0.0</td>\n      <td>0</td>\n      <td>0</td>\n      <td>0</td>\n      <td>0</td>\n      <td>&lt;NA&gt;</td>\n      <td>19</td>\n      <td>72</td>\n      <td>113</td>\n      <td>22794.00</td>\n      <td>13636.02</td>\n      <td>10181.67</td>\n      <td>9620.87</td>\n      <td>0</td>\n    </tr>\n    <tr>\n      <th>1018268</th>\n      <td>1881075059</td>\n      <td>37.0</td>\n      <td>109.0</td>\n      <td>15566.33</td>\n      <td>6335.83</td>\n      <td>4613.44</td>\n      <td>4923.21</td>\n      <td>*</td>\n      <td>&lt;NA&gt;</td>\n      <td>0.0</td>\n      <td>0.0</td>\n      <td>&lt;NA&gt;</td>\n      <td>&lt;NA&gt;</td>\n      <td>&lt;NA&gt;</td>\n      <td>&lt;NA&gt;</td>\n      <td>#</td>\n      <td>&lt;NA&gt;</td>\n      <td>&lt;NA&gt;</td>\n      <td>&lt;NA&gt;</td>\n      <td>0.00</td>\n      <td>0.00</td>\n      <td>0.00</td>\n      <td>0.00</td>\n      <td>0</td>\n    </tr>\n  </tbody>\n</table>\n</div>\n      <button class=\"colab-df-convert\" onclick=\"convertToInteractive('df-f4896302-a0dd-40ed-a184-3c757be6900f')\"\n              title=\"Convert this dataframe to an interactive table.\"\n              style=\"display:none;\">\n        \n  <svg xmlns=\"http://www.w3.org/2000/svg\" height=\"24px\"viewBox=\"0 0 24 24\"\n       width=\"24px\">\n    <path d=\"M0 0h24v24H0V0z\" fill=\"none\"/>\n    <path d=\"M18.56 5.44l.94 2.06.94-2.06 2.06-.94-2.06-.94-.94-2.06-.94 2.06-2.06.94zm-11 1L8.5 8.5l.94-2.06 2.06-.94-2.06-.94L8.5 2.5l-.94 2.06-2.06.94zm10 10l.94 2.06.94-2.06 2.06-.94-2.06-.94-.94-2.06-.94 2.06-2.06.94z\"/><path d=\"M17.41 7.96l-1.37-1.37c-.4-.4-.92-.59-1.43-.59-.52 0-1.04.2-1.43.59L10.3 9.45l-7.72 7.72c-.78.78-.78 2.05 0 2.83L4 21.41c.39.39.9.59 1.41.59.51 0 1.02-.2 1.41-.59l7.78-7.78 2.81-2.81c.8-.78.8-2.07 0-2.86zM5.41 20L4 18.59l7.72-7.72 1.47 1.35L5.41 20z\"/>\n  </svg>\n      </button>\n      \n  <style>\n    .colab-df-container {\n      display:flex;\n      flex-wrap:wrap;\n      gap: 12px;\n    }\n\n    .colab-df-convert {\n      background-color: #E8F0FE;\n      border: none;\n      border-radius: 50%;\n      cursor: pointer;\n      display: none;\n      fill: #1967D2;\n      height: 32px;\n      padding: 0 0 0 0;\n      width: 32px;\n    }\n\n    .colab-df-convert:hover {\n      background-color: #E2EBFA;\n      box-shadow: 0px 1px 2px rgba(60, 64, 67, 0.3), 0px 1px 3px 1px rgba(60, 64, 67, 0.15);\n      fill: #174EA6;\n    }\n\n    [theme=dark] .colab-df-convert {\n      background-color: #3B4455;\n      fill: #D2E3FC;\n    }\n\n    [theme=dark] .colab-df-convert:hover {\n      background-color: #434B5C;\n      box-shadow: 0px 1px 3px 1px rgba(0, 0, 0, 0.15);\n      filter: drop-shadow(0px 1px 2px rgba(0, 0, 0, 0.3));\n      fill: #FFFFFF;\n    }\n  </style>\n\n      <script>\n        const buttonEl =\n          document.querySelector('#df-f4896302-a0dd-40ed-a184-3c757be6900f button.colab-df-convert');\n        buttonEl.style.display =\n          google.colab.kernel.accessAllowed ? 'block' : 'none';\n\n        async function convertToInteractive(key) {\n          const element = document.querySelector('#df-f4896302-a0dd-40ed-a184-3c757be6900f');\n          const dataTable =\n            await google.colab.kernel.invokeFunction('convertToInteractive',\n                                                     [key], {});\n          if (!dataTable) return;\n\n          const docLinkHtml = 'Like what you see? Visit the ' +\n            '<a target=\"_blank\" href=https://colab.research.google.com/notebooks/data_table.ipynb>data table notebook</a>'\n            + ' to learn more about interactive tables.';\n          element.innerHTML = '';\n          dataTable['output_type'] = 'display_data';\n          await google.colab.output.renderOutput(dataTable, element);\n          const docLink = document.createElement('div');\n          docLink.innerHTML = docLinkHtml;\n          element.appendChild(docLink);\n        }\n      </script>\n    </div>\n  </div>\n  ",
      "text/plain": "         Rndrng_NPI  Tot_Benes  ...  Med_Mdcr_Stdzd_Amt  cluster_id\n156123   1134296395      442.0  ...           169375.23           0\n929638   1801324199       30.0  ...             2288.59           0\n433604   1376635334      164.0  ...            20000.77           0\n371611   1326028317       72.0  ...             9620.87           0\n1018268  1881075059       37.0  ...                0.00           0\n\n[5 rows x 24 columns]"
     },
     "metadata": {},
     "execution_count": 21
    }
   ],
   "execution_count": null
  },
  {
   "cell_type": "code",
   "metadata": {
    "id": "7uWj1L3WB67Y",
    "executionInfo": {
     "status": "ok",
     "timestamp": 1642955214439,
     "user_tz": -330,
     "elapsed": 7,
     "user": {
      "displayName": "Himank Kansal",
      "photoUrl": "https://lh3.googleusercontent.com/a/default-user=s64",
      "userId": "12921478214650450287"
     }
    },
    "colab": {
     "base_uri": "https://localhost:8080/",
     "height": 175
    },
    "outputId": "28b97e3e-78a6-4d43-aa4b-1b6ae8c0e401",
    "cell_id": "00041-16f8ef19-ef5e-4447-8e4f-e2fe51556d47",
    "deepnote_output_heights": [
     1
    ],
    "deepnote_cell_type": "code"
   },
   "source": "X.groupby('cluster_id').mean()",
   "outputs": [
    {
     "output_type": "execute_result",
     "data": {
      "text/html": "\n  <div id=\"df-231b1e45-50ba-4e63-a53d-9eac2b79b167\">\n    <div class=\"colab-df-container\">\n      <div>\n<style scoped>\n    .dataframe tbody tr th:only-of-type {\n        vertical-align: middle;\n    }\n\n    .dataframe tbody tr th {\n        vertical-align: top;\n    }\n\n    .dataframe thead th {\n        text-align: right;\n    }\n</style>\n<table border=\"1\" class=\"dataframe\">\n  <thead>\n    <tr style=\"text-align: right;\">\n      <th></th>\n      <th>Tot_Benes</th>\n      <th>Tot_Srvcs</th>\n      <th>Tot_Sbmtd_Chrg</th>\n      <th>Tot_Mdcr_Alowd_Amt</th>\n      <th>Tot_Mdcr_Pymt_Amt</th>\n      <th>Tot_Mdcr_Stdzd_Amt</th>\n      <th>Drug_Tot_Benes</th>\n      <th>Drug_Tot_Srvcs</th>\n      <th>Med_Sbmtd_Chrg</th>\n      <th>Med_Mdcr_Alowd_Amt</th>\n      <th>Med_Mdcr_Pymt_Amt</th>\n      <th>Med_Mdcr_Stdzd_Amt</th>\n    </tr>\n    <tr>\n      <th>cluster_id</th>\n      <th></th>\n      <th></th>\n      <th></th>\n      <th></th>\n      <th></th>\n      <th></th>\n      <th></th>\n      <th></th>\n      <th></th>\n      <th></th>\n      <th></th>\n      <th></th>\n    </tr>\n  </thead>\n  <tbody>\n    <tr>\n      <th>0</th>\n      <td>330.090436</td>\n      <td>2.452487e+03</td>\n      <td>3.531848e+05</td>\n      <td>1.151425e+05</td>\n      <td>9.027927e+04</td>\n      <td>8.992584e+04</td>\n      <td>23.623864</td>\n      <td>1.065133e+03</td>\n      <td>2.854763e+05</td>\n      <td>8.814697e+04</td>\n      <td>6.888927e+04</td>\n      <td>6.845647e+04</td>\n    </tr>\n    <tr>\n      <th>1</th>\n      <td>667790.000000</td>\n      <td>7.065291e+06</td>\n      <td>6.448086e+08</td>\n      <td>9.053435e+07</td>\n      <td>9.049402e+07</td>\n      <td>9.063706e+07</td>\n      <td>0.000000</td>\n      <td>0.000000e+00</td>\n      <td>6.448086e+08</td>\n      <td>9.053435e+07</td>\n      <td>9.049402e+07</td>\n      <td>9.063706e+07</td>\n    </tr>\n    <tr>\n      <th>2</th>\n      <td>40347.000000</td>\n      <td>4.922327e+06</td>\n      <td>4.849550e+07</td>\n      <td>1.322421e+07</td>\n      <td>1.185239e+07</td>\n      <td>1.183959e+07</td>\n      <td>99.333333</td>\n      <td>2.262248e+06</td>\n      <td>3.637856e+07</td>\n      <td>6.975868e+06</td>\n      <td>6.874451e+06</td>\n      <td>6.858648e+06</td>\n    </tr>\n  </tbody>\n</table>\n</div>\n      <button class=\"colab-df-convert\" onclick=\"convertToInteractive('df-231b1e45-50ba-4e63-a53d-9eac2b79b167')\"\n              title=\"Convert this dataframe to an interactive table.\"\n              style=\"display:none;\">\n        \n  <svg xmlns=\"http://www.w3.org/2000/svg\" height=\"24px\"viewBox=\"0 0 24 24\"\n       width=\"24px\">\n    <path d=\"M0 0h24v24H0V0z\" fill=\"none\"/>\n    <path d=\"M18.56 5.44l.94 2.06.94-2.06 2.06-.94-2.06-.94-.94-2.06-.94 2.06-2.06.94zm-11 1L8.5 8.5l.94-2.06 2.06-.94-2.06-.94L8.5 2.5l-.94 2.06-2.06.94zm10 10l.94 2.06.94-2.06 2.06-.94-2.06-.94-.94-2.06-.94 2.06-2.06.94z\"/><path d=\"M17.41 7.96l-1.37-1.37c-.4-.4-.92-.59-1.43-.59-.52 0-1.04.2-1.43.59L10.3 9.45l-7.72 7.72c-.78.78-.78 2.05 0 2.83L4 21.41c.39.39.9.59 1.41.59.51 0 1.02-.2 1.41-.59l7.78-7.78 2.81-2.81c.8-.78.8-2.07 0-2.86zM5.41 20L4 18.59l7.72-7.72 1.47 1.35L5.41 20z\"/>\n  </svg>\n      </button>\n      \n  <style>\n    .colab-df-container {\n      display:flex;\n      flex-wrap:wrap;\n      gap: 12px;\n    }\n\n    .colab-df-convert {\n      background-color: #E8F0FE;\n      border: none;\n      border-radius: 50%;\n      cursor: pointer;\n      display: none;\n      fill: #1967D2;\n      height: 32px;\n      padding: 0 0 0 0;\n      width: 32px;\n    }\n\n    .colab-df-convert:hover {\n      background-color: #E2EBFA;\n      box-shadow: 0px 1px 2px rgba(60, 64, 67, 0.3), 0px 1px 3px 1px rgba(60, 64, 67, 0.15);\n      fill: #174EA6;\n    }\n\n    [theme=dark] .colab-df-convert {\n      background-color: #3B4455;\n      fill: #D2E3FC;\n    }\n\n    [theme=dark] .colab-df-convert:hover {\n      background-color: #434B5C;\n      box-shadow: 0px 1px 3px 1px rgba(0, 0, 0, 0.15);\n      filter: drop-shadow(0px 1px 2px rgba(0, 0, 0, 0.3));\n      fill: #FFFFFF;\n    }\n  </style>\n\n      <script>\n        const buttonEl =\n          document.querySelector('#df-231b1e45-50ba-4e63-a53d-9eac2b79b167 button.colab-df-convert');\n        buttonEl.style.display =\n          google.colab.kernel.accessAllowed ? 'block' : 'none';\n\n        async function convertToInteractive(key) {\n          const element = document.querySelector('#df-231b1e45-50ba-4e63-a53d-9eac2b79b167');\n          const dataTable =\n            await google.colab.kernel.invokeFunction('convertToInteractive',\n                                                     [key], {});\n          if (!dataTable) return;\n\n          const docLinkHtml = 'Like what you see? Visit the ' +\n            '<a target=\"_blank\" href=https://colab.research.google.com/notebooks/data_table.ipynb>data table notebook</a>'\n            + ' to learn more about interactive tables.';\n          element.innerHTML = '';\n          dataTable['output_type'] = 'display_data';\n          await google.colab.output.renderOutput(dataTable, element);\n          const docLink = document.createElement('div');\n          docLink.innerHTML = docLinkHtml;\n          element.appendChild(docLink);\n        }\n      </script>\n    </div>\n  </div>\n  ",
      "text/plain": "                Tot_Benes     Tot_Srvcs  ...  Med_Mdcr_Pymt_Amt  Med_Mdcr_Stdzd_Amt\ncluster_id                               ...                                       \n0              330.090436  2.452487e+03  ...       6.888927e+04        6.845647e+04\n1           667790.000000  7.065291e+06  ...       9.049402e+07        9.063706e+07\n2            40347.000000  4.922327e+06  ...       6.874451e+06        6.858648e+06\n\n[3 rows x 12 columns]"
     },
     "metadata": {},
     "execution_count": 22
    }
   ],
   "execution_count": null
  },
  {
   "cell_type": "code",
   "metadata": {
    "id": "wPQsmFhGCCsh",
    "executionInfo": {
     "status": "ok",
     "timestamp": 1642955216080,
     "user_tz": -330,
     "elapsed": 2,
     "user": {
      "displayName": "Himank Kansal",
      "photoUrl": "https://lh3.googleusercontent.com/a/default-user=s64",
      "userId": "12921478214650450287"
     }
    },
    "colab": {
     "base_uri": "https://localhost:8080/"
    },
    "outputId": "6135c2fa-8625-4255-92a9-f3bdf00efa8e",
    "cell_id": "00042-035a3912-6768-461b-a513-2ca93ad268ee",
    "deepnote_output_heights": [
     1
    ],
    "deepnote_cell_type": "code"
   },
   "source": "X['cluster_id'].value_counts()",
   "outputs": [
    {
     "output_type": "execute_result",
     "data": {
      "text/plain": "0    99993\n2        6\n1        1\nName: cluster_id, dtype: int64"
     },
     "metadata": {},
     "execution_count": 23
    }
   ],
   "execution_count": null
  },
  {
   "cell_type": "code",
   "metadata": {
    "id": "_eg0HFaHTpQ2",
    "executionInfo": {
     "status": "ok",
     "timestamp": 1642955219311,
     "user_tz": -330,
     "elapsed": 445,
     "user": {
      "displayName": "Himank Kansal",
      "photoUrl": "https://lh3.googleusercontent.com/a/default-user=s64",
      "userId": "12921478214650450287"
     }
    },
    "cell_id": "00043-1201ddc1-128d-49e0-b180-59447dff3a8b",
    "deepnote_cell_type": "code"
   },
   "source": "df_prov_cluster['cluster_id']=X['cluster_id']",
   "outputs": [],
   "execution_count": null
  },
  {
   "cell_type": "markdown",
   "source": "**Silhoute Evaluation**",
   "metadata": {
    "id": "aLfTI6So_s16",
    "cell_id": "00044-229dc18e-3bd6-4776-9660-2f9f599027f1",
    "deepnote_cell_type": "markdown"
   }
  },
  {
   "cell_type": "code",
   "metadata": {
    "id": "y_LxepeG_oj0",
    "executionInfo": {
     "status": "ok",
     "timestamp": 1642949959686,
     "user_tz": -330,
     "elapsed": 1215306,
     "user": {
      "displayName": "Himank Kansal",
      "photoUrl": "https://lh3.googleusercontent.com/a/default-user=s64",
      "userId": "12921478214650450287"
     }
    },
    "colab": {
     "base_uri": "https://localhost:8080/",
     "height": 537
    },
    "outputId": "fff4b504-5d2b-4343-c542-60b3cdcddb3f",
    "cell_id": "00045-e4c659b9-e690-449a-a859-814d8ba507ea",
    "deepnote_output_heights": [
     null,
     1,
     1,
     1,
     1,
     383
    ],
    "deepnote_cell_type": "code"
   },
   "source": "from sklearn.metrics import silhouette_score\n\nclusters = range(2,7)\nsilhoute_val = []\n\nfor i in clusters:\n    kmeans = KMeans(i, init='k-means++', max_iter=100, n_init=10, random_state=0)\n    cls = kmeans.fit_predict(scaled_data)\n    silhoute_val.append(silhouette_score(scaled_data, cls))\n    print(\"For {} clusters, we have silhoute score: {}\".format(i, silhoute_val))\n\nplt.plot(clusters,silhoute_val)\nplt.title('Custer Evaluation - Silhoute')\nplt.xlabel('Number of clusters')\nplt.ylabel('Silhoute Score')",
   "outputs": [
    {
     "output_type": "stream",
     "name": "stdout",
     "text": "For 2 clusters, we have silhoute score: [0.9990001421750971]\nFor 3 clusters, we have silhoute score: [0.9990001421750971, 0.9971404044809521]\nFor 4 clusters, we have silhoute score: [0.9990001421750971, 0.9971404044809521, 0.9783786965656909]\nFor 5 clusters, we have silhoute score: [0.9990001421750971, 0.9971404044809521, 0.9783786965656909, 0.9651989194420761]\nFor 6 clusters, we have silhoute score: [0.9990001421750971, 0.9971404044809521, 0.9783786965656909, 0.9651989194420761, 0.9652101811174943]\nFor 7 clusters, we have silhoute score: [0.9990001421750971, 0.9971404044809521, 0.9783786965656909, 0.9651989194420761, 0.9652101811174943, 0.9266437510824376]\nFor 8 clusters, we have silhoute score: [0.9990001421750971, 0.9971404044809521, 0.9783786965656909, 0.9651989194420761, 0.9652101811174943, 0.9266437510824376, 0.9082626589606129]\n"
    },
    {
     "output_type": "execute_result",
     "data": {
      "text/plain": "[<matplotlib.lines.Line2D at 0x7fcc7a4dcd50>]"
     },
     "metadata": {},
     "execution_count": 33
    },
    {
     "output_type": "execute_result",
     "data": {
      "text/plain": "Text(0.5, 1.0, 'Custer Evaluation - Silhoute')"
     },
     "metadata": {},
     "execution_count": 33
    },
    {
     "output_type": "execute_result",
     "data": {
      "text/plain": "Text(0.5, 0, 'Number of clusters')"
     },
     "metadata": {},
     "execution_count": 33
    },
    {
     "output_type": "execute_result",
     "data": {
      "text/plain": "Text(0, 0.5, 'Silhoute Score')"
     },
     "metadata": {},
     "execution_count": 33
    },
    {
     "output_type": "display_data",
     "data": {
      "image/png": "[encoded data removed]",
      "text/plain": "<Figure size 600x400 with 1 Axes>"
     },
     "metadata": {
      "image/png": {
       "width": 536,
       "height": 381
      }
     }
    }
   ],
   "execution_count": null
  },
  {
   "cell_type": "markdown",
   "source": "**Agglomerative (Hierarchical) Clustering**",
   "metadata": {
    "id": "L9uzzQqQAIa5",
    "cell_id": "00046-a97a0191-9187-4c50-8717-2abd65adebdf",
    "deepnote_cell_type": "markdown"
   }
  },
  {
   "cell_type": "code",
   "metadata": {
    "id": "LDAB-P3RAQw5",
    "cell_id": "00047-c2ca1da3-d36f-4f10-8f06-e14542a12956",
    "deepnote_cell_type": "code"
   },
   "source": "from sklearn.cluster import AgglomerativeClustering\n\naggClusters = AgglomerativeClustering(n_clusters=4).fit_predict(scaled_data)\n#clusters.labels_\nfrom scipy.cluster.hierarchy import ward, dendrogram\nplt.figure()\ndendrogram(ward(scaled_data))\nplt.show()",
   "outputs": [],
   "execution_count": null
  },
  {
   "cell_type": "markdown",
   "source": "**Visualization**",
   "metadata": {
    "id": "sl5A8F-IF1vA",
    "cell_id": "00048-996e9afa-f92e-46ce-acc5-1339931f290c",
    "deepnote_cell_type": "markdown"
   }
  },
  {
   "cell_type": "code",
   "metadata": {
    "id": "nnQ5d8U1F7MH",
    "executionInfo": {
     "status": "ok",
     "timestamp": 1642955399467,
     "user_tz": -330,
     "elapsed": 445,
     "user": {
      "displayName": "Himank Kansal",
      "photoUrl": "https://lh3.googleusercontent.com/a/default-user=s64",
      "userId": "12921478214650450287"
     }
    },
    "colab": {
     "base_uri": "https://localhost:8080/"
    },
    "outputId": "191e4f14-408f-4984-e6b5-ccec853835f5",
    "cell_id": "00049-dfba27ce-33c8-4464-8c43-99782ebcab92",
    "deepnote_output_heights": [
     1
    ],
    "deepnote_cell_type": "code"
   },
   "source": "df_prov_cluster_viz = df_prov_cluster[['Rndrng_NPI','Rndrng_Prvdr_Zip5','Tot_Benes','cluster_id']]\ndf_prov_cluster_viz_zip = df_prov_cluster_viz.groupby('Rndrng_Prvdr_Zip5').agg(\n    count_hcps = pd.NamedAgg(column=\"Rndrng_NPI\", aggfunc=\"count\"),\n    total_pts = pd.NamedAgg(column=\"Tot_Benes\", aggfunc=\"sum\"))\ndf_prov_cluster_viz_zip.count()",
   "outputs": [
    {
     "output_type": "execute_result",
     "data": {
      "text/plain": "count_hcps    12200\ntotal_pts     12200\ndtype: int64"
     },
     "metadata": {},
     "execution_count": 39
    }
   ],
   "execution_count": null
  },
  {
   "cell_type": "code",
   "metadata": {
    "colab": {
     "base_uri": "https://localhost:8080/",
     "height": 238
    },
    "id": "ApQMOBDRxVK_",
    "executionInfo": {
     "status": "ok",
     "timestamp": 1642955402166,
     "user_tz": -330,
     "elapsed": 472,
     "user": {
      "displayName": "Himank Kansal",
      "photoUrl": "https://lh3.googleusercontent.com/a/default-user=s64",
      "userId": "12921478214650450287"
     }
    },
    "outputId": "0e892388-65b8-4628-b152-86ab36a5a928",
    "cell_id": "00050-6a26da61-9861-4fdb-9fac-0cae11d846a1",
    "deepnote_output_heights": [
     1
    ],
    "deepnote_cell_type": "code"
   },
   "source": "df_prov_cluster_viz_zip.head()",
   "outputs": [
    {
     "output_type": "execute_result",
     "data": {
      "text/html": "\n  <div id=\"df-69867ca6-3ec4-4859-92de-396a8c44c37f\">\n    <div class=\"colab-df-container\">\n      <div>\n<style scoped>\n    .dataframe tbody tr th:only-of-type {\n        vertical-align: middle;\n    }\n\n    .dataframe tbody tr th {\n        vertical-align: top;\n    }\n\n    .dataframe thead th {\n        text-align: right;\n    }\n</style>\n<table border=\"1\" class=\"dataframe\">\n  <thead>\n    <tr style=\"text-align: right;\">\n      <th></th>\n      <th>count_hcps</th>\n      <th>total_pts</th>\n    </tr>\n    <tr>\n      <th>Rndrng_Prvdr_Zip5</th>\n      <th></th>\n      <th></th>\n    </tr>\n  </thead>\n  <tbody>\n    <tr>\n      <th>00601</th>\n      <td>1</td>\n      <td>41.0</td>\n    </tr>\n    <tr>\n      <th>00602</th>\n      <td>7</td>\n      <td>362.0</td>\n    </tr>\n    <tr>\n      <th>00603</th>\n      <td>7</td>\n      <td>322.0</td>\n    </tr>\n    <tr>\n      <th>00612</th>\n      <td>12</td>\n      <td>584.0</td>\n    </tr>\n    <tr>\n      <th>00613</th>\n      <td>1</td>\n      <td>17.0</td>\n    </tr>\n  </tbody>\n</table>\n</div>\n      <button class=\"colab-df-convert\" onclick=\"convertToInteractive('df-69867ca6-3ec4-4859-92de-396a8c44c37f')\"\n              title=\"Convert this dataframe to an interactive table.\"\n              style=\"display:none;\">\n        \n  <svg xmlns=\"http://www.w3.org/2000/svg\" height=\"24px\"viewBox=\"0 0 24 24\"\n       width=\"24px\">\n    <path d=\"M0 0h24v24H0V0z\" fill=\"none\"/>\n    <path d=\"M18.56 5.44l.94 2.06.94-2.06 2.06-.94-2.06-.94-.94-2.06-.94 2.06-2.06.94zm-11 1L8.5 8.5l.94-2.06 2.06-.94-2.06-.94L8.5 2.5l-.94 2.06-2.06.94zm10 10l.94 2.06.94-2.06 2.06-.94-2.06-.94-.94-2.06-.94 2.06-2.06.94z\"/><path d=\"M17.41 7.96l-1.37-1.37c-.4-.4-.92-.59-1.43-.59-.52 0-1.04.2-1.43.59L10.3 9.45l-7.72 7.72c-.78.78-.78 2.05 0 2.83L4 21.41c.39.39.9.59 1.41.59.51 0 1.02-.2 1.41-.59l7.78-7.78 2.81-2.81c.8-.78.8-2.07 0-2.86zM5.41 20L4 18.59l7.72-7.72 1.47 1.35L5.41 20z\"/>\n  </svg>\n      </button>\n      \n  <style>\n    .colab-df-container {\n      display:flex;\n      flex-wrap:wrap;\n      gap: 12px;\n    }\n\n    .colab-df-convert {\n      background-color: #E8F0FE;\n      border: none;\n      border-radius: 50%;\n      cursor: pointer;\n      display: none;\n      fill: #1967D2;\n      height: 32px;\n      padding: 0 0 0 0;\n      width: 32px;\n    }\n\n    .colab-df-convert:hover {\n      background-color: #E2EBFA;\n      box-shadow: 0px 1px 2px rgba(60, 64, 67, 0.3), 0px 1px 3px 1px rgba(60, 64, 67, 0.15);\n      fill: #174EA6;\n    }\n\n    [theme=dark] .colab-df-convert {\n      background-color: #3B4455;\n      fill: #D2E3FC;\n    }\n\n    [theme=dark] .colab-df-convert:hover {\n      background-color: #434B5C;\n      box-shadow: 0px 1px 3px 1px rgba(0, 0, 0, 0.15);\n      filter: drop-shadow(0px 1px 2px rgba(0, 0, 0, 0.3));\n      fill: #FFFFFF;\n    }\n  </style>\n\n      <script>\n        const buttonEl =\n          document.querySelector('#df-69867ca6-3ec4-4859-92de-396a8c44c37f button.colab-df-convert');\n        buttonEl.style.display =\n          google.colab.kernel.accessAllowed ? 'block' : 'none';\n\n        async function convertToInteractive(key) {\n          const element = document.querySelector('#df-69867ca6-3ec4-4859-92de-396a8c44c37f');\n          const dataTable =\n            await google.colab.kernel.invokeFunction('convertToInteractive',\n                                                     [key], {});\n          if (!dataTable) return;\n\n          const docLinkHtml = 'Like what you see? Visit the ' +\n            '<a target=\"_blank\" href=https://colab.research.google.com/notebooks/data_table.ipynb>data table notebook</a>'\n            + ' to learn more about interactive tables.';\n          element.innerHTML = '';\n          dataTable['output_type'] = 'display_data';\n          await google.colab.output.renderOutput(dataTable, element);\n          const docLink = document.createElement('div');\n          docLink.innerHTML = docLinkHtml;\n          element.appendChild(docLink);\n        }\n      </script>\n    </div>\n  </div>\n  ",
      "text/plain": "                   count_hcps  total_pts\nRndrng_Prvdr_Zip5                       \n00601                       1       41.0\n00602                       7      362.0\n00603                       7      322.0\n00612                      12      584.0\n00613                       1       17.0"
     },
     "metadata": {},
     "execution_count": 40
    }
   ],
   "execution_count": null
  },
  {
   "cell_type": "code",
   "metadata": {
    "id": "SRmFAQPsOcHQ",
    "executionInfo": {
     "status": "ok",
     "timestamp": 1642955486988,
     "user_tz": -330,
     "elapsed": 3613,
     "user": {
      "displayName": "Himank Kansal",
      "photoUrl": "https://lh3.googleusercontent.com/a/default-user=s64",
      "userId": "12921478214650450287"
     }
    },
    "colab": {
     "base_uri": "https://localhost:8080/",
     "height": 206
    },
    "outputId": "167ca398-96b1-406f-c594-1bec4199548c",
    "cell_id": "00051-32f5433b-deff-4d27-8c73-61c772f77772",
    "deepnote_output_heights": [
     1
    ],
    "deepnote_cell_type": "code"
   },
   "source": "df_zip = pd.read_excel(\"zip_lat_long.xlsx\", dtype={'ZIP': str, 'CNTRY_FIPS': str})\ndf_zip.head()",
   "outputs": [
    {
     "output_type": "execute_result",
     "data": {
      "text/html": "\n  <div id=\"df-3b7314a6-c0bd-4fda-b714-b558bd4c45a4\">\n    <div class=\"colab-df-container\">\n      <div>\n<style scoped>\n    .dataframe tbody tr th:only-of-type {\n        vertical-align: middle;\n    }\n\n    .dataframe tbody tr th {\n        vertical-align: top;\n    }\n\n    .dataframe thead th {\n        text-align: right;\n    }\n</style>\n<table border=\"1\" class=\"dataframe\">\n  <thead>\n    <tr style=\"text-align: right;\">\n      <th></th>\n      <th>ZIP</th>\n      <th>CITY</th>\n      <th>STATE</th>\n      <th>longitude</th>\n      <th>latitude</th>\n      <th>CNTRY_FIPS</th>\n    </tr>\n  </thead>\n  <tbody>\n    <tr>\n      <th>0</th>\n      <td>00501</td>\n      <td>HOLTSVILLE</td>\n      <td>NY</td>\n      <td>-73.045936</td>\n      <td>40.810747</td>\n      <td>36103</td>\n    </tr>\n    <tr>\n      <th>1</th>\n      <td>00544</td>\n      <td>HOLTSVILLE</td>\n      <td>NY</td>\n      <td>-73.045936</td>\n      <td>40.810747</td>\n      <td>36103</td>\n    </tr>\n    <tr>\n      <th>2</th>\n      <td>00601</td>\n      <td>ADJUNTAS</td>\n      <td>PR</td>\n      <td>-66.750909</td>\n      <td>18.181183</td>\n      <td>72001</td>\n    </tr>\n    <tr>\n      <th>3</th>\n      <td>00602</td>\n      <td>AGUADA</td>\n      <td>PR</td>\n      <td>-67.182899</td>\n      <td>18.364143</td>\n      <td>72003</td>\n    </tr>\n    <tr>\n      <th>4</th>\n      <td>00603</td>\n      <td>AGUADILLA</td>\n      <td>PR</td>\n      <td>-67.112863</td>\n      <td>18.448861</td>\n      <td>72005</td>\n    </tr>\n  </tbody>\n</table>\n</div>\n      <button class=\"colab-df-convert\" onclick=\"convertToInteractive('df-3b7314a6-c0bd-4fda-b714-b558bd4c45a4')\"\n              title=\"Convert this dataframe to an interactive table.\"\n              style=\"display:none;\">\n        \n  <svg xmlns=\"http://www.w3.org/2000/svg\" height=\"24px\"viewBox=\"0 0 24 24\"\n       width=\"24px\">\n    <path d=\"M0 0h24v24H0V0z\" fill=\"none\"/>\n    <path d=\"M18.56 5.44l.94 2.06.94-2.06 2.06-.94-2.06-.94-.94-2.06-.94 2.06-2.06.94zm-11 1L8.5 8.5l.94-2.06 2.06-.94-2.06-.94L8.5 2.5l-.94 2.06-2.06.94zm10 10l.94 2.06.94-2.06 2.06-.94-2.06-.94-.94-2.06-.94 2.06-2.06.94z\"/><path d=\"M17.41 7.96l-1.37-1.37c-.4-.4-.92-.59-1.43-.59-.52 0-1.04.2-1.43.59L10.3 9.45l-7.72 7.72c-.78.78-.78 2.05 0 2.83L4 21.41c.39.39.9.59 1.41.59.51 0 1.02-.2 1.41-.59l7.78-7.78 2.81-2.81c.8-.78.8-2.07 0-2.86zM5.41 20L4 18.59l7.72-7.72 1.47 1.35L5.41 20z\"/>\n  </svg>\n      </button>\n      \n  <style>\n    .colab-df-container {\n      display:flex;\n      flex-wrap:wrap;\n      gap: 12px;\n    }\n\n    .colab-df-convert {\n      background-color: #E8F0FE;\n      border: none;\n      border-radius: 50%;\n      cursor: pointer;\n      display: none;\n      fill: #1967D2;\n      height: 32px;\n      padding: 0 0 0 0;\n      width: 32px;\n    }\n\n    .colab-df-convert:hover {\n      background-color: #E2EBFA;\n      box-shadow: 0px 1px 2px rgba(60, 64, 67, 0.3), 0px 1px 3px 1px rgba(60, 64, 67, 0.15);\n      fill: #174EA6;\n    }\n\n    [theme=dark] .colab-df-convert {\n      background-color: #3B4455;\n      fill: #D2E3FC;\n    }\n\n    [theme=dark] .colab-df-convert:hover {\n      background-color: #434B5C;\n      box-shadow: 0px 1px 3px 1px rgba(0, 0, 0, 0.15);\n      filter: drop-shadow(0px 1px 2px rgba(0, 0, 0, 0.3));\n      fill: #FFFFFF;\n    }\n  </style>\n\n      <script>\n        const buttonEl =\n          document.querySelector('#df-3b7314a6-c0bd-4fda-b714-b558bd4c45a4 button.colab-df-convert');\n        buttonEl.style.display =\n          google.colab.kernel.accessAllowed ? 'block' : 'none';\n\n        async function convertToInteractive(key) {\n          const element = document.querySelector('#df-3b7314a6-c0bd-4fda-b714-b558bd4c45a4');\n          const dataTable =\n            await google.colab.kernel.invokeFunction('convertToInteractive',\n                                                     [key], {});\n          if (!dataTable) return;\n\n          const docLinkHtml = 'Like what you see? Visit the ' +\n            '<a target=\"_blank\" href=https://colab.research.google.com/notebooks/data_table.ipynb>data table notebook</a>'\n            + ' to learn more about interactive tables.';\n          element.innerHTML = '';\n          dataTable['output_type'] = 'display_data';\n          await google.colab.output.renderOutput(dataTable, element);\n          const docLink = document.createElement('div');\n          docLink.innerHTML = docLinkHtml;\n          element.appendChild(docLink);\n        }\n      </script>\n    </div>\n  </div>\n  ",
      "text/plain": "     ZIP        CITY STATE  longitude   latitude CNTRY_FIPS\n0  00501  HOLTSVILLE    NY -73.045936  40.810747      36103\n1  00544  HOLTSVILLE    NY -73.045936  40.810747      36103\n2  00601    ADJUNTAS    PR -66.750909  18.181183      72001\n3  00602      AGUADA    PR -67.182899  18.364143      72003\n4  00603   AGUADILLA    PR -67.112863  18.448861      72005"
     },
     "metadata": {},
     "execution_count": 44
    }
   ],
   "execution_count": null
  },
  {
   "cell_type": "code",
   "metadata": {
    "id": "N4jXCdg8OTtx",
    "executionInfo": {
     "status": "ok",
     "timestamp": 1642955486990,
     "user_tz": -330,
     "elapsed": 10,
     "user": {
      "displayName": "Himank Kansal",
      "photoUrl": "https://lh3.googleusercontent.com/a/default-user=s64",
      "userId": "12921478214650450287"
     }
    },
    "colab": {
     "base_uri": "https://localhost:8080/",
     "height": 206
    },
    "outputId": "2698874a-416a-4dab-a9cb-dae845b3f67f",
    "cell_id": "00052-2f6ff395-2ba8-42be-8149-28c6ea344de8",
    "deepnote_output_heights": [
     1
    ],
    "deepnote_cell_type": "code"
   },
   "source": "df_prov_cluster_viz_zip = df_prov_cluster_viz_zip.merge(df_zip,left_on = 'Rndrng_Prvdr_Zip5',right_on = 'ZIP',how = 'left')\ndf_prov_cluster_viz_zip.head()",
   "outputs": [
    {
     "output_type": "execute_result",
     "data": {
      "text/html": "\n  <div id=\"df-60121168-a2e9-45f4-81c6-d0ec732e1e60\">\n    <div class=\"colab-df-container\">\n      <div>\n<style scoped>\n    .dataframe tbody tr th:only-of-type {\n        vertical-align: middle;\n    }\n\n    .dataframe tbody tr th {\n        vertical-align: top;\n    }\n\n    .dataframe thead th {\n        text-align: right;\n    }\n</style>\n<table border=\"1\" class=\"dataframe\">\n  <thead>\n    <tr style=\"text-align: right;\">\n      <th></th>\n      <th>count_hcps</th>\n      <th>total_pts</th>\n      <th>ZIP</th>\n      <th>CITY</th>\n      <th>STATE</th>\n      <th>longitude</th>\n      <th>latitude</th>\n      <th>CNTRY_FIPS</th>\n    </tr>\n  </thead>\n  <tbody>\n    <tr>\n      <th>0</th>\n      <td>1</td>\n      <td>41.0</td>\n      <td>00601</td>\n      <td>ADJUNTAS</td>\n      <td>PR</td>\n      <td>-66.750909</td>\n      <td>18.181183</td>\n      <td>72001</td>\n    </tr>\n    <tr>\n      <th>1</th>\n      <td>7</td>\n      <td>362.0</td>\n      <td>00602</td>\n      <td>AGUADA</td>\n      <td>PR</td>\n      <td>-67.182899</td>\n      <td>18.364143</td>\n      <td>72003</td>\n    </tr>\n    <tr>\n      <th>2</th>\n      <td>7</td>\n      <td>322.0</td>\n      <td>00603</td>\n      <td>AGUADILLA</td>\n      <td>PR</td>\n      <td>-67.112863</td>\n      <td>18.448861</td>\n      <td>72005</td>\n    </tr>\n    <tr>\n      <th>3</th>\n      <td>12</td>\n      <td>584.0</td>\n      <td>00612</td>\n      <td>ARECIBO</td>\n      <td>PR</td>\n      <td>-66.675261</td>\n      <td>18.404316</td>\n      <td>72013</td>\n    </tr>\n    <tr>\n      <th>4</th>\n      <td>1</td>\n      <td>17.0</td>\n      <td>00613</td>\n      <td>ARECIBO</td>\n      <td>PR</td>\n      <td>-66.675261</td>\n      <td>18.404316</td>\n      <td>72013</td>\n    </tr>\n  </tbody>\n</table>\n</div>\n      <button class=\"colab-df-convert\" onclick=\"convertToInteractive('df-60121168-a2e9-45f4-81c6-d0ec732e1e60')\"\n              title=\"Convert this dataframe to an interactive table.\"\n              style=\"display:none;\">\n        \n  <svg xmlns=\"http://www.w3.org/2000/svg\" height=\"24px\"viewBox=\"0 0 24 24\"\n       width=\"24px\">\n    <path d=\"M0 0h24v24H0V0z\" fill=\"none\"/>\n    <path d=\"M18.56 5.44l.94 2.06.94-2.06 2.06-.94-2.06-.94-.94-2.06-.94 2.06-2.06.94zm-11 1L8.5 8.5l.94-2.06 2.06-.94-2.06-.94L8.5 2.5l-.94 2.06-2.06.94zm10 10l.94 2.06.94-2.06 2.06-.94-2.06-.94-.94-2.06-.94 2.06-2.06.94z\"/><path d=\"M17.41 7.96l-1.37-1.37c-.4-.4-.92-.59-1.43-.59-.52 0-1.04.2-1.43.59L10.3 9.45l-7.72 7.72c-.78.78-.78 2.05 0 2.83L4 21.41c.39.39.9.59 1.41.59.51 0 1.02-.2 1.41-.59l7.78-7.78 2.81-2.81c.8-.78.8-2.07 0-2.86zM5.41 20L4 18.59l7.72-7.72 1.47 1.35L5.41 20z\"/>\n  </svg>\n      </button>\n      \n  <style>\n    .colab-df-container {\n      display:flex;\n      flex-wrap:wrap;\n      gap: 12px;\n    }\n\n    .colab-df-convert {\n      background-color: #E8F0FE;\n      border: none;\n      border-radius: 50%;\n      cursor: pointer;\n      display: none;\n      fill: #1967D2;\n      height: 32px;\n      padding: 0 0 0 0;\n      width: 32px;\n    }\n\n    .colab-df-convert:hover {\n      background-color: #E2EBFA;\n      box-shadow: 0px 1px 2px rgba(60, 64, 67, 0.3), 0px 1px 3px 1px rgba(60, 64, 67, 0.15);\n      fill: #174EA6;\n    }\n\n    [theme=dark] .colab-df-convert {\n      background-color: #3B4455;\n      fill: #D2E3FC;\n    }\n\n    [theme=dark] .colab-df-convert:hover {\n      background-color: #434B5C;\n      box-shadow: 0px 1px 3px 1px rgba(0, 0, 0, 0.15);\n      filter: drop-shadow(0px 1px 2px rgba(0, 0, 0, 0.3));\n      fill: #FFFFFF;\n    }\n  </style>\n\n      <script>\n        const buttonEl =\n          document.querySelector('#df-60121168-a2e9-45f4-81c6-d0ec732e1e60 button.colab-df-convert');\n        buttonEl.style.display =\n          google.colab.kernel.accessAllowed ? 'block' : 'none';\n\n        async function convertToInteractive(key) {\n          const element = document.querySelector('#df-60121168-a2e9-45f4-81c6-d0ec732e1e60');\n          const dataTable =\n            await google.colab.kernel.invokeFunction('convertToInteractive',\n                                                     [key], {});\n          if (!dataTable) return;\n\n          const docLinkHtml = 'Like what you see? Visit the ' +\n            '<a target=\"_blank\" href=https://colab.research.google.com/notebooks/data_table.ipynb>data table notebook</a>'\n            + ' to learn more about interactive tables.';\n          element.innerHTML = '';\n          dataTable['output_type'] = 'display_data';\n          await google.colab.output.renderOutput(dataTable, element);\n          const docLink = document.createElement('div');\n          docLink.innerHTML = docLinkHtml;\n          element.appendChild(docLink);\n        }\n      </script>\n    </div>\n  </div>\n  ",
      "text/plain": "   count_hcps  total_pts    ZIP  ...  longitude   latitude  CNTRY_FIPS\n0           1       41.0  00601  ... -66.750909  18.181183       72001\n1           7      362.0  00602  ... -67.182899  18.364143       72003\n2           7      322.0  00603  ... -67.112863  18.448861       72005\n3          12      584.0  00612  ... -66.675261  18.404316       72013\n4           1       17.0  00613  ... -66.675261  18.404316       72013\n\n[5 rows x 8 columns]"
     },
     "metadata": {},
     "execution_count": 45
    }
   ],
   "execution_count": null
  },
  {
   "cell_type": "code",
   "metadata": {
    "id": "L_S0BBWrSL8s",
    "executionInfo": {
     "status": "ok",
     "timestamp": 1642955488969,
     "user_tz": -330,
     "elapsed": 526,
     "user": {
      "displayName": "Himank Kansal",
      "photoUrl": "https://lh3.googleusercontent.com/a/default-user=s64",
      "userId": "12921478214650450287"
     }
    },
    "cell_id": "00053-3888f21c-40be-479e-bab1-5ec83fada4e4",
    "deepnote_cell_type": "code"
   },
   "source": "df_prov_cluster_viz_zip.dropna(inplace=True)",
   "outputs": [],
   "execution_count": null
  },
  {
   "cell_type": "code",
   "metadata": {
    "id": "N9R7SBjrLykl",
    "executionInfo": {
     "status": "ok",
     "timestamp": 1642955239818,
     "user_tz": -330,
     "elapsed": 4,
     "user": {
      "displayName": "Himank Kansal",
      "photoUrl": "https://lh3.googleusercontent.com/a/default-user=s64",
      "userId": "12921478214650450287"
     }
    },
    "colab": {
     "base_uri": "https://localhost:8080/"
    },
    "outputId": "f7fb0b18-4c80-4683-a822-a5d4ec876d64",
    "cell_id": "00054-4e1d2c49-ba2c-4b28-b626-ae8309cb3441",
    "deepnote_output_heights": [
     1
    ],
    "deepnote_cell_type": "code"
   },
   "source": "\nimport altair as alt\nfrom vega_datasets import data\nalt.data_transformers.disable_max_rows()\nstates = alt.topo_feature(data.us_10m.url, feature=\"states\")",
   "outputs": [
    {
     "output_type": "execute_result",
     "data": {
      "text/plain": "DataTransformerRegistry.enable('default')"
     },
     "metadata": {},
     "execution_count": 29
    }
   ],
   "execution_count": null
  },
  {
   "cell_type": "code",
   "metadata": {
    "id": "sJnke4d8MESh",
    "executionInfo": {
     "status": "ok",
     "timestamp": 1642955241567,
     "user_tz": -330,
     "elapsed": 2,
     "user": {
      "displayName": "Himank Kansal",
      "photoUrl": "https://lh3.googleusercontent.com/a/default-user=s64",
      "userId": "12921478214650450287"
     }
    },
    "cell_id": "00055-b64079cf-1120-4ccc-b04c-32c7ee8699da",
    "deepnote_cell_type": "code"
   },
   "source": "background = alt.Chart(states).mark_geoshape(\n    fill=\"lightgray\",\n    stroke=\"white\"\n).properties(\n    width=750,\n    height=500\n).project(\"albersUsa\")\n\npoints1 = alt.Chart(df_prov_cluster_viz_zip).mark_circle(opacity=0.7).encode(\n    latitude=\"latitude:Q\",\n    longitude=\"longitude:Q\",\n    color=alt.Color(\"cluster_id:N\"),\n    size=alt.Size(\"count_hcps:Q\"),\n    #size=alt.Size(\"count_hcps:Q\", scale=alt.Scale(range=[0, 100]), legend=None),\n    #order=alt.Order(\"STATE:N\", sort=\"descending\"),\n    tooltip=[\"STATE:N\", \"count_hcps:Q\", \"total_pts:Q\"]\n)\n\ngeo_chart = (background + points1).configure_view(stroke=None)",
   "outputs": [],
   "execution_count": null
  },
  {
   "cell_type": "code",
   "metadata": {
    "id": "pgZq7NKkTK9R",
    "executionInfo": {
     "status": "ok",
     "timestamp": 1642955245668,
     "user_tz": -330,
     "elapsed": 2180,
     "user": {
      "displayName": "Himank Kansal",
      "photoUrl": "https://lh3.googleusercontent.com/a/default-user=s64",
      "userId": "12921478214650450287"
     }
    },
    "colab": {
     "base_uri": "https://localhost:8080/",
     "height": 534,
     "output_embedded_package_id": "1dZTCHGu4eUi8b4ihrLp5YGrejFUjhKjz"
    },
    "outputId": "37a3fcc8-90cc-443a-c78a-690c0c2c14c6",
    "cell_id": "00056-ef113511-0e85-4bce-af4e-124635edafd0",
    "deepnote_output_heights": [
     1
    ],
    "deepnote_cell_type": "code"
   },
   "source": "geo_chart",
   "outputs": [
    {
     "output_type": "display_data",
     "data": {
      "text/plain": "Output hidden; open in https://colab.research.google.com to view."
     },
     "metadata": {}
    }
   ],
   "execution_count": null
  },
  {
   "cell_type": "code",
   "metadata": {
    "colab": {
     "base_uri": "https://localhost:8080/"
    },
    "id": "n1A9EZZHuRK2",
    "executionInfo": {
     "status": "ok",
     "timestamp": 1642955506300,
     "user_tz": -330,
     "elapsed": 450,
     "user": {
      "displayName": "Himank Kansal",
      "photoUrl": "https://lh3.googleusercontent.com/a/default-user=s64",
      "userId": "12921478214650450287"
     }
    },
    "outputId": "e36b25af-36a5-4428-a397-86bcc585e940",
    "cell_id": "00057-9197d167-909d-413a-86cc-b78b7b687509",
    "deepnote_output_heights": [
     1
    ],
    "deepnote_cell_type": "code"
   },
   "source": "df_prov_cluster_viz_county = df_prov_cluster_viz_zip.groupby('CNTRY_FIPS').agg(\n    total_hcps = pd.NamedAgg(column=\"count_hcps\", aggfunc=\"sum\"),\n    total_pts = pd.NamedAgg(column=\"total_pts\", aggfunc=\"sum\")).reset_index()\ndf_prov_cluster_viz_county.count()",
   "outputs": [
    {
     "output_type": "execute_result",
     "data": {
      "text/plain": "CNTRY_FIPS    2665\ntotal_hcps    2665\ntotal_pts     2665\ndtype: int64"
     },
     "metadata": {},
     "execution_count": 48
    }
   ],
   "execution_count": null
  },
  {
   "cell_type": "code",
   "metadata": {
    "colab": {
     "base_uri": "https://localhost:8080/",
     "height": 206
    },
    "id": "IYjMW-xLxMP0",
    "executionInfo": {
     "status": "ok",
     "timestamp": 1642955511809,
     "user_tz": -330,
     "elapsed": 695,
     "user": {
      "displayName": "Himank Kansal",
      "photoUrl": "https://lh3.googleusercontent.com/a/default-user=s64",
      "userId": "12921478214650450287"
     }
    },
    "outputId": "105c88b5-5784-49a7-9a74-48c31ae09159",
    "cell_id": "00058-3ce984d1-53c0-4ddb-8567-165ca2ea6e24",
    "deepnote_output_heights": [
     1
    ],
    "deepnote_cell_type": "code"
   },
   "source": "df_prov_cluster_viz_county.head()",
   "outputs": [
    {
     "output_type": "execute_result",
     "data": {
      "text/html": "\n  <div id=\"df-ce6e2584-a914-4f06-a867-de2c7691a2fe\">\n    <div class=\"colab-df-container\">\n      <div>\n<style scoped>\n    .dataframe tbody tr th:only-of-type {\n        vertical-align: middle;\n    }\n\n    .dataframe tbody tr th {\n        vertical-align: top;\n    }\n\n    .dataframe thead th {\n        text-align: right;\n    }\n</style>\n<table border=\"1\" class=\"dataframe\">\n  <thead>\n    <tr style=\"text-align: right;\">\n      <th></th>\n      <th>CNTRY_FIPS</th>\n      <th>total_hcps</th>\n      <th>total_pts</th>\n    </tr>\n  </thead>\n  <tbody>\n    <tr>\n      <th>0</th>\n      <td>01001</td>\n      <td>9</td>\n      <td>2069.0</td>\n    </tr>\n    <tr>\n      <th>1</th>\n      <td>01003</td>\n      <td>51</td>\n      <td>13633.0</td>\n    </tr>\n    <tr>\n      <th>2</th>\n      <td>01005</td>\n      <td>4</td>\n      <td>1313.0</td>\n    </tr>\n    <tr>\n      <th>3</th>\n      <td>01007</td>\n      <td>2</td>\n      <td>107.0</td>\n    </tr>\n    <tr>\n      <th>4</th>\n      <td>01009</td>\n      <td>2</td>\n      <td>385.0</td>\n    </tr>\n  </tbody>\n</table>\n</div>\n      <button class=\"colab-df-convert\" onclick=\"convertToInteractive('df-ce6e2584-a914-4f06-a867-de2c7691a2fe')\"\n              title=\"Convert this dataframe to an interactive table.\"\n              style=\"display:none;\">\n        \n  <svg xmlns=\"http://www.w3.org/2000/svg\" height=\"24px\"viewBox=\"0 0 24 24\"\n       width=\"24px\">\n    <path d=\"M0 0h24v24H0V0z\" fill=\"none\"/>\n    <path d=\"M18.56 5.44l.94 2.06.94-2.06 2.06-.94-2.06-.94-.94-2.06-.94 2.06-2.06.94zm-11 1L8.5 8.5l.94-2.06 2.06-.94-2.06-.94L8.5 2.5l-.94 2.06-2.06.94zm10 10l.94 2.06.94-2.06 2.06-.94-2.06-.94-.94-2.06-.94 2.06-2.06.94z\"/><path d=\"M17.41 7.96l-1.37-1.37c-.4-.4-.92-.59-1.43-.59-.52 0-1.04.2-1.43.59L10.3 9.45l-7.72 7.72c-.78.78-.78 2.05 0 2.83L4 21.41c.39.39.9.59 1.41.59.51 0 1.02-.2 1.41-.59l7.78-7.78 2.81-2.81c.8-.78.8-2.07 0-2.86zM5.41 20L4 18.59l7.72-7.72 1.47 1.35L5.41 20z\"/>\n  </svg>\n      </button>\n      \n  <style>\n    .colab-df-container {\n      display:flex;\n      flex-wrap:wrap;\n      gap: 12px;\n    }\n\n    .colab-df-convert {\n      background-color: #E8F0FE;\n      border: none;\n      border-radius: 50%;\n      cursor: pointer;\n      display: none;\n      fill: #1967D2;\n      height: 32px;\n      padding: 0 0 0 0;\n      width: 32px;\n    }\n\n    .colab-df-convert:hover {\n      background-color: #E2EBFA;\n      box-shadow: 0px 1px 2px rgba(60, 64, 67, 0.3), 0px 1px 3px 1px rgba(60, 64, 67, 0.15);\n      fill: #174EA6;\n    }\n\n    [theme=dark] .colab-df-convert {\n      background-color: #3B4455;\n      fill: #D2E3FC;\n    }\n\n    [theme=dark] .colab-df-convert:hover {\n      background-color: #434B5C;\n      box-shadow: 0px 1px 3px 1px rgba(0, 0, 0, 0.15);\n      filter: drop-shadow(0px 1px 2px rgba(0, 0, 0, 0.3));\n      fill: #FFFFFF;\n    }\n  </style>\n\n      <script>\n        const buttonEl =\n          document.querySelector('#df-ce6e2584-a914-4f06-a867-de2c7691a2fe button.colab-df-convert');\n        buttonEl.style.display =\n          google.colab.kernel.accessAllowed ? 'block' : 'none';\n\n        async function convertToInteractive(key) {\n          const element = document.querySelector('#df-ce6e2584-a914-4f06-a867-de2c7691a2fe');\n          const dataTable =\n            await google.colab.kernel.invokeFunction('convertToInteractive',\n                                                     [key], {});\n          if (!dataTable) return;\n\n          const docLinkHtml = 'Like what you see? Visit the ' +\n            '<a target=\"_blank\" href=https://colab.research.google.com/notebooks/data_table.ipynb>data table notebook</a>'\n            + ' to learn more about interactive tables.';\n          element.innerHTML = '';\n          dataTable['output_type'] = 'display_data';\n          await google.colab.output.renderOutput(dataTable, element);\n          const docLink = document.createElement('div');\n          docLink.innerHTML = docLinkHtml;\n          element.appendChild(docLink);\n        }\n      </script>\n    </div>\n  </div>\n  ",
      "text/plain": "  CNTRY_FIPS  total_hcps  total_pts\n0      01001           9     2069.0\n1      01003          51    13633.0\n2      01005           4     1313.0\n3      01007           2      107.0\n4      01009           2      385.0"
     },
     "metadata": {},
     "execution_count": 49
    }
   ],
   "execution_count": null
  },
  {
   "cell_type": "code",
   "metadata": {
    "colab": {
     "base_uri": "https://localhost:8080/",
     "height": 300
    },
    "id": "IQ5TF4oyuoXx",
    "executionInfo": {
     "status": "ok",
     "timestamp": 1642955517980,
     "user_tz": -330,
     "elapsed": 470,
     "user": {
      "displayName": "Himank Kansal",
      "photoUrl": "https://lh3.googleusercontent.com/a/default-user=s64",
      "userId": "12921478214650450287"
     }
    },
    "outputId": "f5ed408a-5b6d-4691-e392-a7ceb73e81c8",
    "cell_id": "00059-a00cf099-998d-46e6-a784-e2b91603745a",
    "deepnote_output_heights": [
     1
    ],
    "deepnote_cell_type": "code"
   },
   "source": "df_prov_cluster_viz_county.describe()",
   "outputs": [
    {
     "output_type": "execute_result",
     "data": {
      "text/html": "\n  <div id=\"df-c20e3159-de74-415e-b96f-09222eecdd56\">\n    <div class=\"colab-df-container\">\n      <div>\n<style scoped>\n    .dataframe tbody tr th:only-of-type {\n        vertical-align: middle;\n    }\n\n    .dataframe tbody tr th {\n        vertical-align: top;\n    }\n\n    .dataframe thead th {\n        text-align: right;\n    }\n</style>\n<table border=\"1\" class=\"dataframe\">\n  <thead>\n    <tr style=\"text-align: right;\">\n      <th></th>\n      <th>total_hcps</th>\n      <th>total_pts</th>\n    </tr>\n  </thead>\n  <tbody>\n    <tr>\n      <th>count</th>\n      <td>2665.000000</td>\n      <td>2.665000e+03</td>\n    </tr>\n    <tr>\n      <th>mean</th>\n      <td>37.491182</td>\n      <td>1.271579e+04</td>\n    </tr>\n    <tr>\n      <th>std</th>\n      <td>110.948782</td>\n      <td>4.397946e+04</td>\n    </tr>\n    <tr>\n      <th>min</th>\n      <td>1.000000</td>\n      <td>1.100000e+01</td>\n    </tr>\n    <tr>\n      <th>25%</th>\n      <td>2.000000</td>\n      <td>3.180000e+02</td>\n    </tr>\n    <tr>\n      <th>50%</th>\n      <td>6.000000</td>\n      <td>1.248000e+03</td>\n    </tr>\n    <tr>\n      <th>75%</th>\n      <td>23.000000</td>\n      <td>7.362000e+03</td>\n    </tr>\n    <tr>\n      <th>max</th>\n      <td>2123.000000</td>\n      <td>1.360698e+06</td>\n    </tr>\n  </tbody>\n</table>\n</div>\n      <button class=\"colab-df-convert\" onclick=\"convertToInteractive('df-c20e3159-de74-415e-b96f-09222eecdd56')\"\n              title=\"Convert this dataframe to an interactive table.\"\n              style=\"display:none;\">\n        \n  <svg xmlns=\"http://www.w3.org/2000/svg\" height=\"24px\"viewBox=\"0 0 24 24\"\n       width=\"24px\">\n    <path d=\"M0 0h24v24H0V0z\" fill=\"none\"/>\n    <path d=\"M18.56 5.44l.94 2.06.94-2.06 2.06-.94-2.06-.94-.94-2.06-.94 2.06-2.06.94zm-11 1L8.5 8.5l.94-2.06 2.06-.94-2.06-.94L8.5 2.5l-.94 2.06-2.06.94zm10 10l.94 2.06.94-2.06 2.06-.94-2.06-.94-.94-2.06-.94 2.06-2.06.94z\"/><path d=\"M17.41 7.96l-1.37-1.37c-.4-.4-.92-.59-1.43-.59-.52 0-1.04.2-1.43.59L10.3 9.45l-7.72 7.72c-.78.78-.78 2.05 0 2.83L4 21.41c.39.39.9.59 1.41.59.51 0 1.02-.2 1.41-.59l7.78-7.78 2.81-2.81c.8-.78.8-2.07 0-2.86zM5.41 20L4 18.59l7.72-7.72 1.47 1.35L5.41 20z\"/>\n  </svg>\n      </button>\n      \n  <style>\n    .colab-df-container {\n      display:flex;\n      flex-wrap:wrap;\n      gap: 12px;\n    }\n\n    .colab-df-convert {\n      background-color: #E8F0FE;\n      border: none;\n      border-radius: 50%;\n      cursor: pointer;\n      display: none;\n      fill: #1967D2;\n      height: 32px;\n      padding: 0 0 0 0;\n      width: 32px;\n    }\n\n    .colab-df-convert:hover {\n      background-color: #E2EBFA;\n      box-shadow: 0px 1px 2px rgba(60, 64, 67, 0.3), 0px 1px 3px 1px rgba(60, 64, 67, 0.15);\n      fill: #174EA6;\n    }\n\n    [theme=dark] .colab-df-convert {\n      background-color: #3B4455;\n      fill: #D2E3FC;\n    }\n\n    [theme=dark] .colab-df-convert:hover {\n      background-color: #434B5C;\n      box-shadow: 0px 1px 3px 1px rgba(0, 0, 0, 0.15);\n      filter: drop-shadow(0px 1px 2px rgba(0, 0, 0, 0.3));\n      fill: #FFFFFF;\n    }\n  </style>\n\n      <script>\n        const buttonEl =\n          document.querySelector('#df-c20e3159-de74-415e-b96f-09222eecdd56 button.colab-df-convert');\n        buttonEl.style.display =\n          google.colab.kernel.accessAllowed ? 'block' : 'none';\n\n        async function convertToInteractive(key) {\n          const element = document.querySelector('#df-c20e3159-de74-415e-b96f-09222eecdd56');\n          const dataTable =\n            await google.colab.kernel.invokeFunction('convertToInteractive',\n                                                     [key], {});\n          if (!dataTable) return;\n\n          const docLinkHtml = 'Like what you see? Visit the ' +\n            '<a target=\"_blank\" href=https://colab.research.google.com/notebooks/data_table.ipynb>data table notebook</a>'\n            + ' to learn more about interactive tables.';\n          element.innerHTML = '';\n          dataTable['output_type'] = 'display_data';\n          await google.colab.output.renderOutput(dataTable, element);\n          const docLink = document.createElement('div');\n          docLink.innerHTML = docLinkHtml;\n          element.appendChild(docLink);\n        }\n      </script>\n    </div>\n  </div>\n  ",
      "text/plain": "        total_hcps     total_pts\ncount  2665.000000  2.665000e+03\nmean     37.491182  1.271579e+04\nstd     110.948782  4.397946e+04\nmin       1.000000  1.100000e+01\n25%       2.000000  3.180000e+02\n50%       6.000000  1.248000e+03\n75%      23.000000  7.362000e+03\nmax    2123.000000  1.360698e+06"
     },
     "metadata": {},
     "execution_count": 50
    }
   ],
   "execution_count": null
  },
  {
   "cell_type": "code",
   "metadata": {
    "id": "AfTiqQtCvQVS",
    "executionInfo": {
     "status": "ok",
     "timestamp": 1642955280925,
     "user_tz": -330,
     "elapsed": 1655,
     "user": {
      "displayName": "Himank Kansal",
      "photoUrl": "https://lh3.googleusercontent.com/a/default-user=s64",
      "userId": "12921478214650450287"
     }
    },
    "cell_id": "00060-d933bd9b-916b-4adf-bc1d-7bb4dd36fc0c",
    "deepnote_cell_type": "code"
   },
   "source": "import plotly.express as px\nfrom urllib.request import urlopen\nimport json\nimport plotly.graph_objects as go\n\nwith urlopen('https://raw.githubusercontent.com/plotly/datasets/master/geojson-counties-fips.json') as response:\n    counties = json.load(response)",
   "outputs": [],
   "execution_count": null
  },
  {
   "cell_type": "code",
   "metadata": {
    "id": "CNsRf2vIuP-d",
    "executionInfo": {
     "status": "ok",
     "timestamp": 1642955702683,
     "user_tz": -330,
     "elapsed": 2319,
     "user": {
      "displayName": "Himank Kansal",
      "photoUrl": "https://lh3.googleusercontent.com/a/default-user=s64",
      "userId": "12921478214650450287"
     }
    },
    "cell_id": "00061-28a12b7d-466b-42b0-8751-40ba7defd28e",
    "deepnote_cell_type": "code"
   },
   "source": "#Create a choropleth map\n\nfig = px.choropleth(df_prov_cluster_viz_county, geojson=counties, locations='CNTRY_FIPS', color='total_pts',\n                           color_continuous_scale=[(0, \"white\"), (0.4, \"lightblue\"), (0.8, '#03487F'), (1, \"black\")],\n                           range_color=(0,5000),\n                           scope=\"usa\",\n                            hover_data=['total_hcps', 'total_pts']\n                           #labels={'TERR'}\n                          )\n#fig.update_layout(margin={\"r\":0,\"t\":0,\"l\":0,\"b\":0},title_text='County level HCP data')\n#fig.update_geos(\n#    visible=True, resolution=110, scope=\"usa\",\n#    showcountries=True, countrycolor=\"Green\",\n#    showsubunits=True, subunitcolor=\"Red\"\n#)\n",
   "outputs": [],
   "execution_count": null
  },
  {
   "cell_type": "code",
   "metadata": {
    "colab": {
     "base_uri": "https://localhost:8080/",
     "height": 542,
     "output_embedded_package_id": "1gWXNTBa98Vw59l2TpaHawXXcuJOBQrSP"
    },
    "id": "ma4DMPC6yTBr",
    "executionInfo": {
     "status": "ok",
     "timestamp": 1642955708442,
     "user_tz": -330,
     "elapsed": 3044,
     "user": {
      "displayName": "Himank Kansal",
      "photoUrl": "https://lh3.googleusercontent.com/a/default-user=s64",
      "userId": "12921478214650450287"
     }
    },
    "outputId": "7e732116-43bb-48c2-d931-300aedd5fc6e",
    "cell_id": "00062-0ff0a455-8f10-4421-aa5d-3c8300851ed3",
    "deepnote_output_heights": [
     1
    ],
    "deepnote_cell_type": "code"
   },
   "source": "fig.show()",
   "outputs": [
    {
     "output_type": "display_data",
     "data": {
      "text/plain": "Output hidden; open in https://colab.research.google.com to view."
     },
     "metadata": {}
    }
   ],
   "execution_count": null
  },
  {
   "cell_type": "markdown",
   "source": "**Light GBM**",
   "metadata": {
    "id": "2SDlHZJ6qlsK",
    "cell_id": "00063-0f6ccf92-ed8f-4176-ac95-b10aeb456db4",
    "deepnote_cell_type": "markdown"
   }
  },
  {
   "cell_type": "code",
   "metadata": {
    "id": "fWCKhj6dqmUi",
    "cell_id": "00064-3b3aa3c8-437f-46ef-ad98-834e4915ea72",
    "deepnote_cell_type": "code"
   },
   "source": "# import optuna\nfrom lightgbm import LGBMModel, LGBMClassifier, LGBMRegressor\nfrom sklearn.metrics import mean_squared_error, mean_absolute_percentage_error\nimport lightgbm as lgb\nfrom sklearn.model_selection import train_test_split,GridSearchCV",
   "outputs": [],
   "execution_count": null
  },
  {
   "cell_type": "code",
   "metadata": {
    "id": "Orl883BmqyJG",
    "cell_id": "00065-160b6cb3-a5f5-475a-9b64-5d8047b902f4",
    "deepnote_cell_type": "code"
   },
   "source": "",
   "outputs": [],
   "execution_count": null
  },
  {
   "cell_type": "markdown",
   "source": "<a style='text-decoration:none;line-height:16px;display:flex;color:#5B5B62;padding:10px;justify-content:end;' href='https://deepnote.com?utm_source=created-in-deepnote-cell&projectId=f3594ae2-e1b0-4476-8420-ffda39dfce6e' target=\"_blank\">\n<img alt='Created in deepnote.com' style='display:inline;max-height:16px;margin:0px;margin-right:7.5px;' src='data:image/svg+xml;base64,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' > </img>\nCreated in <span style='font-weight:600;margin-left:4px;'>Deepnote</span></a>",
   "metadata": {
    "tags": [],
    "created_in_deepnote_cell": true,
    "deepnote_cell_type": "markdown"
   }
  }
 ],
 "nbformat": 4,
 "nbformat_minor": 0,
 "metadata": {
  "colab": {
   "name": "Supervised and Unsupervised learning on CMS Data.ipynb",
   "provenance": [],
   "toc_visible": true
  },
  "kernelspec": {
   "name": "python3",
   "display_name": "Python 3"
  },
  "language_info": {
   "name": "python"
  },
  "widgets": {
   "application/vnd.jupyter.widget-state+json": {
    "441a8131566644a4a38420cd33d51792": {
     "model_module": "@jupyter-widgets/controls",
     "model_name": "HBoxModel",
     "model_module_version": "1.5.0",
     "state": {
      "_view_name": "HBoxView",
      "_dom_classes": [],
      "_model_name": "HBoxModel",
      "_view_module": "@jupyter-widgets/controls",
      "_model_module_version": "1.5.0",
      "_view_count": null,
      "_view_module_version": "1.5.0",
      "box_style": "",
      "layout": "IPY_MODEL_c302e8be5b2c471c93157cb45cdd7cf7",
      "_model_module": "@jupyter-widgets/controls",
      "children": [
       "IPY_MODEL_2f334eb116c04c009898dd33d053fa06",
       "IPY_MODEL_38c3ec321d354d389cdada1154a789ae",
       "IPY_MODEL_a3146fcec3994388861605eafeb50945"
      ]
     }
    },
    "c302e8be5b2c471c93157cb45cdd7cf7": {
     "model_module": "@jupyter-widgets/base",
     "model_name": "LayoutModel",
     "model_module_version": "1.2.0",
     "state": {
      "_view_name": "LayoutView",
      "grid_template_rows": null,
      "right": null,
      "justify_content": null,
      "_view_module": "@jupyter-widgets/base",
      "overflow": null,
      "_model_module_version": "1.2.0",
      "_view_count": null,
      "flex_flow": "row wrap",
      "width": "100%",
      "min_width": null,
      "border": null,
      "align_items": null,
      "bottom": null,
      "_model_module": "@jupyter-widgets/base",
      "top": null,
      "grid_column": null,
      "overflow_y": null,
      "overflow_x": null,
      "grid_auto_flow": null,
      "grid_area": null,
      "grid_template_columns": null,
      "flex": null,
      "_model_name": "LayoutModel",
      "justify_items": null,
      "grid_row": null,
      "max_height": null,
      "align_content": null,
      "visibility": null,
      "align_self": null,
      "height": null,
      "min_height": null,
      "padding": null,
      "grid_auto_rows": null,
      "grid_gap": null,
      "max_width": null,
      "order": null,
      "_view_module_version": "1.2.0",
      "grid_template_areas": null,
      "object_position": null,
      "object_fit": null,
      "grid_auto_columns": null,
      "margin": null,
      "display": "inline-flex",
      "left": null
     }
    },
    "2f334eb116c04c009898dd33d053fa06": {
     "model_module": "@jupyter-widgets/controls",
     "model_name": "HTMLModel",
     "model_module_version": "1.5.0",
     "state": {
      "_view_name": "HTMLView",
      "style": "IPY_MODEL_73e0403af264460d97d568c5ce639f5f",
      "_dom_classes": [],
      "description": "",
      "_model_name": "HTMLModel",
      "placeholder": "​",
      "_view_module": "@jupyter-widgets/controls",
      "_model_module_version": "1.5.0",
      "value": "Done! Use &#x27;show&#x27; commands to display/save.   ",
      "_view_count": null,
      "_view_module_version": "1.5.0",
      "description_tooltip": null,
      "_model_module": "@jupyter-widgets/controls",
      "layout": "IPY_MODEL_470dc5eadcfa4b858bae0ae432bda6a3"
     }
    },
    "38c3ec321d354d389cdada1154a789ae": {
     "model_module": "@jupyter-widgets/controls",
     "model_name": "FloatProgressModel",
     "model_module_version": "1.5.0",
     "state": {
      "_view_name": "ProgressView",
      "style": "IPY_MODEL_f68fcf20c499479ba2f396d3bb3fe85c",
      "_dom_classes": [],
      "description": "",
      "_model_name": "FloatProgressModel",
      "bar_style": "success",
      "max": 1,
      "_view_module": "@jupyter-widgets/controls",
      "_model_module_version": "1.5.0",
      "value": 1,
      "_view_count": null,
      "_view_module_version": "1.5.0",
      "orientation": "horizontal",
      "min": 0,
      "description_tooltip": null,
      "_model_module": "@jupyter-widgets/controls",
      "layout": "IPY_MODEL_ff14c16630114b9e9203743a394b65dd"
     }
    },
    "a3146fcec3994388861605eafeb50945": {
     "model_module": "@jupyter-widgets/controls",
     "model_name": "HTMLModel",
     "model_module_version": "1.5.0",
     "state": {
      "_view_name": "HTMLView",
      "style": "IPY_MODEL_f8da841ac8154333898eddf65f51e834",
      "_dom_classes": [],
      "description": "",
      "_model_name": "HTMLModel",
      "placeholder": "​",
      "_view_module": "@jupyter-widgets/controls",
      "_model_module_version": "1.5.0",
      "value": " [100%]   00:07 -&gt; (00:00 left)",
      "_view_count": null,
      "_view_module_version": "1.5.0",
      "description_tooltip": null,
      "_model_module": "@jupyter-widgets/controls",
      "layout": "IPY_MODEL_651f80536409424486766c9a8f5d6634"
     }
    },
    "73e0403af264460d97d568c5ce639f5f": {
     "model_module": "@jupyter-widgets/controls",
     "model_name": "DescriptionStyleModel",
     "model_module_version": "1.5.0",
     "state": {
      "_view_name": "StyleView",
      "_model_name": "DescriptionStyleModel",
      "description_width": "",
      "_view_module": "@jupyter-widgets/base",
      "_model_module_version": "1.5.0",
      "_view_count": null,
      "_view_module_version": "1.2.0",
      "_model_module": "@jupyter-widgets/controls"
     }
    },
    "470dc5eadcfa4b858bae0ae432bda6a3": {
     "model_module": "@jupyter-widgets/base",
     "model_name": "LayoutModel",
     "model_module_version": "1.2.0",
     "state": {
      "_view_name": "LayoutView",
      "grid_template_rows": null,
      "right": null,
      "justify_content": null,
      "_view_module": "@jupyter-widgets/base",
      "overflow": null,
      "_model_module_version": "1.2.0",
      "_view_count": null,
      "flex_flow": null,
      "width": null,
      "min_width": null,
      "border": null,
      "align_items": null,
      "bottom": null,
      "_model_module": "@jupyter-widgets/base",
      "top": null,
      "grid_column": null,
      "overflow_y": null,
      "overflow_x": null,
      "grid_auto_flow": null,
      "grid_area": null,
      "grid_template_columns": null,
      "flex": null,
      "_model_name": "LayoutModel",
      "justify_items": null,
      "grid_row": null,
      "max_height": null,
      "align_content": null,
      "visibility": null,
      "align_self": null,
      "height": null,
      "min_height": null,
      "padding": null,
      "grid_auto_rows": null,
      "grid_gap": null,
      "max_width": null,
      "order": null,
      "_view_module_version": "1.2.0",
      "grid_template_areas": null,
      "object_position": null,
      "object_fit": null,
      "grid_auto_columns": null,
      "margin": null,
      "display": null,
      "left": null
     }
    },
    "f68fcf20c499479ba2f396d3bb3fe85c": {
     "model_module": "@jupyter-widgets/controls",
     "model_name": "ProgressStyleModel",
     "model_module_version": "1.5.0",
     "state": {
      "_view_name": "StyleView",
      "_model_name": "ProgressStyleModel",
      "description_width": "",
      "_view_module": "@jupyter-widgets/base",
      "_model_module_version": "1.5.0",
      "_view_count": null,
      "_view_module_version": "1.2.0",
      "bar_color": null,
      "_model_module": "@jupyter-widgets/controls"
     }
    },
    "ff14c16630114b9e9203743a394b65dd": {
     "model_module": "@jupyter-widgets/base",
     "model_name": "LayoutModel",
     "model_module_version": "1.2.0",
     "state": {
      "_view_name": "LayoutView",
      "grid_template_rows": null,
      "right": null,
      "justify_content": null,
      "_view_module": "@jupyter-widgets/base",
      "overflow": null,
      "_model_module_version": "1.2.0",
      "_view_count": null,
      "flex_flow": null,
      "width": null,
      "min_width": null,
      "border": null,
      "align_items": null,
      "bottom": null,
      "_model_module": "@jupyter-widgets/base",
      "top": null,
      "grid_column": null,
      "overflow_y": null,
      "overflow_x": null,
      "grid_auto_flow": null,
      "grid_area": null,
      "grid_template_columns": null,
      "flex": "2",
      "_model_name": "LayoutModel",
      "justify_items": null,
      "grid_row": null,
      "max_height": null,
      "align_content": null,
      "visibility": null,
      "align_self": null,
      "height": null,
      "min_height": null,
      "padding": null,
      "grid_auto_rows": null,
      "grid_gap": null,
      "max_width": null,
      "order": null,
      "_view_module_version": "1.2.0",
      "grid_template_areas": null,
      "object_position": null,
      "object_fit": null,
      "grid_auto_columns": null,
      "margin": null,
      "display": null,
      "left": null
     }
    },
    "f8da841ac8154333898eddf65f51e834": {
     "model_module": "@jupyter-widgets/controls",
     "model_name": "DescriptionStyleModel",
     "model_module_version": "1.5.0",
     "state": {
      "_view_name": "StyleView",
      "_model_name": "DescriptionStyleModel",
      "description_width": "",
      "_view_module": "@jupyter-widgets/base",
      "_model_module_version": "1.5.0",
      "_view_count": null,
      "_view_module_version": "1.2.0",
      "_model_module": "@jupyter-widgets/controls"
     }
    },
    "651f80536409424486766c9a8f5d6634": {
     "model_module": "@jupyter-widgets/base",
     "model_name": "LayoutModel",
     "model_module_version": "1.2.0",
     "state": {
      "_view_name": "LayoutView",
      "grid_template_rows": null,
      "right": null,
      "justify_content": null,
      "_view_module": "@jupyter-widgets/base",
      "overflow": null,
      "_model_module_version": "1.2.0",
      "_view_count": null,
      "flex_flow": null,
      "width": null,
      "min_width": null,
      "border": null,
      "align_items": null,
      "bottom": null,
      "_model_module": "@jupyter-widgets/base",
      "top": null,
      "grid_column": null,
      "overflow_y": null,
      "overflow_x": null,
      "grid_auto_flow": null,
      "grid_area": null,
      "grid_template_columns": null,
      "flex": null,
      "_model_name": "LayoutModel",
      "justify_items": null,
      "grid_row": null,
      "max_height": null,
      "align_content": null,
      "visibility": null,
      "align_self": null,
      "height": null,
      "min_height": null,
      "padding": null,
      "grid_auto_rows": null,
      "grid_gap": null,
      "max_width": null,
      "order": null,
      "_view_module_version": "1.2.0",
      "grid_template_areas": null,
      "object_position": null,
      "object_fit": null,
      "grid_auto_columns": null,
      "margin": null,
      "display": null,
      "left": null
     }
    }
   }
  },
  "deepnote_notebook_id": "6f471251-1ab3-4aa5-bcd3-1754fa335f80",
  "deepnote": {},
  "deepnote_execution_queue": []
 }
}