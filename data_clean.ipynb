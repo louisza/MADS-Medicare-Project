{
 "cells": [
  {
   "cell_type": "code",
   "source": "# !ls /datasets/cms",
   "metadata": {
    "cell_id": "bfef9752-5be4-412c-8d58-c307d23d8efa",
    "tags": [],
    "deepnote_to_be_reexecuted": false,
    "source_hash": "eb82828b",
    "execution_start": 1642474696267,
    "execution_millis": 20483776,
    "deepnote_cell_type": "code"
   },
   "outputs": [],
   "execution_count": null
  },
  {
   "cell_type": "code",
   "source": "import pandas as pd\nimport numpy as np\n",
   "metadata": {
    "cell_id": "af7cde79-c9db-45bf-8c30-71bf51741002",
    "tags": [],
    "deepnote_to_be_reexecuted": false,
    "source_hash": "f01204a9",
    "execution_start": 1642474696268,
    "execution_millis": 1865069,
    "deepnote_cell_type": "code"
   },
   "outputs": [],
   "execution_count": null
  },
  {
   "cell_type": "code",
   "metadata": {
    "tags": [],
    "cell_id": "c3cbba44-6a3f-46b7-8394-011196a0714d",
    "deepnote_to_be_reexecuted": false,
    "source_hash": "12cb76fe",
    "execution_start": 1642474696287,
    "execution_millis": 2430,
    "deepnote_output_heights": [
     577.625
    ],
    "deepnote_cell_type": "code"
   },
   "source": "df = pd.read_parquet('/datasets/cms/prov_svc_2019_mi.parquet')\n# dtype={'HCPCS_Cd': 'string', 'Rndrng_Prvdr_Zip5': 'string','Rndrng_Prvdr_RUCA': 'float64', 'Rndrng_Prvdr_State_FIPS': 'float64', 'Tot_Srvcs': 'float64'})\n# df.dtypes",
   "outputs": [],
   "execution_count": null
  },
  {
   "cell_type": "code",
   "source": "# missing value for Rndrng_Prvdr_Crdntls and Rndrng_Prvdr_Gndr\ndf = df.fillna('')",
   "metadata": {
    "cell_id": "66b4d629-4d4f-4001-8e25-f943eeba7883",
    "tags": [],
    "deepnote_to_be_reexecuted": false,
    "source_hash": "868fb0a0",
    "execution_start": 1642474698735,
    "execution_millis": 1714,
    "deepnote_cell_type": "code"
   },
   "outputs": [],
   "execution_count": null
  },
  {
   "cell_type": "code",
   "metadata": {
    "cell_id": "2859d6b2-d60b-4708-a1c3-f487d7803735",
    "tags": [],
    "deepnote_to_be_reexecuted": false,
    "source_hash": "daffe58c",
    "execution_start": 1642474700471,
    "execution_millis": 2359,
    "deepnote_output_heights": [
     289.8125
    ],
    "deepnote_cell_type": "code"
   },
   "source": "def crdntls_map(crdntls):\n    result = crdntls\n    if (type(crdntls) == type('str')):        \n        result = crdntls.replace ('.','').replace('>','') \\\n                        .replace('DOCTOR OF AUDIOLOGY','AUD').replace('DR  AUDIOLOGY','AUD').replace('AUDIOLOGIST','AUD') \\\n                        .replace('DC CHIROPRACTOR','DC').replace('DOCTOR OF CHIROPRACT','DC').replace('CHIROPRACTOR DC','DC')  \\\n                        .replace('DC DR OF CHIROPRACTI','DC').replace('DC DOCTOR OF CHIROPR','DC').replace('CHIROPRACTIC','DC')  \\\n                        .replace('D O','DO').replace('D.O.','DO').replace('D.O','DO') \\\n                        .replace('D P M','DPM') \\\n                        .replace ('M D','MD').replace ('M.D.','MD').replace ('M. D.','MD').replace('M.D','MD').replace('M>D>','MD') \\\n                        .replace('M D','MD').replace('M,D,','MD') \\\n                        .replace('N P','NP') \\\n                        .replace('NURSE PRACTITIONER','NP').replace('NURSE PRACITIONER','NP').replace('NP NURSE PRACTITIONE','NP') \\\n                        .replace('NURSE PRACTIONER','NP').replace('NP- NURSE PRACTITION', 'NP').replace('NURSE PRACTTIONER','NP') \\\n                        .replace('NP(WOMEN\\'S HEALTH)','NP').replace('FAMILY NURSE PRACTIT','NP').replace('FAMILY NURSE PRACTIO', 'NP') \\\n                        .replace('NATALIE BROWN','').replace('ISLAM GOMAA','') \\\n                        .replace('FAMILY PRACTICE','').replace('INTERNAL MEDICINE','') \\\n                        .replace('OD DR OF OPTOMETRY','OD').replace('LINDSEY WYNKOOP, OD','OD')  \\\n                        .replace('PA-C','PAC').replace('(PA-C)','PAC').replace('(PAC)','PAC').replace('PA -C','PAC') \\\n                        .replace('PH D','PHD').replace('PH.D.','PHD').replace('DOCTORATE IN PHYSICA','PHD')  \\\n                        .replace('PHYSICIAN ASSISTANT','PA').replace('PHYSICIANS ASSISTANT','PA').replace('WILLIAM BLAKESLEE PA','PA') \\\n                        .replace('P A','PA').replace('PHYSICAL THERAPIST', 'PT').replace('P T','PT') \\\n                        .replace('REGISTERED DIETITIAN','RD')  \\\n                        .replace('SOCIAL WORKER','SW')\n    else:\n        result = ''\n    \n    return result\n\ndef isMD(crdntls):\n    result = 0\n    if (('MD' in crdntls) or ('DO' in crdntls) or ('MBBS' in crdntls)):\n        result = 1\n    return result\n\ndf.Rndrng_Prvdr_Crdntls = df.Rndrng_Prvdr_Crdntls.apply(lambda x: crdntls_map(x))\ndf['md'] = df.Rndrng_Prvdr_Crdntls.apply(lambda x: isMD(x))",
   "outputs": [],
   "execution_count": null
  },
  {
   "cell_type": "code",
   "metadata": {
    "cell_id": "bd07d8de-ddad-4366-b6c8-f5c5dfb3b577",
    "tags": [],
    "deepnote_to_be_reexecuted": false,
    "source_hash": "7dba413f",
    "execution_start": 1642474702836,
    "execution_millis": 6,
    "deepnote_output_heights": [
     59.5625
    ],
    "deepnote_cell_type": "code"
   },
   "source": "# len(df.Rndrng_Prvdr_Crdntls.unique()), df.Rndrng_Prvdr_Crdntls.unique()\n# df.Rndrng_Prvdr_Gndr.unique()\n# df.Rndrng_Prvdr_Ent_Cd.unique()\n# df.Rndrng_Prvdr_Type.unique()\n# df.Rndrng_Prvdr_Mdcr_Prtcptg_Ind.unique()\n# df.HCPCS_Drug_Ind.unique()\n# df.Place_Of_Srvc.unique()",
   "outputs": [],
   "execution_count": null
  },
  {
   "cell_type": "code",
   "source": "df['gender'] = np.where((df.Rndrng_Prvdr_Gndr == 'M'), 1, 0) \ndf['entity'] = np.where(df.Rndrng_Prvdr_Ent_Cd == 'O', 1, 0) # organization or individual\ndf['Rndrng_Prvdr_Mdcr_Prtcptg_Ind'] = np.where(df.Rndrng_Prvdr_Mdcr_Prtcptg_Ind == 'Y', 1, 0)\ndf['HCPCS_Drug_Ind'] = np.where(df.HCPCS_Drug_Ind == 'Y', 1, 0)\ndf['facility'] = np.where(df.Place_Of_Srvc == 'F', 1, 0)",
   "metadata": {
    "cell_id": "ec6b6ea8-edcc-4688-89f8-d43bb0000d42",
    "tags": [],
    "deepnote_to_be_reexecuted": false,
    "source_hash": "e30d527c",
    "execution_start": 1642474702853,
    "execution_millis": 310,
    "deepnote_output_heights": [
     21.1875
    ],
    "deepnote_cell_type": "code"
   },
   "outputs": [],
   "execution_count": null
  },
  {
   "cell_type": "code",
   "source": "# len(df.md.unique()), len(df.gender.unique()), len(df.entity.unique()), len(df.facility.unique())",
   "metadata": {
    "cell_id": "18bbf67b-af8a-43f3-9c97-47ee9511ef83",
    "tags": [],
    "deepnote_to_be_reexecuted": false,
    "source_hash": "f875f6db",
    "execution_start": 1642474703179,
    "execution_millis": 67970,
    "deepnote_output_heights": [
     21.1875
    ],
    "deepnote_cell_type": "code"
   },
   "outputs": [],
   "execution_count": null
  },
  {
   "cell_type": "code",
   "source": "# df.Rndrng_Prvdr_RUCA.unique()\n# df.groupby('Rndrng_Prvdr_RUCA').count()\n\ndf['Rndrng_Prvdr_RUCA'] = pd.to_numeric(df['Rndrng_Prvdr_RUCA'])\ndf['metro'] = np.where((df.Rndrng_Prvdr_RUCA <=6), 1, 0)\n\n# df.groupby('metro').count()",
   "metadata": {
    "cell_id": "c3c37454-0811-4218-b40a-638df6bf0305",
    "tags": [],
    "deepnote_to_be_reexecuted": false,
    "source_hash": "f2fde83f",
    "execution_start": 1642474703193,
    "execution_millis": 555,
    "deepnote_cell_type": "code"
   },
   "outputs": [],
   "execution_count": null
  },
  {
   "cell_type": "code",
   "source": "# df['HCPCS_Cd'] = np.where(df.HCPCS_Cd.str.startswith('A'), df.HCPCS_Cd.str[1:], df.HCPCS_Cd)\n# df['HCPCS_Cd'] = np.where(df.HCPCS_Cd.str.startswith('C'), df.HCPCS_Cd.str[1:], df.HCPCS_Cd)\n# df['HCPCS_Cd'] = np.where(df.HCPCS_Cd.str.startswith('G'), df.HCPCS_Cd.str[1:], df.HCPCS_Cd)\n# df['HCPCS_Cd'] = np.where(df.HCPCS_Cd.str.startswith('J'), df.HCPCS_Cd.str[1:], df.HCPCS_Cd)\n# df['HCPCS_Cd'] = np.where(df.HCPCS_Cd.str.startswith('P'), df.HCPCS_Cd.str[1:], df.HCPCS_Cd)\n# df['HCPCS_Cd'] = np.where(df.HCPCS_Cd.str.startswith('Q'), df.HCPCS_Cd.str[1:], df.HCPCS_Cd)\n# df['HCPCS_Cd'] = np.where(df.HCPCS_Cd.str.startswith('R'), df.HCPCS_Cd.str[1:], df.HCPCS_Cd)\n# df['HCPCS_Cd'] = np.where(df.HCPCS_Cd.str.startswith('V'), df.HCPCS_Cd.str[1:], df.HCPCS_Cd)\n# df['HCPCS_Cd'] = np.where(df.HCPCS_Cd.str.endswith('T'), df.HCPCS_Cd.str[:-2], df.HCPCS_Cd)\n# df['HCPCS_Cd'] = pd.to_numeric(df['HCPCS_Cd'])",
   "metadata": {
    "cell_id": "23ad350d-b147-4b28-ab87-905301baf83d",
    "tags": [],
    "deepnote_to_be_reexecuted": false,
    "source_hash": "c7642c25",
    "execution_start": 1642474703763,
    "execution_millis": 10,
    "deepnote_output_heights": [
     40.375
    ],
    "deepnote_cell_type": "code"
   },
   "outputs": [],
   "execution_count": null
  },
  {
   "cell_type": "code",
   "source": "df['Tot_Benes'] = pd.to_numeric(df['Tot_Benes'])\ndf['Tot_Srvcs'] = pd.to_numeric(df['Tot_Srvcs'])\ndf['Tot_Bene_Day_Srvcs'] = pd.to_numeric(df['Tot_Bene_Day_Srvcs'])\ndf['Avg_Sbmtd_Chrg'] = pd.to_numeric(df['Avg_Sbmtd_Chrg'])\ndf['Avg_Mdcr_Alowd_Amt'] = pd.to_numeric(df['Avg_Mdcr_Alowd_Amt'])\ndf['Avg_Mdcr_Pymt_Amt'] = pd.to_numeric(df['Avg_Mdcr_Pymt_Amt'])\ndf['Avg_Mdcr_Stdzd_Amt'] = pd.to_numeric(df['Avg_Mdcr_Stdzd_Amt'])",
   "metadata": {
    "cell_id": "601d00ee-e135-43e6-aba2-55fc34d67010",
    "tags": [],
    "deepnote_to_be_reexecuted": false,
    "source_hash": "c8324427",
    "execution_start": 1642474703785,
    "execution_millis": 2825,
    "deepnote_cell_type": "code"
   },
   "outputs": [],
   "execution_count": null
  },
  {
   "cell_type": "code",
   "source": "df = df.drop(columns=['Rndrng_NPI', 'Rndrng_Prvdr_Last_Org_Name', 'Rndrng_Prvdr_First_Name', 'Rndrng_Prvdr_MI', \\\n                'Rndrng_Prvdr_St1', 'Rndrng_Prvdr_St2', 'Rndrng_Prvdr_City', 'Rndrng_Prvdr_State_Abrvtn', \\\n                'Rndrng_Prvdr_State_FIPS', 'Rndrng_Prvdr_Zip5', 'Rndrng_Prvdr_RUCA_Desc', 'Rndrng_Prvdr_Cntry', \\\n                'Rndrng_Prvdr_Type', 'HCPCS_Cd', 'HCPCS_Desc'])\n\n# these 2 are highly related to Avg_Mdcr_Alowd_Amt over 99%\ndf = df.drop(columns=['Avg_Mdcr_Pymt_Amt', 'Avg_Mdcr_Stdzd_Amt'])\n\n# following columns converted to new binary column\ndf = df.drop(columns=['Rndrng_Prvdr_Crdntls', 'Rndrng_Prvdr_Gndr', 'Rndrng_Prvdr_Ent_Cd', 'Rndrng_Prvdr_RUCA', 'Place_Of_Srvc'])\n",
   "metadata": {
    "cell_id": "a10b335d-c34b-49d4-b683-48a210085155",
    "tags": [],
    "deepnote_to_be_reexecuted": false,
    "source_hash": "647113ab",
    "execution_start": 1642474706618,
    "execution_millis": 182,
    "deepnote_cell_type": "code"
   },
   "outputs": [],
   "execution_count": null
  },
  {
   "cell_type": "code",
   "source": "df.dtypes",
   "metadata": {
    "cell_id": "4390b5cd-e3f5-4f1e-abc0-e4919585eeea",
    "tags": [],
    "deepnote_to_be_reexecuted": false,
    "source_hash": "52430027",
    "execution_start": 1642474706808,
    "execution_millis": 30,
    "deepnote_output_heights": [
     251.4375
    ],
    "deepnote_cell_type": "code"
   },
   "outputs": [
    {
     "output_type": "execute_result",
     "execution_count": 13,
     "data": {
      "text/plain": "Rndrng_Prvdr_Mdcr_Prtcptg_Ind      int64\nHCPCS_Drug_Ind                     int64\nTot_Benes                          int64\nTot_Srvcs                        float64\nTot_Bene_Day_Srvcs                 int64\nAvg_Sbmtd_Chrg                   float64\nAvg_Mdcr_Alowd_Amt               float64\nmd                                 int64\ngender                             int64\nentity                             int64\nfacility                           int64\nmetro                              int64\ndtype: object"
     },
     "metadata": {}
    }
   ],
   "execution_count": null
  },
  {
   "cell_type": "code",
   "source": "df.count()",
   "metadata": {
    "cell_id": "bc6bee4f-d95f-4529-bca3-ba028ae8ba1b",
    "tags": [],
    "deepnote_to_be_reexecuted": false,
    "source_hash": "f3fd67c8",
    "execution_start": 1642474706846,
    "execution_millis": 29,
    "deepnote_output_heights": [
     251.4375
    ],
    "deepnote_cell_type": "code"
   },
   "outputs": [
    {
     "output_type": "execute_result",
     "execution_count": 14,
     "data": {
      "text/plain": "Rndrng_Prvdr_Mdcr_Prtcptg_Ind    337351\nHCPCS_Drug_Ind                   337351\nTot_Benes                        337351\nTot_Srvcs                        337351\nTot_Bene_Day_Srvcs               337351\nAvg_Sbmtd_Chrg                   337351\nAvg_Mdcr_Alowd_Amt               337351\nmd                               337351\ngender                           337351\nentity                           337351\nfacility                         337351\nmetro                            337351\ndtype: int64"
     },
     "metadata": {}
    }
   ],
   "execution_count": null
  },
  {
   "cell_type": "markdown",
   "source": "<a style='text-decoration:none;line-height:16px;display:flex;color:#5B5B62;padding:10px;justify-content:end;' href='https://deepnote.com?utm_source=created-in-deepnote-cell&projectId=2a38315d-fdd6-44a6-afc3-6dd2e5aaa65e' target=\"_blank\">\n<img alt='Created in deepnote.com' style='display:inline;max-height:16px;margin:0px;margin-right:7.5px;' src='data:image/svg+xml;base64,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' > </img>\nCreated in <span style='font-weight:600;margin-left:4px;'>Deepnote</span></a>",
   "metadata": {
    "tags": [],
    "created_in_deepnote_cell": true,
    "deepnote_cell_type": "markdown"
   }
  }
 ],
 "nbformat": 4,
 "nbformat_minor": 2,
 "metadata": {
  "orig_nbformat": 2,
  "deepnote": {
   "is_reactive": false
  },
  "deepnote_notebook_id": "a88cd332-b16c-471c-ba9b-cdce2f362998",
  "deepnote_execution_queue": []
 }
}