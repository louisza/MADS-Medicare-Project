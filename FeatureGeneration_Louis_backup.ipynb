{
 "cells": [
  {
   "cell_type": "code",
   "metadata": {
    "tags": [],
    "deepnote_to_be_reexecuted": false,
    "source_hash": "6f7d3f6",
    "execution_start": 1643052639621,
    "execution_millis": 29171,
    "cell_id": "73da72e2-5b27-41af-82b4-68bade0b5564",
    "deepnote_cell_type": "code"
   },
   "source": "import numpy as np\nimport pandas as pd\nimport random\nimport glob\nimport math\nimport xgboost\nfrom sklearn import preprocessing\n\nfrom matplotlib import pyplot\n",
   "outputs": [],
   "execution_count": null
  },
  {
   "cell_type": "code",
   "metadata": {
    "tags": [],
    "deepnote_to_be_reexecuted": false,
    "source_hash": "61ce3ad1",
    "execution_start": 1643052668794,
    "execution_millis": 95,
    "deepnote_output_heights": [
     136
    ],
    "cell_id": "00001-5dd03413-9acd-4b6a-a123-dfa96f739a1f",
    "deepnote_cell_type": "code"
   },
   "source": "# Get list of files for the Geo grouped data\ndata_files_list = glob.glob('/datasets/cms/MUP*Geo.csv')\ndata_files_list\n\n# For training use 2013 to 2016 to predict 2017\n# For testing use 2014 to 2017 to predict 2018\n# for validation use 2015 to 2018 to predict 2019\n\n# For presentation use 2016 to 2019 to predict 2020 (and compare against 2019)",
   "outputs": [
    {
     "output_type": "execute_result",
     "execution_count": 2,
     "data": {
      "text/plain": "['/datasets/cms/MUP_PHY_R19_P04_V10_D13_Geo.csv',\n '/datasets/cms/MUP_PHY_R19_P04_V10_D14_Geo.csv',\n '/datasets/cms/MUP_PHY_R19_P04_V10_D15_Geo.csv',\n '/datasets/cms/MUP_PHY_R19_P04_V10_D16_Geo.csv',\n '/datasets/cms/MUP_PHY_R19_P04_V10_D17_Geo.csv',\n '/datasets/cms/MUP_PHY_R20_P04_V10_D18_Geo.csv',\n '/datasets/cms/MUP_PHY_R21_P04_V10_D19_Geo.csv']"
     },
     "metadata": {}
    }
   ],
   "execution_count": null
  },
  {
   "cell_type": "code",
   "metadata": {
    "tags": [],
    "deepnote_to_be_reexecuted": false,
    "source_hash": "6d96f77c",
    "execution_start": 1643052668890,
    "execution_millis": 14401,
    "deepnote_output_heights": [
     null,
     611
    ],
    "cell_id": "00002-d2ae23e9-d153-4449-863e-cd8d06c81998",
    "deepnote_cell_type": "code"
   },
   "source": "df_geo_full = []\nfor _file in data_files_list:\n    df_geo = pd.read_csv(\n         _file,\n         header=0, \n         #skiprows=lambda i: i>0 and random.random() > p\n    )\n    year= _file[-10:-8]\n    df_geo['year'] = 2000+int(year)\n    if len(df_geo_full)!=0:\n        df_geo_full = df_geo_full.append(df_geo, ignore_index=False)\n    else:\n        df_geo_full = df_geo.copy()\n\ndf_geo_full= df_geo_full.loc[df_geo_full['year']!= 0,:]\n\nexcl_states =  ['Armed Forces Central/South America', 'Armed Forces Europe', 'Armed Forces Pacific', 'Foreign Country','National']\ndf_geo_full = df_geo_full.loc[~df_geo_full['Rndrng_Prvdr_Geo_Desc'].isin(excl_states),:].copy()",
   "outputs": [
    {
     "name": "stderr",
     "text": "/shared-libs/python3.8/py-core/lib/python3.8/site-packages/IPython/core/interactiveshell.py:3185: DtypeWarning: Columns (1) have mixed types.Specify dtype option on import or set low_memory=False.\n  has_raised = await self.run_ast_nodes(code_ast.body, cell_name,\n",
     "output_type": "stream"
    }
   ],
   "execution_count": null
  },
  {
   "cell_type": "code",
   "source": "",
   "metadata": {
    "cell_id": "3f4860c3-71f8-4cb3-8b52-1a1a2482886c",
    "tags": [],
    "deepnote_to_be_reexecuted": false,
    "source_hash": "b623e53d",
    "execution_start": 1643052683291,
    "execution_millis": 1,
    "deepnote_cell_type": "code"
   },
   "outputs": [],
   "execution_count": null
  },
  {
   "cell_type": "code",
   "metadata": {
    "tags": [],
    "deepnote_to_be_reexecuted": false,
    "source_hash": "1ea2d25d",
    "execution_start": 1643052683292,
    "execution_millis": 26928,
    "cell_id": "00003-971c7203-46bc-4ce9-965e-f54790998da9",
    "deepnote_cell_type": "code"
   },
   "source": "# Prep geo_full for train/test/val\n\ndf_geo_features = df_geo_full.loc[:,['Rndrng_Prvdr_Geo_Desc', 'HCPCS_Cd', 'Tot_Srvcs','year']].copy()\ndf_geo_features = df_geo_features.groupby(['Rndrng_Prvdr_Geo_Desc', 'HCPCS_Cd','year'])[ 'Tot_Srvcs'].sum().reset_index()\ndf_geo_features.loc[:,'Tot_Srvcs'] = df_geo_features['Tot_Srvcs'].apply(lambda x: math.log(x))\n\ndf_geo_features.loc[:,'idx'] = df_geo_features.apply(lambda x:  \"_\".join([str(x['Rndrng_Prvdr_Geo_Desc']), str(x['HCPCS_Cd'])]), axis=1)\nstart_year = 2013\nno_of_years = 4\ndf_geo_features.loc[:,'year'] = start_year + no_of_years - df_geo_features['year'] \ndf_geo_features_train = df_geo_features.loc[df_geo_features['year']>=0,:].copy()\ndf_geo_features_train = df_geo_features_train.loc[df_geo_features_train['year'] <= no_of_years,:]\n\ndf_geo_features_test = df_geo_features.loc[df_geo_features['year']>=-1,:].copy()\ndf_geo_features_test.loc[:,'year'] = df_geo_features_test['year'] + 1\ndf_geo_features_test = df_geo_features_test.loc[df_geo_features_test['year']<=no_of_years,:].copy()\n\ndf_geo_features_train = df_geo_features_train.pivot(index=['idx'], columns=['year'], values='Tot_Srvcs')\ndf_geo_features_test = df_geo_features_test.pivot(index=['idx'], columns=['year'], values='Tot_Srvcs')\n\ncol_map = {\n    0: \"target\",\n    1: \"1\",\n    2: \"2\",\n    3: \"3\"\n}\n\ndf_geo_features_train.rename(columns = col_map, inplace=True)\ndf_geo_features_test.rename(columns = col_map, inplace=True)\n\ndf_geo_features_train['state'] = df_geo_features_train.reset_index()['idx'].apply(lambda x: x.split(\"_\")[0]).values\ndf_geo_features_test['state'] = df_geo_features_test.reset_index()['idx'].apply(lambda x: x.split(\"_\")[0]).values\n\ndf_geo_features_train.reset_index(inplace=True)\ndf_geo_features_test.reset_index(inplace=True)\n\ndf_geo_features_train.fillna(0, inplace=True)\ndf_geo_features_test.fillna(0, inplace=True)",
   "outputs": [],
   "execution_count": null
  },
  {
   "cell_type": "code",
   "metadata": {
    "tags": [],
    "deepnote_to_be_reexecuted": false,
    "source_hash": "536b2776",
    "execution_start": 1643052710228,
    "execution_millis": 75,
    "cell_id": "00004-64ffe8ed-9449-4ac4-b434-2c7f4b34d530",
    "deepnote_cell_type": "code"
   },
   "source": "df_geo_features_test.sample(5)",
   "outputs": [
    {
     "output_type": "execute_result",
     "execution_count": 5,
     "data": {
      "application/vnd.deepnote.dataframe.v3+json": {
       "column_count": 7,
       "row_count": 5,
       "columns": [
        {
         "name": "idx",
         "dtype": "object",
         "stats": {
          "unique_count": 5,
          "nan_count": 0,
          "categories": [
           {
            "name": "Connecticut_92014",
            "count": 1
           },
           {
            "name": "South Carolina_62369",
            "count": 1
           },
           {
            "name": "3 others",
            "count": 3
           }
          ]
         }
        },
        {
         "name": "target",
         "dtype": "float64",
         "stats": {
          "unique_count": 5,
          "nan_count": 0,
          "min": "3.2188758248682006",
          "max": "12.01865814167021",
          "histogram": [
           {
            "bin_start": 3.2188758248682006,
            "bin_end": 4.098854056548402,
            "count": 2
           },
           {
            "bin_start": 4.098854056548402,
            "bin_end": 4.9788322882286025,
            "count": 0
           },
           {
            "bin_start": 4.9788322882286025,
            "bin_end": 5.858810519908804,
            "count": 1
           },
           {
            "bin_start": 5.858810519908804,
            "bin_end": 6.738788751589004,
            "count": 0
           },
           {
            "bin_start": 6.738788751589004,
            "bin_end": 7.6187669832692055,
            "count": 0
           },
           {
            "bin_start": 7.6187669832692055,
            "bin_end": 8.498745214949407,
            "count": 0
           },
           {
            "bin_start": 8.498745214949407,
            "bin_end": 9.378723446629607,
            "count": 0
           },
           {
            "bin_start": 9.378723446629607,
            "bin_end": 10.258701678309809,
            "count": 0
           },
           {
            "bin_start": 10.258701678309809,
            "bin_end": 11.138679909990008,
            "count": 1
           },
           {
            "bin_start": 11.138679909990008,
            "bin_end": 12.01865814167021,
            "count": 1
           }
          ]
         }
        },
        {
         "name": "1",
         "dtype": "float64",
         "stats": {
          "unique_count": 5,
          "nan_count": 0,
          "min": "2.772588722239781",
          "max": "12.187272016066457",
          "histogram": [
           {
            "bin_start": 2.772588722239781,
            "bin_end": 3.714057051622449,
            "count": 2
           },
           {
            "bin_start": 3.714057051622449,
            "bin_end": 4.655525381005116,
            "count": 0
           },
           {
            "bin_start": 4.655525381005116,
            "bin_end": 5.596993710387784,
            "count": 1
           },
           {
            "bin_start": 5.596993710387784,
            "bin_end": 6.538462039770451,
            "count": 0
           },
           {
            "bin_start": 6.538462039770451,
            "bin_end": 7.479930369153118,
            "count": 0
           },
           {
            "bin_start": 7.479930369153118,
            "bin_end": 8.421398698535787,
            "count": 0
           },
           {
            "bin_start": 8.421398698535787,
            "bin_end": 9.362867027918455,
            "count": 0
           },
           {
            "bin_start": 9.362867027918455,
            "bin_end": 10.304335357301122,
            "count": 1
           },
           {
            "bin_start": 10.304335357301122,
            "bin_end": 11.24580368668379,
            "count": 0
           },
           {
            "bin_start": 11.24580368668379,
            "bin_end": 12.187272016066457,
            "count": 1
           }
          ]
         }
        },
        {
         "name": "2",
         "dtype": "float64",
         "stats": {
          "unique_count": 5,
          "nan_count": 0,
          "min": "0.0",
          "max": "12.169574622489973",
          "histogram": [
           {
            "bin_start": 0,
            "bin_end": 1.2169574622489974,
            "count": 1
           },
           {
            "bin_start": 1.2169574622489974,
            "bin_end": 2.4339149244979947,
            "count": 0
           },
           {
            "bin_start": 2.4339149244979947,
            "bin_end": 3.6508723867469923,
            "count": 1
           },
           {
            "bin_start": 3.6508723867469923,
            "bin_end": 4.8678298489959895,
            "count": 0
           },
           {
            "bin_start": 4.8678298489959895,
            "bin_end": 6.084787311244987,
            "count": 1
           },
           {
            "bin_start": 6.084787311244987,
            "bin_end": 7.301744773493985,
            "count": 0
           },
           {
            "bin_start": 7.301744773493985,
            "bin_end": 8.518702235742982,
            "count": 0
           },
           {
            "bin_start": 8.518702235742982,
            "bin_end": 9.735659697991979,
            "count": 0
           },
           {
            "bin_start": 9.735659697991979,
            "bin_end": 10.952617160240976,
            "count": 1
           },
           {
            "bin_start": 10.952617160240976,
            "bin_end": 12.169574622489973,
            "count": 1
           }
          ]
         }
        },
        {
         "name": "3",
         "dtype": "float64",
         "stats": {
          "unique_count": 5,
          "nan_count": 0,
          "min": "2.3978952727983707",
          "max": "12.150559935599915",
          "histogram": [
           {
            "bin_start": 2.3978952727983707,
            "bin_end": 3.373161739078525,
            "count": 1
           },
           {
            "bin_start": 3.373161739078525,
            "bin_end": 4.34842820535868,
            "count": 1
           },
           {
            "bin_start": 4.34842820535868,
            "bin_end": 5.323694671638834,
            "count": 0
           },
           {
            "bin_start": 5.323694671638834,
            "bin_end": 6.2989611379189885,
            "count": 1
           },
           {
            "bin_start": 6.2989611379189885,
            "bin_end": 7.274227604199143,
            "count": 0
           },
           {
            "bin_start": 7.274227604199143,
            "bin_end": 8.249494070479297,
            "count": 0
           },
           {
            "bin_start": 8.249494070479297,
            "bin_end": 9.224760536759451,
            "count": 0
           },
           {
            "bin_start": 9.224760536759451,
            "bin_end": 10.200027003039606,
            "count": 0
           },
           {
            "bin_start": 10.200027003039606,
            "bin_end": 11.17529346931976,
            "count": 1
           },
           {
            "bin_start": 11.17529346931976,
            "bin_end": 12.150559935599915,
            "count": 1
           }
          ]
         }
        },
        {
         "name": 4,
         "dtype": "float64",
         "stats": {
          "unique_count": 5,
          "nan_count": 0,
          "min": "2.833213344056216",
          "max": "12.16378082133933",
          "histogram": [
           {
            "bin_start": 2.833213344056216,
            "bin_end": 3.7662700917845275,
            "count": 1
           },
           {
            "bin_start": 3.7662700917845275,
            "bin_end": 4.699326839512839,
            "count": 1
           },
           {
            "bin_start": 4.699326839512839,
            "bin_end": 5.632383587241151,
            "count": 0
           },
           {
            "bin_start": 5.632383587241151,
            "bin_end": 6.5654403349694626,
            "count": 1
           },
           {
            "bin_start": 6.5654403349694626,
            "bin_end": 7.4984970826977735,
            "count": 0
           },
           {
            "bin_start": 7.4984970826977735,
            "bin_end": 8.431553830426086,
            "count": 0
           },
           {
            "bin_start": 8.431553830426086,
            "bin_end": 9.364610578154396,
            "count": 0
           },
           {
            "bin_start": 9.364610578154396,
            "bin_end": 10.297667325882708,
            "count": 1
           },
           {
            "bin_start": 10.297667325882708,
            "bin_end": 11.230724073611018,
            "count": 0
           },
           {
            "bin_start": 11.230724073611018,
            "bin_end": 12.16378082133933,
            "count": 1
           }
          ]
         }
        },
        {
         "name": "state",
         "dtype": "object",
         "stats": {
          "unique_count": 5,
          "nan_count": 0,
          "categories": [
           {
            "name": "Connecticut",
            "count": 1
           },
           {
            "name": "South Carolina",
            "count": 1
           },
           {
            "name": "3 others",
            "count": 3
           }
          ]
         }
        },
        {
         "name": "_deepnote_index_column",
         "dtype": "int64"
        }
       ],
       "rows": [
        {
         "1": 12.187272016066457,
         "2": 12.169574622489973,
         "3": 12.150559935599915,
         "4": 12.16378082133933,
         "idx": "Connecticut_92014",
         "target": 12.01865814167021,
         "state": "Connecticut",
         "_deepnote_index_column": 33612
        },
        {
         "1": 5.308267697401205,
         "2": 5.517452896464707,
         "3": 5.799092654460526,
         "4": 5.7899601708972535,
         "idx": "South Carolina_62369",
         "target": 5.030437921392435,
         "state": "South Carolina",
         "_deepnote_index_column": 194376
        },
        {
         "1": 10.273014553838664,
         "2": 10.24767991217248,
         "3": 10.226114382335288,
         "4": 10.169997059755108,
         "idx": "Colorado_92083",
         "target": 10.333092274830772,
         "state": "Colorado",
         "_deepnote_index_column": 28895
        },
        {
         "1": 2.772588722239781,
         "2": 3.4011973816621555,
         "3": 4.189654742026425,
         "4": 4.31748811353631,
         "idx": "Kansas_87276",
         "target": 3.2188758248682006,
         "state": "Kansas",
         "_deepnote_index_column": 79686
        },
        {
         "1": 3.4657359027997265,
         "2": 0,
         "3": 2.3978952727983707,
         "4": 2.833213344056216,
         "idx": "District of Columbia_67108",
         "target": 4.07753744390572,
         "state": "District of Columbia",
         "_deepnote_index_column": 39259
        }
       ]
      },
      "text/plain": "year                           idx     target          1          2  \\\n33612            Connecticut_92014  12.018658  12.187272  12.169575   \n194376        South Carolina_62369   5.030438   5.308268   5.517453   \n28895               Colorado_92083  10.333092  10.273015  10.247680   \n79686                 Kansas_87276   3.218876   2.772589   3.401197   \n39259   District of Columbia_67108   4.077537   3.465736   0.000000   \n\nyear            3          4                 state  \n33612   12.150560  12.163781           Connecticut  \n194376   5.799093   5.789960        South Carolina  \n28895   10.226114  10.169997              Colorado  \n79686    4.189655   4.317488                Kansas  \n39259    2.397895   2.833213  District of Columbia  ",
      "text/html": "<div>\n<style scoped>\n    .dataframe tbody tr th:only-of-type {\n        vertical-align: middle;\n    }\n\n    .dataframe tbody tr th {\n        vertical-align: top;\n    }\n\n    .dataframe thead th {\n        text-align: right;\n    }\n</style>\n<table border=\"1\" class=\"dataframe\">\n  <thead>\n    <tr style=\"text-align: right;\">\n      <th>year</th>\n      <th>idx</th>\n      <th>target</th>\n      <th>1</th>\n      <th>2</th>\n      <th>3</th>\n      <th>4</th>\n      <th>state</th>\n    </tr>\n  </thead>\n  <tbody>\n    <tr>\n      <th>33612</th>\n      <td>Connecticut_92014</td>\n      <td>12.018658</td>\n      <td>12.187272</td>\n      <td>12.169575</td>\n      <td>12.150560</td>\n      <td>12.163781</td>\n      <td>Connecticut</td>\n    </tr>\n    <tr>\n      <th>194376</th>\n      <td>South Carolina_62369</td>\n      <td>5.030438</td>\n      <td>5.308268</td>\n      <td>5.517453</td>\n      <td>5.799093</td>\n      <td>5.789960</td>\n      <td>South Carolina</td>\n    </tr>\n    <tr>\n      <th>28895</th>\n      <td>Colorado_92083</td>\n      <td>10.333092</td>\n      <td>10.273015</td>\n      <td>10.247680</td>\n      <td>10.226114</td>\n      <td>10.169997</td>\n      <td>Colorado</td>\n    </tr>\n    <tr>\n      <th>79686</th>\n      <td>Kansas_87276</td>\n      <td>3.218876</td>\n      <td>2.772589</td>\n      <td>3.401197</td>\n      <td>4.189655</td>\n      <td>4.317488</td>\n      <td>Kansas</td>\n    </tr>\n    <tr>\n      <th>39259</th>\n      <td>District of Columbia_67108</td>\n      <td>4.077537</td>\n      <td>3.465736</td>\n      <td>0.000000</td>\n      <td>2.397895</td>\n      <td>2.833213</td>\n      <td>District of Columbia</td>\n    </tr>\n  </tbody>\n</table>\n</div>"
     },
     "metadata": {}
    }
   ],
   "execution_count": null
  },
  {
   "cell_type": "code",
   "metadata": {
    "tags": [],
    "deepnote_to_be_reexecuted": false,
    "source_hash": "46610865",
    "execution_start": 1643052710304,
    "execution_millis": 78,
    "cell_id": "00005-f526d1a6-b9df-42d0-9a71-d1151a7dae47",
    "deepnote_cell_type": "code"
   },
   "source": "df_geo_features_train.sample(5)",
   "outputs": [
    {
     "output_type": "execute_result",
     "execution_count": 6,
     "data": {
      "application/vnd.deepnote.dataframe.v3+json": {
       "column_count": 7,
       "row_count": 5,
       "columns": [
        {
         "name": "idx",
         "dtype": "object",
         "stats": {
          "unique_count": 5,
          "nan_count": 0,
          "categories": [
           {
            "name": "Oklahoma_43333",
            "count": 1
           },
           {
            "name": "New York_A9556",
            "count": 1
           },
           {
            "name": "3 others",
            "count": 3
           }
          ]
         }
        },
        {
         "name": "target",
         "dtype": "float64",
         "stats": {
          "unique_count": 4,
          "nan_count": 0,
          "min": "0.0",
          "max": "5.25227342804663",
          "histogram": [
           {
            "bin_start": 0,
            "bin_end": 0.525227342804663,
            "count": 1
           },
           {
            "bin_start": 0.525227342804663,
            "bin_end": 1.050454685609326,
            "count": 0
           },
           {
            "bin_start": 1.050454685609326,
            "bin_end": 1.575682028413989,
            "count": 0
           },
           {
            "bin_start": 1.575682028413989,
            "bin_end": 2.100909371218652,
            "count": 0
           },
           {
            "bin_start": 2.100909371218652,
            "bin_end": 2.626136714023315,
            "count": 0
           },
           {
            "bin_start": 2.626136714023315,
            "bin_end": 3.151364056827978,
            "count": 2
           },
           {
            "bin_start": 3.151364056827978,
            "bin_end": 3.676591399632641,
            "count": 0
           },
           {
            "bin_start": 3.676591399632641,
            "bin_end": 4.201818742437304,
            "count": 1
           },
           {
            "bin_start": 4.201818742437304,
            "bin_end": 4.727046085241967,
            "count": 0
           },
           {
            "bin_start": 4.727046085241967,
            "bin_end": 5.25227342804663,
            "count": 1
           }
          ]
         }
        },
        {
         "name": "1",
         "dtype": "float64",
         "stats": {
          "unique_count": 4,
          "nan_count": 0,
          "min": "0.0",
          "max": "5.19295685089021",
          "histogram": [
           {
            "bin_start": 0,
            "bin_end": 0.519295685089021,
            "count": 2
           },
           {
            "bin_start": 0.519295685089021,
            "bin_end": 1.038591370178042,
            "count": 0
           },
           {
            "bin_start": 1.038591370178042,
            "bin_end": 1.557887055267063,
            "count": 0
           },
           {
            "bin_start": 1.557887055267063,
            "bin_end": 2.077182740356084,
            "count": 0
           },
           {
            "bin_start": 2.077182740356084,
            "bin_end": 2.596478425445105,
            "count": 0
           },
           {
            "bin_start": 2.596478425445105,
            "bin_end": 3.115774110534126,
            "count": 1
           },
           {
            "bin_start": 3.115774110534126,
            "bin_end": 3.635069795623147,
            "count": 0
           },
           {
            "bin_start": 3.635069795623147,
            "bin_end": 4.154365480712168,
            "count": 0
           },
           {
            "bin_start": 4.154365480712168,
            "bin_end": 4.673661165801189,
            "count": 1
           },
           {
            "bin_start": 4.673661165801189,
            "bin_end": 5.19295685089021,
            "count": 1
           }
          ]
         }
        },
        {
         "name": "2",
         "dtype": "float64",
         "stats": {
          "unique_count": 5,
          "nan_count": 0,
          "min": "0.0",
          "max": "5.1647859739235145",
          "histogram": [
           {
            "bin_start": 0,
            "bin_end": 0.5164785973923515,
            "count": 1
           },
           {
            "bin_start": 0.5164785973923515,
            "bin_end": 1.032957194784703,
            "count": 0
           },
           {
            "bin_start": 1.032957194784703,
            "bin_end": 1.5494357921770545,
            "count": 0
           },
           {
            "bin_start": 1.5494357921770545,
            "bin_end": 2.065914389569406,
            "count": 0
           },
           {
            "bin_start": 2.065914389569406,
            "bin_end": 2.5823929869617572,
            "count": 0
           },
           {
            "bin_start": 2.5823929869617572,
            "bin_end": 3.098871584354109,
            "count": 2
           },
           {
            "bin_start": 3.098871584354109,
            "bin_end": 3.6153501817464604,
            "count": 0
           },
           {
            "bin_start": 3.6153501817464604,
            "bin_end": 4.131828779138812,
            "count": 0
           },
           {
            "bin_start": 4.131828779138812,
            "bin_end": 4.6483073765311635,
            "count": 1
           },
           {
            "bin_start": 4.6483073765311635,
            "bin_end": 5.1647859739235145,
            "count": 1
           }
          ]
         }
        },
        {
         "name": "3",
         "dtype": "float64",
         "stats": {
          "unique_count": 4,
          "nan_count": 0,
          "min": "0.0",
          "max": "5.0238805208462765",
          "histogram": [
           {
            "bin_start": 0,
            "bin_end": 0.5023880520846277,
            "count": 2
           },
           {
            "bin_start": 0.5023880520846277,
            "bin_end": 1.0047761041692553,
            "count": 0
           },
           {
            "bin_start": 1.0047761041692553,
            "bin_end": 1.5071641562538831,
            "count": 0
           },
           {
            "bin_start": 1.5071641562538831,
            "bin_end": 2.0095522083385107,
            "count": 0
           },
           {
            "bin_start": 2.0095522083385107,
            "bin_end": 2.5119402604231382,
            "count": 1
           },
           {
            "bin_start": 2.5119402604231382,
            "bin_end": 3.0143283125077662,
            "count": 0
           },
           {
            "bin_start": 3.0143283125077662,
            "bin_end": 3.516716364592394,
            "count": 0
           },
           {
            "bin_start": 3.516716364592394,
            "bin_end": 4.019104416677021,
            "count": 0
           },
           {
            "bin_start": 4.019104416677021,
            "bin_end": 4.521492468761649,
            "count": 0
           },
           {
            "bin_start": 4.521492468761649,
            "bin_end": 5.0238805208462765,
            "count": 2
           }
          ]
         }
        },
        {
         "name": 4,
         "dtype": "float64",
         "stats": {
          "unique_count": 4,
          "nan_count": 0,
          "min": "0.0",
          "max": "5.14166355650266",
          "histogram": [
           {
            "bin_start": 0,
            "bin_end": 0.514166355650266,
            "count": 2
           },
           {
            "bin_start": 0.514166355650266,
            "bin_end": 1.028332711300532,
            "count": 0
           },
           {
            "bin_start": 1.028332711300532,
            "bin_end": 1.542499066950798,
            "count": 0
           },
           {
            "bin_start": 1.542499066950798,
            "bin_end": 2.056665422601064,
            "count": 0
           },
           {
            "bin_start": 2.056665422601064,
            "bin_end": 2.57083177825133,
            "count": 0
           },
           {
            "bin_start": 2.57083177825133,
            "bin_end": 3.084998133901596,
            "count": 0
           },
           {
            "bin_start": 3.084998133901596,
            "bin_end": 3.599164489551862,
            "count": 1
           },
           {
            "bin_start": 3.599164489551862,
            "bin_end": 4.113330845202128,
            "count": 0
           },
           {
            "bin_start": 4.113330845202128,
            "bin_end": 4.627497200852394,
            "count": 0
           },
           {
            "bin_start": 4.627497200852394,
            "bin_end": 5.14166355650266,
            "count": 2
           }
          ]
         }
        },
        {
         "name": "state",
         "dtype": "object",
         "stats": {
          "unique_count": 4,
          "nan_count": 0,
          "categories": [
           {
            "name": "Oklahoma",
            "count": 2
           },
           {
            "name": "New York",
            "count": 1
           },
           {
            "name": "2 others",
            "count": 2
           }
          ]
         }
        },
        {
         "name": "_deepnote_index_column",
         "dtype": "int64"
        }
       ],
       "rows": [
        {
         "1": 0,
         "2": 2.70805020110221,
         "3": 0,
         "4": 0,
         "idx": "Oklahoma_43333",
         "target": 0,
         "state": "Oklahoma",
         "_deepnote_index_column": 172096
        },
        {
         "1": 4.343805421853684,
         "2": 4.394449154672439,
         "3": 4.605170185988092,
         "4": 5.14166355650266,
         "idx": "New York_A9556",
         "target": 3.784189633918261,
         "state": "New York",
         "_deepnote_index_column": 154872
        },
        {
         "1": 3.044522437723423,
         "2": 2.833213344056216,
         "3": 2.4849066497880004,
         "4": 3.295836866004329,
         "idx": "Arkansas_58940",
         "target": 2.70805020110221,
         "state": "Arkansas",
         "_deepnote_index_column": 14996
        },
        {
         "1": 0,
         "2": 0,
         "3": 0,
         "4": 0,
         "idx": "Indiana_93799",
         "target": 2.70805020110221,
         "state": "Indiana",
         "_deepnote_index_column": 70860
        },
        {
         "1": 5.19295685089021,
         "2": 5.1647859739235145,
         "3": 5.0238805208462765,
         "4": 4.787491742782046,
         "idx": "Oklahoma_36800",
         "target": 5.25227342804663,
         "state": "Oklahoma",
         "_deepnote_index_column": 171905
        }
       ]
      },
      "text/plain": "year               idx    target         1         2         3         4  \\\n172096  Oklahoma_43333  0.000000  0.000000  2.708050  0.000000  0.000000   \n154872  New York_A9556  3.784190  4.343805  4.394449  4.605170  5.141664   \n14996   Arkansas_58940  2.708050  3.044522  2.833213  2.484907  3.295837   \n70860    Indiana_93799  2.708050  0.000000  0.000000  0.000000  0.000000   \n171905  Oklahoma_36800  5.252273  5.192957  5.164786  5.023881  4.787492   \n\nyear       state  \n172096  Oklahoma  \n154872  New York  \n14996   Arkansas  \n70860    Indiana  \n171905  Oklahoma  ",
      "text/html": "<div>\n<style scoped>\n    .dataframe tbody tr th:only-of-type {\n        vertical-align: middle;\n    }\n\n    .dataframe tbody tr th {\n        vertical-align: top;\n    }\n\n    .dataframe thead th {\n        text-align: right;\n    }\n</style>\n<table border=\"1\" class=\"dataframe\">\n  <thead>\n    <tr style=\"text-align: right;\">\n      <th>year</th>\n      <th>idx</th>\n      <th>target</th>\n      <th>1</th>\n      <th>2</th>\n      <th>3</th>\n      <th>4</th>\n      <th>state</th>\n    </tr>\n  </thead>\n  <tbody>\n    <tr>\n      <th>172096</th>\n      <td>Oklahoma_43333</td>\n      <td>0.000000</td>\n      <td>0.000000</td>\n      <td>2.708050</td>\n      <td>0.000000</td>\n      <td>0.000000</td>\n      <td>Oklahoma</td>\n    </tr>\n    <tr>\n      <th>154872</th>\n      <td>New York_A9556</td>\n      <td>3.784190</td>\n      <td>4.343805</td>\n      <td>4.394449</td>\n      <td>4.605170</td>\n      <td>5.141664</td>\n      <td>New York</td>\n    </tr>\n    <tr>\n      <th>14996</th>\n      <td>Arkansas_58940</td>\n      <td>2.708050</td>\n      <td>3.044522</td>\n      <td>2.833213</td>\n      <td>2.484907</td>\n      <td>3.295837</td>\n      <td>Arkansas</td>\n    </tr>\n    <tr>\n      <th>70860</th>\n      <td>Indiana_93799</td>\n      <td>2.708050</td>\n      <td>0.000000</td>\n      <td>0.000000</td>\n      <td>0.000000</td>\n      <td>0.000000</td>\n      <td>Indiana</td>\n    </tr>\n    <tr>\n      <th>171905</th>\n      <td>Oklahoma_36800</td>\n      <td>5.252273</td>\n      <td>5.192957</td>\n      <td>5.164786</td>\n      <td>5.023881</td>\n      <td>4.787492</td>\n      <td>Oklahoma</td>\n    </tr>\n  </tbody>\n</table>\n</div>"
     },
     "metadata": {}
    }
   ],
   "execution_count": null
  },
  {
   "cell_type": "code",
   "metadata": {
    "tags": [],
    "deepnote_to_be_reexecuted": false,
    "source_hash": "a9e9cdfd",
    "execution_start": 1643052710383,
    "execution_millis": 512,
    "cell_id": "00006-547aecd7-cf16-4bb1-b171-334922c5a304",
    "deepnote_cell_type": "code"
   },
   "source": "# Import population estimates data\npop_est = pd.read_csv(\"/datasets/cms/SC-EST2020-ALLDATA5.csv\")\n\n# Drop columns that is not needed for \"one row\" melting\npop_est.drop(['SUMLEV', 'REGION', 'DIVISION', 'STATE'], axis='columns', inplace=True)",
   "outputs": [],
   "execution_count": null
  },
  {
   "cell_type": "code",
   "metadata": {
    "tags": [],
    "deepnote_to_be_reexecuted": false,
    "source_hash": "a65ff836",
    "execution_start": 1643052710946,
    "execution_millis": 60,
    "cell_id": "00007-4000426e-915d-44ca-8a85-0a50dfbfb6b0",
    "deepnote_cell_type": "code"
   },
   "source": "pop_est.sample(3)",
   "outputs": [
    {
     "output_type": "execute_result",
     "execution_count": 8,
     "data": {
      "application/vnd.deepnote.dataframe.v3+json": {
       "column_count": 18,
       "row_count": 3,
       "columns": [
        {
         "name": "NAME",
         "dtype": "object",
         "stats": {
          "unique_count": 3,
          "nan_count": 0,
          "categories": [
           {
            "name": "Connecticut",
            "count": 1
           },
           {
            "name": "Idaho",
            "count": 1
           },
           {
            "name": "Vermont",
            "count": 1
           }
          ]
         }
        },
        {
         "name": "SEX",
         "dtype": "int64",
         "stats": {
          "unique_count": 3,
          "nan_count": 0,
          "min": "0",
          "max": "2",
          "histogram": [
           {
            "bin_start": 0,
            "bin_end": 0.2,
            "count": 1
           },
           {
            "bin_start": 0.2,
            "bin_end": 0.4,
            "count": 0
           },
           {
            "bin_start": 0.4,
            "bin_end": 0.6000000000000001,
            "count": 0
           },
           {
            "bin_start": 0.6000000000000001,
            "bin_end": 0.8,
            "count": 0
           },
           {
            "bin_start": 0.8,
            "bin_end": 1,
            "count": 0
           },
           {
            "bin_start": 1,
            "bin_end": 1.2000000000000002,
            "count": 1
           },
           {
            "bin_start": 1.2000000000000002,
            "bin_end": 1.4000000000000001,
            "count": 0
           },
           {
            "bin_start": 1.4000000000000001,
            "bin_end": 1.6,
            "count": 0
           },
           {
            "bin_start": 1.6,
            "bin_end": 1.8,
            "count": 0
           },
           {
            "bin_start": 1.8,
            "bin_end": 2,
            "count": 1
           }
          ]
         }
        },
        {
         "name": "ORIGIN",
         "dtype": "int64",
         "stats": {
          "unique_count": 3,
          "nan_count": 0,
          "min": "0",
          "max": "2",
          "histogram": [
           {
            "bin_start": 0,
            "bin_end": 0.2,
            "count": 1
           },
           {
            "bin_start": 0.2,
            "bin_end": 0.4,
            "count": 0
           },
           {
            "bin_start": 0.4,
            "bin_end": 0.6000000000000001,
            "count": 0
           },
           {
            "bin_start": 0.6000000000000001,
            "bin_end": 0.8,
            "count": 0
           },
           {
            "bin_start": 0.8,
            "bin_end": 1,
            "count": 0
           },
           {
            "bin_start": 1,
            "bin_end": 1.2000000000000002,
            "count": 1
           },
           {
            "bin_start": 1.2000000000000002,
            "bin_end": 1.4000000000000001,
            "count": 0
           },
           {
            "bin_start": 1.4000000000000001,
            "bin_end": 1.6,
            "count": 0
           },
           {
            "bin_start": 1.6,
            "bin_end": 1.8,
            "count": 0
           },
           {
            "bin_start": 1.8,
            "bin_end": 2,
            "count": 1
           }
          ]
         }
        },
        {
         "name": "RACE",
         "dtype": "int64",
         "stats": {
          "unique_count": 2,
          "nan_count": 0,
          "min": "3",
          "max": "5",
          "histogram": [
           {
            "bin_start": 3,
            "bin_end": 3.2,
            "count": 2
           },
           {
            "bin_start": 3.2,
            "bin_end": 3.4,
            "count": 0
           },
           {
            "bin_start": 3.4,
            "bin_end": 3.6,
            "count": 0
           },
           {
            "bin_start": 3.6,
            "bin_end": 3.8,
            "count": 0
           },
           {
            "bin_start": 3.8,
            "bin_end": 4,
            "count": 0
           },
           {
            "bin_start": 4,
            "bin_end": 4.2,
            "count": 0
           },
           {
            "bin_start": 4.2,
            "bin_end": 4.4,
            "count": 0
           },
           {
            "bin_start": 4.4,
            "bin_end": 4.6,
            "count": 0
           },
           {
            "bin_start": 4.6,
            "bin_end": 4.8,
            "count": 0
           },
           {
            "bin_start": 4.8,
            "bin_end": 5,
            "count": 1
           }
          ]
         }
        },
        {
         "name": "AGE",
         "dtype": "int64",
         "stats": {
          "unique_count": 3,
          "nan_count": 0,
          "min": "37",
          "max": "82",
          "histogram": [
           {
            "bin_start": 37,
            "bin_end": 41.5,
            "count": 1
           },
           {
            "bin_start": 41.5,
            "bin_end": 46,
            "count": 0
           },
           {
            "bin_start": 46,
            "bin_end": 50.5,
            "count": 0
           },
           {
            "bin_start": 50.5,
            "bin_end": 55,
            "count": 0
           },
           {
            "bin_start": 55,
            "bin_end": 59.5,
            "count": 0
           },
           {
            "bin_start": 59.5,
            "bin_end": 64,
            "count": 0
           },
           {
            "bin_start": 64,
            "bin_end": 68.5,
            "count": 0
           },
           {
            "bin_start": 68.5,
            "bin_end": 73,
            "count": 0
           },
           {
            "bin_start": 73,
            "bin_end": 77.5,
            "count": 1
           },
           {
            "bin_start": 77.5,
            "bin_end": 82,
            "count": 1
           }
          ]
         }
        },
        {
         "name": "CENSUS2010POP",
         "dtype": "int64",
         "stats": {
          "unique_count": 3,
          "nan_count": 0,
          "min": "0",
          "max": "239",
          "histogram": [
           {
            "bin_start": 0,
            "bin_end": 23.9,
            "count": 1
           },
           {
            "bin_start": 23.9,
            "bin_end": 47.8,
            "count": 0
           },
           {
            "bin_start": 47.8,
            "bin_end": 71.69999999999999,
            "count": 1
           },
           {
            "bin_start": 71.69999999999999,
            "bin_end": 95.6,
            "count": 0
           },
           {
            "bin_start": 95.6,
            "bin_end": 119.5,
            "count": 0
           },
           {
            "bin_start": 119.5,
            "bin_end": 143.39999999999998,
            "count": 0
           },
           {
            "bin_start": 143.39999999999998,
            "bin_end": 167.29999999999998,
            "count": 0
           },
           {
            "bin_start": 167.29999999999998,
            "bin_end": 191.2,
            "count": 0
           },
           {
            "bin_start": 191.2,
            "bin_end": 215.1,
            "count": 0
           },
           {
            "bin_start": 215.1,
            "bin_end": 239,
            "count": 1
           }
          ]
         }
        },
        {
         "name": "ESTIMATESBASE2010",
         "dtype": "int64",
         "stats": {
          "unique_count": 3,
          "nan_count": 0,
          "min": "0",
          "max": "239",
          "histogram": [
           {
            "bin_start": 0,
            "bin_end": 23.9,
            "count": 1
           },
           {
            "bin_start": 23.9,
            "bin_end": 47.8,
            "count": 0
           },
           {
            "bin_start": 47.8,
            "bin_end": 71.69999999999999,
            "count": 1
           },
           {
            "bin_start": 71.69999999999999,
            "bin_end": 95.6,
            "count": 0
           },
           {
            "bin_start": 95.6,
            "bin_end": 119.5,
            "count": 0
           },
           {
            "bin_start": 119.5,
            "bin_end": 143.39999999999998,
            "count": 0
           },
           {
            "bin_start": 143.39999999999998,
            "bin_end": 167.29999999999998,
            "count": 0
           },
           {
            "bin_start": 167.29999999999998,
            "bin_end": 191.2,
            "count": 0
           },
           {
            "bin_start": 191.2,
            "bin_end": 215.1,
            "count": 0
           },
           {
            "bin_start": 215.1,
            "bin_end": 239,
            "count": 1
           }
          ]
         }
        },
        {
         "name": "POPESTIMATE2010",
         "dtype": "int64",
         "stats": {
          "unique_count": 3,
          "nan_count": 0,
          "min": "0",
          "max": "240",
          "histogram": [
           {
            "bin_start": 0,
            "bin_end": 24,
            "count": 1
           },
           {
            "bin_start": 24,
            "bin_end": 48,
            "count": 0
           },
           {
            "bin_start": 48,
            "bin_end": 72,
            "count": 1
           },
           {
            "bin_start": 72,
            "bin_end": 96,
            "count": 0
           },
           {
            "bin_start": 96,
            "bin_end": 120,
            "count": 0
           },
           {
            "bin_start": 120,
            "bin_end": 144,
            "count": 0
           },
           {
            "bin_start": 144,
            "bin_end": 168,
            "count": 0
           },
           {
            "bin_start": 168,
            "bin_end": 192,
            "count": 0
           },
           {
            "bin_start": 192,
            "bin_end": 216,
            "count": 0
           },
           {
            "bin_start": 216,
            "bin_end": 240,
            "count": 1
           }
          ]
         }
        },
        {
         "name": "POPESTIMATE2011",
         "dtype": "int64",
         "stats": {
          "unique_count": 3,
          "nan_count": 0,
          "min": "0",
          "max": "231",
          "histogram": [
           {
            "bin_start": 0,
            "bin_end": 23.1,
            "count": 1
           },
           {
            "bin_start": 23.1,
            "bin_end": 46.2,
            "count": 0
           },
           {
            "bin_start": 46.2,
            "bin_end": 69.30000000000001,
            "count": 1
           },
           {
            "bin_start": 69.30000000000001,
            "bin_end": 92.4,
            "count": 0
           },
           {
            "bin_start": 92.4,
            "bin_end": 115.5,
            "count": 0
           },
           {
            "bin_start": 115.5,
            "bin_end": 138.60000000000002,
            "count": 0
           },
           {
            "bin_start": 138.60000000000002,
            "bin_end": 161.70000000000002,
            "count": 0
           },
           {
            "bin_start": 161.70000000000002,
            "bin_end": 184.8,
            "count": 0
           },
           {
            "bin_start": 184.8,
            "bin_end": 207.9,
            "count": 0
           },
           {
            "bin_start": 207.9,
            "bin_end": 231,
            "count": 1
           }
          ]
         }
        },
        {
         "name": "POPESTIMATE2012",
         "dtype": "int64",
         "stats": {
          "unique_count": 3,
          "nan_count": 0,
          "min": "0",
          "max": "240",
          "histogram": [
           {
            "bin_start": 0,
            "bin_end": 24,
            "count": 1
           },
           {
            "bin_start": 24,
            "bin_end": 48,
            "count": 0
           },
           {
            "bin_start": 48,
            "bin_end": 72,
            "count": 0
           },
           {
            "bin_start": 72,
            "bin_end": 96,
            "count": 1
           },
           {
            "bin_start": 96,
            "bin_end": 120,
            "count": 0
           },
           {
            "bin_start": 120,
            "bin_end": 144,
            "count": 0
           },
           {
            "bin_start": 144,
            "bin_end": 168,
            "count": 0
           },
           {
            "bin_start": 168,
            "bin_end": 192,
            "count": 0
           },
           {
            "bin_start": 192,
            "bin_end": 216,
            "count": 0
           },
           {
            "bin_start": 216,
            "bin_end": 240,
            "count": 1
           }
          ]
         }
        },
        {
         "name": "POPESTIMATE2013",
         "dtype": "int64",
         "stats": {
          "unique_count": 3,
          "nan_count": 0,
          "min": "0",
          "max": "252",
          "histogram": [
           {
            "bin_start": 0,
            "bin_end": 25.2,
            "count": 1
           },
           {
            "bin_start": 25.2,
            "bin_end": 50.4,
            "count": 0
           },
           {
            "bin_start": 50.4,
            "bin_end": 75.6,
            "count": 0
           },
           {
            "bin_start": 75.6,
            "bin_end": 100.8,
            "count": 1
           },
           {
            "bin_start": 100.8,
            "bin_end": 126,
            "count": 0
           },
           {
            "bin_start": 126,
            "bin_end": 151.2,
            "count": 0
           },
           {
            "bin_start": 151.2,
            "bin_end": 176.4,
            "count": 0
           },
           {
            "bin_start": 176.4,
            "bin_end": 201.6,
            "count": 0
           },
           {
            "bin_start": 201.6,
            "bin_end": 226.79999999999998,
            "count": 0
           },
           {
            "bin_start": 226.79999999999998,
            "bin_end": 252,
            "count": 1
           }
          ]
         }
        },
        {
         "name": "POPESTIMATE2014",
         "dtype": "int64",
         "stats": {
          "unique_count": 3,
          "nan_count": 0,
          "min": "0",
          "max": "258",
          "histogram": [
           {
            "bin_start": 0,
            "bin_end": 25.8,
            "count": 1
           },
           {
            "bin_start": 25.8,
            "bin_end": 51.6,
            "count": 0
           },
           {
            "bin_start": 51.6,
            "bin_end": 77.4,
            "count": 0
           },
           {
            "bin_start": 77.4,
            "bin_end": 103.2,
            "count": 1
           },
           {
            "bin_start": 103.2,
            "bin_end": 129,
            "count": 0
           },
           {
            "bin_start": 129,
            "bin_end": 154.8,
            "count": 0
           },
           {
            "bin_start": 154.8,
            "bin_end": 180.6,
            "count": 0
           },
           {
            "bin_start": 180.6,
            "bin_end": 206.4,
            "count": 0
           },
           {
            "bin_start": 206.4,
            "bin_end": 232.20000000000002,
            "count": 0
           },
           {
            "bin_start": 232.20000000000002,
            "bin_end": 258,
            "count": 1
           }
          ]
         }
        },
        {
         "name": "POPESTIMATE2015",
         "dtype": "int64",
         "stats": {
          "unique_count": 3,
          "nan_count": 0,
          "min": "0",
          "max": "228",
          "histogram": [
           {
            "bin_start": 0,
            "bin_end": 22.8,
            "count": 1
           },
           {
            "bin_start": 22.8,
            "bin_end": 45.6,
            "count": 0
           },
           {
            "bin_start": 45.6,
            "bin_end": 68.4,
            "count": 0
           },
           {
            "bin_start": 68.4,
            "bin_end": 91.2,
            "count": 0
           },
           {
            "bin_start": 91.2,
            "bin_end": 114,
            "count": 1
           },
           {
            "bin_start": 114,
            "bin_end": 136.8,
            "count": 0
           },
           {
            "bin_start": 136.8,
            "bin_end": 159.6,
            "count": 0
           },
           {
            "bin_start": 159.6,
            "bin_end": 182.4,
            "count": 0
           },
           {
            "bin_start": 182.4,
            "bin_end": 205.20000000000002,
            "count": 0
           },
           {
            "bin_start": 205.20000000000002,
            "bin_end": 228,
            "count": 1
           }
          ]
         }
        },
        {
         "name": "POPESTIMATE2016",
         "dtype": "int64",
         "stats": {
          "unique_count": 3,
          "nan_count": 0,
          "min": "0",
          "max": "238",
          "histogram": [
           {
            "bin_start": 0,
            "bin_end": 23.8,
            "count": 1
           },
           {
            "bin_start": 23.8,
            "bin_end": 47.6,
            "count": 0
           },
           {
            "bin_start": 47.6,
            "bin_end": 71.4,
            "count": 0
           },
           {
            "bin_start": 71.4,
            "bin_end": 95.2,
            "count": 0
           },
           {
            "bin_start": 95.2,
            "bin_end": 119,
            "count": 1
           },
           {
            "bin_start": 119,
            "bin_end": 142.8,
            "count": 0
           },
           {
            "bin_start": 142.8,
            "bin_end": 166.6,
            "count": 0
           },
           {
            "bin_start": 166.6,
            "bin_end": 190.4,
            "count": 0
           },
           {
            "bin_start": 190.4,
            "bin_end": 214.20000000000002,
            "count": 0
           },
           {
            "bin_start": 214.20000000000002,
            "bin_end": 238,
            "count": 1
           }
          ]
         }
        },
        {
         "name": "POPESTIMATE2017",
         "dtype": "int64",
         "stats": {
          "unique_count": 3,
          "nan_count": 0,
          "min": "0",
          "max": "270",
          "histogram": [
           {
            "bin_start": 0,
            "bin_end": 27,
            "count": 1
           },
           {
            "bin_start": 27,
            "bin_end": 54,
            "count": 0
           },
           {
            "bin_start": 54,
            "bin_end": 81,
            "count": 0
           },
           {
            "bin_start": 81,
            "bin_end": 108,
            "count": 0
           },
           {
            "bin_start": 108,
            "bin_end": 135,
            "count": 1
           },
           {
            "bin_start": 135,
            "bin_end": 162,
            "count": 0
           },
           {
            "bin_start": 162,
            "bin_end": 189,
            "count": 0
           },
           {
            "bin_start": 189,
            "bin_end": 216,
            "count": 0
           },
           {
            "bin_start": 216,
            "bin_end": 243,
            "count": 0
           },
           {
            "bin_start": 243,
            "bin_end": 270,
            "count": 1
           }
          ]
         }
        },
        {
         "name": "POPESTIMATE2018",
         "dtype": "int64",
         "stats": {
          "unique_count": 3,
          "nan_count": 0,
          "min": "0",
          "max": "257",
          "histogram": [
           {
            "bin_start": 0,
            "bin_end": 25.7,
            "count": 1
           },
           {
            "bin_start": 25.7,
            "bin_end": 51.4,
            "count": 0
           },
           {
            "bin_start": 51.4,
            "bin_end": 77.1,
            "count": 0
           },
           {
            "bin_start": 77.1,
            "bin_end": 102.8,
            "count": 0
           },
           {
            "bin_start": 102.8,
            "bin_end": 128.5,
            "count": 1
           },
           {
            "bin_start": 128.5,
            "bin_end": 154.2,
            "count": 0
           },
           {
            "bin_start": 154.2,
            "bin_end": 179.9,
            "count": 0
           },
           {
            "bin_start": 179.9,
            "bin_end": 205.6,
            "count": 0
           },
           {
            "bin_start": 205.6,
            "bin_end": 231.29999999999998,
            "count": 0
           },
           {
            "bin_start": 231.29999999999998,
            "bin_end": 257,
            "count": 1
           }
          ]
         }
        },
        {
         "name": "POPESTIMATE2019",
         "dtype": "int64",
         "stats": {
          "unique_count": 3,
          "nan_count": 0,
          "min": "0",
          "max": "263",
          "histogram": [
           {
            "bin_start": 0,
            "bin_end": 26.3,
            "count": 1
           },
           {
            "bin_start": 26.3,
            "bin_end": 52.6,
            "count": 0
           },
           {
            "bin_start": 52.6,
            "bin_end": 78.9,
            "count": 0
           },
           {
            "bin_start": 78.9,
            "bin_end": 105.2,
            "count": 0
           },
           {
            "bin_start": 105.2,
            "bin_end": 131.5,
            "count": 1
           },
           {
            "bin_start": 131.5,
            "bin_end": 157.8,
            "count": 0
           },
           {
            "bin_start": 157.8,
            "bin_end": 184.1,
            "count": 0
           },
           {
            "bin_start": 184.1,
            "bin_end": 210.4,
            "count": 0
           },
           {
            "bin_start": 210.4,
            "bin_end": 236.70000000000002,
            "count": 0
           },
           {
            "bin_start": 236.70000000000002,
            "bin_end": 263,
            "count": 1
           }
          ]
         }
        },
        {
         "name": "POPESTIMATE2020",
         "dtype": "int64",
         "stats": {
          "unique_count": 3,
          "nan_count": 0,
          "min": "0",
          "max": "279",
          "histogram": [
           {
            "bin_start": 0,
            "bin_end": 27.9,
            "count": 1
           },
           {
            "bin_start": 27.9,
            "bin_end": 55.8,
            "count": 0
           },
           {
            "bin_start": 55.8,
            "bin_end": 83.69999999999999,
            "count": 0
           },
           {
            "bin_start": 83.69999999999999,
            "bin_end": 111.6,
            "count": 0
           },
           {
            "bin_start": 111.6,
            "bin_end": 139.5,
            "count": 0
           },
           {
            "bin_start": 139.5,
            "bin_end": 167.39999999999998,
            "count": 1
           },
           {
            "bin_start": 167.39999999999998,
            "bin_end": 195.29999999999998,
            "count": 0
           },
           {
            "bin_start": 195.29999999999998,
            "bin_end": 223.2,
            "count": 0
           },
           {
            "bin_start": 223.2,
            "bin_end": 251.1,
            "count": 0
           },
           {
            "bin_start": 251.1,
            "bin_end": 279,
            "count": 1
           }
          ]
         }
        },
        {
         "name": "_deepnote_index_column",
         "dtype": "int64"
        }
       ],
       "rows": [
        {
         "NAME": "Connecticut",
         "SEX": 0,
         "ORIGIN": 1,
         "RACE": 3,
         "AGE": 37,
         "CENSUS2010POP": 239,
         "ESTIMATESBASE2010": 239,
         "POPESTIMATE2010": 240,
         "POPESTIMATE2011": 231,
         "POPESTIMATE2012": 240,
         "POPESTIMATE2013": 252,
         "POPESTIMATE2014": 258,
         "POPESTIMATE2015": 228,
         "POPESTIMATE2016": 238,
         "POPESTIMATE2017": 270,
         "POPESTIMATE2018": 257,
         "POPESTIMATE2019": 263,
         "POPESTIMATE2020": 279,
         "_deepnote_index_column": 23859
        },
        {
         "NAME": "Idaho",
         "SEX": 2,
         "ORIGIN": 0,
         "RACE": 3,
         "AGE": 73,
         "CENSUS2010POP": 61,
         "ESTIMATESBASE2010": 61,
         "POPESTIMATE2010": 60,
         "POPESTIMATE2011": 65,
         "POPESTIMATE2012": 81,
         "POPESTIMATE2013": 85,
         "POPESTIMATE2014": 93,
         "POPESTIMATE2015": 92,
         "POPESTIMATE2016": 112,
         "POPESTIMATE2017": 122,
         "POPESTIMATE2018": 121,
         "POPESTIMATE2019": 114,
         "POPESTIMATE2020": 159,
         "_deepnote_index_column": 49265
        },
        {
         "NAME": "Vermont",
         "SEX": 1,
         "ORIGIN": 2,
         "RACE": 5,
         "AGE": 82,
         "CENSUS2010POP": 0,
         "ESTIMATESBASE2010": 0,
         "POPESTIMATE2010": 0,
         "POPESTIMATE2011": 0,
         "POPESTIMATE2012": 0,
         "POPESTIMATE2013": 0,
         "POPESTIMATE2014": 0,
         "POPESTIMATE2015": 0,
         "POPESTIMATE2016": 0,
         "POPESTIMATE2017": 0,
         "POPESTIMATE2018": 0,
         "POPESTIMATE2019": 0,
         "POPESTIMATE2020": 0,
         "_deepnote_index_column": 176726
        }
       ]
      },
      "text/plain": "               NAME  SEX  ORIGIN  RACE  AGE  CENSUS2010POP  ESTIMATESBASE2010  \\\n23859   Connecticut    0       1     3   37            239                239   \n49265         Idaho    2       0     3   73             61                 61   \n176726      Vermont    1       2     5   82              0                  0   \n\n        POPESTIMATE2010  POPESTIMATE2011  POPESTIMATE2012  POPESTIMATE2013  \\\n23859               240              231              240              252   \n49265                60               65               81               85   \n176726                0                0                0                0   \n\n        POPESTIMATE2014  POPESTIMATE2015  POPESTIMATE2016  POPESTIMATE2017  \\\n23859               258              228              238              270   \n49265                93               92              112              122   \n176726                0                0                0                0   \n\n        POPESTIMATE2018  POPESTIMATE2019  POPESTIMATE2020  \n23859               257              263              279  \n49265               121              114              159  \n176726                0                0                0  ",
      "text/html": "<div>\n<style scoped>\n    .dataframe tbody tr th:only-of-type {\n        vertical-align: middle;\n    }\n\n    .dataframe tbody tr th {\n        vertical-align: top;\n    }\n\n    .dataframe thead th {\n        text-align: right;\n    }\n</style>\n<table border=\"1\" class=\"dataframe\">\n  <thead>\n    <tr style=\"text-align: right;\">\n      <th></th>\n      <th>NAME</th>\n      <th>SEX</th>\n      <th>ORIGIN</th>\n      <th>RACE</th>\n      <th>AGE</th>\n      <th>CENSUS2010POP</th>\n      <th>ESTIMATESBASE2010</th>\n      <th>POPESTIMATE2010</th>\n      <th>POPESTIMATE2011</th>\n      <th>POPESTIMATE2012</th>\n      <th>POPESTIMATE2013</th>\n      <th>POPESTIMATE2014</th>\n      <th>POPESTIMATE2015</th>\n      <th>POPESTIMATE2016</th>\n      <th>POPESTIMATE2017</th>\n      <th>POPESTIMATE2018</th>\n      <th>POPESTIMATE2019</th>\n      <th>POPESTIMATE2020</th>\n    </tr>\n  </thead>\n  <tbody>\n    <tr>\n      <th>23859</th>\n      <td>Connecticut</td>\n      <td>0</td>\n      <td>1</td>\n      <td>3</td>\n      <td>37</td>\n      <td>239</td>\n      <td>239</td>\n      <td>240</td>\n      <td>231</td>\n      <td>240</td>\n      <td>252</td>\n      <td>258</td>\n      <td>228</td>\n      <td>238</td>\n      <td>270</td>\n      <td>257</td>\n      <td>263</td>\n      <td>279</td>\n    </tr>\n    <tr>\n      <th>49265</th>\n      <td>Idaho</td>\n      <td>2</td>\n      <td>0</td>\n      <td>3</td>\n      <td>73</td>\n      <td>61</td>\n      <td>61</td>\n      <td>60</td>\n      <td>65</td>\n      <td>81</td>\n      <td>85</td>\n      <td>93</td>\n      <td>92</td>\n      <td>112</td>\n      <td>122</td>\n      <td>121</td>\n      <td>114</td>\n      <td>159</td>\n    </tr>\n    <tr>\n      <th>176726</th>\n      <td>Vermont</td>\n      <td>1</td>\n      <td>2</td>\n      <td>5</td>\n      <td>82</td>\n      <td>0</td>\n      <td>0</td>\n      <td>0</td>\n      <td>0</td>\n      <td>0</td>\n      <td>0</td>\n      <td>0</td>\n      <td>0</td>\n      <td>0</td>\n      <td>0</td>\n      <td>0</td>\n      <td>0</td>\n      <td>0</td>\n    </tr>\n  </tbody>\n</table>\n</div>"
     },
     "metadata": {}
    }
   ],
   "execution_count": null
  },
  {
   "cell_type": "code",
   "metadata": {
    "tags": [],
    "deepnote_to_be_reexecuted": false,
    "source_hash": "c451e146",
    "execution_start": 1643052711047,
    "execution_millis": 50,
    "deepnote_output_heights": [
     249
    ],
    "cell_id": "00008-edca2e5a-cf87-494c-8cfd-0626a39e8f07",
    "deepnote_cell_type": "code"
   },
   "source": "pop_est['age_category'] =  pop_est['AGE'].apply(lambda x: 1 if x >40  else 0) \n#pop_est['idx'] = pop_est.apply(lambda x:  \"_\".join([str(x['SEX']), str(x['ORIGIN']), str(x['RACE']), str(x['AGE'])]), axis=1)\npop_est.drop(['SEX', 'ORIGIN', 'RACE', 'AGE'], axis='columns', inplace=True)",
   "outputs": [],
   "execution_count": null
  },
  {
   "cell_type": "code",
   "metadata": {
    "tags": [],
    "deepnote_to_be_reexecuted": false,
    "source_hash": "b3547eaa",
    "execution_start": 1643052711147,
    "execution_millis": 1778,
    "cell_id": "00009-819f34c4-9303-49ab-81e3-1fac086f845a",
    "deepnote_cell_type": "code"
   },
   "source": "pop_agg_df = pop_est.copy()\npop_agg_df.drop(['CENSUS2010POP','ESTIMATESBASE2010'], axis = 'columns', inplace=True)\n\npop_agg_df = pd.melt(pop_agg_df,id_vars=['NAME','age_category'])\n\npop_agg_df.loc[:,'year'] = pop_agg_df['variable'].apply(lambda x: int(x[-4:]))\n#popestimate df\npop_agg_df.drop(['variable'], axis='columns', inplace=True)\n\npop_agg_df = pop_agg_df.groupby(['NAME','age_category','year']).sum().reset_index()\n# set t=0 for base year\n\n# set year count to integers from 0 to x for train and test split\nstart_year = 2013\nno_of_years = 4\npop_agg_df.loc[:,'year'] = start_year + no_of_years - pop_agg_df['year'] \npop_train_df = pop_agg_df.loc[pop_agg_df['year']>0,:].copy()\npop_train_df = pop_train_df.loc[pop_train_df['year'] <= no_of_years,:]\npop_test_df = pop_agg_df.loc[pop_agg_df['year']>-1,:].copy()\npop_test_df.loc[:,'year'] = pop_test_df['year'] + 1\npop_test_df = pop_test_df.loc[pop_test_df['year'] <= no_of_years,:]\n\npop_train_df.loc[:,'idx'] = pop_train_df.apply(lambda x:  \"_\".join([str(x['age_category']), str(x['year'])]), axis=1)\npop_train_df = pop_train_df.pivot(index='NAME', columns=['idx'], values='value')\n\npop_test_df.loc[:,'idx'] = pop_test_df.apply(lambda x:  \"_\".join([str(x['age_category']), str(x['year'])]), axis=1)\npop_test_df = pop_test_df.pivot(index='NAME', columns=['idx'], values='value')\n\n# normalise values based on train data only\n\n_mean = pop_train_df.stack().mean()\n_std = pop_train_df.stack().std()\n\npop_train_df = (pop_train_df-_mean)/_std\npop_test_df = (pop_test_df-_mean)/_std\n\npop_train_df.index.name = 'state'\npop_test_df.index.name = 'state'\n\npop_train_df.reset_index(inplace=True)\npop_test_df.reset_index(inplace=True)",
   "outputs": [],
   "execution_count": null
  },
  {
   "cell_type": "code",
   "metadata": {
    "tags": [],
    "deepnote_to_be_reexecuted": false,
    "source_hash": "17dd8827",
    "execution_start": 1643052712975,
    "execution_millis": 10,
    "cell_id": "00010-dfc62706-ef54-490d-ae42-47829dd53f87",
    "deepnote_cell_type": "code"
   },
   "source": "pop_train_df.sample(3)",
   "outputs": [
    {
     "output_type": "execute_result",
     "execution_count": 11,
     "data": {
      "application/vnd.deepnote.dataframe.v3+json": {
       "column_count": 9,
       "row_count": 3,
       "columns": [
        {
         "name": "state",
         "dtype": "object",
         "stats": {
          "unique_count": 3,
          "nan_count": 0,
          "categories": [
           {
            "name": "Arizona",
            "count": 1
           },
           {
            "name": "Kentucky",
            "count": 1
           },
           {
            "name": "District of Columbia",
            "count": 1
           }
          ]
         }
        },
        {
         "name": "0_1",
         "dtype": "float64",
         "stats": {
          "unique_count": 3,
          "nan_count": 0,
          "min": "-0.7518084910971401",
          "max": "0.1969713196136164",
          "histogram": [
           {
            "bin_start": -0.7518084910971401,
            "bin_end": -0.6569305100260644,
            "count": 1
           },
           {
            "bin_start": -0.6569305100260644,
            "bin_end": -0.5620525289549888,
            "count": 0
           },
           {
            "bin_start": -0.5620525289549888,
            "bin_end": -0.4671745478839131,
            "count": 0
           },
           {
            "bin_start": -0.4671745478839131,
            "bin_end": -0.37229656681283746,
            "count": 0
           },
           {
            "bin_start": -0.37229656681283746,
            "bin_end": -0.2774185857417618,
            "count": 0
           },
           {
            "bin_start": -0.2774185857417618,
            "bin_end": -0.1825406046706861,
            "count": 1
           },
           {
            "bin_start": -0.1825406046706861,
            "bin_end": -0.08766262359961052,
            "count": 0
           },
           {
            "bin_start": -0.08766262359961052,
            "bin_end": 0.007215357471465178,
            "count": 0
           },
           {
            "bin_start": 0.007215357471465178,
            "bin_end": 0.10209333854254088,
            "count": 0
           },
           {
            "bin_start": 0.10209333854254088,
            "bin_end": 0.1969713196136164,
            "count": 1
           }
          ]
         }
        },
        {
         "name": "0_2",
         "dtype": "float64",
         "stats": {
          "unique_count": 3,
          "nan_count": 0,
          "min": "-0.7540057386201303",
          "max": "0.18460355315235374",
          "histogram": [
           {
            "bin_start": -0.7540057386201303,
            "bin_end": -0.6601448094428819,
            "count": 1
           },
           {
            "bin_start": -0.6601448094428819,
            "bin_end": -0.5662838802656335,
            "count": 0
           },
           {
            "bin_start": -0.5662838802656335,
            "bin_end": -0.4724229510883851,
            "count": 0
           },
           {
            "bin_start": -0.4724229510883851,
            "bin_end": -0.3785620219111367,
            "count": 0
           },
           {
            "bin_start": -0.3785620219111367,
            "bin_end": -0.2847010927338883,
            "count": 0
           },
           {
            "bin_start": -0.2847010927338883,
            "bin_end": -0.1908401635566399,
            "count": 1
           },
           {
            "bin_start": -0.1908401635566399,
            "bin_end": -0.09697923437939149,
            "count": 0
           },
           {
            "bin_start": -0.09697923437939149,
            "bin_end": -0.003118305202143068,
            "count": 0
           },
           {
            "bin_start": -0.003118305202143068,
            "bin_end": 0.09074262397510535,
            "count": 0
           },
           {
            "bin_start": 0.09074262397510535,
            "bin_end": 0.18460355315235374,
            "count": 1
           }
          ]
         }
        },
        {
         "name": "0_3",
         "dtype": "float64",
         "stats": {
          "unique_count": 3,
          "nan_count": 0,
          "min": "-0.7569689394893919",
          "max": "0.17367411292536755",
          "histogram": [
           {
            "bin_start": -0.7569689394893919,
            "bin_end": -0.663904634247916,
            "count": 1
           },
           {
            "bin_start": -0.663904634247916,
            "bin_end": -0.57084032900644,
            "count": 0
           },
           {
            "bin_start": -0.57084032900644,
            "bin_end": -0.4777760237649641,
            "count": 0
           },
           {
            "bin_start": -0.4777760237649641,
            "bin_end": -0.3847117185234881,
            "count": 0
           },
           {
            "bin_start": -0.3847117185234881,
            "bin_end": -0.29164741328201216,
            "count": 0
           },
           {
            "bin_start": -0.29164741328201216,
            "bin_end": -0.19858310804053625,
            "count": 1
           },
           {
            "bin_start": -0.19858310804053625,
            "bin_end": -0.10551880279906023,
            "count": 0
           },
           {
            "bin_start": -0.10551880279906023,
            "bin_end": -0.01245449755758432,
            "count": 0
           },
           {
            "bin_start": -0.01245449755758432,
            "bin_end": 0.08060980768389159,
            "count": 0
           },
           {
            "bin_start": 0.08060980768389159,
            "bin_end": 0.17367411292536755,
            "count": 1
           }
          ]
         }
        },
        {
         "name": "0_4",
         "dtype": "float64",
         "stats": {
          "unique_count": 3,
          "nan_count": 0,
          "min": "-0.7594228571132337",
          "max": "0.16216723258740348",
          "histogram": [
           {
            "bin_start": -0.7594228571132337,
            "bin_end": -0.66726384814317,
            "count": 1
           },
           {
            "bin_start": -0.66726384814317,
            "bin_end": -0.5751048391731062,
            "count": 0
           },
           {
            "bin_start": -0.5751048391731062,
            "bin_end": -0.4829458302030425,
            "count": 0
           },
           {
            "bin_start": -0.4829458302030425,
            "bin_end": -0.3907868212329788,
            "count": 0
           },
           {
            "bin_start": -0.3907868212329788,
            "bin_end": -0.2986278122629151,
            "count": 0
           },
           {
            "bin_start": -0.2986278122629151,
            "bin_end": -0.20646880329285133,
            "count": 1
           },
           {
            "bin_start": -0.20646880329285133,
            "bin_end": -0.11430979432278765,
            "count": 0
           },
           {
            "bin_start": -0.11430979432278765,
            "bin_end": -0.022150785352723967,
            "count": 0
           },
           {
            "bin_start": -0.022150785352723967,
            "bin_end": 0.07000822361733972,
            "count": 0
           },
           {
            "bin_start": 0.07000822361733972,
            "bin_end": 0.16216723258740348,
            "count": 1
           }
          ]
         }
        },
        {
         "name": "1_1",
         "dtype": "float64",
         "stats": {
          "unique_count": 3,
          "nan_count": 0,
          "min": "-0.7986349623730378",
          "max": "-0.0038101514803076412",
          "histogram": [
           {
            "bin_start": -0.7986349623730378,
            "bin_end": -0.7191524812837647,
            "count": 1
           },
           {
            "bin_start": -0.7191524812837647,
            "bin_end": -0.6396700001944917,
            "count": 0
           },
           {
            "bin_start": -0.6396700001944917,
            "bin_end": -0.5601875191052188,
            "count": 0
           },
           {
            "bin_start": -0.5601875191052188,
            "bin_end": -0.4807050380159457,
            "count": 0
           },
           {
            "bin_start": -0.4807050380159457,
            "bin_end": -0.4012225569266727,
            "count": 0
           },
           {
            "bin_start": -0.4012225569266727,
            "bin_end": -0.3217400758373997,
            "count": 0
           },
           {
            "bin_start": -0.3217400758373997,
            "bin_end": -0.2422575947481267,
            "count": 1
           },
           {
            "bin_start": -0.2422575947481267,
            "bin_end": -0.16277511365885367,
            "count": 0
           },
           {
            "bin_start": -0.16277511365885367,
            "bin_end": -0.08329263256958064,
            "count": 0
           },
           {
            "bin_start": -0.08329263256958064,
            "bin_end": -0.0038101514803076412,
            "count": 1
           }
          ]
         }
        },
        {
         "name": "1_2",
         "dtype": "float64",
         "stats": {
          "unique_count": 3,
          "nan_count": 0,
          "min": "-0.7994871936562655",
          "max": "-0.023994320380568115",
          "histogram": [
           {
            "bin_start": -0.7994871936562655,
            "bin_end": -0.7219379063286958,
            "count": 1
           },
           {
            "bin_start": -0.7219379063286958,
            "bin_end": -0.6443886190011261,
            "count": 0
           },
           {
            "bin_start": -0.6443886190011261,
            "bin_end": -0.5668393316735563,
            "count": 0
           },
           {
            "bin_start": -0.5668393316735563,
            "bin_end": -0.48929004434598655,
            "count": 0
           },
           {
            "bin_start": -0.48929004434598655,
            "bin_end": -0.41174075701841684,
            "count": 0
           },
           {
            "bin_start": -0.41174075701841684,
            "bin_end": -0.33419146969084706,
            "count": 0
           },
           {
            "bin_start": -0.33419146969084706,
            "bin_end": -0.2566421823632773,
            "count": 1
           },
           {
            "bin_start": -0.2566421823632773,
            "bin_end": -0.17909289503570758,
            "count": 0
           },
           {
            "bin_start": -0.17909289503570758,
            "bin_end": -0.10154360770813786,
            "count": 0
           },
           {
            "bin_start": -0.10154360770813786,
            "bin_end": -0.023994320380568115,
            "count": 1
           }
          ]
         }
        },
        {
         "name": "1_3",
         "dtype": "float64",
         "stats": {
          "unique_count": 3,
          "nan_count": 0,
          "min": "-0.8003561936921306",
          "max": "-0.042012345089343005",
          "histogram": [
           {
            "bin_start": -0.8003561936921306,
            "bin_end": -0.7245218088318519,
            "count": 1
           },
           {
            "bin_start": -0.7245218088318519,
            "bin_end": -0.6486874239715731,
            "count": 0
           },
           {
            "bin_start": -0.6486874239715731,
            "bin_end": -0.5728530391112944,
            "count": 0
           },
           {
            "bin_start": -0.5728530391112944,
            "bin_end": -0.4970186542510156,
            "count": 0
           },
           {
            "bin_start": -0.4970186542510156,
            "bin_end": -0.42118426939073683,
            "count": 0
           },
           {
            "bin_start": -0.42118426939073683,
            "bin_end": -0.3453498845304581,
            "count": 0
           },
           {
            "bin_start": -0.3453498845304581,
            "bin_end": -0.2695154996701793,
            "count": 1
           },
           {
            "bin_start": -0.2695154996701793,
            "bin_end": -0.19368111480990058,
            "count": 0
           },
           {
            "bin_start": -0.19368111480990058,
            "bin_end": -0.11784672994962186,
            "count": 0
           },
           {
            "bin_start": -0.11784672994962186,
            "bin_end": -0.042012345089343005,
            "count": 1
           }
          ]
         }
        },
        {
         "name": "1_4",
         "dtype": "float64",
         "stats": {
          "unique_count": 3,
          "nan_count": 0,
          "min": "-0.8013339201563858",
          "max": "-0.05904236571127849",
          "histogram": [
           {
            "bin_start": -0.8013339201563858,
            "bin_end": -0.7271047647118751,
            "count": 1
           },
           {
            "bin_start": -0.7271047647118751,
            "bin_end": -0.6528756092673644,
            "count": 0
           },
           {
            "bin_start": -0.6528756092673644,
            "bin_end": -0.5786464538228536,
            "count": 0
           },
           {
            "bin_start": -0.5786464538228536,
            "bin_end": -0.5044172983783429,
            "count": 0
           },
           {
            "bin_start": -0.5044172983783429,
            "bin_end": -0.43018814293383223,
            "count": 0
           },
           {
            "bin_start": -0.43018814293383223,
            "bin_end": -0.3559589874893215,
            "count": 0
           },
           {
            "bin_start": -0.3559589874893215,
            "bin_end": -0.2817298320448107,
            "count": 1
           },
           {
            "bin_start": -0.2817298320448107,
            "bin_end": -0.20750067660030003,
            "count": 0
           },
           {
            "bin_start": -0.20750067660030003,
            "bin_end": -0.13327152115578933,
            "count": 0
           },
           {
            "bin_start": -0.13327152115578933,
            "bin_end": -0.05904236571127849,
            "count": 1
           }
          ]
         }
        },
        {
         "name": "_deepnote_index_column",
         "dtype": "int64"
        }
       ],
       "rows": [
        {
         "state": "Arizona",
         "0_1": 0.1969713196136164,
         "0_2": 0.18460355315235374,
         "0_3": 0.17367411292536755,
         "0_4": 0.16216723258740348,
         "1_1": -0.0038101514803076412,
         "1_2": -0.023994320380568115,
         "1_3": -0.042012345089343005,
         "1_4": -0.05904236571127849,
         "_deepnote_index_column": 2
        },
        {
         "state": "Kentucky",
         "0_1": -0.2176163454896233,
         "0_2": -0.21838770811093894,
         "0_3": -0.21936624596645082,
         "0_4": -0.21894892039678393,
         "1_1": -0.2996039159446571,
         "1_2": -0.30268152298110534,
         "1_3": -0.3057188309184737,
         "1_4": -0.3095448111572994,
         "_deepnote_index_column": 17
        },
        {
         "state": "District of Columbia",
         "0_1": -0.7518084910971401,
         "0_2": -0.7540057386201303,
         "0_3": -0.7569689394893919,
         "0_4": -0.7594228571132337,
         "1_1": -0.7986349623730378,
         "1_2": -0.7994871936562655,
         "1_3": -0.8003561936921306,
         "1_4": -0.8013339201563858,
         "_deepnote_index_column": 8
        }
       ]
      },
      "text/plain": "idx                 state       0_1       0_2       0_3       0_4       1_1  \\\n2                 Arizona  0.196971  0.184604  0.173674  0.162167 -0.003810   \n17               Kentucky -0.217616 -0.218388 -0.219366 -0.218949 -0.299604   \n8    District of Columbia -0.751808 -0.754006 -0.756969 -0.759423 -0.798635   \n\nidx       1_2       1_3       1_4  \n2   -0.023994 -0.042012 -0.059042  \n17  -0.302682 -0.305719 -0.309545  \n8   -0.799487 -0.800356 -0.801334  ",
      "text/html": "<div>\n<style scoped>\n    .dataframe tbody tr th:only-of-type {\n        vertical-align: middle;\n    }\n\n    .dataframe tbody tr th {\n        vertical-align: top;\n    }\n\n    .dataframe thead th {\n        text-align: right;\n    }\n</style>\n<table border=\"1\" class=\"dataframe\">\n  <thead>\n    <tr style=\"text-align: right;\">\n      <th>idx</th>\n      <th>state</th>\n      <th>0_1</th>\n      <th>0_2</th>\n      <th>0_3</th>\n      <th>0_4</th>\n      <th>1_1</th>\n      <th>1_2</th>\n      <th>1_3</th>\n      <th>1_4</th>\n    </tr>\n  </thead>\n  <tbody>\n    <tr>\n      <th>2</th>\n      <td>Arizona</td>\n      <td>0.196971</td>\n      <td>0.184604</td>\n      <td>0.173674</td>\n      <td>0.162167</td>\n      <td>-0.003810</td>\n      <td>-0.023994</td>\n      <td>-0.042012</td>\n      <td>-0.059042</td>\n    </tr>\n    <tr>\n      <th>17</th>\n      <td>Kentucky</td>\n      <td>-0.217616</td>\n      <td>-0.218388</td>\n      <td>-0.219366</td>\n      <td>-0.218949</td>\n      <td>-0.299604</td>\n      <td>-0.302682</td>\n      <td>-0.305719</td>\n      <td>-0.309545</td>\n    </tr>\n    <tr>\n      <th>8</th>\n      <td>District of Columbia</td>\n      <td>-0.751808</td>\n      <td>-0.754006</td>\n      <td>-0.756969</td>\n      <td>-0.759423</td>\n      <td>-0.798635</td>\n      <td>-0.799487</td>\n      <td>-0.800356</td>\n      <td>-0.801334</td>\n    </tr>\n  </tbody>\n</table>\n</div>"
     },
     "metadata": {}
    }
   ],
   "execution_count": null
  },
  {
   "cell_type": "code",
   "metadata": {
    "tags": [],
    "deepnote_to_be_reexecuted": false,
    "source_hash": "55230c14",
    "execution_start": 1643052712985,
    "execution_millis": 58,
    "deepnote_output_heights": [
     21.1875
    ],
    "cell_id": "00011-9ffb1d20-7e99-43df-b3dd-85e5a1b1309e",
    "deepnote_cell_type": "code"
   },
   "source": "pop_test_df.sample(3)",
   "outputs": [
    {
     "output_type": "execute_result",
     "execution_count": 12,
     "data": {
      "application/vnd.deepnote.dataframe.v3+json": {
       "column_count": 9,
       "row_count": 3,
       "columns": [
        {
         "name": "state",
         "dtype": "object",
         "stats": {
          "unique_count": 3,
          "nan_count": 0,
          "categories": [
           {
            "name": "Minnesota",
            "count": 1
           },
           {
            "name": "South Dakota",
            "count": 1
           },
           {
            "name": "Michigan",
            "count": 1
           }
          ]
         }
        },
        {
         "name": "0_1",
         "dtype": "float64",
         "stats": {
          "unique_count": 3,
          "nan_count": 0,
          "min": "-0.7362741350249505",
          "max": "0.5754983230978549",
          "histogram": [
           {
            "bin_start": -0.7362741350249505,
            "bin_end": -0.60509688921267,
            "count": 1
           },
           {
            "bin_start": -0.60509688921267,
            "bin_end": -0.47391964340038945,
            "count": 0
           },
           {
            "bin_start": -0.47391964340038945,
            "bin_end": -0.34274239758810887,
            "count": 0
           },
           {
            "bin_start": -0.34274239758810887,
            "bin_end": -0.21156515177582835,
            "count": 0
           },
           {
            "bin_start": -0.21156515177582835,
            "bin_end": -0.08038790596354783,
            "count": 0
           },
           {
            "bin_start": -0.08038790596354783,
            "bin_end": 0.050789339848732795,
            "count": 1
           },
           {
            "bin_start": 0.050789339848732795,
            "bin_end": 0.1819665856610133,
            "count": 0
           },
           {
            "bin_start": 0.1819665856610133,
            "bin_end": 0.31314383147329383,
            "count": 0
           },
           {
            "bin_start": 0.31314383147329383,
            "bin_end": 0.44432107728557446,
            "count": 0
           },
           {
            "bin_start": 0.44432107728557446,
            "bin_end": 0.5754983230978549,
            "count": 1
           }
          ]
         }
        },
        {
         "name": "0_2",
         "dtype": "float64",
         "stats": {
          "unique_count": 3,
          "nan_count": 0,
          "min": "-0.7381884774631244",
          "max": "0.5713567116601949",
          "histogram": [
           {
            "bin_start": -0.7381884774631244,
            "bin_end": -0.6072339585507925,
            "count": 1
           },
           {
            "bin_start": -0.6072339585507925,
            "bin_end": -0.4762794396384606,
            "count": 0
           },
           {
            "bin_start": -0.4762794396384606,
            "bin_end": -0.34532492072612864,
            "count": 0
           },
           {
            "bin_start": -0.34532492072612864,
            "bin_end": -0.21437040181379674,
            "count": 0
           },
           {
            "bin_start": -0.21437040181379674,
            "bin_end": -0.08341588290146484,
            "count": 0
           },
           {
            "bin_start": -0.08341588290146484,
            "bin_end": 0.047538636010867164,
            "count": 1
           },
           {
            "bin_start": 0.047538636010867164,
            "bin_end": 0.17849315492319906,
            "count": 0
           },
           {
            "bin_start": 0.17849315492319906,
            "bin_end": 0.30944767383553096,
            "count": 0
           },
           {
            "bin_start": 0.30944767383553096,
            "bin_end": 0.44040219274786296,
            "count": 0
           },
           {
            "bin_start": 0.44040219274786296,
            "bin_end": 0.5713567116601949,
            "count": 1
           }
          ]
         }
        },
        {
         "name": "0_3",
         "dtype": "float64",
         "stats": {
          "unique_count": 3,
          "nan_count": 0,
          "min": "-0.7399694812714567",
          "max": "0.5687848718403876",
          "histogram": [
           {
            "bin_start": -0.7399694812714567,
            "bin_end": -0.6090940459602723,
            "count": 1
           },
           {
            "bin_start": -0.6090940459602723,
            "bin_end": -0.4782186106490878,
            "count": 0
           },
           {
            "bin_start": -0.4782186106490878,
            "bin_end": -0.3473431753379034,
            "count": 0
           },
           {
            "bin_start": -0.3473431753379034,
            "bin_end": -0.21646774002671898,
            "count": 0
           },
           {
            "bin_start": -0.21646774002671898,
            "bin_end": -0.08559230471553458,
            "count": 0
           },
           {
            "bin_start": -0.08559230471553458,
            "bin_end": 0.04528313059564992,
            "count": 1
           },
           {
            "bin_start": 0.04528313059564992,
            "bin_end": 0.17615856590683432,
            "count": 0
           },
           {
            "bin_start": 0.17615856590683432,
            "bin_end": 0.3070340012180187,
            "count": 0
           },
           {
            "bin_start": 0.3070340012180187,
            "bin_end": 0.4379094365292032,
            "count": 0
           },
           {
            "bin_start": 0.4379094365292032,
            "bin_end": 0.5687848718403876,
            "count": 1
           }
          ]
         }
        },
        {
         "name": "0_4",
         "dtype": "float64",
         "stats": {
          "unique_count": 3,
          "nan_count": 0,
          "min": "-0.7409688448358891",
          "max": "0.5694634653946937",
          "histogram": [
           {
            "bin_start": -0.7409688448358891,
            "bin_end": -0.6099256138128308,
            "count": 1
           },
           {
            "bin_start": -0.6099256138128308,
            "bin_end": -0.4788823827897725,
            "count": 0
           },
           {
            "bin_start": -0.4788823827897725,
            "bin_end": -0.3478391517667142,
            "count": 0
           },
           {
            "bin_start": -0.3478391517667142,
            "bin_end": -0.21679592074365595,
            "count": 0
           },
           {
            "bin_start": -0.21679592074365595,
            "bin_end": -0.08575268972059769,
            "count": 0
           },
           {
            "bin_start": -0.08575268972059769,
            "bin_end": 0.045290541302460685,
            "count": 1
           },
           {
            "bin_start": 0.045290541302460685,
            "bin_end": 0.17633377232551894,
            "count": 0
           },
           {
            "bin_start": 0.17633377232551894,
            "bin_end": 0.3073770033485772,
            "count": 0
           },
           {
            "bin_start": 0.3073770033485772,
            "bin_end": 0.43842023437163546,
            "count": 0
           },
           {
            "bin_start": 0.43842023437163546,
            "bin_end": 0.5694634653946937,
            "count": 1
           }
          ]
         }
        },
        {
         "name": "1_1",
         "dtype": "float64",
         "stats": {
          "unique_count": 3,
          "nan_count": 0,
          "min": "-0.7637567682787181",
          "max": "0.45211952093142505",
          "histogram": [
           {
            "bin_start": -0.7637567682787181,
            "bin_end": -0.6421691393577038,
            "count": 1
           },
           {
            "bin_start": -0.6421691393577038,
            "bin_end": -0.5205815104366894,
            "count": 0
           },
           {
            "bin_start": -0.5205815104366894,
            "bin_end": -0.39899388151567516,
            "count": 0
           },
           {
            "bin_start": -0.39899388151567516,
            "bin_end": -0.27740625259466084,
            "count": 0
           },
           {
            "bin_start": -0.27740625259466084,
            "bin_end": -0.15581862367364652,
            "count": 1
           },
           {
            "bin_start": -0.15581862367364652,
            "bin_end": -0.03423099475263225,
            "count": 0
           },
           {
            "bin_start": -0.03423099475263225,
            "bin_end": 0.08735663416838213,
            "count": 0
           },
           {
            "bin_start": 0.08735663416838213,
            "bin_end": 0.2089442630893964,
            "count": 0
           },
           {
            "bin_start": 0.2089442630893964,
            "bin_end": 0.3305318920104108,
            "count": 0
           },
           {
            "bin_start": 0.3305318920104108,
            "bin_end": 0.45211952093142505,
            "count": 1
           }
          ]
         }
        },
        {
         "name": "1_2",
         "dtype": "float64",
         "stats": {
          "unique_count": 3,
          "nan_count": 0,
          "min": "-0.7647512634956106",
          "max": "0.4482921883738383",
          "histogram": [
           {
            "bin_start": -0.7647512634956106,
            "bin_end": -0.6434469183086657,
            "count": 1
           },
           {
            "bin_start": -0.6434469183086657,
            "bin_end": -0.5221425731217209,
            "count": 0
           },
           {
            "bin_start": -0.5221425731217209,
            "bin_end": -0.40083822793477597,
            "count": 0
           },
           {
            "bin_start": -0.40083822793477597,
            "bin_end": -0.2795338827478311,
            "count": 0
           },
           {
            "bin_start": -0.2795338827478311,
            "bin_end": -0.1582295375608862,
            "count": 1
           },
           {
            "bin_start": -0.1582295375608862,
            "bin_end": -0.03692519237394132,
            "count": 0
           },
           {
            "bin_start": -0.03692519237394132,
            "bin_end": 0.08437915281300357,
            "count": 0
           },
           {
            "bin_start": 0.08437915281300357,
            "bin_end": 0.20568349799994845,
            "count": 0
           },
           {
            "bin_start": 0.20568349799994845,
            "bin_end": 0.32698784318689333,
            "count": 0
           },
           {
            "bin_start": 0.32698784318689333,
            "bin_end": 0.4482921883738383,
            "count": 1
           }
          ]
         }
        },
        {
         "name": "1_3",
         "dtype": "float64",
         "stats": {
          "unique_count": 3,
          "nan_count": 0,
          "min": "-0.7656554238192635",
          "max": "0.4437662479442816",
          "histogram": [
           {
            "bin_start": -0.7656554238192635,
            "bin_end": -0.644713256642909,
            "count": 1
           },
           {
            "bin_start": -0.644713256642909,
            "bin_end": -0.5237710894665546,
            "count": 0
           },
           {
            "bin_start": -0.5237710894665546,
            "bin_end": -0.40282892229020006,
            "count": 0
           },
           {
            "bin_start": -0.40282892229020006,
            "bin_end": -0.28188675511384553,
            "count": 0
           },
           {
            "bin_start": -0.28188675511384553,
            "bin_end": -0.160944587937491,
            "count": 1
           },
           {
            "bin_start": -0.160944587937491,
            "bin_end": -0.04000242076113658,
            "count": 0
           },
           {
            "bin_start": -0.04000242076113658,
            "bin_end": 0.08093974641521795,
            "count": 0
           },
           {
            "bin_start": 0.08093974641521795,
            "bin_end": 0.20188191359157248,
            "count": 0
           },
           {
            "bin_start": 0.20188191359157248,
            "bin_end": 0.3228240807679269,
            "count": 0
           },
           {
            "bin_start": 0.3228240807679269,
            "bin_end": 0.4437662479442816,
            "count": 1
           }
          ]
         }
        },
        {
         "name": "1_4",
         "dtype": "float64",
         "stats": {
          "unique_count": 3,
          "nan_count": 0,
          "min": "-0.766213390540082",
          "max": "0.4407981787274801",
          "histogram": [
           {
            "bin_start": -0.766213390540082,
            "bin_end": -0.6455122336133258,
            "count": 1
           },
           {
            "bin_start": -0.6455122336133258,
            "bin_end": -0.5248110766865696,
            "count": 0
           },
           {
            "bin_start": -0.5248110766865696,
            "bin_end": -0.40410991975981336,
            "count": 0
           },
           {
            "bin_start": -0.40410991975981336,
            "bin_end": -0.28340876283305716,
            "count": 0
           },
           {
            "bin_start": -0.28340876283305716,
            "bin_end": -0.16270760590630096,
            "count": 1
           },
           {
            "bin_start": -0.16270760590630096,
            "bin_end": -0.04200644897954475,
            "count": 0
           },
           {
            "bin_start": -0.04200644897954475,
            "bin_end": 0.07869470794721145,
            "count": 0
           },
           {
            "bin_start": 0.07869470794721145,
            "bin_end": 0.19939586487396765,
            "count": 0
           },
           {
            "bin_start": 0.19939586487396765,
            "bin_end": 0.32009702180072386,
            "count": 0
           },
           {
            "bin_start": 0.32009702180072386,
            "bin_end": 0.4407981787274801,
            "count": 1
           }
          ]
         }
        },
        {
         "name": "_deepnote_index_column",
         "dtype": "int64"
        }
       ],
       "rows": [
        {
         "state": "Minnesota",
         "0_1": -0.0246731843986264,
         "0_2": -0.032363009801587836,
         "0_3": -0.039061585552683284,
         "0_4": -0.04445463277183955,
         "1_1": -0.17007260434285282,
         "1_2": -0.17555247042646993,
         "1_3": -0.18124438009182317,
         "1_4": -0.18546523740888196,
         "_deepnote_index_column": 23
        },
        {
         "state": "South Dakota",
         "0_1": -0.7362741350249505,
         "0_2": -0.7381884774631244,
         "0_3": -0.7399694812714567,
         "0_4": -0.7409688448358891,
         "1_1": -0.7637567682787181,
         "1_2": -0.7647512634956106,
         "1_3": -0.7656554238192635,
         "1_4": -0.766213390540082,
         "_deepnote_index_column": 41
        },
        {
         "state": "Michigan",
         "0_1": 0.5754983230978549,
         "0_2": 0.5713567116601949,
         "0_3": 0.5687848718403876,
         "0_4": 0.5694634653946937,
         "1_1": 0.45211952093142505,
         "1_2": 0.4482921883738383,
         "1_3": 0.4437662479442816,
         "1_4": 0.4407981787274801,
         "_deepnote_index_column": 22
        }
       ]
      },
      "text/plain": "idx         state       0_1       0_2       0_3       0_4       1_1       1_2  \\\n23      Minnesota -0.024673 -0.032363 -0.039062 -0.044455 -0.170073 -0.175552   \n41   South Dakota -0.736274 -0.738188 -0.739969 -0.740969 -0.763757 -0.764751   \n22       Michigan  0.575498  0.571357  0.568785  0.569463  0.452120  0.448292   \n\nidx       1_3       1_4  \n23  -0.181244 -0.185465  \n41  -0.765655 -0.766213  \n22   0.443766  0.440798  ",
      "text/html": "<div>\n<style scoped>\n    .dataframe tbody tr th:only-of-type {\n        vertical-align: middle;\n    }\n\n    .dataframe tbody tr th {\n        vertical-align: top;\n    }\n\n    .dataframe thead th {\n        text-align: right;\n    }\n</style>\n<table border=\"1\" class=\"dataframe\">\n  <thead>\n    <tr style=\"text-align: right;\">\n      <th>idx</th>\n      <th>state</th>\n      <th>0_1</th>\n      <th>0_2</th>\n      <th>0_3</th>\n      <th>0_4</th>\n      <th>1_1</th>\n      <th>1_2</th>\n      <th>1_3</th>\n      <th>1_4</th>\n    </tr>\n  </thead>\n  <tbody>\n    <tr>\n      <th>23</th>\n      <td>Minnesota</td>\n      <td>-0.024673</td>\n      <td>-0.032363</td>\n      <td>-0.039062</td>\n      <td>-0.044455</td>\n      <td>-0.170073</td>\n      <td>-0.175552</td>\n      <td>-0.181244</td>\n      <td>-0.185465</td>\n    </tr>\n    <tr>\n      <th>41</th>\n      <td>South Dakota</td>\n      <td>-0.736274</td>\n      <td>-0.738188</td>\n      <td>-0.739969</td>\n      <td>-0.740969</td>\n      <td>-0.763757</td>\n      <td>-0.764751</td>\n      <td>-0.765655</td>\n      <td>-0.766213</td>\n    </tr>\n    <tr>\n      <th>22</th>\n      <td>Michigan</td>\n      <td>0.575498</td>\n      <td>0.571357</td>\n      <td>0.568785</td>\n      <td>0.569463</td>\n      <td>0.452120</td>\n      <td>0.448292</td>\n      <td>0.443766</td>\n      <td>0.440798</td>\n    </tr>\n  </tbody>\n</table>\n</div>"
     },
     "metadata": {}
    }
   ],
   "execution_count": null
  },
  {
   "cell_type": "code",
   "metadata": {
    "tags": [],
    "deepnote_to_be_reexecuted": false,
    "source_hash": "b8134068",
    "execution_start": 1643052713044,
    "execution_millis": 343,
    "cell_id": "00012-129c06a7-6179-4e43-9744-c8f402a64e00",
    "deepnote_cell_type": "code"
   },
   "source": "full_train = df_geo_features_train.merge(pop_train_df, on='state',how='left').drop(['state'], axis = 1).set_index('idx')\nfull_test = df_geo_features_test.merge(pop_test_df, on='state',how='left').drop(['state'], axis = 1).set_index('idx')",
   "outputs": [],
   "execution_count": null
  },
  {
   "cell_type": "code",
   "metadata": {
    "tags": [],
    "deepnote_to_be_reexecuted": false,
    "source_hash": "38c9a4e",
    "execution_start": 1643052713392,
    "execution_millis": 169,
    "cell_id": "00013-5f6b517d-a49a-4118-9d48-0f7cbee9c197",
    "deepnote_cell_type": "code"
   },
   "source": "full_test.sample(5)",
   "outputs": [
    {
     "output_type": "execute_result",
     "execution_count": 14,
     "data": {
      "application/vnd.deepnote.dataframe.v3+json": {
       "column_count": 13,
       "row_count": 5,
       "columns": [
        {
         "name": "target",
         "dtype": "float64",
         "stats": {
          "unique_count": 5,
          "nan_count": 0,
          "min": "0.0",
          "max": "10.92282211863275",
          "histogram": [
           {
            "bin_start": 0,
            "bin_end": 1.092282211863275,
            "count": 1
           },
           {
            "bin_start": 1.092282211863275,
            "bin_end": 2.18456442372655,
            "count": 0
           },
           {
            "bin_start": 2.18456442372655,
            "bin_end": 3.2768466355898247,
            "count": 0
           },
           {
            "bin_start": 3.2768466355898247,
            "bin_end": 4.3691288474531,
            "count": 0
           },
           {
            "bin_start": 4.3691288474531,
            "bin_end": 5.461411059316374,
            "count": 0
           },
           {
            "bin_start": 5.461411059316374,
            "bin_end": 6.553693271179649,
            "count": 1
           },
           {
            "bin_start": 6.553693271179649,
            "bin_end": 7.645975483042925,
            "count": 0
           },
           {
            "bin_start": 7.645975483042925,
            "bin_end": 8.7382576949062,
            "count": 1
           },
           {
            "bin_start": 8.7382576949062,
            "bin_end": 9.830539906769474,
            "count": 1
           },
           {
            "bin_start": 9.830539906769474,
            "bin_end": 10.92282211863275,
            "count": 1
           }
          ]
         }
        },
        {
         "name": "1",
         "dtype": "float64",
         "stats": {
          "unique_count": 4,
          "nan_count": 0,
          "min": "0.0",
          "max": "10.893530478996958",
          "histogram": [
           {
            "bin_start": 0,
            "bin_end": 1.0893530478996958,
            "count": 2
           },
           {
            "bin_start": 1.0893530478996958,
            "bin_end": 2.1787060957993916,
            "count": 0
           },
           {
            "bin_start": 2.1787060957993916,
            "bin_end": 3.2680591436990873,
            "count": 0
           },
           {
            "bin_start": 3.2680591436990873,
            "bin_end": 4.357412191598783,
            "count": 0
           },
           {
            "bin_start": 4.357412191598783,
            "bin_end": 5.446765239498479,
            "count": 0
           },
           {
            "bin_start": 5.446765239498479,
            "bin_end": 6.536118287398175,
            "count": 1
           },
           {
            "bin_start": 6.536118287398175,
            "bin_end": 7.6254713352978705,
            "count": 0
           },
           {
            "bin_start": 7.6254713352978705,
            "bin_end": 8.714824383197566,
            "count": 1
           },
           {
            "bin_start": 8.714824383197566,
            "bin_end": 9.804177431097262,
            "count": 0
           },
           {
            "bin_start": 9.804177431097262,
            "bin_end": 10.893530478996958,
            "count": 1
           }
          ]
         }
        },
        {
         "name": "2",
         "dtype": "float64",
         "stats": {
          "unique_count": 5,
          "nan_count": 0,
          "min": "0.0",
          "max": "10.90498303042451",
          "histogram": [
           {
            "bin_start": 0,
            "bin_end": 1.090498303042451,
            "count": 1
           },
           {
            "bin_start": 1.090498303042451,
            "bin_end": 2.180996606084902,
            "count": 0
           },
           {
            "bin_start": 2.180996606084902,
            "bin_end": 3.2714949091273535,
            "count": 0
           },
           {
            "bin_start": 3.2714949091273535,
            "bin_end": 4.361993212169804,
            "count": 0
           },
           {
            "bin_start": 4.361993212169804,
            "bin_end": 5.452491515212255,
            "count": 0
           },
           {
            "bin_start": 5.452491515212255,
            "bin_end": 6.542989818254707,
            "count": 1
           },
           {
            "bin_start": 6.542989818254707,
            "bin_end": 7.633488121297158,
            "count": 0
           },
           {
            "bin_start": 7.633488121297158,
            "bin_end": 8.723986424339609,
            "count": 1
           },
           {
            "bin_start": 8.723986424339609,
            "bin_end": 9.81448472738206,
            "count": 1
           },
           {
            "bin_start": 9.81448472738206,
            "bin_end": 10.90498303042451,
            "count": 1
           }
          ]
         }
        },
        {
         "name": "3",
         "dtype": "float64",
         "stats": {
          "unique_count": 5,
          "nan_count": 0,
          "min": "0.0",
          "max": "10.921883507347436",
          "histogram": [
           {
            "bin_start": 0,
            "bin_end": 1.0921883507347436,
            "count": 1
           },
           {
            "bin_start": 1.0921883507347436,
            "bin_end": 2.1843767014694873,
            "count": 0
           },
           {
            "bin_start": 2.1843767014694873,
            "bin_end": 3.276565052204231,
            "count": 0
           },
           {
            "bin_start": 3.276565052204231,
            "bin_end": 4.3687534029389745,
            "count": 0
           },
           {
            "bin_start": 4.3687534029389745,
            "bin_end": 5.460941753673718,
            "count": 1
           },
           {
            "bin_start": 5.460941753673718,
            "bin_end": 6.553130104408462,
            "count": 1
           },
           {
            "bin_start": 6.553130104408462,
            "bin_end": 7.645318455143205,
            "count": 0
           },
           {
            "bin_start": 7.645318455143205,
            "bin_end": 8.737506805877949,
            "count": 1
           },
           {
            "bin_start": 8.737506805877949,
            "bin_end": 9.829695156612694,
            "count": 0
           },
           {
            "bin_start": 9.829695156612694,
            "bin_end": 10.921883507347436,
            "count": 1
           }
          ]
         }
        },
        {
         "name": 4,
         "dtype": "float64",
         "stats": {
          "unique_count": 5,
          "nan_count": 0,
          "min": "0.0",
          "max": "10.889248375343252",
          "histogram": [
           {
            "bin_start": 0,
            "bin_end": 1.0889248375343252,
            "count": 1
           },
           {
            "bin_start": 1.0889248375343252,
            "bin_end": 2.1778496750686505,
            "count": 0
           },
           {
            "bin_start": 2.1778496750686505,
            "bin_end": 3.266774512602976,
            "count": 0
           },
           {
            "bin_start": 3.266774512602976,
            "bin_end": 4.355699350137301,
            "count": 0
           },
           {
            "bin_start": 4.355699350137301,
            "bin_end": 5.444624187671626,
            "count": 1
           },
           {
            "bin_start": 5.444624187671626,
            "bin_end": 6.533549025205952,
            "count": 1
           },
           {
            "bin_start": 6.533549025205952,
            "bin_end": 7.622473862740277,
            "count": 0
           },
           {
            "bin_start": 7.622473862740277,
            "bin_end": 8.711398700274602,
            "count": 1
           },
           {
            "bin_start": 8.711398700274602,
            "bin_end": 9.800323537808927,
            "count": 0
           },
           {
            "bin_start": 9.800323537808927,
            "bin_end": 10.889248375343252,
            "count": 1
           }
          ]
         }
        },
        {
         "name": "0_1",
         "dtype": "float64",
         "stats": {
          "unique_count": 4,
          "nan_count": 0,
          "min": "0.01874490267186476",
          "max": "3.765883605408294",
          "histogram": [
           {
            "bin_start": 0.01874490267186476,
            "bin_end": 0.39345877294550763,
            "count": 2
           },
           {
            "bin_start": 0.39345877294550763,
            "bin_end": 0.7681726432191506,
            "count": 1
           },
           {
            "bin_start": 0.7681726432191506,
            "bin_end": 1.1428865134927935,
            "count": 0
           },
           {
            "bin_start": 1.1428865134927935,
            "bin_end": 1.5176003837664362,
            "count": 0
           },
           {
            "bin_start": 1.5176003837664362,
            "bin_end": 1.892314254040079,
            "count": 0
           },
           {
            "bin_start": 1.892314254040079,
            "bin_end": 2.2670281243137222,
            "count": 1
           },
           {
            "bin_start": 2.2670281243137222,
            "bin_end": 2.641741994587365,
            "count": 0
           },
           {
            "bin_start": 2.641741994587365,
            "bin_end": 3.016455864861008,
            "count": 0
           },
           {
            "bin_start": 3.016455864861008,
            "bin_end": 3.3911697351346506,
            "count": 0
           },
           {
            "bin_start": 3.3911697351346506,
            "bin_end": 3.765883605408294,
            "count": 1
           }
          ]
         }
        },
        {
         "name": "0_2",
         "dtype": "float64",
         "stats": {
          "unique_count": 4,
          "nan_count": 0,
          "min": "0.00731023615574196",
          "max": "3.7151016017562597",
          "histogram": [
           {
            "bin_start": 0.00731023615574196,
            "bin_end": 0.37808937271579374,
            "count": 2
           },
           {
            "bin_start": 0.37808937271579374,
            "bin_end": 0.7488685092758456,
            "count": 1
           },
           {
            "bin_start": 0.7488685092758456,
            "bin_end": 1.1196476458358973,
            "count": 0
           },
           {
            "bin_start": 1.1196476458358973,
            "bin_end": 1.4904267823959492,
            "count": 0
           },
           {
            "bin_start": 1.4904267823959492,
            "bin_end": 1.861205918956001,
            "count": 0
           },
           {
            "bin_start": 1.861205918956001,
            "bin_end": 2.2319850555160525,
            "count": 1
           },
           {
            "bin_start": 2.2319850555160525,
            "bin_end": 2.6027641920761044,
            "count": 0
           },
           {
            "bin_start": 2.6027641920761044,
            "bin_end": 2.9735433286361563,
            "count": 0
           },
           {
            "bin_start": 2.9735433286361563,
            "bin_end": 3.3443224651962082,
            "count": 0
           },
           {
            "bin_start": 3.3443224651962082,
            "bin_end": 3.7151016017562597,
            "count": 1
           }
          ]
         }
        },
        {
         "name": "0_3",
         "dtype": "float64",
         "stats": {
          "unique_count": 4,
          "nan_count": 0,
          "min": "-0.0066392023284708584",
          "max": "3.65092920819584",
          "histogram": [
           {
            "bin_start": -0.0066392023284708584,
            "bin_end": 0.35911763872396024,
            "count": 2
           },
           {
            "bin_start": 0.35911763872396024,
            "bin_end": 0.7248744797763914,
            "count": 1
           },
           {
            "bin_start": 0.7248744797763914,
            "bin_end": 1.0906313208288225,
            "count": 0
           },
           {
            "bin_start": 1.0906313208288225,
            "bin_end": 1.4563881618812535,
            "count": 0
           },
           {
            "bin_start": 1.4563881618812535,
            "bin_end": 1.8221450029336845,
            "count": 0
           },
           {
            "bin_start": 1.8221450029336845,
            "bin_end": 2.187901843986116,
            "count": 1
           },
           {
            "bin_start": 2.187901843986116,
            "bin_end": 2.553658685038547,
            "count": 0
           },
           {
            "bin_start": 2.553658685038547,
            "bin_end": 2.919415526090978,
            "count": 0
           },
           {
            "bin_start": 2.919415526090978,
            "bin_end": 3.285172367143409,
            "count": 0
           },
           {
            "bin_start": 3.285172367143409,
            "bin_end": 3.65092920819584,
            "count": 1
           }
          ]
         }
        },
        {
         "name": "0_4",
         "dtype": "float64",
         "stats": {
          "unique_count": 4,
          "nan_count": 0,
          "min": "-0.024039217363435714",
          "max": "3.569424415538509",
          "histogram": [
           {
            "bin_start": -0.024039217363435714,
            "bin_end": 0.33530714592675875,
            "count": 2
           },
           {
            "bin_start": 0.33530714592675875,
            "bin_end": 0.6946535092169532,
            "count": 1
           },
           {
            "bin_start": 0.6946535092169532,
            "bin_end": 1.0539998725071478,
            "count": 0
           },
           {
            "bin_start": 1.0539998725071478,
            "bin_end": 1.4133462357973423,
            "count": 0
           },
           {
            "bin_start": 1.4133462357973423,
            "bin_end": 1.7726925990875368,
            "count": 0
           },
           {
            "bin_start": 1.7726925990875368,
            "bin_end": 2.132038962377731,
            "count": 1
           },
           {
            "bin_start": 2.132038962377731,
            "bin_end": 2.4913853256679257,
            "count": 0
           },
           {
            "bin_start": 2.4913853256679257,
            "bin_end": 2.85073168895812,
            "count": 0
           },
           {
            "bin_start": 2.85073168895812,
            "bin_end": 3.2100780522483143,
            "count": 0
           },
           {
            "bin_start": 3.2100780522483143,
            "bin_end": 3.569424415538509,
            "count": 1
           }
          ]
         }
        },
        {
         "name": "1_1",
         "dtype": "float64",
         "stats": {
          "unique_count": 4,
          "nan_count": 0,
          "min": "-0.19072710970821422",
          "max": "2.3057690817171688",
          "histogram": [
           {
            "bin_start": -0.19072710970821422,
            "bin_end": 0.05892250943432409,
            "count": 2
           },
           {
            "bin_start": 0.05892250943432409,
            "bin_end": 0.3085721285768624,
            "count": 0
           },
           {
            "bin_start": 0.3085721285768624,
            "bin_end": 0.5582217477194007,
            "count": 1
           },
           {
            "bin_start": 0.5582217477194007,
            "bin_end": 0.807871366861939,
            "count": 0
           },
           {
            "bin_start": 0.807871366861939,
            "bin_end": 1.0575209860044774,
            "count": 0
           },
           {
            "bin_start": 1.0575209860044774,
            "bin_end": 1.3071706051470156,
            "count": 0
           },
           {
            "bin_start": 1.3071706051470156,
            "bin_end": 1.556820224289554,
            "count": 0
           },
           {
            "bin_start": 1.556820224289554,
            "bin_end": 1.8064698434320923,
            "count": 1
           },
           {
            "bin_start": 1.8064698434320923,
            "bin_end": 2.0561194625746304,
            "count": 0
           },
           {
            "bin_start": 2.0561194625746304,
            "bin_end": 2.3057690817171688,
            "count": 1
           }
          ]
         }
        },
        {
         "name": "1_2",
         "dtype": "float64",
         "stats": {
          "unique_count": 4,
          "nan_count": 0,
          "min": "-0.20088653963264586",
          "max": "2.2485776280651564",
          "histogram": [
           {
            "bin_start": -0.20088653963264586,
            "bin_end": 0.04405987713713436,
            "count": 2
           },
           {
            "bin_start": 0.04405987713713436,
            "bin_end": 0.28900629390691457,
            "count": 0
           },
           {
            "bin_start": 0.28900629390691457,
            "bin_end": 0.5339527106766948,
            "count": 1
           },
           {
            "bin_start": 0.5339527106766948,
            "bin_end": 0.7788991274464749,
            "count": 0
           },
           {
            "bin_start": 0.7788991274464749,
            "bin_end": 1.0238455442162553,
            "count": 0
           },
           {
            "bin_start": 1.0238455442162553,
            "bin_end": 1.2687919609860354,
            "count": 0
           },
           {
            "bin_start": 1.2687919609860354,
            "bin_end": 1.5137383777558158,
            "count": 0
           },
           {
            "bin_start": 1.5137383777558158,
            "bin_end": 1.758684794525596,
            "count": 1
           },
           {
            "bin_start": 1.758684794525596,
            "bin_end": 2.0036312112953762,
            "count": 0
           },
           {
            "bin_start": 2.0036312112953762,
            "bin_end": 2.2485776280651564,
            "count": 1
           }
          ]
         }
        },
        {
         "name": "1_3",
         "dtype": "float64",
         "stats": {
          "unique_count": 4,
          "nan_count": 0,
          "min": "-0.2128978348684899",
          "max": "2.185494121571152",
          "histogram": [
           {
            "bin_start": -0.2128978348684899,
            "bin_end": 0.026941360775474293,
            "count": 2
           },
           {
            "bin_start": 0.026941360775474293,
            "bin_end": 0.2667805564194385,
            "count": 0
           },
           {
            "bin_start": 0.2667805564194385,
            "bin_end": 0.5066197520634027,
            "count": 1
           },
           {
            "bin_start": 0.5066197520634027,
            "bin_end": 0.7464589477073669,
            "count": 0
           },
           {
            "bin_start": 0.7464589477073669,
            "bin_end": 0.986298143351331,
            "count": 0
           },
           {
            "bin_start": 0.986298143351331,
            "bin_end": 1.2261373389952954,
            "count": 0
           },
           {
            "bin_start": 1.2261373389952954,
            "bin_end": 1.4659765346392595,
            "count": 0
           },
           {
            "bin_start": 1.4659765346392595,
            "bin_end": 1.7058157302832235,
            "count": 1
           },
           {
            "bin_start": 1.7058157302832235,
            "bin_end": 1.945654925927188,
            "count": 0
           },
           {
            "bin_start": 1.945654925927188,
            "bin_end": 2.185494121571152,
            "count": 1
           }
          ]
         }
        },
        {
         "name": "1_4",
         "dtype": "float64",
         "stats": {
          "unique_count": 4,
          "nan_count": 0,
          "min": "-0.22493076720451105",
          "max": "2.123262034969119",
          "histogram": [
           {
            "bin_start": -0.22493076720451105,
            "bin_end": 0.009888513012851985,
            "count": 2
           },
           {
            "bin_start": 0.009888513012851985,
            "bin_end": 0.24470779323021502,
            "count": 0
           },
           {
            "bin_start": 0.24470779323021502,
            "bin_end": 0.4795270734475781,
            "count": 1
           },
           {
            "bin_start": 0.4795270734475781,
            "bin_end": 0.714346353664941,
            "count": 0
           },
           {
            "bin_start": 0.714346353664941,
            "bin_end": 0.949165633882304,
            "count": 0
           },
           {
            "bin_start": 0.949165633882304,
            "bin_end": 1.1839849140996672,
            "count": 0
           },
           {
            "bin_start": 1.1839849140996672,
            "bin_end": 1.4188041943170302,
            "count": 0
           },
           {
            "bin_start": 1.4188041943170302,
            "bin_end": 1.6536234745343932,
            "count": 0
           },
           {
            "bin_start": 1.6536234745343932,
            "bin_end": 1.8884427547517562,
            "count": 1
           },
           {
            "bin_start": 1.8884427547517562,
            "bin_end": 2.123262034969119,
            "count": 1
           }
          ]
         }
        },
        {
         "name": "_deepnote_index_column",
         "dtype": "object"
        }
       ],
       "rows": [
        {
         "1": 10.893530478996958,
         "2": 10.90498303042451,
         "3": 10.921883507347436,
         "4": 10.889248375343252,
         "target": 10.92282211863275,
         "0_1": 2.0280736696960022,
         "0_2": 2.041379945377449,
         "0_3": 2.0529401070745994,
         "0_4": 2.056700094157885,
         "1_1": 1.6758506184333806,
         "1_2": 1.6712640941233279,
         "1_3": 1.6621345901673288,
         "1_4": 1.653787267382734,
         "_deepnote_index_column": "New York_93925"
        },
        {
         "1": 6.07993319509559,
         "2": 6.025865973825314,
         "3": 6.169610732491456,
         "4": 6.059123195581797,
         "target": 6.150602768446279,
         "0_1": 3.765883605408294,
         "0_2": 3.7151016017562597,
         "0_3": 3.65092920819584,
         "0_4": 3.569424415538509,
         "1_1": 2.3057690817171688,
         "1_2": 2.2485776280651564,
         "1_3": 2.185494121571152,
         "1_4": 2.123262034969119,
         "_deepnote_index_column": "Texas_55040"
        },
        {
         "1": 0,
         "2": 0,
         "3": 4.574710978503383,
         "4": 4.553876891600541,
         "target": 0,
         "0_1": 0.01874490267186476,
         "0_2": 0.00731023615574196,
         "0_3": -0.0066392023284708584,
         "0_4": -0.024039217363435714,
         "1_1": -0.19072710970821422,
         "1_2": -0.20088653963264586,
         "1_3": -0.2128978348684899,
         "1_4": -0.22493076720451105,
         "_deepnote_index_column": "Colorado_75982"
        },
        {
         "1": 0,
         "2": 9.035986984831405,
         "3": 0,
         "4": 0,
         "target": 8.812843433517195,
         "0_1": 0.01874490267186476,
         "0_2": 0.00731023615574196,
         "0_3": -0.0066392023284708584,
         "0_4": -0.024039217363435714,
         "1_1": -0.19072710970821422,
         "1_2": -0.20088653963264586,
         "1_3": -0.2128978348684899,
         "1_4": -0.22493076720451105,
         "_deepnote_index_column": "Colorado_J9308"
        },
        {
         "1": 7.985824666418917,
         "2": 8.043020885298283,
         "3": 7.907651594711089,
         "4": 7.820840879907344,
         "target": 8.264620829411216,
         "0_1": 0.6534589587461676,
         "0_2": 0.6395698336786986,
         "0_3": 0.6245793802122123,
         "0_4": 0.614614684189375,
         "1_1": 0.451762508778502,
         "1_2": 0.43222042082599865,
         "1_3": 0.41094330790303957,
         "1_4": 0.39158513530204203,
         "_deepnote_index_column": "North Carolina_99348"
        }
       ]
      },
      "text/plain": "                         target          1          2          3          4  \\\nidx                                                                           \nNew York_93925        10.922822  10.893530  10.904983  10.921884  10.889248   \nTexas_55040            6.150603   6.079933   6.025866   6.169611   6.059123   \nColorado_75982         0.000000   0.000000   0.000000   4.574711   4.553877   \nColorado_J9308         8.812843   0.000000   9.035987   0.000000   0.000000   \nNorth Carolina_99348   8.264621   7.985825   8.043021   7.907652   7.820841   \n\n                           0_1       0_2       0_3       0_4       1_1  \\\nidx                                                                      \nNew York_93925        2.028074  2.041380  2.052940  2.056700  1.675851   \nTexas_55040           3.765884  3.715102  3.650929  3.569424  2.305769   \nColorado_75982        0.018745  0.007310 -0.006639 -0.024039 -0.190727   \nColorado_J9308        0.018745  0.007310 -0.006639 -0.024039 -0.190727   \nNorth Carolina_99348  0.653459  0.639570  0.624579  0.614615  0.451763   \n\n                           1_2       1_3       1_4  \nidx                                                 \nNew York_93925        1.671264  1.662135  1.653787  \nTexas_55040           2.248578  2.185494  2.123262  \nColorado_75982       -0.200887 -0.212898 -0.224931  \nColorado_J9308       -0.200887 -0.212898 -0.224931  \nNorth Carolina_99348  0.432220  0.410943  0.391585  ",
      "text/html": "<div>\n<style scoped>\n    .dataframe tbody tr th:only-of-type {\n        vertical-align: middle;\n    }\n\n    .dataframe tbody tr th {\n        vertical-align: top;\n    }\n\n    .dataframe thead th {\n        text-align: right;\n    }\n</style>\n<table border=\"1\" class=\"dataframe\">\n  <thead>\n    <tr style=\"text-align: right;\">\n      <th></th>\n      <th>target</th>\n      <th>1</th>\n      <th>2</th>\n      <th>3</th>\n      <th>4</th>\n      <th>0_1</th>\n      <th>0_2</th>\n      <th>0_3</th>\n      <th>0_4</th>\n      <th>1_1</th>\n      <th>1_2</th>\n      <th>1_3</th>\n      <th>1_4</th>\n    </tr>\n    <tr>\n      <th>idx</th>\n      <th></th>\n      <th></th>\n      <th></th>\n      <th></th>\n      <th></th>\n      <th></th>\n      <th></th>\n      <th></th>\n      <th></th>\n      <th></th>\n      <th></th>\n      <th></th>\n      <th></th>\n    </tr>\n  </thead>\n  <tbody>\n    <tr>\n      <th>New York_93925</th>\n      <td>10.922822</td>\n      <td>10.893530</td>\n      <td>10.904983</td>\n      <td>10.921884</td>\n      <td>10.889248</td>\n      <td>2.028074</td>\n      <td>2.041380</td>\n      <td>2.052940</td>\n      <td>2.056700</td>\n      <td>1.675851</td>\n      <td>1.671264</td>\n      <td>1.662135</td>\n      <td>1.653787</td>\n    </tr>\n    <tr>\n      <th>Texas_55040</th>\n      <td>6.150603</td>\n      <td>6.079933</td>\n      <td>6.025866</td>\n      <td>6.169611</td>\n      <td>6.059123</td>\n      <td>3.765884</td>\n      <td>3.715102</td>\n      <td>3.650929</td>\n      <td>3.569424</td>\n      <td>2.305769</td>\n      <td>2.248578</td>\n      <td>2.185494</td>\n      <td>2.123262</td>\n    </tr>\n    <tr>\n      <th>Colorado_75982</th>\n      <td>0.000000</td>\n      <td>0.000000</td>\n      <td>0.000000</td>\n      <td>4.574711</td>\n      <td>4.553877</td>\n      <td>0.018745</td>\n      <td>0.007310</td>\n      <td>-0.006639</td>\n      <td>-0.024039</td>\n      <td>-0.190727</td>\n      <td>-0.200887</td>\n      <td>-0.212898</td>\n      <td>-0.224931</td>\n    </tr>\n    <tr>\n      <th>Colorado_J9308</th>\n      <td>8.812843</td>\n      <td>0.000000</td>\n      <td>9.035987</td>\n      <td>0.000000</td>\n      <td>0.000000</td>\n      <td>0.018745</td>\n      <td>0.007310</td>\n      <td>-0.006639</td>\n      <td>-0.024039</td>\n      <td>-0.190727</td>\n      <td>-0.200887</td>\n      <td>-0.212898</td>\n      <td>-0.224931</td>\n    </tr>\n    <tr>\n      <th>North Carolina_99348</th>\n      <td>8.264621</td>\n      <td>7.985825</td>\n      <td>8.043021</td>\n      <td>7.907652</td>\n      <td>7.820841</td>\n      <td>0.653459</td>\n      <td>0.639570</td>\n      <td>0.624579</td>\n      <td>0.614615</td>\n      <td>0.451763</td>\n      <td>0.432220</td>\n      <td>0.410943</td>\n      <td>0.391585</td>\n    </tr>\n  </tbody>\n</table>\n</div>"
     },
     "metadata": {}
    }
   ],
   "execution_count": null
  },
  {
   "cell_type": "code",
   "metadata": {
    "tags": [],
    "deepnote_to_be_reexecuted": false,
    "source_hash": "f5147247",
    "execution_start": 1643052713562,
    "execution_millis": 1,
    "cell_id": "00014-78161ec8-9cd3-410c-acf8-bae3bd165bb9",
    "deepnote_cell_type": "code"
   },
   "source": "model = xgboost.XGBRegressor(colsample_bytree=0.4,\n                 gamma=0,                 \n                 learning_rate=0.07,\n                 max_depth=7,\n                 min_child_weight=0.05,\n                 n_estimators=10000,                                                                    \n                 reg_alpha=0.75,\n                 reg_lambda=0.45,\n                 subsample=0.6,\n                 seed=117) ",
   "outputs": [],
   "execution_count": null
  },
  {
   "cell_type": "code",
   "metadata": {
    "tags": [],
    "deepnote_to_be_reexecuted": false,
    "source_hash": "e71cf6e2",
    "execution_start": 1643052713577,
    "execution_millis": 94031,
    "deepnote_output_heights": [
     null,
     194
    ],
    "cell_id": "00015-8f3306fe-2024-4b1c-a6f0-ab85cff302ef",
    "deepnote_cell_type": "code"
   },
   "source": "x_train = full_train.drop([\"target\"], axis=1)\ny_train = full_train['target']\nx_test = full_test.drop([\"target\"], axis=1)\ny_test= full_test['target']\n\nmodel.fit(x_train, y_train, eval_set=[(x_train, y_train),(x_test,y_test)], early_stopping_rounds=50)",
   "outputs": [
    {
     "name": "stdout",
     "text": "[0]\tvalidation_0-rmse:4.84790\tvalidation_1-rmse:4.86943\n[1]\tvalidation_0-rmse:4.54846\tvalidation_1-rmse:4.56917\n[2]\tvalidation_0-rmse:4.27973\tvalidation_1-rmse:4.30053\n[3]\tvalidation_0-rmse:4.00897\tvalidation_1-rmse:4.02979\n[4]\tvalidation_0-rmse:3.77635\tvalidation_1-rmse:3.79621\n[5]\tvalidation_0-rmse:3.61908\tvalidation_1-rmse:3.63946\n[6]\tvalidation_0-rmse:3.42753\tvalidation_1-rmse:3.44735\n[7]\tvalidation_0-rmse:3.29808\tvalidation_1-rmse:3.31745\n[8]\tvalidation_0-rmse:3.12546\tvalidation_1-rmse:3.14376\n[9]\tvalidation_0-rmse:2.94928\tvalidation_1-rmse:2.96757\n[10]\tvalidation_0-rmse:2.85188\tvalidation_1-rmse:2.86958\n[11]\tvalidation_0-rmse:2.69176\tvalidation_1-rmse:2.70866\n[12]\tvalidation_0-rmse:2.54730\tvalidation_1-rmse:2.56374\n[13]\tvalidation_0-rmse:2.43488\tvalidation_1-rmse:2.45008\n[14]\tvalidation_0-rmse:2.32920\tvalidation_1-rmse:2.34357\n[15]\tvalidation_0-rmse:2.22734\tvalidation_1-rmse:2.24063\n[16]\tvalidation_0-rmse:2.15035\tvalidation_1-rmse:2.16402\n[17]\tvalidation_0-rmse:2.08006\tvalidation_1-rmse:2.09321\n[18]\tvalidation_0-rmse:1.99178\tvalidation_1-rmse:2.00497\n[19]\tvalidation_0-rmse:1.91614\tvalidation_1-rmse:1.92926\n[20]\tvalidation_0-rmse:1.84296\tvalidation_1-rmse:1.85516\n[21]\tvalidation_0-rmse:1.79762\tvalidation_1-rmse:1.80938\n[22]\tvalidation_0-rmse:1.74181\tvalidation_1-rmse:1.75352\n[23]\tvalidation_0-rmse:1.68659\tvalidation_1-rmse:1.69742\n[24]\tvalidation_0-rmse:1.66451\tvalidation_1-rmse:1.67458\n[25]\tvalidation_0-rmse:1.63564\tvalidation_1-rmse:1.64528\n[26]\tvalidation_0-rmse:1.61858\tvalidation_1-rmse:1.62771\n[27]\tvalidation_0-rmse:1.59510\tvalidation_1-rmse:1.60395\n[28]\tvalidation_0-rmse:1.57183\tvalidation_1-rmse:1.58000\n[29]\tvalidation_0-rmse:1.53599\tvalidation_1-rmse:1.54413\n[30]\tvalidation_0-rmse:1.52015\tvalidation_1-rmse:1.52798\n[31]\tvalidation_0-rmse:1.50423\tvalidation_1-rmse:1.51150\n[32]\tvalidation_0-rmse:1.47614\tvalidation_1-rmse:1.48264\n[33]\tvalidation_0-rmse:1.44788\tvalidation_1-rmse:1.45341\n[34]\tvalidation_0-rmse:1.42080\tvalidation_1-rmse:1.42837\n[35]\tvalidation_0-rmse:1.41541\tvalidation_1-rmse:1.42264\n[36]\tvalidation_0-rmse:1.40772\tvalidation_1-rmse:1.41491\n[37]\tvalidation_0-rmse:1.40012\tvalidation_1-rmse:1.40697\n[38]\tvalidation_0-rmse:1.39665\tvalidation_1-rmse:1.40321\n[39]\tvalidation_0-rmse:1.38763\tvalidation_1-rmse:1.39435\n[40]\tvalidation_0-rmse:1.37973\tvalidation_1-rmse:1.38656\n[41]\tvalidation_0-rmse:1.36487\tvalidation_1-rmse:1.37113\n[42]\tvalidation_0-rmse:1.35184\tvalidation_1-rmse:1.35764\n[43]\tvalidation_0-rmse:1.34579\tvalidation_1-rmse:1.35126\n[44]\tvalidation_0-rmse:1.34067\tvalidation_1-rmse:1.34632\n[45]\tvalidation_0-rmse:1.33572\tvalidation_1-rmse:1.34114\n[46]\tvalidation_0-rmse:1.33456\tvalidation_1-rmse:1.33977\n[47]\tvalidation_0-rmse:1.33225\tvalidation_1-rmse:1.33762\n[48]\tvalidation_0-rmse:1.33057\tvalidation_1-rmse:1.33595\n[49]\tvalidation_0-rmse:1.32877\tvalidation_1-rmse:1.33406\n[50]\tvalidation_0-rmse:1.32335\tvalidation_1-rmse:1.32883\n[51]\tvalidation_0-rmse:1.32025\tvalidation_1-rmse:1.32562\n[52]\tvalidation_0-rmse:1.31753\tvalidation_1-rmse:1.32279\n[53]\tvalidation_0-rmse:1.30907\tvalidation_1-rmse:1.31447\n[54]\tvalidation_0-rmse:1.30652\tvalidation_1-rmse:1.31230\n[55]\tvalidation_0-rmse:1.30619\tvalidation_1-rmse:1.31188\n[56]\tvalidation_0-rmse:1.30252\tvalidation_1-rmse:1.30842\n[57]\tvalidation_0-rmse:1.29711\tvalidation_1-rmse:1.30301\n[58]\tvalidation_0-rmse:1.28702\tvalidation_1-rmse:1.29529\n[59]\tvalidation_0-rmse:1.28638\tvalidation_1-rmse:1.29476\n[60]\tvalidation_0-rmse:1.28587\tvalidation_1-rmse:1.29426\n[61]\tvalidation_0-rmse:1.28131\tvalidation_1-rmse:1.28944\n[62]\tvalidation_0-rmse:1.27588\tvalidation_1-rmse:1.28374\n[63]\tvalidation_0-rmse:1.27364\tvalidation_1-rmse:1.28172\n[64]\tvalidation_0-rmse:1.27354\tvalidation_1-rmse:1.28154\n[65]\tvalidation_0-rmse:1.27155\tvalidation_1-rmse:1.27987\n[66]\tvalidation_0-rmse:1.27130\tvalidation_1-rmse:1.27971\n[67]\tvalidation_0-rmse:1.26653\tvalidation_1-rmse:1.27513\n[68]\tvalidation_0-rmse:1.26506\tvalidation_1-rmse:1.27391\n[69]\tvalidation_0-rmse:1.26501\tvalidation_1-rmse:1.27381\n[70]\tvalidation_0-rmse:1.25418\tvalidation_1-rmse:1.26471\n[71]\tvalidation_0-rmse:1.25318\tvalidation_1-rmse:1.26370\n[72]\tvalidation_0-rmse:1.25314\tvalidation_1-rmse:1.26364\n[73]\tvalidation_0-rmse:1.24997\tvalidation_1-rmse:1.26029\n[74]\tvalidation_0-rmse:1.24850\tvalidation_1-rmse:1.25906\n[75]\tvalidation_0-rmse:1.24847\tvalidation_1-rmse:1.25900\n[76]\tvalidation_0-rmse:1.24825\tvalidation_1-rmse:1.25885\n[77]\tvalidation_0-rmse:1.24809\tvalidation_1-rmse:1.25875\n[78]\tvalidation_0-rmse:1.23926\tvalidation_1-rmse:1.25154\n[79]\tvalidation_0-rmse:1.23923\tvalidation_1-rmse:1.25149\n[80]\tvalidation_0-rmse:1.23912\tvalidation_1-rmse:1.25143\n[81]\tvalidation_0-rmse:1.23890\tvalidation_1-rmse:1.25137\n[82]\tvalidation_0-rmse:1.23875\tvalidation_1-rmse:1.25125\n[83]\tvalidation_0-rmse:1.23791\tvalidation_1-rmse:1.25062\n[84]\tvalidation_0-rmse:1.23769\tvalidation_1-rmse:1.25052\n[85]\tvalidation_0-rmse:1.23753\tvalidation_1-rmse:1.25045\n[86]\tvalidation_0-rmse:1.23740\tvalidation_1-rmse:1.25036\n[87]\tvalidation_0-rmse:1.23723\tvalidation_1-rmse:1.25039\n[88]\tvalidation_0-rmse:1.23437\tvalidation_1-rmse:1.24763\n[89]\tvalidation_0-rmse:1.23192\tvalidation_1-rmse:1.24539\n[90]\tvalidation_0-rmse:1.23086\tvalidation_1-rmse:1.24465\n[91]\tvalidation_0-rmse:1.23021\tvalidation_1-rmse:1.24426\n[92]\tvalidation_0-rmse:1.23008\tvalidation_1-rmse:1.24425\n[93]\tvalidation_0-rmse:1.22992\tvalidation_1-rmse:1.24417\n[94]\tvalidation_0-rmse:1.22991\tvalidation_1-rmse:1.24416\n[95]\tvalidation_0-rmse:1.22983\tvalidation_1-rmse:1.24410\n[96]\tvalidation_0-rmse:1.22982\tvalidation_1-rmse:1.24407\n[97]\tvalidation_0-rmse:1.22973\tvalidation_1-rmse:1.24401\n[98]\tvalidation_0-rmse:1.22902\tvalidation_1-rmse:1.24356\n[99]\tvalidation_0-rmse:1.22901\tvalidation_1-rmse:1.24356\n[100]\tvalidation_0-rmse:1.22716\tvalidation_1-rmse:1.24174\n[101]\tvalidation_0-rmse:1.22715\tvalidation_1-rmse:1.24173\n[102]\tvalidation_0-rmse:1.22710\tvalidation_1-rmse:1.24166\n[103]\tvalidation_0-rmse:1.22690\tvalidation_1-rmse:1.24164\n[104]\tvalidation_0-rmse:1.22672\tvalidation_1-rmse:1.24165\n[105]\tvalidation_0-rmse:1.22508\tvalidation_1-rmse:1.24005\n[106]\tvalidation_0-rmse:1.22448\tvalidation_1-rmse:1.23952\n[107]\tvalidation_0-rmse:1.22448\tvalidation_1-rmse:1.23952\n[108]\tvalidation_0-rmse:1.22398\tvalidation_1-rmse:1.23926\n[109]\tvalidation_0-rmse:1.22339\tvalidation_1-rmse:1.23884\n[110]\tvalidation_0-rmse:1.22280\tvalidation_1-rmse:1.23845\n[111]\tvalidation_0-rmse:1.22271\tvalidation_1-rmse:1.23843\n[112]\tvalidation_0-rmse:1.22251\tvalidation_1-rmse:1.23843\n[113]\tvalidation_0-rmse:1.22179\tvalidation_1-rmse:1.23814\n[114]\tvalidation_0-rmse:1.22179\tvalidation_1-rmse:1.23814\n[115]\tvalidation_0-rmse:1.22178\tvalidation_1-rmse:1.23814\n[116]\tvalidation_0-rmse:1.22167\tvalidation_1-rmse:1.23813\n[117]\tvalidation_0-rmse:1.22093\tvalidation_1-rmse:1.23767\n[118]\tvalidation_0-rmse:1.22080\tvalidation_1-rmse:1.23766\n[119]\tvalidation_0-rmse:1.22080\tvalidation_1-rmse:1.23765\n[120]\tvalidation_0-rmse:1.22032\tvalidation_1-rmse:1.23738\n[121]\tvalidation_0-rmse:1.22032\tvalidation_1-rmse:1.23738\n[122]\tvalidation_0-rmse:1.22018\tvalidation_1-rmse:1.23737\n[123]\tvalidation_0-rmse:1.21966\tvalidation_1-rmse:1.23711\n[124]\tvalidation_0-rmse:1.21949\tvalidation_1-rmse:1.23709\n[125]\tvalidation_0-rmse:1.21936\tvalidation_1-rmse:1.23709\n[126]\tvalidation_0-rmse:1.21796\tvalidation_1-rmse:1.23579\n[127]\tvalidation_0-rmse:1.21751\tvalidation_1-rmse:1.23559\n[128]\tvalidation_0-rmse:1.21751\tvalidation_1-rmse:1.23558\n[129]\tvalidation_0-rmse:1.21735\tvalidation_1-rmse:1.23552\n[130]\tvalidation_0-rmse:1.21686\tvalidation_1-rmse:1.23532\n[131]\tvalidation_0-rmse:1.21673\tvalidation_1-rmse:1.23531\n[132]\tvalidation_0-rmse:1.21673\tvalidation_1-rmse:1.23530\n[133]\tvalidation_0-rmse:1.21630\tvalidation_1-rmse:1.23507\n[134]\tvalidation_0-rmse:1.21612\tvalidation_1-rmse:1.23507\n[135]\tvalidation_0-rmse:1.21213\tvalidation_1-rmse:1.23243\n[136]\tvalidation_0-rmse:1.21144\tvalidation_1-rmse:1.23199\n[137]\tvalidation_0-rmse:1.20617\tvalidation_1-rmse:1.22809\n[138]\tvalidation_0-rmse:1.20605\tvalidation_1-rmse:1.22807\n[139]\tvalidation_0-rmse:1.20605\tvalidation_1-rmse:1.22807\n[140]\tvalidation_0-rmse:1.20142\tvalidation_1-rmse:1.22468\n[141]\tvalidation_0-rmse:1.20130\tvalidation_1-rmse:1.22463\n[142]\tvalidation_0-rmse:1.20130\tvalidation_1-rmse:1.22463\n[143]\tvalidation_0-rmse:1.20131\tvalidation_1-rmse:1.22464\n[144]\tvalidation_0-rmse:1.20090\tvalidation_1-rmse:1.22437\n[145]\tvalidation_0-rmse:1.20075\tvalidation_1-rmse:1.22438\n[146]\tvalidation_0-rmse:1.19972\tvalidation_1-rmse:1.22342\n[147]\tvalidation_0-rmse:1.19924\tvalidation_1-rmse:1.22327\n[148]\tvalidation_0-rmse:1.19873\tvalidation_1-rmse:1.22305\n[149]\tvalidation_0-rmse:1.19778\tvalidation_1-rmse:1.22222\n[150]\tvalidation_0-rmse:1.19729\tvalidation_1-rmse:1.22201\n[151]\tvalidation_0-rmse:1.19719\tvalidation_1-rmse:1.22197\n[152]\tvalidation_0-rmse:1.19680\tvalidation_1-rmse:1.22189\n[153]\tvalidation_0-rmse:1.19665\tvalidation_1-rmse:1.22190\n[154]\tvalidation_0-rmse:1.19482\tvalidation_1-rmse:1.22018\n[155]\tvalidation_0-rmse:1.19457\tvalidation_1-rmse:1.22009\n[156]\tvalidation_0-rmse:1.19458\tvalidation_1-rmse:1.22009\n[157]\tvalidation_0-rmse:1.19425\tvalidation_1-rmse:1.22003\n[158]\tvalidation_0-rmse:1.19411\tvalidation_1-rmse:1.21998\n[159]\tvalidation_0-rmse:1.19390\tvalidation_1-rmse:1.22001\n[160]\tvalidation_0-rmse:1.19354\tvalidation_1-rmse:1.21988\n[161]\tvalidation_0-rmse:1.19340\tvalidation_1-rmse:1.21988\n[162]\tvalidation_0-rmse:1.19321\tvalidation_1-rmse:1.21990\n[163]\tvalidation_0-rmse:1.19321\tvalidation_1-rmse:1.21991\n[164]\tvalidation_0-rmse:1.19292\tvalidation_1-rmse:1.21981\n[165]\tvalidation_0-rmse:1.19263\tvalidation_1-rmse:1.21974\n[166]\tvalidation_0-rmse:1.19226\tvalidation_1-rmse:1.21953\n[167]\tvalidation_0-rmse:1.18966\tvalidation_1-rmse:1.21793\n[168]\tvalidation_0-rmse:1.18937\tvalidation_1-rmse:1.21790\n[169]\tvalidation_0-rmse:1.18853\tvalidation_1-rmse:1.21721\n[170]\tvalidation_0-rmse:1.18830\tvalidation_1-rmse:1.21717\n[171]\tvalidation_0-rmse:1.18817\tvalidation_1-rmse:1.21717\n[172]\tvalidation_0-rmse:1.18799\tvalidation_1-rmse:1.21712\n[173]\tvalidation_0-rmse:1.18784\tvalidation_1-rmse:1.21710\n[174]\tvalidation_0-rmse:1.18755\tvalidation_1-rmse:1.21704\n[175]\tvalidation_0-rmse:1.18738\tvalidation_1-rmse:1.21701\n[176]\tvalidation_0-rmse:1.18714\tvalidation_1-rmse:1.21696\n[177]\tvalidation_0-rmse:1.18700\tvalidation_1-rmse:1.21692\n[178]\tvalidation_0-rmse:1.18546\tvalidation_1-rmse:1.21548\n[179]\tvalidation_0-rmse:1.18512\tvalidation_1-rmse:1.21530\n[180]\tvalidation_0-rmse:1.18490\tvalidation_1-rmse:1.21525\n[181]\tvalidation_0-rmse:1.18452\tvalidation_1-rmse:1.21521\n[182]\tvalidation_0-rmse:1.18432\tvalidation_1-rmse:1.21517\n[183]\tvalidation_0-rmse:1.18400\tvalidation_1-rmse:1.21507\n[184]\tvalidation_0-rmse:1.18386\tvalidation_1-rmse:1.21504\n[185]\tvalidation_0-rmse:1.18363\tvalidation_1-rmse:1.21501\n[186]\tvalidation_0-rmse:1.18348\tvalidation_1-rmse:1.21502\n[187]\tvalidation_0-rmse:1.18336\tvalidation_1-rmse:1.21502\n[188]\tvalidation_0-rmse:1.18313\tvalidation_1-rmse:1.21497\n[189]\tvalidation_0-rmse:1.18281\tvalidation_1-rmse:1.21491\n[190]\tvalidation_0-rmse:1.18186\tvalidation_1-rmse:1.21403\n[191]\tvalidation_0-rmse:1.18172\tvalidation_1-rmse:1.21404\n[192]\tvalidation_0-rmse:1.18151\tvalidation_1-rmse:1.21399\n[193]\tvalidation_0-rmse:1.18140\tvalidation_1-rmse:1.21394\n[194]\tvalidation_0-rmse:1.18118\tvalidation_1-rmse:1.21396\n[195]\tvalidation_0-rmse:1.18106\tvalidation_1-rmse:1.21396\n[196]\tvalidation_0-rmse:1.18107\tvalidation_1-rmse:1.21396\n[197]\tvalidation_0-rmse:1.17904\tvalidation_1-rmse:1.21192\n[198]\tvalidation_0-rmse:1.17904\tvalidation_1-rmse:1.21191\n[199]\tvalidation_0-rmse:1.17885\tvalidation_1-rmse:1.21188\n[200]\tvalidation_0-rmse:1.17885\tvalidation_1-rmse:1.21188\n[201]\tvalidation_0-rmse:1.17816\tvalidation_1-rmse:1.21139\n[202]\tvalidation_0-rmse:1.17815\tvalidation_1-rmse:1.21139\n[203]\tvalidation_0-rmse:1.17592\tvalidation_1-rmse:1.21011\n[204]\tvalidation_0-rmse:1.17573\tvalidation_1-rmse:1.21012\n[205]\tvalidation_0-rmse:1.17544\tvalidation_1-rmse:1.21008\n[206]\tvalidation_0-rmse:1.17523\tvalidation_1-rmse:1.21006\n[207]\tvalidation_0-rmse:1.17523\tvalidation_1-rmse:1.21007\n[208]\tvalidation_0-rmse:1.17510\tvalidation_1-rmse:1.21006\n[209]\tvalidation_0-rmse:1.17333\tvalidation_1-rmse:1.20903\n[210]\tvalidation_0-rmse:1.17333\tvalidation_1-rmse:1.20904\n[211]\tvalidation_0-rmse:1.17333\tvalidation_1-rmse:1.20905\n[212]\tvalidation_0-rmse:1.17302\tvalidation_1-rmse:1.20896\n[213]\tvalidation_0-rmse:1.17287\tvalidation_1-rmse:1.20893\n[214]\tvalidation_0-rmse:1.17112\tvalidation_1-rmse:1.20806\n[215]\tvalidation_0-rmse:1.17093\tvalidation_1-rmse:1.20808\n[216]\tvalidation_0-rmse:1.17072\tvalidation_1-rmse:1.20807\n[217]\tvalidation_0-rmse:1.17010\tvalidation_1-rmse:1.20762\n[218]\tvalidation_0-rmse:1.16990\tvalidation_1-rmse:1.20763\n[219]\tvalidation_0-rmse:1.16972\tvalidation_1-rmse:1.20752\n[220]\tvalidation_0-rmse:1.16922\tvalidation_1-rmse:1.20716\n[221]\tvalidation_0-rmse:1.16785\tvalidation_1-rmse:1.20652\n[222]\tvalidation_0-rmse:1.16766\tvalidation_1-rmse:1.20650\n[223]\tvalidation_0-rmse:1.16752\tvalidation_1-rmse:1.20651\n[224]\tvalidation_0-rmse:1.16723\tvalidation_1-rmse:1.20640\n[225]\tvalidation_0-rmse:1.16724\tvalidation_1-rmse:1.20641\n[226]\tvalidation_0-rmse:1.16697\tvalidation_1-rmse:1.20634\n[227]\tvalidation_0-rmse:1.16688\tvalidation_1-rmse:1.20635\n[228]\tvalidation_0-rmse:1.16673\tvalidation_1-rmse:1.20638\n[229]\tvalidation_0-rmse:1.16647\tvalidation_1-rmse:1.20632\n[230]\tvalidation_0-rmse:1.16618\tvalidation_1-rmse:1.20625\n[231]\tvalidation_0-rmse:1.16485\tvalidation_1-rmse:1.20563\n[232]\tvalidation_0-rmse:1.16485\tvalidation_1-rmse:1.20564\n[233]\tvalidation_0-rmse:1.16475\tvalidation_1-rmse:1.20565\n[234]\tvalidation_0-rmse:1.16467\tvalidation_1-rmse:1.20566\n[235]\tvalidation_0-rmse:1.16212\tvalidation_1-rmse:1.20394\n[236]\tvalidation_0-rmse:1.16168\tvalidation_1-rmse:1.20369\n[237]\tvalidation_0-rmse:1.16071\tvalidation_1-rmse:1.20325\n[238]\tvalidation_0-rmse:1.16053\tvalidation_1-rmse:1.20324\n[239]\tvalidation_0-rmse:1.16010\tvalidation_1-rmse:1.20309\n[240]\tvalidation_0-rmse:1.16010\tvalidation_1-rmse:1.20309\n[241]\tvalidation_0-rmse:1.15993\tvalidation_1-rmse:1.20308\n[242]\tvalidation_0-rmse:1.15977\tvalidation_1-rmse:1.20309\n[243]\tvalidation_0-rmse:1.15971\tvalidation_1-rmse:1.20308\n[244]\tvalidation_0-rmse:1.15952\tvalidation_1-rmse:1.20307\n[245]\tvalidation_0-rmse:1.15913\tvalidation_1-rmse:1.20293\n[246]\tvalidation_0-rmse:1.15913\tvalidation_1-rmse:1.20293\n[247]\tvalidation_0-rmse:1.15901\tvalidation_1-rmse:1.20294\n[248]\tvalidation_0-rmse:1.15639\tvalidation_1-rmse:1.20103\n[249]\tvalidation_0-rmse:1.15639\tvalidation_1-rmse:1.20102\n[250]\tvalidation_0-rmse:1.15639\tvalidation_1-rmse:1.20102\n[251]\tvalidation_0-rmse:1.15610\tvalidation_1-rmse:1.20098\n[252]\tvalidation_0-rmse:1.15597\tvalidation_1-rmse:1.20096\n[253]\tvalidation_0-rmse:1.15587\tvalidation_1-rmse:1.20098\n[254]\tvalidation_0-rmse:1.15577\tvalidation_1-rmse:1.20100\n[255]\tvalidation_0-rmse:1.15564\tvalidation_1-rmse:1.20101\n[256]\tvalidation_0-rmse:1.15555\tvalidation_1-rmse:1.20100\n[257]\tvalidation_0-rmse:1.15536\tvalidation_1-rmse:1.20102\n[258]\tvalidation_0-rmse:1.15515\tvalidation_1-rmse:1.20104\n[259]\tvalidation_0-rmse:1.15499\tvalidation_1-rmse:1.20101\n[260]\tvalidation_0-rmse:1.15498\tvalidation_1-rmse:1.20101\n[261]\tvalidation_0-rmse:1.15484\tvalidation_1-rmse:1.20103\n[262]\tvalidation_0-rmse:1.15466\tvalidation_1-rmse:1.20103\n[263]\tvalidation_0-rmse:1.15434\tvalidation_1-rmse:1.20086\n[264]\tvalidation_0-rmse:1.15417\tvalidation_1-rmse:1.20083\n[265]\tvalidation_0-rmse:1.15404\tvalidation_1-rmse:1.20085\n[266]\tvalidation_0-rmse:1.15391\tvalidation_1-rmse:1.20083\n[267]\tvalidation_0-rmse:1.15377\tvalidation_1-rmse:1.20079\n[268]\tvalidation_0-rmse:1.15275\tvalidation_1-rmse:1.20042\n[269]\tvalidation_0-rmse:1.15255\tvalidation_1-rmse:1.20044\n[270]\tvalidation_0-rmse:1.15198\tvalidation_1-rmse:1.19998\n[271]\tvalidation_0-rmse:1.15147\tvalidation_1-rmse:1.19983\n[272]\tvalidation_0-rmse:1.15128\tvalidation_1-rmse:1.19985\n[273]\tvalidation_0-rmse:1.15036\tvalidation_1-rmse:1.19976\n[274]\tvalidation_0-rmse:1.15013\tvalidation_1-rmse:1.19976\n[275]\tvalidation_0-rmse:1.14999\tvalidation_1-rmse:1.19975\n[276]\tvalidation_0-rmse:1.14980\tvalidation_1-rmse:1.19977\n[277]\tvalidation_0-rmse:1.14963\tvalidation_1-rmse:1.19978\n[278]\tvalidation_0-rmse:1.14948\tvalidation_1-rmse:1.19978\n[279]\tvalidation_0-rmse:1.14931\tvalidation_1-rmse:1.19977\n[280]\tvalidation_0-rmse:1.14899\tvalidation_1-rmse:1.19965\n[281]\tvalidation_0-rmse:1.14881\tvalidation_1-rmse:1.19967\n[282]\tvalidation_0-rmse:1.14860\tvalidation_1-rmse:1.19968\n[283]\tvalidation_0-rmse:1.14860\tvalidation_1-rmse:1.19969\n[284]\tvalidation_0-rmse:1.14849\tvalidation_1-rmse:1.19968\n[285]\tvalidation_0-rmse:1.14754\tvalidation_1-rmse:1.19937\n[286]\tvalidation_0-rmse:1.14744\tvalidation_1-rmse:1.19936\n[287]\tvalidation_0-rmse:1.14730\tvalidation_1-rmse:1.19933\n[288]\tvalidation_0-rmse:1.14719\tvalidation_1-rmse:1.19932\n[289]\tvalidation_0-rmse:1.14708\tvalidation_1-rmse:1.19933\n[290]\tvalidation_0-rmse:1.14698\tvalidation_1-rmse:1.19937\n[291]\tvalidation_0-rmse:1.14680\tvalidation_1-rmse:1.19939\n[292]\tvalidation_0-rmse:1.14672\tvalidation_1-rmse:1.19934\n[293]\tvalidation_0-rmse:1.14643\tvalidation_1-rmse:1.19925\n[294]\tvalidation_0-rmse:1.14628\tvalidation_1-rmse:1.19927\n[295]\tvalidation_0-rmse:1.14600\tvalidation_1-rmse:1.19927\n[296]\tvalidation_0-rmse:1.14586\tvalidation_1-rmse:1.19930\n[297]\tvalidation_0-rmse:1.14522\tvalidation_1-rmse:1.19912\n[298]\tvalidation_0-rmse:1.14509\tvalidation_1-rmse:1.19914\n[299]\tvalidation_0-rmse:1.14510\tvalidation_1-rmse:1.19913\n[300]\tvalidation_0-rmse:1.14499\tvalidation_1-rmse:1.19916\n[301]\tvalidation_0-rmse:1.14484\tvalidation_1-rmse:1.19917\n[302]\tvalidation_0-rmse:1.14484\tvalidation_1-rmse:1.19917\n[303]\tvalidation_0-rmse:1.14466\tvalidation_1-rmse:1.19920\n[304]\tvalidation_0-rmse:1.14466\tvalidation_1-rmse:1.19919\n[305]\tvalidation_0-rmse:1.14442\tvalidation_1-rmse:1.19918\n[306]\tvalidation_0-rmse:1.14418\tvalidation_1-rmse:1.19912\n[307]\tvalidation_0-rmse:1.14386\tvalidation_1-rmse:1.19908\n[308]\tvalidation_0-rmse:1.14386\tvalidation_1-rmse:1.19908\n[309]\tvalidation_0-rmse:1.14380\tvalidation_1-rmse:1.19909\n[310]\tvalidation_0-rmse:1.14364\tvalidation_1-rmse:1.19908\n[311]\tvalidation_0-rmse:1.14302\tvalidation_1-rmse:1.19888\n[312]\tvalidation_0-rmse:1.14282\tvalidation_1-rmse:1.19889\n[313]\tvalidation_0-rmse:1.14274\tvalidation_1-rmse:1.19891\n[314]\tvalidation_0-rmse:1.14274\tvalidation_1-rmse:1.19891\n[315]\tvalidation_0-rmse:1.14255\tvalidation_1-rmse:1.19891\n[316]\tvalidation_0-rmse:1.14232\tvalidation_1-rmse:1.19892\n[317]\tvalidation_0-rmse:1.14216\tvalidation_1-rmse:1.19896\n[318]\tvalidation_0-rmse:1.14154\tvalidation_1-rmse:1.19881\n[319]\tvalidation_0-rmse:1.14145\tvalidation_1-rmse:1.19878\n[320]\tvalidation_0-rmse:1.14133\tvalidation_1-rmse:1.19877\n[321]\tvalidation_0-rmse:1.14124\tvalidation_1-rmse:1.19878\n[322]\tvalidation_0-rmse:1.14111\tvalidation_1-rmse:1.19880\n[323]\tvalidation_0-rmse:1.14096\tvalidation_1-rmse:1.19883\n[324]\tvalidation_0-rmse:1.14084\tvalidation_1-rmse:1.19884\n[325]\tvalidation_0-rmse:1.14067\tvalidation_1-rmse:1.19883\n[326]\tvalidation_0-rmse:1.14027\tvalidation_1-rmse:1.19880\n[327]\tvalidation_0-rmse:1.14008\tvalidation_1-rmse:1.19882\n[328]\tvalidation_0-rmse:1.13989\tvalidation_1-rmse:1.19886\n[329]\tvalidation_0-rmse:1.13949\tvalidation_1-rmse:1.19879\n[330]\tvalidation_0-rmse:1.13902\tvalidation_1-rmse:1.19882\n[331]\tvalidation_0-rmse:1.13880\tvalidation_1-rmse:1.19886\n[332]\tvalidation_0-rmse:1.13859\tvalidation_1-rmse:1.19887\n[333]\tvalidation_0-rmse:1.13849\tvalidation_1-rmse:1.19891\n[334]\tvalidation_0-rmse:1.13823\tvalidation_1-rmse:1.19885\n[335]\tvalidation_0-rmse:1.13815\tvalidation_1-rmse:1.19887\n[336]\tvalidation_0-rmse:1.13798\tvalidation_1-rmse:1.19886\n[337]\tvalidation_0-rmse:1.13779\tvalidation_1-rmse:1.19884\n[338]\tvalidation_0-rmse:1.13774\tvalidation_1-rmse:1.19884\n[339]\tvalidation_0-rmse:1.13753\tvalidation_1-rmse:1.19885\n[340]\tvalidation_0-rmse:1.13727\tvalidation_1-rmse:1.19883\n[341]\tvalidation_0-rmse:1.13727\tvalidation_1-rmse:1.19883\n[342]\tvalidation_0-rmse:1.13706\tvalidation_1-rmse:1.19884\n[343]\tvalidation_0-rmse:1.13686\tvalidation_1-rmse:1.19877\n[344]\tvalidation_0-rmse:1.13677\tvalidation_1-rmse:1.19878\n[345]\tvalidation_0-rmse:1.13655\tvalidation_1-rmse:1.19879\n[346]\tvalidation_0-rmse:1.13637\tvalidation_1-rmse:1.19877\n[347]\tvalidation_0-rmse:1.13627\tvalidation_1-rmse:1.19877\n[348]\tvalidation_0-rmse:1.13607\tvalidation_1-rmse:1.19877\n[349]\tvalidation_0-rmse:1.13597\tvalidation_1-rmse:1.19878\n[350]\tvalidation_0-rmse:1.13584\tvalidation_1-rmse:1.19879\n[351]\tvalidation_0-rmse:1.13579\tvalidation_1-rmse:1.19881\n[352]\tvalidation_0-rmse:1.13570\tvalidation_1-rmse:1.19880\n[353]\tvalidation_0-rmse:1.13555\tvalidation_1-rmse:1.19880\n[354]\tvalidation_0-rmse:1.13550\tvalidation_1-rmse:1.19882\n[355]\tvalidation_0-rmse:1.13541\tvalidation_1-rmse:1.19882\n[356]\tvalidation_0-rmse:1.13525\tvalidation_1-rmse:1.19885\n[357]\tvalidation_0-rmse:1.13505\tvalidation_1-rmse:1.19888\n[358]\tvalidation_0-rmse:1.13505\tvalidation_1-rmse:1.19888\n[359]\tvalidation_0-rmse:1.13500\tvalidation_1-rmse:1.19886\n[360]\tvalidation_0-rmse:1.13487\tvalidation_1-rmse:1.19886\n[361]\tvalidation_0-rmse:1.13472\tvalidation_1-rmse:1.19887\n[362]\tvalidation_0-rmse:1.13460\tvalidation_1-rmse:1.19890\n[363]\tvalidation_0-rmse:1.13445\tvalidation_1-rmse:1.19894\n[364]\tvalidation_0-rmse:1.13421\tvalidation_1-rmse:1.19891\n[365]\tvalidation_0-rmse:1.13413\tvalidation_1-rmse:1.19891\n[366]\tvalidation_0-rmse:1.13400\tvalidation_1-rmse:1.19893\n[367]\tvalidation_0-rmse:1.13387\tvalidation_1-rmse:1.19894\n[368]\tvalidation_0-rmse:1.13359\tvalidation_1-rmse:1.19891\n[369]\tvalidation_0-rmse:1.13336\tvalidation_1-rmse:1.19893\n[370]\tvalidation_0-rmse:1.13326\tvalidation_1-rmse:1.19896\n[371]\tvalidation_0-rmse:1.13314\tvalidation_1-rmse:1.19900\n[372]\tvalidation_0-rmse:1.13264\tvalidation_1-rmse:1.19900\n[373]\tvalidation_0-rmse:1.13254\tvalidation_1-rmse:1.19898\n[374]\tvalidation_0-rmse:1.13240\tvalidation_1-rmse:1.19898\n[375]\tvalidation_0-rmse:1.13223\tvalidation_1-rmse:1.19903\n[376]\tvalidation_0-rmse:1.13223\tvalidation_1-rmse:1.19903\n[377]\tvalidation_0-rmse:1.13208\tvalidation_1-rmse:1.19904\n[378]\tvalidation_0-rmse:1.13195\tvalidation_1-rmse:1.19904\n[379]\tvalidation_0-rmse:1.13190\tvalidation_1-rmse:1.19905\n[380]\tvalidation_0-rmse:1.13174\tvalidation_1-rmse:1.19906\n[381]\tvalidation_0-rmse:1.13152\tvalidation_1-rmse:1.19900\n[382]\tvalidation_0-rmse:1.13139\tvalidation_1-rmse:1.19903\n[383]\tvalidation_0-rmse:1.13139\tvalidation_1-rmse:1.19902\n[384]\tvalidation_0-rmse:1.13139\tvalidation_1-rmse:1.19901\n[385]\tvalidation_0-rmse:1.13125\tvalidation_1-rmse:1.19901\n[386]\tvalidation_0-rmse:1.13094\tvalidation_1-rmse:1.19901\n[387]\tvalidation_0-rmse:1.13067\tvalidation_1-rmse:1.19895\n[388]\tvalidation_0-rmse:1.13051\tvalidation_1-rmse:1.19892\n[389]\tvalidation_0-rmse:1.13051\tvalidation_1-rmse:1.19893\n[390]\tvalidation_0-rmse:1.13051\tvalidation_1-rmse:1.19894\n[391]\tvalidation_0-rmse:1.13040\tvalidation_1-rmse:1.19895\n[392]\tvalidation_0-rmse:1.13023\tvalidation_1-rmse:1.19895\n[393]\tvalidation_0-rmse:1.13015\tvalidation_1-rmse:1.19896\n[394]\tvalidation_0-rmse:1.12997\tvalidation_1-rmse:1.19900\n[395]\tvalidation_0-rmse:1.12976\tvalidation_1-rmse:1.19895\n[396]\tvalidation_0-rmse:1.12966\tvalidation_1-rmse:1.19895\n",
     "output_type": "stream"
    },
    {
     "output_type": "execute_result",
     "execution_count": 16,
     "data": {
      "text/plain": "XGBRegressor(base_score=0.5, booster='gbtree', colsample_bylevel=1,\n             colsample_bynode=1, colsample_bytree=0.4, enable_categorical=False,\n             gamma=0, gpu_id=-1, importance_type=None,\n             interaction_constraints='', learning_rate=0.07, max_delta_step=0,\n             max_depth=7, min_child_weight=0.05, missing=nan,\n             monotone_constraints='()', n_estimators=10000, n_jobs=2,\n             num_parallel_tree=1, predictor='auto', random_state=117,\n             reg_alpha=0.75, reg_lambda=0.45, scale_pos_weight=1, seed=117,\n             subsample=0.6, tree_method='exact', validate_parameters=1,\n             verbosity=None)"
     },
     "metadata": {}
    }
   ],
   "execution_count": null
  },
  {
   "cell_type": "code",
   "metadata": {
    "tags": [],
    "deepnote_to_be_reexecuted": false,
    "source_hash": "14829bbb",
    "execution_start": 1643052807610,
    "execution_millis": 2190,
    "deepnote_output_heights": [
     250
    ],
    "cell_id": "00016-7e3b5c4b-e328-4f17-bd79-8a5f3185ddd9",
    "deepnote_cell_type": "code"
   },
   "source": "results = model.evals_result()\n# plot learning curves\n_train_results = np.array(list(map(math.exp,results['validation_0']['rmse'])))\n_test_results = np.array(list(map(math.exp,results['validation_1']['rmse'])))\npyplot.plot(_train_results, label='train')\npyplot.plot(_test_results, label='test')\n# show the legend\npyplot.legend()\n# show the plot\npyplot.show()",
   "outputs": [
    {
     "data": {
      "text/plain": "<Figure size 432x288 with 1 Axes>",
      "image/png": "[encoded data removed]"
     },
     "metadata": {
      "needs_background": "light",
      "image/png": {
       "width": 375,
       "height": 248
      }
     },
     "output_type": "display_data"
    }
   ],
   "execution_count": null
  },
  {
   "cell_type": "code",
   "metadata": {
    "tags": [],
    "deepnote_to_be_reexecuted": false,
    "source_hash": "5406791e",
    "execution_start": 1643052809803,
    "execution_millis": 2098,
    "cell_id": "00017-cb11ccda-f377-4296-aa60-a90be31f249a",
    "deepnote_cell_type": "code"
   },
   "source": "y_pred = model.predict(x_test)",
   "outputs": [],
   "execution_count": null
  },
  {
   "cell_type": "code",
   "metadata": {
    "tags": [],
    "deepnote_to_be_reexecuted": false,
    "source_hash": "30d3dd17",
    "execution_start": 1643052811908,
    "execution_millis": 111,
    "cell_id": "00018-08f85f3d-5428-42ae-a64a-15b45d330341",
    "deepnote_cell_type": "code"
   },
   "source": "full_test['state'] = full_test.reset_index()['idx'].apply(lambda x: x.split(\"_\")[0]).values",
   "outputs": [],
   "execution_count": null
  },
  {
   "cell_type": "code",
   "metadata": {
    "tags": [],
    "deepnote_to_be_reexecuted": false,
    "source_hash": "a5df6b1e",
    "execution_start": 1643052812122,
    "execution_millis": 100,
    "deepnote_output_heights": [
     40.375
    ],
    "cell_id": "00019-80551e9d-f52a-4d5e-aeba-8df1515b77bd",
    "deepnote_cell_type": "code"
   },
   "source": "def perc_round(x):\n    return round(x,-2)\n\nfull_test['pred'] = np.array(list(map(math.exp,y_pred)))\nfull_test['target_original'] = np.array(list(map(math.exp,full_test['target'])))\nfull_test['total_diff'] = np.array(list(map(round, full_test['target_original'] - full_test['pred'])))\nfull_test['perc_diff'] = full_test['total_diff'].values/full_test['target_original'].values",
   "outputs": [],
   "execution_count": null
  },
  {
   "cell_type": "code",
   "metadata": {
    "tags": [],
    "deepnote_to_be_reexecuted": false,
    "source_hash": "38ec3e57",
    "execution_start": 1643052812270,
    "execution_millis": 152,
    "cell_id": "00020-ef2e0291-f9bd-4885-ac74-a9602526ee09",
    "deepnote_cell_type": "code"
   },
   "source": "full_test.sample(15)",
   "outputs": [
    {
     "output_type": "execute_result",
     "execution_count": 21,
     "data": {
      "application/vnd.deepnote.dataframe.v3+json": {
       "column_count": 18,
       "row_count": 15,
       "columns": [
        {
         "name": "target",
         "dtype": "float64",
         "stats": {
          "unique_count": 12,
          "nan_count": 0,
          "min": "0.0",
          "max": "7.404279118037268",
          "histogram": [
           {
            "bin_start": 0,
            "bin_end": 0.7404279118037268,
            "count": 3
           },
           {
            "bin_start": 0.7404279118037268,
            "bin_end": 1.4808558236074536,
            "count": 0
           },
           {
            "bin_start": 1.4808558236074536,
            "bin_end": 2.2212837354111805,
            "count": 0
           },
           {
            "bin_start": 2.2212837354111805,
            "bin_end": 2.961711647214907,
            "count": 1
           },
           {
            "bin_start": 2.961711647214907,
            "bin_end": 3.702139559018634,
            "count": 3
           },
           {
            "bin_start": 3.702139559018634,
            "bin_end": 4.442567470822361,
            "count": 3
           },
           {
            "bin_start": 4.442567470822361,
            "bin_end": 5.182995382626087,
            "count": 1
           },
           {
            "bin_start": 5.182995382626087,
            "bin_end": 5.923423294429814,
            "count": 2
           },
           {
            "bin_start": 5.923423294429814,
            "bin_end": 6.6638512062335415,
            "count": 1
           },
           {
            "bin_start": 6.6638512062335415,
            "bin_end": 7.404279118037268,
            "count": 1
           }
          ]
         }
        },
        {
         "name": "1",
         "dtype": "float64",
         "stats": {
          "unique_count": 11,
          "nan_count": 0,
          "min": "0.0",
          "max": "7.1891677384203225",
          "histogram": [
           {
            "bin_start": 0,
            "bin_end": 0.7189167738420322,
            "count": 5
           },
           {
            "bin_start": 0.7189167738420322,
            "bin_end": 1.4378335476840645,
            "count": 0
           },
           {
            "bin_start": 1.4378335476840645,
            "bin_end": 2.1567503215260966,
            "count": 0
           },
           {
            "bin_start": 2.1567503215260966,
            "bin_end": 2.875667095368129,
            "count": 0
           },
           {
            "bin_start": 2.875667095368129,
            "bin_end": 3.5945838692101613,
            "count": 2
           },
           {
            "bin_start": 3.5945838692101613,
            "bin_end": 4.313500643052193,
            "count": 0
           },
           {
            "bin_start": 4.313500643052193,
            "bin_end": 5.0324174168942255,
            "count": 3
           },
           {
            "bin_start": 5.0324174168942255,
            "bin_end": 5.751334190736258,
            "count": 3
           },
           {
            "bin_start": 5.751334190736258,
            "bin_end": 6.47025096457829,
            "count": 1
           },
           {
            "bin_start": 6.47025096457829,
            "bin_end": 7.1891677384203225,
            "count": 1
           }
          ]
         }
        },
        {
         "name": "2",
         "dtype": "float64",
         "stats": {
          "unique_count": 11,
          "nan_count": 0,
          "min": "0.0",
          "max": "6.946975992135418",
          "histogram": [
           {
            "bin_start": 0,
            "bin_end": 0.6946975992135418,
            "count": 5
           },
           {
            "bin_start": 0.6946975992135418,
            "bin_end": 1.3893951984270836,
            "count": 0
           },
           {
            "bin_start": 1.3893951984270836,
            "bin_end": 2.0840927976406256,
            "count": 0
           },
           {
            "bin_start": 2.0840927976406256,
            "bin_end": 2.778790396854167,
            "count": 0
           },
           {
            "bin_start": 2.778790396854167,
            "bin_end": 3.4734879960677087,
            "count": 2
           },
           {
            "bin_start": 3.4734879960677087,
            "bin_end": 4.168185595281251,
            "count": 0
           },
           {
            "bin_start": 4.168185595281251,
            "bin_end": 4.862883194494793,
            "count": 3
           },
           {
            "bin_start": 4.862883194494793,
            "bin_end": 5.557580793708334,
            "count": 3
           },
           {
            "bin_start": 5.557580793708334,
            "bin_end": 6.252278392921876,
            "count": 1
           },
           {
            "bin_start": 6.252278392921876,
            "bin_end": 6.946975992135418,
            "count": 1
           }
          ]
         }
        },
        {
         "name": "3",
         "dtype": "float64",
         "stats": {
          "unique_count": 11,
          "nan_count": 0,
          "min": "0.0",
          "max": "6.532334292222349",
          "histogram": [
           {
            "bin_start": 0,
            "bin_end": 0.6532334292222349,
            "count": 5
           },
           {
            "bin_start": 0.6532334292222349,
            "bin_end": 1.3064668584444699,
            "count": 0
           },
           {
            "bin_start": 1.3064668584444699,
            "bin_end": 1.959700287666705,
            "count": 0
           },
           {
            "bin_start": 1.959700287666705,
            "bin_end": 2.6129337168889397,
            "count": 0
           },
           {
            "bin_start": 2.6129337168889397,
            "bin_end": 3.2661671461111745,
            "count": 2
           },
           {
            "bin_start": 3.2661671461111745,
            "bin_end": 3.91940057533341,
            "count": 0
           },
           {
            "bin_start": 3.91940057533341,
            "bin_end": 4.572634004555645,
            "count": 1
           },
           {
            "bin_start": 4.572634004555645,
            "bin_end": 5.225867433777879,
            "count": 5
           },
           {
            "bin_start": 5.225867433777879,
            "bin_end": 5.879100863000114,
            "count": 1
           },
           {
            "bin_start": 5.879100863000114,
            "bin_end": 6.532334292222349,
            "count": 1
           }
          ]
         }
        },
        {
         "name": 4,
         "dtype": "float64",
         "stats": {
          "unique_count": 12,
          "nan_count": 0,
          "min": "0.0",
          "max": "6.453624998892692",
          "histogram": [
           {
            "bin_start": 0,
            "bin_end": 0.6453624998892692,
            "count": 4
           },
           {
            "bin_start": 0.6453624998892692,
            "bin_end": 1.2907249997785384,
            "count": 0
           },
           {
            "bin_start": 1.2907249997785384,
            "bin_end": 1.9360874996678077,
            "count": 0
           },
           {
            "bin_start": 1.9360874996678077,
            "bin_end": 2.5814499995570768,
            "count": 0
           },
           {
            "bin_start": 2.5814499995570768,
            "bin_end": 3.226812499446346,
            "count": 1
           },
           {
            "bin_start": 3.226812499446346,
            "bin_end": 3.8721749993356154,
            "count": 2
           },
           {
            "bin_start": 3.8721749993356154,
            "bin_end": 4.5175374992248845,
            "count": 1
           },
           {
            "bin_start": 4.5175374992248845,
            "bin_end": 5.1628999991141535,
            "count": 2
           },
           {
            "bin_start": 5.1628999991141535,
            "bin_end": 5.808262499003423,
            "count": 3
           },
           {
            "bin_start": 5.808262499003423,
            "bin_end": 6.453624998892692,
            "count": 2
           }
          ]
         }
        },
        {
         "name": "0_1",
         "dtype": "float64",
         "stats": {
          "unique_count": 12,
          "nan_count": 0,
          "min": "-0.5743848105719609",
          "max": "5.445279591308564",
          "histogram": [
           {
            "bin_start": -0.5743848105719609,
            "bin_end": 0.027581629616091563,
            "count": 7
           },
           {
            "bin_start": 0.027581629616091563,
            "bin_end": 0.629548069804144,
            "count": 5
           },
           {
            "bin_start": 0.629548069804144,
            "bin_end": 1.2315145099921965,
            "count": 2
           },
           {
            "bin_start": 1.2315145099921965,
            "bin_end": 1.833480950180249,
            "count": 0
           },
           {
            "bin_start": 1.833480950180249,
            "bin_end": 2.435447390368301,
            "count": 0
           },
           {
            "bin_start": 2.435447390368301,
            "bin_end": 3.037413830556354,
            "count": 0
           },
           {
            "bin_start": 3.037413830556354,
            "bin_end": 3.6393802707444065,
            "count": 0
           },
           {
            "bin_start": 3.6393802707444065,
            "bin_end": 4.241346710932459,
            "count": 0
           },
           {
            "bin_start": 4.241346710932459,
            "bin_end": 4.843313151120511,
            "count": 0
           },
           {
            "bin_start": 4.843313151120511,
            "bin_end": 5.445279591308564,
            "count": 1
           }
          ]
         }
        },
        {
         "name": "0_2",
         "dtype": "float64",
         "stats": {
          "unique_count": 12,
          "nan_count": 0,
          "min": "-0.5729389113526224",
          "max": "5.431556530984954",
          "histogram": [
           {
            "bin_start": -0.5729389113526224,
            "bin_end": 0.0275106328811352,
            "count": 7
           },
           {
            "bin_start": 0.0275106328811352,
            "bin_end": 0.6279601771148928,
            "count": 5
           },
           {
            "bin_start": 0.6279601771148928,
            "bin_end": 1.2284097213486505,
            "count": 2
           },
           {
            "bin_start": 1.2284097213486505,
            "bin_end": 1.828859265582408,
            "count": 0
           },
           {
            "bin_start": 1.828859265582408,
            "bin_end": 2.429308809816166,
            "count": 0
           },
           {
            "bin_start": 2.429308809816166,
            "bin_end": 3.0297583540499233,
            "count": 0
           },
           {
            "bin_start": 3.0297583540499233,
            "bin_end": 3.6302078982836807,
            "count": 0
           },
           {
            "bin_start": 3.6302078982836807,
            "bin_end": 4.230657442517439,
            "count": 0
           },
           {
            "bin_start": 4.230657442517439,
            "bin_end": 4.831106986751196,
            "count": 0
           },
           {
            "bin_start": 4.831106986751196,
            "bin_end": 5.431556530984954,
            "count": 1
           }
          ]
         }
        },
        {
         "name": "0_3",
         "dtype": "float64",
         "stats": {
          "unique_count": 12,
          "nan_count": 0,
          "min": "-0.5734498173805556",
          "max": "5.4127855351900145",
          "histogram": [
           {
            "bin_start": -0.5734498173805556,
            "bin_end": 0.025173717876501467,
            "count": 7
           },
           {
            "bin_start": 0.025173717876501467,
            "bin_end": 0.6237972531335585,
            "count": 5
           },
           {
            "bin_start": 0.6237972531335585,
            "bin_end": 1.2224207883906155,
            "count": 2
           },
           {
            "bin_start": 1.2224207883906155,
            "bin_end": 1.8210443236476725,
            "count": 0
           },
           {
            "bin_start": 1.8210443236476725,
            "bin_end": 2.41966785890473,
            "count": 0
           },
           {
            "bin_start": 2.41966785890473,
            "bin_end": 3.0182913941617864,
            "count": 0
           },
           {
            "bin_start": 3.0182913941617864,
            "bin_end": 3.6169149294188436,
            "count": 0
           },
           {
            "bin_start": 3.6169149294188436,
            "bin_end": 4.215538464675901,
            "count": 0
           },
           {
            "bin_start": 4.215538464675901,
            "bin_end": 4.814161999932958,
            "count": 0
           },
           {
            "bin_start": 4.814161999932958,
            "bin_end": 5.4127855351900145,
            "count": 1
           }
          ]
         }
        },
        {
         "name": "0_4",
         "dtype": "float64",
         "stats": {
          "unique_count": 12,
          "nan_count": 0,
          "min": "-0.5750628631987625",
          "max": "5.376525000858127",
          "histogram": [
           {
            "bin_start": -0.5750628631987625,
            "bin_end": 0.020095923206926325,
            "count": 7
           },
           {
            "bin_start": 0.020095923206926325,
            "bin_end": 0.6152547096126152,
            "count": 5
           },
           {
            "bin_start": 0.6152547096126152,
            "bin_end": 1.2104134960183042,
            "count": 2
           },
           {
            "bin_start": 1.2104134960183042,
            "bin_end": 1.8055722824239928,
            "count": 0
           },
           {
            "bin_start": 1.8055722824239928,
            "bin_end": 2.4007310688296815,
            "count": 0
           },
           {
            "bin_start": 2.4007310688296815,
            "bin_end": 2.9958898552353705,
            "count": 0
           },
           {
            "bin_start": 2.9958898552353705,
            "bin_end": 3.5910486416410596,
            "count": 0
           },
           {
            "bin_start": 3.5910486416410596,
            "bin_end": 4.186207428046749,
            "count": 0
           },
           {
            "bin_start": 4.186207428046749,
            "bin_end": 4.781366214452437,
            "count": 0
           },
           {
            "bin_start": 4.781366214452437,
            "bin_end": 5.376525000858127,
            "count": 1
           }
          ]
         }
        },
        {
         "name": "1_1",
         "dtype": "float64",
         "stats": {
          "unique_count": 12,
          "nan_count": 0,
          "min": "-0.6521404346960951",
          "max": "3.9149862150478407",
          "histogram": [
           {
            "bin_start": -0.6521404346960951,
            "bin_end": -0.19542776972170145,
            "count": 6
           },
           {
            "bin_start": -0.19542776972170145,
            "bin_end": 0.26128489525269216,
            "count": 5
           },
           {
            "bin_start": 0.26128489525269216,
            "bin_end": 0.7179975602270858,
            "count": 3
           },
           {
            "bin_start": 0.7179975602270858,
            "bin_end": 1.1747102252014794,
            "count": 0
           },
           {
            "bin_start": 1.1747102252014794,
            "bin_end": 1.631422890175873,
            "count": 0
           },
           {
            "bin_start": 1.631422890175873,
            "bin_end": 2.0881355551502665,
            "count": 0
           },
           {
            "bin_start": 2.0881355551502665,
            "bin_end": 2.54484822012466,
            "count": 0
           },
           {
            "bin_start": 2.54484822012466,
            "bin_end": 3.001560885099054,
            "count": 0
           },
           {
            "bin_start": 3.001560885099054,
            "bin_end": 3.4582735500734474,
            "count": 0
           },
           {
            "bin_start": 3.4582735500734474,
            "bin_end": 3.9149862150478407,
            "count": 1
           }
          ]
         }
        },
        {
         "name": "1_2",
         "dtype": "float64",
         "stats": {
          "unique_count": 12,
          "nan_count": 0,
          "min": "-0.6537342775878948",
          "max": "3.8674048794395124",
          "histogram": [
           {
            "bin_start": -0.6537342775878948,
            "bin_end": -0.20162036188515414,
            "count": 6
           },
           {
            "bin_start": -0.20162036188515414,
            "bin_end": 0.25049355381758653,
            "count": 5
           },
           {
            "bin_start": 0.25049355381758653,
            "bin_end": 0.7026074695203272,
            "count": 3
           },
           {
            "bin_start": 0.7026074695203272,
            "bin_end": 1.154721385223068,
            "count": 0
           },
           {
            "bin_start": 1.154721385223068,
            "bin_end": 1.6068353009258085,
            "count": 0
           },
           {
            "bin_start": 1.6068353009258085,
            "bin_end": 2.058949216628549,
            "count": 0
           },
           {
            "bin_start": 2.058949216628549,
            "bin_end": 2.51106313233129,
            "count": 0
           },
           {
            "bin_start": 2.51106313233129,
            "bin_end": 2.9631770480340305,
            "count": 0
           },
           {
            "bin_start": 2.9631770480340305,
            "bin_end": 3.415290963736771,
            "count": 0
           },
           {
            "bin_start": 3.415290963736771,
            "bin_end": 3.8674048794395124,
            "count": 1
           }
          ]
         }
        },
        {
         "name": "1_3",
         "dtype": "float64",
         "stats": {
          "unique_count": 12,
          "nan_count": 0,
          "min": "-0.6559940022376466",
          "max": "3.8094193442109985",
          "histogram": [
           {
            "bin_start": -0.6559940022376466,
            "bin_end": -0.20945266759278214,
            "count": 6
           },
           {
            "bin_start": -0.20945266759278214,
            "bin_end": 0.2370886670520823,
            "count": 5
           },
           {
            "bin_start": 0.2370886670520823,
            "bin_end": 0.6836300016969467,
            "count": 3
           },
           {
            "bin_start": 0.6836300016969467,
            "bin_end": 1.130171336341811,
            "count": 0
           },
           {
            "bin_start": 1.130171336341811,
            "bin_end": 1.5767126709866757,
            "count": 0
           },
           {
            "bin_start": 1.5767126709866757,
            "bin_end": 2.02325400563154,
            "count": 0
           },
           {
            "bin_start": 2.02325400563154,
            "bin_end": 2.4697953402764043,
            "count": 0
           },
           {
            "bin_start": 2.4697953402764043,
            "bin_end": 2.916336674921269,
            "count": 0
           },
           {
            "bin_start": 2.916336674921269,
            "bin_end": 3.3628780095661335,
            "count": 0
           },
           {
            "bin_start": 3.3628780095661335,
            "bin_end": 3.8094193442109985,
            "count": 1
           }
          ]
         }
        },
        {
         "name": "1_4",
         "dtype": "float64",
         "stats": {
          "unique_count": 12,
          "nan_count": 0,
          "min": "-0.6578007001024392",
          "max": "3.7482685716903186",
          "histogram": [
           {
            "bin_start": -0.6578007001024392,
            "bin_end": -0.21719377292316344,
            "count": 6
           },
           {
            "bin_start": -0.21719377292316344,
            "bin_end": 0.2234131542561123,
            "count": 5
           },
           {
            "bin_start": 0.2234131542561123,
            "bin_end": 0.6640200814353879,
            "count": 3
           },
           {
            "bin_start": 0.6640200814353879,
            "bin_end": 1.104627008614664,
            "count": 0
           },
           {
            "bin_start": 1.104627008614664,
            "bin_end": 1.5452339357939398,
            "count": 0
           },
           {
            "bin_start": 1.5452339357939398,
            "bin_end": 1.9858408629732152,
            "count": 0
           },
           {
            "bin_start": 1.9858408629732152,
            "bin_end": 2.426447790152491,
            "count": 0
           },
           {
            "bin_start": 2.426447790152491,
            "bin_end": 2.867054717331767,
            "count": 0
           },
           {
            "bin_start": 2.867054717331767,
            "bin_end": 3.3076616445110427,
            "count": 0
           },
           {
            "bin_start": 3.3076616445110427,
            "bin_end": 3.7482685716903186,
            "count": 1
           }
          ]
         }
        },
        {
         "name": "state",
         "dtype": "object",
         "stats": {
          "unique_count": 12,
          "nan_count": 0,
          "categories": [
           {
            "name": "Oklahoma",
            "count": 2
           },
           {
            "name": "Ohio",
            "count": 2
           },
           {
            "name": "10 others",
            "count": 11
           }
          ]
         }
        },
        {
         "name": "pred",
         "dtype": "float64",
         "stats": {
          "unique_count": 15,
          "nan_count": 0,
          "min": "1.4397699252252205",
          "max": "1085.5291734369512",
          "histogram": [
           {
            "bin_start": 1.4397699252252205,
            "bin_end": 109.84871027639782,
            "count": 10
           },
           {
            "bin_start": 109.84871027639782,
            "bin_end": 218.25765062757043,
            "count": 2
           },
           {
            "bin_start": 218.25765062757043,
            "bin_end": 326.66659097874305,
            "count": 1
           },
           {
            "bin_start": 326.66659097874305,
            "bin_end": 435.07553132991563,
            "count": 1
           },
           {
            "bin_start": 435.07553132991563,
            "bin_end": 543.4844716810882,
            "count": 0
           },
           {
            "bin_start": 543.4844716810882,
            "bin_end": 651.8934120322608,
            "count": 0
           },
           {
            "bin_start": 651.8934120322608,
            "bin_end": 760.3023523834333,
            "count": 0
           },
           {
            "bin_start": 760.3023523834333,
            "bin_end": 868.711292734606,
            "count": 0
           },
           {
            "bin_start": 868.711292734606,
            "bin_end": 977.1202330857786,
            "count": 0
           },
           {
            "bin_start": 977.1202330857786,
            "bin_end": 1085.5291734369512,
            "count": 1
           }
          ]
         }
        },
        {
         "name": "target_original",
         "dtype": "float64",
         "stats": {
          "unique_count": 12,
          "nan_count": 0,
          "min": "1.0",
          "max": "1642.9999999999995",
          "histogram": [
           {
            "bin_start": 1,
            "bin_end": 165.19999999999996,
            "count": 11
           },
           {
            "bin_start": 165.19999999999996,
            "bin_end": 329.3999999999999,
            "count": 1
           },
           {
            "bin_start": 329.3999999999999,
            "bin_end": 493.5999999999999,
            "count": 1
           },
           {
            "bin_start": 493.5999999999999,
            "bin_end": 657.7999999999998,
            "count": 1
           },
           {
            "bin_start": 657.7999999999998,
            "bin_end": 821.9999999999998,
            "count": 0
           },
           {
            "bin_start": 821.9999999999998,
            "bin_end": 986.1999999999998,
            "count": 0
           },
           {
            "bin_start": 986.1999999999998,
            "bin_end": 1150.3999999999996,
            "count": 0
           },
           {
            "bin_start": 1150.3999999999996,
            "bin_end": 1314.5999999999997,
            "count": 0
           },
           {
            "bin_start": 1314.5999999999997,
            "bin_end": 1478.7999999999997,
            "count": 0
           },
           {
            "bin_start": 1478.7999999999997,
            "bin_end": 1642.9999999999995,
            "count": 1
           }
          ]
         }
        },
        {
         "name": "total_diff",
         "dtype": "int64",
         "stats": {
          "unique_count": 14,
          "nan_count": 0,
          "min": "-164",
          "max": "557",
          "histogram": [
           {
            "bin_start": -164,
            "bin_end": -91.9,
            "count": 1
           },
           {
            "bin_start": -91.9,
            "bin_end": -19.80000000000001,
            "count": 1
           },
           {
            "bin_start": -19.80000000000001,
            "bin_end": 52.29999999999998,
            "count": 10
           },
           {
            "bin_start": 52.29999999999998,
            "bin_end": 124.39999999999998,
            "count": 0
           },
           {
            "bin_start": 124.39999999999998,
            "bin_end": 196.5,
            "count": 2
           },
           {
            "bin_start": 196.5,
            "bin_end": 268.59999999999997,
            "count": 0
           },
           {
            "bin_start": 268.59999999999997,
            "bin_end": 340.69999999999993,
            "count": 0
           },
           {
            "bin_start": 340.69999999999993,
            "bin_end": 412.79999999999995,
            "count": 0
           },
           {
            "bin_start": 412.79999999999995,
            "bin_end": 484.9,
            "count": 0
           },
           {
            "bin_start": 484.9,
            "bin_end": 557,
            "count": 1
           }
          ]
         }
        },
        {
         "name": "perc_diff",
         "dtype": "float64",
         "stats": {
          "unique_count": 15,
          "nan_count": 0,
          "min": "-164.0",
          "max": "0.9411764705882351",
          "histogram": [
           {
            "bin_start": -164,
            "bin_end": -147.50588235294117,
            "count": 1
           },
           {
            "bin_start": -147.50588235294117,
            "bin_end": -131.01176470588234,
            "count": 0
           },
           {
            "bin_start": -131.01176470588234,
            "bin_end": -114.51764705882354,
            "count": 0
           },
           {
            "bin_start": -114.51764705882354,
            "bin_end": -98.02352941176471,
            "count": 0
           },
           {
            "bin_start": -98.02352941176471,
            "bin_end": -81.52941176470588,
            "count": 0
           },
           {
            "bin_start": -81.52941176470588,
            "bin_end": -65.03529411764707,
            "count": 0
           },
           {
            "bin_start": -65.03529411764707,
            "bin_end": -48.541176470588255,
            "count": 0
           },
           {
            "bin_start": -48.541176470588255,
            "bin_end": -32.047058823529426,
            "count": 0
           },
           {
            "bin_start": -32.047058823529426,
            "bin_end": -15.552941176470597,
            "count": 0
           },
           {
            "bin_start": -15.552941176470597,
            "bin_end": 0.9411764705882351,
            "count": 14
           }
          ]
         }
        },
        {
         "name": "_deepnote_index_column",
         "dtype": "object"
        }
       ],
       "rows": [
        {
         "1": 0,
         "2": 4.584967478670572,
         "3": 4.77912349311153,
         "4": 0,
         "target": 0,
         "0_1": -0.22661981333709036,
         "0_2": -0.22690190703065002,
         "0_3": -0.2295075548194841,
         "0_4": -0.2364503593388292,
         "1_1": -0.3827525872879475,
         "1_2": -0.38503421950162864,
         "1_3": -0.3884728956472832,
         "1_4": -0.3915672714363688,
         "state": "Oklahoma",
         "pred": 1.977476358797738,
         "target_original": 1,
         "total_diff": -1,
         "perc_diff": -1,
         "_deepnote_index_column": "Oklahoma_97033"
        },
        {
         "1": 5.541263545158426,
         "2": 5.5254529391317835,
         "3": 5.209486152841421,
         "4": 5.605802066295998,
         "target": 5.517452896464707,
         "0_1": -0.15564201084345047,
         "0_2": -0.1518016960257574,
         "0_3": -0.15241808291705417,
         "0_4": -0.15523306965010222,
         "1_1": -0.29983435106154377,
         "1_2": -0.30215195495426944,
         "1_3": -0.3060588038550073,
         "1_4": -0.3096686835558136,
         "state": "Louisiana",
         "pred": 234.25224083978372,
         "target_original": 248.99999999999994,
         "total_diff": 15,
         "perc_diff": 0.0602409638554217,
         "_deepnote_index_column": "Louisiana_44360"
        },
        {
         "1": 0,
         "2": 0,
         "3": 0,
         "4": 3.4011973816621555,
         "target": 3.5263605246161616,
         "0_1": -0.40112221487460115,
         "0_2": -0.4033919466831849,
         "0_3": -0.40520865170680936,
         "0_4": -0.40800254226718474,
         "1_1": -0.4737866293270504,
         "1_2": -0.4749617943304222,
         "1_3": -0.4765375161508236,
         "1_4": -0.47752822487518515,
         "state": "Iowa",
         "pred": 2.2980135555996344,
         "target_original": 34.00000000000001,
         "total_diff": 32,
         "perc_diff": 0.9411764705882351,
         "_deepnote_index_column": "Iowa_61797"
        },
        {
         "1": 5.25227342804663,
         "2": 4.983606621708336,
         "3": 4.90527477843843,
         "4": 5.10594547390058,
         "target": 0,
         "0_1": 0.41797266082309326,
         "0_2": 0.41037398170462813,
         "0_3": 0.40479972377148815,
         "0_4": 0.39845329182577593,
         "1_1": 0.20670071217202707,
         "1_2": 0.19727667318986655,
         "1_3": 0.18681161922543257,
         "1_4": 0.1768047308572499,
         "state": "Virginia",
         "pred": 165.01898120879656,
         "target_original": 1,
         "total_diff": -164,
         "perc_diff": -164,
         "_deepnote_index_column": "Virginia_71030"
        },
        {
         "1": 6.340359303727752,
         "2": 5.676753802268282,
         "3": 5.4116460518550396,
         "4": 5.308267697401205,
         "target": 6.395261598115449,
         "0_1": -0.5743848105719609,
         "0_2": -0.5729389113526224,
         "0_3": -0.5734498173805556,
         "0_4": -0.5750628631987625,
         "1_1": -0.6521404346960951,
         "1_2": -0.6537342775878948,
         "1_3": -0.6559940022376466,
         "1_4": -0.6578007001024392,
         "state": "Hawaii",
         "pred": 425.7279736880474,
         "target_original": 598.9999999999999,
         "total_diff": 173,
         "perc_diff": 0.28881469115191993,
         "_deepnote_index_column": "Hawaii_73020"
        },
        {
         "1": 5.153291594497779,
         "2": 0,
         "3": 0,
         "4": 0,
         "target": 5.8377304471659395,
         "0_1": 5.445279591308564,
         "0_2": 5.431556530984954,
         "0_3": 5.4127855351900145,
         "0_4": 5.376525000858127,
         "1_1": 3.9149862150478407,
         "1_2": 3.8674048794395124,
         "1_3": 3.8094193442109985,
         "1_4": 3.7482685716903186,
         "state": "California",
         "pred": 184.98723934038762,
         "target_original": 342.99999999999983,
         "total_diff": 158,
         "perc_diff": 0.46064139941690985,
         "_deepnote_index_column": "California_G0143"
        },
        {
         "1": 3.332204510175204,
         "2": 3.258096538021482,
         "3": 2.9444389791664403,
         "4": 2.70805020110221,
         "target": 3.5263605246161616,
         "0_1": 0.8327515437991486,
         "0_2": 0.8266845009094739,
         "0_3": 0.8241069813508701,
         "0_4": 0.8204659983185592,
         "1_1": 0.6583302813873021,
         "1_2": 0.6551244745323042,
         "1_3": 0.6506645272582878,
         "1_4": 0.6478162734837174,
         "state": "Ohio",
         "pred": 24.13339033345751,
         "target_original": 34.00000000000001,
         "total_diff": 10,
         "perc_diff": 0.2941176470588235,
         "_deepnote_index_column": "Ohio_21081"
        },
        {
         "1": 0,
         "2": 0,
         "3": 0,
         "4": 6.453624998892692,
         "target": 0,
         "0_1": 0.5754983230978549,
         "0_2": 0.5713567116601949,
         "0_3": 0.5687848718403876,
         "0_4": 0.5694634653946937,
         "1_1": 0.45211952093142505,
         "1_2": 0.4482921883738383,
         "1_3": 0.4437662479442816,
         "1_4": 0.4407981787274801,
         "state": "Michigan",
         "pred": 1.4397699252252205,
         "target_original": 1,
         "total_diff": 0,
         "perc_diff": 0,
         "_deepnote_index_column": "Michigan_J3120"
        },
        {
         "1": 4.634728988229636,
         "2": 4.867534450455582,
         "3": 4.653960350157523,
         "4": 4.736198448394496,
         "target": 4.709530201312334,
         "0_1": 0.03616628434325456,
         "0_2": 0.03289908221650392,
         "0_3": 0.03148834328495331,
         "0_4": 0.028760445880118304,
         "1_1": -0.08471911249151015,
         "1_2": -0.08810153217670413,
         "1_3": -0.092177420922576,
         "1_4": -0.09507625141881054,
         "state": "Missouri",
         "pred": 101.54993342896125,
         "target_original": 110.99999999999997,
         "total_diff": 9,
         "perc_diff": 0.0810810810810811,
         "_deepnote_index_column": "Missouri_11426"
        },
        {
         "1": 0,
         "2": 0,
         "3": 0,
         "4": 0,
         "target": 2.70805020110221,
         "0_1": 0.8327515437991486,
         "0_2": 0.8266845009094739,
         "0_3": 0.8241069813508701,
         "0_4": 0.8204659983185592,
         "1_1": 0.6583302813873021,
         "1_2": 0.6551244745323042,
         "1_3": 0.6506645272582878,
         "1_4": 0.6478162734837174,
         "state": "Ohio",
         "pred": 46.550279970654834,
         "target_original": 15,
         "total_diff": -32,
         "perc_diff": -2.1333333333333333,
         "_deepnote_index_column": "Ohio_67320"
        }
       ]
      },
      "text/plain": "                    target         1         2         3         4       0_1  \\\nidx                                                                            \nOklahoma_97033    0.000000  0.000000  4.584967  4.779123  0.000000 -0.226620   \nLouisiana_44360   5.517453  5.541264  5.525453  5.209486  5.605802 -0.155642   \nIowa_61797        3.526361  0.000000  0.000000  0.000000  3.401197 -0.401122   \nVirginia_71030    0.000000  5.252273  4.983607  4.905275  5.105945  0.417973   \nHawaii_73020      6.395262  6.340359  5.676754  5.411646  5.308268 -0.574385   \nCalifornia_G0143  5.837730  5.153292  0.000000  0.000000  0.000000  5.445280   \nOhio_21081        3.526361  3.332205  3.258097  2.944439  2.708050  0.832752   \nMichigan_J3120    0.000000  0.000000  0.000000  0.000000  6.453625  0.575498   \nMissouri_11426    4.709530  4.634729  4.867534  4.653960  4.736198  0.036166   \nOhio_67320        2.708050  0.000000  0.000000  0.000000  0.000000  0.832752   \nMaryland_62290    3.912023  4.521789  4.682131  5.141664  5.613128  0.032315   \nMissouri_92986    4.189655  4.465908  4.499810  4.248495  4.025352  0.036166   \nWisconsin_G0306   3.091042  0.000000  0.000000  0.000000  0.000000 -0.030085   \nOregon_60650      3.988984  3.295837  2.995732  3.178054  3.526361 -0.247577   \nOklahoma_20985    7.404279  7.189168  6.946976  6.532334  6.318968 -0.226620   \n\n                       0_2       0_3       0_4       1_1       1_2       1_3  \\\nidx                                                                            \nOklahoma_97033   -0.226902 -0.229508 -0.236450 -0.382753 -0.385034 -0.388473   \nLouisiana_44360  -0.151802 -0.152418 -0.155233 -0.299834 -0.302152 -0.306059   \nIowa_61797       -0.403392 -0.405209 -0.408003 -0.473787 -0.474962 -0.476538   \nVirginia_71030    0.410374  0.404800  0.398453  0.206701  0.197277  0.186812   \nHawaii_73020     -0.572939 -0.573450 -0.575063 -0.652140 -0.653734 -0.655994   \nCalifornia_G0143  5.431557  5.412786  5.376525  3.914986  3.867405  3.809419   \nOhio_21081        0.826685  0.824107  0.820466  0.658330  0.655124  0.650665   \nMichigan_J3120    0.571357  0.568785  0.569463  0.452120  0.448292  0.443766   \nMissouri_11426    0.032899  0.031488  0.028760 -0.084719 -0.088102 -0.092177   \nOhio_67320        0.826685  0.824107  0.820466  0.658330  0.655124  0.650665   \nMaryland_62290    0.029745  0.028700  0.024860 -0.092436 -0.096964 -0.102183   \nMissouri_92986    0.032899  0.031488  0.028760 -0.084719 -0.088102 -0.092177   \nWisconsin_G0306  -0.031952 -0.032171 -0.033151 -0.112231 -0.116293 -0.120374   \nOregon_60650     -0.255544 -0.267782 -0.275603 -0.325517 -0.333836 -0.343687   \nOklahoma_20985   -0.226902 -0.229508 -0.236450 -0.382753 -0.385034 -0.388473   \n\n                       1_4       state         pred  target_original  \\\nidx                                                                    \nOklahoma_97033   -0.391567    Oklahoma     1.977476              1.0   \nLouisiana_44360  -0.309669   Louisiana   234.252241            249.0   \nIowa_61797       -0.477528        Iowa     2.298014             34.0   \nVirginia_71030    0.176805    Virginia   165.018981              1.0   \nHawaii_73020     -0.657801      Hawaii   425.727974            599.0   \nCalifornia_G0143  3.748269  California   184.987239            343.0   \nOhio_21081        0.647816        Ohio    24.133390             34.0   \nMichigan_J3120    0.440798    Michigan     1.439770              1.0   \nMissouri_11426   -0.095076    Missouri   101.549933            111.0   \nOhio_67320        0.647816        Ohio    46.550280             15.0   \nMaryland_62290   -0.107372    Maryland    69.022346             50.0   \nMissouri_92986   -0.095076    Missouri    80.021444             66.0   \nWisconsin_G0306  -0.123075   Wisconsin    37.998658             22.0   \nOregon_60650     -0.351790      Oregon    21.870440             54.0   \nOklahoma_20985   -0.391567    Oklahoma  1085.529173           1643.0   \n\n                  total_diff   perc_diff  \nidx                                       \nOklahoma_97033            -1   -1.000000  \nLouisiana_44360           15    0.060241  \nIowa_61797                32    0.941176  \nVirginia_71030          -164 -164.000000  \nHawaii_73020             173    0.288815  \nCalifornia_G0143         158    0.460641  \nOhio_21081                10    0.294118  \nMichigan_J3120             0    0.000000  \nMissouri_11426             9    0.081081  \nOhio_67320               -32   -2.133333  \nMaryland_62290           -19   -0.380000  \nMissouri_92986           -14   -0.212121  \nWisconsin_G0306          -16   -0.727273  \nOregon_60650              32    0.592593  \nOklahoma_20985           557    0.339014  ",
      "text/html": "<div>\n<style scoped>\n    .dataframe tbody tr th:only-of-type {\n        vertical-align: middle;\n    }\n\n    .dataframe tbody tr th {\n        vertical-align: top;\n    }\n\n    .dataframe thead th {\n        text-align: right;\n    }\n</style>\n<table border=\"1\" class=\"dataframe\">\n  <thead>\n    <tr style=\"text-align: right;\">\n      <th></th>\n      <th>target</th>\n      <th>1</th>\n      <th>2</th>\n      <th>3</th>\n      <th>4</th>\n      <th>0_1</th>\n      <th>0_2</th>\n      <th>0_3</th>\n      <th>0_4</th>\n      <th>1_1</th>\n      <th>1_2</th>\n      <th>1_3</th>\n      <th>1_4</th>\n      <th>state</th>\n      <th>pred</th>\n      <th>target_original</th>\n      <th>total_diff</th>\n      <th>perc_diff</th>\n    </tr>\n    <tr>\n      <th>idx</th>\n      <th></th>\n      <th></th>\n      <th></th>\n      <th></th>\n      <th></th>\n      <th></th>\n      <th></th>\n      <th></th>\n      <th></th>\n      <th></th>\n      <th></th>\n      <th></th>\n      <th></th>\n      <th></th>\n      <th></th>\n      <th></th>\n      <th></th>\n      <th></th>\n    </tr>\n  </thead>\n  <tbody>\n    <tr>\n      <th>Oklahoma_97033</th>\n      <td>0.000000</td>\n      <td>0.000000</td>\n      <td>4.584967</td>\n      <td>4.779123</td>\n      <td>0.000000</td>\n      <td>-0.226620</td>\n      <td>-0.226902</td>\n      <td>-0.229508</td>\n      <td>-0.236450</td>\n      <td>-0.382753</td>\n      <td>-0.385034</td>\n      <td>-0.388473</td>\n      <td>-0.391567</td>\n      <td>Oklahoma</td>\n      <td>1.977476</td>\n      <td>1.0</td>\n      <td>-1</td>\n      <td>-1.000000</td>\n    </tr>\n    <tr>\n      <th>Louisiana_44360</th>\n      <td>5.517453</td>\n      <td>5.541264</td>\n      <td>5.525453</td>\n      <td>5.209486</td>\n      <td>5.605802</td>\n      <td>-0.155642</td>\n      <td>-0.151802</td>\n      <td>-0.152418</td>\n      <td>-0.155233</td>\n      <td>-0.299834</td>\n      <td>-0.302152</td>\n      <td>-0.306059</td>\n      <td>-0.309669</td>\n      <td>Louisiana</td>\n      <td>234.252241</td>\n      <td>249.0</td>\n      <td>15</td>\n      <td>0.060241</td>\n    </tr>\n    <tr>\n      <th>Iowa_61797</th>\n      <td>3.526361</td>\n      <td>0.000000</td>\n      <td>0.000000</td>\n      <td>0.000000</td>\n      <td>3.401197</td>\n      <td>-0.401122</td>\n      <td>-0.403392</td>\n      <td>-0.405209</td>\n      <td>-0.408003</td>\n      <td>-0.473787</td>\n      <td>-0.474962</td>\n      <td>-0.476538</td>\n      <td>-0.477528</td>\n      <td>Iowa</td>\n      <td>2.298014</td>\n      <td>34.0</td>\n      <td>32</td>\n      <td>0.941176</td>\n    </tr>\n    <tr>\n      <th>Virginia_71030</th>\n      <td>0.000000</td>\n      <td>5.252273</td>\n      <td>4.983607</td>\n      <td>4.905275</td>\n      <td>5.105945</td>\n      <td>0.417973</td>\n      <td>0.410374</td>\n      <td>0.404800</td>\n      <td>0.398453</td>\n      <td>0.206701</td>\n      <td>0.197277</td>\n      <td>0.186812</td>\n      <td>0.176805</td>\n      <td>Virginia</td>\n      <td>165.018981</td>\n      <td>1.0</td>\n      <td>-164</td>\n      <td>-164.000000</td>\n    </tr>\n    <tr>\n      <th>Hawaii_73020</th>\n      <td>6.395262</td>\n      <td>6.340359</td>\n      <td>5.676754</td>\n      <td>5.411646</td>\n      <td>5.308268</td>\n      <td>-0.574385</td>\n      <td>-0.572939</td>\n      <td>-0.573450</td>\n      <td>-0.575063</td>\n      <td>-0.652140</td>\n      <td>-0.653734</td>\n      <td>-0.655994</td>\n      <td>-0.657801</td>\n      <td>Hawaii</td>\n      <td>425.727974</td>\n      <td>599.0</td>\n      <td>173</td>\n      <td>0.288815</td>\n    </tr>\n    <tr>\n      <th>California_G0143</th>\n      <td>5.837730</td>\n      <td>5.153292</td>\n      <td>0.000000</td>\n      <td>0.000000</td>\n      <td>0.000000</td>\n      <td>5.445280</td>\n      <td>5.431557</td>\n      <td>5.412786</td>\n      <td>5.376525</td>\n      <td>3.914986</td>\n      <td>3.867405</td>\n      <td>3.809419</td>\n      <td>3.748269</td>\n      <td>California</td>\n      <td>184.987239</td>\n      <td>343.0</td>\n      <td>158</td>\n      <td>0.460641</td>\n    </tr>\n    <tr>\n      <th>Ohio_21081</th>\n      <td>3.526361</td>\n      <td>3.332205</td>\n      <td>3.258097</td>\n      <td>2.944439</td>\n      <td>2.708050</td>\n      <td>0.832752</td>\n      <td>0.826685</td>\n      <td>0.824107</td>\n      <td>0.820466</td>\n      <td>0.658330</td>\n      <td>0.655124</td>\n      <td>0.650665</td>\n      <td>0.647816</td>\n      <td>Ohio</td>\n      <td>24.133390</td>\n      <td>34.0</td>\n      <td>10</td>\n      <td>0.294118</td>\n    </tr>\n    <tr>\n      <th>Michigan_J3120</th>\n      <td>0.000000</td>\n      <td>0.000000</td>\n      <td>0.000000</td>\n      <td>0.000000</td>\n      <td>6.453625</td>\n      <td>0.575498</td>\n      <td>0.571357</td>\n      <td>0.568785</td>\n      <td>0.569463</td>\n      <td>0.452120</td>\n      <td>0.448292</td>\n      <td>0.443766</td>\n      <td>0.440798</td>\n      <td>Michigan</td>\n      <td>1.439770</td>\n      <td>1.0</td>\n      <td>0</td>\n      <td>0.000000</td>\n    </tr>\n    <tr>\n      <th>Missouri_11426</th>\n      <td>4.709530</td>\n      <td>4.634729</td>\n      <td>4.867534</td>\n      <td>4.653960</td>\n      <td>4.736198</td>\n      <td>0.036166</td>\n      <td>0.032899</td>\n      <td>0.031488</td>\n      <td>0.028760</td>\n      <td>-0.084719</td>\n      <td>-0.088102</td>\n      <td>-0.092177</td>\n      <td>-0.095076</td>\n      <td>Missouri</td>\n      <td>101.549933</td>\n      <td>111.0</td>\n      <td>9</td>\n      <td>0.081081</td>\n    </tr>\n    <tr>\n      <th>Ohio_67320</th>\n      <td>2.708050</td>\n      <td>0.000000</td>\n      <td>0.000000</td>\n      <td>0.000000</td>\n      <td>0.000000</td>\n      <td>0.832752</td>\n      <td>0.826685</td>\n      <td>0.824107</td>\n      <td>0.820466</td>\n      <td>0.658330</td>\n      <td>0.655124</td>\n      <td>0.650665</td>\n      <td>0.647816</td>\n      <td>Ohio</td>\n      <td>46.550280</td>\n      <td>15.0</td>\n      <td>-32</td>\n      <td>-2.133333</td>\n    </tr>\n    <tr>\n      <th>Maryland_62290</th>\n      <td>3.912023</td>\n      <td>4.521789</td>\n      <td>4.682131</td>\n      <td>5.141664</td>\n      <td>5.613128</td>\n      <td>0.032315</td>\n      <td>0.029745</td>\n      <td>0.028700</td>\n      <td>0.024860</td>\n      <td>-0.092436</td>\n      <td>-0.096964</td>\n      <td>-0.102183</td>\n      <td>-0.107372</td>\n      <td>Maryland</td>\n      <td>69.022346</td>\n      <td>50.0</td>\n      <td>-19</td>\n      <td>-0.380000</td>\n    </tr>\n    <tr>\n      <th>Missouri_92986</th>\n      <td>4.189655</td>\n      <td>4.465908</td>\n      <td>4.499810</td>\n      <td>4.248495</td>\n      <td>4.025352</td>\n      <td>0.036166</td>\n      <td>0.032899</td>\n      <td>0.031488</td>\n      <td>0.028760</td>\n      <td>-0.084719</td>\n      <td>-0.088102</td>\n      <td>-0.092177</td>\n      <td>-0.095076</td>\n      <td>Missouri</td>\n      <td>80.021444</td>\n      <td>66.0</td>\n      <td>-14</td>\n      <td>-0.212121</td>\n    </tr>\n    <tr>\n      <th>Wisconsin_G0306</th>\n      <td>3.091042</td>\n      <td>0.000000</td>\n      <td>0.000000</td>\n      <td>0.000000</td>\n      <td>0.000000</td>\n      <td>-0.030085</td>\n      <td>-0.031952</td>\n      <td>-0.032171</td>\n      <td>-0.033151</td>\n      <td>-0.112231</td>\n      <td>-0.116293</td>\n      <td>-0.120374</td>\n      <td>-0.123075</td>\n      <td>Wisconsin</td>\n      <td>37.998658</td>\n      <td>22.0</td>\n      <td>-16</td>\n      <td>-0.727273</td>\n    </tr>\n    <tr>\n      <th>Oregon_60650</th>\n      <td>3.988984</td>\n      <td>3.295837</td>\n      <td>2.995732</td>\n      <td>3.178054</td>\n      <td>3.526361</td>\n      <td>-0.247577</td>\n      <td>-0.255544</td>\n      <td>-0.267782</td>\n      <td>-0.275603</td>\n      <td>-0.325517</td>\n      <td>-0.333836</td>\n      <td>-0.343687</td>\n      <td>-0.351790</td>\n      <td>Oregon</td>\n      <td>21.870440</td>\n      <td>54.0</td>\n      <td>32</td>\n      <td>0.592593</td>\n    </tr>\n    <tr>\n      <th>Oklahoma_20985</th>\n      <td>7.404279</td>\n      <td>7.189168</td>\n      <td>6.946976</td>\n      <td>6.532334</td>\n      <td>6.318968</td>\n      <td>-0.226620</td>\n      <td>-0.226902</td>\n      <td>-0.229508</td>\n      <td>-0.236450</td>\n      <td>-0.382753</td>\n      <td>-0.385034</td>\n      <td>-0.388473</td>\n      <td>-0.391567</td>\n      <td>Oklahoma</td>\n      <td>1085.529173</td>\n      <td>1643.0</td>\n      <td>557</td>\n      <td>0.339014</td>\n    </tr>\n  </tbody>\n</table>\n</div>"
     },
     "metadata": {}
    }
   ],
   "execution_count": null
  },
  {
   "cell_type": "code",
   "metadata": {
    "tags": [],
    "deepnote_to_be_reexecuted": false,
    "source_hash": "574e66fc",
    "execution_start": 1643052812341,
    "execution_millis": 264,
    "deepnote_output_heights": [
     251.4375,
     250,
     254
    ],
    "cell_id": "00021-c45d001a-b7bc-4bdf-995d-05f39341a3f5",
    "deepnote_table_state": {
     "pageSize": 10,
     "pageIndex": 2,
     "filters": [],
     "sortBy": []
    },
    "deepnote_table_loading": false,
    "deepnote_table_invalid": false,
    "deepnote_cell_type": "code"
   },
   "source": "full_test.groupby(['state']).mean()",
   "outputs": [
    {
     "output_type": "execute_result",
     "execution_count": 22,
     "data": {
      "application/vnd.deepnote.dataframe.v3+json": {
       "column_count": 17,
       "row_count": 57,
       "columns": [
        {
         "name": "target",
         "dtype": "float64",
         "stats": {
          "unique_count": 57,
          "nan_count": 0,
          "min": "2.4233884551614584",
          "max": "5.594945533365198",
          "histogram": [
           {
            "bin_start": 2.4233884551614584,
            "bin_end": 2.7405441629818323,
            "count": 1
           },
           {
            "bin_start": 2.7405441629818323,
            "bin_end": 3.0576998708022063,
            "count": 1
           },
           {
            "bin_start": 3.0576998708022063,
            "bin_end": 3.3748555786225802,
            "count": 1
           },
           {
            "bin_start": 3.3748555786225802,
            "bin_end": 3.6920112864429546,
            "count": 1
           },
           {
            "bin_start": 3.6920112864429546,
            "bin_end": 4.009166994263328,
            "count": 3
           },
           {
            "bin_start": 4.009166994263328,
            "bin_end": 4.3263227020837025,
            "count": 15
           },
           {
            "bin_start": 4.3263227020837025,
            "bin_end": 4.643478409904077,
            "count": 9
           },
           {
            "bin_start": 4.643478409904077,
            "bin_end": 4.96063411772445,
            "count": 15
           },
           {
            "bin_start": 4.96063411772445,
            "bin_end": 5.277789825544824,
            "count": 7
           },
           {
            "bin_start": 5.277789825544824,
            "bin_end": 5.594945533365198,
            "count": 4
           }
          ]
         }
        },
        {
         "name": "1",
         "dtype": "float64",
         "stats": {
          "unique_count": 57,
          "nan_count": 0,
          "min": "0.5036112897597299",
          "max": "5.534571337966225",
          "histogram": [
           {
            "bin_start": 0.5036112897597299,
            "bin_end": 1.0067072945803794,
            "count": 1
           },
           {
            "bin_start": 1.0067072945803794,
            "bin_end": 1.509803299401029,
            "count": 0
           },
           {
            "bin_start": 1.509803299401029,
            "bin_end": 2.0128993042216785,
            "count": 0
           },
           {
            "bin_start": 2.0128993042216785,
            "bin_end": 2.515995309042328,
            "count": 0
           },
           {
            "bin_start": 2.515995309042328,
            "bin_end": 3.0190913138629774,
            "count": 2
           },
           {
            "bin_start": 3.0190913138629774,
            "bin_end": 3.522187318683627,
            "count": 1
           },
           {
            "bin_start": 3.522187318683627,
            "bin_end": 4.025283323504277,
            "count": 7
           },
           {
            "bin_start": 4.025283323504277,
            "bin_end": 4.5283793283249265,
            "count": 19
           },
           {
            "bin_start": 4.5283793283249265,
            "bin_end": 5.031475333145576,
            "count": 19
           },
           {
            "bin_start": 5.031475333145576,
            "bin_end": 5.534571337966225,
            "count": 8
           }
          ]
         }
        },
        {
         "name": "2",
         "dtype": "float64",
         "stats": {
          "unique_count": 57,
          "nan_count": 0,
          "min": "0.4451762067385736",
          "max": "5.500198706293229",
          "histogram": [
           {
            "bin_start": 0.4451762067385736,
            "bin_end": 0.9506784566940392,
            "count": 1
           },
           {
            "bin_start": 0.9506784566940392,
            "bin_end": 1.4561807066495047,
            "count": 0
           },
           {
            "bin_start": 1.4561807066495047,
            "bin_end": 1.9616829566049703,
            "count": 0
           },
           {
            "bin_start": 1.9616829566049703,
            "bin_end": 2.467185206560436,
            "count": 0
           },
           {
            "bin_start": 2.467185206560436,
            "bin_end": 2.972687456515901,
            "count": 2
           },
           {
            "bin_start": 2.972687456515901,
            "bin_end": 3.478189706471367,
            "count": 1
           },
           {
            "bin_start": 3.478189706471367,
            "bin_end": 3.9836919564268323,
            "count": 7
           },
           {
            "bin_start": 3.9836919564268323,
            "bin_end": 4.489194206382298,
            "count": 17
           },
           {
            "bin_start": 4.489194206382298,
            "bin_end": 4.994696456337764,
            "count": 20
           },
           {
            "bin_start": 4.994696456337764,
            "bin_end": 5.500198706293229,
            "count": 9
           }
          ]
         }
        },
        {
         "name": "3",
         "dtype": "float64",
         "stats": {
          "unique_count": 57,
          "nan_count": 0,
          "min": "0.33199233297351705",
          "max": "5.449106366799014",
          "histogram": [
           {
            "bin_start": 0.33199233297351705,
            "bin_end": 0.8437037363560668,
            "count": 1
           },
           {
            "bin_start": 0.8437037363560668,
            "bin_end": 1.3554151397386165,
            "count": 0
           },
           {
            "bin_start": 1.3554151397386165,
            "bin_end": 1.8671265431211663,
            "count": 0
           },
           {
            "bin_start": 1.8671265431211663,
            "bin_end": 2.378837946503716,
            "count": 0
           },
           {
            "bin_start": 2.378837946503716,
            "bin_end": 2.8905493498862658,
            "count": 2
           },
           {
            "bin_start": 2.8905493498862658,
            "bin_end": 3.4022607532688154,
            "count": 1
           },
           {
            "bin_start": 3.4022607532688154,
            "bin_end": 3.913972156651365,
            "count": 5
           },
           {
            "bin_start": 3.913972156651365,
            "bin_end": 4.425683560033915,
            "count": 14
           },
           {
            "bin_start": 4.425683560033915,
            "bin_end": 4.937394963416464,
            "count": 24
           },
           {
            "bin_start": 4.937394963416464,
            "bin_end": 5.449106366799014,
            "count": 10
           }
          ]
         }
        },
        {
         "name": 4,
         "dtype": "float64",
         "stats": {
          "unique_count": 57,
          "nan_count": 0,
          "min": "0.05154550041104388",
          "max": "5.452863952561728",
          "histogram": [
           {
            "bin_start": 0.05154550041104388,
            "bin_end": 0.5916773456261123,
            "count": 1
           },
           {
            "bin_start": 0.5916773456261123,
            "bin_end": 1.1318091908411807,
            "count": 0
           },
           {
            "bin_start": 1.1318091908411807,
            "bin_end": 1.6719410360562492,
            "count": 0
           },
           {
            "bin_start": 1.6719410360562492,
            "bin_end": 2.2120728812713173,
            "count": 0
           },
           {
            "bin_start": 2.2120728812713173,
            "bin_end": 2.7522047264863856,
            "count": 1
           },
           {
            "bin_start": 2.7522047264863856,
            "bin_end": 3.2923365717014543,
            "count": 3
           },
           {
            "bin_start": 3.2923365717014543,
            "bin_end": 3.8324684169165226,
            "count": 4
           },
           {
            "bin_start": 3.8324684169165226,
            "bin_end": 4.372600262131591,
            "count": 14
           },
           {
            "bin_start": 4.372600262131591,
            "bin_end": 4.91273210734666,
            "count": 23
           },
           {
            "bin_start": 4.91273210734666,
            "bin_end": 5.452863952561728,
            "count": 11
           }
          ]
         }
        },
        {
         "name": "0_1",
         "dtype": "float64",
         "stats": {
          "unique_count": 51,
          "nan_count": 6,
          "min": "-0.7873366095880135",
          "max": "5.445279591309193",
          "histogram": [
           {
            "bin_start": -0.7873366095880135,
            "bin_end": -0.1640749894982929,
            "count": 26
           },
           {
            "bin_start": -0.1640749894982929,
            "bin_end": 0.4591866305914277,
            "count": 15
           },
           {
            "bin_start": 0.4591866305914277,
            "bin_end": 1.0824482506811481,
            "count": 6
           },
           {
            "bin_start": 1.0824482506811481,
            "bin_end": 1.7057098707708689,
            "count": 0
           },
           {
            "bin_start": 1.7057098707708689,
            "bin_end": 2.3289714908605896,
            "count": 2
           },
           {
            "bin_start": 2.3289714908605896,
            "bin_end": 2.95223311095031,
            "count": 0
           },
           {
            "bin_start": 2.95223311095031,
            "bin_end": 3.575494731040031,
            "count": 0
           },
           {
            "bin_start": 3.575494731040031,
            "bin_end": 4.198756351129751,
            "count": 1
           },
           {
            "bin_start": 4.198756351129751,
            "bin_end": 4.822017971219472,
            "count": 0
           },
           {
            "bin_start": 4.822017971219472,
            "bin_end": 5.445279591309193,
            "count": 1
           }
          ]
         }
        },
        {
         "name": "0_2",
         "dtype": "float64",
         "stats": {
          "unique_count": 51,
          "nan_count": 6,
          "min": "-0.7874672435803118",
          "max": "5.431556530985239",
          "histogram": [
           {
            "bin_start": -0.7874672435803118,
            "bin_end": -0.16556486612375676,
            "count": 26
           },
           {
            "bin_start": -0.16556486612375676,
            "bin_end": 0.4563375113327983,
            "count": 15
           },
           {
            "bin_start": 0.4563375113327983,
            "bin_end": 1.0782398887893534,
            "count": 6
           },
           {
            "bin_start": 1.0782398887893534,
            "bin_end": 1.7001422662459085,
            "count": 0
           },
           {
            "bin_start": 1.7001422662459085,
            "bin_end": 2.3220446437024638,
            "count": 2
           },
           {
            "bin_start": 2.3220446437024638,
            "bin_end": 2.9439470211590186,
            "count": 0
           },
           {
            "bin_start": 2.9439470211590186,
            "bin_end": 3.5658493986155735,
            "count": 0
           },
           {
            "bin_start": 3.5658493986155735,
            "bin_end": 4.187751776072129,
            "count": 1
           },
           {
            "bin_start": 4.187751776072129,
            "bin_end": 4.809654153528684,
            "count": 0
           },
           {
            "bin_start": 4.809654153528684,
            "bin_end": 5.431556530985239,
            "count": 1
           }
          ]
         }
        },
        {
         "name": "0_3",
         "dtype": "float64",
         "stats": {
          "unique_count": 51,
          "nan_count": 6,
          "min": "-0.7871345731650928",
          "max": "5.412785535190603",
          "histogram": [
           {
            "bin_start": -0.7871345731650928,
            "bin_end": -0.16714256232952318,
            "count": 26
           },
           {
            "bin_start": -0.16714256232952318,
            "bin_end": 0.45284944850604647,
            "count": 15
           },
           {
            "bin_start": 0.45284944850604647,
            "bin_end": 1.0728414593416162,
            "count": 5
           },
           {
            "bin_start": 1.0728414593416162,
            "bin_end": 1.6928334701771859,
            "count": 1
           },
           {
            "bin_start": 1.6928334701771859,
            "bin_end": 2.3128254810127555,
            "count": 2
           },
           {
            "bin_start": 2.3128254810127555,
            "bin_end": 2.932817491848325,
            "count": 0
           },
           {
            "bin_start": 2.932817491848325,
            "bin_end": 3.552809502683895,
            "count": 0
           },
           {
            "bin_start": 3.552809502683895,
            "bin_end": 4.172801513519464,
            "count": 1
           },
           {
            "bin_start": 4.172801513519464,
            "bin_end": 4.792793524355034,
            "count": 0
           },
           {
            "bin_start": 4.792793524355034,
            "bin_end": 5.412785535190603,
            "count": 1
           }
          ]
         }
        },
        {
         "name": "0_4",
         "dtype": "float64",
         "stats": {
          "unique_count": 51,
          "nan_count": 6,
          "min": "-0.7871494486714752",
          "max": "5.376525000858234",
          "histogram": [
           {
            "bin_start": -0.7871494486714752,
            "bin_end": -0.17078200371850416,
            "count": 26
           },
           {
            "bin_start": -0.17078200371850416,
            "bin_end": 0.44558544123446686,
            "count": 15
           },
           {
            "bin_start": 0.44558544123446686,
            "bin_end": 1.0619528861874379,
            "count": 5
           },
           {
            "bin_start": 1.0619528861874379,
            "bin_end": 1.678320331140409,
            "count": 1
           },
           {
            "bin_start": 1.678320331140409,
            "bin_end": 2.2946877760933795,
            "count": 2
           },
           {
            "bin_start": 2.2946877760933795,
            "bin_end": 2.911055221046351,
            "count": 0
           },
           {
            "bin_start": 2.911055221046351,
            "bin_end": 3.527422665999322,
            "count": 0
           },
           {
            "bin_start": 3.527422665999322,
            "bin_end": 4.143790110952293,
            "count": 1
           },
           {
            "bin_start": 4.143790110952293,
            "bin_end": 4.760157555905264,
            "count": 0
           },
           {
            "bin_start": 4.760157555905264,
            "bin_end": 5.376525000858234,
            "count": 1
           }
          ]
         }
        },
        {
         "name": "1_1",
         "dtype": "float64",
         "stats": {
          "unique_count": 51,
          "nan_count": 6,
          "min": "-0.7985889835351787",
          "max": "3.914986215047963",
          "histogram": [
           {
            "bin_start": -0.7985889835351787,
            "bin_end": -0.32723146367686456,
            "count": 24
           },
           {
            "bin_start": -0.32723146367686456,
            "bin_end": 0.14412605618144958,
            "count": 15
           },
           {
            "bin_start": 0.14412605618144958,
            "bin_end": 0.6154835760397637,
            "count": 5
           },
           {
            "bin_start": 0.6154835760397637,
            "bin_end": 1.0868410958980779,
            "count": 3
           },
           {
            "bin_start": 1.0868410958980779,
            "bin_end": 1.558198615756392,
            "count": 0
           },
           {
            "bin_start": 1.558198615756392,
            "bin_end": 2.029556135614706,
            "count": 1
           },
           {
            "bin_start": 2.029556135614706,
            "bin_end": 2.5009136554730205,
            "count": 2
           },
           {
            "bin_start": 2.5009136554730205,
            "bin_end": 2.9722711753313344,
            "count": 0
           },
           {
            "bin_start": 2.9722711753313344,
            "bin_end": 3.443628695189649,
            "count": 0
           },
           {
            "bin_start": 3.443628695189649,
            "bin_end": 3.914986215047963,
            "count": 1
           }
          ]
         }
        },
        {
         "name": "1_2",
         "dtype": "float64",
         "stats": {
          "unique_count": 51,
          "nan_count": 6,
          "min": "-0.7987545073515289",
          "max": "3.8674048794390847",
          "histogram": [
           {
            "bin_start": -0.7987545073515289,
            "bin_end": -0.33213856867246755,
            "count": 25
           },
           {
            "bin_start": -0.33213856867246755,
            "bin_end": 0.13447737000659377,
            "count": 14
           },
           {
            "bin_start": 0.13447737000659377,
            "bin_end": 0.601093308685655,
            "count": 5
           },
           {
            "bin_start": 0.601093308685655,
            "bin_end": 1.0677092473647165,
            "count": 3
           },
           {
            "bin_start": 1.0677092473647165,
            "bin_end": 1.5343251860437777,
            "count": 0
           },
           {
            "bin_start": 1.5343251860437777,
            "bin_end": 2.000941124722839,
            "count": 1
           },
           {
            "bin_start": 2.000941124722839,
            "bin_end": 2.4675570634019004,
            "count": 2
           },
           {
            "bin_start": 2.4675570634019004,
            "bin_end": 2.9341730020809615,
            "count": 0
           },
           {
            "bin_start": 2.9341730020809615,
            "bin_end": 3.4007889407600227,
            "count": 0
           },
           {
            "bin_start": 3.4007889407600227,
            "bin_end": 3.8674048794390847,
            "count": 1
           }
          ]
         }
        },
        {
         "name": "1_3",
         "dtype": "float64",
         "stats": {
          "unique_count": 51,
          "nan_count": 6,
          "min": "-0.7994871936562413",
          "max": "3.809419344211279",
          "histogram": [
           {
            "bin_start": -0.7994871936562413,
            "bin_end": -0.3385965398694893,
            "count": 25
           },
           {
            "bin_start": -0.3385965398694893,
            "bin_end": 0.12229411391726275,
            "count": 14
           },
           {
            "bin_start": 0.12229411391726275,
            "bin_end": 0.5831847677040147,
            "count": 5
           },
           {
            "bin_start": 0.5831847677040147,
            "bin_end": 1.0440754214907668,
            "count": 3
           },
           {
            "bin_start": 1.0440754214907668,
            "bin_end": 1.504966075277519,
            "count": 0
           },
           {
            "bin_start": 1.504966075277519,
            "bin_end": 1.9658567290642708,
            "count": 2
           },
           {
            "bin_start": 1.9658567290642708,
            "bin_end": 2.426747382851023,
            "count": 1
           },
           {
            "bin_start": 2.426747382851023,
            "bin_end": 2.887638036637775,
            "count": 0
           },
           {
            "bin_start": 2.887638036637775,
            "bin_end": 3.3485286904245273,
            "count": 0
           },
           {
            "bin_start": 3.3485286904245273,
            "bin_end": 3.809419344211279,
            "count": 1
           }
          ]
         }
        },
        {
         "name": "1_4",
         "dtype": "float64",
         "stats": {
          "unique_count": 51,
          "nan_count": 6,
          "min": "-0.8003561936921053",
          "max": "3.7482685716898025",
          "histogram": [
           {
            "bin_start": -0.8003561936921053,
            "bin_end": -0.3454937171539146,
            "count": 25
           },
           {
            "bin_start": -0.3454937171539146,
            "bin_end": 0.10936875938427615,
            "count": 14
           },
           {
            "bin_start": 0.10936875938427615,
            "bin_end": 0.5642312359224668,
            "count": 5
           },
           {
            "bin_start": 0.5642312359224668,
            "bin_end": 1.0190937124606576,
            "count": 3
           },
           {
            "bin_start": 1.0190937124606576,
            "bin_end": 1.4739561889988484,
            "count": 0
           },
           {
            "bin_start": 1.4739561889988484,
            "bin_end": 1.928818665537039,
            "count": 2
           },
           {
            "bin_start": 1.928818665537039,
            "bin_end": 2.38368114207523,
            "count": 1
           },
           {
            "bin_start": 2.38368114207523,
            "bin_end": 2.8385436186134205,
            "count": 0
           },
           {
            "bin_start": 2.8385436186134205,
            "bin_end": 3.2934060951516115,
            "count": 0
           },
           {
            "bin_start": 3.2934060951516115,
            "bin_end": 3.7482685716898025,
            "count": 1
           }
          ]
         }
        },
        {
         "name": "pred",
         "dtype": "float64",
         "stats": {
          "unique_count": 57,
          "nan_count": 0,
          "min": "32.12650971063377",
          "max": "34766.92268029888",
          "histogram": [
           {
            "bin_start": 32.12650971063377,
            "bin_end": 3505.606126769458,
            "count": 22
           },
           {
            "bin_start": 3505.606126769458,
            "bin_end": 6979.085743828282,
            "count": 14
           },
           {
            "bin_start": 6979.085743828282,
            "bin_end": 10452.565360887107,
            "count": 8
           },
           {
            "bin_start": 10452.565360887107,
            "bin_end": 13926.04497794593,
            "count": 5
           },
           {
            "bin_start": 13926.04497794593,
            "bin_end": 17399.524595004754,
            "count": 2
           },
           {
            "bin_start": 17399.524595004754,
            "bin_end": 20873.00421206358,
            "count": 2
           },
           {
            "bin_start": 20873.00421206358,
            "bin_end": 24346.483829122404,
            "count": 1
           },
           {
            "bin_start": 24346.483829122404,
            "bin_end": 27819.963446181227,
            "count": 0
           },
           {
            "bin_start": 27819.963446181227,
            "bin_end": 31293.44306324005,
            "count": 1
           },
           {
            "bin_start": 31293.44306324005,
            "bin_end": 34766.92268029888,
            "count": 2
           }
          ]
         }
        },
        {
         "name": "target_original",
         "dtype": "float64",
         "stats": {
          "unique_count": 57,
          "nan_count": 0,
          "min": "180.1179487179488",
          "max": "46666.58534115138",
          "histogram": [
           {
            "bin_start": 180.1179487179488,
            "bin_end": 4828.764687961292,
            "count": 22
           },
           {
            "bin_start": 4828.764687961292,
            "bin_end": 9477.411427204635,
            "count": 14
           },
           {
            "bin_start": 9477.411427204635,
            "bin_end": 14126.058166447978,
            "count": 9
           },
           {
            "bin_start": 14126.058166447978,
            "bin_end": 18774.70490569132,
            "count": 5
           },
           {
            "bin_start": 18774.70490569132,
            "bin_end": 23423.351644934664,
            "count": 3
           },
           {
            "bin_start": 23423.351644934664,
            "bin_end": 28071.998384178005,
            "count": 1
           },
           {
            "bin_start": 28071.998384178005,
            "bin_end": 32720.64512342135,
            "count": 0
           },
           {
            "bin_start": 32720.64512342135,
            "bin_end": 37369.29186266469,
            "count": 1
           },
           {
            "bin_start": 37369.29186266469,
            "bin_end": 42017.938601908034,
            "count": 0
           },
           {
            "bin_start": 42017.938601908034,
            "bin_end": 46666.58534115138,
            "count": 2
           }
          ]
         }
        },
        {
         "name": "total_diff",
         "dtype": "float64",
         "stats": {
          "unique_count": 57,
          "nan_count": 0,
          "min": "50.51282051282051",
          "max": "14762.223347547975",
          "histogram": [
           {
            "bin_start": 50.51282051282051,
            "bin_end": 1521.683873216336,
            "count": 34
           },
           {
            "bin_start": 1521.683873216336,
            "bin_end": 2992.854925919851,
            "count": 16
           },
           {
            "bin_start": 2992.854925919851,
            "bin_end": 4464.025978623366,
            "count": 4
           },
           {
            "bin_start": 4464.025978623366,
            "bin_end": 5935.197031326882,
            "count": 1
           },
           {
            "bin_start": 5935.197031326882,
            "bin_end": 7406.368084030398,
            "count": 0
           },
           {
            "bin_start": 7406.368084030398,
            "bin_end": 8877.539136733913,
            "count": 1
           },
           {
            "bin_start": 8877.539136733913,
            "bin_end": 10348.710189437428,
            "count": 0
           },
           {
            "bin_start": 10348.710189437428,
            "bin_end": 11819.881242140944,
            "count": 0
           },
           {
            "bin_start": 11819.881242140944,
            "bin_end": 13291.05229484446,
            "count": 0
           },
           {
            "bin_start": 13291.05229484446,
            "bin_end": 14762.223347547975,
            "count": 1
           }
          ]
         }
        },
        {
         "name": "perc_diff",
         "dtype": "float64",
         "stats": {
          "unique_count": 57,
          "nan_count": 0,
          "min": "-433.49893216444923",
          "max": "0.08899966960471864",
          "histogram": [
           {
            "bin_start": -433.49893216444923,
            "bin_end": -390.14013898104383,
            "count": 2
           },
           {
            "bin_start": -390.14013898104383,
            "bin_end": -346.78134579763844,
            "count": 2
           },
           {
            "bin_start": -346.78134579763844,
            "bin_end": -303.42255261423304,
            "count": 0
           },
           {
            "bin_start": -303.42255261423304,
            "bin_end": -260.06375943082764,
            "count": 4
           },
           {
            "bin_start": -260.06375943082764,
            "bin_end": -216.70496624742225,
            "count": 6
           },
           {
            "bin_start": -216.70496624742225,
            "bin_end": -173.34617306401685,
            "count": 4
           },
           {
            "bin_start": -173.34617306401685,
            "bin_end": -129.98737988061146,
            "count": 7
           },
           {
            "bin_start": -129.98737988061146,
            "bin_end": -86.62858669720606,
            "count": 8
           },
           {
            "bin_start": -86.62858669720606,
            "bin_end": -43.269793513800664,
            "count": 13
           },
           {
            "bin_start": -43.269793513800664,
            "bin_end": 0.08899966960471864,
            "count": 11
           }
          ]
         }
        },
        {
         "name": "_deepnote_index_column",
         "dtype": "object"
        }
       ],
       "rows": [
        {
         "1": 4.486848508670383,
         "2": 4.513053268212613,
         "3": 4.528133478347056,
         "4": 4.511246130206786,
         "target": 4.5497281152093745,
         "0_1": -0.15564201084343285,
         "0_2": -0.1518016960257739,
         "0_3": -0.15241808291705197,
         "0_4": -0.15523306965008946,
         "1_1": -0.29983435106152845,
         "1_2": -0.30215195495429226,
         "1_3": -0.30605880385498274,
         "1_4": -0.3096686835558399,
         "pred": 5766.718250384824,
         "target_original": 7612.167463120715,
         "total_diff": 1845.4390193226677,
         "perc_diff": -145.22201708417376,
         "_deepnote_index_column": "Louisiana"
        },
        {
         "1": 4.200248177530462,
         "2": 4.251548629496178,
         "3": 4.277051469618966,
         "4": 4.297220402156086,
         "target": 4.173329241176484,
         "0_1": -0.7007560236929345,
         "0_2": -0.7010592135591489,
         "0_3": -0.7012983035160695,
         "0_4": -0.7005136881709169,
         "1_1": -0.6735554841326882,
         "1_2": -0.6743463201441852,
         "1_3": -0.6751533839807791,
         "1_4": -0.675466851469549,
         "pred": 1735.7277295725714,
         "target_original": 2806.396059701493,
         "total_diff": 1070.6841791044776,
         "perc_diff": -50.06670361734254,
         "_deepnote_index_column": "Maine"
        },
        {
         "1": 4.850418528326982,
         "2": 4.769395632910735,
         "3": 4.7960168664939955,
         "4": 4.734113636450668,
         "target": 4.904427192101239,
         "0_1": 0.03231515097547591,
         "0_2": 0.029744933938179403,
         "0_3": 0.028700402927125536,
         "0_4": 0.02485981764567936,
         "1_1": -0.09243625473345335,
         "1_2": -0.09696435887302686,
         "1_3": -0.1021832274357563,
         "1_4": -0.10737207452199433,
         "pred": 10276.385950791437,
         "target_original": 13344.607107619222,
         "total_diff": 3068.217613740179,
         "perc_diff": -251.4361957115724,
         "_deepnote_index_column": "Maryland"
        },
        {
         "1": 4.914377068082885,
         "2": 4.896124121924815,
         "3": 4.829683549762653,
         "4": 4.784327307686925,
         "target": 4.920783332793499,
         "0_1": 0.1318349932403155,
         "0_2": 0.1247585796273743,
         "0_3": 0.12022614806775292,
         "0_4": 0.11517361471263829,
         "1_1": 0.031167573274824726,
         "1_2": 0.02661675018006785,
         "1_3": 0.02137867869092634,
         "1_4": 0.01591476996869234,
         "pred": 9538.16196831501,
         "target_original": 10843.634039058223,
         "total_diff": 1305.4699762730424,
         "perc_diff": -197.74393293449225,
         "_deepnote_index_column": "Massachusetts"
        },
        {
         "1": 4.873192014161049,
         "2": 4.929617832409038,
         "3": 4.9960042685148105,
         "4": 5.016031780818837,
         "target": 4.7961595583440895,
         "0_1": 0.5754983230978015,
         "0_2": 0.571356711660111,
         "0_3": 0.5687848718403355,
         "0_4": 0.5694634653946472,
         "1_1": 0.4521195209313622,
         "1_2": 0.4482921883738134,
         "1_3": 0.4437662479443185,
         "1_4": 0.4407981787274819,
         "pred": 9374.650714010753,
         "target_original": 12516.749974640745,
         "total_diff": 3142.1029585798815,
         "perc_diff": -256.16298976073926,
         "_deepnote_index_column": "Michigan"
        },
        {
         "1": 4.607562401789785,
         "2": 4.556417218808581,
         "3": 4.5326170529555165,
         "4": 4.551660575215203,
         "target": 4.671257423661395,
         "0_1": -0.024673184398625397,
         "0_2": -0.03236300980158868,
         "0_3": -0.03906158555268101,
         "0_4": -0.044454632771843576,
         "1_1": -0.17007260434286128,
         "1_2": -0.1755524704264823,
         "1_3": -0.1812443800918137,
         "1_4": -0.18546523740886525,
         "pred": 5164.805149923361,
         "target_original": 5927.022247376003,
         "total_diff": 762.2121835768677,
         "perc_diff": -84.84993283848306,
         "_deepnote_index_column": "Minnesota"
        },
        {
         "1": 4.479916571343056,
         "2": 4.478546039024744,
         "3": 4.470678079769303,
         "4": 4.410962661522933,
         "target": 4.558599090564972,
         "0_1": -0.4216817874628936,
         "0_2": -0.42000301895292363,
         "0_3": -0.41829909731399934,
         "0_4": -0.4165186344331981,
         "1_1": -0.5005920213452582,
         "1_2": -0.5026253678344595,
         "1_3": -0.5047330918554884,
         "1_4": -0.5063602017887489,
         "pred": 6012.210849706632,
         "target_original": 7319.395929694726,
         "total_diff": 1307.1905642923218,
         "perc_diff": -139.02056844664045,
         "_deepnote_index_column": "Mississippi"
        },
        {
         "1": 4.742317005247987,
         "2": 4.732549936576223,
         "3": 4.789797914955025,
         "4": 4.769978235179019,
         "target": 4.777397221491837,
         "0_1": 0.036166284343258,
         "0_2": 0.032899082216506656,
         "0_3": 0.03148834328495413,
         "0_4": 0.0287604458801213,
         "1_1": -0.08471911249149999,
         "1_2": -0.08810153217671007,
         "1_3": -0.09217742092256694,
         "1_4": -0.09507625141880217,
         "pred": 8856.23915427803,
         "target_original": 10632.501329885483,
         "total_diff": 1776.2552641300333,
         "perc_diff": -200.45902995286926,
         "_deepnote_index_column": "Missouri"
        },
        {
         "1": 4.0461112932605365,
         "2": 3.9831979972222413,
         "3": 3.9461263554134787,
         "4": 3.8528692767764423,
         "target": 4.153319248181845,
         "0_1": -0.7180281093730946,
         "0_2": -0.7200073631117867,
         "0_3": -0.7217929648038642,
         "0_4": -0.7234376548810844,
         "1_1": -0.7309197641223356,
         "1_2": -0.7324400408735848,
         "1_3": -0.733785057113268,
         "1_4": -0.7347373599848357,
         "pred": 1385.6993161311636,
         "target_original": 2029.4740517546973,
         "total_diff": 643.7582417582418,
         "perc_diff": -42.814716844819316,
         "_deepnote_index_column": "Montana"
        },
        {
         "1": 4.399487065023306,
         "2": 4.402630113786988,
         "3": 4.3574675867228905,
         "4": 4.292507738424513,
         "target": 4.4420403394543495,
         "0_1": -0.5712631179439507,
         "0_2": -0.5733318951845733,
         "0_3": -0.5759705395512252,
         "0_4": -0.5785099237207556,
         "1_1": -0.6402151469334548,
         "1_2": -0.6414070806894976,
         "1_3": -0.6430966677495692,
         "1_4": -0.64424099988519,
         "pred": 4646.659332343028,
         "target_original": 5775.121106918238,
         "total_diff": 1128.4535849056604,
         "perc_diff": -78.5661626079089,
         "_deepnote_index_column": "Nebraska"
        }
       ]
      },
      "text/plain": "                            target         1         2         3         4  \\\nstate                                                                        \nAlabama                   4.731577  4.765754  4.876559  4.929091  4.888554   \nAlaska                    4.016383  3.912151  3.786894  3.753294  3.586644   \nAmerican Samoa            3.545848  3.651175  3.699190  3.417921  3.271268   \nArizona                   5.010179  4.913235  4.866397  4.825870  4.738133   \nArkansas                  4.516073  4.454019  4.460854  4.527186  4.479630   \nCalifornia                5.594946  5.534571  5.500199  5.449106  5.417563   \nColorado                  4.699988  4.624256  4.576409  4.554724  4.510389   \nConnecticut               4.324508  4.406576  4.453731  4.625364  4.607304   \nDelaware                  4.199545  4.174130  4.110285  4.128022  4.057584   \nDistrict of Columbia      3.912810  3.885107  3.836543  3.824946  3.771535   \nFlorida                   5.516484  5.452245  5.444666  5.443560  5.452864   \nGeorgia                   5.054122  5.015881  4.965378  4.995942  4.987738   \nGuam                      3.101695  3.065289  2.816299  2.885681  2.681427   \nHawaii                    4.258134  4.180425  4.132201  4.029869  3.927454   \nIdaho                     4.178345  4.085800  4.022670  3.952912  3.881110   \nIllinois                  5.138363  5.084166  5.084070  5.093540  5.067026   \nIndiana                   4.747372  4.740626  4.744731  4.758442  4.743021   \nIowa                      4.548111  4.495745  4.471200  4.476418  4.400425   \nKansas                    4.668138  4.643274  4.618060  4.608105  4.573974   \nKentucky                  4.581371  4.557439  4.585622  4.591646  4.604607   \nLouisiana                 4.549728  4.486849  4.513053  4.528133  4.511246   \nMaine                     4.173329  4.200248  4.251549  4.277051  4.297220   \nMaryland                  4.904427  4.850419  4.769396  4.796017  4.734114   \nMassachusetts             4.920783  4.914377  4.896124  4.829684  4.784327   \nMichigan                  4.796160  4.873192  4.929618  4.996004  5.016032   \nMinnesota                 4.671257  4.607562  4.556417  4.532617  4.551661   \nMississippi               4.558599  4.479917  4.478546  4.470678  4.410963   \nMissouri                  4.777397  4.742317  4.732550  4.789798  4.769978   \nMontana                   4.153319  4.046111  3.983198  3.946126  3.852869   \nNebraska                  4.442040  4.399487  4.402630  4.357468  4.292508   \nNevada                    4.535996  4.432161  4.414504  4.433481  4.385150   \nNew Hampshire             4.239627  4.181140  4.161664  4.104942  4.093773   \nNew Jersey                5.176450  5.139767  5.169265  5.180674  5.151427   \nNew Mexico                4.220859  4.163621  4.121711  4.156831  4.070682   \nNew York                  5.310177  5.307155  5.297981  5.304048  5.260740   \nNorth Carolina            5.105394  5.149292  5.116720  5.135273  5.129494   \nNorth Dakota              4.017294  3.948269  3.806638  3.958162  3.909755   \nNorthern Mariana Islands  2.423388  2.728583  2.754993  2.641592  2.774454   \nOhio                      5.019159  4.999342  5.008872  4.919837  4.968862   \nOklahoma                  4.672880  4.620370  4.554859  4.548858  4.486869   \nOregon                    4.557188  4.486407  4.517188  4.471835  4.420705   \nPennsylvania              5.102066  5.069159  5.066339  5.057707  5.031547   \nPuerto Rico               3.856098  3.764211  4.020567  4.069554  4.182021   \nRhode Island              4.090535  4.044877  4.186735  4.059754  4.028143   \nSouth Carolina            4.779643  4.714863  4.683430  4.713997  4.680883   \nSouth Dakota              4.133460  4.060035  3.999607  3.968422  4.011964   \nTennessee                 4.928882  4.939059  4.898942  4.848719  4.837899   \nTexas                     5.455966  5.428215  5.394217  5.385662  5.371246   \nUnknown                   4.307169  0.503611  0.445176  0.331992  0.051546   \nUtah                      4.332633  4.241434  4.238308  4.216303  4.131400   \nVermont                   3.899906  3.893556  3.924392  3.912004  3.825085   \nVirgin Islands            2.953036  2.985614  3.084154  2.995532  2.956523   \nVirginia                  4.957227  4.882367  4.849227  4.831726  4.852941   \nWashington                4.896520  4.807562  4.754399  4.743317  4.695378   \nWest Virginia             4.187109  4.241998  4.272098  4.307053  4.304519   \nWisconsin                 4.690639  4.694598  4.687254  4.694370  4.686876   \nWyoming                   4.043106  3.953512  3.891862  3.813321  3.832198   \n\n                               0_1       0_2       0_3       0_4       1_1  \\\nstate                                                                        \nAlabama                  -0.162520 -0.162634 -0.162152 -0.162000 -0.236737   \nAlaska                   -0.738980 -0.738410 -0.739370 -0.739752 -0.786242   \nAmerican Samoa                 NaN       NaN       NaN       NaN       NaN   \nArizona                   0.207604  0.196971  0.184604  0.173674  0.015564   \nArkansas                 -0.422374 -0.423939 -0.425101 -0.426399 -0.489533   \nCalifornia                5.445280  5.431557  5.412786  5.376525  3.914986   \nColorado                  0.018745  0.007310 -0.006639 -0.024039 -0.190727   \nConnecticut              -0.366636 -0.366110 -0.364265 -0.362967 -0.383384   \nDelaware                 -0.733901 -0.734477 -0.734897 -0.735719 -0.741599   \nDistrict of Columbia     -0.749293 -0.751808 -0.754006 -0.756969 -0.798362   \nFlorida                   1.995818  1.953507  1.903172  1.856782  2.066368   \nGeorgia                   0.748833  0.736276  0.721506  0.709107  0.391708   \nGuam                           NaN       NaN       NaN       NaN       NaN   \nHawaii                   -0.574385 -0.572939 -0.573450 -0.575063 -0.652140   \nIdaho                    -0.600999 -0.606115 -0.610515 -0.612901 -0.664133   \nIllinois                  1.047520  1.060371  1.074277  1.084122  0.740545   \nIndiana                   0.136116  0.132698  0.129465  0.127967 -0.036773   \nIowa                     -0.401122 -0.403392 -0.405209 -0.408003 -0.473787   \nKansas                   -0.413324 -0.412155 -0.411754 -0.413781 -0.516354   \nKentucky                 -0.215316 -0.217616 -0.218388 -0.219366 -0.296992   \nLouisiana                -0.155642 -0.151802 -0.152418 -0.155233 -0.299834   \nMaine                    -0.700756 -0.701059 -0.701298 -0.700514 -0.673555   \nMaryland                  0.032315  0.029745  0.028700  0.024860 -0.092436   \nMassachusetts             0.131835  0.124759  0.120226  0.115174  0.031168   \nMichigan                  0.575498  0.571357  0.568785  0.569463  0.452120   \nMinnesota                -0.024673 -0.032363 -0.039062 -0.044455 -0.170073   \nMississippi              -0.421682 -0.420003 -0.418299 -0.416519 -0.500592   \nMissouri                  0.036166  0.032899  0.031488  0.028760 -0.084719   \nMontana                  -0.718028 -0.720007 -0.721793 -0.723438 -0.730920   \nNebraska                 -0.571263 -0.573332 -0.575971 -0.578510 -0.640215   \nNevada                   -0.404766 -0.412725 -0.420074 -0.427172 -0.493494   \nNew Hampshire            -0.690915 -0.691884 -0.692595 -0.692834 -0.679465   \nNew Jersey                0.406448  0.404752  0.407474  0.409549  0.312633   \nNew Mexico               -0.554621 -0.553396 -0.552650 -0.551668 -0.606018   \nNew York                  2.028074  2.041380  2.052940  2.056700  1.675851   \nNorth Carolina            0.653459  0.639570  0.624579  0.614615  0.451763   \nNorth Dakota             -0.749480 -0.749732 -0.749981 -0.754010 -0.783444   \nNorthern Mariana Islands       NaN       NaN       NaN       NaN       NaN   \nOhio                      0.832752  0.826685  0.824107  0.820466  0.658330   \nOklahoma                 -0.226620 -0.226902 -0.229508 -0.236450 -0.382753   \nOregon                   -0.247577 -0.255544 -0.267782 -0.275603 -0.325517   \nPennsylvania              0.932376  0.929489  0.929601  0.929058  0.862530   \nPuerto Rico                    NaN       NaN       NaN       NaN       NaN   \nRhode Island             -0.718080 -0.717795 -0.718025 -0.718158 -0.729686   \nSouth Carolina           -0.143067 -0.150215 -0.157097 -0.165300 -0.211951   \nSouth Dakota             -0.736274 -0.738188 -0.739969 -0.740969 -0.763757   \nTennessee                 0.118073  0.107946  0.100679  0.094020 -0.006950   \nTexas                     3.765884  3.715102  3.650929  3.569424  2.305769   \nUnknown                        NaN       NaN       NaN       NaN       NaN   \nUtah                     -0.308681 -0.317305 -0.326718 -0.333199 -0.571175   \nVermont                  -0.787337 -0.787467 -0.787135 -0.787149 -0.782392   \nVirgin Islands                 NaN       NaN       NaN       NaN       NaN   \nVirginia                  0.417973  0.410374  0.404800  0.398453  0.206701   \nWashington                0.311310  0.287503  0.263717  0.244507  0.062861   \nWest Virginia            -0.626696 -0.623965 -0.621622 -0.620256 -0.614600   \nWisconsin                -0.030085 -0.031952 -0.032171 -0.033151 -0.112231   \nWyoming                  -0.783313 -0.781783 -0.781225 -0.781926 -0.798589   \n\n                               1_2       1_3       1_4          pred  \\\nstate                                                                  \nAlabama                  -0.240379 -0.244837 -0.248653  10008.276006   \nAlaska                   -0.786586 -0.787076 -0.787268   1568.171933   \nAmerican Samoa                 NaN       NaN       NaN    168.569960   \nArizona                  -0.003810 -0.023994 -0.042012  11657.023629   \nArkansas                 -0.491847 -0.494542 -0.496743   6906.682657   \nCalifornia                3.867405  3.809419  3.748269  31904.370839   \nColorado                 -0.200887 -0.212898 -0.224931   6330.305457   \nConnecticut              -0.383339 -0.383399 -0.383345   5339.039416   \nDelaware                 -0.743420 -0.745366 -0.747187   2682.402398   \nDistrict of Columbia     -0.798635 -0.799487 -0.800356   1236.042684   \nFlorida                   2.009058  1.943417  1.885768  34766.922680   \nGeorgia                   0.372584  0.351007  0.330796  13963.528986   \nGuam                           NaN       NaN       NaN    319.270533   \nHawaii                   -0.653734 -0.655994 -0.657801   1493.702774   \nIdaho                    -0.669195 -0.673852 -0.677333   1915.559127   \nIllinois                  0.737457  0.732163  0.727426  17672.695093   \nIndiana                  -0.041149 -0.046395 -0.050199   9300.506414   \nIowa                     -0.474962 -0.476538 -0.477528   5570.701445   \nKansas                   -0.517500 -0.518983 -0.519892   6390.762831   \nKentucky                 -0.299604 -0.302682 -0.305719   6652.999563   \nLouisiana                -0.302152 -0.306059 -0.309669   5766.718250   \nMaine                    -0.674346 -0.675153 -0.675467   1735.727730   \nMaryland                 -0.096964 -0.102183 -0.107372  10276.385951   \nMassachusetts             0.026617  0.021379  0.015915   9538.161968   \nMichigan                  0.448292  0.443766  0.440798   9374.650714   \nMinnesota                -0.175552 -0.181244 -0.185465   5164.805150   \nMississippi              -0.502625 -0.504733 -0.506360   6012.210850   \nMissouri                 -0.088102 -0.092177 -0.095076   8856.239154   \nMontana                  -0.732440 -0.733785 -0.734737   1385.699316   \nNebraska                 -0.641407 -0.643097 -0.644241   4646.659332   \nNevada                   -0.501658 -0.509953 -0.517929   5166.346906   \nNew Hampshire            -0.680501 -0.681691 -0.682482   1851.790983   \nNew Jersey                0.309062  0.304248  0.299973  18618.063255   \nNew Mexico               -0.607612 -0.609321 -0.610451   2505.752965   \nNew York                  1.671264  1.662135  1.653787  23478.642476   \nNorth Carolina            0.432220  0.410943  0.391585  12829.389966   \nNorth Dakota             -0.783489 -0.783559 -0.784341   1519.370841   \nNorthern Mariana Islands       NaN       NaN       NaN    129.606570   \nOhio                      0.655124  0.650665  0.647816  13688.207482   \nOklahoma                 -0.385034 -0.388473 -0.391567   5807.689317   \nOregon                   -0.333836 -0.343687 -0.351790   4907.579090   \nPennsylvania              0.861341  0.859225  0.858085  14773.448316   \nPuerto Rico                    NaN       NaN       NaN   1221.036282   \nRhode Island             -0.729805 -0.730048 -0.730179   1350.650517   \nSouth Carolina           -0.223221 -0.235576 -0.247250   9426.375949   \nSouth Dakota             -0.764751 -0.765655 -0.766213   1658.856046   \nTennessee                -0.015463 -0.024697 -0.032966  13094.920292   \nTexas                     2.248578  2.185494  2.123262  30532.670058   \nUnknown                        NaN       NaN       NaN     32.126510   \nUtah                     -0.579650 -0.587673 -0.594245   3189.122328   \nVermont                  -0.782554 -0.782560 -0.782619   1048.736883   \nVirgin Islands                 NaN       NaN       NaN    364.302047   \nVirginia                  0.197277  0.186812  0.176805  11476.390965   \nWashington                0.047921  0.031864  0.017852   8125.555460   \nWest Virginia            -0.613812 -0.613400 -0.613052   2991.149952   \nWisconsin                -0.116293 -0.120374 -0.123075   6386.537045   \nWyoming                  -0.798755 -0.799054 -0.799364   1539.848411   \n\n                          target_original    total_diff   perc_diff  \nstate                                                                \nAlabama                      12181.742127   2173.458963 -178.796076  \nAlaska                        1963.029078    394.864362  -24.000606  \nAmerican Samoa                 242.777778     74.222222   -0.584837  \nArizona                      13864.593295   2207.584037 -119.041707  \nArkansas                      8524.247319   1617.560644 -110.950490  \nCalifornia                   46666.585341  14762.223348 -433.498932  \nColorado                      8112.530875   1782.225050  -98.736973  \nConnecticut                   5869.925350    530.900495 -124.467803  \nDelaware                      3519.645469    837.243879  -77.102835  \nDistrict of Columbia          1566.511931    330.485876  -70.076609  \nFlorida                      43096.155662   8329.245270 -402.944732  \nGeorgia                      16272.917528   2309.389283 -227.942085  \nGuam                           470.111675    150.824873  -20.989134  \nHawaii                        2187.180915    693.468491  -43.766150  \nIdaho                         2624.298039    708.733150  -50.010457  \nIllinois                     20264.614865   2591.919743 -296.553491  \nIndiana                      10478.461972   1177.970117 -173.899942  \nIowa                          6473.044704    902.332862  -92.173485  \nKansas                        7868.575950   1477.827786 -142.083453  \nKentucky                      8264.023510   1611.038422 -160.807527  \nLouisiana                     7612.167463   1845.439019 -145.222017  \nMaine                         2806.396060   1070.684179  -50.066704  \nMaryland                     13344.607108   3068.217614 -251.436196  \nMassachusetts                10843.634039   1305.469976 -197.743933  \nMichigan                     12516.749975   3142.102959 -256.162990  \nMinnesota                     5927.022247    762.212184  -84.849933  \nMississippi                   7319.395930   1307.190564 -139.020568  \nMissouri                     10632.501330   1776.255264 -200.459030  \nMontana                       2029.474052    643.758242  -42.814717  \nNebraska                      5775.121107   1128.453585  -78.566163  \nNevada                        6527.995739   1361.665658  -82.721417  \nNew Hampshire                 2633.385316    781.609442  -64.376495  \nNew Jersey                   21388.264275   2770.195803 -225.143800  \nNew Mexico                    3340.312040    834.565254  -47.911681  \nNew York                     26209.089480   2730.453825 -385.393943  \nNorth Carolina               17491.585840   4662.200894 -288.392196  \nNorth Dakota                  1975.106036    455.731071  -72.895931  \nNorthern Mariana Islands       180.117949     50.512821   -4.650818  \nOhio                         14807.952569   1119.728845 -279.867919  \nOklahoma                      7541.148605   1733.468827 -131.868778  \nOregon                        6396.414325   1488.821000  -66.041813  \nPennsylvania                 19181.178529   4407.716919 -292.486322  \nPuerto Rico                   1496.036527    274.991632  -35.742626  \nRhode Island                  2550.799513   1200.169211  -35.332032  \nSouth Carolina               12178.683713   2752.296665 -167.954785  \nSouth Dakota                  2032.081979    373.243816  -49.716070  \nTennessee                    15097.128508   2002.211998 -232.460801  \nTexas                        33371.135699   2838.473190 -386.958961  \nUnknown                        534.268956    501.828326    0.089000  \nUtah                          3991.044904    801.932546 -106.093653  \nVermont                       1543.745645    495.002280  -32.880429  \nVirgin Islands                 456.870455     92.567045   -4.836266  \nVirginia                     15244.817724   3768.435449 -219.771339  \nWashington                   10644.966846   2519.423291 -109.881903  \nWest Virginia                 4011.929521   1020.809859  -91.344043  \nWisconsin                     7095.406585    708.867700 -156.537237  \nWyoming                       2127.269171    587.415483  -35.183973  ",
      "text/html": "<div>\n<style scoped>\n    .dataframe tbody tr th:only-of-type {\n        vertical-align: middle;\n    }\n\n    .dataframe tbody tr th {\n        vertical-align: top;\n    }\n\n    .dataframe thead th {\n        text-align: right;\n    }\n</style>\n<table border=\"1\" class=\"dataframe\">\n  <thead>\n    <tr style=\"text-align: right;\">\n      <th></th>\n      <th>target</th>\n      <th>1</th>\n      <th>2</th>\n      <th>3</th>\n      <th>4</th>\n      <th>0_1</th>\n      <th>0_2</th>\n      <th>0_3</th>\n      <th>0_4</th>\n      <th>1_1</th>\n      <th>1_2</th>\n      <th>1_3</th>\n      <th>1_4</th>\n      <th>pred</th>\n      <th>target_original</th>\n      <th>total_diff</th>\n      <th>perc_diff</th>\n    </tr>\n    <tr>\n      <th>state</th>\n      <th></th>\n      <th></th>\n      <th></th>\n      <th></th>\n      <th></th>\n      <th></th>\n      <th></th>\n      <th></th>\n      <th></th>\n      <th></th>\n      <th></th>\n      <th></th>\n      <th></th>\n      <th></th>\n      <th></th>\n      <th></th>\n      <th></th>\n    </tr>\n  </thead>\n  <tbody>\n    <tr>\n      <th>Alabama</th>\n      <td>4.731577</td>\n      <td>4.765754</td>\n      <td>4.876559</td>\n      <td>4.929091</td>\n      <td>4.888554</td>\n      <td>-0.162520</td>\n      <td>-0.162634</td>\n      <td>-0.162152</td>\n      <td>-0.162000</td>\n      <td>-0.236737</td>\n      <td>-0.240379</td>\n      <td>-0.244837</td>\n      <td>-0.248653</td>\n      <td>10008.276006</td>\n      <td>12181.742127</td>\n      <td>2173.458963</td>\n      <td>-178.796076</td>\n    </tr>\n    <tr>\n      <th>Alaska</th>\n      <td>4.016383</td>\n      <td>3.912151</td>\n      <td>3.786894</td>\n      <td>3.753294</td>\n      <td>3.586644</td>\n      <td>-0.738980</td>\n      <td>-0.738410</td>\n      <td>-0.739370</td>\n      <td>-0.739752</td>\n      <td>-0.786242</td>\n      <td>-0.786586</td>\n      <td>-0.787076</td>\n      <td>-0.787268</td>\n      <td>1568.171933</td>\n      <td>1963.029078</td>\n      <td>394.864362</td>\n      <td>-24.000606</td>\n    </tr>\n    <tr>\n      <th>American Samoa</th>\n      <td>3.545848</td>\n      <td>3.651175</td>\n      <td>3.699190</td>\n      <td>3.417921</td>\n      <td>3.271268</td>\n      <td>NaN</td>\n      <td>NaN</td>\n      <td>NaN</td>\n      <td>NaN</td>\n      <td>NaN</td>\n      <td>NaN</td>\n      <td>NaN</td>\n      <td>NaN</td>\n      <td>168.569960</td>\n      <td>242.777778</td>\n      <td>74.222222</td>\n      <td>-0.584837</td>\n    </tr>\n    <tr>\n      <th>Arizona</th>\n      <td>5.010179</td>\n      <td>4.913235</td>\n      <td>4.866397</td>\n      <td>4.825870</td>\n      <td>4.738133</td>\n      <td>0.207604</td>\n      <td>0.196971</td>\n      <td>0.184604</td>\n      <td>0.173674</td>\n      <td>0.015564</td>\n      <td>-0.003810</td>\n      <td>-0.023994</td>\n      <td>-0.042012</td>\n      <td>11657.023629</td>\n      <td>13864.593295</td>\n      <td>2207.584037</td>\n      <td>-119.041707</td>\n    </tr>\n    <tr>\n      <th>Arkansas</th>\n      <td>4.516073</td>\n      <td>4.454019</td>\n      <td>4.460854</td>\n      <td>4.527186</td>\n      <td>4.479630</td>\n      <td>-0.422374</td>\n      <td>-0.423939</td>\n      <td>-0.425101</td>\n      <td>-0.426399</td>\n      <td>-0.489533</td>\n      <td>-0.491847</td>\n      <td>-0.494542</td>\n      <td>-0.496743</td>\n      <td>6906.682657</td>\n      <td>8524.247319</td>\n      <td>1617.560644</td>\n      <td>-110.950490</td>\n    </tr>\n    <tr>\n      <th>California</th>\n      <td>5.594946</td>\n      <td>5.534571</td>\n      <td>5.500199</td>\n      <td>5.449106</td>\n      <td>5.417563</td>\n      <td>5.445280</td>\n      <td>5.431557</td>\n      <td>5.412786</td>\n      <td>5.376525</td>\n      <td>3.914986</td>\n      <td>3.867405</td>\n      <td>3.809419</td>\n      <td>3.748269</td>\n      <td>31904.370839</td>\n      <td>46666.585341</td>\n      <td>14762.223348</td>\n      <td>-433.498932</td>\n    </tr>\n    <tr>\n      <th>Colorado</th>\n      <td>4.699988</td>\n      <td>4.624256</td>\n      <td>4.576409</td>\n      <td>4.554724</td>\n      <td>4.510389</td>\n      <td>0.018745</td>\n      <td>0.007310</td>\n      <td>-0.006639</td>\n      <td>-0.024039</td>\n      <td>-0.190727</td>\n      <td>-0.200887</td>\n      <td>-0.212898</td>\n      <td>-0.224931</td>\n      <td>6330.305457</td>\n      <td>8112.530875</td>\n      <td>1782.225050</td>\n      <td>-98.736973</td>\n    </tr>\n    <tr>\n      <th>Connecticut</th>\n      <td>4.324508</td>\n      <td>4.406576</td>\n      <td>4.453731</td>\n      <td>4.625364</td>\n      <td>4.607304</td>\n      <td>-0.366636</td>\n      <td>-0.366110</td>\n      <td>-0.364265</td>\n      <td>-0.362967</td>\n      <td>-0.383384</td>\n      <td>-0.383339</td>\n      <td>-0.383399</td>\n      <td>-0.383345</td>\n      <td>5339.039416</td>\n      <td>5869.925350</td>\n      <td>530.900495</td>\n      <td>-124.467803</td>\n    </tr>\n    <tr>\n      <th>Delaware</th>\n      <td>4.199545</td>\n      <td>4.174130</td>\n      <td>4.110285</td>\n      <td>4.128022</td>\n      <td>4.057584</td>\n      <td>-0.733901</td>\n      <td>-0.734477</td>\n      <td>-0.734897</td>\n      <td>-0.735719</td>\n      <td>-0.741599</td>\n      <td>-0.743420</td>\n      <td>-0.745366</td>\n      <td>-0.747187</td>\n      <td>2682.402398</td>\n      <td>3519.645469</td>\n      <td>837.243879</td>\n      <td>-77.102835</td>\n    </tr>\n    <tr>\n      <th>District of Columbia</th>\n      <td>3.912810</td>\n      <td>3.885107</td>\n      <td>3.836543</td>\n      <td>3.824946</td>\n      <td>3.771535</td>\n      <td>-0.749293</td>\n      <td>-0.751808</td>\n      <td>-0.754006</td>\n      <td>-0.756969</td>\n      <td>-0.798362</td>\n      <td>-0.798635</td>\n      <td>-0.799487</td>\n      <td>-0.800356</td>\n      <td>1236.042684</td>\n      <td>1566.511931</td>\n      <td>330.485876</td>\n      <td>-70.076609</td>\n    </tr>\n    <tr>\n      <th>Florida</th>\n      <td>5.516484</td>\n      <td>5.452245</td>\n      <td>5.444666</td>\n      <td>5.443560</td>\n      <td>5.452864</td>\n      <td>1.995818</td>\n      <td>1.953507</td>\n      <td>1.903172</td>\n      <td>1.856782</td>\n      <td>2.066368</td>\n      <td>2.009058</td>\n      <td>1.943417</td>\n      <td>1.885768</td>\n      <td>34766.922680</td>\n      <td>43096.155662</td>\n      <td>8329.245270</td>\n      <td>-402.944732</td>\n    </tr>\n    <tr>\n      <th>Georgia</th>\n      <td>5.054122</td>\n      <td>5.015881</td>\n      <td>4.965378</td>\n      <td>4.995942</td>\n      <td>4.987738</td>\n      <td>0.748833</td>\n      <td>0.736276</td>\n      <td>0.721506</td>\n      <td>0.709107</td>\n      <td>0.391708</td>\n      <td>0.372584</td>\n      <td>0.351007</td>\n      <td>0.330796</td>\n      <td>13963.528986</td>\n      <td>16272.917528</td>\n      <td>2309.389283</td>\n      <td>-227.942085</td>\n    </tr>\n    <tr>\n      <th>Guam</th>\n      <td>3.101695</td>\n      <td>3.065289</td>\n      <td>2.816299</td>\n      <td>2.885681</td>\n      <td>2.681427</td>\n      <td>NaN</td>\n      <td>NaN</td>\n      <td>NaN</td>\n      <td>NaN</td>\n      <td>NaN</td>\n      <td>NaN</td>\n      <td>NaN</td>\n      <td>NaN</td>\n      <td>319.270533</td>\n      <td>470.111675</td>\n      <td>150.824873</td>\n      <td>-20.989134</td>\n    </tr>\n    <tr>\n      <th>Hawaii</th>\n      <td>4.258134</td>\n      <td>4.180425</td>\n      <td>4.132201</td>\n      <td>4.029869</td>\n      <td>3.927454</td>\n      <td>-0.574385</td>\n      <td>-0.572939</td>\n      <td>-0.573450</td>\n      <td>-0.575063</td>\n      <td>-0.652140</td>\n      <td>-0.653734</td>\n      <td>-0.655994</td>\n      <td>-0.657801</td>\n      <td>1493.702774</td>\n      <td>2187.180915</td>\n      <td>693.468491</td>\n      <td>-43.766150</td>\n    </tr>\n    <tr>\n      <th>Idaho</th>\n      <td>4.178345</td>\n      <td>4.085800</td>\n      <td>4.022670</td>\n      <td>3.952912</td>\n      <td>3.881110</td>\n      <td>-0.600999</td>\n      <td>-0.606115</td>\n      <td>-0.610515</td>\n      <td>-0.612901</td>\n      <td>-0.664133</td>\n      <td>-0.669195</td>\n      <td>-0.673852</td>\n      <td>-0.677333</td>\n      <td>1915.559127</td>\n      <td>2624.298039</td>\n      <td>708.733150</td>\n      <td>-50.010457</td>\n    </tr>\n    <tr>\n      <th>Illinois</th>\n      <td>5.138363</td>\n      <td>5.084166</td>\n      <td>5.084070</td>\n      <td>5.093540</td>\n      <td>5.067026</td>\n      <td>1.047520</td>\n      <td>1.060371</td>\n      <td>1.074277</td>\n      <td>1.084122</td>\n      <td>0.740545</td>\n      <td>0.737457</td>\n      <td>0.732163</td>\n      <td>0.727426</td>\n      <td>17672.695093</td>\n      <td>20264.614865</td>\n      <td>2591.919743</td>\n      <td>-296.553491</td>\n    </tr>\n    <tr>\n      <th>Indiana</th>\n      <td>4.747372</td>\n      <td>4.740626</td>\n      <td>4.744731</td>\n      <td>4.758442</td>\n      <td>4.743021</td>\n      <td>0.136116</td>\n      <td>0.132698</td>\n      <td>0.129465</td>\n      <td>0.127967</td>\n      <td>-0.036773</td>\n      <td>-0.041149</td>\n      <td>-0.046395</td>\n      <td>-0.050199</td>\n      <td>9300.506414</td>\n      <td>10478.461972</td>\n      <td>1177.970117</td>\n      <td>-173.899942</td>\n    </tr>\n    <tr>\n      <th>Iowa</th>\n      <td>4.548111</td>\n      <td>4.495745</td>\n      <td>4.471200</td>\n      <td>4.476418</td>\n      <td>4.400425</td>\n      <td>-0.401122</td>\n      <td>-0.403392</td>\n      <td>-0.405209</td>\n      <td>-0.408003</td>\n      <td>-0.473787</td>\n      <td>-0.474962</td>\n      <td>-0.476538</td>\n      <td>-0.477528</td>\n      <td>5570.701445</td>\n      <td>6473.044704</td>\n      <td>902.332862</td>\n      <td>-92.173485</td>\n    </tr>\n    <tr>\n      <th>Kansas</th>\n      <td>4.668138</td>\n      <td>4.643274</td>\n      <td>4.618060</td>\n      <td>4.608105</td>\n      <td>4.573974</td>\n      <td>-0.413324</td>\n      <td>-0.412155</td>\n      <td>-0.411754</td>\n      <td>-0.413781</td>\n      <td>-0.516354</td>\n      <td>-0.517500</td>\n      <td>-0.518983</td>\n      <td>-0.519892</td>\n      <td>6390.762831</td>\n      <td>7868.575950</td>\n      <td>1477.827786</td>\n      <td>-142.083453</td>\n    </tr>\n    <tr>\n      <th>Kentucky</th>\n      <td>4.581371</td>\n      <td>4.557439</td>\n      <td>4.585622</td>\n      <td>4.591646</td>\n      <td>4.604607</td>\n      <td>-0.215316</td>\n      <td>-0.217616</td>\n      <td>-0.218388</td>\n      <td>-0.219366</td>\n      <td>-0.296992</td>\n      <td>-0.299604</td>\n      <td>-0.302682</td>\n      <td>-0.305719</td>\n      <td>6652.999563</td>\n      <td>8264.023510</td>\n      <td>1611.038422</td>\n      <td>-160.807527</td>\n    </tr>\n    <tr>\n      <th>Louisiana</th>\n      <td>4.549728</td>\n      <td>4.486849</td>\n      <td>4.513053</td>\n      <td>4.528133</td>\n      <td>4.511246</td>\n      <td>-0.155642</td>\n      <td>-0.151802</td>\n      <td>-0.152418</td>\n      <td>-0.155233</td>\n      <td>-0.299834</td>\n      <td>-0.302152</td>\n      <td>-0.306059</td>\n      <td>-0.309669</td>\n      <td>5766.718250</td>\n      <td>7612.167463</td>\n      <td>1845.439019</td>\n      <td>-145.222017</td>\n    </tr>\n    <tr>\n      <th>Maine</th>\n      <td>4.173329</td>\n      <td>4.200248</td>\n      <td>4.251549</td>\n      <td>4.277051</td>\n      <td>4.297220</td>\n      <td>-0.700756</td>\n      <td>-0.701059</td>\n      <td>-0.701298</td>\n      <td>-0.700514</td>\n      <td>-0.673555</td>\n      <td>-0.674346</td>\n      <td>-0.675153</td>\n      <td>-0.675467</td>\n      <td>1735.727730</td>\n      <td>2806.396060</td>\n      <td>1070.684179</td>\n      <td>-50.066704</td>\n    </tr>\n    <tr>\n      <th>Maryland</th>\n      <td>4.904427</td>\n      <td>4.850419</td>\n      <td>4.769396</td>\n      <td>4.796017</td>\n      <td>4.734114</td>\n      <td>0.032315</td>\n      <td>0.029745</td>\n      <td>0.028700</td>\n      <td>0.024860</td>\n      <td>-0.092436</td>\n      <td>-0.096964</td>\n      <td>-0.102183</td>\n      <td>-0.107372</td>\n      <td>10276.385951</td>\n      <td>13344.607108</td>\n      <td>3068.217614</td>\n      <td>-251.436196</td>\n    </tr>\n    <tr>\n      <th>Massachusetts</th>\n      <td>4.920783</td>\n      <td>4.914377</td>\n      <td>4.896124</td>\n      <td>4.829684</td>\n      <td>4.784327</td>\n      <td>0.131835</td>\n      <td>0.124759</td>\n      <td>0.120226</td>\n      <td>0.115174</td>\n      <td>0.031168</td>\n      <td>0.026617</td>\n      <td>0.021379</td>\n      <td>0.015915</td>\n      <td>9538.161968</td>\n      <td>10843.634039</td>\n      <td>1305.469976</td>\n      <td>-197.743933</td>\n    </tr>\n    <tr>\n      <th>Michigan</th>\n      <td>4.796160</td>\n      <td>4.873192</td>\n      <td>4.929618</td>\n      <td>4.996004</td>\n      <td>5.016032</td>\n      <td>0.575498</td>\n      <td>0.571357</td>\n      <td>0.568785</td>\n      <td>0.569463</td>\n      <td>0.452120</td>\n      <td>0.448292</td>\n      <td>0.443766</td>\n      <td>0.440798</td>\n      <td>9374.650714</td>\n      <td>12516.749975</td>\n      <td>3142.102959</td>\n      <td>-256.162990</td>\n    </tr>\n    <tr>\n      <th>Minnesota</th>\n      <td>4.671257</td>\n      <td>4.607562</td>\n      <td>4.556417</td>\n      <td>4.532617</td>\n      <td>4.551661</td>\n      <td>-0.024673</td>\n      <td>-0.032363</td>\n      <td>-0.039062</td>\n      <td>-0.044455</td>\n      <td>-0.170073</td>\n      <td>-0.175552</td>\n      <td>-0.181244</td>\n      <td>-0.185465</td>\n      <td>5164.805150</td>\n      <td>5927.022247</td>\n      <td>762.212184</td>\n      <td>-84.849933</td>\n    </tr>\n    <tr>\n      <th>Mississippi</th>\n      <td>4.558599</td>\n      <td>4.479917</td>\n      <td>4.478546</td>\n      <td>4.470678</td>\n      <td>4.410963</td>\n      <td>-0.421682</td>\n      <td>-0.420003</td>\n      <td>-0.418299</td>\n      <td>-0.416519</td>\n      <td>-0.500592</td>\n      <td>-0.502625</td>\n      <td>-0.504733</td>\n      <td>-0.506360</td>\n      <td>6012.210850</td>\n      <td>7319.395930</td>\n      <td>1307.190564</td>\n      <td>-139.020568</td>\n    </tr>\n    <tr>\n      <th>Missouri</th>\n      <td>4.777397</td>\n      <td>4.742317</td>\n      <td>4.732550</td>\n      <td>4.789798</td>\n      <td>4.769978</td>\n      <td>0.036166</td>\n      <td>0.032899</td>\n      <td>0.031488</td>\n      <td>0.028760</td>\n      <td>-0.084719</td>\n      <td>-0.088102</td>\n      <td>-0.092177</td>\n      <td>-0.095076</td>\n      <td>8856.239154</td>\n      <td>10632.501330</td>\n      <td>1776.255264</td>\n      <td>-200.459030</td>\n    </tr>\n    <tr>\n      <th>Montana</th>\n      <td>4.153319</td>\n      <td>4.046111</td>\n      <td>3.983198</td>\n      <td>3.946126</td>\n      <td>3.852869</td>\n      <td>-0.718028</td>\n      <td>-0.720007</td>\n      <td>-0.721793</td>\n      <td>-0.723438</td>\n      <td>-0.730920</td>\n      <td>-0.732440</td>\n      <td>-0.733785</td>\n      <td>-0.734737</td>\n      <td>1385.699316</td>\n      <td>2029.474052</td>\n      <td>643.758242</td>\n      <td>-42.814717</td>\n    </tr>\n    <tr>\n      <th>Nebraska</th>\n      <td>4.442040</td>\n      <td>4.399487</td>\n      <td>4.402630</td>\n      <td>4.357468</td>\n      <td>4.292508</td>\n      <td>-0.571263</td>\n      <td>-0.573332</td>\n      <td>-0.575971</td>\n      <td>-0.578510</td>\n      <td>-0.640215</td>\n      <td>-0.641407</td>\n      <td>-0.643097</td>\n      <td>-0.644241</td>\n      <td>4646.659332</td>\n      <td>5775.121107</td>\n      <td>1128.453585</td>\n      <td>-78.566163</td>\n    </tr>\n    <tr>\n      <th>Nevada</th>\n      <td>4.535996</td>\n      <td>4.432161</td>\n      <td>4.414504</td>\n      <td>4.433481</td>\n      <td>4.385150</td>\n      <td>-0.404766</td>\n      <td>-0.412725</td>\n      <td>-0.420074</td>\n      <td>-0.427172</td>\n      <td>-0.493494</td>\n      <td>-0.501658</td>\n      <td>-0.509953</td>\n      <td>-0.517929</td>\n      <td>5166.346906</td>\n      <td>6527.995739</td>\n      <td>1361.665658</td>\n      <td>-82.721417</td>\n    </tr>\n    <tr>\n      <th>New Hampshire</th>\n      <td>4.239627</td>\n      <td>4.181140</td>\n      <td>4.161664</td>\n      <td>4.104942</td>\n      <td>4.093773</td>\n      <td>-0.690915</td>\n      <td>-0.691884</td>\n      <td>-0.692595</td>\n      <td>-0.692834</td>\n      <td>-0.679465</td>\n      <td>-0.680501</td>\n      <td>-0.681691</td>\n      <td>-0.682482</td>\n      <td>1851.790983</td>\n      <td>2633.385316</td>\n      <td>781.609442</td>\n      <td>-64.376495</td>\n    </tr>\n    <tr>\n      <th>New Jersey</th>\n      <td>5.176450</td>\n      <td>5.139767</td>\n      <td>5.169265</td>\n      <td>5.180674</td>\n      <td>5.151427</td>\n      <td>0.406448</td>\n      <td>0.404752</td>\n      <td>0.407474</td>\n      <td>0.409549</td>\n      <td>0.312633</td>\n      <td>0.309062</td>\n      <td>0.304248</td>\n      <td>0.299973</td>\n      <td>18618.063255</td>\n      <td>21388.264275</td>\n      <td>2770.195803</td>\n      <td>-225.143800</td>\n    </tr>\n    <tr>\n      <th>New Mexico</th>\n      <td>4.220859</td>\n      <td>4.163621</td>\n      <td>4.121711</td>\n      <td>4.156831</td>\n      <td>4.070682</td>\n      <td>-0.554621</td>\n      <td>-0.553396</td>\n      <td>-0.552650</td>\n      <td>-0.551668</td>\n      <td>-0.606018</td>\n      <td>-0.607612</td>\n      <td>-0.609321</td>\n      <td>-0.610451</td>\n      <td>2505.752965</td>\n      <td>3340.312040</td>\n      <td>834.565254</td>\n      <td>-47.911681</td>\n    </tr>\n    <tr>\n      <th>New York</th>\n      <td>5.310177</td>\n      <td>5.307155</td>\n      <td>5.297981</td>\n      <td>5.304048</td>\n      <td>5.260740</td>\n      <td>2.028074</td>\n      <td>2.041380</td>\n      <td>2.052940</td>\n      <td>2.056700</td>\n      <td>1.675851</td>\n      <td>1.671264</td>\n      <td>1.662135</td>\n      <td>1.653787</td>\n      <td>23478.642476</td>\n      <td>26209.089480</td>\n      <td>2730.453825</td>\n      <td>-385.393943</td>\n    </tr>\n    <tr>\n      <th>North Carolina</th>\n      <td>5.105394</td>\n      <td>5.149292</td>\n      <td>5.116720</td>\n      <td>5.135273</td>\n      <td>5.129494</td>\n      <td>0.653459</td>\n      <td>0.639570</td>\n      <td>0.624579</td>\n      <td>0.614615</td>\n      <td>0.451763</td>\n      <td>0.432220</td>\n      <td>0.410943</td>\n      <td>0.391585</td>\n      <td>12829.389966</td>\n      <td>17491.585840</td>\n      <td>4662.200894</td>\n      <td>-288.392196</td>\n    </tr>\n    <tr>\n      <th>North Dakota</th>\n      <td>4.017294</td>\n      <td>3.948269</td>\n      <td>3.806638</td>\n      <td>3.958162</td>\n      <td>3.909755</td>\n      <td>-0.749480</td>\n      <td>-0.749732</td>\n      <td>-0.749981</td>\n      <td>-0.754010</td>\n      <td>-0.783444</td>\n      <td>-0.783489</td>\n      <td>-0.783559</td>\n      <td>-0.784341</td>\n      <td>1519.370841</td>\n      <td>1975.106036</td>\n      <td>455.731071</td>\n      <td>-72.895931</td>\n    </tr>\n    <tr>\n      <th>Northern Mariana Islands</th>\n      <td>2.423388</td>\n      <td>2.728583</td>\n      <td>2.754993</td>\n      <td>2.641592</td>\n      <td>2.774454</td>\n      <td>NaN</td>\n      <td>NaN</td>\n      <td>NaN</td>\n      <td>NaN</td>\n      <td>NaN</td>\n      <td>NaN</td>\n      <td>NaN</td>\n      <td>NaN</td>\n      <td>129.606570</td>\n      <td>180.117949</td>\n      <td>50.512821</td>\n      <td>-4.650818</td>\n    </tr>\n    <tr>\n      <th>Ohio</th>\n      <td>5.019159</td>\n      <td>4.999342</td>\n      <td>5.008872</td>\n      <td>4.919837</td>\n      <td>4.968862</td>\n      <td>0.832752</td>\n      <td>0.826685</td>\n      <td>0.824107</td>\n      <td>0.820466</td>\n      <td>0.658330</td>\n      <td>0.655124</td>\n      <td>0.650665</td>\n      <td>0.647816</td>\n      <td>13688.207482</td>\n      <td>14807.952569</td>\n      <td>1119.728845</td>\n      <td>-279.867919</td>\n    </tr>\n    <tr>\n      <th>Oklahoma</th>\n      <td>4.672880</td>\n      <td>4.620370</td>\n      <td>4.554859</td>\n      <td>4.548858</td>\n      <td>4.486869</td>\n      <td>-0.226620</td>\n      <td>-0.226902</td>\n      <td>-0.229508</td>\n      <td>-0.236450</td>\n      <td>-0.382753</td>\n      <td>-0.385034</td>\n      <td>-0.388473</td>\n      <td>-0.391567</td>\n      <td>5807.689317</td>\n      <td>7541.148605</td>\n      <td>1733.468827</td>\n      <td>-131.868778</td>\n    </tr>\n    <tr>\n      <th>Oregon</th>\n      <td>4.557188</td>\n      <td>4.486407</td>\n      <td>4.517188</td>\n      <td>4.471835</td>\n      <td>4.420705</td>\n      <td>-0.247577</td>\n      <td>-0.255544</td>\n      <td>-0.267782</td>\n      <td>-0.275603</td>\n      <td>-0.325517</td>\n      <td>-0.333836</td>\n      <td>-0.343687</td>\n      <td>-0.351790</td>\n      <td>4907.579090</td>\n      <td>6396.414325</td>\n      <td>1488.821000</td>\n      <td>-66.041813</td>\n    </tr>\n    <tr>\n      <th>Pennsylvania</th>\n      <td>5.102066</td>\n      <td>5.069159</td>\n      <td>5.066339</td>\n      <td>5.057707</td>\n      <td>5.031547</td>\n      <td>0.932376</td>\n      <td>0.929489</td>\n      <td>0.929601</td>\n      <td>0.929058</td>\n      <td>0.862530</td>\n      <td>0.861341</td>\n      <td>0.859225</td>\n      <td>0.858085</td>\n      <td>14773.448316</td>\n      <td>19181.178529</td>\n      <td>4407.716919</td>\n      <td>-292.486322</td>\n    </tr>\n    <tr>\n      <th>Puerto Rico</th>\n      <td>3.856098</td>\n      <td>3.764211</td>\n      <td>4.020567</td>\n      <td>4.069554</td>\n      <td>4.182021</td>\n      <td>NaN</td>\n      <td>NaN</td>\n      <td>NaN</td>\n      <td>NaN</td>\n      <td>NaN</td>\n      <td>NaN</td>\n      <td>NaN</td>\n      <td>NaN</td>\n      <td>1221.036282</td>\n      <td>1496.036527</td>\n      <td>274.991632</td>\n      <td>-35.742626</td>\n    </tr>\n    <tr>\n      <th>Rhode Island</th>\n      <td>4.090535</td>\n      <td>4.044877</td>\n      <td>4.186735</td>\n      <td>4.059754</td>\n      <td>4.028143</td>\n      <td>-0.718080</td>\n      <td>-0.717795</td>\n      <td>-0.718025</td>\n      <td>-0.718158</td>\n      <td>-0.729686</td>\n      <td>-0.729805</td>\n      <td>-0.730048</td>\n      <td>-0.730179</td>\n      <td>1350.650517</td>\n      <td>2550.799513</td>\n      <td>1200.169211</td>\n      <td>-35.332032</td>\n    </tr>\n    <tr>\n      <th>South Carolina</th>\n      <td>4.779643</td>\n      <td>4.714863</td>\n      <td>4.683430</td>\n      <td>4.713997</td>\n      <td>4.680883</td>\n      <td>-0.143067</td>\n      <td>-0.150215</td>\n      <td>-0.157097</td>\n      <td>-0.165300</td>\n      <td>-0.211951</td>\n      <td>-0.223221</td>\n      <td>-0.235576</td>\n      <td>-0.247250</td>\n      <td>9426.375949</td>\n      <td>12178.683713</td>\n      <td>2752.296665</td>\n      <td>-167.954785</td>\n    </tr>\n    <tr>\n      <th>South Dakota</th>\n      <td>4.133460</td>\n      <td>4.060035</td>\n      <td>3.999607</td>\n      <td>3.968422</td>\n      <td>4.011964</td>\n      <td>-0.736274</td>\n      <td>-0.738188</td>\n      <td>-0.739969</td>\n      <td>-0.740969</td>\n      <td>-0.763757</td>\n      <td>-0.764751</td>\n      <td>-0.765655</td>\n      <td>-0.766213</td>\n      <td>1658.856046</td>\n      <td>2032.081979</td>\n      <td>373.243816</td>\n      <td>-49.716070</td>\n    </tr>\n    <tr>\n      <th>Tennessee</th>\n      <td>4.928882</td>\n      <td>4.939059</td>\n      <td>4.898942</td>\n      <td>4.848719</td>\n      <td>4.837899</td>\n      <td>0.118073</td>\n      <td>0.107946</td>\n      <td>0.100679</td>\n      <td>0.094020</td>\n      <td>-0.006950</td>\n      <td>-0.015463</td>\n      <td>-0.024697</td>\n      <td>-0.032966</td>\n      <td>13094.920292</td>\n      <td>15097.128508</td>\n      <td>2002.211998</td>\n      <td>-232.460801</td>\n    </tr>\n    <tr>\n      <th>Texas</th>\n      <td>5.455966</td>\n      <td>5.428215</td>\n      <td>5.394217</td>\n      <td>5.385662</td>\n      <td>5.371246</td>\n      <td>3.765884</td>\n      <td>3.715102</td>\n      <td>3.650929</td>\n      <td>3.569424</td>\n      <td>2.305769</td>\n      <td>2.248578</td>\n      <td>2.185494</td>\n      <td>2.123262</td>\n      <td>30532.670058</td>\n      <td>33371.135699</td>\n      <td>2838.473190</td>\n      <td>-386.958961</td>\n    </tr>\n    <tr>\n      <th>Unknown</th>\n      <td>4.307169</td>\n      <td>0.503611</td>\n      <td>0.445176</td>\n      <td>0.331992</td>\n      <td>0.051546</td>\n      <td>NaN</td>\n      <td>NaN</td>\n      <td>NaN</td>\n      <td>NaN</td>\n      <td>NaN</td>\n      <td>NaN</td>\n      <td>NaN</td>\n      <td>NaN</td>\n      <td>32.126510</td>\n      <td>534.268956</td>\n      <td>501.828326</td>\n      <td>0.089000</td>\n    </tr>\n    <tr>\n      <th>Utah</th>\n      <td>4.332633</td>\n      <td>4.241434</td>\n      <td>4.238308</td>\n      <td>4.216303</td>\n      <td>4.131400</td>\n      <td>-0.308681</td>\n      <td>-0.317305</td>\n      <td>-0.326718</td>\n      <td>-0.333199</td>\n      <td>-0.571175</td>\n      <td>-0.579650</td>\n      <td>-0.587673</td>\n      <td>-0.594245</td>\n      <td>3189.122328</td>\n      <td>3991.044904</td>\n      <td>801.932546</td>\n      <td>-106.093653</td>\n    </tr>\n    <tr>\n      <th>Vermont</th>\n      <td>3.899906</td>\n      <td>3.893556</td>\n      <td>3.924392</td>\n      <td>3.912004</td>\n      <td>3.825085</td>\n      <td>-0.787337</td>\n      <td>-0.787467</td>\n      <td>-0.787135</td>\n      <td>-0.787149</td>\n      <td>-0.782392</td>\n      <td>-0.782554</td>\n      <td>-0.782560</td>\n      <td>-0.782619</td>\n      <td>1048.736883</td>\n      <td>1543.745645</td>\n      <td>495.002280</td>\n      <td>-32.880429</td>\n    </tr>\n    <tr>\n      <th>Virgin Islands</th>\n      <td>2.953036</td>\n      <td>2.985614</td>\n      <td>3.084154</td>\n      <td>2.995532</td>\n      <td>2.956523</td>\n      <td>NaN</td>\n      <td>NaN</td>\n      <td>NaN</td>\n      <td>NaN</td>\n      <td>NaN</td>\n      <td>NaN</td>\n      <td>NaN</td>\n      <td>NaN</td>\n      <td>364.302047</td>\n      <td>456.870455</td>\n      <td>92.567045</td>\n      <td>-4.836266</td>\n    </tr>\n    <tr>\n      <th>Virginia</th>\n      <td>4.957227</td>\n      <td>4.882367</td>\n      <td>4.849227</td>\n      <td>4.831726</td>\n      <td>4.852941</td>\n      <td>0.417973</td>\n      <td>0.410374</td>\n      <td>0.404800</td>\n      <td>0.398453</td>\n      <td>0.206701</td>\n      <td>0.197277</td>\n      <td>0.186812</td>\n      <td>0.176805</td>\n      <td>11476.390965</td>\n      <td>15244.817724</td>\n      <td>3768.435449</td>\n      <td>-219.771339</td>\n    </tr>\n    <tr>\n      <th>Washington</th>\n      <td>4.896520</td>\n      <td>4.807562</td>\n      <td>4.754399</td>\n      <td>4.743317</td>\n      <td>4.695378</td>\n      <td>0.311310</td>\n      <td>0.287503</td>\n      <td>0.263717</td>\n      <td>0.244507</td>\n      <td>0.062861</td>\n      <td>0.047921</td>\n      <td>0.031864</td>\n      <td>0.017852</td>\n      <td>8125.555460</td>\n      <td>10644.966846</td>\n      <td>2519.423291</td>\n      <td>-109.881903</td>\n    </tr>\n    <tr>\n      <th>West Virginia</th>\n      <td>4.187109</td>\n      <td>4.241998</td>\n      <td>4.272098</td>\n      <td>4.307053</td>\n      <td>4.304519</td>\n      <td>-0.626696</td>\n      <td>-0.623965</td>\n      <td>-0.621622</td>\n      <td>-0.620256</td>\n      <td>-0.614600</td>\n      <td>-0.613812</td>\n      <td>-0.613400</td>\n      <td>-0.613052</td>\n      <td>2991.149952</td>\n      <td>4011.929521</td>\n      <td>1020.809859</td>\n      <td>-91.344043</td>\n    </tr>\n    <tr>\n      <th>Wisconsin</th>\n      <td>4.690639</td>\n      <td>4.694598</td>\n      <td>4.687254</td>\n      <td>4.694370</td>\n      <td>4.686876</td>\n      <td>-0.030085</td>\n      <td>-0.031952</td>\n      <td>-0.032171</td>\n      <td>-0.033151</td>\n      <td>-0.112231</td>\n      <td>-0.116293</td>\n      <td>-0.120374</td>\n      <td>-0.123075</td>\n      <td>6386.537045</td>\n      <td>7095.406585</td>\n      <td>708.867700</td>\n      <td>-156.537237</td>\n    </tr>\n    <tr>\n      <th>Wyoming</th>\n      <td>4.043106</td>\n      <td>3.953512</td>\n      <td>3.891862</td>\n      <td>3.813321</td>\n      <td>3.832198</td>\n      <td>-0.783313</td>\n      <td>-0.781783</td>\n      <td>-0.781225</td>\n      <td>-0.781926</td>\n      <td>-0.798589</td>\n      <td>-0.798755</td>\n      <td>-0.799054</td>\n      <td>-0.799364</td>\n      <td>1539.848411</td>\n      <td>2127.269171</td>\n      <td>587.415483</td>\n      <td>-35.183973</td>\n    </tr>\n  </tbody>\n</table>\n</div>"
     },
     "metadata": {}
    }
   ],
   "execution_count": null
  },
  {
   "cell_type": "code",
   "metadata": {
    "tags": [],
    "deepnote_to_be_reexecuted": false,
    "source_hash": "e332c484",
    "execution_start": 1643052812526,
    "execution_millis": 223,
    "deepnote_output_heights": [
     289.8125
    ],
    "cell_id": "00022-a6accaf0-12d9-48e2-a1ba-608fd17d27c8",
    "deepnote_cell_type": "code"
   },
   "source": "excl_states =  ['Armed Forces Central/South America', 'Armed Forces Europe', 'Armed Forces Pacific', 'Foreign Country']\n\nfull_test.loc[~full_test['state'].isin(excl_states),:]",
   "outputs": [
    {
     "output_type": "execute_result",
     "execution_count": 23,
     "data": {
      "application/vnd.deepnote.dataframe.v3+json": {
       "column_count": 18,
       "row_count": 242034,
       "columns": [
        {
         "name": "target",
         "dtype": "float64"
        },
        {
         "name": "1",
         "dtype": "float64"
        },
        {
         "name": "2",
         "dtype": "float64"
        },
        {
         "name": "3",
         "dtype": "float64"
        },
        {
         "name": 4,
         "dtype": "float64"
        },
        {
         "name": "0_1",
         "dtype": "float64"
        },
        {
         "name": "0_2",
         "dtype": "float64"
        },
        {
         "name": "0_3",
         "dtype": "float64"
        },
        {
         "name": "0_4",
         "dtype": "float64"
        },
        {
         "name": "1_1",
         "dtype": "float64"
        },
        {
         "name": "1_2",
         "dtype": "float64"
        },
        {
         "name": "1_3",
         "dtype": "float64"
        },
        {
         "name": "1_4",
         "dtype": "float64"
        },
        {
         "name": "state",
         "dtype": "object"
        },
        {
         "name": "pred",
         "dtype": "float64"
        },
        {
         "name": "target_original",
         "dtype": "float64"
        },
        {
         "name": "total_diff",
         "dtype": "int64"
        },
        {
         "name": "perc_diff",
         "dtype": "float64"
        },
        {
         "name": "_deepnote_index_column",
         "dtype": "object"
        }
       ],
       "rows": [
        {
         "1": 5.69035945432406,
         "2": 5.8289456176102075,
         "3": 5.8998973535824915,
         "4": 5.937536205082426,
         "target": 5.662960480135946,
         "0_1": -0.1625199040622641,
         "0_2": -0.16263431022945082,
         "0_3": -0.16215234382300467,
         "0_4": -0.16200034319426013,
         "1_1": -0.23673732137992873,
         "1_2": -0.24037884533974418,
         "1_3": -0.24483744029499951,
         "1_4": -0.24865314291124105,
         "state": "Alabama",
         "pred": 254.7577882757081,
         "target_original": 288.00000000000006,
         "total_diff": 33,
         "perc_diff": 0.11458333333333331,
         "_deepnote_index_column": "Alabama_00100"
        },
        {
         "1": 0,
         "2": 0,
         "3": 5.0369526024136295,
         "4": 0,
         "target": 0,
         "0_1": -0.1625199040622641,
         "0_2": -0.16263431022945082,
         "0_3": -0.16215234382300467,
         "0_4": -0.16200034319426013,
         "1_1": -0.23673732137992873,
         "1_2": -0.24037884533974418,
         "1_3": -0.24483744029499951,
         "1_4": -0.24865314291124105,
         "state": "Alabama",
         "pred": 3.6045394821122327,
         "target_original": 1,
         "total_diff": -3,
         "perc_diff": -3,
         "_deepnote_index_column": "Alabama_00102"
        },
        {
         "1": 8.012349639327795,
         "2": 8.250620082174692,
         "3": 8.189522110748094,
         "4": 8.24800570160062,
         "target": 8.044305406990638,
         "0_1": -0.1625199040622641,
         "0_2": -0.16263431022945082,
         "0_3": -0.16215234382300467,
         "0_4": -0.16200034319426013,
         "1_1": -0.23673732137992873,
         "1_2": -0.24037884533974418,
         "1_3": -0.24483744029499951,
         "1_4": -0.24865314291124105,
         "state": "Alabama",
         "pred": 2567.173237939423,
         "target_original": 3115.9999999999977,
         "total_diff": 549,
         "perc_diff": 0.17618741976893465,
         "_deepnote_index_column": "Alabama_00103"
        },
        {
         "1": 7.807916628926408,
         "2": 8.270269111436624,
         "3": 8.133880887949207,
         "4": 8.055475141757274,
         "target": 7.426549072397305,
         "0_1": -0.1625199040622641,
         "0_2": -0.16263431022945082,
         "0_3": -0.16215234382300467,
         "0_4": -0.16200034319426013,
         "1_1": -0.23673732137992873,
         "1_2": -0.24037884533974418,
         "1_3": -0.24483744029499951,
         "1_4": -0.24865314291124105,
         "state": "Alabama",
         "pred": 1790.6629376939184,
         "target_original": 1680,
         "total_diff": -111,
         "perc_diff": -0.06607142857142857,
         "_deepnote_index_column": "Alabama_00104"
        },
        {
         "1": 6.70808408385307,
         "2": 6.76849321164863,
         "3": 6.687108607866515,
         "4": 6.666956792429207,
         "target": 6.602587892189336,
         "0_1": -0.1625199040622641,
         "0_2": -0.16263431022945082,
         "0_3": -0.16215234382300467,
         "0_4": -0.16200034319426013,
         "1_1": -0.23673732137992873,
         "1_2": -0.24037884533974418,
         "1_3": -0.24483744029499951,
         "1_4": -0.24865314291124105,
         "state": "Alabama",
         "pred": 719.6561284406182,
         "target_original": 736.9999999999999,
         "total_diff": 17,
         "perc_diff": 0.02306648575305292,
         "_deepnote_index_column": "Alabama_00120"
        },
        {
         "1": 3.713572066704308,
         "2": 3.8501476017100584,
         "3": 3.8918202981106265,
         "4": 0,
         "target": 4.0943445622221,
         "0_1": -0.1625199040622641,
         "0_2": -0.16263431022945082,
         "0_3": -0.16215234382300467,
         "0_4": -0.16200034319426013,
         "1_1": -0.23673732137992873,
         "1_2": -0.24037884533974418,
         "1_3": -0.24483744029499951,
         "1_4": -0.24865314291124105,
         "state": "Alabama",
         "pred": 23.23606737962669,
         "target_original": 59.999999999999986,
         "total_diff": 37,
         "perc_diff": 0.6166666666666668,
         "_deepnote_index_column": "Alabama_00124"
        },
        {
         "1": 6.421622267806518,
         "2": 6.586171654854675,
         "3": 6.651571873589727,
         "4": 6.618738983517219,
         "target": 6.419994928147142,
         "0_1": -0.1625199040622641,
         "0_2": -0.16263431022945082,
         "0_3": -0.16215234382300467,
         "0_4": -0.16200034319426013,
         "1_1": -0.23673732137992873,
         "1_2": -0.24037884533974418,
         "1_3": -0.24483744029499951,
         "1_4": -0.24865314291124105,
         "state": "Alabama",
         "pred": 536.624879046207,
         "target_original": 613.9999999999999,
         "total_diff": 77,
         "perc_diff": 0.12540716612377853,
         "_deepnote_index_column": "Alabama_00126"
        },
        {
         "1": 8.213381737034572,
         "2": 8.359603270841466,
         "3": 8.252967195000798,
         "4": 8.192570471152173,
         "target": 8.178919332848396,
         "0_1": -0.1625199040622641,
         "0_2": -0.16263431022945082,
         "0_3": -0.16215234382300467,
         "0_4": -0.16200034319426013,
         "1_1": -0.23673732137992873,
         "1_2": -0.24037884533974418,
         "1_3": -0.24483744029499951,
         "1_4": -0.24865314291124105,
         "state": "Alabama",
         "pred": 2866.2549096511484,
         "target_original": 3565.0000000000005,
         "total_diff": 699,
         "perc_diff": 0.1960729312762973,
         "_deepnote_index_column": "Alabama_00140"
        },
        {
         "1": 10.803242315770184,
         "2": 10.99963012730331,
         "3": 10.99223467339126,
         "4": 10.965038129063412,
         "target": 10.76157697400153,
         "0_1": -0.1625199040622641,
         "0_2": -0.16263431022945082,
         "0_3": -0.16215234382300467,
         "0_4": -0.16200034319426013,
         "1_1": -0.23673732137992873,
         "1_2": -0.24037884533974418,
         "1_3": -0.24483744029499951,
         "1_4": -0.24865314291124105,
         "state": "Alabama",
         "pred": 33097.064102418495,
         "target_original": 47172.99999999998,
         "total_diff": 14076,
         "perc_diff": 0.2983910287664555,
         "_deepnote_index_column": "Alabama_00142"
        },
        {
         "1": 6.4967749901858625,
         "2": 6.6293632534374485,
         "3": 6.726233402358747,
         "4": 6.736966958001855,
         "target": 6.532334292222349,
         "0_1": -0.1625199040622641,
         "0_2": -0.16263431022945082,
         "0_3": -0.16215234382300467,
         "0_4": -0.16200034319426013,
         "1_1": -0.23673732137992873,
         "1_2": -0.24037884533974418,
         "1_3": -0.24483744029499951,
         "1_4": -0.24865314291124105,
         "state": "Alabama",
         "pred": 590.1959144985586,
         "target_original": 686.9999999999998,
         "total_diff": 97,
         "perc_diff": 0.141193595342067,
         "_deepnote_index_column": "Alabama_00144"
        }
       ]
      },
      "text/plain": "                  target          1          2          3          4  \\\nidx                                                                    \nAlabama_00100   5.662960   5.690359   5.828946   5.899897   5.937536   \nAlabama_00102   0.000000   0.000000   0.000000   5.036953   0.000000   \nAlabama_00103   8.044305   8.012350   8.250620   8.189522   8.248006   \nAlabama_00104   7.426549   7.807917   8.270269   8.133881   8.055475   \nAlabama_00120   6.602588   6.708084   6.768493   6.687109   6.666957   \n...                  ...        ...        ...        ...        ...   \nWyoming_Q5101  11.523865  10.509442   0.000000   0.000000   0.000000   \nWyoming_Q9957   4.330733   4.430817   3.401197   2.833213   0.000000   \nWyoming_Q9965   3.433987   3.583519   4.553877   4.418841   4.709530   \nWyoming_Q9966   7.812378   6.590301   0.000000   0.000000   0.000000   \nWyoming_Q9967  12.174510  12.150549  12.118257  12.024904  12.126071   \n\n                    0_1       0_2       0_3       0_4       1_1       1_2  \\\nidx                                                                         \nAlabama_00100 -0.162520 -0.162634 -0.162152 -0.162000 -0.236737 -0.240379   \nAlabama_00102 -0.162520 -0.162634 -0.162152 -0.162000 -0.236737 -0.240379   \nAlabama_00103 -0.162520 -0.162634 -0.162152 -0.162000 -0.236737 -0.240379   \nAlabama_00104 -0.162520 -0.162634 -0.162152 -0.162000 -0.236737 -0.240379   \nAlabama_00120 -0.162520 -0.162634 -0.162152 -0.162000 -0.236737 -0.240379   \n...                 ...       ...       ...       ...       ...       ...   \nWyoming_Q5101 -0.783313 -0.781783 -0.781225 -0.781926 -0.798589 -0.798755   \nWyoming_Q9957 -0.783313 -0.781783 -0.781225 -0.781926 -0.798589 -0.798755   \nWyoming_Q9965 -0.783313 -0.781783 -0.781225 -0.781926 -0.798589 -0.798755   \nWyoming_Q9966 -0.783313 -0.781783 -0.781225 -0.781926 -0.798589 -0.798755   \nWyoming_Q9967 -0.783313 -0.781783 -0.781225 -0.781926 -0.798589 -0.798755   \n\n                    1_3       1_4    state           pred  target_original  \\\nidx                                                                          \nAlabama_00100 -0.244837 -0.248653  Alabama     254.757788            288.0   \nAlabama_00102 -0.244837 -0.248653  Alabama       3.604539              1.0   \nAlabama_00103 -0.244837 -0.248653  Alabama    2567.173238           3116.0   \nAlabama_00104 -0.244837 -0.248653  Alabama    1790.662938           1680.0   \nAlabama_00120 -0.244837 -0.248653  Alabama     719.656128            737.0   \n...                 ...       ...      ...            ...              ...   \nWyoming_Q5101 -0.799054 -0.799364  Wyoming    9327.633149         101100.0   \nWyoming_Q9957 -0.799054 -0.799364  Wyoming      48.499161             76.0   \nWyoming_Q9965 -0.799054 -0.799364  Wyoming      24.655398             31.0   \nWyoming_Q9966 -0.799054 -0.799364  Wyoming     316.480238           2471.0   \nWyoming_Q9967 -0.799054 -0.799364  Wyoming  204232.348503         193786.0   \n\n               total_diff  perc_diff  \nidx                                   \nAlabama_00100          33   0.114583  \nAlabama_00102          -3  -3.000000  \nAlabama_00103         549   0.176187  \nAlabama_00104        -111  -0.066071  \nAlabama_00120          17   0.023066  \n...                   ...        ...  \nWyoming_Q5101       91772   0.907735  \nWyoming_Q9957          28   0.368421  \nWyoming_Q9965           6   0.193548  \nWyoming_Q9966        2155   0.872117  \nWyoming_Q9967      -10446  -0.053905  \n\n[242034 rows x 18 columns]",
      "text/html": "<div>\n<style scoped>\n    .dataframe tbody tr th:only-of-type {\n        vertical-align: middle;\n    }\n\n    .dataframe tbody tr th {\n        vertical-align: top;\n    }\n\n    .dataframe thead th {\n        text-align: right;\n    }\n</style>\n<table border=\"1\" class=\"dataframe\">\n  <thead>\n    <tr style=\"text-align: right;\">\n      <th></th>\n      <th>target</th>\n      <th>1</th>\n      <th>2</th>\n      <th>3</th>\n      <th>4</th>\n      <th>0_1</th>\n      <th>0_2</th>\n      <th>0_3</th>\n      <th>0_4</th>\n      <th>1_1</th>\n      <th>1_2</th>\n      <th>1_3</th>\n      <th>1_4</th>\n      <th>state</th>\n      <th>pred</th>\n      <th>target_original</th>\n      <th>total_diff</th>\n      <th>perc_diff</th>\n    </tr>\n    <tr>\n      <th>idx</th>\n      <th></th>\n      <th></th>\n      <th></th>\n      <th></th>\n      <th></th>\n      <th></th>\n      <th></th>\n      <th></th>\n      <th></th>\n      <th></th>\n      <th></th>\n      <th></th>\n      <th></th>\n      <th></th>\n      <th></th>\n      <th></th>\n      <th></th>\n      <th></th>\n    </tr>\n  </thead>\n  <tbody>\n    <tr>\n      <th>Alabama_00100</th>\n      <td>5.662960</td>\n      <td>5.690359</td>\n      <td>5.828946</td>\n      <td>5.899897</td>\n      <td>5.937536</td>\n      <td>-0.162520</td>\n      <td>-0.162634</td>\n      <td>-0.162152</td>\n      <td>-0.162000</td>\n      <td>-0.236737</td>\n      <td>-0.240379</td>\n      <td>-0.244837</td>\n      <td>-0.248653</td>\n      <td>Alabama</td>\n      <td>254.757788</td>\n      <td>288.0</td>\n      <td>33</td>\n      <td>0.114583</td>\n    </tr>\n    <tr>\n      <th>Alabama_00102</th>\n      <td>0.000000</td>\n      <td>0.000000</td>\n      <td>0.000000</td>\n      <td>5.036953</td>\n      <td>0.000000</td>\n      <td>-0.162520</td>\n      <td>-0.162634</td>\n      <td>-0.162152</td>\n      <td>-0.162000</td>\n      <td>-0.236737</td>\n      <td>-0.240379</td>\n      <td>-0.244837</td>\n      <td>-0.248653</td>\n      <td>Alabama</td>\n      <td>3.604539</td>\n      <td>1.0</td>\n      <td>-3</td>\n      <td>-3.000000</td>\n    </tr>\n    <tr>\n      <th>Alabama_00103</th>\n      <td>8.044305</td>\n      <td>8.012350</td>\n      <td>8.250620</td>\n      <td>8.189522</td>\n      <td>8.248006</td>\n      <td>-0.162520</td>\n      <td>-0.162634</td>\n      <td>-0.162152</td>\n      <td>-0.162000</td>\n      <td>-0.236737</td>\n      <td>-0.240379</td>\n      <td>-0.244837</td>\n      <td>-0.248653</td>\n      <td>Alabama</td>\n      <td>2567.173238</td>\n      <td>3116.0</td>\n      <td>549</td>\n      <td>0.176187</td>\n    </tr>\n    <tr>\n      <th>Alabama_00104</th>\n      <td>7.426549</td>\n      <td>7.807917</td>\n      <td>8.270269</td>\n      <td>8.133881</td>\n      <td>8.055475</td>\n      <td>-0.162520</td>\n      <td>-0.162634</td>\n      <td>-0.162152</td>\n      <td>-0.162000</td>\n      <td>-0.236737</td>\n      <td>-0.240379</td>\n      <td>-0.244837</td>\n      <td>-0.248653</td>\n      <td>Alabama</td>\n      <td>1790.662938</td>\n      <td>1680.0</td>\n      <td>-111</td>\n      <td>-0.066071</td>\n    </tr>\n    <tr>\n      <th>Alabama_00120</th>\n      <td>6.602588</td>\n      <td>6.708084</td>\n      <td>6.768493</td>\n      <td>6.687109</td>\n      <td>6.666957</td>\n      <td>-0.162520</td>\n      <td>-0.162634</td>\n      <td>-0.162152</td>\n      <td>-0.162000</td>\n      <td>-0.236737</td>\n      <td>-0.240379</td>\n      <td>-0.244837</td>\n      <td>-0.248653</td>\n      <td>Alabama</td>\n      <td>719.656128</td>\n      <td>737.0</td>\n      <td>17</td>\n      <td>0.023066</td>\n    </tr>\n    <tr>\n      <th>...</th>\n      <td>...</td>\n      <td>...</td>\n      <td>...</td>\n      <td>...</td>\n      <td>...</td>\n      <td>...</td>\n      <td>...</td>\n      <td>...</td>\n      <td>...</td>\n      <td>...</td>\n      <td>...</td>\n      <td>...</td>\n      <td>...</td>\n      <td>...</td>\n      <td>...</td>\n      <td>...</td>\n      <td>...</td>\n      <td>...</td>\n    </tr>\n    <tr>\n      <th>Wyoming_Q5101</th>\n      <td>11.523865</td>\n      <td>10.509442</td>\n      <td>0.000000</td>\n      <td>0.000000</td>\n      <td>0.000000</td>\n      <td>-0.783313</td>\n      <td>-0.781783</td>\n      <td>-0.781225</td>\n      <td>-0.781926</td>\n      <td>-0.798589</td>\n      <td>-0.798755</td>\n      <td>-0.799054</td>\n      <td>-0.799364</td>\n      <td>Wyoming</td>\n      <td>9327.633149</td>\n      <td>101100.0</td>\n      <td>91772</td>\n      <td>0.907735</td>\n    </tr>\n    <tr>\n      <th>Wyoming_Q9957</th>\n      <td>4.330733</td>\n      <td>4.430817</td>\n      <td>3.401197</td>\n      <td>2.833213</td>\n      <td>0.000000</td>\n      <td>-0.783313</td>\n      <td>-0.781783</td>\n      <td>-0.781225</td>\n      <td>-0.781926</td>\n      <td>-0.798589</td>\n      <td>-0.798755</td>\n      <td>-0.799054</td>\n      <td>-0.799364</td>\n      <td>Wyoming</td>\n      <td>48.499161</td>\n      <td>76.0</td>\n      <td>28</td>\n      <td>0.368421</td>\n    </tr>\n    <tr>\n      <th>Wyoming_Q9965</th>\n      <td>3.433987</td>\n      <td>3.583519</td>\n      <td>4.553877</td>\n      <td>4.418841</td>\n      <td>4.709530</td>\n      <td>-0.783313</td>\n      <td>-0.781783</td>\n      <td>-0.781225</td>\n      <td>-0.781926</td>\n      <td>-0.798589</td>\n      <td>-0.798755</td>\n      <td>-0.799054</td>\n      <td>-0.799364</td>\n      <td>Wyoming</td>\n      <td>24.655398</td>\n      <td>31.0</td>\n      <td>6</td>\n      <td>0.193548</td>\n    </tr>\n    <tr>\n      <th>Wyoming_Q9966</th>\n      <td>7.812378</td>\n      <td>6.590301</td>\n      <td>0.000000</td>\n      <td>0.000000</td>\n      <td>0.000000</td>\n      <td>-0.783313</td>\n      <td>-0.781783</td>\n      <td>-0.781225</td>\n      <td>-0.781926</td>\n      <td>-0.798589</td>\n      <td>-0.798755</td>\n      <td>-0.799054</td>\n      <td>-0.799364</td>\n      <td>Wyoming</td>\n      <td>316.480238</td>\n      <td>2471.0</td>\n      <td>2155</td>\n      <td>0.872117</td>\n    </tr>\n    <tr>\n      <th>Wyoming_Q9967</th>\n      <td>12.174510</td>\n      <td>12.150549</td>\n      <td>12.118257</td>\n      <td>12.024904</td>\n      <td>12.126071</td>\n      <td>-0.783313</td>\n      <td>-0.781783</td>\n      <td>-0.781225</td>\n      <td>-0.781926</td>\n      <td>-0.798589</td>\n      <td>-0.798755</td>\n      <td>-0.799054</td>\n      <td>-0.799364</td>\n      <td>Wyoming</td>\n      <td>204232.348503</td>\n      <td>193786.0</td>\n      <td>-10446</td>\n      <td>-0.053905</td>\n    </tr>\n  </tbody>\n</table>\n<p>242034 rows × 18 columns</p>\n</div>"
     },
     "metadata": {}
    }
   ],
   "execution_count": null
  },
  {
   "cell_type": "code",
   "metadata": {
    "tags": [],
    "deepnote_to_be_reexecuted": false,
    "source_hash": "e299f0ef",
    "execution_start": 1643052812750,
    "execution_millis": 285,
    "cell_id": "00024-0ff98b7b-aba8-4335-9aa5-2c083dfb5ac3",
    "deepnote_cell_type": "code"
   },
   "source": "full_test.sort_values('pred',ascending=False)",
   "outputs": [
    {
     "output_type": "execute_result",
     "execution_count": 24,
     "data": {
      "application/vnd.deepnote.dataframe.v3+json": {
       "column_count": 18,
       "row_count": 242034,
       "columns": [
        {
         "name": "target",
         "dtype": "float64"
        },
        {
         "name": "1",
         "dtype": "float64"
        },
        {
         "name": "2",
         "dtype": "float64"
        },
        {
         "name": "3",
         "dtype": "float64"
        },
        {
         "name": 4,
         "dtype": "float64"
        },
        {
         "name": "0_1",
         "dtype": "float64"
        },
        {
         "name": "0_2",
         "dtype": "float64"
        },
        {
         "name": "0_3",
         "dtype": "float64"
        },
        {
         "name": "0_4",
         "dtype": "float64"
        },
        {
         "name": "1_1",
         "dtype": "float64"
        },
        {
         "name": "1_2",
         "dtype": "float64"
        },
        {
         "name": "1_3",
         "dtype": "float64"
        },
        {
         "name": "1_4",
         "dtype": "float64"
        },
        {
         "name": "state",
         "dtype": "object"
        },
        {
         "name": "pred",
         "dtype": "float64"
        },
        {
         "name": "target_original",
         "dtype": "float64"
        },
        {
         "name": "total_diff",
         "dtype": "int64"
        },
        {
         "name": "perc_diff",
         "dtype": "float64"
        },
        {
         "name": "_deepnote_index_column",
         "dtype": "object"
        }
       ],
       "rows": [
        {
         "1": 16.059161184399457,
         "2": 16.023510725093765,
         "3": 15.941481794209434,
         "4": 15.95908831330438,
         "target": 16.10776039573127,
         "0_1": 5.445279591308564,
         "0_2": 5.431556530984954,
         "0_3": 5.4127855351900145,
         "0_4": 5.376525000858127,
         "1_1": 3.9149862150478407,
         "1_2": 3.8674048794395124,
         "1_3": 3.8094193442109985,
         "1_4": 3.7482685716903186,
         "state": "California",
         "pred": 7873626.178920775,
         "target_original": 9897179.699999996,
         "total_diff": 2023554,
         "perc_diff": 0.20445763958393126,
         "_deepnote_index_column": "California_Q9967"
        },
        {
         "1": 16.00439312618205,
         "2": 16.029844662331193,
         "3": 16.0441952572587,
         "4": 16.066906982676215,
         "target": 15.977317319734967,
         "0_1": 5.445279591308564,
         "0_2": 5.431556530984954,
         "0_3": 5.4127855351900145,
         "0_4": 5.376525000858127,
         "1_1": 3.9149862150478407,
         "1_2": 3.8674048794395124,
         "1_3": 3.8094193442109985,
         "1_4": 3.7482685716903186,
         "state": "California",
         "pred": 7873626.178920775,
         "target_original": 8686818.499999994,
         "total_diff": 813192,
         "perc_diff": 0.0936121780373333,
         "_deepnote_index_column": "California_99213"
        },
        {
         "1": 16.03919718422469,
         "2": 16.019767682206,
         "3": 15.991412685659208,
         "4": 16.019904319620135,
         "target": 16.030636861167235,
         "0_1": 3.765883605408294,
         "0_2": 3.7151016017562597,
         "0_3": 3.65092920819584,
         "0_4": 3.569424415538509,
         "1_1": 2.3057690817171688,
         "1_2": 2.2485776280651564,
         "1_3": 2.185494121571152,
         "1_4": 2.123262034969119,
         "state": "Texas",
         "pred": 7493917.440408267,
         "target_original": 9162566.299999995,
         "total_diff": 1668649,
         "perc_diff": 0.18211589912315296,
         "_deepnote_index_column": "Texas_Q9967"
        },
        {
         "1": 16.325136998835095,
         "2": 16.295087479952183,
         "3": 16.282558774285867,
         "4": 16.18782870710767,
         "target": 16.276325681764817,
         "0_1": 3.765883605408294,
         "0_2": 3.7151016017562597,
         "0_3": 3.65092920819584,
         "0_4": 3.569424415538509,
         "1_1": 2.3057690817171688,
         "1_2": 2.2485776280651564,
         "1_3": 2.185494121571152,
         "1_4": 2.123262034969119,
         "state": "Texas",
         "pred": 7493917.440408267,
         "target_original": 11714356.30000001,
         "total_diff": 4220439,
         "perc_diff": 0.36027920714687467,
         "_deepnote_index_column": "Texas_A0425"
        },
        {
         "1": 16.11965623261707,
         "2": 16.156414611501052,
         "3": 15.963190836843268,
         "4": 15.935271487878984,
         "target": 16.284927526319443,
         "0_1": 1.9958178921431537,
         "0_2": 1.9535068132104763,
         "0_3": 1.9031718861408526,
         "0_4": 1.8567824842885334,
         "1_1": 2.0663680914445424,
         "1_2": 2.00905817466906,
         "1_3": 1.9434174333978682,
         "1_4": 1.885768355077109,
         "state": "Florida",
         "pred": 7205056.963868206,
         "target_original": 11815555.999999998,
         "total_diff": 4610499,
         "perc_diff": 0.39020584388919155,
         "_deepnote_index_column": "Florida_Q0138"
        },
        {
         "1": 16.010331359656433,
         "2": 16.00544145653119,
         "3": 15.975915076048146,
         "4": 15.943208192651497,
         "target": 16.031498224642924,
         "0_1": 1.9958178921431537,
         "0_2": 1.9535068132104763,
         "0_3": 1.9031718861408526,
         "0_4": 1.8567824842885334,
         "1_1": 2.0663680914445424,
         "1_2": 2.00905817466906,
         "1_3": 1.9434174333978682,
         "1_4": 1.885768355077109,
         "state": "Florida",
         "pred": 7205056.963868206,
         "target_original": 9170462.000000011,
         "total_diff": 1965405,
         "perc_diff": 0.21431908228832938,
         "_deepnote_index_column": "Florida_99214"
        },
        {
         "1": 16.226421880535923,
         "2": 16.261260180571,
         "3": 16.27654847755258,
         "4": 16.264067489346658,
         "target": 16.216420346178335,
         "0_1": 1.9958178921431537,
         "0_2": 1.9535068132104763,
         "0_3": 1.9031718861408526,
         "0_4": 1.8567824842885334,
         "1_1": 2.0663680914445424,
         "1_2": 2.00905817466906,
         "1_3": 1.9434174333978682,
         "1_4": 1.885768355077109,
         "state": "Florida",
         "pred": 7205056.963868206,
         "target_original": 11033209.700000016,
         "total_diff": 3828153,
         "perc_diff": 0.3469663954633251,
         "_deepnote_index_column": "Florida_Q9967"
        },
        {
         "1": 16.469177150714057,
         "2": 16.23820034503448,
         "3": 16.2570074929701,
         "4": 16.51276617326371,
         "target": 16.552400662185267,
         "0_1": 1.9958178921431537,
         "0_2": 1.9535068132104763,
         "0_3": 1.9031718861408526,
         "0_4": 1.8567824842885334,
         "1_1": 2.0663680914445424,
         "1_2": 2.00905817466906,
         "1_3": 1.9434174333978682,
         "1_4": 1.885768355077109,
         "state": "Florida",
         "pred": 7101522.661910214,
         "target_original": 15438896.999999998,
         "total_diff": 8337374,
         "perc_diff": 0.5400239408294518,
         "_deepnote_index_column": "Florida_J0878"
        },
        {
         "1": 15.958084104757855,
         "2": 16.004245533729318,
         "3": 16.015218127899185,
         "4": 0,
         "target": 15.944365938335768,
         "0_1": 3.765883605408294,
         "0_2": 3.7151016017562597,
         "0_3": 3.65092920819584,
         "0_4": 3.569424415538509,
         "1_1": 2.3057690817171688,
         "1_2": 2.2485776280651564,
         "1_3": 2.185494121571152,
         "1_4": 2.123262034969119,
         "state": "Texas",
         "pred": 7039031.339722613,
         "target_original": 8405240.499999996,
         "total_diff": 1366209,
         "perc_diff": 0.16254252332220603,
         "_deepnote_index_column": "Texas_J1071"
        },
        {
         "1": 16.397716014986308,
         "2": 16.40940874825337,
         "3": 16.37602876621525,
         "4": 0,
         "target": 16.392707552136976,
         "0_1": 5.445279591308564,
         "0_2": 5.431556530984954,
         "0_3": 5.4127855351900145,
         "0_4": 5.376525000858127,
         "1_1": 3.9149862150478407,
         "1_2": 3.8674048794395124,
         "1_3": 3.8094193442109985,
         "1_4": 3.7482685716903186,
         "state": "California",
         "pred": 7017495.663755752,
         "target_original": 13160198.299999999,
         "total_diff": 6142703,
         "perc_diff": 0.46676371130365113,
         "_deepnote_index_column": "California_J1071"
        }
       ]
      },
      "text/plain": "                       target          1          2          3          4  \\\nidx                                                                         \nCalifornia_Q9967    16.107760  16.059161  16.023511  15.941482  15.959088   \nCalifornia_99213    15.977317  16.004393  16.029845  16.044195  16.066907   \nTexas_Q9967         16.030637  16.039197  16.019768  15.991413  16.019904   \nTexas_A0425         16.276326  16.325137  16.295087  16.282559  16.187829   \nFlorida_Q0138       16.284928  16.119656  16.156415  15.963191  15.935271   \n...                       ...        ...        ...        ...        ...   \nMississippi_J9351    0.000000   0.000000   8.173011   0.000000   8.789965   \nTennessee_83789      4.394449   0.000000   6.898715  12.171911  12.504858   \nOklahoma_J9178       0.000000   0.000000   7.495542   0.000000   7.895436   \nFlorida_J0712        0.000000   0.000000   9.701494   0.000000   9.131514   \nRhode Island_83789   0.000000   0.000000   0.000000  10.756498  10.929117   \n\n                         0_1       0_2       0_3       0_4       1_1  \\\nidx                                                                    \nCalifornia_Q9967    5.445280  5.431557  5.412786  5.376525  3.914986   \nCalifornia_99213    5.445280  5.431557  5.412786  5.376525  3.914986   \nTexas_Q9967         3.765884  3.715102  3.650929  3.569424  2.305769   \nTexas_A0425         3.765884  3.715102  3.650929  3.569424  2.305769   \nFlorida_Q0138       1.995818  1.953507  1.903172  1.856782  2.066368   \n...                      ...       ...       ...       ...       ...   \nMississippi_J9351  -0.421682 -0.420003 -0.418299 -0.416519 -0.500592   \nTennessee_83789     0.118073  0.107946  0.100679  0.094020 -0.006950   \nOklahoma_J9178     -0.226620 -0.226902 -0.229508 -0.236450 -0.382753   \nFlorida_J0712       1.995818  1.953507  1.903172  1.856782  2.066368   \nRhode Island_83789 -0.718080 -0.717795 -0.718025 -0.718158 -0.729686   \n\n                         1_2       1_3       1_4         state          pred  \\\nidx                                                                            \nCalifornia_Q9967    3.867405  3.809419  3.748269    California  7.873626e+06   \nCalifornia_99213    3.867405  3.809419  3.748269    California  7.873626e+06   \nTexas_Q9967         2.248578  2.185494  2.123262         Texas  7.493917e+06   \nTexas_A0425         2.248578  2.185494  2.123262         Texas  7.493917e+06   \nFlorida_Q0138       2.009058  1.943417  1.885768       Florida  7.205057e+06   \n...                      ...       ...       ...           ...           ...   \nMississippi_J9351  -0.502625 -0.504733 -0.506360   Mississippi  2.744787e-01   \nTennessee_83789    -0.015463 -0.024697 -0.032966     Tennessee  2.473220e-01   \nOklahoma_J9178     -0.385034 -0.388473 -0.391567      Oklahoma  2.299776e-01   \nFlorida_J0712       2.009058  1.943417  1.885768       Florida  1.624111e-01   \nRhode Island_83789 -0.729805 -0.730048 -0.730179  Rhode Island  9.943931e-02   \n\n                    target_original  total_diff  perc_diff  \nidx                                                         \nCalifornia_Q9967          9897179.7     2023554   0.204458  \nCalifornia_99213          8686818.5      813192   0.093612  \nTexas_Q9967               9162566.3     1668649   0.182116  \nTexas_A0425              11714356.3     4220439   0.360279  \nFlorida_Q0138            11815556.0     4610499   0.390206  \n...                             ...         ...        ...  \nMississippi_J9351               1.0           1   1.000000  \nTennessee_83789                81.0          81   1.000000  \nOklahoma_J9178                  1.0           1   1.000000  \nFlorida_J0712                   1.0           1   1.000000  \nRhode Island_83789              1.0           1   1.000000  \n\n[242034 rows x 18 columns]",
      "text/html": "<div>\n<style scoped>\n    .dataframe tbody tr th:only-of-type {\n        vertical-align: middle;\n    }\n\n    .dataframe tbody tr th {\n        vertical-align: top;\n    }\n\n    .dataframe thead th {\n        text-align: right;\n    }\n</style>\n<table border=\"1\" class=\"dataframe\">\n  <thead>\n    <tr style=\"text-align: right;\">\n      <th></th>\n      <th>target</th>\n      <th>1</th>\n      <th>2</th>\n      <th>3</th>\n      <th>4</th>\n      <th>0_1</th>\n      <th>0_2</th>\n      <th>0_3</th>\n      <th>0_4</th>\n      <th>1_1</th>\n      <th>1_2</th>\n      <th>1_3</th>\n      <th>1_4</th>\n      <th>state</th>\n      <th>pred</th>\n      <th>target_original</th>\n      <th>total_diff</th>\n      <th>perc_diff</th>\n    </tr>\n    <tr>\n      <th>idx</th>\n      <th></th>\n      <th></th>\n      <th></th>\n      <th></th>\n      <th></th>\n      <th></th>\n      <th></th>\n      <th></th>\n      <th></th>\n      <th></th>\n      <th></th>\n      <th></th>\n      <th></th>\n      <th></th>\n      <th></th>\n      <th></th>\n      <th></th>\n      <th></th>\n    </tr>\n  </thead>\n  <tbody>\n    <tr>\n      <th>California_Q9967</th>\n      <td>16.107760</td>\n      <td>16.059161</td>\n      <td>16.023511</td>\n      <td>15.941482</td>\n      <td>15.959088</td>\n      <td>5.445280</td>\n      <td>5.431557</td>\n      <td>5.412786</td>\n      <td>5.376525</td>\n      <td>3.914986</td>\n      <td>3.867405</td>\n      <td>3.809419</td>\n      <td>3.748269</td>\n      <td>California</td>\n      <td>7.873626e+06</td>\n      <td>9897179.7</td>\n      <td>2023554</td>\n      <td>0.204458</td>\n    </tr>\n    <tr>\n      <th>California_99213</th>\n      <td>15.977317</td>\n      <td>16.004393</td>\n      <td>16.029845</td>\n      <td>16.044195</td>\n      <td>16.066907</td>\n      <td>5.445280</td>\n      <td>5.431557</td>\n      <td>5.412786</td>\n      <td>5.376525</td>\n      <td>3.914986</td>\n      <td>3.867405</td>\n      <td>3.809419</td>\n      <td>3.748269</td>\n      <td>California</td>\n      <td>7.873626e+06</td>\n      <td>8686818.5</td>\n      <td>813192</td>\n      <td>0.093612</td>\n    </tr>\n    <tr>\n      <th>Texas_Q9967</th>\n      <td>16.030637</td>\n      <td>16.039197</td>\n      <td>16.019768</td>\n      <td>15.991413</td>\n      <td>16.019904</td>\n      <td>3.765884</td>\n      <td>3.715102</td>\n      <td>3.650929</td>\n      <td>3.569424</td>\n      <td>2.305769</td>\n      <td>2.248578</td>\n      <td>2.185494</td>\n      <td>2.123262</td>\n      <td>Texas</td>\n      <td>7.493917e+06</td>\n      <td>9162566.3</td>\n      <td>1668649</td>\n      <td>0.182116</td>\n    </tr>\n    <tr>\n      <th>Texas_A0425</th>\n      <td>16.276326</td>\n      <td>16.325137</td>\n      <td>16.295087</td>\n      <td>16.282559</td>\n      <td>16.187829</td>\n      <td>3.765884</td>\n      <td>3.715102</td>\n      <td>3.650929</td>\n      <td>3.569424</td>\n      <td>2.305769</td>\n      <td>2.248578</td>\n      <td>2.185494</td>\n      <td>2.123262</td>\n      <td>Texas</td>\n      <td>7.493917e+06</td>\n      <td>11714356.3</td>\n      <td>4220439</td>\n      <td>0.360279</td>\n    </tr>\n    <tr>\n      <th>Florida_Q0138</th>\n      <td>16.284928</td>\n      <td>16.119656</td>\n      <td>16.156415</td>\n      <td>15.963191</td>\n      <td>15.935271</td>\n      <td>1.995818</td>\n      <td>1.953507</td>\n      <td>1.903172</td>\n      <td>1.856782</td>\n      <td>2.066368</td>\n      <td>2.009058</td>\n      <td>1.943417</td>\n      <td>1.885768</td>\n      <td>Florida</td>\n      <td>7.205057e+06</td>\n      <td>11815556.0</td>\n      <td>4610499</td>\n      <td>0.390206</td>\n    </tr>\n    <tr>\n      <th>...</th>\n      <td>...</td>\n      <td>...</td>\n      <td>...</td>\n      <td>...</td>\n      <td>...</td>\n      <td>...</td>\n      <td>...</td>\n      <td>...</td>\n      <td>...</td>\n      <td>...</td>\n      <td>...</td>\n      <td>...</td>\n      <td>...</td>\n      <td>...</td>\n      <td>...</td>\n      <td>...</td>\n      <td>...</td>\n      <td>...</td>\n    </tr>\n    <tr>\n      <th>Mississippi_J9351</th>\n      <td>0.000000</td>\n      <td>0.000000</td>\n      <td>8.173011</td>\n      <td>0.000000</td>\n      <td>8.789965</td>\n      <td>-0.421682</td>\n      <td>-0.420003</td>\n      <td>-0.418299</td>\n      <td>-0.416519</td>\n      <td>-0.500592</td>\n      <td>-0.502625</td>\n      <td>-0.504733</td>\n      <td>-0.506360</td>\n      <td>Mississippi</td>\n      <td>2.744787e-01</td>\n      <td>1.0</td>\n      <td>1</td>\n      <td>1.000000</td>\n    </tr>\n    <tr>\n      <th>Tennessee_83789</th>\n      <td>4.394449</td>\n      <td>0.000000</td>\n      <td>6.898715</td>\n      <td>12.171911</td>\n      <td>12.504858</td>\n      <td>0.118073</td>\n      <td>0.107946</td>\n      <td>0.100679</td>\n      <td>0.094020</td>\n      <td>-0.006950</td>\n      <td>-0.015463</td>\n      <td>-0.024697</td>\n      <td>-0.032966</td>\n      <td>Tennessee</td>\n      <td>2.473220e-01</td>\n      <td>81.0</td>\n      <td>81</td>\n      <td>1.000000</td>\n    </tr>\n    <tr>\n      <th>Oklahoma_J9178</th>\n      <td>0.000000</td>\n      <td>0.000000</td>\n      <td>7.495542</td>\n      <td>0.000000</td>\n      <td>7.895436</td>\n      <td>-0.226620</td>\n      <td>-0.226902</td>\n      <td>-0.229508</td>\n      <td>-0.236450</td>\n      <td>-0.382753</td>\n      <td>-0.385034</td>\n      <td>-0.388473</td>\n      <td>-0.391567</td>\n      <td>Oklahoma</td>\n      <td>2.299776e-01</td>\n      <td>1.0</td>\n      <td>1</td>\n      <td>1.000000</td>\n    </tr>\n    <tr>\n      <th>Florida_J0712</th>\n      <td>0.000000</td>\n      <td>0.000000</td>\n      <td>9.701494</td>\n      <td>0.000000</td>\n      <td>9.131514</td>\n      <td>1.995818</td>\n      <td>1.953507</td>\n      <td>1.903172</td>\n      <td>1.856782</td>\n      <td>2.066368</td>\n      <td>2.009058</td>\n      <td>1.943417</td>\n      <td>1.885768</td>\n      <td>Florida</td>\n      <td>1.624111e-01</td>\n      <td>1.0</td>\n      <td>1</td>\n      <td>1.000000</td>\n    </tr>\n    <tr>\n      <th>Rhode Island_83789</th>\n      <td>0.000000</td>\n      <td>0.000000</td>\n      <td>0.000000</td>\n      <td>10.756498</td>\n      <td>10.929117</td>\n      <td>-0.718080</td>\n      <td>-0.717795</td>\n      <td>-0.718025</td>\n      <td>-0.718158</td>\n      <td>-0.729686</td>\n      <td>-0.729805</td>\n      <td>-0.730048</td>\n      <td>-0.730179</td>\n      <td>Rhode Island</td>\n      <td>9.943931e-02</td>\n      <td>1.0</td>\n      <td>1</td>\n      <td>1.000000</td>\n    </tr>\n  </tbody>\n</table>\n<p>242034 rows × 18 columns</p>\n</div>"
     },
     "metadata": {}
    }
   ],
   "execution_count": null
  },
  {
   "cell_type": "code",
   "source": "del(df_geo)\ndel(df_geo_features)\ndel(df_geo_features_test)\ndel(df_geo_features_train)\ndel(df_geo_full)\ndel(pop_agg_df)\ndel(pop_test_df)\ndel(pop_train_df)\n",
   "metadata": {
    "cell_id": "1ba3fee4-fde7-4848-9b27-41b6610fadb3",
    "tags": [],
    "deepnote_to_be_reexecuted": false,
    "source_hash": "949653fc",
    "execution_start": 1643027683599,
    "execution_millis": 1,
    "deepnote_cell_type": "code"
   },
   "outputs": [],
   "execution_count": null
  },
  {
   "cell_type": "code",
   "source": "from hyperopt import hp\nfrom hyperopt import fmin, tpe, STATUS_OK, STATUS_FAIL, Trials\nfrom sklearn.model_selection import cross_val_score\nnum_estimator = [100,150,200,250,500,1000,2000,5000,10000]\nimport xgboost as xgb\n\nspace=  {'max_depth': hp.quniform(\"max_depth\", 3, 18, 1),\n        'gamma': hp.uniform ('gamma', 1,9),\n        'reg_alpha' : hp.quniform('reg_alpha', 30,180,1),\n        'reg_lambda' : hp.uniform('reg_lambda', 0,1),\n        'colsample_bytree' : hp.uniform('colsample_bytree', 0.5,1),\n        'min_child_weight' : hp.quniform('min_child_weight', 0, 10, 1),\n        'n_estimators': hp.choice(\"n_estimators\", num_estimator),\n    }\n\ndef hyperparameter_tuning(space):\n    model=xgb.XGBRegressor(n_estimators = space['n_estimators'], max_depth = int(space['max_depth']), gamma = space['gamma'],\n                         reg_alpha = int(space['reg_alpha']) , min_child_weight=space['min_child_weight'],\n                         colsample_bytree=space['colsample_bytree'], objective=\"reg:squarederror\")\n    \n    score_cv = cross_val_score(model, x_train, y_train, cv=5, scoring=\"neg_mean_absolute_error\").mean()\n    return {'loss':-score_cv, 'status': STATUS_OK, 'model': model}\n\n\ntrials = Trials()\n# best = fmin(fn=hyperparameter_tuning,\n#             space=space,\n#             algo=tpe.suggest,\n#             max_evals=200,\n#             trials=trials)\n\nprint(best)",
   "metadata": {
    "cell_id": "afd811d8-170b-44ab-8c6b-1fa1c078c74c",
    "tags": [],
    "deepnote_to_be_reexecuted": false,
    "source_hash": "502eb31",
    "execution_start": 1643027695971,
    "execution_millis": 166803,
    "deepnote_cell_type": "code"
   },
   "outputs": [
    {
     "name": "stdout",
     "text": "  2%|▏         | 3/200 [54:09<55:20:18, 1011.26s/trial, best loss: 0.6161742044811742]",
     "output_type": "stream"
    },
    {
     "output_type": "error",
     "ename": "KernelInterrupted",
     "evalue": "Execution interrupted by the Jupyter kernel.",
     "traceback": [
      "\u001b[0;31m---------------------------------------------------------------------------\u001b[0m",
      "\u001b[0;31mKernelInterrupted\u001b[0m: Execution interrupted by the Jupyter kernel."
     ]
    }
   ],
   "execution_count": null
  },
  {
   "cell_type": "markdown",
   "source": "<a style='text-decoration:none;line-height:16px;display:flex;color:#5B5B62;padding:10px;justify-content:end;' href='https://deepnote.com?utm_source=created-in-deepnote-cell&projectId=f3594ae2-e1b0-4476-8420-ffda39dfce6e' target=\"_blank\">\n<img alt='Created in deepnote.com' style='display:inline;max-height:16px;margin:0px;margin-right:7.5px;' src='data:image/svg+xml;base64,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' > </img>\nCreated in <span style='font-weight:600;margin-left:4px;'>Deepnote</span></a>",
   "metadata": {
    "tags": [],
    "created_in_deepnote_cell": true,
    "deepnote_cell_type": "markdown"
   }
  }
 ],
 "nbformat": 4,
 "nbformat_minor": 2,
 "metadata": {
  "orig_nbformat": 2,
  "deepnote": {
   "is_reactive": false
  },
  "deepnote_notebook_id": "4467593a-c583-4108-b754-3db35489403f",
  "deepnote_execution_queue": []
 }
}