{
 "cells": [
  {
   "cell_type": "code",
   "metadata": {
    "tags": [],
    "deepnote_to_be_reexecuted": false,
    "source_hash": "6f7d3f6",
    "execution_start": 1643018733456,
    "execution_millis": 4818,
    "cell_id": "a7fd35f3-4fc7-4fa8-a6ba-6e7028a04ecc",
    "deepnote_cell_type": "code"
   },
   "source": "import numpy as np\nimport pandas as pd\nimport random\nimport glob\nimport math\nimport xgboost\nfrom sklearn import preprocessing\n\nfrom matplotlib import pyplot\n",
   "execution_count": 1,
   "outputs": []
  },
  {
   "cell_type": "code",
   "metadata": {
    "tags": [],
    "deepnote_to_be_reexecuted": false,
    "source_hash": "61ce3ad1",
    "execution_start": 1643018738282,
    "execution_millis": 94,
    "deepnote_output_heights": [
     136
    ],
    "cell_id": "00001-18d4b5ad-c989-4b23-8411-91f035dfcb61",
    "deepnote_cell_type": "code"
   },
   "source": "# Get list of files for the Geo grouped data\ndata_files_list = glob.glob('/datasets/cms/MUP*Geo.csv')\ndata_files_list\n\n# For training use 2013 to 2016 to predict 2017\n# For testing use 2014 to 2017 to predict 2018\n# for validation use 2015 to 2018 to predict 2019\n\n# For presentation use 2016 to 2019 to predict 2020 (and compare against 2019)",
   "execution_count": 2,
   "outputs": [
    {
     "output_type": "execute_result",
     "execution_count": 2,
     "data": {
      "text/plain": "['/datasets/cms/MUP_PHY_R19_P04_V10_D13_Geo.csv',\n '/datasets/cms/MUP_PHY_R19_P04_V10_D14_Geo.csv',\n '/datasets/cms/MUP_PHY_R19_P04_V10_D15_Geo.csv',\n '/datasets/cms/MUP_PHY_R19_P04_V10_D16_Geo.csv',\n '/datasets/cms/MUP_PHY_R19_P04_V10_D17_Geo.csv',\n '/datasets/cms/MUP_PHY_R20_P04_V10_D18_Geo.csv',\n '/datasets/cms/MUP_PHY_R21_P04_V10_D19_Geo.csv']"
     },
     "metadata": {}
    }
   ]
  },
  {
   "cell_type": "code",
   "metadata": {
    "tags": [],
    "deepnote_to_be_reexecuted": false,
    "source_hash": "849c8c46",
    "execution_start": 1643018738379,
    "execution_millis": 10727,
    "deepnote_output_heights": [
     null,
     611
    ],
    "cell_id": "00002-6e9ff8c7-8f59-40b5-8f13-c73010755534",
    "deepnote_cell_type": "code"
   },
   "source": "df_geo_full = []\nfor _file in data_files_list:\n    df_geo = pd.read_csv(\n         _file,\n         header=0, \n         #skiprows=lambda i: i>0 and random.random() > p\n    )\n    year= _file[-10:-8]\n    df_geo['year'] = 2000+int(year)\n    if len(df_geo_full)!=0:\n        df_geo_full = df_geo_full.append(df_geo, ignore_index=False)\n    else:\n        df_geo_full = df_geo.copy()\n\ndf_geo_full= df_geo_full.loc[df_geo_full['year']!= 0,:]\n\nexcl_states =  ['Armed Forces Central/South America', 'Armed Forces Europe', 'Armed Forces Pacific', 'Foreign Country']\ndf_geo_full.loc[~df_geo_full['Rndrng_Prvdr_Geo_Desc'].isin(excl_states),:]",
   "execution_count": 3,
   "outputs": [
    {
     "name": "stderr",
     "text": "/shared-libs/python3.8/py-core/lib/python3.8/site-packages/IPython/core/interactiveshell.py:3185: DtypeWarning: Columns (1) have mixed types.Specify dtype option on import or set low_memory=False.\n  has_raised = await self.run_ast_nodes(code_ast.body, cell_name,\n",
     "output_type": "stream"
    },
    {
     "output_type": "execute_result",
     "execution_count": 3,
     "data": {
      "application/vnd.deepnote.dataframe.v3+json": {
       "column_count": 16,
       "row_count": 1875720,
       "columns": [
        {
         "name": "Rndrng_Prvdr_Geo_Lvl",
         "dtype": "object"
        },
        {
         "name": "Rndrng_Prvdr_Geo_Cd",
         "dtype": "object"
        },
        {
         "name": "Rndrng_Prvdr_Geo_Desc",
         "dtype": "object"
        },
        {
         "name": "HCPCS_Cd",
         "dtype": "object"
        },
        {
         "name": "HCPCS_Desc",
         "dtype": "object"
        },
        {
         "name": "HCPCS_Drug_Ind",
         "dtype": "object"
        },
        {
         "name": "Place_Of_Srvc",
         "dtype": "object"
        },
        {
         "name": "Tot_Rndrng_Prvdrs",
         "dtype": "int64"
        },
        {
         "name": "Tot_Benes",
         "dtype": "int64"
        },
        {
         "name": "Tot_Srvcs",
         "dtype": "float64"
        },
        {
         "name": "Tot_Bene_Day_Srvcs",
         "dtype": "int64"
        },
        {
         "name": "Avg_Sbmtd_Chrg",
         "dtype": "float64"
        },
        {
         "name": "Avg_Mdcr_Alowd_Amt",
         "dtype": "float64"
        },
        {
         "name": "Avg_Mdcr_Pymt_Amt",
         "dtype": "float64"
        },
        {
         "name": "Avg_Mdcr_Stdzd_Amt",
         "dtype": "float64"
        },
        {
         "name": "year",
         "dtype": "int64"
        },
        {
         "name": "_deepnote_index_column",
         "dtype": "int64"
        }
       ],
       "rows": [
        {
         "Rndrng_Prvdr_Geo_Lvl": "National",
         "Rndrng_Prvdr_Geo_Cd": "nan",
         "Rndrng_Prvdr_Geo_Desc": "National",
         "HCPCS_Cd": "00100",
         "HCPCS_Desc": "Anesthesia for procedure on salivary gland with biopsy",
         "HCPCS_Drug_Ind": "N",
         "Place_Of_Srvc": "F",
         "Tot_Rndrng_Prvdrs": 9678,
         "Tot_Benes": 8629,
         "Tot_Srvcs": 12419,
         "Tot_Bene_Day_Srvcs": 12415,
         "Avg_Sbmtd_Chrg": 1463.4581263,
         "Avg_Mdcr_Alowd_Amt": 228.00370239,
         "Avg_Mdcr_Pymt_Amt": 180.74465496,
         "Avg_Mdcr_Stdzd_Amt": 184.70256623,
         "year": 2013,
         "_deepnote_index_column": 0
        },
        {
         "Rndrng_Prvdr_Geo_Lvl": "National",
         "Rndrng_Prvdr_Geo_Cd": "nan",
         "Rndrng_Prvdr_Geo_Desc": "National",
         "HCPCS_Cd": "00100",
         "HCPCS_Desc": "Anesthesia for procedure on salivary gland with biopsy",
         "HCPCS_Drug_Ind": "N",
         "Place_Of_Srvc": "O",
         "Tot_Rndrng_Prvdrs": 6,
         "Tot_Benes": 12,
         "Tot_Srvcs": 13,
         "Tot_Bene_Day_Srvcs": 13,
         "Avg_Sbmtd_Chrg": 1086.4153846,
         "Avg_Mdcr_Alowd_Amt": 169.17538462,
         "Avg_Mdcr_Pymt_Amt": 120.89538462,
         "Avg_Mdcr_Stdzd_Amt": 126.69461538,
         "year": 2013,
         "_deepnote_index_column": 1
        },
        {
         "Rndrng_Prvdr_Geo_Lvl": "National",
         "Rndrng_Prvdr_Geo_Cd": "nan",
         "Rndrng_Prvdr_Geo_Desc": "National",
         "HCPCS_Cd": "00102",
         "HCPCS_Desc": "Anesthesia for procedure to repair lip defect present at birth",
         "HCPCS_Drug_Ind": "N",
         "Place_Of_Srvc": "F",
         "Tot_Rndrng_Prvdrs": 66,
         "Tot_Benes": 58,
         "Tot_Srvcs": 74,
         "Tot_Bene_Day_Srvcs": 73,
         "Avg_Sbmtd_Chrg": 1552.8593243,
         "Avg_Mdcr_Alowd_Amt": 193.43378378,
         "Avg_Mdcr_Pymt_Amt": 152.90148649,
         "Avg_Mdcr_Stdzd_Amt": 158.59540541,
         "year": 2013,
         "_deepnote_index_column": 2
        },
        {
         "Rndrng_Prvdr_Geo_Lvl": "National",
         "Rndrng_Prvdr_Geo_Cd": "nan",
         "Rndrng_Prvdr_Geo_Desc": "National",
         "HCPCS_Cd": "00103",
         "HCPCS_Desc": "Anesthesia for procedure on eyelid",
         "HCPCS_Drug_Ind": "N",
         "Place_Of_Srvc": "F",
         "Tot_Rndrng_Prvdrs": 21988,
         "Tot_Benes": 94420,
         "Tot_Srvcs": 126633,
         "Tot_Bene_Day_Srvcs": 126564,
         "Avg_Sbmtd_Chrg": 847.13813066,
         "Avg_Mdcr_Alowd_Amt": 150.98895256,
         "Avg_Mdcr_Pymt_Amt": 118.80683716,
         "Avg_Mdcr_Stdzd_Amt": 121.14216642,
         "year": 2013,
         "_deepnote_index_column": 3
        },
        {
         "Rndrng_Prvdr_Geo_Lvl": "National",
         "Rndrng_Prvdr_Geo_Cd": "nan",
         "Rndrng_Prvdr_Geo_Desc": "National",
         "HCPCS_Cd": "00103",
         "HCPCS_Desc": "Anesthesia for procedure on eyelid",
         "HCPCS_Drug_Ind": "N",
         "Place_Of_Srvc": "O",
         "Tot_Rndrng_Prvdrs": 93,
         "Tot_Benes": 299,
         "Tot_Srvcs": 329,
         "Tot_Bene_Day_Srvcs": 328,
         "Avg_Sbmtd_Chrg": 1189.9956535,
         "Avg_Mdcr_Alowd_Amt": 200.84656535,
         "Avg_Mdcr_Pymt_Amt": 159.11638298,
         "Avg_Mdcr_Stdzd_Amt": 156.52805471,
         "year": 2013,
         "_deepnote_index_column": 4
        },
        {
         "Rndrng_Prvdr_Geo_Lvl": "National",
         "Rndrng_Prvdr_Geo_Cd": "nan",
         "Rndrng_Prvdr_Geo_Desc": "National",
         "HCPCS_Cd": "00104",
         "HCPCS_Desc": "Anesthesia for electric shock treatment",
         "HCPCS_Drug_Ind": "N",
         "Place_Of_Srvc": "F",
         "Tot_Rndrng_Prvdrs": 12483,
         "Tot_Benes": 12760,
         "Tot_Srvcs": 187916,
         "Tot_Bene_Day_Srvcs": 187881,
         "Avg_Sbmtd_Chrg": 551.6274735,
         "Avg_Mdcr_Alowd_Amt": 75.28142271,
         "Avg_Mdcr_Pymt_Amt": 59.326034984,
         "Avg_Mdcr_Stdzd_Amt": 70.798281892,
         "year": 2013,
         "_deepnote_index_column": 5
        },
        {
         "Rndrng_Prvdr_Geo_Lvl": "National",
         "Rndrng_Prvdr_Geo_Cd": "nan",
         "Rndrng_Prvdr_Geo_Desc": "National",
         "HCPCS_Cd": "00104",
         "HCPCS_Desc": "Anesthesia for electric shock treatment",
         "HCPCS_Drug_Ind": "N",
         "Place_Of_Srvc": "O",
         "Tot_Rndrng_Prvdrs": 29,
         "Tot_Benes": 26,
         "Tot_Srvcs": 104,
         "Tot_Bene_Day_Srvcs": 104,
         "Avg_Sbmtd_Chrg": 282.37634615,
         "Avg_Mdcr_Alowd_Amt": 80.859038462,
         "Avg_Mdcr_Pymt_Amt": 64.206730769,
         "Avg_Mdcr_Stdzd_Amt": 88.086634615,
         "year": 2013,
         "_deepnote_index_column": 6
        },
        {
         "Rndrng_Prvdr_Geo_Lvl": "National",
         "Rndrng_Prvdr_Geo_Cd": "nan",
         "Rndrng_Prvdr_Geo_Desc": "National",
         "HCPCS_Cd": "00120",
         "HCPCS_Desc": "Anesthesia for biopsy of external middle and inner ear",
         "HCPCS_Drug_Ind": "N",
         "Place_Of_Srvc": "F",
         "Tot_Rndrng_Prvdrs": 13230,
         "Tot_Benes": 16193,
         "Tot_Srvcs": 23810,
         "Tot_Bene_Day_Srvcs": 23804,
         "Avg_Sbmtd_Chrg": 1227.2547161,
         "Avg_Mdcr_Alowd_Amt": 194.83037295,
         "Avg_Mdcr_Pymt_Amt": 154.08470559,
         "Avg_Mdcr_Stdzd_Amt": 158.18673583,
         "year": 2013,
         "_deepnote_index_column": 7
        },
        {
         "Rndrng_Prvdr_Geo_Lvl": "National",
         "Rndrng_Prvdr_Geo_Cd": "nan",
         "Rndrng_Prvdr_Geo_Desc": "National",
         "HCPCS_Cd": "00124",
         "HCPCS_Desc": "Anesthesia for examination and biopsy of external middle and inner ear using an endoscope",
         "HCPCS_Drug_Ind": "N",
         "Place_Of_Srvc": "F",
         "Tot_Rndrng_Prvdrs": 1055,
         "Tot_Benes": 794,
         "Tot_Srvcs": 1148,
         "Tot_Bene_Day_Srvcs": 1148,
         "Avg_Sbmtd_Chrg": 591.11696864,
         "Avg_Mdcr_Alowd_Amt": 95.537482578,
         "Avg_Mdcr_Pymt_Amt": 73.875156794,
         "Avg_Mdcr_Stdzd_Amt": 76.181986063,
         "year": 2013,
         "_deepnote_index_column": 8
        },
        {
         "Rndrng_Prvdr_Geo_Lvl": "National",
         "Rndrng_Prvdr_Geo_Cd": "nan",
         "Rndrng_Prvdr_Geo_Desc": "National",
         "HCPCS_Cd": "00126",
         "HCPCS_Desc": "Anesthesia for incision of ear drum",
         "HCPCS_Drug_Ind": "N",
         "Place_Of_Srvc": "F",
         "Tot_Rndrng_Prvdrs": 7841,
         "Tot_Benes": 8598,
         "Tot_Srvcs": 12579,
         "Tot_Bene_Day_Srvcs": 12579,
         "Avg_Sbmtd_Chrg": 563.21226648,
         "Avg_Mdcr_Alowd_Amt": 90.964935209,
         "Avg_Mdcr_Pymt_Amt": 71.595319183,
         "Avg_Mdcr_Stdzd_Amt": 73.780137531,
         "year": 2013,
         "_deepnote_index_column": 9
        }
       ]
      },
      "text/plain": "       Rndrng_Prvdr_Geo_Lvl Rndrng_Prvdr_Geo_Cd Rndrng_Prvdr_Geo_Desc  \\\n0                  National                 NaN              National   \n1                  National                 NaN              National   \n2                  National                 NaN              National   \n3                  National                 NaN              National   \n4                  National                 NaN              National   \n...                     ...                 ...                   ...   \n272849                State                  9D               Unknown   \n272850                State                  9D               Unknown   \n272851                State                  9D               Unknown   \n272852                State                  9D               Unknown   \n272853                State                  9D               Unknown   \n\n       HCPCS_Cd                                         HCPCS_Desc  \\\n0         00100  Anesthesia for procedure on salivary gland wit...   \n1         00100  Anesthesia for procedure on salivary gland wit...   \n2         00102  Anesthesia for procedure to repair lip defect ...   \n3         00103                 Anesthesia for procedure on eyelid   \n4         00103                 Anesthesia for procedure on eyelid   \n...         ...                                                ...   \n272849    J1020       Injection, methylprednisolone acetate, 20 mg   \n272850    J1100    Injection, dexamethasone sodium phosphate, 1 mg   \n272851    J1885       Injection, ketorolac tromethamine, per 15 mg   \n272852    J3420  Injection, vitamin b-12 cyanocobalamin, up to ...   \n272853    J7620  Albuterol, up to 2.5 mg and ipratropium bromid...   \n\n       HCPCS_Drug_Ind Place_Of_Srvc  Tot_Rndrng_Prvdrs  Tot_Benes  Tot_Srvcs  \\\n0                   N             F               9678       8629    12419.0   \n1                   N             O                  6         12       13.0   \n2                   N             F                 66         58       74.0   \n3                   N             F              21988      94420   126633.0   \n4                   N             O                 93        299      329.0   \n...               ...           ...                ...        ...        ...   \n272849              Y             O                  1         46       78.0   \n272850              Y             O                  2         55      138.0   \n272851              Y             O                  3         14       29.0   \n272852              Y             O                  2         23       51.0   \n272853              Y             O                  2         18       19.0   \n\n        Tot_Bene_Day_Srvcs  Avg_Sbmtd_Chrg  Avg_Mdcr_Alowd_Amt  \\\n0                    12415     1463.458126          228.003702   \n1                       13     1086.415385          169.175385   \n2                       73     1552.859324          193.433784   \n3                   126564      847.138131          150.988953   \n4                      328     1189.995653          200.846565   \n...                    ...             ...                 ...   \n272849                  74       20.000000            3.550385   \n272850                  83       11.434783            0.115870   \n272851                  17       14.551724            0.496207   \n272852                  51       47.254902            1.722353   \n272853                  19       12.289474            0.135789   \n\n        Avg_Mdcr_Pymt_Amt  Avg_Mdcr_Stdzd_Amt  year  \n0              180.744655          184.702566  2013  \n1              120.895385          126.694615  2013  \n2              152.901486          158.595405  2013  \n3              118.806837          121.142166  2013  \n4              159.116383          156.528055  2013  \n...                   ...                 ...   ...  \n272849           2.597949            2.597949  2019  \n272850           0.082754            0.082754  2019  \n272851           0.395862            0.395862  2019  \n272852           1.291373            1.291373  2019  \n272853           0.083158            0.083158  2019  \n\n[1875720 rows x 16 columns]",
      "text/html": "<div>\n<style scoped>\n    .dataframe tbody tr th:only-of-type {\n        vertical-align: middle;\n    }\n\n    .dataframe tbody tr th {\n        vertical-align: top;\n    }\n\n    .dataframe thead th {\n        text-align: right;\n    }\n</style>\n<table border=\"1\" class=\"dataframe\">\n  <thead>\n    <tr style=\"text-align: right;\">\n      <th></th>\n      <th>Rndrng_Prvdr_Geo_Lvl</th>\n      <th>Rndrng_Prvdr_Geo_Cd</th>\n      <th>Rndrng_Prvdr_Geo_Desc</th>\n      <th>HCPCS_Cd</th>\n      <th>HCPCS_Desc</th>\n      <th>HCPCS_Drug_Ind</th>\n      <th>Place_Of_Srvc</th>\n      <th>Tot_Rndrng_Prvdrs</th>\n      <th>Tot_Benes</th>\n      <th>Tot_Srvcs</th>\n      <th>Tot_Bene_Day_Srvcs</th>\n      <th>Avg_Sbmtd_Chrg</th>\n      <th>Avg_Mdcr_Alowd_Amt</th>\n      <th>Avg_Mdcr_Pymt_Amt</th>\n      <th>Avg_Mdcr_Stdzd_Amt</th>\n      <th>year</th>\n    </tr>\n  </thead>\n  <tbody>\n    <tr>\n      <th>0</th>\n      <td>National</td>\n      <td>NaN</td>\n      <td>National</td>\n      <td>00100</td>\n      <td>Anesthesia for procedure on salivary gland wit...</td>\n      <td>N</td>\n      <td>F</td>\n      <td>9678</td>\n      <td>8629</td>\n      <td>12419.0</td>\n      <td>12415</td>\n      <td>1463.458126</td>\n      <td>228.003702</td>\n      <td>180.744655</td>\n      <td>184.702566</td>\n      <td>2013</td>\n    </tr>\n    <tr>\n      <th>1</th>\n      <td>National</td>\n      <td>NaN</td>\n      <td>National</td>\n      <td>00100</td>\n      <td>Anesthesia for procedure on salivary gland wit...</td>\n      <td>N</td>\n      <td>O</td>\n      <td>6</td>\n      <td>12</td>\n      <td>13.0</td>\n      <td>13</td>\n      <td>1086.415385</td>\n      <td>169.175385</td>\n      <td>120.895385</td>\n      <td>126.694615</td>\n      <td>2013</td>\n    </tr>\n    <tr>\n      <th>2</th>\n      <td>National</td>\n      <td>NaN</td>\n      <td>National</td>\n      <td>00102</td>\n      <td>Anesthesia for procedure to repair lip defect ...</td>\n      <td>N</td>\n      <td>F</td>\n      <td>66</td>\n      <td>58</td>\n      <td>74.0</td>\n      <td>73</td>\n      <td>1552.859324</td>\n      <td>193.433784</td>\n      <td>152.901486</td>\n      <td>158.595405</td>\n      <td>2013</td>\n    </tr>\n    <tr>\n      <th>3</th>\n      <td>National</td>\n      <td>NaN</td>\n      <td>National</td>\n      <td>00103</td>\n      <td>Anesthesia for procedure on eyelid</td>\n      <td>N</td>\n      <td>F</td>\n      <td>21988</td>\n      <td>94420</td>\n      <td>126633.0</td>\n      <td>126564</td>\n      <td>847.138131</td>\n      <td>150.988953</td>\n      <td>118.806837</td>\n      <td>121.142166</td>\n      <td>2013</td>\n    </tr>\n    <tr>\n      <th>4</th>\n      <td>National</td>\n      <td>NaN</td>\n      <td>National</td>\n      <td>00103</td>\n      <td>Anesthesia for procedure on eyelid</td>\n      <td>N</td>\n      <td>O</td>\n      <td>93</td>\n      <td>299</td>\n      <td>329.0</td>\n      <td>328</td>\n      <td>1189.995653</td>\n      <td>200.846565</td>\n      <td>159.116383</td>\n      <td>156.528055</td>\n      <td>2013</td>\n    </tr>\n    <tr>\n      <th>...</th>\n      <td>...</td>\n      <td>...</td>\n      <td>...</td>\n      <td>...</td>\n      <td>...</td>\n      <td>...</td>\n      <td>...</td>\n      <td>...</td>\n      <td>...</td>\n      <td>...</td>\n      <td>...</td>\n      <td>...</td>\n      <td>...</td>\n      <td>...</td>\n      <td>...</td>\n      <td>...</td>\n    </tr>\n    <tr>\n      <th>272849</th>\n      <td>State</td>\n      <td>9D</td>\n      <td>Unknown</td>\n      <td>J1020</td>\n      <td>Injection, methylprednisolone acetate, 20 mg</td>\n      <td>Y</td>\n      <td>O</td>\n      <td>1</td>\n      <td>46</td>\n      <td>78.0</td>\n      <td>74</td>\n      <td>20.000000</td>\n      <td>3.550385</td>\n      <td>2.597949</td>\n      <td>2.597949</td>\n      <td>2019</td>\n    </tr>\n    <tr>\n      <th>272850</th>\n      <td>State</td>\n      <td>9D</td>\n      <td>Unknown</td>\n      <td>J1100</td>\n      <td>Injection, dexamethasone sodium phosphate, 1 mg</td>\n      <td>Y</td>\n      <td>O</td>\n      <td>2</td>\n      <td>55</td>\n      <td>138.0</td>\n      <td>83</td>\n      <td>11.434783</td>\n      <td>0.115870</td>\n      <td>0.082754</td>\n      <td>0.082754</td>\n      <td>2019</td>\n    </tr>\n    <tr>\n      <th>272851</th>\n      <td>State</td>\n      <td>9D</td>\n      <td>Unknown</td>\n      <td>J1885</td>\n      <td>Injection, ketorolac tromethamine, per 15 mg</td>\n      <td>Y</td>\n      <td>O</td>\n      <td>3</td>\n      <td>14</td>\n      <td>29.0</td>\n      <td>17</td>\n      <td>14.551724</td>\n      <td>0.496207</td>\n      <td>0.395862</td>\n      <td>0.395862</td>\n      <td>2019</td>\n    </tr>\n    <tr>\n      <th>272852</th>\n      <td>State</td>\n      <td>9D</td>\n      <td>Unknown</td>\n      <td>J3420</td>\n      <td>Injection, vitamin b-12 cyanocobalamin, up to ...</td>\n      <td>Y</td>\n      <td>O</td>\n      <td>2</td>\n      <td>23</td>\n      <td>51.0</td>\n      <td>51</td>\n      <td>47.254902</td>\n      <td>1.722353</td>\n      <td>1.291373</td>\n      <td>1.291373</td>\n      <td>2019</td>\n    </tr>\n    <tr>\n      <th>272853</th>\n      <td>State</td>\n      <td>9D</td>\n      <td>Unknown</td>\n      <td>J7620</td>\n      <td>Albuterol, up to 2.5 mg and ipratropium bromid...</td>\n      <td>Y</td>\n      <td>O</td>\n      <td>2</td>\n      <td>18</td>\n      <td>19.0</td>\n      <td>19</td>\n      <td>12.289474</td>\n      <td>0.135789</td>\n      <td>0.083158</td>\n      <td>0.083158</td>\n      <td>2019</td>\n    </tr>\n  </tbody>\n</table>\n<p>1875720 rows × 16 columns</p>\n</div>"
     },
     "metadata": {}
    }
   ]
  },
  {
   "cell_type": "code",
   "metadata": {
    "tags": [],
    "deepnote_to_be_reexecuted": false,
    "source_hash": "1ea2d25d",
    "execution_start": 1643018749110,
    "execution_millis": 39253,
    "cell_id": "00003-0963fed5-c70f-4642-b9c6-5dd2545f713b",
    "deepnote_cell_type": "code"
   },
   "source": "# Prep geo_full for train/test/val\n\ndf_geo_features = df_geo_full.loc[:,['Rndrng_Prvdr_Geo_Desc', 'HCPCS_Cd', 'Tot_Srvcs','year']].copy()\ndf_geo_features = df_geo_features.groupby(['Rndrng_Prvdr_Geo_Desc', 'HCPCS_Cd','year'])[ 'Tot_Srvcs'].sum().reset_index()\ndf_geo_features.loc[:,'Tot_Srvcs'] = df_geo_features['Tot_Srvcs'].apply(lambda x: math.log(x))\n\ndf_geo_features.loc[:,'idx'] = df_geo_features.apply(lambda x:  \"_\".join([str(x['Rndrng_Prvdr_Geo_Desc']), str(x['HCPCS_Cd'])]), axis=1)\nstart_year = 2013\nno_of_years = 4\ndf_geo_features.loc[:,'year'] = start_year + no_of_years - df_geo_features['year'] \ndf_geo_features_train = df_geo_features.loc[df_geo_features['year']>=0,:].copy()\ndf_geo_features_train = df_geo_features_train.loc[df_geo_features_train['year'] <= no_of_years,:]\n\ndf_geo_features_test = df_geo_features.loc[df_geo_features['year']>=-1,:].copy()\ndf_geo_features_test.loc[:,'year'] = df_geo_features_test['year'] + 1\ndf_geo_features_test = df_geo_features_test.loc[df_geo_features_test['year']<=no_of_years,:].copy()\n\ndf_geo_features_train = df_geo_features_train.pivot(index=['idx'], columns=['year'], values='Tot_Srvcs')\ndf_geo_features_test = df_geo_features_test.pivot(index=['idx'], columns=['year'], values='Tot_Srvcs')\n\ncol_map = {\n    0: \"target\",\n    1: \"1\",\n    2: \"2\",\n    3: \"3\"\n}\n\ndf_geo_features_train.rename(columns = col_map, inplace=True)\ndf_geo_features_test.rename(columns = col_map, inplace=True)\n\ndf_geo_features_train['state'] = df_geo_features_train.reset_index()['idx'].apply(lambda x: x.split(\"_\")[0]).values\ndf_geo_features_test['state'] = df_geo_features_test.reset_index()['idx'].apply(lambda x: x.split(\"_\")[0]).values\n\ndf_geo_features_train.reset_index(inplace=True)\ndf_geo_features_test.reset_index(inplace=True)\n\ndf_geo_features_train.fillna(0, inplace=True)\ndf_geo_features_test.fillna(0, inplace=True)",
   "execution_count": 4,
   "outputs": []
  },
  {
   "cell_type": "code",
   "metadata": {
    "tags": [],
    "deepnote_to_be_reexecuted": false,
    "source_hash": "536b2776",
    "execution_start": 1643018788393,
    "execution_millis": 114,
    "cell_id": "00005-29b1eacd-0eab-4ce6-a455-29c839e32de8",
    "deepnote_cell_type": "code"
   },
   "source": "df_geo_features_test.sample(5)",
   "execution_count": 5,
   "outputs": [
    {
     "output_type": "execute_result",
     "execution_count": 5,
     "data": {
      "application/vnd.deepnote.dataframe.v3+json": {
       "column_count": 7,
       "row_count": 5,
       "columns": [
        {
         "name": "idx",
         "dtype": "object",
         "stats": {
          "unique_count": 5,
          "nan_count": 0,
          "categories": [
           {
            "name": "Illinois_44378",
            "count": 1
           },
           {
            "name": "Illinois_95869",
            "count": 1
           },
           {
            "name": "3 others",
            "count": 3
           }
          ]
         }
        },
        {
         "name": "target",
         "dtype": "float64",
         "stats": {
          "unique_count": 4,
          "nan_count": 0,
          "min": "0.0",
          "max": "4.727387818712341",
          "histogram": [
           {
            "bin_start": 0,
            "bin_end": 0.4727387818712341,
            "count": 2
           },
           {
            "bin_start": 0.4727387818712341,
            "bin_end": 0.9454775637424682,
            "count": 0
           },
           {
            "bin_start": 0.9454775637424682,
            "bin_end": 1.4182163456137022,
            "count": 0
           },
           {
            "bin_start": 1.4182163456137022,
            "bin_end": 1.8909551274849363,
            "count": 0
           },
           {
            "bin_start": 1.8909551274849363,
            "bin_end": 2.3636939093561704,
            "count": 0
           },
           {
            "bin_start": 2.3636939093561704,
            "bin_end": 2.8364326912274045,
            "count": 0
           },
           {
            "bin_start": 2.8364326912274045,
            "bin_end": 3.3091714730986386,
            "count": 0
           },
           {
            "bin_start": 3.3091714730986386,
            "bin_end": 3.7819102549698727,
            "count": 1
           },
           {
            "bin_start": 3.7819102549698727,
            "bin_end": 4.254649036841107,
            "count": 1
           },
           {
            "bin_start": 4.254649036841107,
            "bin_end": 4.727387818712341,
            "count": 1
           }
          ]
         }
        },
        {
         "name": "1",
         "dtype": "float64",
         "stats": {
          "unique_count": 5,
          "nan_count": 0,
          "min": "0.0",
          "max": "4.709530201312334",
          "histogram": [
           {
            "bin_start": 0,
            "bin_end": 0.4709530201312334,
            "count": 1
           },
           {
            "bin_start": 0.4709530201312334,
            "bin_end": 0.9419060402624668,
            "count": 0
           },
           {
            "bin_start": 0.9419060402624668,
            "bin_end": 1.4128590603937004,
            "count": 0
           },
           {
            "bin_start": 1.4128590603937004,
            "bin_end": 1.8838120805249337,
            "count": 0
           },
           {
            "bin_start": 1.8838120805249337,
            "bin_end": 2.354765100656167,
            "count": 0
           },
           {
            "bin_start": 2.354765100656167,
            "bin_end": 2.8257181207874007,
            "count": 1
           },
           {
            "bin_start": 2.8257181207874007,
            "bin_end": 3.296671140918634,
            "count": 0
           },
           {
            "bin_start": 3.296671140918634,
            "bin_end": 3.7676241610498673,
            "count": 1
           },
           {
            "bin_start": 3.7676241610498673,
            "bin_end": 4.238577181181101,
            "count": 1
           },
           {
            "bin_start": 4.238577181181101,
            "bin_end": 4.709530201312334,
            "count": 1
           }
          ]
         }
        },
        {
         "name": "2",
         "dtype": "float64",
         "stats": {
          "unique_count": 4,
          "nan_count": 0,
          "min": "0.0",
          "max": "4.804021044733257",
          "histogram": [
           {
            "bin_start": 0,
            "bin_end": 0.48040210447332565,
            "count": 2
           },
           {
            "bin_start": 0.48040210447332565,
            "bin_end": 0.9608042089466513,
            "count": 0
           },
           {
            "bin_start": 0.9608042089466513,
            "bin_end": 1.4412063134199768,
            "count": 0
           },
           {
            "bin_start": 1.4412063134199768,
            "bin_end": 1.9216084178933026,
            "count": 0
           },
           {
            "bin_start": 1.9216084178933026,
            "bin_end": 2.4020105223666284,
            "count": 0
           },
           {
            "bin_start": 2.4020105223666284,
            "bin_end": 2.8824126268399537,
            "count": 0
           },
           {
            "bin_start": 2.8824126268399537,
            "bin_end": 3.3628147313132795,
            "count": 0
           },
           {
            "bin_start": 3.3628147313132795,
            "bin_end": 3.8432168357866052,
            "count": 1
           },
           {
            "bin_start": 3.8432168357866052,
            "bin_end": 4.323618940259931,
            "count": 1
           },
           {
            "bin_start": 4.323618940259931,
            "bin_end": 4.804021044733257,
            "count": 1
           }
          ]
         }
        },
        {
         "name": "3",
         "dtype": "float64",
         "stats": {
          "unique_count": 4,
          "nan_count": 0,
          "min": "0.0",
          "max": "4.700480365792417",
          "histogram": [
           {
            "bin_start": 0,
            "bin_end": 0.47004803657924166,
            "count": 2
           },
           {
            "bin_start": 0.47004803657924166,
            "bin_end": 0.9400960731584833,
            "count": 0
           },
           {
            "bin_start": 0.9400960731584833,
            "bin_end": 1.410144109737725,
            "count": 0
           },
           {
            "bin_start": 1.410144109737725,
            "bin_end": 1.8801921463169666,
            "count": 0
           },
           {
            "bin_start": 1.8801921463169666,
            "bin_end": 2.3502401828962083,
            "count": 0
           },
           {
            "bin_start": 2.3502401828962083,
            "bin_end": 2.82028821947545,
            "count": 0
           },
           {
            "bin_start": 2.82028821947545,
            "bin_end": 3.2903362560546916,
            "count": 0
           },
           {
            "bin_start": 3.2903362560546916,
            "bin_end": 3.7603842926339333,
            "count": 0
           },
           {
            "bin_start": 3.7603842926339333,
            "bin_end": 4.2304323292131745,
            "count": 1
           },
           {
            "bin_start": 4.2304323292131745,
            "bin_end": 4.700480365792417,
            "count": 2
           }
          ]
         }
        },
        {
         "name": 4,
         "dtype": "float64",
         "stats": {
          "unique_count": 5,
          "nan_count": 0,
          "min": "0.0",
          "max": "4.77912349311153",
          "histogram": [
           {
            "bin_start": 0,
            "bin_end": 0.47791234931115295,
            "count": 1
           },
           {
            "bin_start": 0.47791234931115295,
            "bin_end": 0.9558246986223059,
            "count": 0
           },
           {
            "bin_start": 0.9558246986223059,
            "bin_end": 1.4337370479334588,
            "count": 0
           },
           {
            "bin_start": 1.4337370479334588,
            "bin_end": 1.9116493972446118,
            "count": 0
           },
           {
            "bin_start": 1.9116493972446118,
            "bin_end": 2.389561746555765,
            "count": 0
           },
           {
            "bin_start": 2.389561746555765,
            "bin_end": 2.8674740958669176,
            "count": 1
           },
           {
            "bin_start": 2.8674740958669176,
            "bin_end": 3.345386445178071,
            "count": 1
           },
           {
            "bin_start": 3.345386445178071,
            "bin_end": 3.8232987944892236,
            "count": 0
           },
           {
            "bin_start": 3.8232987944892236,
            "bin_end": 4.301211143800376,
            "count": 1
           },
           {
            "bin_start": 4.301211143800376,
            "bin_end": 4.77912349311153,
            "count": 1
           }
          ]
         }
        },
        {
         "name": "state",
         "dtype": "object",
         "stats": {
          "unique_count": 4,
          "nan_count": 0,
          "categories": [
           {
            "name": "Illinois",
            "count": 2
           },
           {
            "name": "South Dakota",
            "count": 1
           },
           {
            "name": "2 others",
            "count": 2
           }
          ]
         }
        },
        {
         "name": "_deepnote_index_column",
         "dtype": "int64"
        }
       ],
       "rows": [
        {
         "1": 3.6888794541139363,
         "2": 3.7612001156935624,
         "3": 3.784189633918261,
         "4": 3.1780538303479458,
         "idx": "Illinois_44378",
         "target": 4.060443010546419,
         "state": "Illinois",
         "_deepnote_index_column": 63958
        },
        {
         "1": 0,
         "2": 0,
         "3": 0,
         "4": 2.833213344056216,
         "idx": "Illinois_95869",
         "target": 0,
         "state": "Illinois",
         "_deepnote_index_column": 66870
        },
        {
         "1": 3.8918202981106265,
         "2": 4.2626798770413155,
         "3": 4.343805421853684,
         "4": 4.127134385045092,
         "idx": "South Dakota_61154",
         "target": 3.58351893845611,
         "state": "South Dakota",
         "_deepnote_index_column": 208973
        },
        {
         "1": 4.709530201312334,
         "2": 4.804021044733257,
         "3": 4.700480365792417,
         "4": 4.77912349311153,
         "idx": "Pennsylvania_69631",
         "target": 4.727387818712341,
         "state": "Pennsylvania",
         "_deepnote_index_column": 194564
        },
        {
         "1": 2.5649493574615367,
         "2": 0,
         "3": 0,
         "4": 0,
         "idx": "Texas_68328",
         "target": 0,
         "state": "Texas",
         "_deepnote_index_column": 220384
        }
       ]
      },
      "text/plain": "year                   idx    target         1         2         3         4  \\\n63958       Illinois_44378  4.060443  3.688879  3.761200  3.784190  3.178054   \n66870       Illinois_95869  0.000000  0.000000  0.000000  0.000000  2.833213   \n208973  South Dakota_61154  3.583519  3.891820  4.262680  4.343805  4.127134   \n194564  Pennsylvania_69631  4.727388  4.709530  4.804021  4.700480  4.779123   \n220384         Texas_68328  0.000000  2.564949  0.000000  0.000000  0.000000   \n\nyear           state  \n63958       Illinois  \n66870       Illinois  \n208973  South Dakota  \n194564  Pennsylvania  \n220384         Texas  ",
      "text/html": "<div>\n<style scoped>\n    .dataframe tbody tr th:only-of-type {\n        vertical-align: middle;\n    }\n\n    .dataframe tbody tr th {\n        vertical-align: top;\n    }\n\n    .dataframe thead th {\n        text-align: right;\n    }\n</style>\n<table border=\"1\" class=\"dataframe\">\n  <thead>\n    <tr style=\"text-align: right;\">\n      <th>year</th>\n      <th>idx</th>\n      <th>target</th>\n      <th>1</th>\n      <th>2</th>\n      <th>3</th>\n      <th>4</th>\n      <th>state</th>\n    </tr>\n  </thead>\n  <tbody>\n    <tr>\n      <th>63958</th>\n      <td>Illinois_44378</td>\n      <td>4.060443</td>\n      <td>3.688879</td>\n      <td>3.761200</td>\n      <td>3.784190</td>\n      <td>3.178054</td>\n      <td>Illinois</td>\n    </tr>\n    <tr>\n      <th>66870</th>\n      <td>Illinois_95869</td>\n      <td>0.000000</td>\n      <td>0.000000</td>\n      <td>0.000000</td>\n      <td>0.000000</td>\n      <td>2.833213</td>\n      <td>Illinois</td>\n    </tr>\n    <tr>\n      <th>208973</th>\n      <td>South Dakota_61154</td>\n      <td>3.583519</td>\n      <td>3.891820</td>\n      <td>4.262680</td>\n      <td>4.343805</td>\n      <td>4.127134</td>\n      <td>South Dakota</td>\n    </tr>\n    <tr>\n      <th>194564</th>\n      <td>Pennsylvania_69631</td>\n      <td>4.727388</td>\n      <td>4.709530</td>\n      <td>4.804021</td>\n      <td>4.700480</td>\n      <td>4.779123</td>\n      <td>Pennsylvania</td>\n    </tr>\n    <tr>\n      <th>220384</th>\n      <td>Texas_68328</td>\n      <td>0.000000</td>\n      <td>2.564949</td>\n      <td>0.000000</td>\n      <td>0.000000</td>\n      <td>0.000000</td>\n      <td>Texas</td>\n    </tr>\n  </tbody>\n</table>\n</div>"
     },
     "metadata": {}
    }
   ]
  },
  {
   "cell_type": "code",
   "source": "df_geo_features_train.sample(5)",
   "metadata": {
    "cell_id": "e5bdccd0-11bf-4c12-bdda-5c3659b03ede",
    "tags": [],
    "deepnote_to_be_reexecuted": false,
    "source_hash": "46610865",
    "execution_start": 1643018788514,
    "execution_millis": 136,
    "deepnote_cell_type": "code"
   },
   "outputs": [
    {
     "output_type": "execute_result",
     "execution_count": 6,
     "data": {
      "application/vnd.deepnote.dataframe.v3+json": {
       "column_count": 7,
       "row_count": 5,
       "columns": [
        {
         "name": "idx",
         "dtype": "object",
         "stats": {
          "unique_count": 5,
          "nan_count": 0,
          "categories": [
           {
            "name": "Nebraska_11300",
            "count": 1
           },
           {
            "name": "Texas_47122",
            "count": 1
           },
           {
            "name": "3 others",
            "count": 3
           }
          ]
         }
        },
        {
         "name": "target",
         "dtype": "float64",
         "stats": {
          "unique_count": 5,
          "nan_count": 0,
          "min": "0.0",
          "max": "9.844639476726922",
          "histogram": [
           {
            "bin_start": 0,
            "bin_end": 0.9844639476726922,
            "count": 1
           },
           {
            "bin_start": 0.9844639476726922,
            "bin_end": 1.9689278953453844,
            "count": 0
           },
           {
            "bin_start": 1.9689278953453844,
            "bin_end": 2.9533918430180766,
            "count": 0
           },
           {
            "bin_start": 2.9533918430180766,
            "bin_end": 3.9378557906907687,
            "count": 1
           },
           {
            "bin_start": 3.9378557906907687,
            "bin_end": 4.922319738363461,
            "count": 0
           },
           {
            "bin_start": 4.922319738363461,
            "bin_end": 5.906783686036153,
            "count": 0
           },
           {
            "bin_start": 5.906783686036153,
            "bin_end": 6.891247633708845,
            "count": 0
           },
           {
            "bin_start": 6.891247633708845,
            "bin_end": 7.8757115813815375,
            "count": 2
           },
           {
            "bin_start": 7.8757115813815375,
            "bin_end": 8.86017552905423,
            "count": 0
           },
           {
            "bin_start": 8.86017552905423,
            "bin_end": 9.844639476726922,
            "count": 1
           }
          ]
         }
        },
        {
         "name": "1",
         "dtype": "float64",
         "stats": {
          "unique_count": 4,
          "nan_count": 0,
          "min": "0.0",
          "max": "9.920492151351953",
          "histogram": [
           {
            "bin_start": 0,
            "bin_end": 0.9920492151351953,
            "count": 2
           },
           {
            "bin_start": 0.9920492151351953,
            "bin_end": 1.9840984302703906,
            "count": 0
           },
           {
            "bin_start": 1.9840984302703906,
            "bin_end": 2.976147645405586,
            "count": 0
           },
           {
            "bin_start": 2.976147645405586,
            "bin_end": 3.968196860540781,
            "count": 0
           },
           {
            "bin_start": 3.968196860540781,
            "bin_end": 4.960246075675976,
            "count": 0
           },
           {
            "bin_start": 4.960246075675976,
            "bin_end": 5.952295290811172,
            "count": 0
           },
           {
            "bin_start": 5.952295290811172,
            "bin_end": 6.944344505946367,
            "count": 1
           },
           {
            "bin_start": 6.944344505946367,
            "bin_end": 7.936393721081562,
            "count": 1
           },
           {
            "bin_start": 7.936393721081562,
            "bin_end": 8.928442936216758,
            "count": 0
           },
           {
            "bin_start": 8.928442936216758,
            "bin_end": 9.920492151351953,
            "count": 1
           }
          ]
         }
        },
        {
         "name": "2",
         "dtype": "float64",
         "stats": {
          "unique_count": 5,
          "nan_count": 0,
          "min": "2.3978952727983707",
          "max": "9.949368727792317",
          "histogram": [
           {
            "bin_start": 2.3978952727983707,
            "bin_end": 3.153042618297765,
            "count": 2
           },
           {
            "bin_start": 3.153042618297765,
            "bin_end": 3.90818996379716,
            "count": 0
           },
           {
            "bin_start": 3.90818996379716,
            "bin_end": 4.663337309296555,
            "count": 0
           },
           {
            "bin_start": 4.663337309296555,
            "bin_end": 5.418484654795949,
            "count": 0
           },
           {
            "bin_start": 5.418484654795949,
            "bin_end": 6.173632000295344,
            "count": 0
           },
           {
            "bin_start": 6.173632000295344,
            "bin_end": 6.928779345794739,
            "count": 0
           },
           {
            "bin_start": 6.928779345794739,
            "bin_end": 7.6839266912941335,
            "count": 2
           },
           {
            "bin_start": 7.6839266912941335,
            "bin_end": 8.439074036793528,
            "count": 0
           },
           {
            "bin_start": 8.439074036793528,
            "bin_end": 9.194221382292923,
            "count": 0
           },
           {
            "bin_start": 9.194221382292923,
            "bin_end": 9.949368727792317,
            "count": 1
           }
          ]
         }
        },
        {
         "name": "3",
         "dtype": "float64",
         "stats": {
          "unique_count": 5,
          "nan_count": 0,
          "min": "3.091042453358316",
          "max": "9.974505039771408",
          "histogram": [
           {
            "bin_start": 3.091042453358316,
            "bin_end": 3.7793887119996254,
            "count": 2
           },
           {
            "bin_start": 3.7793887119996254,
            "bin_end": 4.467734970640935,
            "count": 0
           },
           {
            "bin_start": 4.467734970640935,
            "bin_end": 5.156081229282243,
            "count": 0
           },
           {
            "bin_start": 5.156081229282243,
            "bin_end": 5.844427487923553,
            "count": 0
           },
           {
            "bin_start": 5.844427487923553,
            "bin_end": 6.532773746564862,
            "count": 0
           },
           {
            "bin_start": 6.532773746564862,
            "bin_end": 7.221120005206171,
            "count": 1
           },
           {
            "bin_start": 7.221120005206171,
            "bin_end": 7.90946626384748,
            "count": 1
           },
           {
            "bin_start": 7.90946626384748,
            "bin_end": 8.59781252248879,
            "count": 0
           },
           {
            "bin_start": 8.59781252248879,
            "bin_end": 9.286158781130098,
            "count": 0
           },
           {
            "bin_start": 9.286158781130098,
            "bin_end": 9.974505039771408,
            "count": 1
           }
          ]
         }
        },
        {
         "name": 4,
         "dtype": "float64",
         "stats": {
          "unique_count": 5,
          "nan_count": 0,
          "min": "0.0",
          "max": "10.037406370101916",
          "histogram": [
           {
            "bin_start": 0,
            "bin_end": 1.0037406370101916,
            "count": 1
           },
           {
            "bin_start": 1.0037406370101916,
            "bin_end": 2.007481274020383,
            "count": 0
           },
           {
            "bin_start": 2.007481274020383,
            "bin_end": 3.0112219110305745,
            "count": 1
           },
           {
            "bin_start": 3.0112219110305745,
            "bin_end": 4.014962548040766,
            "count": 0
           },
           {
            "bin_start": 4.014962548040766,
            "bin_end": 5.018703185050958,
            "count": 0
           },
           {
            "bin_start": 5.018703185050958,
            "bin_end": 6.022443822061149,
            "count": 0
           },
           {
            "bin_start": 6.022443822061149,
            "bin_end": 7.026184459071341,
            "count": 0
           },
           {
            "bin_start": 7.026184459071341,
            "bin_end": 8.029925096081532,
            "count": 2
           },
           {
            "bin_start": 8.029925096081532,
            "bin_end": 9.033665733091723,
            "count": 0
           },
           {
            "bin_start": 9.033665733091723,
            "bin_end": 10.037406370101916,
            "count": 1
           }
          ]
         }
        },
        {
         "name": "state",
         "dtype": "object",
         "stats": {
          "unique_count": 5,
          "nan_count": 0,
          "categories": [
           {
            "name": "Nebraska",
            "count": 1
           },
           {
            "name": "Texas",
            "count": 1
           },
           {
            "name": "3 others",
            "count": 3
           }
          ]
         }
        },
        {
         "name": "_deepnote_index_column",
         "dtype": "int64"
        }
       ],
       "rows": [
        {
         "1": 7.228388451573604,
         "2": 7.212294468500341,
         "3": 7.0326242610280065,
         "4": 7.074963197966044,
         "idx": "Nebraska_11300",
         "target": 7.255591274253665,
         "state": "Nebraska",
         "_deepnote_index_column": 138811
        },
        {
         "1": 0,
         "2": 2.8903717578961645,
         "3": 3.295836866004329,
         "4": 2.3978952727983707,
         "idx": "Texas_47122",
         "target": 3.58351893845611,
         "state": "Texas",
         "_deepnote_index_column": 218632
        },
        {
         "1": 0,
         "2": 2.3978952727983707,
         "3": 3.091042453358316,
         "4": 0,
         "idx": "New Hampshire_94770",
         "target": 0,
         "state": "New Hampshire",
         "_deepnote_index_column": 149451
        },
        {
         "1": 6.495265555937008,
         "2": 7.613324979540639,
         "3": 7.646831391430482,
         "4": 7.399398083331354,
         "idx": "Tennessee_99347",
         "target": 7.0431599159883405,
         "state": "Tennessee",
         "_deepnote_index_column": 215217
        },
        {
         "1": 9.920492151351953,
         "2": 9.949368727792317,
         "3": 9.974505039771408,
         "4": 10.037406370101916,
         "idx": "National_20931",
         "target": 9.844639476726922,
         "state": "National",
         "_deepnote_index_column": 129869
        }
       ]
      },
      "text/plain": "year                    idx    target         1         2         3  \\\n138811       Nebraska_11300  7.255591  7.228388  7.212294  7.032624   \n218632          Texas_47122  3.583519  0.000000  2.890372  3.295837   \n149451  New Hampshire_94770  0.000000  0.000000  2.397895  3.091042   \n215217      Tennessee_99347  7.043160  6.495266  7.613325  7.646831   \n129869       National_20931  9.844639  9.920492  9.949369  9.974505   \n\nyear            4          state  \n138811   7.074963       Nebraska  \n218632   2.397895          Texas  \n149451   0.000000  New Hampshire  \n215217   7.399398      Tennessee  \n129869  10.037406       National  ",
      "text/html": "<div>\n<style scoped>\n    .dataframe tbody tr th:only-of-type {\n        vertical-align: middle;\n    }\n\n    .dataframe tbody tr th {\n        vertical-align: top;\n    }\n\n    .dataframe thead th {\n        text-align: right;\n    }\n</style>\n<table border=\"1\" class=\"dataframe\">\n  <thead>\n    <tr style=\"text-align: right;\">\n      <th>year</th>\n      <th>idx</th>\n      <th>target</th>\n      <th>1</th>\n      <th>2</th>\n      <th>3</th>\n      <th>4</th>\n      <th>state</th>\n    </tr>\n  </thead>\n  <tbody>\n    <tr>\n      <th>138811</th>\n      <td>Nebraska_11300</td>\n      <td>7.255591</td>\n      <td>7.228388</td>\n      <td>7.212294</td>\n      <td>7.032624</td>\n      <td>7.074963</td>\n      <td>Nebraska</td>\n    </tr>\n    <tr>\n      <th>218632</th>\n      <td>Texas_47122</td>\n      <td>3.583519</td>\n      <td>0.000000</td>\n      <td>2.890372</td>\n      <td>3.295837</td>\n      <td>2.397895</td>\n      <td>Texas</td>\n    </tr>\n    <tr>\n      <th>149451</th>\n      <td>New Hampshire_94770</td>\n      <td>0.000000</td>\n      <td>0.000000</td>\n      <td>2.397895</td>\n      <td>3.091042</td>\n      <td>0.000000</td>\n      <td>New Hampshire</td>\n    </tr>\n    <tr>\n      <th>215217</th>\n      <td>Tennessee_99347</td>\n      <td>7.043160</td>\n      <td>6.495266</td>\n      <td>7.613325</td>\n      <td>7.646831</td>\n      <td>7.399398</td>\n      <td>Tennessee</td>\n    </tr>\n    <tr>\n      <th>129869</th>\n      <td>National_20931</td>\n      <td>9.844639</td>\n      <td>9.920492</td>\n      <td>9.949369</td>\n      <td>9.974505</td>\n      <td>10.037406</td>\n      <td>National</td>\n    </tr>\n  </tbody>\n</table>\n</div>"
     },
     "metadata": {}
    }
   ],
   "execution_count": 6
  },
  {
   "cell_type": "code",
   "metadata": {
    "tags": [],
    "deepnote_to_be_reexecuted": false,
    "source_hash": "a9e9cdfd",
    "execution_start": 1643018788635,
    "execution_millis": 525,
    "cell_id": "00009-d31045e7-68d3-4a18-aac6-a9f0dc8a5c27",
    "deepnote_cell_type": "code"
   },
   "source": "# Import population estimates data\npop_est = pd.read_csv(\"/datasets/cms/SC-EST2020-ALLDATA5.csv\")\n\n# Drop columns that is not needed for \"one row\" melting\npop_est.drop(['SUMLEV', 'REGION', 'DIVISION', 'STATE'], axis='columns', inplace=True)",
   "execution_count": 7,
   "outputs": []
  },
  {
   "cell_type": "code",
   "metadata": {
    "tags": [],
    "deepnote_to_be_reexecuted": false,
    "source_hash": "a65ff836",
    "execution_start": 1643018789161,
    "execution_millis": 100,
    "cell_id": "00010-618ab698-93f9-4861-bb95-a132d32f6122",
    "deepnote_cell_type": "code"
   },
   "source": "pop_est.sample(3)",
   "execution_count": 8,
   "outputs": [
    {
     "output_type": "execute_result",
     "execution_count": 8,
     "data": {
      "application/vnd.deepnote.dataframe.v3+json": {
       "column_count": 18,
       "row_count": 3,
       "columns": [
        {
         "name": "NAME",
         "dtype": "object",
         "stats": {
          "unique_count": 3,
          "nan_count": 0,
          "categories": [
           {
            "name": "Colorado",
            "count": 1
           },
           {
            "name": "Alaska",
            "count": 1
           },
           {
            "name": "West Virginia",
            "count": 1
           }
          ]
         }
        },
        {
         "name": "SEX",
         "dtype": "int64",
         "stats": {
          "unique_count": 3,
          "nan_count": 0,
          "min": "0",
          "max": "2",
          "histogram": [
           {
            "bin_start": 0,
            "bin_end": 0.2,
            "count": 1
           },
           {
            "bin_start": 0.2,
            "bin_end": 0.4,
            "count": 0
           },
           {
            "bin_start": 0.4,
            "bin_end": 0.6000000000000001,
            "count": 0
           },
           {
            "bin_start": 0.6000000000000001,
            "bin_end": 0.8,
            "count": 0
           },
           {
            "bin_start": 0.8,
            "bin_end": 1,
            "count": 0
           },
           {
            "bin_start": 1,
            "bin_end": 1.2000000000000002,
            "count": 1
           },
           {
            "bin_start": 1.2000000000000002,
            "bin_end": 1.4000000000000001,
            "count": 0
           },
           {
            "bin_start": 1.4000000000000001,
            "bin_end": 1.6,
            "count": 0
           },
           {
            "bin_start": 1.6,
            "bin_end": 1.8,
            "count": 0
           },
           {
            "bin_start": 1.8,
            "bin_end": 2,
            "count": 1
           }
          ]
         }
        },
        {
         "name": "ORIGIN",
         "dtype": "int64",
         "stats": {
          "unique_count": 1,
          "nan_count": 0,
          "min": "0",
          "max": "0",
          "histogram": [
           {
            "bin_start": -0.5,
            "bin_end": -0.4,
            "count": 0
           },
           {
            "bin_start": -0.4,
            "bin_end": -0.3,
            "count": 0
           },
           {
            "bin_start": -0.3,
            "bin_end": -0.19999999999999996,
            "count": 0
           },
           {
            "bin_start": -0.19999999999999996,
            "bin_end": -0.09999999999999998,
            "count": 0
           },
           {
            "bin_start": -0.09999999999999998,
            "bin_end": 0,
            "count": 0
           },
           {
            "bin_start": 0,
            "bin_end": 0.10000000000000009,
            "count": 3
           },
           {
            "bin_start": 0.10000000000000009,
            "bin_end": 0.20000000000000007,
            "count": 0
           },
           {
            "bin_start": 0.20000000000000007,
            "bin_end": 0.30000000000000004,
            "count": 0
           },
           {
            "bin_start": 0.30000000000000004,
            "bin_end": 0.4,
            "count": 0
           },
           {
            "bin_start": 0.4,
            "bin_end": 0.5,
            "count": 0
           }
          ]
         }
        },
        {
         "name": "RACE",
         "dtype": "int64",
         "stats": {
          "unique_count": 2,
          "nan_count": 0,
          "min": "1",
          "max": "5",
          "histogram": [
           {
            "bin_start": 1,
            "bin_end": 1.4,
            "count": 2
           },
           {
            "bin_start": 1.4,
            "bin_end": 1.8,
            "count": 0
           },
           {
            "bin_start": 1.8,
            "bin_end": 2.2,
            "count": 0
           },
           {
            "bin_start": 2.2,
            "bin_end": 2.6,
            "count": 0
           },
           {
            "bin_start": 2.6,
            "bin_end": 3,
            "count": 0
           },
           {
            "bin_start": 3,
            "bin_end": 3.4000000000000004,
            "count": 0
           },
           {
            "bin_start": 3.4000000000000004,
            "bin_end": 3.8000000000000003,
            "count": 0
           },
           {
            "bin_start": 3.8000000000000003,
            "bin_end": 4.2,
            "count": 0
           },
           {
            "bin_start": 4.2,
            "bin_end": 4.6,
            "count": 0
           },
           {
            "bin_start": 4.6,
            "bin_end": 5,
            "count": 1
           }
          ]
         }
        },
        {
         "name": "AGE",
         "dtype": "int64",
         "stats": {
          "unique_count": 3,
          "nan_count": 0,
          "min": "11",
          "max": "69",
          "histogram": [
           {
            "bin_start": 11,
            "bin_end": 16.8,
            "count": 1
           },
           {
            "bin_start": 16.8,
            "bin_end": 22.6,
            "count": 0
           },
           {
            "bin_start": 22.6,
            "bin_end": 28.4,
            "count": 0
           },
           {
            "bin_start": 28.4,
            "bin_end": 34.2,
            "count": 0
           },
           {
            "bin_start": 34.2,
            "bin_end": 40,
            "count": 0
           },
           {
            "bin_start": 40,
            "bin_end": 45.8,
            "count": 1
           },
           {
            "bin_start": 45.8,
            "bin_end": 51.6,
            "count": 0
           },
           {
            "bin_start": 51.6,
            "bin_end": 57.4,
            "count": 0
           },
           {
            "bin_start": 57.4,
            "bin_end": 63.199999999999996,
            "count": 0
           },
           {
            "bin_start": 63.199999999999996,
            "bin_end": 69,
            "count": 1
           }
          ]
         }
        },
        {
         "name": "CENSUS2010POP",
         "dtype": "int64",
         "stats": {
          "unique_count": 3,
          "nan_count": 0,
          "min": "114",
          "max": "14928",
          "histogram": [
           {
            "bin_start": 114,
            "bin_end": 1595.4,
            "count": 1
           },
           {
            "bin_start": 1595.4,
            "bin_end": 3076.8,
            "count": 0
           },
           {
            "bin_start": 3076.8,
            "bin_end": 4558.200000000001,
            "count": 0
           },
           {
            "bin_start": 4558.200000000001,
            "bin_end": 6039.6,
            "count": 0
           },
           {
            "bin_start": 6039.6,
            "bin_end": 7521,
            "count": 0
           },
           {
            "bin_start": 7521,
            "bin_end": 9002.400000000001,
            "count": 0
           },
           {
            "bin_start": 9002.400000000001,
            "bin_end": 10483.800000000001,
            "count": 1
           },
           {
            "bin_start": 10483.800000000001,
            "bin_end": 11965.2,
            "count": 0
           },
           {
            "bin_start": 11965.2,
            "bin_end": 13446.6,
            "count": 0
           },
           {
            "bin_start": 13446.6,
            "bin_end": 14928,
            "count": 1
           }
          ]
         }
        },
        {
         "name": "ESTIMATESBASE2010",
         "dtype": "int64",
         "stats": {
          "unique_count": 3,
          "nan_count": 0,
          "min": "114",
          "max": "14928",
          "histogram": [
           {
            "bin_start": 114,
            "bin_end": 1595.4,
            "count": 1
           },
           {
            "bin_start": 1595.4,
            "bin_end": 3076.8,
            "count": 0
           },
           {
            "bin_start": 3076.8,
            "bin_end": 4558.200000000001,
            "count": 0
           },
           {
            "bin_start": 4558.200000000001,
            "bin_end": 6039.6,
            "count": 0
           },
           {
            "bin_start": 6039.6,
            "bin_end": 7521,
            "count": 0
           },
           {
            "bin_start": 7521,
            "bin_end": 9002.400000000001,
            "count": 0
           },
           {
            "bin_start": 9002.400000000001,
            "bin_end": 10483.800000000001,
            "count": 1
           },
           {
            "bin_start": 10483.800000000001,
            "bin_end": 11965.2,
            "count": 0
           },
           {
            "bin_start": 11965.2,
            "bin_end": 13446.6,
            "count": 0
           },
           {
            "bin_start": 13446.6,
            "bin_end": 14928,
            "count": 1
           }
          ]
         }
        },
        {
         "name": "POPESTIMATE2010",
         "dtype": "int64",
         "stats": {
          "unique_count": 3,
          "nan_count": 0,
          "min": "115",
          "max": "15179",
          "histogram": [
           {
            "bin_start": 115,
            "bin_end": 1621.4,
            "count": 1
           },
           {
            "bin_start": 1621.4,
            "bin_end": 3127.8,
            "count": 0
           },
           {
            "bin_start": 3127.8,
            "bin_end": 4634.200000000001,
            "count": 0
           },
           {
            "bin_start": 4634.200000000001,
            "bin_end": 6140.6,
            "count": 0
           },
           {
            "bin_start": 6140.6,
            "bin_end": 7647,
            "count": 0
           },
           {
            "bin_start": 7647,
            "bin_end": 9153.400000000001,
            "count": 0
           },
           {
            "bin_start": 9153.400000000001,
            "bin_end": 10659.800000000001,
            "count": 1
           },
           {
            "bin_start": 10659.800000000001,
            "bin_end": 12166.2,
            "count": 0
           },
           {
            "bin_start": 12166.2,
            "bin_end": 13672.6,
            "count": 0
           },
           {
            "bin_start": 13672.6,
            "bin_end": 15179,
            "count": 1
           }
          ]
         }
        },
        {
         "name": "POPESTIMATE2011",
         "dtype": "int64",
         "stats": {
          "unique_count": 3,
          "nan_count": 0,
          "min": "126",
          "max": "16487",
          "histogram": [
           {
            "bin_start": 126,
            "bin_end": 1762.1,
            "count": 1
           },
           {
            "bin_start": 1762.1,
            "bin_end": 3398.2,
            "count": 0
           },
           {
            "bin_start": 3398.2,
            "bin_end": 5034.299999999999,
            "count": 0
           },
           {
            "bin_start": 5034.299999999999,
            "bin_end": 6670.4,
            "count": 0
           },
           {
            "bin_start": 6670.4,
            "bin_end": 8306.5,
            "count": 0
           },
           {
            "bin_start": 8306.5,
            "bin_end": 9942.599999999999,
            "count": 0
           },
           {
            "bin_start": 9942.599999999999,
            "bin_end": 11578.699999999999,
            "count": 1
           },
           {
            "bin_start": 11578.699999999999,
            "bin_end": 13214.8,
            "count": 0
           },
           {
            "bin_start": 13214.8,
            "bin_end": 14850.9,
            "count": 0
           },
           {
            "bin_start": 14850.9,
            "bin_end": 16487,
            "count": 1
           }
          ]
         }
        },
        {
         "name": "POPESTIMATE2012",
         "dtype": "int64",
         "stats": {
          "unique_count": 3,
          "nan_count": 0,
          "min": "146",
          "max": "18840",
          "histogram": [
           {
            "bin_start": 146,
            "bin_end": 2015.4,
            "count": 1
           },
           {
            "bin_start": 2015.4,
            "bin_end": 3884.8,
            "count": 0
           },
           {
            "bin_start": 3884.8,
            "bin_end": 5754.200000000001,
            "count": 0
           },
           {
            "bin_start": 5754.200000000001,
            "bin_end": 7623.6,
            "count": 0
           },
           {
            "bin_start": 7623.6,
            "bin_end": 9493,
            "count": 0
           },
           {
            "bin_start": 9493,
            "bin_end": 11362.400000000001,
            "count": 1
           },
           {
            "bin_start": 11362.400000000001,
            "bin_end": 13231.800000000001,
            "count": 0
           },
           {
            "bin_start": 13231.800000000001,
            "bin_end": 15101.2,
            "count": 0
           },
           {
            "bin_start": 15101.2,
            "bin_end": 16970.600000000002,
            "count": 0
           },
           {
            "bin_start": 16970.600000000002,
            "bin_end": 18840,
            "count": 1
           }
          ]
         }
        },
        {
         "name": "POPESTIMATE2013",
         "dtype": "int64",
         "stats": {
          "unique_count": 3,
          "nan_count": 0,
          "min": "146",
          "max": "18464",
          "histogram": [
           {
            "bin_start": 146,
            "bin_end": 1977.8,
            "count": 1
           },
           {
            "bin_start": 1977.8,
            "bin_end": 3809.6,
            "count": 0
           },
           {
            "bin_start": 3809.6,
            "bin_end": 5641.4,
            "count": 0
           },
           {
            "bin_start": 5641.4,
            "bin_end": 7473.2,
            "count": 0
           },
           {
            "bin_start": 7473.2,
            "bin_end": 9305,
            "count": 0
           },
           {
            "bin_start": 9305,
            "bin_end": 11136.8,
            "count": 1
           },
           {
            "bin_start": 11136.8,
            "bin_end": 12968.6,
            "count": 0
           },
           {
            "bin_start": 12968.6,
            "bin_end": 14800.4,
            "count": 0
           },
           {
            "bin_start": 14800.4,
            "bin_end": 16632.2,
            "count": 0
           },
           {
            "bin_start": 16632.2,
            "bin_end": 18464,
            "count": 1
           }
          ]
         }
        },
        {
         "name": "POPESTIMATE2014",
         "dtype": "int64",
         "stats": {
          "unique_count": 3,
          "nan_count": 0,
          "min": "134",
          "max": "19089",
          "histogram": [
           {
            "bin_start": 134,
            "bin_end": 2029.5,
            "count": 1
           },
           {
            "bin_start": 2029.5,
            "bin_end": 3925,
            "count": 0
           },
           {
            "bin_start": 3925,
            "bin_end": 5820.5,
            "count": 0
           },
           {
            "bin_start": 5820.5,
            "bin_end": 7716,
            "count": 0
           },
           {
            "bin_start": 7716,
            "bin_end": 9611.5,
            "count": 0
           },
           {
            "bin_start": 9611.5,
            "bin_end": 11507,
            "count": 1
           },
           {
            "bin_start": 11507,
            "bin_end": 13402.5,
            "count": 0
           },
           {
            "bin_start": 13402.5,
            "bin_end": 15298,
            "count": 0
           },
           {
            "bin_start": 15298,
            "bin_end": 17193.5,
            "count": 0
           },
           {
            "bin_start": 17193.5,
            "bin_end": 19089,
            "count": 1
           }
          ]
         }
        },
        {
         "name": "POPESTIMATE2015",
         "dtype": "int64",
         "stats": {
          "unique_count": 3,
          "nan_count": 0,
          "min": "151",
          "max": "19249",
          "histogram": [
           {
            "bin_start": 151,
            "bin_end": 2060.8,
            "count": 1
           },
           {
            "bin_start": 2060.8,
            "bin_end": 3970.6,
            "count": 0
           },
           {
            "bin_start": 3970.6,
            "bin_end": 5880.4,
            "count": 0
           },
           {
            "bin_start": 5880.4,
            "bin_end": 7790.2,
            "count": 0
           },
           {
            "bin_start": 7790.2,
            "bin_end": 9700,
            "count": 0
           },
           {
            "bin_start": 9700,
            "bin_end": 11609.8,
            "count": 1
           },
           {
            "bin_start": 11609.8,
            "bin_end": 13519.6,
            "count": 0
           },
           {
            "bin_start": 13519.6,
            "bin_end": 15429.4,
            "count": 0
           },
           {
            "bin_start": 15429.4,
            "bin_end": 17339.2,
            "count": 0
           },
           {
            "bin_start": 17339.2,
            "bin_end": 19249,
            "count": 1
           }
          ]
         }
        },
        {
         "name": "POPESTIMATE2016",
         "dtype": "int64",
         "stats": {
          "unique_count": 3,
          "nan_count": 0,
          "min": "144",
          "max": "26631",
          "histogram": [
           {
            "bin_start": 144,
            "bin_end": 2792.7,
            "count": 1
           },
           {
            "bin_start": 2792.7,
            "bin_end": 5441.4,
            "count": 0
           },
           {
            "bin_start": 5441.4,
            "bin_end": 8090.099999999999,
            "count": 0
           },
           {
            "bin_start": 8090.099999999999,
            "bin_end": 10738.8,
            "count": 1
           },
           {
            "bin_start": 10738.8,
            "bin_end": 13387.5,
            "count": 0
           },
           {
            "bin_start": 13387.5,
            "bin_end": 16036.199999999999,
            "count": 0
           },
           {
            "bin_start": 16036.199999999999,
            "bin_end": 18684.899999999998,
            "count": 0
           },
           {
            "bin_start": 18684.899999999998,
            "bin_end": 21333.6,
            "count": 0
           },
           {
            "bin_start": 21333.6,
            "bin_end": 23982.3,
            "count": 0
           },
           {
            "bin_start": 23982.3,
            "bin_end": 26631,
            "count": 1
           }
          ]
         }
        },
        {
         "name": "POPESTIMATE2017",
         "dtype": "int64",
         "stats": {
          "unique_count": 3,
          "nan_count": 0,
          "min": "140",
          "max": "25101",
          "histogram": [
           {
            "bin_start": 140,
            "bin_end": 2636.1,
            "count": 1
           },
           {
            "bin_start": 2636.1,
            "bin_end": 5132.2,
            "count": 0
           },
           {
            "bin_start": 5132.2,
            "bin_end": 7628.299999999999,
            "count": 0
           },
           {
            "bin_start": 7628.299999999999,
            "bin_end": 10124.4,
            "count": 0
           },
           {
            "bin_start": 10124.4,
            "bin_end": 12620.5,
            "count": 1
           },
           {
            "bin_start": 12620.5,
            "bin_end": 15116.599999999999,
            "count": 0
           },
           {
            "bin_start": 15116.599999999999,
            "bin_end": 17612.7,
            "count": 0
           },
           {
            "bin_start": 17612.7,
            "bin_end": 20108.8,
            "count": 0
           },
           {
            "bin_start": 20108.8,
            "bin_end": 22604.899999999998,
            "count": 0
           },
           {
            "bin_start": 22604.899999999998,
            "bin_end": 25101,
            "count": 1
           }
          ]
         }
        },
        {
         "name": "POPESTIMATE2018",
         "dtype": "int64",
         "stats": {
          "unique_count": 3,
          "nan_count": 0,
          "min": "173",
          "max": "25480",
          "histogram": [
           {
            "bin_start": 173,
            "bin_end": 2703.7,
            "count": 1
           },
           {
            "bin_start": 2703.7,
            "bin_end": 5234.4,
            "count": 0
           },
           {
            "bin_start": 5234.4,
            "bin_end": 7765.099999999999,
            "count": 0
           },
           {
            "bin_start": 7765.099999999999,
            "bin_end": 10295.8,
            "count": 1
           },
           {
            "bin_start": 10295.8,
            "bin_end": 12826.5,
            "count": 0
           },
           {
            "bin_start": 12826.5,
            "bin_end": 15357.199999999999,
            "count": 0
           },
           {
            "bin_start": 15357.199999999999,
            "bin_end": 17887.899999999998,
            "count": 0
           },
           {
            "bin_start": 17887.899999999998,
            "bin_end": 20418.6,
            "count": 0
           },
           {
            "bin_start": 20418.6,
            "bin_end": 22949.3,
            "count": 0
           },
           {
            "bin_start": 22949.3,
            "bin_end": 25480,
            "count": 1
           }
          ]
         }
        },
        {
         "name": "POPESTIMATE2019",
         "dtype": "int64",
         "stats": {
          "unique_count": 3,
          "nan_count": 0,
          "min": "170",
          "max": "26420",
          "histogram": [
           {
            "bin_start": 170,
            "bin_end": 2795,
            "count": 1
           },
           {
            "bin_start": 2795,
            "bin_end": 5420,
            "count": 0
           },
           {
            "bin_start": 5420,
            "bin_end": 8045,
            "count": 0
           },
           {
            "bin_start": 8045,
            "bin_end": 10670,
            "count": 1
           },
           {
            "bin_start": 10670,
            "bin_end": 13295,
            "count": 0
           },
           {
            "bin_start": 13295,
            "bin_end": 15920,
            "count": 0
           },
           {
            "bin_start": 15920,
            "bin_end": 18545,
            "count": 0
           },
           {
            "bin_start": 18545,
            "bin_end": 21170,
            "count": 0
           },
           {
            "bin_start": 21170,
            "bin_end": 23795,
            "count": 0
           },
           {
            "bin_start": 23795,
            "bin_end": 26420,
            "count": 1
           }
          ]
         }
        },
        {
         "name": "POPESTIMATE2020",
         "dtype": "int64",
         "stats": {
          "unique_count": 3,
          "nan_count": 0,
          "min": "172",
          "max": "27008",
          "histogram": [
           {
            "bin_start": 172,
            "bin_end": 2855.6,
            "count": 1
           },
           {
            "bin_start": 2855.6,
            "bin_end": 5539.2,
            "count": 0
           },
           {
            "bin_start": 5539.2,
            "bin_end": 8222.8,
            "count": 0
           },
           {
            "bin_start": 8222.8,
            "bin_end": 10906.4,
            "count": 1
           },
           {
            "bin_start": 10906.4,
            "bin_end": 13590,
            "count": 0
           },
           {
            "bin_start": 13590,
            "bin_end": 16273.599999999999,
            "count": 0
           },
           {
            "bin_start": 16273.599999999999,
            "bin_end": 18957.2,
            "count": 0
           },
           {
            "bin_start": 18957.2,
            "bin_end": 21640.8,
            "count": 0
           },
           {
            "bin_start": 21640.8,
            "bin_end": 24324.399999999998,
            "count": 0
           },
           {
            "bin_start": 24324.399999999998,
            "bin_end": 27008,
            "count": 1
           }
          ]
         }
        },
        {
         "name": "_deepnote_index_column",
         "dtype": "int64"
        }
       ],
       "rows": [
        {
         "NAME": "Colorado",
         "SEX": 2,
         "ORIGIN": 0,
         "RACE": 1,
         "AGE": 69,
         "CENSUS2010POP": 14928,
         "ESTIMATESBASE2010": 14928,
         "POPESTIMATE2010": 15179,
         "POPESTIMATE2011": 16487,
         "POPESTIMATE2012": 18840,
         "POPESTIMATE2013": 18464,
         "POPESTIMATE2014": 19089,
         "POPESTIMATE2015": 19249,
         "POPESTIMATE2016": 26631,
         "POPESTIMATE2017": 25101,
         "POPESTIMATE2018": 25480,
         "POPESTIMATE2019": 26420,
         "POPESTIMATE2020": 27008,
         "_deepnote_index_column": 21999
        },
        {
         "NAME": "Alaska",
         "SEX": 0,
         "ORIGIN": 0,
         "RACE": 5,
         "AGE": 43,
         "CENSUS2010POP": 114,
         "ESTIMATESBASE2010": 114,
         "POPESTIMATE2010": 115,
         "POPESTIMATE2011": 126,
         "POPESTIMATE2012": 146,
         "POPESTIMATE2013": 146,
         "POPESTIMATE2014": 134,
         "POPESTIMATE2015": 151,
         "POPESTIMATE2016": 144,
         "POPESTIMATE2017": 140,
         "POPESTIMATE2018": 173,
         "POPESTIMATE2019": 170,
         "POPESTIMATE2020": 172,
         "_deepnote_index_column": 4257
        },
        {
         "NAME": "West Virginia",
         "SEX": 1,
         "ORIGIN": 0,
         "RACE": 1,
         "AGE": 11,
         "CENSUS2010POP": 10379,
         "ESTIMATESBASE2010": 10377,
         "POPESTIMATE2010": 10442,
         "POPESTIMATE2011": 10731,
         "POPESTIMATE2012": 10617,
         "POPESTIMATE2013": 10402,
         "POPESTIMATE2014": 10303,
         "POPESTIMATE2015": 10371,
         "POPESTIMATE2016": 10278,
         "POPESTIMATE2017": 10270,
         "POPESTIMATE2018": 10229,
         "POPESTIMATE2019": 10282,
         "POPESTIMATE2020": 9822,
         "_deepnote_index_column": 187061
        }
       ]
      },
      "text/plain": "                 NAME  SEX  ORIGIN  RACE  AGE  CENSUS2010POP  \\\n21999        Colorado    2       0     1   69          14928   \n4257           Alaska    0       0     5   43            114   \n187061  West Virginia    1       0     1   11          10379   \n\n        ESTIMATESBASE2010  POPESTIMATE2010  POPESTIMATE2011  POPESTIMATE2012  \\\n21999               14928            15179            16487            18840   \n4257                  114              115              126              146   \n187061              10377            10442            10731            10617   \n\n        POPESTIMATE2013  POPESTIMATE2014  POPESTIMATE2015  POPESTIMATE2016  \\\n21999             18464            19089            19249            26631   \n4257                146              134              151              144   \n187061            10402            10303            10371            10278   \n\n        POPESTIMATE2017  POPESTIMATE2018  POPESTIMATE2019  POPESTIMATE2020  \n21999             25101            25480            26420            27008  \n4257                140              173              170              172  \n187061            10270            10229            10282             9822  ",
      "text/html": "<div>\n<style scoped>\n    .dataframe tbody tr th:only-of-type {\n        vertical-align: middle;\n    }\n\n    .dataframe tbody tr th {\n        vertical-align: top;\n    }\n\n    .dataframe thead th {\n        text-align: right;\n    }\n</style>\n<table border=\"1\" class=\"dataframe\">\n  <thead>\n    <tr style=\"text-align: right;\">\n      <th></th>\n      <th>NAME</th>\n      <th>SEX</th>\n      <th>ORIGIN</th>\n      <th>RACE</th>\n      <th>AGE</th>\n      <th>CENSUS2010POP</th>\n      <th>ESTIMATESBASE2010</th>\n      <th>POPESTIMATE2010</th>\n      <th>POPESTIMATE2011</th>\n      <th>POPESTIMATE2012</th>\n      <th>POPESTIMATE2013</th>\n      <th>POPESTIMATE2014</th>\n      <th>POPESTIMATE2015</th>\n      <th>POPESTIMATE2016</th>\n      <th>POPESTIMATE2017</th>\n      <th>POPESTIMATE2018</th>\n      <th>POPESTIMATE2019</th>\n      <th>POPESTIMATE2020</th>\n    </tr>\n  </thead>\n  <tbody>\n    <tr>\n      <th>21999</th>\n      <td>Colorado</td>\n      <td>2</td>\n      <td>0</td>\n      <td>1</td>\n      <td>69</td>\n      <td>14928</td>\n      <td>14928</td>\n      <td>15179</td>\n      <td>16487</td>\n      <td>18840</td>\n      <td>18464</td>\n      <td>19089</td>\n      <td>19249</td>\n      <td>26631</td>\n      <td>25101</td>\n      <td>25480</td>\n      <td>26420</td>\n      <td>27008</td>\n    </tr>\n    <tr>\n      <th>4257</th>\n      <td>Alaska</td>\n      <td>0</td>\n      <td>0</td>\n      <td>5</td>\n      <td>43</td>\n      <td>114</td>\n      <td>114</td>\n      <td>115</td>\n      <td>126</td>\n      <td>146</td>\n      <td>146</td>\n      <td>134</td>\n      <td>151</td>\n      <td>144</td>\n      <td>140</td>\n      <td>173</td>\n      <td>170</td>\n      <td>172</td>\n    </tr>\n    <tr>\n      <th>187061</th>\n      <td>West Virginia</td>\n      <td>1</td>\n      <td>0</td>\n      <td>1</td>\n      <td>11</td>\n      <td>10379</td>\n      <td>10377</td>\n      <td>10442</td>\n      <td>10731</td>\n      <td>10617</td>\n      <td>10402</td>\n      <td>10303</td>\n      <td>10371</td>\n      <td>10278</td>\n      <td>10270</td>\n      <td>10229</td>\n      <td>10282</td>\n      <td>9822</td>\n    </tr>\n  </tbody>\n</table>\n</div>"
     },
     "metadata": {}
    }
   ]
  },
  {
   "cell_type": "code",
   "metadata": {
    "tags": [],
    "deepnote_to_be_reexecuted": false,
    "source_hash": "c451e146",
    "execution_start": 1643018789271,
    "execution_millis": 148,
    "deepnote_output_heights": [
     249
    ],
    "cell_id": "00011-d796d1ad-9377-407a-9ccf-6dc374244662",
    "deepnote_cell_type": "code"
   },
   "source": "pop_est['age_category'] =  pop_est['AGE'].apply(lambda x: 1 if x >40  else 0) \n#pop_est['idx'] = pop_est.apply(lambda x:  \"_\".join([str(x['SEX']), str(x['ORIGIN']), str(x['RACE']), str(x['AGE'])]), axis=1)\npop_est.drop(['SEX', 'ORIGIN', 'RACE', 'AGE'], axis='columns', inplace=True)",
   "execution_count": 9,
   "outputs": []
  },
  {
   "cell_type": "code",
   "metadata": {
    "tags": [],
    "deepnote_to_be_reexecuted": false,
    "source_hash": "b3547eaa",
    "execution_start": 1643018789421,
    "execution_millis": 3701,
    "cell_id": "00012-8e3ed245-4fce-401f-bfcc-075598c16866",
    "deepnote_cell_type": "code"
   },
   "source": "pop_agg_df = pop_est.copy()\npop_agg_df.drop(['CENSUS2010POP','ESTIMATESBASE2010'], axis = 'columns', inplace=True)\n\npop_agg_df = pd.melt(pop_agg_df,id_vars=['NAME','age_category'])\n\npop_agg_df.loc[:,'year'] = pop_agg_df['variable'].apply(lambda x: int(x[-4:]))\n#popestimate df\npop_agg_df.drop(['variable'], axis='columns', inplace=True)\n\npop_agg_df = pop_agg_df.groupby(['NAME','age_category','year']).sum().reset_index()\n# set t=0 for base year\n\n# set year count to integers from 0 to x for train and test split\nstart_year = 2013\nno_of_years = 4\npop_agg_df.loc[:,'year'] = start_year + no_of_years - pop_agg_df['year'] \npop_train_df = pop_agg_df.loc[pop_agg_df['year']>0,:].copy()\npop_train_df = pop_train_df.loc[pop_train_df['year'] <= no_of_years,:]\npop_test_df = pop_agg_df.loc[pop_agg_df['year']>-1,:].copy()\npop_test_df.loc[:,'year'] = pop_test_df['year'] + 1\npop_test_df = pop_test_df.loc[pop_test_df['year'] <= no_of_years,:]\n\npop_train_df.loc[:,'idx'] = pop_train_df.apply(lambda x:  \"_\".join([str(x['age_category']), str(x['year'])]), axis=1)\npop_train_df = pop_train_df.pivot(index='NAME', columns=['idx'], values='value')\n\npop_test_df.loc[:,'idx'] = pop_test_df.apply(lambda x:  \"_\".join([str(x['age_category']), str(x['year'])]), axis=1)\npop_test_df = pop_test_df.pivot(index='NAME', columns=['idx'], values='value')\n\n# normalise values based on train data only\n\n_mean = pop_train_df.stack().mean()\n_std = pop_train_df.stack().std()\n\npop_train_df = (pop_train_df-_mean)/_std\npop_test_df = (pop_test_df-_mean)/_std\n\npop_train_df.index.name = 'state'\npop_test_df.index.name = 'state'\n\npop_train_df.reset_index(inplace=True)\npop_test_df.reset_index(inplace=True)",
   "execution_count": 10,
   "outputs": []
  },
  {
   "cell_type": "code",
   "metadata": {
    "tags": [],
    "deepnote_to_be_reexecuted": false,
    "source_hash": "17dd8827",
    "execution_start": 1643018793126,
    "execution_millis": 88,
    "cell_id": "00013-10c59d1b-0bbc-4e86-9a71-fced3ca327d7",
    "deepnote_cell_type": "code"
   },
   "source": "pop_train_df.sample(3)",
   "execution_count": 11,
   "outputs": [
    {
     "output_type": "execute_result",
     "execution_count": 11,
     "data": {
      "application/vnd.deepnote.dataframe.v3+json": {
       "column_count": 9,
       "row_count": 3,
       "columns": [
        {
         "name": "state",
         "dtype": "object",
         "stats": {
          "unique_count": 3,
          "nan_count": 0,
          "categories": [
           {
            "name": "District of Columbia",
            "count": 1
           },
           {
            "name": "Idaho",
            "count": 1
           },
           {
            "name": "Montana",
            "count": 1
           }
          ]
         }
        },
        {
         "name": "0_1",
         "dtype": "float64",
         "stats": {
          "unique_count": 3,
          "nan_count": 0,
          "min": "-0.7518084910971401",
          "max": "-0.6061148065905043",
          "histogram": [
           {
            "bin_start": -0.7518084910971401,
            "bin_end": -0.7372391226464765,
            "count": 1
           },
           {
            "bin_start": -0.7372391226464765,
            "bin_end": -0.7226697541958129,
            "count": 0
           },
           {
            "bin_start": -0.7226697541958129,
            "bin_end": -0.7081003857451493,
            "count": 1
           },
           {
            "bin_start": -0.7081003857451493,
            "bin_end": -0.6935310172944857,
            "count": 0
           },
           {
            "bin_start": -0.6935310172944857,
            "bin_end": -0.6789616488438222,
            "count": 0
           },
           {
            "bin_start": -0.6789616488438222,
            "bin_end": -0.6643922803931586,
            "count": 0
           },
           {
            "bin_start": -0.6643922803931586,
            "bin_end": -0.6498229119424951,
            "count": 0
           },
           {
            "bin_start": -0.6498229119424951,
            "bin_end": -0.6352535434918315,
            "count": 0
           },
           {
            "bin_start": -0.6352535434918315,
            "bin_end": -0.6206841750411679,
            "count": 0
           },
           {
            "bin_start": -0.6206841750411679,
            "bin_end": -0.6061148065905043,
            "count": 1
           }
          ]
         }
        },
        {
         "name": "0_2",
         "dtype": "float64",
         "stats": {
          "unique_count": 3,
          "nan_count": 0,
          "min": "-0.7540057386201303",
          "max": "-0.6105147109115291",
          "histogram": [
           {
            "bin_start": -0.7540057386201303,
            "bin_end": -0.7396566358492702,
            "count": 1
           },
           {
            "bin_start": -0.7396566358492702,
            "bin_end": -0.7253075330784101,
            "count": 0
           },
           {
            "bin_start": -0.7253075330784101,
            "bin_end": -0.7109584303075499,
            "count": 1
           },
           {
            "bin_start": -0.7109584303075499,
            "bin_end": -0.6966093275366898,
            "count": 0
           },
           {
            "bin_start": -0.6966093275366898,
            "bin_end": -0.6822602247658297,
            "count": 0
           },
           {
            "bin_start": -0.6822602247658297,
            "bin_end": -0.6679111219949696,
            "count": 0
           },
           {
            "bin_start": -0.6679111219949696,
            "bin_end": -0.6535620192241095,
            "count": 0
           },
           {
            "bin_start": -0.6535620192241095,
            "bin_end": -0.6392129164532493,
            "count": 0
           },
           {
            "bin_start": -0.6392129164532493,
            "bin_end": -0.6248638136823892,
            "count": 0
           },
           {
            "bin_start": -0.6248638136823892,
            "bin_end": -0.6105147109115291,
            "count": 1
           }
          ]
         }
        },
        {
         "name": "0_3",
         "dtype": "float64",
         "stats": {
          "unique_count": 3,
          "nan_count": 0,
          "min": "-0.7569689394893919",
          "max": "-0.612900742133565",
          "histogram": [
           {
            "bin_start": -0.7569689394893919,
            "bin_end": -0.7425621197538093,
            "count": 1
           },
           {
            "bin_start": -0.7425621197538093,
            "bin_end": -0.7281553000182266,
            "count": 0
           },
           {
            "bin_start": -0.7281553000182266,
            "bin_end": -0.7137484802826438,
            "count": 1
           },
           {
            "bin_start": -0.7137484802826438,
            "bin_end": -0.6993416605470612,
            "count": 0
           },
           {
            "bin_start": -0.6993416605470612,
            "bin_end": -0.6849348408114785,
            "count": 0
           },
           {
            "bin_start": -0.6849348408114785,
            "bin_end": -0.6705280210758958,
            "count": 0
           },
           {
            "bin_start": -0.6705280210758958,
            "bin_end": -0.6561212013403132,
            "count": 0
           },
           {
            "bin_start": -0.6561212013403132,
            "bin_end": -0.6417143816047304,
            "count": 0
           },
           {
            "bin_start": -0.6417143816047304,
            "bin_end": -0.6273075618691477,
            "count": 0
           },
           {
            "bin_start": -0.6273075618691477,
            "bin_end": -0.612900742133565,
            "count": 1
           }
          ]
         }
        },
        {
         "name": "0_4",
         "dtype": "float64",
         "stats": {
          "unique_count": 3,
          "nan_count": 0,
          "min": "-0.7594228571132337",
          "max": "-0.615433094245549",
          "histogram": [
           {
            "bin_start": -0.7594228571132337,
            "bin_end": -0.7450238808264652,
            "count": 1
           },
           {
            "bin_start": -0.7450238808264652,
            "bin_end": -0.7306249045396968,
            "count": 0
           },
           {
            "bin_start": -0.7306249045396968,
            "bin_end": -0.7162259282529283,
            "count": 1
           },
           {
            "bin_start": -0.7162259282529283,
            "bin_end": -0.7018269519661599,
            "count": 0
           },
           {
            "bin_start": -0.7018269519661599,
            "bin_end": -0.6874279756793913,
            "count": 0
           },
           {
            "bin_start": -0.6874279756793913,
            "bin_end": -0.6730289993926228,
            "count": 0
           },
           {
            "bin_start": -0.6730289993926228,
            "bin_end": -0.6586300231058544,
            "count": 0
           },
           {
            "bin_start": -0.6586300231058544,
            "bin_end": -0.6442310468190859,
            "count": 0
           },
           {
            "bin_start": -0.6442310468190859,
            "bin_end": -0.6298320705323175,
            "count": 0
           },
           {
            "bin_start": -0.6298320705323175,
            "bin_end": -0.615433094245549,
            "count": 1
           }
          ]
         }
        },
        {
         "name": "1_1",
         "dtype": "float64",
         "stats": {
          "unique_count": 3,
          "nan_count": 0,
          "min": "-0.7986349623730378",
          "max": "-0.6691953379832343",
          "histogram": [
           {
            "bin_start": -0.7986349623730378,
            "bin_end": -0.7856909999340574,
            "count": 1
           },
           {
            "bin_start": -0.7856909999340574,
            "bin_end": -0.7727470374950771,
            "count": 0
           },
           {
            "bin_start": -0.7727470374950771,
            "bin_end": -0.7598030750560967,
            "count": 0
           },
           {
            "bin_start": -0.7598030750560967,
            "bin_end": -0.7468591126171163,
            "count": 0
           },
           {
            "bin_start": -0.7468591126171163,
            "bin_end": -0.733915150178136,
            "count": 0
           },
           {
            "bin_start": -0.733915150178136,
            "bin_end": -0.7209711877391557,
            "count": 1
           },
           {
            "bin_start": -0.7209711877391557,
            "bin_end": -0.7080272253001754,
            "count": 0
           },
           {
            "bin_start": -0.7080272253001754,
            "bin_end": -0.6950832628611949,
            "count": 0
           },
           {
            "bin_start": -0.6950832628611949,
            "bin_end": -0.6821393004222146,
            "count": 0
           },
           {
            "bin_start": -0.6821393004222146,
            "bin_end": -0.6691953379832343,
            "count": 1
           }
          ]
         }
        },
        {
         "name": "1_2",
         "dtype": "float64",
         "stats": {
          "unique_count": 3,
          "nan_count": 0,
          "min": "-0.7994871936562655",
          "max": "-0.6738516419413584",
          "histogram": [
           {
            "bin_start": -0.7994871936562655,
            "bin_end": -0.7869236384847749,
            "count": 1
           },
           {
            "bin_start": -0.7869236384847749,
            "bin_end": -0.7743600833132841,
            "count": 0
           },
           {
            "bin_start": -0.7743600833132841,
            "bin_end": -0.7617965281417933,
            "count": 0
           },
           {
            "bin_start": -0.7617965281417933,
            "bin_end": -0.7492329729703027,
            "count": 0
           },
           {
            "bin_start": -0.7492329729703027,
            "bin_end": -0.736669417798812,
            "count": 0
           },
           {
            "bin_start": -0.736669417798812,
            "bin_end": -0.7241058626273212,
            "count": 1
           },
           {
            "bin_start": -0.7241058626273212,
            "bin_end": -0.7115423074558305,
            "count": 0
           },
           {
            "bin_start": -0.7115423074558305,
            "bin_end": -0.6989787522843398,
            "count": 0
           },
           {
            "bin_start": -0.6989787522843398,
            "bin_end": -0.6864151971128492,
            "count": 0
           },
           {
            "bin_start": -0.6864151971128492,
            "bin_end": -0.6738516419413584,
            "count": 1
           }
          ]
         }
        },
        {
         "name": "1_3",
         "dtype": "float64",
         "stats": {
          "unique_count": 3,
          "nan_count": 0,
          "min": "-0.8003561936921306",
          "max": "-0.677333321823615",
          "histogram": [
           {
            "bin_start": -0.8003561936921306,
            "bin_end": -0.7880539065052791,
            "count": 1
           },
           {
            "bin_start": -0.7880539065052791,
            "bin_end": -0.7757516193184275,
            "count": 0
           },
           {
            "bin_start": -0.7757516193184275,
            "bin_end": -0.763449332131576,
            "count": 0
           },
           {
            "bin_start": -0.763449332131576,
            "bin_end": -0.7511470449447244,
            "count": 0
           },
           {
            "bin_start": -0.7511470449447244,
            "bin_end": -0.7388447577578728,
            "count": 0
           },
           {
            "bin_start": -0.7388447577578728,
            "bin_end": -0.7265424705710213,
            "count": 1
           },
           {
            "bin_start": -0.7265424705710213,
            "bin_end": -0.7142401833841697,
            "count": 0
           },
           {
            "bin_start": -0.7142401833841697,
            "bin_end": -0.7019378961973182,
            "count": 0
           },
           {
            "bin_start": -0.7019378961973182,
            "bin_end": -0.6896356090104666,
            "count": 0
           },
           {
            "bin_start": -0.6896356090104666,
            "bin_end": -0.677333321823615,
            "count": 1
           }
          ]
         }
        },
        {
         "name": "1_4",
         "dtype": "float64",
         "stats": {
          "unique_count": 3,
          "nan_count": 0,
          "min": "-0.8013339201563858",
          "max": "-0.6805888940090205",
          "histogram": [
           {
            "bin_start": -0.8013339201563858,
            "bin_end": -0.7892594175416493,
            "count": 1
           },
           {
            "bin_start": -0.7892594175416493,
            "bin_end": -0.7771849149269128,
            "count": 0
           },
           {
            "bin_start": -0.7771849149269128,
            "bin_end": -0.7651104123121762,
            "count": 0
           },
           {
            "bin_start": -0.7651104123121762,
            "bin_end": -0.7530359096974397,
            "count": 0
           },
           {
            "bin_start": -0.7530359096974397,
            "bin_end": -0.7409614070827031,
            "count": 0
           },
           {
            "bin_start": -0.7409614070827031,
            "bin_end": -0.7288869044679667,
            "count": 1
           },
           {
            "bin_start": -0.7288869044679667,
            "bin_end": -0.71681240185323,
            "count": 0
           },
           {
            "bin_start": -0.71681240185323,
            "bin_end": -0.7047378992384935,
            "count": 0
           },
           {
            "bin_start": -0.7047378992384935,
            "bin_end": -0.692663396623757,
            "count": 0
           },
           {
            "bin_start": -0.692663396623757,
            "bin_end": -0.6805888940090205,
            "count": 1
           }
          ]
         }
        },
        {
         "name": "_deepnote_index_column",
         "dtype": "int64"
        }
       ],
       "rows": [
        {
         "state": "District of Columbia",
         "0_1": -0.7518084910971401,
         "0_2": -0.7540057386201303,
         "0_3": -0.7569689394893919,
         "0_4": -0.7594228571132337,
         "1_1": -0.7986349623730378,
         "1_2": -0.7994871936562655,
         "1_3": -0.8003561936921306,
         "1_4": -0.8013339201563858,
         "_deepnote_index_column": 8
        },
        {
         "state": "Idaho",
         "0_1": -0.6061148065905043,
         "0_2": -0.6105147109115291,
         "0_3": -0.612900742133565,
         "0_4": -0.615433094245549,
         "1_1": -0.6691953379832343,
         "1_2": -0.6738516419413584,
         "1_3": -0.677333321823615,
         "1_4": -0.6805888940090205,
         "_deepnote_index_column": 12
        },
        {
         "state": "Montana",
         "0_1": -0.7200073631117643,
         "0_2": -0.7217929648038841,
         "0_3": -0.7234376548811002,
         "0_4": -0.7249836256887581,
         "1_1": -0.7324400408735584,
         "1_2": -0.7337850571133209,
         "1_3": -0.734737359984868,
         "1_4": -0.7357140045941144,
         "_deepnote_index_column": 26
        }
       ]
      },
      "text/plain": "idx                 state       0_1       0_2       0_3       0_4       1_1  \\\n8    District of Columbia -0.751808 -0.754006 -0.756969 -0.759423 -0.798635   \n12                  Idaho -0.606115 -0.610515 -0.612901 -0.615433 -0.669195   \n26                Montana -0.720007 -0.721793 -0.723438 -0.724984 -0.732440   \n\nidx       1_2       1_3       1_4  \n8   -0.799487 -0.800356 -0.801334  \n12  -0.673852 -0.677333 -0.680589  \n26  -0.733785 -0.734737 -0.735714  ",
      "text/html": "<div>\n<style scoped>\n    .dataframe tbody tr th:only-of-type {\n        vertical-align: middle;\n    }\n\n    .dataframe tbody tr th {\n        vertical-align: top;\n    }\n\n    .dataframe thead th {\n        text-align: right;\n    }\n</style>\n<table border=\"1\" class=\"dataframe\">\n  <thead>\n    <tr style=\"text-align: right;\">\n      <th>idx</th>\n      <th>state</th>\n      <th>0_1</th>\n      <th>0_2</th>\n      <th>0_3</th>\n      <th>0_4</th>\n      <th>1_1</th>\n      <th>1_2</th>\n      <th>1_3</th>\n      <th>1_4</th>\n    </tr>\n  </thead>\n  <tbody>\n    <tr>\n      <th>8</th>\n      <td>District of Columbia</td>\n      <td>-0.751808</td>\n      <td>-0.754006</td>\n      <td>-0.756969</td>\n      <td>-0.759423</td>\n      <td>-0.798635</td>\n      <td>-0.799487</td>\n      <td>-0.800356</td>\n      <td>-0.801334</td>\n    </tr>\n    <tr>\n      <th>12</th>\n      <td>Idaho</td>\n      <td>-0.606115</td>\n      <td>-0.610515</td>\n      <td>-0.612901</td>\n      <td>-0.615433</td>\n      <td>-0.669195</td>\n      <td>-0.673852</td>\n      <td>-0.677333</td>\n      <td>-0.680589</td>\n    </tr>\n    <tr>\n      <th>26</th>\n      <td>Montana</td>\n      <td>-0.720007</td>\n      <td>-0.721793</td>\n      <td>-0.723438</td>\n      <td>-0.724984</td>\n      <td>-0.732440</td>\n      <td>-0.733785</td>\n      <td>-0.734737</td>\n      <td>-0.735714</td>\n    </tr>\n  </tbody>\n</table>\n</div>"
     },
     "metadata": {}
    }
   ]
  },
  {
   "cell_type": "code",
   "metadata": {
    "tags": [],
    "deepnote_to_be_reexecuted": false,
    "source_hash": "55230c14",
    "execution_start": 1643018793216,
    "execution_millis": 99,
    "deepnote_output_heights": [
     21.1875
    ],
    "cell_id": "00014-5ac86009-0fe8-4145-a3ff-92da693b7f32",
    "deepnote_cell_type": "code"
   },
   "source": "pop_test_df.sample(3)",
   "execution_count": 12,
   "outputs": [
    {
     "output_type": "execute_result",
     "execution_count": 12,
     "data": {
      "application/vnd.deepnote.dataframe.v3+json": {
       "column_count": 9,
       "row_count": 3,
       "columns": [
        {
         "name": "state",
         "dtype": "object",
         "stats": {
          "unique_count": 3,
          "nan_count": 0,
          "categories": [
           {
            "name": "Louisiana",
            "count": 1
           },
           {
            "name": "Delaware",
            "count": 1
           },
           {
            "name": "Vermont",
            "count": 1
           }
          ]
         }
        },
        {
         "name": "0_1",
         "dtype": "float64",
         "stats": {
          "unique_count": 3,
          "nan_count": 0,
          "min": "-0.7873366095880311",
          "max": "-0.15564201084345047",
          "histogram": [
           {
            "bin_start": -0.7873366095880311,
            "bin_end": -0.724167149713573,
            "count": 2
           },
           {
            "bin_start": -0.724167149713573,
            "bin_end": -0.660997689839115,
            "count": 0
           },
           {
            "bin_start": -0.660997689839115,
            "bin_end": -0.5978282299646569,
            "count": 0
           },
           {
            "bin_start": -0.5978282299646569,
            "bin_end": -0.5346587700901988,
            "count": 0
           },
           {
            "bin_start": -0.5346587700901988,
            "bin_end": -0.4714893102157408,
            "count": 0
           },
           {
            "bin_start": -0.4714893102157408,
            "bin_end": -0.4083198503412827,
            "count": 0
           },
           {
            "bin_start": -0.4083198503412827,
            "bin_end": -0.34515039046682466,
            "count": 0
           },
           {
            "bin_start": -0.34515039046682466,
            "bin_end": -0.2819809305923666,
            "count": 0
           },
           {
            "bin_start": -0.2819809305923666,
            "bin_end": -0.21881147071790852,
            "count": 0
           },
           {
            "bin_start": -0.21881147071790852,
            "bin_end": -0.15564201084345047,
            "count": 1
           }
          ]
         }
        },
        {
         "name": "0_2",
         "dtype": "float64",
         "stats": {
          "unique_count": 3,
          "nan_count": 0,
          "min": "-0.7874672435803507",
          "max": "-0.1518016960257574",
          "histogram": [
           {
            "bin_start": -0.7874672435803507,
            "bin_end": -0.7239006888248913,
            "count": 2
           },
           {
            "bin_start": -0.7239006888248913,
            "bin_end": -0.660334134069432,
            "count": 0
           },
           {
            "bin_start": -0.660334134069432,
            "bin_end": -0.5967675793139727,
            "count": 0
           },
           {
            "bin_start": -0.5967675793139727,
            "bin_end": -0.5332010245585134,
            "count": 0
           },
           {
            "bin_start": -0.5332010245585134,
            "bin_end": -0.469634469803054,
            "count": 0
           },
           {
            "bin_start": -0.469634469803054,
            "bin_end": -0.4060679150475947,
            "count": 0
           },
           {
            "bin_start": -0.4060679150475947,
            "bin_end": -0.3425013602921354,
            "count": 0
           },
           {
            "bin_start": -0.3425013602921354,
            "bin_end": -0.27893480553667604,
            "count": 0
           },
           {
            "bin_start": -0.27893480553667604,
            "bin_end": -0.21536825078121669,
            "count": 0
           },
           {
            "bin_start": -0.21536825078121669,
            "bin_end": -0.1518016960257574,
            "count": 1
           }
          ]
         }
        },
        {
         "name": "0_3",
         "dtype": "float64",
         "stats": {
          "unique_count": 3,
          "nan_count": 0,
          "min": "-0.7871345731651269",
          "max": "-0.15241808291705417",
          "histogram": [
           {
            "bin_start": -0.7871345731651269,
            "bin_end": -0.7236629241403196,
            "count": 2
           },
           {
            "bin_start": -0.7236629241403196,
            "bin_end": -0.6601912751155123,
            "count": 0
           },
           {
            "bin_start": -0.6601912751155123,
            "bin_end": -0.5967196260907051,
            "count": 0
           },
           {
            "bin_start": -0.5967196260907051,
            "bin_end": -0.5332479770658978,
            "count": 0
           },
           {
            "bin_start": -0.5332479770658978,
            "bin_end": -0.46977632804109054,
            "count": 0
           },
           {
            "bin_start": -0.46977632804109054,
            "bin_end": -0.4063046790162833,
            "count": 0
           },
           {
            "bin_start": -0.4063046790162833,
            "bin_end": -0.342833029991476,
            "count": 0
           },
           {
            "bin_start": -0.342833029991476,
            "bin_end": -0.27936138096666874,
            "count": 0
           },
           {
            "bin_start": -0.27936138096666874,
            "bin_end": -0.21588973194186145,
            "count": 0
           },
           {
            "bin_start": -0.21588973194186145,
            "bin_end": -0.15241808291705417,
            "count": 1
           }
          ]
         }
        },
        {
         "name": "0_4",
         "dtype": "float64",
         "stats": {
          "unique_count": 3,
          "nan_count": 0,
          "min": "-0.7871494486714987",
          "max": "-0.15523306965010222",
          "histogram": [
           {
            "bin_start": -0.7871494486714987,
            "bin_end": -0.7239578107693591,
            "count": 2
           },
           {
            "bin_start": -0.7239578107693591,
            "bin_end": -0.6607661728672194,
            "count": 0
           },
           {
            "bin_start": -0.6607661728672194,
            "bin_end": -0.5975745349650798,
            "count": 0
           },
           {
            "bin_start": -0.5975745349650798,
            "bin_end": -0.5343828970629401,
            "count": 0
           },
           {
            "bin_start": -0.5343828970629401,
            "bin_end": -0.47119125916080046,
            "count": 0
           },
           {
            "bin_start": -0.47119125916080046,
            "bin_end": -0.40799962125866085,
            "count": 0
           },
           {
            "bin_start": -0.40799962125866085,
            "bin_end": -0.3448079833565212,
            "count": 0
           },
           {
            "bin_start": -0.3448079833565212,
            "bin_end": -0.2816163454543815,
            "count": 0
           },
           {
            "bin_start": -0.2816163454543815,
            "bin_end": -0.21842470755224186,
            "count": 0
           },
           {
            "bin_start": -0.21842470755224186,
            "bin_end": -0.15523306965010222,
            "count": 1
           }
          ]
         }
        },
        {
         "name": "1_1",
         "dtype": "float64",
         "stats": {
          "unique_count": 3,
          "nan_count": 0,
          "min": "-0.7823922617337986",
          "max": "-0.29983435106154377",
          "histogram": [
           {
            "bin_start": -0.7823922617337986,
            "bin_end": -0.7341364706665732,
            "count": 2
           },
           {
            "bin_start": -0.7341364706665732,
            "bin_end": -0.6858806795993476,
            "count": 0
           },
           {
            "bin_start": -0.6858806795993476,
            "bin_end": -0.6376248885321222,
            "count": 0
           },
           {
            "bin_start": -0.6376248885321222,
            "bin_end": -0.5893690974648966,
            "count": 0
           },
           {
            "bin_start": -0.5893690974648966,
            "bin_end": -0.5411133063976712,
            "count": 0
           },
           {
            "bin_start": -0.5411133063976712,
            "bin_end": -0.49285751533044575,
            "count": 0
           },
           {
            "bin_start": -0.49285751533044575,
            "bin_end": -0.44460172426322025,
            "count": 0
           },
           {
            "bin_start": -0.44460172426322025,
            "bin_end": -0.39634593319599476,
            "count": 0
           },
           {
            "bin_start": -0.39634593319599476,
            "bin_end": -0.34809014212876926,
            "count": 0
           },
           {
            "bin_start": -0.34809014212876926,
            "bin_end": -0.29983435106154377,
            "count": 1
           }
          ]
         }
        },
        {
         "name": "1_2",
         "dtype": "float64",
         "stats": {
          "unique_count": 3,
          "nan_count": 0,
          "min": "-0.7825539990576228",
          "max": "-0.30215195495426944",
          "histogram": [
           {
            "bin_start": -0.7825539990576228,
            "bin_end": -0.7345137946472875,
            "count": 2
           },
           {
            "bin_start": -0.7345137946472875,
            "bin_end": -0.6864735902369521,
            "count": 0
           },
           {
            "bin_start": -0.6864735902369521,
            "bin_end": -0.6384333858266168,
            "count": 0
           },
           {
            "bin_start": -0.6384333858266168,
            "bin_end": -0.5903931814162815,
            "count": 0
           },
           {
            "bin_start": -0.5903931814162815,
            "bin_end": -0.5423529770059461,
            "count": 0
           },
           {
            "bin_start": -0.5423529770059461,
            "bin_end": -0.4943127725956108,
            "count": 0
           },
           {
            "bin_start": -0.4943127725956108,
            "bin_end": -0.44627256818527544,
            "count": 0
           },
           {
            "bin_start": -0.44627256818527544,
            "bin_end": -0.3982323637749401,
            "count": 0
           },
           {
            "bin_start": -0.3982323637749401,
            "bin_end": -0.35019215936460474,
            "count": 0
           },
           {
            "bin_start": -0.35019215936460474,
            "bin_end": -0.30215195495426944,
            "count": 1
           }
          ]
         }
        },
        {
         "name": "1_3",
         "dtype": "float64",
         "stats": {
          "unique_count": 3,
          "nan_count": 0,
          "min": "-0.782560490187676",
          "max": "-0.3060588038550073",
          "histogram": [
           {
            "bin_start": -0.782560490187676,
            "bin_end": -0.7349103215544092,
            "count": 2
           },
           {
            "bin_start": -0.7349103215544092,
            "bin_end": -0.6872601529211423,
            "count": 0
           },
           {
            "bin_start": -0.6872601529211423,
            "bin_end": -0.6396099842878754,
            "count": 0
           },
           {
            "bin_start": -0.6396099842878754,
            "bin_end": -0.5919598156546085,
            "count": 0
           },
           {
            "bin_start": -0.5919598156546085,
            "bin_end": -0.5443096470213417,
            "count": 0
           },
           {
            "bin_start": -0.5443096470213417,
            "bin_end": -0.4966594783880748,
            "count": 0
           },
           {
            "bin_start": -0.4966594783880748,
            "bin_end": -0.4490093097548079,
            "count": 0
           },
           {
            "bin_start": -0.4490093097548079,
            "bin_end": -0.40135914112154103,
            "count": 0
           },
           {
            "bin_start": -0.40135914112154103,
            "bin_end": -0.35370897248827415,
            "count": 0
           },
           {
            "bin_start": -0.35370897248827415,
            "bin_end": -0.3060588038550073,
            "count": 1
           }
          ]
         }
        },
        {
         "name": "1_4",
         "dtype": "float64",
         "stats": {
          "unique_count": 3,
          "nan_count": 0,
          "min": "-0.7826194512856588",
          "max": "-0.3096686835558136",
          "histogram": [
           {
            "bin_start": -0.7826194512856588,
            "bin_end": -0.7353243745126743,
            "count": 2
           },
           {
            "bin_start": -0.7353243745126743,
            "bin_end": -0.6880292977396898,
            "count": 0
           },
           {
            "bin_start": -0.6880292977396898,
            "bin_end": -0.6407342209667053,
            "count": 0
           },
           {
            "bin_start": -0.6407342209667053,
            "bin_end": -0.5934391441937208,
            "count": 0
           },
           {
            "bin_start": -0.5934391441937208,
            "bin_end": -0.5461440674207363,
            "count": 0
           },
           {
            "bin_start": -0.5461440674207363,
            "bin_end": -0.4988489906477517,
            "count": 0
           },
           {
            "bin_start": -0.4988489906477517,
            "bin_end": -0.4515539138747672,
            "count": 0
           },
           {
            "bin_start": -0.4515539138747672,
            "bin_end": -0.4042588371017827,
            "count": 0
           },
           {
            "bin_start": -0.4042588371017827,
            "bin_end": -0.3569637603287982,
            "count": 0
           },
           {
            "bin_start": -0.3569637603287982,
            "bin_end": -0.3096686835558136,
            "count": 1
           }
          ]
         }
        },
        {
         "name": "_deepnote_index_column",
         "dtype": "int64"
        }
       ],
       "rows": [
        {
         "state": "Louisiana",
         "0_1": -0.15564201084345047,
         "0_2": -0.1518016960257574,
         "0_3": -0.15241808291705417,
         "0_4": -0.15523306965010222,
         "1_1": -0.29983435106154377,
         "1_2": -0.30215195495426944,
         "1_3": -0.3060588038550073,
         "1_4": -0.3096686835558136,
         "_deepnote_index_column": 18
        },
        {
         "state": "Delaware",
         "0_1": -0.7339010860630208,
         "0_2": -0.7344769033914854,
         "0_3": -0.7348969335986745,
         "0_4": -0.7357188729416543,
         "1_1": -0.741599295842301,
         "1_2": -0.7434203282859609,
         "1_3": -0.7453660445193917,
         "1_4": -0.7471868064992995,
         "_deepnote_index_column": 7
        },
        {
         "state": "Vermont",
         "0_1": -0.7873366095880311,
         "0_2": -0.7874672435803507,
         "0_3": -0.7871345731651269,
         "0_4": -0.7871494486714987,
         "1_1": -0.7823922617337986,
         "1_2": -0.7825539990576228,
         "1_3": -0.782560490187676,
         "1_4": -0.7826194512856588,
         "_deepnote_index_column": 45
        }
       ]
      },
      "text/plain": "idx      state       0_1       0_2       0_3       0_4       1_1       1_2  \\\n18   Louisiana -0.155642 -0.151802 -0.152418 -0.155233 -0.299834 -0.302152   \n7     Delaware -0.733901 -0.734477 -0.734897 -0.735719 -0.741599 -0.743420   \n45     Vermont -0.787337 -0.787467 -0.787135 -0.787149 -0.782392 -0.782554   \n\nidx       1_3       1_4  \n18  -0.306059 -0.309669  \n7   -0.745366 -0.747187  \n45  -0.782560 -0.782619  ",
      "text/html": "<div>\n<style scoped>\n    .dataframe tbody tr th:only-of-type {\n        vertical-align: middle;\n    }\n\n    .dataframe tbody tr th {\n        vertical-align: top;\n    }\n\n    .dataframe thead th {\n        text-align: right;\n    }\n</style>\n<table border=\"1\" class=\"dataframe\">\n  <thead>\n    <tr style=\"text-align: right;\">\n      <th>idx</th>\n      <th>state</th>\n      <th>0_1</th>\n      <th>0_2</th>\n      <th>0_3</th>\n      <th>0_4</th>\n      <th>1_1</th>\n      <th>1_2</th>\n      <th>1_3</th>\n      <th>1_4</th>\n    </tr>\n  </thead>\n  <tbody>\n    <tr>\n      <th>18</th>\n      <td>Louisiana</td>\n      <td>-0.155642</td>\n      <td>-0.151802</td>\n      <td>-0.152418</td>\n      <td>-0.155233</td>\n      <td>-0.299834</td>\n      <td>-0.302152</td>\n      <td>-0.306059</td>\n      <td>-0.309669</td>\n    </tr>\n    <tr>\n      <th>7</th>\n      <td>Delaware</td>\n      <td>-0.733901</td>\n      <td>-0.734477</td>\n      <td>-0.734897</td>\n      <td>-0.735719</td>\n      <td>-0.741599</td>\n      <td>-0.743420</td>\n      <td>-0.745366</td>\n      <td>-0.747187</td>\n    </tr>\n    <tr>\n      <th>45</th>\n      <td>Vermont</td>\n      <td>-0.787337</td>\n      <td>-0.787467</td>\n      <td>-0.787135</td>\n      <td>-0.787149</td>\n      <td>-0.782392</td>\n      <td>-0.782554</td>\n      <td>-0.782560</td>\n      <td>-0.782619</td>\n    </tr>\n  </tbody>\n</table>\n</div>"
     },
     "metadata": {}
    }
   ]
  },
  {
   "cell_type": "code",
   "source": "full_train = df_geo_features_train.merge(pop_train_df, on='state',how='left').drop(['state'], axis = 1).set_index('idx')\nfull_test = df_geo_features_test.merge(pop_test_df, on='state',how='left').drop(['state'], axis = 1).set_index('idx')",
   "metadata": {
    "cell_id": "379990eb-26fb-44b6-bd06-adaa4b67e9c5",
    "tags": [],
    "deepnote_to_be_reexecuted": false,
    "source_hash": "b8134068",
    "execution_start": 1643018793316,
    "execution_millis": 442,
    "deepnote_cell_type": "code"
   },
   "outputs": [],
   "execution_count": 13
  },
  {
   "cell_type": "code",
   "source": "full_test.sample(5)",
   "metadata": {
    "cell_id": "043bc14f-fb3c-4f7c-b8f0-9a23b749c0a2",
    "tags": [],
    "deepnote_to_be_reexecuted": false,
    "source_hash": "38c9a4e",
    "execution_start": 1643018793764,
    "execution_millis": 156,
    "deepnote_cell_type": "code"
   },
   "outputs": [
    {
     "output_type": "execute_result",
     "execution_count": 14,
     "data": {
      "application/vnd.deepnote.dataframe.v3+json": {
       "column_count": 13,
       "row_count": 5,
       "columns": [
        {
         "name": "target",
         "dtype": "float64",
         "stats": {
          "unique_count": 5,
          "nan_count": 0,
          "min": "0.0",
          "max": "4.3694478524670215",
          "histogram": [
           {
            "bin_start": 0,
            "bin_end": 0.43694478524670216,
            "count": 1
           },
           {
            "bin_start": 0.43694478524670216,
            "bin_end": 0.8738895704934043,
            "count": 0
           },
           {
            "bin_start": 0.8738895704934043,
            "bin_end": 1.3108343557401065,
            "count": 0
           },
           {
            "bin_start": 1.3108343557401065,
            "bin_end": 1.7477791409868086,
            "count": 0
           },
           {
            "bin_start": 1.7477791409868086,
            "bin_end": 2.1847239262335107,
            "count": 0
           },
           {
            "bin_start": 2.1847239262335107,
            "bin_end": 2.621668711480213,
            "count": 1
           },
           {
            "bin_start": 2.621668711480213,
            "bin_end": 3.058613496726915,
            "count": 0
           },
           {
            "bin_start": 3.058613496726915,
            "bin_end": 3.4955582819736173,
            "count": 0
           },
           {
            "bin_start": 3.4955582819736173,
            "bin_end": 3.9325030672203196,
            "count": 0
           },
           {
            "bin_start": 3.9325030672203196,
            "bin_end": 4.3694478524670215,
            "count": 3
           }
          ]
         }
        },
        {
         "name": "1",
         "dtype": "float64",
         "stats": {
          "unique_count": 4,
          "nan_count": 0,
          "min": "0.0",
          "max": "4.1588830833596715",
          "histogram": [
           {
            "bin_start": 0,
            "bin_end": 0.4158883083359671,
            "count": 2
           },
           {
            "bin_start": 0.4158883083359671,
            "bin_end": 0.8317766166719343,
            "count": 0
           },
           {
            "bin_start": 0.8317766166719343,
            "bin_end": 1.2476649250079013,
            "count": 0
           },
           {
            "bin_start": 1.2476649250079013,
            "bin_end": 1.6635532333438685,
            "count": 0
           },
           {
            "bin_start": 1.6635532333438685,
            "bin_end": 2.0794415416798357,
            "count": 0
           },
           {
            "bin_start": 2.0794415416798357,
            "bin_end": 2.4953298500158025,
            "count": 0
           },
           {
            "bin_start": 2.4953298500158025,
            "bin_end": 2.91121815835177,
            "count": 0
           },
           {
            "bin_start": 2.91121815835177,
            "bin_end": 3.327106466687737,
            "count": 0
           },
           {
            "bin_start": 3.327106466687737,
            "bin_end": 3.7429947750237043,
            "count": 0
           },
           {
            "bin_start": 3.7429947750237043,
            "bin_end": 4.1588830833596715,
            "count": 3
           }
          ]
         }
        },
        {
         "name": "2",
         "dtype": "float64",
         "stats": {
          "unique_count": 3,
          "nan_count": 0,
          "min": "0.0",
          "max": "4.330733340286331",
          "histogram": [
           {
            "bin_start": 0,
            "bin_end": 0.43307333402863313,
            "count": 3
           },
           {
            "bin_start": 0.43307333402863313,
            "bin_end": 0.8661466680572663,
            "count": 0
           },
           {
            "bin_start": 0.8661466680572663,
            "bin_end": 1.2992200020858995,
            "count": 0
           },
           {
            "bin_start": 1.2992200020858995,
            "bin_end": 1.7322933361145325,
            "count": 0
           },
           {
            "bin_start": 1.7322933361145325,
            "bin_end": 2.1653666701431655,
            "count": 0
           },
           {
            "bin_start": 2.1653666701431655,
            "bin_end": 2.598440004171799,
            "count": 0
           },
           {
            "bin_start": 2.598440004171799,
            "bin_end": 3.031513338200432,
            "count": 0
           },
           {
            "bin_start": 3.031513338200432,
            "bin_end": 3.464586672229065,
            "count": 0
           },
           {
            "bin_start": 3.464586672229065,
            "bin_end": 3.897660006257698,
            "count": 0
           },
           {
            "bin_start": 3.897660006257698,
            "bin_end": 4.330733340286331,
            "count": 2
           }
          ]
         }
        },
        {
         "name": "3",
         "dtype": "float64",
         "stats": {
          "unique_count": 4,
          "nan_count": 0,
          "min": "0.0",
          "max": "5.393627546352362",
          "histogram": [
           {
            "bin_start": 0,
            "bin_end": 0.5393627546352362,
            "count": 2
           },
           {
            "bin_start": 0.5393627546352362,
            "bin_end": 1.0787255092704724,
            "count": 0
           },
           {
            "bin_start": 1.0787255092704724,
            "bin_end": 1.6180882639057086,
            "count": 0
           },
           {
            "bin_start": 1.6180882639057086,
            "bin_end": 2.157451018540945,
            "count": 0
           },
           {
            "bin_start": 2.157451018540945,
            "bin_end": 2.696813773176181,
            "count": 0
           },
           {
            "bin_start": 2.696813773176181,
            "bin_end": 3.236176527811417,
            "count": 0
           },
           {
            "bin_start": 3.236176527811417,
            "bin_end": 3.7755392824466534,
            "count": 0
           },
           {
            "bin_start": 3.7755392824466534,
            "bin_end": 4.31490203708189,
            "count": 1
           },
           {
            "bin_start": 4.31490203708189,
            "bin_end": 4.854264791717126,
            "count": 1
           },
           {
            "bin_start": 4.854264791717126,
            "bin_end": 5.393627546352362,
            "count": 1
           }
          ]
         }
        },
        {
         "name": 4,
         "dtype": "float64",
         "stats": {
          "unique_count": 4,
          "nan_count": 0,
          "min": "0.0",
          "max": "5.003946305945459",
          "histogram": [
           {
            "bin_start": 0,
            "bin_end": 0.5003946305945459,
            "count": 2
           },
           {
            "bin_start": 0.5003946305945459,
            "bin_end": 1.0007892611890918,
            "count": 0
           },
           {
            "bin_start": 1.0007892611890918,
            "bin_end": 1.5011838917836378,
            "count": 0
           },
           {
            "bin_start": 1.5011838917836378,
            "bin_end": 2.0015785223781837,
            "count": 0
           },
           {
            "bin_start": 2.0015785223781837,
            "bin_end": 2.5019731529727296,
            "count": 0
           },
           {
            "bin_start": 2.5019731529727296,
            "bin_end": 3.0023677835672755,
            "count": 0
           },
           {
            "bin_start": 3.0023677835672755,
            "bin_end": 3.5027624141618214,
            "count": 0
           },
           {
            "bin_start": 3.5027624141618214,
            "bin_end": 4.003157044756367,
            "count": 1
           },
           {
            "bin_start": 4.003157044756367,
            "bin_end": 4.503551675350913,
            "count": 0
           },
           {
            "bin_start": 4.503551675350913,
            "bin_end": 5.003946305945459,
            "count": 2
           }
          ]
         }
        },
        {
         "name": "0_1",
         "dtype": "float64",
         "stats": {
          "unique_count": 5,
          "nan_count": 0,
          "min": "-0.6909152000685684",
          "max": "0.6534589587461676",
          "histogram": [
           {
            "bin_start": -0.6909152000685684,
            "bin_end": -0.5564777841870948,
            "count": 1
           },
           {
            "bin_start": -0.5564777841870948,
            "bin_end": -0.42204036830562125,
            "count": 1
           },
           {
            "bin_start": -0.42204036830562125,
            "bin_end": -0.2876029524241477,
            "count": 0
           },
           {
            "bin_start": -0.2876029524241477,
            "bin_end": -0.15316553654267406,
            "count": 1
           },
           {
            "bin_start": -0.15316553654267406,
            "bin_end": -0.018728120661200442,
            "count": 0
           },
           {
            "bin_start": -0.018728120661200442,
            "bin_end": 0.11570929522027307,
            "count": 0
           },
           {
            "bin_start": 0.11570929522027307,
            "bin_end": 0.2501467111017467,
            "count": 1
           },
           {
            "bin_start": 0.2501467111017467,
            "bin_end": 0.3845841269832203,
            "count": 0
           },
           {
            "bin_start": 0.3845841269832203,
            "bin_end": 0.5190215428646939,
            "count": 0
           },
           {
            "bin_start": 0.5190215428646939,
            "bin_end": 0.6534589587461676,
            "count": 1
           }
          ]
         }
        },
        {
         "name": "0_2",
         "dtype": "float64",
         "stats": {
          "unique_count": 5,
          "nan_count": 0,
          "min": "-0.6918837307652483",
          "max": "0.6395698336786986",
          "histogram": [
           {
            "bin_start": -0.6918837307652483,
            "bin_end": -0.5587383743208536,
            "count": 1
           },
           {
            "bin_start": -0.5587383743208536,
            "bin_end": -0.425593017876459,
            "count": 0
           },
           {
            "bin_start": -0.425593017876459,
            "bin_end": -0.2924476614320643,
            "count": 1
           },
           {
            "bin_start": -0.2924476614320643,
            "bin_end": -0.15930230498766962,
            "count": 1
           },
           {
            "bin_start": -0.15930230498766962,
            "bin_end": -0.026156948543274883,
            "count": 0
           },
           {
            "bin_start": -0.026156948543274883,
            "bin_end": 0.10698840790111974,
            "count": 0
           },
           {
            "bin_start": 0.10698840790111974,
            "bin_end": 0.24013376434551437,
            "count": 1
           },
           {
            "bin_start": 0.24013376434551437,
            "bin_end": 0.3732791207899091,
            "count": 0
           },
           {
            "bin_start": 0.3732791207899091,
            "bin_end": 0.5064244772343038,
            "count": 0
           },
           {
            "bin_start": 0.5064244772343038,
            "bin_end": 0.6395698336786986,
            "count": 1
           }
          ]
         }
        },
        {
         "name": "0_3",
         "dtype": "float64",
         "stats": {
          "unique_count": 5,
          "nan_count": 0,
          "min": "-0.6925947799698202",
          "max": "0.6245793802122123",
          "histogram": [
           {
            "bin_start": -0.6925947799698202,
            "bin_end": -0.5608773639516169,
            "count": 1
           },
           {
            "bin_start": -0.5608773639516169,
            "bin_end": -0.4291599479334137,
            "count": 0
           },
           {
            "bin_start": -0.4291599479334137,
            "bin_end": -0.2974425319152105,
            "count": 1
           },
           {
            "bin_start": -0.2974425319152105,
            "bin_end": -0.16572511589700722,
            "count": 0
           },
           {
            "bin_start": -0.16572511589700722,
            "bin_end": -0.03400769987880392,
            "count": 1
           },
           {
            "bin_start": -0.03400769987880392,
            "bin_end": 0.09770971613939927,
            "count": 0
           },
           {
            "bin_start": 0.09770971613939927,
            "bin_end": 0.22942713215760246,
            "count": 1
           },
           {
            "bin_start": 0.22942713215760246,
            "bin_end": 0.36114454817580577,
            "count": 0
           },
           {
            "bin_start": 0.36114454817580577,
            "bin_end": 0.4928619641940091,
            "count": 0
           },
           {
            "bin_start": 0.4928619641940091,
            "bin_end": 0.6245793802122123,
            "count": 1
           }
          ]
         }
        },
        {
         "name": "0_4",
         "dtype": "float64",
         "stats": {
          "unique_count": 5,
          "nan_count": 0,
          "min": "-0.69283414039053",
          "max": "0.614614684189375",
          "histogram": [
           {
            "bin_start": -0.69283414039053,
            "bin_end": -0.5620892579325395,
            "count": 1
           },
           {
            "bin_start": -0.5620892579325395,
            "bin_end": -0.431344375474549,
            "count": 0
           },
           {
            "bin_start": -0.431344375474549,
            "bin_end": -0.3005994930165585,
            "count": 1
           },
           {
            "bin_start": -0.3005994930165585,
            "bin_end": -0.169854610558568,
            "count": 0
           },
           {
            "bin_start": -0.169854610558568,
            "bin_end": -0.039109728100577446,
            "count": 1
           },
           {
            "bin_start": -0.039109728100577446,
            "bin_end": 0.09163515435741298,
            "count": 0
           },
           {
            "bin_start": 0.09163515435741298,
            "bin_end": 0.22238003681540353,
            "count": 1
           },
           {
            "bin_start": 0.22238003681540353,
            "bin_end": 0.35312491927339407,
            "count": 0
           },
           {
            "bin_start": 0.35312491927339407,
            "bin_end": 0.4838698017313845,
            "count": 0
           },
           {
            "bin_start": 0.4838698017313845,
            "bin_end": 0.614614684189375,
            "count": 1
           }
          ]
         }
        },
        {
         "name": "1_1",
         "dtype": "float64",
         "stats": {
          "unique_count": 5,
          "nan_count": 0,
          "min": "-0.6794653875823216",
          "max": "0.451762508778502",
          "histogram": [
           {
            "bin_start": -0.6794653875823216,
            "bin_end": -0.5663425979462392,
            "count": 1
           },
           {
            "bin_start": -0.5663425979462392,
            "bin_end": -0.45321980831015685,
            "count": 1
           },
           {
            "bin_start": -0.45321980831015685,
            "bin_end": -0.3400970186740745,
            "count": 0
           },
           {
            "bin_start": -0.3400970186740745,
            "bin_end": -0.22697422903799214,
            "count": 1
           },
           {
            "bin_start": -0.22697422903799214,
            "bin_end": -0.11385143940190978,
            "count": 0
           },
           {
            "bin_start": -0.11385143940190978,
            "bin_end": -0.0007286497658274271,
            "count": 1
           },
           {
            "bin_start": -0.0007286497658274271,
            "bin_end": 0.11239413987025493,
            "count": 0
           },
           {
            "bin_start": 0.11239413987025493,
            "bin_end": 0.22551692950633728,
            "count": 0
           },
           {
            "bin_start": 0.22551692950633728,
            "bin_end": 0.33863971914241975,
            "count": 0
           },
           {
            "bin_start": 0.33863971914241975,
            "bin_end": 0.451762508778502,
            "count": 1
           }
          ]
         }
        },
        {
         "name": "1_2",
         "dtype": "float64",
         "stats": {
          "unique_count": 5,
          "nan_count": 0,
          "min": "-0.680501263753303",
          "max": "0.43222042082599865",
          "histogram": [
           {
            "bin_start": -0.680501263753303,
            "bin_end": -0.5692290952953728,
            "count": 1
           },
           {
            "bin_start": -0.5692290952953728,
            "bin_end": -0.45795692683744266,
            "count": 1
           },
           {
            "bin_start": -0.45795692683744266,
            "bin_end": -0.3466847583795125,
            "count": 0
           },
           {
            "bin_start": -0.3466847583795125,
            "bin_end": -0.23541258992158232,
            "count": 1
           },
           {
            "bin_start": -0.23541258992158232,
            "bin_end": -0.12414042146365212,
            "count": 0
           },
           {
            "bin_start": -0.12414042146365212,
            "bin_end": -0.01286825300572203,
            "count": 1
           },
           {
            "bin_start": -0.01286825300572203,
            "bin_end": 0.09840391545220817,
            "count": 0
           },
           {
            "bin_start": 0.09840391545220817,
            "bin_end": 0.20967608391013837,
            "count": 0
           },
           {
            "bin_start": 0.20967608391013837,
            "bin_end": 0.32094825236806845,
            "count": 0
           },
           {
            "bin_start": 0.32094825236806845,
            "bin_end": 0.43222042082599865,
            "count": 1
           }
          ]
         }
        },
        {
         "name": "1_3",
         "dtype": "float64",
         "stats": {
          "unique_count": 5,
          "nan_count": 0,
          "min": "-0.6816913042630466",
          "max": "0.41094330790303957",
          "histogram": [
           {
            "bin_start": -0.6816913042630466,
            "bin_end": -0.572427843046438,
            "count": 1
           },
           {
            "bin_start": -0.572427843046438,
            "bin_end": -0.46316438182982933,
            "count": 1
           },
           {
            "bin_start": -0.46316438182982933,
            "bin_end": -0.35390092061322076,
            "count": 0
           },
           {
            "bin_start": -0.35390092061322076,
            "bin_end": -0.24463745939661213,
            "count": 1
           },
           {
            "bin_start": -0.24463745939661213,
            "bin_end": -0.1353739981800035,
            "count": 0
           },
           {
            "bin_start": -0.1353739981800035,
            "bin_end": -0.026110536963394937,
            "count": 0
           },
           {
            "bin_start": -0.026110536963394937,
            "bin_end": 0.08315292425321374,
            "count": 1
           },
           {
            "bin_start": 0.08315292425321374,
            "bin_end": 0.19241638546982232,
            "count": 0
           },
           {
            "bin_start": 0.19241638546982232,
            "bin_end": 0.3016798466864309,
            "count": 0
           },
           {
            "bin_start": 0.3016798466864309,
            "bin_end": 0.41094330790303957,
            "count": 1
           }
          ]
         }
        },
        {
         "name": "1_4",
         "dtype": "float64",
         "stats": {
          "unique_count": 5,
          "nan_count": 0,
          "min": "-0.6824821402745217",
          "max": "0.39158513530204203",
          "histogram": [
           {
            "bin_start": -0.6824821402745217,
            "bin_end": -0.5750754127168654,
            "count": 1
           },
           {
            "bin_start": -0.5750754127168654,
            "bin_end": -0.46766868515920895,
            "count": 1
           },
           {
            "bin_start": -0.46766868515920895,
            "bin_end": -0.36026195760155255,
            "count": 0
           },
           {
            "bin_start": -0.36026195760155255,
            "bin_end": -0.2528552300438962,
            "count": 0
           },
           {
            "bin_start": -0.2528552300438962,
            "bin_end": -0.14544850248623986,
            "count": 1
           },
           {
            "bin_start": -0.14544850248623986,
            "bin_end": -0.038041774928583405,
            "count": 0
           },
           {
            "bin_start": -0.038041774928583405,
            "bin_end": 0.06936495262907294,
            "count": 1
           },
           {
            "bin_start": 0.06936495262907294,
            "bin_end": 0.17677168018672929,
            "count": 0
           },
           {
            "bin_start": 0.17677168018672929,
            "bin_end": 0.28417840774438563,
            "count": 0
           },
           {
            "bin_start": 0.28417840774438563,
            "bin_end": 0.39158513530204203,
            "count": 1
           }
          ]
         }
        },
        {
         "name": "_deepnote_index_column",
         "dtype": "object"
        }
       ],
       "rows": [
        {
         "1": 4.1588830833596715,
         "2": 4.330733340286331,
         "3": 4.5217885770490405,
         "4": 4.59511985013459,
         "target": 4.2626798770413155,
         "0_1": -0.6909152000685684,
         "0_2": -0.6918837307652483,
         "0_3": -0.6925947799698202,
         "0_4": -0.69283414039053,
         "1_1": -0.6794653875823216,
         "1_2": -0.680501263753303,
         "1_3": -0.6816913042630466,
         "1_4": -0.6824821402745217,
         "_deepnote_index_column": "New Hampshire_47600"
        },
        {
         "1": 0,
         "2": 0,
         "3": 0,
         "4": 0,
         "target": 2.5649493574615367,
         "0_1": 0.11807298613637619,
         "0_2": 0.10794601186221028,
         "0_3": 0.10067865084020784,
         "0_4": 0.0940195627969357,
         "1_1": -0.006950235643517483,
         "1_2": -0.015463352708219722,
         "1_3": -0.02469671474506906,
         "1_4": -0.032966414432778285,
         "_deepnote_index_column": "Tennessee_85247"
        },
        {
         "1": 0,
         "2": 0,
         "3": 5.393627546352362,
         "4": 5.003946305945459,
         "target": 0,
         "0_1": 0.6534589587461676,
         "0_2": 0.6395698336786986,
         "0_3": 0.6245793802122123,
         "0_4": 0.614614684189375,
         "1_1": 0.451762508778502,
         "1_2": 0.43222042082599865,
         "1_3": 0.41094330790303957,
         "1_4": 0.39158513530204203,
         "_deepnote_index_column": "North Carolina_37251"
        },
        {
         "1": 3.871201010907891,
         "2": 4.219507705176107,
         "3": 4.0943445622221,
         "4": 3.713572066704308,
         "target": 3.9512437185814275,
         "0_1": -0.1625199040622641,
         "0_2": -0.16263431022945082,
         "0_3": -0.16215234382300467,
         "0_4": -0.16200034319426013,
         "1_1": -0.23673732137992873,
         "1_2": -0.24037884533974418,
         "1_3": -0.24483744029499951,
         "1_4": -0.24865314291124105,
         "_deepnote_index_column": "Alabama_85307"
        },
        {
         "1": 3.912023005428146,
         "2": 0,
         "3": 0,
         "4": 0,
         "target": 4.3694478524670215,
         "0_1": -0.42237417466860433,
         "0_2": -0.42393880747516494,
         "0_3": -0.4251007197546782,
         "0_4": -0.4263994866928121,
         "1_1": -0.48953329944472823,
         "1_2": -0.4918465759174185,
         "1_3": -0.49454228813573997,
         "1_4": -0.49674332215126127,
         "_deepnote_index_column": "Arkansas_99489"
        }
       ]
      },
      "text/plain": "                        target         1         2         3         4  \\\nidx                                                                      \nNew Hampshire_47600   4.262680  4.158883  4.330733  4.521789  4.595120   \nTennessee_85247       2.564949  0.000000  0.000000  0.000000  0.000000   \nNorth Carolina_37251  0.000000  0.000000  0.000000  5.393628  5.003946   \nAlabama_85307         3.951244  3.871201  4.219508  4.094345  3.713572   \nArkansas_99489        4.369448  3.912023  0.000000  0.000000  0.000000   \n\n                           0_1       0_2       0_3       0_4       1_1  \\\nidx                                                                      \nNew Hampshire_47600  -0.690915 -0.691884 -0.692595 -0.692834 -0.679465   \nTennessee_85247       0.118073  0.107946  0.100679  0.094020 -0.006950   \nNorth Carolina_37251  0.653459  0.639570  0.624579  0.614615  0.451763   \nAlabama_85307        -0.162520 -0.162634 -0.162152 -0.162000 -0.236737   \nArkansas_99489       -0.422374 -0.423939 -0.425101 -0.426399 -0.489533   \n\n                           1_2       1_3       1_4  \nidx                                                 \nNew Hampshire_47600  -0.680501 -0.681691 -0.682482  \nTennessee_85247      -0.015463 -0.024697 -0.032966  \nNorth Carolina_37251  0.432220  0.410943  0.391585  \nAlabama_85307        -0.240379 -0.244837 -0.248653  \nArkansas_99489       -0.491847 -0.494542 -0.496743  ",
      "text/html": "<div>\n<style scoped>\n    .dataframe tbody tr th:only-of-type {\n        vertical-align: middle;\n    }\n\n    .dataframe tbody tr th {\n        vertical-align: top;\n    }\n\n    .dataframe thead th {\n        text-align: right;\n    }\n</style>\n<table border=\"1\" class=\"dataframe\">\n  <thead>\n    <tr style=\"text-align: right;\">\n      <th></th>\n      <th>target</th>\n      <th>1</th>\n      <th>2</th>\n      <th>3</th>\n      <th>4</th>\n      <th>0_1</th>\n      <th>0_2</th>\n      <th>0_3</th>\n      <th>0_4</th>\n      <th>1_1</th>\n      <th>1_2</th>\n      <th>1_3</th>\n      <th>1_4</th>\n    </tr>\n    <tr>\n      <th>idx</th>\n      <th></th>\n      <th></th>\n      <th></th>\n      <th></th>\n      <th></th>\n      <th></th>\n      <th></th>\n      <th></th>\n      <th></th>\n      <th></th>\n      <th></th>\n      <th></th>\n      <th></th>\n    </tr>\n  </thead>\n  <tbody>\n    <tr>\n      <th>New Hampshire_47600</th>\n      <td>4.262680</td>\n      <td>4.158883</td>\n      <td>4.330733</td>\n      <td>4.521789</td>\n      <td>4.595120</td>\n      <td>-0.690915</td>\n      <td>-0.691884</td>\n      <td>-0.692595</td>\n      <td>-0.692834</td>\n      <td>-0.679465</td>\n      <td>-0.680501</td>\n      <td>-0.681691</td>\n      <td>-0.682482</td>\n    </tr>\n    <tr>\n      <th>Tennessee_85247</th>\n      <td>2.564949</td>\n      <td>0.000000</td>\n      <td>0.000000</td>\n      <td>0.000000</td>\n      <td>0.000000</td>\n      <td>0.118073</td>\n      <td>0.107946</td>\n      <td>0.100679</td>\n      <td>0.094020</td>\n      <td>-0.006950</td>\n      <td>-0.015463</td>\n      <td>-0.024697</td>\n      <td>-0.032966</td>\n    </tr>\n    <tr>\n      <th>North Carolina_37251</th>\n      <td>0.000000</td>\n      <td>0.000000</td>\n      <td>0.000000</td>\n      <td>5.393628</td>\n      <td>5.003946</td>\n      <td>0.653459</td>\n      <td>0.639570</td>\n      <td>0.624579</td>\n      <td>0.614615</td>\n      <td>0.451763</td>\n      <td>0.432220</td>\n      <td>0.410943</td>\n      <td>0.391585</td>\n    </tr>\n    <tr>\n      <th>Alabama_85307</th>\n      <td>3.951244</td>\n      <td>3.871201</td>\n      <td>4.219508</td>\n      <td>4.094345</td>\n      <td>3.713572</td>\n      <td>-0.162520</td>\n      <td>-0.162634</td>\n      <td>-0.162152</td>\n      <td>-0.162000</td>\n      <td>-0.236737</td>\n      <td>-0.240379</td>\n      <td>-0.244837</td>\n      <td>-0.248653</td>\n    </tr>\n    <tr>\n      <th>Arkansas_99489</th>\n      <td>4.369448</td>\n      <td>3.912023</td>\n      <td>0.000000</td>\n      <td>0.000000</td>\n      <td>0.000000</td>\n      <td>-0.422374</td>\n      <td>-0.423939</td>\n      <td>-0.425101</td>\n      <td>-0.426399</td>\n      <td>-0.489533</td>\n      <td>-0.491847</td>\n      <td>-0.494542</td>\n      <td>-0.496743</td>\n    </tr>\n  </tbody>\n</table>\n</div>"
     },
     "metadata": {}
    }
   ],
   "execution_count": 14
  },
  {
   "cell_type": "code",
   "source": "model = xgboost.XGBRegressor(colsample_bytree=0.4,\n                 gamma=0,                 \n                 learning_rate=0.07,\n                 max_depth=7,\n                 min_child_weight=0.05,\n                 n_estimators=10000,                                                                    \n                 reg_alpha=0.75,\n                 reg_lambda=0.45,\n                 subsample=0.6,\n                 seed=117) ",
   "metadata": {
    "cell_id": "601ea573-0cae-468c-a7ea-70055c3cdd56",
    "tags": [],
    "deepnote_to_be_reexecuted": false,
    "source_hash": "edf43a0",
    "execution_start": 1643018793922,
    "execution_millis": 9,
    "deepnote_cell_type": "code"
   },
   "outputs": [],
   "execution_count": 15
  },
  {
   "cell_type": "code",
   "source": "x_train = full_train.drop([\"target\"], axis=1)\ny_train = full_train['target']\nx_test = full_test.drop([\"target\"], axis=1)\ny_test= full_test['target']\n\nmodel.fit(x_train, y_train, eval_set=[(x_train, y_train),(x_test,y_test)], early_stopping_rounds=50)",
   "metadata": {
    "cell_id": "ac78ce49-44e7-4ad4-8994-7ead5c37b369",
    "tags": [],
    "deepnote_to_be_reexecuted": false,
    "source_hash": "e71cf6e2",
    "execution_start": 1643018793942,
    "execution_millis": 269617,
    "deepnote_output_heights": [
     null,
     194
    ],
    "deepnote_cell_type": "code"
   },
   "outputs": [
    {
     "name": "stdout",
     "text": "[0]\tvalidation_0-rmse:4.93712\tvalidation_1-rmse:4.95765\n[1]\tvalidation_0-rmse:4.71319\tvalidation_1-rmse:4.73312\n[2]\tvalidation_0-rmse:4.51058\tvalidation_1-rmse:4.52994\n[3]\tvalidation_0-rmse:4.25348\tvalidation_1-rmse:4.27209\n[4]\tvalidation_0-rmse:3.98465\tvalidation_1-rmse:4.00293\n[5]\tvalidation_0-rmse:3.73881\tvalidation_1-rmse:3.75709\n[6]\tvalidation_0-rmse:3.50974\tvalidation_1-rmse:3.52781\n[7]\tvalidation_0-rmse:3.31581\tvalidation_1-rmse:3.33297\n[8]\tvalidation_0-rmse:3.14954\tvalidation_1-rmse:3.16786\n[9]\tvalidation_0-rmse:2.99854\tvalidation_1-rmse:3.01802\n[10]\tvalidation_0-rmse:2.84875\tvalidation_1-rmse:2.86718\n[11]\tvalidation_0-rmse:2.72397\tvalidation_1-rmse:2.74344\n[12]\tvalidation_0-rmse:2.57800\tvalidation_1-rmse:2.59675\n[13]\tvalidation_0-rmse:2.46437\tvalidation_1-rmse:2.48201\n[14]\tvalidation_0-rmse:2.36183\tvalidation_1-rmse:2.37836\n[15]\tvalidation_0-rmse:2.30116\tvalidation_1-rmse:2.31718\n[16]\tvalidation_0-rmse:2.19319\tvalidation_1-rmse:2.20828\n[17]\tvalidation_0-rmse:2.10822\tvalidation_1-rmse:2.12264\n[18]\tvalidation_0-rmse:2.03767\tvalidation_1-rmse:2.05173\n[19]\tvalidation_0-rmse:1.96887\tvalidation_1-rmse:1.98220\n[20]\tvalidation_0-rmse:1.91647\tvalidation_1-rmse:1.92938\n[21]\tvalidation_0-rmse:1.86040\tvalidation_1-rmse:1.87266\n[22]\tvalidation_0-rmse:1.81486\tvalidation_1-rmse:1.82601\n[23]\tvalidation_0-rmse:1.79034\tvalidation_1-rmse:1.80084\n[24]\tvalidation_0-rmse:1.75147\tvalidation_1-rmse:1.76162\n[25]\tvalidation_0-rmse:1.69764\tvalidation_1-rmse:1.70667\n[26]\tvalidation_0-rmse:1.66816\tvalidation_1-rmse:1.67622\n[27]\tvalidation_0-rmse:1.61802\tvalidation_1-rmse:1.62778\n[28]\tvalidation_0-rmse:1.58343\tvalidation_1-rmse:1.59319\n[29]\tvalidation_0-rmse:1.54689\tvalidation_1-rmse:1.55655\n[30]\tvalidation_0-rmse:1.52915\tvalidation_1-rmse:1.53806\n[31]\tvalidation_0-rmse:1.51518\tvalidation_1-rmse:1.52389\n[32]\tvalidation_0-rmse:1.50722\tvalidation_1-rmse:1.51558\n[33]\tvalidation_0-rmse:1.49038\tvalidation_1-rmse:1.49853\n[34]\tvalidation_0-rmse:1.48041\tvalidation_1-rmse:1.48842\n[35]\tvalidation_0-rmse:1.47048\tvalidation_1-rmse:1.47793\n[36]\tvalidation_0-rmse:1.46590\tvalidation_1-rmse:1.47299\n[37]\tvalidation_0-rmse:1.44798\tvalidation_1-rmse:1.45392\n[38]\tvalidation_0-rmse:1.43311\tvalidation_1-rmse:1.43920\n[39]\tvalidation_0-rmse:1.41017\tvalidation_1-rmse:1.41512\n[40]\tvalidation_0-rmse:1.40569\tvalidation_1-rmse:1.41057\n[41]\tvalidation_0-rmse:1.38916\tvalidation_1-rmse:1.39411\n[42]\tvalidation_0-rmse:1.37749\tvalidation_1-rmse:1.38172\n[43]\tvalidation_0-rmse:1.37573\tvalidation_1-rmse:1.37969\n[44]\tvalidation_0-rmse:1.37034\tvalidation_1-rmse:1.37407\n[45]\tvalidation_0-rmse:1.35452\tvalidation_1-rmse:1.36050\n[46]\tvalidation_0-rmse:1.34569\tvalidation_1-rmse:1.35102\n[47]\tvalidation_0-rmse:1.33912\tvalidation_1-rmse:1.34464\n[48]\tvalidation_0-rmse:1.33409\tvalidation_1-rmse:1.33959\n[49]\tvalidation_0-rmse:1.32180\tvalidation_1-rmse:1.32917\n[50]\tvalidation_0-rmse:1.31105\tvalidation_1-rmse:1.32023\n[51]\tvalidation_0-rmse:1.30695\tvalidation_1-rmse:1.31631\n[52]\tvalidation_0-rmse:1.29919\tvalidation_1-rmse:1.30802\n[53]\tvalidation_0-rmse:1.29820\tvalidation_1-rmse:1.30706\n[54]\tvalidation_0-rmse:1.29781\tvalidation_1-rmse:1.30655\n[55]\tvalidation_0-rmse:1.29713\tvalidation_1-rmse:1.30592\n[56]\tvalidation_0-rmse:1.29644\tvalidation_1-rmse:1.30526\n[57]\tvalidation_0-rmse:1.29579\tvalidation_1-rmse:1.30460\n[58]\tvalidation_0-rmse:1.29518\tvalidation_1-rmse:1.30401\n[59]\tvalidation_0-rmse:1.28855\tvalidation_1-rmse:1.29738\n[60]\tvalidation_0-rmse:1.28839\tvalidation_1-rmse:1.29716\n[61]\tvalidation_0-rmse:1.28279\tvalidation_1-rmse:1.29113\n[62]\tvalidation_0-rmse:1.28030\tvalidation_1-rmse:1.28886\n[63]\tvalidation_0-rmse:1.27063\tvalidation_1-rmse:1.28081\n[64]\tvalidation_0-rmse:1.26443\tvalidation_1-rmse:1.27613\n[65]\tvalidation_0-rmse:1.26289\tvalidation_1-rmse:1.27482\n[66]\tvalidation_0-rmse:1.26281\tvalidation_1-rmse:1.27471\n[67]\tvalidation_0-rmse:1.26128\tvalidation_1-rmse:1.27303\n[68]\tvalidation_0-rmse:1.25742\tvalidation_1-rmse:1.26888\n[69]\tvalidation_0-rmse:1.25718\tvalidation_1-rmse:1.26880\n[70]\tvalidation_0-rmse:1.25692\tvalidation_1-rmse:1.26858\n[71]\tvalidation_0-rmse:1.25671\tvalidation_1-rmse:1.26847\n[72]\tvalidation_0-rmse:1.25506\tvalidation_1-rmse:1.26699\n[73]\tvalidation_0-rmse:1.25391\tvalidation_1-rmse:1.26578\n[74]\tvalidation_0-rmse:1.25063\tvalidation_1-rmse:1.26233\n[75]\tvalidation_0-rmse:1.24734\tvalidation_1-rmse:1.25909\n[76]\tvalidation_0-rmse:1.24716\tvalidation_1-rmse:1.25901\n[77]\tvalidation_0-rmse:1.24581\tvalidation_1-rmse:1.25790\n[78]\tvalidation_0-rmse:1.24494\tvalidation_1-rmse:1.25700\n[79]\tvalidation_0-rmse:1.24478\tvalidation_1-rmse:1.25695\n[80]\tvalidation_0-rmse:1.24458\tvalidation_1-rmse:1.25694\n[81]\tvalidation_0-rmse:1.24444\tvalidation_1-rmse:1.25691\n[82]\tvalidation_0-rmse:1.24342\tvalidation_1-rmse:1.25611\n[83]\tvalidation_0-rmse:1.24340\tvalidation_1-rmse:1.25608\n[84]\tvalidation_0-rmse:1.24326\tvalidation_1-rmse:1.25602\n[85]\tvalidation_0-rmse:1.24318\tvalidation_1-rmse:1.25601\n[86]\tvalidation_0-rmse:1.24242\tvalidation_1-rmse:1.25543\n[87]\tvalidation_0-rmse:1.24229\tvalidation_1-rmse:1.25532\n[88]\tvalidation_0-rmse:1.23961\tvalidation_1-rmse:1.25268\n[89]\tvalidation_0-rmse:1.23721\tvalidation_1-rmse:1.25040\n[90]\tvalidation_0-rmse:1.23620\tvalidation_1-rmse:1.24962\n[91]\tvalidation_0-rmse:1.23607\tvalidation_1-rmse:1.24958\n[92]\tvalidation_0-rmse:1.23593\tvalidation_1-rmse:1.24952\n[93]\tvalidation_0-rmse:1.23529\tvalidation_1-rmse:1.24911\n[94]\tvalidation_0-rmse:1.23259\tvalidation_1-rmse:1.24629\n[95]\tvalidation_0-rmse:1.23201\tvalidation_1-rmse:1.24594\n[96]\tvalidation_0-rmse:1.23183\tvalidation_1-rmse:1.24584\n[97]\tvalidation_0-rmse:1.23183\tvalidation_1-rmse:1.24584\n[98]\tvalidation_0-rmse:1.23182\tvalidation_1-rmse:1.24583\n[99]\tvalidation_0-rmse:1.23181\tvalidation_1-rmse:1.24582\n[100]\tvalidation_0-rmse:1.23106\tvalidation_1-rmse:1.24523\n[101]\tvalidation_0-rmse:1.23034\tvalidation_1-rmse:1.24482\n[102]\tvalidation_0-rmse:1.22363\tvalidation_1-rmse:1.23934\n[103]\tvalidation_0-rmse:1.22345\tvalidation_1-rmse:1.23931\n[104]\tvalidation_0-rmse:1.22345\tvalidation_1-rmse:1.23931\n[105]\tvalidation_0-rmse:1.22344\tvalidation_1-rmse:1.23930\n[106]\tvalidation_0-rmse:1.22122\tvalidation_1-rmse:1.23708\n[107]\tvalidation_0-rmse:1.22121\tvalidation_1-rmse:1.23708\n[108]\tvalidation_0-rmse:1.22104\tvalidation_1-rmse:1.23705\n[109]\tvalidation_0-rmse:1.22096\tvalidation_1-rmse:1.23707\n[110]\tvalidation_0-rmse:1.22087\tvalidation_1-rmse:1.23707\n[111]\tvalidation_0-rmse:1.22086\tvalidation_1-rmse:1.23706\n[112]\tvalidation_0-rmse:1.22073\tvalidation_1-rmse:1.23706\n[113]\tvalidation_0-rmse:1.22073\tvalidation_1-rmse:1.23707\n[114]\tvalidation_0-rmse:1.22053\tvalidation_1-rmse:1.23708\n[115]\tvalidation_0-rmse:1.22001\tvalidation_1-rmse:1.23673\n[116]\tvalidation_0-rmse:1.22001\tvalidation_1-rmse:1.23673\n[117]\tvalidation_0-rmse:1.21985\tvalidation_1-rmse:1.23671\n[118]\tvalidation_0-rmse:1.21985\tvalidation_1-rmse:1.23671\n[119]\tvalidation_0-rmse:1.21970\tvalidation_1-rmse:1.23669\n[120]\tvalidation_0-rmse:1.21970\tvalidation_1-rmse:1.23669\n[121]\tvalidation_0-rmse:1.21960\tvalidation_1-rmse:1.23669\n[122]\tvalidation_0-rmse:1.21909\tvalidation_1-rmse:1.23642\n[123]\tvalidation_0-rmse:1.21855\tvalidation_1-rmse:1.23611\n[124]\tvalidation_0-rmse:1.21848\tvalidation_1-rmse:1.23610\n[125]\tvalidation_0-rmse:1.21802\tvalidation_1-rmse:1.23585\n[126]\tvalidation_0-rmse:1.21788\tvalidation_1-rmse:1.23587\n[127]\tvalidation_0-rmse:1.21770\tvalidation_1-rmse:1.23588\n[128]\tvalidation_0-rmse:1.21730\tvalidation_1-rmse:1.23567\n[129]\tvalidation_0-rmse:1.21709\tvalidation_1-rmse:1.23569\n[130]\tvalidation_0-rmse:1.21698\tvalidation_1-rmse:1.23564\n[131]\tvalidation_0-rmse:1.21698\tvalidation_1-rmse:1.23565\n[132]\tvalidation_0-rmse:1.21545\tvalidation_1-rmse:1.23409\n[133]\tvalidation_0-rmse:1.20982\tvalidation_1-rmse:1.22963\n[134]\tvalidation_0-rmse:1.20859\tvalidation_1-rmse:1.22840\n[135]\tvalidation_0-rmse:1.20711\tvalidation_1-rmse:1.22708\n[136]\tvalidation_0-rmse:1.20664\tvalidation_1-rmse:1.22693\n[137]\tvalidation_0-rmse:1.20646\tvalidation_1-rmse:1.22691\n[138]\tvalidation_0-rmse:1.20515\tvalidation_1-rmse:1.22566\n[139]\tvalidation_0-rmse:1.20515\tvalidation_1-rmse:1.22566\n[140]\tvalidation_0-rmse:1.20514\tvalidation_1-rmse:1.22566\n[141]\tvalidation_0-rmse:1.20514\tvalidation_1-rmse:1.22567\n[142]\tvalidation_0-rmse:1.20492\tvalidation_1-rmse:1.22560\n[143]\tvalidation_0-rmse:1.20448\tvalidation_1-rmse:1.22524\n[144]\tvalidation_0-rmse:1.20448\tvalidation_1-rmse:1.22525\n[145]\tvalidation_0-rmse:1.20405\tvalidation_1-rmse:1.22511\n[146]\tvalidation_0-rmse:1.20392\tvalidation_1-rmse:1.22511\n[147]\tvalidation_0-rmse:1.20375\tvalidation_1-rmse:1.22511\n[148]\tvalidation_0-rmse:1.20358\tvalidation_1-rmse:1.22510\n[149]\tvalidation_0-rmse:1.20323\tvalidation_1-rmse:1.22499\n[150]\tvalidation_0-rmse:1.20192\tvalidation_1-rmse:1.22392\n[151]\tvalidation_0-rmse:1.20086\tvalidation_1-rmse:1.22305\n[152]\tvalidation_0-rmse:1.20060\tvalidation_1-rmse:1.22306\n[153]\tvalidation_0-rmse:1.20035\tvalidation_1-rmse:1.22297\n[154]\tvalidation_0-rmse:1.19948\tvalidation_1-rmse:1.22231\n[155]\tvalidation_0-rmse:1.19934\tvalidation_1-rmse:1.22229\n[156]\tvalidation_0-rmse:1.19904\tvalidation_1-rmse:1.22224\n[157]\tvalidation_0-rmse:1.19820\tvalidation_1-rmse:1.22151\n[158]\tvalidation_0-rmse:1.19780\tvalidation_1-rmse:1.22122\n[159]\tvalidation_0-rmse:1.19780\tvalidation_1-rmse:1.22122\n[160]\tvalidation_0-rmse:1.19780\tvalidation_1-rmse:1.22122\n[161]\tvalidation_0-rmse:1.19758\tvalidation_1-rmse:1.22114\n[162]\tvalidation_0-rmse:1.19529\tvalidation_1-rmse:1.21988\n[163]\tvalidation_0-rmse:1.19373\tvalidation_1-rmse:1.21838\n[164]\tvalidation_0-rmse:1.19352\tvalidation_1-rmse:1.21835\n[165]\tvalidation_0-rmse:1.19333\tvalidation_1-rmse:1.21830\n[166]\tvalidation_0-rmse:1.19318\tvalidation_1-rmse:1.21832\n[167]\tvalidation_0-rmse:1.19294\tvalidation_1-rmse:1.21826\n[168]\tvalidation_0-rmse:1.19276\tvalidation_1-rmse:1.21822\n[169]\tvalidation_0-rmse:1.19200\tvalidation_1-rmse:1.21771\n[170]\tvalidation_0-rmse:1.19159\tvalidation_1-rmse:1.21760\n[171]\tvalidation_0-rmse:1.18763\tvalidation_1-rmse:1.21477\n[172]\tvalidation_0-rmse:1.18737\tvalidation_1-rmse:1.21474\n[173]\tvalidation_0-rmse:1.18725\tvalidation_1-rmse:1.21472\n[174]\tvalidation_0-rmse:1.18717\tvalidation_1-rmse:1.21471\n[175]\tvalidation_0-rmse:1.18703\tvalidation_1-rmse:1.21470\n[176]\tvalidation_0-rmse:1.18683\tvalidation_1-rmse:1.21470\n[177]\tvalidation_0-rmse:1.18617\tvalidation_1-rmse:1.21420\n[178]\tvalidation_0-rmse:1.18297\tvalidation_1-rmse:1.21200\n[179]\tvalidation_0-rmse:1.18284\tvalidation_1-rmse:1.21197\n[180]\tvalidation_0-rmse:1.18250\tvalidation_1-rmse:1.21177\n[181]\tvalidation_0-rmse:1.18235\tvalidation_1-rmse:1.21176\n[182]\tvalidation_0-rmse:1.18215\tvalidation_1-rmse:1.21175\n[183]\tvalidation_0-rmse:1.18182\tvalidation_1-rmse:1.21173\n[184]\tvalidation_0-rmse:1.18168\tvalidation_1-rmse:1.21175\n[185]\tvalidation_0-rmse:1.18143\tvalidation_1-rmse:1.21172\n[186]\tvalidation_0-rmse:1.18084\tvalidation_1-rmse:1.21134\n[187]\tvalidation_0-rmse:1.18058\tvalidation_1-rmse:1.21133\n[188]\tvalidation_0-rmse:1.18031\tvalidation_1-rmse:1.21112\n[189]\tvalidation_0-rmse:1.18012\tvalidation_1-rmse:1.21114\n[190]\tvalidation_0-rmse:1.17949\tvalidation_1-rmse:1.21066\n[191]\tvalidation_0-rmse:1.17938\tvalidation_1-rmse:1.21067\n[192]\tvalidation_0-rmse:1.17917\tvalidation_1-rmse:1.21065\n[193]\tvalidation_0-rmse:1.17851\tvalidation_1-rmse:1.21029\n[194]\tvalidation_0-rmse:1.17799\tvalidation_1-rmse:1.21004\n[195]\tvalidation_0-rmse:1.17772\tvalidation_1-rmse:1.21004\n[196]\tvalidation_0-rmse:1.17754\tvalidation_1-rmse:1.21006\n[197]\tvalidation_0-rmse:1.17606\tvalidation_1-rmse:1.20937\n[198]\tvalidation_0-rmse:1.17576\tvalidation_1-rmse:1.20937\n[199]\tvalidation_0-rmse:1.17550\tvalidation_1-rmse:1.20912\n[200]\tvalidation_0-rmse:1.17533\tvalidation_1-rmse:1.20914\n[201]\tvalidation_0-rmse:1.17533\tvalidation_1-rmse:1.20915\n[202]\tvalidation_0-rmse:1.17532\tvalidation_1-rmse:1.20915\n[203]\tvalidation_0-rmse:1.17495\tvalidation_1-rmse:1.20918\n[204]\tvalidation_0-rmse:1.17470\tvalidation_1-rmse:1.20901\n[205]\tvalidation_0-rmse:1.17449\tvalidation_1-rmse:1.20907\n[206]\tvalidation_0-rmse:1.17449\tvalidation_1-rmse:1.20907\n[207]\tvalidation_0-rmse:1.17435\tvalidation_1-rmse:1.20907\n[208]\tvalidation_0-rmse:1.17420\tvalidation_1-rmse:1.20907\n[209]\tvalidation_0-rmse:1.17370\tvalidation_1-rmse:1.20882\n[210]\tvalidation_0-rmse:1.17250\tvalidation_1-rmse:1.20775\n[211]\tvalidation_0-rmse:1.17233\tvalidation_1-rmse:1.20776\n[212]\tvalidation_0-rmse:1.17226\tvalidation_1-rmse:1.20776\n[213]\tvalidation_0-rmse:1.17226\tvalidation_1-rmse:1.20776\n[214]\tvalidation_0-rmse:1.16925\tvalidation_1-rmse:1.20557\n[215]\tvalidation_0-rmse:1.16911\tvalidation_1-rmse:1.20556\n[216]\tvalidation_0-rmse:1.16890\tvalidation_1-rmse:1.20557\n[217]\tvalidation_0-rmse:1.16852\tvalidation_1-rmse:1.20542\n[218]\tvalidation_0-rmse:1.16826\tvalidation_1-rmse:1.20546\n[219]\tvalidation_0-rmse:1.16826\tvalidation_1-rmse:1.20546\n[220]\tvalidation_0-rmse:1.16807\tvalidation_1-rmse:1.20546\n[221]\tvalidation_0-rmse:1.16793\tvalidation_1-rmse:1.20548\n[222]\tvalidation_0-rmse:1.16751\tvalidation_1-rmse:1.20530\n[223]\tvalidation_0-rmse:1.16711\tvalidation_1-rmse:1.20519\n[224]\tvalidation_0-rmse:1.16472\tvalidation_1-rmse:1.20376\n[225]\tvalidation_0-rmse:1.16472\tvalidation_1-rmse:1.20375\n[226]\tvalidation_0-rmse:1.16455\tvalidation_1-rmse:1.20373\n[227]\tvalidation_0-rmse:1.16456\tvalidation_1-rmse:1.20373\n[228]\tvalidation_0-rmse:1.16361\tvalidation_1-rmse:1.20338\n[229]\tvalidation_0-rmse:1.16339\tvalidation_1-rmse:1.20338\n[230]\tvalidation_0-rmse:1.16227\tvalidation_1-rmse:1.20229\n[231]\tvalidation_0-rmse:1.16132\tvalidation_1-rmse:1.20144\n[232]\tvalidation_0-rmse:1.16116\tvalidation_1-rmse:1.20145\n[233]\tvalidation_0-rmse:1.16098\tvalidation_1-rmse:1.20145\n[234]\tvalidation_0-rmse:1.16077\tvalidation_1-rmse:1.20135\n[235]\tvalidation_0-rmse:1.16059\tvalidation_1-rmse:1.20136\n[236]\tvalidation_0-rmse:1.16048\tvalidation_1-rmse:1.20138\n[237]\tvalidation_0-rmse:1.16020\tvalidation_1-rmse:1.20139\n[238]\tvalidation_0-rmse:1.16009\tvalidation_1-rmse:1.20136\n[239]\tvalidation_0-rmse:1.16009\tvalidation_1-rmse:1.20136\n[240]\tvalidation_0-rmse:1.15993\tvalidation_1-rmse:1.20137\n[241]\tvalidation_0-rmse:1.15983\tvalidation_1-rmse:1.20138\n[242]\tvalidation_0-rmse:1.15962\tvalidation_1-rmse:1.20140\n[243]\tvalidation_0-rmse:1.15938\tvalidation_1-rmse:1.20140\n[244]\tvalidation_0-rmse:1.15918\tvalidation_1-rmse:1.20141\n[245]\tvalidation_0-rmse:1.15906\tvalidation_1-rmse:1.20142\n[246]\tvalidation_0-rmse:1.15891\tvalidation_1-rmse:1.20143\n[247]\tvalidation_0-rmse:1.15871\tvalidation_1-rmse:1.20144\n[248]\tvalidation_0-rmse:1.15858\tvalidation_1-rmse:1.20142\n[249]\tvalidation_0-rmse:1.15745\tvalidation_1-rmse:1.20099\n[250]\tvalidation_0-rmse:1.15725\tvalidation_1-rmse:1.20098\n[251]\tvalidation_0-rmse:1.15681\tvalidation_1-rmse:1.20071\n[252]\tvalidation_0-rmse:1.15662\tvalidation_1-rmse:1.20071\n[253]\tvalidation_0-rmse:1.15646\tvalidation_1-rmse:1.20071\n[254]\tvalidation_0-rmse:1.15627\tvalidation_1-rmse:1.20071\n[255]\tvalidation_0-rmse:1.15610\tvalidation_1-rmse:1.20072\n[256]\tvalidation_0-rmse:1.15596\tvalidation_1-rmse:1.20073\n[257]\tvalidation_0-rmse:1.15581\tvalidation_1-rmse:1.20077\n[258]\tvalidation_0-rmse:1.15570\tvalidation_1-rmse:1.20074\n[259]\tvalidation_0-rmse:1.15403\tvalidation_1-rmse:1.19915\n[260]\tvalidation_0-rmse:1.15391\tvalidation_1-rmse:1.19917\n[261]\tvalidation_0-rmse:1.15360\tvalidation_1-rmse:1.19905\n[262]\tvalidation_0-rmse:1.15351\tvalidation_1-rmse:1.19905\n[263]\tvalidation_0-rmse:1.15318\tvalidation_1-rmse:1.19897\n[264]\tvalidation_0-rmse:1.15282\tvalidation_1-rmse:1.19892\n[265]\tvalidation_0-rmse:1.15258\tvalidation_1-rmse:1.19891\n[266]\tvalidation_0-rmse:1.15257\tvalidation_1-rmse:1.19892\n[267]\tvalidation_0-rmse:1.15236\tvalidation_1-rmse:1.19894\n[268]\tvalidation_0-rmse:1.15138\tvalidation_1-rmse:1.19858\n[269]\tvalidation_0-rmse:1.15120\tvalidation_1-rmse:1.19859\n[270]\tvalidation_0-rmse:1.15103\tvalidation_1-rmse:1.19857\n[271]\tvalidation_0-rmse:1.15103\tvalidation_1-rmse:1.19857\n[272]\tvalidation_0-rmse:1.15090\tvalidation_1-rmse:1.19857\n[273]\tvalidation_0-rmse:1.15082\tvalidation_1-rmse:1.19856\n[274]\tvalidation_0-rmse:1.15067\tvalidation_1-rmse:1.19859\n[275]\tvalidation_0-rmse:1.15067\tvalidation_1-rmse:1.19859\n[276]\tvalidation_0-rmse:1.15057\tvalidation_1-rmse:1.19860\n[277]\tvalidation_0-rmse:1.15051\tvalidation_1-rmse:1.19861\n[278]\tvalidation_0-rmse:1.15024\tvalidation_1-rmse:1.19854\n[279]\tvalidation_0-rmse:1.15005\tvalidation_1-rmse:1.19850\n[280]\tvalidation_0-rmse:1.14984\tvalidation_1-rmse:1.19850\n[281]\tvalidation_0-rmse:1.14973\tvalidation_1-rmse:1.19850\n[282]\tvalidation_0-rmse:1.14973\tvalidation_1-rmse:1.19850\n[283]\tvalidation_0-rmse:1.14959\tvalidation_1-rmse:1.19851\n[284]\tvalidation_0-rmse:1.14892\tvalidation_1-rmse:1.19842\n[285]\tvalidation_0-rmse:1.14892\tvalidation_1-rmse:1.19842\n[286]\tvalidation_0-rmse:1.14879\tvalidation_1-rmse:1.19842\n[287]\tvalidation_0-rmse:1.14879\tvalidation_1-rmse:1.19842\n[288]\tvalidation_0-rmse:1.14799\tvalidation_1-rmse:1.19810\n[289]\tvalidation_0-rmse:1.14730\tvalidation_1-rmse:1.19788\n[290]\tvalidation_0-rmse:1.14730\tvalidation_1-rmse:1.19788\n[291]\tvalidation_0-rmse:1.14701\tvalidation_1-rmse:1.19787\n[292]\tvalidation_0-rmse:1.14688\tvalidation_1-rmse:1.19788\n[293]\tvalidation_0-rmse:1.14612\tvalidation_1-rmse:1.19723\n[294]\tvalidation_0-rmse:1.14597\tvalidation_1-rmse:1.19723\n[295]\tvalidation_0-rmse:1.14597\tvalidation_1-rmse:1.19723\n[296]\tvalidation_0-rmse:1.14581\tvalidation_1-rmse:1.19724\n[297]\tvalidation_0-rmse:1.14559\tvalidation_1-rmse:1.19728\n[298]\tvalidation_0-rmse:1.14550\tvalidation_1-rmse:1.19730\n[299]\tvalidation_0-rmse:1.14526\tvalidation_1-rmse:1.19731\n[300]\tvalidation_0-rmse:1.14513\tvalidation_1-rmse:1.19732\n[301]\tvalidation_0-rmse:1.14478\tvalidation_1-rmse:1.19725\n[302]\tvalidation_0-rmse:1.14478\tvalidation_1-rmse:1.19725\n[303]\tvalidation_0-rmse:1.14478\tvalidation_1-rmse:1.19725\n[304]\tvalidation_0-rmse:1.14405\tvalidation_1-rmse:1.19715\n[305]\tvalidation_0-rmse:1.14405\tvalidation_1-rmse:1.19713\n[306]\tvalidation_0-rmse:1.14334\tvalidation_1-rmse:1.19702\n[307]\tvalidation_0-rmse:1.14314\tvalidation_1-rmse:1.19705\n[308]\tvalidation_0-rmse:1.14301\tvalidation_1-rmse:1.19707\n[309]\tvalidation_0-rmse:1.14291\tvalidation_1-rmse:1.19707\n[310]\tvalidation_0-rmse:1.14280\tvalidation_1-rmse:1.19708\n[311]\tvalidation_0-rmse:1.14269\tvalidation_1-rmse:1.19708\n[312]\tvalidation_0-rmse:1.14257\tvalidation_1-rmse:1.19707\n[313]\tvalidation_0-rmse:1.14242\tvalidation_1-rmse:1.19710\n[314]\tvalidation_0-rmse:1.14100\tvalidation_1-rmse:1.19585\n[315]\tvalidation_0-rmse:1.14078\tvalidation_1-rmse:1.19586\n[316]\tvalidation_0-rmse:1.14037\tvalidation_1-rmse:1.19582\n[317]\tvalidation_0-rmse:1.14006\tvalidation_1-rmse:1.19566\n[318]\tvalidation_0-rmse:1.13987\tvalidation_1-rmse:1.19568\n[319]\tvalidation_0-rmse:1.13973\tvalidation_1-rmse:1.19569\n[320]\tvalidation_0-rmse:1.13961\tvalidation_1-rmse:1.19569\n[321]\tvalidation_0-rmse:1.13815\tvalidation_1-rmse:1.19478\n[322]\tvalidation_0-rmse:1.13815\tvalidation_1-rmse:1.19477\n[323]\tvalidation_0-rmse:1.13806\tvalidation_1-rmse:1.19478\n[324]\tvalidation_0-rmse:1.13796\tvalidation_1-rmse:1.19477\n[325]\tvalidation_0-rmse:1.13777\tvalidation_1-rmse:1.19478\n[326]\tvalidation_0-rmse:1.13761\tvalidation_1-rmse:1.19479\n[327]\tvalidation_0-rmse:1.13747\tvalidation_1-rmse:1.19480\n[328]\tvalidation_0-rmse:1.13724\tvalidation_1-rmse:1.19481\n[329]\tvalidation_0-rmse:1.13724\tvalidation_1-rmse:1.19482\n[330]\tvalidation_0-rmse:1.13707\tvalidation_1-rmse:1.19483\n[331]\tvalidation_0-rmse:1.13694\tvalidation_1-rmse:1.19485\n[332]\tvalidation_0-rmse:1.13683\tvalidation_1-rmse:1.19485\n[333]\tvalidation_0-rmse:1.13640\tvalidation_1-rmse:1.19478\n[334]\tvalidation_0-rmse:1.13615\tvalidation_1-rmse:1.19475\n[335]\tvalidation_0-rmse:1.13589\tvalidation_1-rmse:1.19472\n[336]\tvalidation_0-rmse:1.13575\tvalidation_1-rmse:1.19474\n[337]\tvalidation_0-rmse:1.13575\tvalidation_1-rmse:1.19474\n[338]\tvalidation_0-rmse:1.13554\tvalidation_1-rmse:1.19473\n[339]\tvalidation_0-rmse:1.13538\tvalidation_1-rmse:1.19475\n[340]\tvalidation_0-rmse:1.13534\tvalidation_1-rmse:1.19473\n[341]\tvalidation_0-rmse:1.13517\tvalidation_1-rmse:1.19474\n[342]\tvalidation_0-rmse:1.13496\tvalidation_1-rmse:1.19475\n[343]\tvalidation_0-rmse:1.13496\tvalidation_1-rmse:1.19475\n[344]\tvalidation_0-rmse:1.13496\tvalidation_1-rmse:1.19475\n[345]\tvalidation_0-rmse:1.13341\tvalidation_1-rmse:1.19364\n[346]\tvalidation_0-rmse:1.13308\tvalidation_1-rmse:1.19365\n[347]\tvalidation_0-rmse:1.13297\tvalidation_1-rmse:1.19368\n[348]\tvalidation_0-rmse:1.13254\tvalidation_1-rmse:1.19373\n[349]\tvalidation_0-rmse:1.13233\tvalidation_1-rmse:1.19370\n[350]\tvalidation_0-rmse:1.13202\tvalidation_1-rmse:1.19367\n[351]\tvalidation_0-rmse:1.13188\tvalidation_1-rmse:1.19367\n[352]\tvalidation_0-rmse:1.13188\tvalidation_1-rmse:1.19367\n[353]\tvalidation_0-rmse:1.13177\tvalidation_1-rmse:1.19369\n[354]\tvalidation_0-rmse:1.13164\tvalidation_1-rmse:1.19370\n[355]\tvalidation_0-rmse:1.13149\tvalidation_1-rmse:1.19372\n[356]\tvalidation_0-rmse:1.13136\tvalidation_1-rmse:1.19372\n[357]\tvalidation_0-rmse:1.13121\tvalidation_1-rmse:1.19374\n[358]\tvalidation_0-rmse:1.13108\tvalidation_1-rmse:1.19376\n[359]\tvalidation_0-rmse:1.13101\tvalidation_1-rmse:1.19377\n[360]\tvalidation_0-rmse:1.13095\tvalidation_1-rmse:1.19375\n[361]\tvalidation_0-rmse:1.13085\tvalidation_1-rmse:1.19375\n[362]\tvalidation_0-rmse:1.13021\tvalidation_1-rmse:1.19316\n[363]\tvalidation_0-rmse:1.13002\tvalidation_1-rmse:1.19316\n[364]\tvalidation_0-rmse:1.12992\tvalidation_1-rmse:1.19318\n[365]\tvalidation_0-rmse:1.12992\tvalidation_1-rmse:1.19317\n[366]\tvalidation_0-rmse:1.12963\tvalidation_1-rmse:1.19302\n[367]\tvalidation_0-rmse:1.12951\tvalidation_1-rmse:1.19303\n[368]\tvalidation_0-rmse:1.12940\tvalidation_1-rmse:1.19304\n[369]\tvalidation_0-rmse:1.12921\tvalidation_1-rmse:1.19305\n[370]\tvalidation_0-rmse:1.12907\tvalidation_1-rmse:1.19305\n[371]\tvalidation_0-rmse:1.12900\tvalidation_1-rmse:1.19304\n[372]\tvalidation_0-rmse:1.12885\tvalidation_1-rmse:1.19305\n[373]\tvalidation_0-rmse:1.12885\tvalidation_1-rmse:1.19305\n[374]\tvalidation_0-rmse:1.12871\tvalidation_1-rmse:1.19308\n[375]\tvalidation_0-rmse:1.12851\tvalidation_1-rmse:1.19307\n[376]\tvalidation_0-rmse:1.12851\tvalidation_1-rmse:1.19307\n[377]\tvalidation_0-rmse:1.12822\tvalidation_1-rmse:1.19290\n[378]\tvalidation_0-rmse:1.12781\tvalidation_1-rmse:1.19285\n[379]\tvalidation_0-rmse:1.12781\tvalidation_1-rmse:1.19286\n[380]\tvalidation_0-rmse:1.12770\tvalidation_1-rmse:1.19287\n[381]\tvalidation_0-rmse:1.12644\tvalidation_1-rmse:1.19224\n[382]\tvalidation_0-rmse:1.12628\tvalidation_1-rmse:1.19216\n[383]\tvalidation_0-rmse:1.12614\tvalidation_1-rmse:1.19214\n[384]\tvalidation_0-rmse:1.12600\tvalidation_1-rmse:1.19216\n[385]\tvalidation_0-rmse:1.12584\tvalidation_1-rmse:1.19216\n[386]\tvalidation_0-rmse:1.12576\tvalidation_1-rmse:1.19217\n[387]\tvalidation_0-rmse:1.12565\tvalidation_1-rmse:1.19219\n[388]\tvalidation_0-rmse:1.12551\tvalidation_1-rmse:1.19224\n[389]\tvalidation_0-rmse:1.12532\tvalidation_1-rmse:1.19223\n[390]\tvalidation_0-rmse:1.12532\tvalidation_1-rmse:1.19223\n[391]\tvalidation_0-rmse:1.12488\tvalidation_1-rmse:1.19231\n[392]\tvalidation_0-rmse:1.12441\tvalidation_1-rmse:1.19234\n[393]\tvalidation_0-rmse:1.12441\tvalidation_1-rmse:1.19235\n[394]\tvalidation_0-rmse:1.12420\tvalidation_1-rmse:1.19236\n[395]\tvalidation_0-rmse:1.12420\tvalidation_1-rmse:1.19237\n[396]\tvalidation_0-rmse:1.12406\tvalidation_1-rmse:1.19240\n[397]\tvalidation_0-rmse:1.12398\tvalidation_1-rmse:1.19240\n[398]\tvalidation_0-rmse:1.12384\tvalidation_1-rmse:1.19237\n[399]\tvalidation_0-rmse:1.12339\tvalidation_1-rmse:1.19244\n[400]\tvalidation_0-rmse:1.12339\tvalidation_1-rmse:1.19244\n[401]\tvalidation_0-rmse:1.12339\tvalidation_1-rmse:1.19244\n[402]\tvalidation_0-rmse:1.12320\tvalidation_1-rmse:1.19246\n[403]\tvalidation_0-rmse:1.12309\tvalidation_1-rmse:1.19247\n[404]\tvalidation_0-rmse:1.12301\tvalidation_1-rmse:1.19247\n[405]\tvalidation_0-rmse:1.12290\tvalidation_1-rmse:1.19247\n[406]\tvalidation_0-rmse:1.12269\tvalidation_1-rmse:1.19249\n[407]\tvalidation_0-rmse:1.12249\tvalidation_1-rmse:1.19250\n[408]\tvalidation_0-rmse:1.12220\tvalidation_1-rmse:1.19244\n[409]\tvalidation_0-rmse:1.12204\tvalidation_1-rmse:1.19243\n[410]\tvalidation_0-rmse:1.12194\tvalidation_1-rmse:1.19244\n[411]\tvalidation_0-rmse:1.12184\tvalidation_1-rmse:1.19246\n[412]\tvalidation_0-rmse:1.12184\tvalidation_1-rmse:1.19245\n[413]\tvalidation_0-rmse:1.12130\tvalidation_1-rmse:1.19193\n[414]\tvalidation_0-rmse:1.12103\tvalidation_1-rmse:1.19189\n[415]\tvalidation_0-rmse:1.12090\tvalidation_1-rmse:1.19190\n[416]\tvalidation_0-rmse:1.12070\tvalidation_1-rmse:1.19189\n[417]\tvalidation_0-rmse:1.12070\tvalidation_1-rmse:1.19189\n[418]\tvalidation_0-rmse:1.12060\tvalidation_1-rmse:1.19190\n[419]\tvalidation_0-rmse:1.12046\tvalidation_1-rmse:1.19190\n[420]\tvalidation_0-rmse:1.12009\tvalidation_1-rmse:1.19192\n[421]\tvalidation_0-rmse:1.12009\tvalidation_1-rmse:1.19192\n[422]\tvalidation_0-rmse:1.11995\tvalidation_1-rmse:1.19196\n[423]\tvalidation_0-rmse:1.11975\tvalidation_1-rmse:1.19197\n[424]\tvalidation_0-rmse:1.11975\tvalidation_1-rmse:1.19197\n[425]\tvalidation_0-rmse:1.11956\tvalidation_1-rmse:1.19200\n[426]\tvalidation_0-rmse:1.11944\tvalidation_1-rmse:1.19199\n[427]\tvalidation_0-rmse:1.11929\tvalidation_1-rmse:1.19202\n[428]\tvalidation_0-rmse:1.11919\tvalidation_1-rmse:1.19202\n[429]\tvalidation_0-rmse:1.11913\tvalidation_1-rmse:1.19202\n[430]\tvalidation_0-rmse:1.11902\tvalidation_1-rmse:1.19202\n[431]\tvalidation_0-rmse:1.11877\tvalidation_1-rmse:1.19197\n[432]\tvalidation_0-rmse:1.11877\tvalidation_1-rmse:1.19198\n[433]\tvalidation_0-rmse:1.11868\tvalidation_1-rmse:1.19200\n[434]\tvalidation_0-rmse:1.11851\tvalidation_1-rmse:1.19195\n[435]\tvalidation_0-rmse:1.11829\tvalidation_1-rmse:1.19198\n[436]\tvalidation_0-rmse:1.11818\tvalidation_1-rmse:1.19200\n[437]\tvalidation_0-rmse:1.11819\tvalidation_1-rmse:1.19199\n[438]\tvalidation_0-rmse:1.11805\tvalidation_1-rmse:1.19202\n[439]\tvalidation_0-rmse:1.11794\tvalidation_1-rmse:1.19200\n[440]\tvalidation_0-rmse:1.11794\tvalidation_1-rmse:1.19199\n[441]\tvalidation_0-rmse:1.11786\tvalidation_1-rmse:1.19199\n[442]\tvalidation_0-rmse:1.11748\tvalidation_1-rmse:1.19209\n[443]\tvalidation_0-rmse:1.11696\tvalidation_1-rmse:1.19161\n[444]\tvalidation_0-rmse:1.11675\tvalidation_1-rmse:1.19163\n[445]\tvalidation_0-rmse:1.11667\tvalidation_1-rmse:1.19163\n[446]\tvalidation_0-rmse:1.11656\tvalidation_1-rmse:1.19165\n[447]\tvalidation_0-rmse:1.11633\tvalidation_1-rmse:1.19164\n[448]\tvalidation_0-rmse:1.11619\tvalidation_1-rmse:1.19165\n[449]\tvalidation_0-rmse:1.11611\tvalidation_1-rmse:1.19165\n[450]\tvalidation_0-rmse:1.11611\tvalidation_1-rmse:1.19164\n[451]\tvalidation_0-rmse:1.11586\tvalidation_1-rmse:1.19165\n[452]\tvalidation_0-rmse:1.11571\tvalidation_1-rmse:1.19164\n[453]\tvalidation_0-rmse:1.11560\tvalidation_1-rmse:1.19162\n[454]\tvalidation_0-rmse:1.11539\tvalidation_1-rmse:1.19161\n[455]\tvalidation_0-rmse:1.11539\tvalidation_1-rmse:1.19162\n[456]\tvalidation_0-rmse:1.11522\tvalidation_1-rmse:1.19163\n[457]\tvalidation_0-rmse:1.11494\tvalidation_1-rmse:1.19158\n[458]\tvalidation_0-rmse:1.11480\tvalidation_1-rmse:1.19160\n[459]\tvalidation_0-rmse:1.11472\tvalidation_1-rmse:1.19162\n[460]\tvalidation_0-rmse:1.11451\tvalidation_1-rmse:1.19163\n[461]\tvalidation_0-rmse:1.11439\tvalidation_1-rmse:1.19167\n[462]\tvalidation_0-rmse:1.11423\tvalidation_1-rmse:1.19167\n[463]\tvalidation_0-rmse:1.11411\tvalidation_1-rmse:1.19169\n[464]\tvalidation_0-rmse:1.11393\tvalidation_1-rmse:1.19161\n[465]\tvalidation_0-rmse:1.11365\tvalidation_1-rmse:1.19169\n[466]\tvalidation_0-rmse:1.11365\tvalidation_1-rmse:1.19168\n[467]\tvalidation_0-rmse:1.11345\tvalidation_1-rmse:1.19171\n[468]\tvalidation_0-rmse:1.11331\tvalidation_1-rmse:1.19173\n[469]\tvalidation_0-rmse:1.11324\tvalidation_1-rmse:1.19175\n[470]\tvalidation_0-rmse:1.11303\tvalidation_1-rmse:1.19174\n[471]\tvalidation_0-rmse:1.11285\tvalidation_1-rmse:1.19173\n[472]\tvalidation_0-rmse:1.11277\tvalidation_1-rmse:1.19176\n[473]\tvalidation_0-rmse:1.11277\tvalidation_1-rmse:1.19175\n[474]\tvalidation_0-rmse:1.11270\tvalidation_1-rmse:1.19177\n[475]\tvalidation_0-rmse:1.11259\tvalidation_1-rmse:1.19177\n[476]\tvalidation_0-rmse:1.11250\tvalidation_1-rmse:1.19178\n[477]\tvalidation_0-rmse:1.11243\tvalidation_1-rmse:1.19179\n[478]\tvalidation_0-rmse:1.11223\tvalidation_1-rmse:1.19180\n[479]\tvalidation_0-rmse:1.11209\tvalidation_1-rmse:1.19179\n[480]\tvalidation_0-rmse:1.11195\tvalidation_1-rmse:1.19179\n[481]\tvalidation_0-rmse:1.11170\tvalidation_1-rmse:1.19181\n[482]\tvalidation_0-rmse:1.11170\tvalidation_1-rmse:1.19182\n[483]\tvalidation_0-rmse:1.11156\tvalidation_1-rmse:1.19183\n[484]\tvalidation_0-rmse:1.11147\tvalidation_1-rmse:1.19183\n[485]\tvalidation_0-rmse:1.11143\tvalidation_1-rmse:1.19184\n[486]\tvalidation_0-rmse:1.11123\tvalidation_1-rmse:1.19184\n[487]\tvalidation_0-rmse:1.11105\tvalidation_1-rmse:1.19186\n[488]\tvalidation_0-rmse:1.11090\tvalidation_1-rmse:1.19188\n[489]\tvalidation_0-rmse:1.11051\tvalidation_1-rmse:1.19198\n[490]\tvalidation_0-rmse:1.11042\tvalidation_1-rmse:1.19197\n[491]\tvalidation_0-rmse:1.11041\tvalidation_1-rmse:1.19197\n[492]\tvalidation_0-rmse:1.11028\tvalidation_1-rmse:1.19200\n[493]\tvalidation_0-rmse:1.11017\tvalidation_1-rmse:1.19201\n[494]\tvalidation_0-rmse:1.11018\tvalidation_1-rmse:1.19200\n[495]\tvalidation_0-rmse:1.11004\tvalidation_1-rmse:1.19202\n[496]\tvalidation_0-rmse:1.10981\tvalidation_1-rmse:1.19203\n[497]\tvalidation_0-rmse:1.10968\tvalidation_1-rmse:1.19204\n[498]\tvalidation_0-rmse:1.10953\tvalidation_1-rmse:1.19203\n[499]\tvalidation_0-rmse:1.10953\tvalidation_1-rmse:1.19204\n[500]\tvalidation_0-rmse:1.10945\tvalidation_1-rmse:1.19206\n[501]\tvalidation_0-rmse:1.10945\tvalidation_1-rmse:1.19207\n[502]\tvalidation_0-rmse:1.10934\tvalidation_1-rmse:1.19210\n[503]\tvalidation_0-rmse:1.10912\tvalidation_1-rmse:1.19208\n[504]\tvalidation_0-rmse:1.10894\tvalidation_1-rmse:1.19211\n[505]\tvalidation_0-rmse:1.10858\tvalidation_1-rmse:1.19215\n[506]\tvalidation_0-rmse:1.10843\tvalidation_1-rmse:1.19215\n[507]\tvalidation_0-rmse:1.10843\tvalidation_1-rmse:1.19216\n",
     "output_type": "stream"
    },
    {
     "output_type": "execute_result",
     "execution_count": 16,
     "data": {
      "text/plain": "XGBRegressor(base_score=0.5, booster='gbtree', colsample_bylevel=1,\n             colsample_bynode=1, colsample_bytree=0.4, enable_categorical=False,\n             gamma=0, gpu_id=-1, importance_type=None,\n             interaction_constraints='', learning_rate=0.07, max_delta_step=0,\n             max_depth=7, min_child_weight=0.5, missing=nan,\n             monotone_constraints='()', n_estimators=10000, n_jobs=2,\n             num_parallel_tree=1, predictor='auto', random_state=117,\n             reg_alpha=0.75, reg_lambda=0.45, scale_pos_weight=1, seed=117,\n             subsample=0.6, tree_method='exact', validate_parameters=1,\n             verbosity=None)"
     },
     "metadata": {}
    }
   ],
   "execution_count": 16
  },
  {
   "cell_type": "code",
   "source": "results = model.evals_result()\n# plot learning curves\n_train_results = np.array(list(map(math.exp,results['validation_0']['rmse'])))\n_test_results = np.array(list(map(math.exp,results['validation_1']['rmse'])))\npyplot.plot(_train_results, label='train')\npyplot.plot(_test_results, label='test')\n# show the legend\npyplot.legend()\n# show the plot\npyplot.show()",
   "metadata": {
    "cell_id": "ea88fcf3-76d9-41dc-b1a0-e0dbfb3fddad",
    "tags": [],
    "deepnote_to_be_reexecuted": false,
    "source_hash": "14829bbb",
    "execution_start": 1643019063566,
    "execution_millis": 1263,
    "deepnote_output_heights": [
     250,
     254
    ],
    "deepnote_cell_type": "code"
   },
   "outputs": [
    {
     "data": {
      "text/plain": "<Figure size 432x288 with 1 Axes>",
      "image/png": "[encoded data removed]"
     },
     "metadata": {
      "needs_background": "light",
      "image/png": {
       "width": 375,
       "height": 248
      }
     },
     "output_type": "display_data"
    }
   ],
   "execution_count": 17
  },
  {
   "cell_type": "code",
   "source": "y_pred = model.predict(x_test)",
   "metadata": {
    "cell_id": "4bfb8eb5-bdb4-43e8-8002-5cce9c86e14e",
    "tags": [],
    "deepnote_to_be_reexecuted": false,
    "source_hash": "5406791e",
    "execution_start": 1643019064834,
    "execution_millis": 4989,
    "deepnote_cell_type": "code"
   },
   "outputs": [],
   "execution_count": 18
  },
  {
   "cell_type": "code",
   "source": "full_test['state'] = full_test.reset_index()['idx'].apply(lambda x: x.split(\"_\")[0]).values",
   "metadata": {
    "cell_id": "67d84de2-7d20-4101-8610-91ae3df4e714",
    "tags": [],
    "deepnote_to_be_reexecuted": false,
    "source_hash": "30d3dd17",
    "execution_start": 1643019069838,
    "execution_millis": 245,
    "deepnote_cell_type": "code"
   },
   "outputs": [],
   "execution_count": 19
  },
  {
   "cell_type": "code",
   "source": "def perc_round(x):\n    return round(x,-2)\n\nfull_test['pred'] = np.array(list(map(math.exp,y_pred)))\nfull_test['target_original'] = np.array(list(map(math.exp,full_test['target'])))\nfull_test['total_diff'] = np.array(list(map(round, full_test['target_original'] - full_test['pred'])))\nfull_test['perc_diff'] = full_test['total_diff'].values/full_test['target_original'].values",
   "metadata": {
    "cell_id": "3dd83d91-5f7a-43ba-b832-90cb3a8d2d3c",
    "tags": [],
    "deepnote_to_be_reexecuted": false,
    "source_hash": "a5df6b1e",
    "execution_start": 1643019070238,
    "execution_millis": 347,
    "deepnote_output_heights": [
     40.375
    ],
    "deepnote_cell_type": "code"
   },
   "outputs": [],
   "execution_count": 20
  },
  {
   "cell_type": "code",
   "source": "full_test.sample(15)",
   "metadata": {
    "cell_id": "057b5603-6aed-4853-8ebc-0ad8da8531ed",
    "tags": [],
    "deepnote_to_be_reexecuted": false,
    "source_hash": "38ec3e57",
    "execution_start": 1643019070613,
    "execution_millis": 261,
    "deepnote_cell_type": "code"
   },
   "outputs": [
    {
     "output_type": "execute_result",
     "execution_count": 21,
     "data": {
      "application/vnd.deepnote.dataframe.v3+json": {
       "column_count": 18,
       "row_count": 15,
       "columns": [
        {
         "name": "target",
         "dtype": "float64",
         "stats": {
          "unique_count": 12,
          "nan_count": 0,
          "min": "0.0",
          "max": "8.395477432732141",
          "histogram": [
           {
            "bin_start": 0,
            "bin_end": 0.8395477432732141,
            "count": 4
           },
           {
            "bin_start": 0.8395477432732141,
            "bin_end": 1.6790954865464283,
            "count": 0
           },
           {
            "bin_start": 1.6790954865464283,
            "bin_end": 2.5186432298196424,
            "count": 0
           },
           {
            "bin_start": 2.5186432298196424,
            "bin_end": 3.3581909730928565,
            "count": 3
           },
           {
            "bin_start": 3.3581909730928565,
            "bin_end": 4.197738716366071,
            "count": 1
           },
           {
            "bin_start": 4.197738716366071,
            "bin_end": 5.037286459639285,
            "count": 2
           },
           {
            "bin_start": 5.037286459639285,
            "bin_end": 5.876834202912499,
            "count": 3
           },
           {
            "bin_start": 5.876834202912499,
            "bin_end": 6.716381946185713,
            "count": 1
           },
           {
            "bin_start": 6.716381946185713,
            "bin_end": 7.555929689458927,
            "count": 0
           },
           {
            "bin_start": 7.555929689458927,
            "bin_end": 8.395477432732141,
            "count": 1
           }
          ]
         }
        },
        {
         "name": "1",
         "dtype": "float64",
         "stats": {
          "unique_count": 13,
          "nan_count": 0,
          "min": "0.0",
          "max": "8.36240897761537",
          "histogram": [
           {
            "bin_start": 0,
            "bin_end": 0.836240897761537,
            "count": 2
           },
           {
            "bin_start": 0.836240897761537,
            "bin_end": 1.672481795523074,
            "count": 0
           },
           {
            "bin_start": 1.672481795523074,
            "bin_end": 2.5087226932846107,
            "count": 1
           },
           {
            "bin_start": 2.5087226932846107,
            "bin_end": 3.344963591046148,
            "count": 4
           },
           {
            "bin_start": 3.344963591046148,
            "bin_end": 4.181204488807685,
            "count": 2
           },
           {
            "bin_start": 4.181204488807685,
            "bin_end": 5.0174453865692215,
            "count": 1
           },
           {
            "bin_start": 5.0174453865692215,
            "bin_end": 5.853686284330759,
            "count": 3
           },
           {
            "bin_start": 5.853686284330759,
            "bin_end": 6.689927182092296,
            "count": 1
           },
           {
            "bin_start": 6.689927182092296,
            "bin_end": 7.526168079853833,
            "count": 0
           },
           {
            "bin_start": 7.526168079853833,
            "bin_end": 8.36240897761537,
            "count": 1
           }
          ]
         }
        },
        {
         "name": "2",
         "dtype": "float64",
         "stats": {
          "unique_count": 13,
          "nan_count": 0,
          "min": "0.0",
          "max": "8.364042011922063",
          "histogram": [
           {
            "bin_start": 0,
            "bin_end": 0.8364042011922063,
            "count": 2
           },
           {
            "bin_start": 0.8364042011922063,
            "bin_end": 1.6728084023844125,
            "count": 0
           },
           {
            "bin_start": 1.6728084023844125,
            "bin_end": 2.5092126035766187,
            "count": 0
           },
           {
            "bin_start": 2.5092126035766187,
            "bin_end": 3.345616804768825,
            "count": 4
           },
           {
            "bin_start": 3.345616804768825,
            "bin_end": 4.182021005961031,
            "count": 2
           },
           {
            "bin_start": 4.182021005961031,
            "bin_end": 5.018425207153237,
            "count": 2
           },
           {
            "bin_start": 5.018425207153237,
            "bin_end": 5.854829408345444,
            "count": 3
           },
           {
            "bin_start": 5.854829408345444,
            "bin_end": 6.69123360953765,
            "count": 1
           },
           {
            "bin_start": 6.69123360953765,
            "bin_end": 7.527637810729856,
            "count": 0
           },
           {
            "bin_start": 7.527637810729856,
            "bin_end": 8.364042011922063,
            "count": 1
           }
          ]
         }
        },
        {
         "name": "3",
         "dtype": "float64",
         "stats": {
          "unique_count": 14,
          "nan_count": 0,
          "min": "0.0",
          "max": "8.28121766128665",
          "histogram": [
           {
            "bin_start": 0,
            "bin_end": 0.8281217661286651,
            "count": 2
           },
           {
            "bin_start": 0.8281217661286651,
            "bin_end": 1.6562435322573301,
            "count": 0
           },
           {
            "bin_start": 1.6562435322573301,
            "bin_end": 2.4843652983859954,
            "count": 0
           },
           {
            "bin_start": 2.4843652983859954,
            "bin_end": 3.3124870645146602,
            "count": 4
           },
           {
            "bin_start": 3.3124870645146602,
            "bin_end": 4.140608830643325,
            "count": 3
           },
           {
            "bin_start": 4.140608830643325,
            "bin_end": 4.968730596771991,
            "count": 1
           },
           {
            "bin_start": 4.968730596771991,
            "bin_end": 5.796852362900656,
            "count": 3
           },
           {
            "bin_start": 5.796852362900656,
            "bin_end": 6.6249741290293205,
            "count": 1
           },
           {
            "bin_start": 6.6249741290293205,
            "bin_end": 7.453095895157985,
            "count": 0
           },
           {
            "bin_start": 7.453095895157985,
            "bin_end": 8.28121766128665,
            "count": 1
           }
          ]
         }
        },
        {
         "name": 4,
         "dtype": "float64",
         "stats": {
          "unique_count": 14,
          "nan_count": 0,
          "min": "0.0",
          "max": "8.148156439921625",
          "histogram": [
           {
            "bin_start": 0,
            "bin_end": 0.8148156439921624,
            "count": 1
           },
           {
            "bin_start": 0.8148156439921624,
            "bin_end": 1.6296312879843249,
            "count": 0
           },
           {
            "bin_start": 1.6296312879843249,
            "bin_end": 2.444446931976487,
            "count": 0
           },
           {
            "bin_start": 2.444446931976487,
            "bin_end": 3.2592625759686498,
            "count": 2
           },
           {
            "bin_start": 3.2592625759686498,
            "bin_end": 4.074078219960812,
            "count": 6
           },
           {
            "bin_start": 4.074078219960812,
            "bin_end": 4.888893863952974,
            "count": 1
           },
           {
            "bin_start": 4.888893863952974,
            "bin_end": 5.703709507945137,
            "count": 3
           },
           {
            "bin_start": 5.703709507945137,
            "bin_end": 6.5185251519372995,
            "count": 0
           },
           {
            "bin_start": 6.5185251519372995,
            "bin_end": 7.333340795929462,
            "count": 1
           },
           {
            "bin_start": 7.333340795929462,
            "bin_end": 8.148156439921625,
            "count": 1
           }
          ]
         }
        },
        {
         "name": "0_1",
         "dtype": "float64",
         "stats": {
          "unique_count": 14,
          "nan_count": 0,
          "min": "-0.7180803088772363",
          "max": "3.765883605408294",
          "histogram": [
           {
            "bin_start": -0.7180803088772363,
            "bin_end": -0.26968391744868325,
            "count": 3
           },
           {
            "bin_start": -0.26968391744868325,
            "bin_end": 0.17871247397986978,
            "count": 6
           },
           {
            "bin_start": 0.17871247397986978,
            "bin_end": 0.6271088654084229,
            "count": 2
           },
           {
            "bin_start": 0.6271088654084229,
            "bin_end": 1.0755052568369758,
            "count": 2
           },
           {
            "bin_start": 1.0755052568369758,
            "bin_end": 1.5239016482655288,
            "count": 0
           },
           {
            "bin_start": 1.5239016482655288,
            "bin_end": 1.9722980396940821,
            "count": 0
           },
           {
            "bin_start": 1.9722980396940821,
            "bin_end": 2.420694431122635,
            "count": 1
           },
           {
            "bin_start": 2.420694431122635,
            "bin_end": 2.869090822551188,
            "count": 0
           },
           {
            "bin_start": 2.869090822551188,
            "bin_end": 3.3174872139797413,
            "count": 0
           },
           {
            "bin_start": 3.3174872139797413,
            "bin_end": 3.765883605408294,
            "count": 1
           }
          ]
         }
        },
        {
         "name": "0_2",
         "dtype": "float64",
         "stats": {
          "unique_count": 14,
          "nan_count": 0,
          "min": "-0.71779496961865",
          "max": "3.7151016017562597",
          "histogram": [
           {
            "bin_start": -0.71779496961865,
            "bin_end": -0.274505312481159,
            "count": 3
           },
           {
            "bin_start": -0.274505312481159,
            "bin_end": 0.16878434465633196,
            "count": 6
           },
           {
            "bin_start": 0.16878434465633196,
            "bin_end": 0.612074001793823,
            "count": 2
           },
           {
            "bin_start": 0.612074001793823,
            "bin_end": 1.0553636589313138,
            "count": 2
           },
           {
            "bin_start": 1.0553636589313138,
            "bin_end": 1.498653316068805,
            "count": 0
           },
           {
            "bin_start": 1.498653316068805,
            "bin_end": 1.941942973206296,
            "count": 0
           },
           {
            "bin_start": 1.941942973206296,
            "bin_end": 2.3852326303437867,
            "count": 1
           },
           {
            "bin_start": 2.3852326303437867,
            "bin_end": 2.828522287481278,
            "count": 0
           },
           {
            "bin_start": 2.828522287481278,
            "bin_end": 3.271811944618769,
            "count": 0
           },
           {
            "bin_start": 3.271811944618769,
            "bin_end": 3.7151016017562597,
            "count": 1
           }
          ]
         }
        },
        {
         "name": "0_3",
         "dtype": "float64",
         "stats": {
          "unique_count": 14,
          "nan_count": 0,
          "min": "-0.71802459334428",
          "max": "3.65092920819584",
          "histogram": [
           {
            "bin_start": -0.71802459334428,
            "bin_end": -0.28112921319026807,
            "count": 3
           },
           {
            "bin_start": -0.28112921319026807,
            "bin_end": 0.1557661669637439,
            "count": 6
           },
           {
            "bin_start": 0.1557661669637439,
            "bin_end": 0.5926615471177558,
            "count": 2
           },
           {
            "bin_start": 0.5926615471177558,
            "bin_end": 1.0295569272717677,
            "count": 2
           },
           {
            "bin_start": 1.0295569272717677,
            "bin_end": 1.4664523074257798,
            "count": 0
           },
           {
            "bin_start": 1.4664523074257798,
            "bin_end": 1.9033476875797914,
            "count": 1
           },
           {
            "bin_start": 1.9033476875797914,
            "bin_end": 2.3402430677338035,
            "count": 0
           },
           {
            "bin_start": 2.3402430677338035,
            "bin_end": 2.7771384478878156,
            "count": 0
           },
           {
            "bin_start": 2.7771384478878156,
            "bin_end": 3.2140338280418277,
            "count": 0
           },
           {
            "bin_start": 3.2140338280418277,
            "bin_end": 3.65092920819584,
            "count": 1
           }
          ]
         }
        },
        {
         "name": "0_4",
         "dtype": "float64",
         "stats": {
          "unique_count": 14,
          "nan_count": 0,
          "min": "-0.7181576615103695",
          "max": "3.569424415538509",
          "histogram": [
           {
            "bin_start": -0.7181576615103695,
            "bin_end": -0.28939945380548165,
            "count": 3
           },
           {
            "bin_start": -0.28939945380548165,
            "bin_end": 0.13935875389940622,
            "count": 6
           },
           {
            "bin_start": 0.13935875389940622,
            "bin_end": 0.568116961604294,
            "count": 0
           },
           {
            "bin_start": 0.568116961604294,
            "bin_end": 0.996875169309182,
            "count": 4
           },
           {
            "bin_start": 0.996875169309182,
            "bin_end": 1.42563337701407,
            "count": 0
           },
           {
            "bin_start": 1.42563337701407,
            "bin_end": 1.8543915847189576,
            "count": 0
           },
           {
            "bin_start": 1.8543915847189576,
            "bin_end": 2.2831497924238455,
            "count": 1
           },
           {
            "bin_start": 2.2831497924238455,
            "bin_end": 2.7119080001287337,
            "count": 0
           },
           {
            "bin_start": 2.7119080001287337,
            "bin_end": 3.140666207833621,
            "count": 0
           },
           {
            "bin_start": 3.140666207833621,
            "bin_end": 3.569424415538509,
            "count": 1
           }
          ]
         }
        },
        {
         "name": "1_1",
         "dtype": "float64",
         "stats": {
          "unique_count": 14,
          "nan_count": 0,
          "min": "-0.7296859084847586",
          "max": "2.3057690817171688",
          "histogram": [
           {
            "bin_start": -0.7296859084847586,
            "bin_end": -0.42614040946456583,
            "count": 3
           },
           {
            "bin_start": -0.42614040946456583,
            "bin_end": -0.1225949104443731,
            "count": 1
           },
           {
            "bin_start": -0.1225949104443731,
            "bin_end": 0.1809505885758197,
            "count": 5
           },
           {
            "bin_start": 0.1809505885758197,
            "bin_end": 0.48449608759601237,
            "count": 3
           },
           {
            "bin_start": 0.48449608759601237,
            "bin_end": 0.788041586616205,
            "count": 0
           },
           {
            "bin_start": 0.788041586616205,
            "bin_end": 1.091587085636398,
            "count": 1
           },
           {
            "bin_start": 1.091587085636398,
            "bin_end": 1.3951325846565905,
            "count": 0
           },
           {
            "bin_start": 1.3951325846565905,
            "bin_end": 1.6986780836767834,
            "count": 0
           },
           {
            "bin_start": 1.6986780836767834,
            "bin_end": 2.0022235826969763,
            "count": 0
           },
           {
            "bin_start": 2.0022235826969763,
            "bin_end": 2.3057690817171688,
            "count": 2
           }
          ]
         }
        },
        {
         "name": "1_2",
         "dtype": "float64",
         "stats": {
          "unique_count": 14,
          "nan_count": 0,
          "min": "-0.7298051829994852",
          "max": "2.2485776280651564",
          "histogram": [
           {
            "bin_start": -0.7298051829994852,
            "bin_end": -0.431966901893021,
            "count": 3
           },
           {
            "bin_start": -0.431966901893021,
            "bin_end": -0.13412862078655685,
            "count": 1
           },
           {
            "bin_start": -0.13412862078655685,
            "bin_end": 0.1637096603199073,
            "count": 5
           },
           {
            "bin_start": 0.1637096603199073,
            "bin_end": 0.46154794142637146,
            "count": 3
           },
           {
            "bin_start": 0.46154794142637146,
            "bin_end": 0.7593862225328356,
            "count": 0
           },
           {
            "bin_start": 0.7593862225328356,
            "bin_end": 1.0572245036392998,
            "count": 1
           },
           {
            "bin_start": 1.0572245036392998,
            "bin_end": 1.3550627847457641,
            "count": 0
           },
           {
            "bin_start": 1.3550627847457641,
            "bin_end": 1.652901065852228,
            "count": 0
           },
           {
            "bin_start": 1.652901065852228,
            "bin_end": 1.950739346958692,
            "count": 0
           },
           {
            "bin_start": 1.950739346958692,
            "bin_end": 2.2485776280651564,
            "count": 2
           }
          ]
         }
        },
        {
         "name": "1_3",
         "dtype": "float64",
         "stats": {
          "unique_count": 14,
          "nan_count": 0,
          "min": "-0.7300475185214693",
          "max": "2.185494121571152",
          "histogram": [
           {
            "bin_start": -0.7300475185214693,
            "bin_end": -0.43849335451220717,
            "count": 3
           },
           {
            "bin_start": -0.43849335451220717,
            "bin_end": -0.14693919050294502,
            "count": 1
           },
           {
            "bin_start": -0.14693919050294502,
            "bin_end": 0.14461497350631713,
            "count": 5
           },
           {
            "bin_start": 0.14461497350631713,
            "bin_end": 0.4361691375155793,
            "count": 1
           },
           {
            "bin_start": 0.4361691375155793,
            "bin_end": 0.7277233015248415,
            "count": 2
           },
           {
            "bin_start": 0.7277233015248415,
            "bin_end": 1.0192774655341035,
            "count": 1
           },
           {
            "bin_start": 1.0192774655341035,
            "bin_end": 1.3108316295433657,
            "count": 0
           },
           {
            "bin_start": 1.3108316295433657,
            "bin_end": 1.602385793552628,
            "count": 0
           },
           {
            "bin_start": 1.602385793552628,
            "bin_end": 1.8939399575618903,
            "count": 0
           },
           {
            "bin_start": 1.8939399575618903,
            "bin_end": 2.185494121571152,
            "count": 2
           }
          ]
         }
        },
        {
         "name": "1_4",
         "dtype": "float64",
         "stats": {
          "unique_count": 14,
          "nan_count": 0,
          "min": "-0.7301786934412933",
          "max": "2.123262034969119",
          "histogram": [
           {
            "bin_start": -0.7301786934412933,
            "bin_end": -0.44483462060025203,
            "count": 3
           },
           {
            "bin_start": -0.44483462060025203,
            "bin_end": -0.1594905477592108,
            "count": 1
           },
           {
            "bin_start": -0.1594905477592108,
            "bin_end": 0.12585352508183045,
            "count": 5
           },
           {
            "bin_start": 0.12585352508183045,
            "bin_end": 0.4111975979228717,
            "count": 1
           },
           {
            "bin_start": 0.4111975979228717,
            "bin_end": 0.6965416707639129,
            "count": 2
           },
           {
            "bin_start": 0.6965416707639129,
            "bin_end": 0.9818857436049542,
            "count": 1
           },
           {
            "bin_start": 0.9818857436049542,
            "bin_end": 1.2672298164459954,
            "count": 0
           },
           {
            "bin_start": 1.2672298164459954,
            "bin_end": 1.5525738892870367,
            "count": 0
           },
           {
            "bin_start": 1.5525738892870367,
            "bin_end": 1.8379179621280777,
            "count": 0
           },
           {
            "bin_start": 1.8379179621280777,
            "bin_end": 2.123262034969119,
            "count": 2
           }
          ]
         }
        },
        {
         "name": "state",
         "dtype": "object",
         "stats": {
          "unique_count": 14,
          "nan_count": 0,
          "categories": [
           {
            "name": "Michigan",
            "count": 2
           },
           {
            "name": "Florida",
            "count": 1
           },
           {
            "name": "12 others",
            "count": 12
           }
          ]
         }
        },
        {
         "name": "pred",
         "dtype": "float64",
         "stats": {
          "unique_count": 15,
          "nan_count": 0,
          "min": "1.9318992608512244",
          "max": "3377.523260969177",
          "histogram": [
           {
            "bin_start": 1.9318992608512244,
            "bin_end": 339.49103543168377,
            "count": 13
           },
           {
            "bin_start": 339.49103543168377,
            "bin_end": 677.0501716025163,
            "count": 1
           },
           {
            "bin_start": 677.0501716025163,
            "bin_end": 1014.609307773349,
            "count": 0
           },
           {
            "bin_start": 1014.609307773349,
            "bin_end": 1352.1684439441815,
            "count": 0
           },
           {
            "bin_start": 1352.1684439441815,
            "bin_end": 1689.727580115014,
            "count": 0
           },
           {
            "bin_start": 1689.727580115014,
            "bin_end": 2027.2867162858468,
            "count": 0
           },
           {
            "bin_start": 2027.2867162858468,
            "bin_end": 2364.8458524566795,
            "count": 0
           },
           {
            "bin_start": 2364.8458524566795,
            "bin_end": 2702.404988627512,
            "count": 0
           },
           {
            "bin_start": 2702.404988627512,
            "bin_end": 3039.9641247983445,
            "count": 0
           },
           {
            "bin_start": 3039.9641247983445,
            "bin_end": 3377.523260969177,
            "count": 1
           }
          ]
         }
        },
        {
         "name": "target_original",
         "dtype": "float64",
         "stats": {
          "unique_count": 12,
          "nan_count": 0,
          "min": "1.0",
          "max": "4427.000000000001",
          "histogram": [
           {
            "bin_start": 1,
            "bin_end": 443.6000000000001,
            "count": 14
           },
           {
            "bin_start": 443.6000000000001,
            "bin_end": 886.2000000000002,
            "count": 0
           },
           {
            "bin_start": 886.2000000000002,
            "bin_end": 1328.8000000000002,
            "count": 0
           },
           {
            "bin_start": 1328.8000000000002,
            "bin_end": 1771.4000000000003,
            "count": 0
           },
           {
            "bin_start": 1771.4000000000003,
            "bin_end": 2214.0000000000005,
            "count": 0
           },
           {
            "bin_start": 2214.0000000000005,
            "bin_end": 2656.6000000000004,
            "count": 0
           },
           {
            "bin_start": 2656.6000000000004,
            "bin_end": 3099.2000000000007,
            "count": 0
           },
           {
            "bin_start": 3099.2000000000007,
            "bin_end": 3541.8000000000006,
            "count": 0
           },
           {
            "bin_start": 3541.8000000000006,
            "bin_end": 3984.4000000000005,
            "count": 0
           },
           {
            "bin_start": 3984.4000000000005,
            "bin_end": 4427.000000000001,
            "count": 1
           }
          ]
         }
        },
        {
         "name": "total_diff",
         "dtype": "int64",
         "stats": {
          "unique_count": 14,
          "nan_count": 0,
          "min": "-97",
          "max": "1049",
          "histogram": [
           {
            "bin_start": -97,
            "bin_end": 17.599999999999994,
            "count": 9
           },
           {
            "bin_start": 17.599999999999994,
            "bin_end": 132.2,
            "count": 5
           },
           {
            "bin_start": 132.2,
            "bin_end": 246.79999999999995,
            "count": 0
           },
           {
            "bin_start": 246.79999999999995,
            "bin_end": 361.4,
            "count": 0
           },
           {
            "bin_start": 361.4,
            "bin_end": 476,
            "count": 0
           },
           {
            "bin_start": 476,
            "bin_end": 590.5999999999999,
            "count": 0
           },
           {
            "bin_start": 590.5999999999999,
            "bin_end": 705.1999999999999,
            "count": 0
           },
           {
            "bin_start": 705.1999999999999,
            "bin_end": 819.8,
            "count": 0
           },
           {
            "bin_start": 819.8,
            "bin_end": 934.3999999999999,
            "count": 0
           },
           {
            "bin_start": 934.3999999999999,
            "bin_end": 1049,
            "count": 1
           }
          ]
         }
        },
        {
         "name": "perc_diff",
         "dtype": "float64",
         "stats": {
          "unique_count": 14,
          "nan_count": 0,
          "min": "-7.0",
          "max": "0.6956521739130435",
          "histogram": [
           {
            "bin_start": -7,
            "bin_end": -6.230434782608696,
            "count": 1
           },
           {
            "bin_start": -6.230434782608696,
            "bin_end": -5.460869565217392,
            "count": 1
           },
           {
            "bin_start": -5.460869565217392,
            "bin_end": -4.691304347826087,
            "count": 0
           },
           {
            "bin_start": -4.691304347826087,
            "bin_end": -3.9217391304347826,
            "count": 0
           },
           {
            "bin_start": -3.9217391304347826,
            "bin_end": -3.1521739130434785,
            "count": 0
           },
           {
            "bin_start": -3.1521739130434785,
            "bin_end": -2.3826086956521735,
            "count": 0
           },
           {
            "bin_start": -2.3826086956521735,
            "bin_end": -1.6130434782608694,
            "count": 0
           },
           {
            "bin_start": -1.6130434782608694,
            "bin_end": -0.8434782608695652,
            "count": 2
           },
           {
            "bin_start": -0.8434782608695652,
            "bin_end": -0.07391304347826111,
            "count": 1
           },
           {
            "bin_start": -0.07391304347826111,
            "bin_end": 0.6956521739130435,
            "count": 10
           }
          ]
         }
        },
        {
         "name": "_deepnote_index_column",
         "dtype": "object"
        }
       ],
       "rows": [
        {
         "1": 4.418840607796598,
         "2": 4.51085950651685,
         "3": 4.532599493153256,
         "4": 4.48863636973214,
         "target": 4.584967478670572,
         "0_1": 0.5754983230978549,
         "0_2": 0.5713567116601949,
         "0_3": 0.5687848718403876,
         "0_4": 0.5694634653946937,
         "1_1": 0.45211952093142505,
         "1_2": 0.4482921883738383,
         "1_3": 0.4437662479442816,
         "1_4": 0.4407981787274801,
         "state": "Michigan",
         "pred": 77.74020588910128,
         "target_original": 98.00000000000004,
         "total_diff": 20,
         "perc_diff": 0.20408163265306115,
         "_deepnote_index_column": "Michigan_25118"
        },
        {
         "1": 2.772588722239781,
         "2": 3.2188758248682006,
         "3": 3.044522437723423,
         "4": 3.6109179126442243,
         "target": 3.258096538021482,
         "0_1": 1.9958178921431537,
         "0_2": 1.9535068132104763,
         "0_3": 1.9031718861408526,
         "0_4": 1.8567824842885334,
         "1_1": 2.0663680914445424,
         "1_2": 2.00905817466906,
         "1_3": 1.9434174333978682,
         "1_4": 1.885768355077109,
         "state": "Florida",
         "pred": 11.753702650774711,
         "target_original": 26.000000000000004,
         "total_diff": 14,
         "perc_diff": 0.5384615384615384,
         "_deepnote_index_column": "Florida_87808"
        },
        {
         "1": 6.267200548541362,
         "2": 6.682108597449809,
         "3": 6.580639137284949,
         "4": 6.639875833826536,
         "target": 5.940171252720432,
         "0_1": 0.1361158935103548,
         "0_2": 0.13269750214611628,
         "0_3": 0.12946518984340133,
         "0_4": 0.12796682065613324,
         "1_1": -0.036772650817692334,
         "1_2": -0.04114875432852225,
         "1_3": -0.04639493973022606,
         "1_4": -0.05019874194137018,
         "state": "Indiana",
         "pred": 477.23511888623227,
         "target_original": 380.00000000000006,
         "total_diff": -97,
         "perc_diff": -0.2552631578947368,
         "_deepnote_index_column": "Indiana_51102"
        },
        {
         "1": 0,
         "2": 0,
         "3": 0,
         "4": 2.6390573296152584,
         "target": 0,
         "0_1": -0.24757669717742753,
         "0_2": -0.2555442888539132,
         "0_3": -0.2677819622503607,
         "0_4": -0.2756032330368984,
         "1_1": -0.32551731850807636,
         "1_2": -0.3338362425986886,
         "1_3": -0.34368707338184357,
         "1_4": -0.3517901673981887,
         "state": "Oregon",
         "pred": 2.462330367306781,
         "target_original": 1,
         "total_diff": -1,
         "perc_diff": -1,
         "_deepnote_index_column": "Oregon_82003"
        },
        {
         "1": 3.4657359027997265,
         "2": 3.784189633918261,
         "3": 3.5263605246161616,
         "4": 3.9512437185814275,
         "target": 3.871201010907891,
         "0_1": -0.7007560236928915,
         "0_2": -0.7010592135591238,
         "0_3": -0.7012983035160814,
         "0_4": -0.7005136881709073,
         "1_1": -0.6735554841326835,
         "1_2": -0.6743463201441586,
         "1_3": -0.6751533839807665,
         "1_4": -0.6754668514695831,
         "state": "Maine",
         "pred": 28.91367869941743,
         "target_original": 48.00000000000001,
         "total_diff": 19,
         "perc_diff": 0.39583333333333326,
         "_deepnote_index_column": "Maine_64417"
        },
        {
         "1": 2.6390573296152584,
         "2": 3.4965075614664802,
         "3": 3.912023005428146,
         "4": 3.7612001156935624,
         "target": 2.70805020110221,
         "0_1": 0.03231515097547291,
         "0_2": 0.029744933938178928,
         "0_3": 0.028700402927126695,
         "0_4": 0.02485981764568141,
         "1_1": -0.09243625473344523,
         "1_2": -0.09696435887301967,
         "1_3": -0.10218322743574983,
         "1_4": -0.10737207452198418,
         "state": "Maryland",
         "pred": 9.216010643392238,
         "target_original": 15,
         "total_diff": 6,
         "perc_diff": 0.4,
         "_deepnote_index_column": "Maryland_69424"
        },
        {
         "1": 2.772588722239781,
         "2": 2.6390573296152584,
         "3": 2.772588722239781,
         "4": 0,
         "target": 3.1354942159291497,
         "0_1": 0.11807298613637619,
         "0_2": 0.10794601186221028,
         "0_3": 0.10067865084020784,
         "0_4": 0.0940195627969357,
         "1_1": -0.006950235643517483,
         "1_2": -0.015463352708219722,
         "1_3": -0.02469671474506906,
         "1_4": -0.032966414432778285,
         "state": "Tennessee",
         "pred": 6.530844428168428,
         "target_original": 23,
         "total_diff": 16,
         "perc_diff": 0.6956521739130435,
         "_deepnote_index_column": "Tennessee_49329"
        },
        {
         "1": 4.060443010546419,
         "2": 4.23410650459726,
         "3": 3.7376696182833684,
         "4": 3.9318256327243257,
         "target": 4.454347296253507,
         "0_1": 0.1318349932403044,
         "0_2": 0.12475857962736535,
         "0_3": 0.12022614806775549,
         "0_4": 0.11517361471263722,
         "1_1": 0.03116757327482697,
         "1_2": 0.026616750180066522,
         "1_3": 0.02137867869092914,
         "1_4": 0.015914769968692684,
         "state": "Massachusetts",
         "pred": 55.93980805830012,
         "target_original": 85.99999999999997,
         "total_diff": 30,
         "perc_diff": 0.3488372093023257,
         "_deepnote_index_column": "Massachusetts_43220"
        },
        {
         "1": 5.53338948872752,
         "2": 5.655991810819852,
         "3": 5.472270673671475,
         "4": 5.384495062789089,
         "target": 5.552959584921617,
         "0_1": 0.5754983230978549,
         "0_2": 0.5713567116601949,
         "0_3": 0.5687848718403876,
         "0_4": 0.5694634653946937,
         "1_1": 0.45211952093142505,
         "1_2": 0.4482921883738383,
         "1_3": 0.4437662479442816,
         "1_4": 0.4407981787274801,
         "state": "Michigan",
         "pred": 228.66207404770537,
         "target_original": 258,
         "total_diff": 29,
         "perc_diff": 0.1124031007751938,
         "_deepnote_index_column": "Michigan_71555"
        },
        {
         "1": 5.749392985908253,
         "2": 5.634789603169249,
         "3": 5.442417710521793,
         "4": 5.521460917862246,
         "target": 5.831882477283517,
         "0_1": 0.9323763259998393,
         "0_2": 0.9294885845174455,
         "0_3": 0.9296010974383667,
         "0_4": 0.9290580062239201,
         "1_1": 0.8625296029179603,
         "1_2": 0.8613406442632255,
         "1_3": 0.8592250767934041,
         "1_4": 0.8580845311503157,
         "state": "Pennsylvania",
         "pred": 290.31114853024513,
         "target_original": 341.00000000000006,
         "total_diff": 51,
         "perc_diff": 0.14956011730205276,
         "_deepnote_index_column": "Pennsylvania_71552"
        }
       ]
      },
      "text/plain": "                        target         1         2         3         4  \\\nidx                                                                      \nMichigan_25118        4.584967  4.418841  4.510860  4.532599  4.488636   \nFlorida_87808         3.258097  2.772589  3.218876  3.044522  3.610918   \nIndiana_51102         5.940171  6.267201  6.682109  6.580639  6.639876   \nOregon_82003          0.000000  0.000000  0.000000  0.000000  2.639057   \nMaine_64417           3.871201  3.465736  3.784190  3.526361  3.951244   \nMaryland_69424        2.708050  2.639057  3.496508  3.912023  3.761200   \nTennessee_49329       3.135494  2.772589  2.639057  2.772589  0.000000   \nMassachusetts_43220   4.454347  4.060443  4.234107  3.737670  3.931826   \nMichigan_71555        5.552960  5.533389  5.655992  5.472271  5.384495   \nPennsylvania_71552    5.831882  5.749393  5.634790  5.442418  5.521461   \nRhode Island_76536    8.395477  8.362409  8.364042  8.281218  8.148156   \nIowa_27235            5.075174  5.111988  5.214936  5.220356  5.192957   \nNorth Carolina_41250  0.000000  2.995732  2.995732  0.000000  3.465736   \nMissouri_58570        0.000000  2.397895  2.639057  2.944439  3.951244   \nTexas_40500           0.000000  0.000000  0.000000  2.995732  2.995732   \n\n                           0_1       0_2       0_3       0_4       1_1  \\\nidx                                                                      \nMichigan_25118        0.575498  0.571357  0.568785  0.569463  0.452120   \nFlorida_87808         1.995818  1.953507  1.903172  1.856782  2.066368   \nIndiana_51102         0.136116  0.132698  0.129465  0.127967 -0.036773   \nOregon_82003         -0.247577 -0.255544 -0.267782 -0.275603 -0.325517   \nMaine_64417          -0.700756 -0.701059 -0.701298 -0.700514 -0.673555   \nMaryland_69424        0.032315  0.029745  0.028700  0.024860 -0.092436   \nTennessee_49329       0.118073  0.107946  0.100679  0.094020 -0.006950   \nMassachusetts_43220   0.131835  0.124759  0.120226  0.115174  0.031168   \nMichigan_71555        0.575498  0.571357  0.568785  0.569463  0.452120   \nPennsylvania_71552    0.932376  0.929489  0.929601  0.929058  0.862530   \nRhode Island_76536   -0.718080 -0.717795 -0.718025 -0.718158 -0.729686   \nIowa_27235           -0.401122 -0.403392 -0.405209 -0.408003 -0.473787   \nNorth Carolina_41250  0.653459  0.639570  0.624579  0.614615  0.451763   \nMissouri_58570        0.036166  0.032899  0.031488  0.028760 -0.084719   \nTexas_40500           3.765884  3.715102  3.650929  3.569424  2.305769   \n\n                           1_2       1_3       1_4           state  \\\nidx                                                                  \nMichigan_25118        0.448292  0.443766  0.440798        Michigan   \nFlorida_87808         2.009058  1.943417  1.885768         Florida   \nIndiana_51102        -0.041149 -0.046395 -0.050199         Indiana   \nOregon_82003         -0.333836 -0.343687 -0.351790          Oregon   \nMaine_64417          -0.674346 -0.675153 -0.675467           Maine   \nMaryland_69424       -0.096964 -0.102183 -0.107372        Maryland   \nTennessee_49329      -0.015463 -0.024697 -0.032966       Tennessee   \nMassachusetts_43220   0.026617  0.021379  0.015915   Massachusetts   \nMichigan_71555        0.448292  0.443766  0.440798        Michigan   \nPennsylvania_71552    0.861341  0.859225  0.858085    Pennsylvania   \nRhode Island_76536   -0.729805 -0.730048 -0.730179    Rhode Island   \nIowa_27235           -0.474962 -0.476538 -0.477528            Iowa   \nNorth Carolina_41250  0.432220  0.410943  0.391585  North Carolina   \nMissouri_58570       -0.088102 -0.092177 -0.095076        Missouri   \nTexas_40500           2.248578  2.185494  2.123262           Texas   \n\n                             pred  target_original  total_diff  perc_diff  \nidx                                                                        \nMichigan_25118          77.740206             98.0          20   0.204082  \nFlorida_87808           11.753703             26.0          14   0.538462  \nIndiana_51102          477.235119            380.0         -97  -0.255263  \nOregon_82003             2.462330              1.0          -1  -1.000000  \nMaine_64417             28.913679             48.0          19   0.395833  \nMaryland_69424           9.216011             15.0           6   0.400000  \nTennessee_49329          6.530844             23.0          16   0.695652  \nMassachusetts_43220     55.939808             86.0          30   0.348837  \nMichigan_71555         228.662074            258.0          29   0.112403  \nPennsylvania_71552     290.311149            341.0          51   0.149560  \nRhode Island_76536    3377.523261           4427.0        1049   0.236955  \nIowa_27235             171.380639            160.0         -11  -0.068750  \nNorth Carolina_41250     7.234390              1.0          -6  -6.000000  \nMissouri_58570           8.234773              1.0          -7  -7.000000  \nTexas_40500              1.931899              1.0          -1  -1.000000  ",
      "text/html": "<div>\n<style scoped>\n    .dataframe tbody tr th:only-of-type {\n        vertical-align: middle;\n    }\n\n    .dataframe tbody tr th {\n        vertical-align: top;\n    }\n\n    .dataframe thead th {\n        text-align: right;\n    }\n</style>\n<table border=\"1\" class=\"dataframe\">\n  <thead>\n    <tr style=\"text-align: right;\">\n      <th></th>\n      <th>target</th>\n      <th>1</th>\n      <th>2</th>\n      <th>3</th>\n      <th>4</th>\n      <th>0_1</th>\n      <th>0_2</th>\n      <th>0_3</th>\n      <th>0_4</th>\n      <th>1_1</th>\n      <th>1_2</th>\n      <th>1_3</th>\n      <th>1_4</th>\n      <th>state</th>\n      <th>pred</th>\n      <th>target_original</th>\n      <th>total_diff</th>\n      <th>perc_diff</th>\n    </tr>\n    <tr>\n      <th>idx</th>\n      <th></th>\n      <th></th>\n      <th></th>\n      <th></th>\n      <th></th>\n      <th></th>\n      <th></th>\n      <th></th>\n      <th></th>\n      <th></th>\n      <th></th>\n      <th></th>\n      <th></th>\n      <th></th>\n      <th></th>\n      <th></th>\n      <th></th>\n      <th></th>\n    </tr>\n  </thead>\n  <tbody>\n    <tr>\n      <th>Michigan_25118</th>\n      <td>4.584967</td>\n      <td>4.418841</td>\n      <td>4.510860</td>\n      <td>4.532599</td>\n      <td>4.488636</td>\n      <td>0.575498</td>\n      <td>0.571357</td>\n      <td>0.568785</td>\n      <td>0.569463</td>\n      <td>0.452120</td>\n      <td>0.448292</td>\n      <td>0.443766</td>\n      <td>0.440798</td>\n      <td>Michigan</td>\n      <td>77.740206</td>\n      <td>98.0</td>\n      <td>20</td>\n      <td>0.204082</td>\n    </tr>\n    <tr>\n      <th>Florida_87808</th>\n      <td>3.258097</td>\n      <td>2.772589</td>\n      <td>3.218876</td>\n      <td>3.044522</td>\n      <td>3.610918</td>\n      <td>1.995818</td>\n      <td>1.953507</td>\n      <td>1.903172</td>\n      <td>1.856782</td>\n      <td>2.066368</td>\n      <td>2.009058</td>\n      <td>1.943417</td>\n      <td>1.885768</td>\n      <td>Florida</td>\n      <td>11.753703</td>\n      <td>26.0</td>\n      <td>14</td>\n      <td>0.538462</td>\n    </tr>\n    <tr>\n      <th>Indiana_51102</th>\n      <td>5.940171</td>\n      <td>6.267201</td>\n      <td>6.682109</td>\n      <td>6.580639</td>\n      <td>6.639876</td>\n      <td>0.136116</td>\n      <td>0.132698</td>\n      <td>0.129465</td>\n      <td>0.127967</td>\n      <td>-0.036773</td>\n      <td>-0.041149</td>\n      <td>-0.046395</td>\n      <td>-0.050199</td>\n      <td>Indiana</td>\n      <td>477.235119</td>\n      <td>380.0</td>\n      <td>-97</td>\n      <td>-0.255263</td>\n    </tr>\n    <tr>\n      <th>Oregon_82003</th>\n      <td>0.000000</td>\n      <td>0.000000</td>\n      <td>0.000000</td>\n      <td>0.000000</td>\n      <td>2.639057</td>\n      <td>-0.247577</td>\n      <td>-0.255544</td>\n      <td>-0.267782</td>\n      <td>-0.275603</td>\n      <td>-0.325517</td>\n      <td>-0.333836</td>\n      <td>-0.343687</td>\n      <td>-0.351790</td>\n      <td>Oregon</td>\n      <td>2.462330</td>\n      <td>1.0</td>\n      <td>-1</td>\n      <td>-1.000000</td>\n    </tr>\n    <tr>\n      <th>Maine_64417</th>\n      <td>3.871201</td>\n      <td>3.465736</td>\n      <td>3.784190</td>\n      <td>3.526361</td>\n      <td>3.951244</td>\n      <td>-0.700756</td>\n      <td>-0.701059</td>\n      <td>-0.701298</td>\n      <td>-0.700514</td>\n      <td>-0.673555</td>\n      <td>-0.674346</td>\n      <td>-0.675153</td>\n      <td>-0.675467</td>\n      <td>Maine</td>\n      <td>28.913679</td>\n      <td>48.0</td>\n      <td>19</td>\n      <td>0.395833</td>\n    </tr>\n    <tr>\n      <th>Maryland_69424</th>\n      <td>2.708050</td>\n      <td>2.639057</td>\n      <td>3.496508</td>\n      <td>3.912023</td>\n      <td>3.761200</td>\n      <td>0.032315</td>\n      <td>0.029745</td>\n      <td>0.028700</td>\n      <td>0.024860</td>\n      <td>-0.092436</td>\n      <td>-0.096964</td>\n      <td>-0.102183</td>\n      <td>-0.107372</td>\n      <td>Maryland</td>\n      <td>9.216011</td>\n      <td>15.0</td>\n      <td>6</td>\n      <td>0.400000</td>\n    </tr>\n    <tr>\n      <th>Tennessee_49329</th>\n      <td>3.135494</td>\n      <td>2.772589</td>\n      <td>2.639057</td>\n      <td>2.772589</td>\n      <td>0.000000</td>\n      <td>0.118073</td>\n      <td>0.107946</td>\n      <td>0.100679</td>\n      <td>0.094020</td>\n      <td>-0.006950</td>\n      <td>-0.015463</td>\n      <td>-0.024697</td>\n      <td>-0.032966</td>\n      <td>Tennessee</td>\n      <td>6.530844</td>\n      <td>23.0</td>\n      <td>16</td>\n      <td>0.695652</td>\n    </tr>\n    <tr>\n      <th>Massachusetts_43220</th>\n      <td>4.454347</td>\n      <td>4.060443</td>\n      <td>4.234107</td>\n      <td>3.737670</td>\n      <td>3.931826</td>\n      <td>0.131835</td>\n      <td>0.124759</td>\n      <td>0.120226</td>\n      <td>0.115174</td>\n      <td>0.031168</td>\n      <td>0.026617</td>\n      <td>0.021379</td>\n      <td>0.015915</td>\n      <td>Massachusetts</td>\n      <td>55.939808</td>\n      <td>86.0</td>\n      <td>30</td>\n      <td>0.348837</td>\n    </tr>\n    <tr>\n      <th>Michigan_71555</th>\n      <td>5.552960</td>\n      <td>5.533389</td>\n      <td>5.655992</td>\n      <td>5.472271</td>\n      <td>5.384495</td>\n      <td>0.575498</td>\n      <td>0.571357</td>\n      <td>0.568785</td>\n      <td>0.569463</td>\n      <td>0.452120</td>\n      <td>0.448292</td>\n      <td>0.443766</td>\n      <td>0.440798</td>\n      <td>Michigan</td>\n      <td>228.662074</td>\n      <td>258.0</td>\n      <td>29</td>\n      <td>0.112403</td>\n    </tr>\n    <tr>\n      <th>Pennsylvania_71552</th>\n      <td>5.831882</td>\n      <td>5.749393</td>\n      <td>5.634790</td>\n      <td>5.442418</td>\n      <td>5.521461</td>\n      <td>0.932376</td>\n      <td>0.929489</td>\n      <td>0.929601</td>\n      <td>0.929058</td>\n      <td>0.862530</td>\n      <td>0.861341</td>\n      <td>0.859225</td>\n      <td>0.858085</td>\n      <td>Pennsylvania</td>\n      <td>290.311149</td>\n      <td>341.0</td>\n      <td>51</td>\n      <td>0.149560</td>\n    </tr>\n    <tr>\n      <th>Rhode Island_76536</th>\n      <td>8.395477</td>\n      <td>8.362409</td>\n      <td>8.364042</td>\n      <td>8.281218</td>\n      <td>8.148156</td>\n      <td>-0.718080</td>\n      <td>-0.717795</td>\n      <td>-0.718025</td>\n      <td>-0.718158</td>\n      <td>-0.729686</td>\n      <td>-0.729805</td>\n      <td>-0.730048</td>\n      <td>-0.730179</td>\n      <td>Rhode Island</td>\n      <td>3377.523261</td>\n      <td>4427.0</td>\n      <td>1049</td>\n      <td>0.236955</td>\n    </tr>\n    <tr>\n      <th>Iowa_27235</th>\n      <td>5.075174</td>\n      <td>5.111988</td>\n      <td>5.214936</td>\n      <td>5.220356</td>\n      <td>5.192957</td>\n      <td>-0.401122</td>\n      <td>-0.403392</td>\n      <td>-0.405209</td>\n      <td>-0.408003</td>\n      <td>-0.473787</td>\n      <td>-0.474962</td>\n      <td>-0.476538</td>\n      <td>-0.477528</td>\n      <td>Iowa</td>\n      <td>171.380639</td>\n      <td>160.0</td>\n      <td>-11</td>\n      <td>-0.068750</td>\n    </tr>\n    <tr>\n      <th>North Carolina_41250</th>\n      <td>0.000000</td>\n      <td>2.995732</td>\n      <td>2.995732</td>\n      <td>0.000000</td>\n      <td>3.465736</td>\n      <td>0.653459</td>\n      <td>0.639570</td>\n      <td>0.624579</td>\n      <td>0.614615</td>\n      <td>0.451763</td>\n      <td>0.432220</td>\n      <td>0.410943</td>\n      <td>0.391585</td>\n      <td>North Carolina</td>\n      <td>7.234390</td>\n      <td>1.0</td>\n      <td>-6</td>\n      <td>-6.000000</td>\n    </tr>\n    <tr>\n      <th>Missouri_58570</th>\n      <td>0.000000</td>\n      <td>2.397895</td>\n      <td>2.639057</td>\n      <td>2.944439</td>\n      <td>3.951244</td>\n      <td>0.036166</td>\n      <td>0.032899</td>\n      <td>0.031488</td>\n      <td>0.028760</td>\n      <td>-0.084719</td>\n      <td>-0.088102</td>\n      <td>-0.092177</td>\n      <td>-0.095076</td>\n      <td>Missouri</td>\n      <td>8.234773</td>\n      <td>1.0</td>\n      <td>-7</td>\n      <td>-7.000000</td>\n    </tr>\n    <tr>\n      <th>Texas_40500</th>\n      <td>0.000000</td>\n      <td>0.000000</td>\n      <td>0.000000</td>\n      <td>2.995732</td>\n      <td>2.995732</td>\n      <td>3.765884</td>\n      <td>3.715102</td>\n      <td>3.650929</td>\n      <td>3.569424</td>\n      <td>2.305769</td>\n      <td>2.248578</td>\n      <td>2.185494</td>\n      <td>2.123262</td>\n      <td>Texas</td>\n      <td>1.931899</td>\n      <td>1.0</td>\n      <td>-1</td>\n      <td>-1.000000</td>\n    </tr>\n  </tbody>\n</table>\n</div>"
     },
     "metadata": {}
    }
   ],
   "execution_count": 21
  },
  {
   "cell_type": "code",
   "source": "full_test.groupby(['state']).mean()",
   "metadata": {
    "cell_id": "cb2d3243-e62e-4fd0-9f6d-d3406d69c6ff",
    "tags": [],
    "deepnote_to_be_reexecuted": false,
    "source_hash": "574e66fc",
    "execution_start": 1643019070875,
    "execution_millis": 306,
    "deepnote_output_heights": [
     251.4375,
     250,
     254
    ],
    "deepnote_cell_type": "code"
   },
   "outputs": [
    {
     "output_type": "execute_result",
     "execution_count": 22,
     "data": {
      "application/vnd.deepnote.dataframe.v3+json": {
       "column_count": 17,
       "row_count": 62,
       "columns": [
        {
         "name": "target",
         "dtype": "float64",
         "stats": {
          "unique_count": 62,
          "nan_count": 0,
          "min": "1.7595558440929",
          "max": "7.016275037685298",
          "histogram": [
           {
            "bin_start": 1.7595558440929,
            "bin_end": 2.2852277634521396,
            "count": 1
           },
           {
            "bin_start": 2.2852277634521396,
            "bin_end": 2.8108996828113795,
            "count": 4
           },
           {
            "bin_start": 2.8108996828113795,
            "bin_end": 3.3365716021706193,
            "count": 2
           },
           {
            "bin_start": 3.3365716021706193,
            "bin_end": 3.8622435215298587,
            "count": 2
           },
           {
            "bin_start": 3.8622435215298587,
            "bin_end": 4.387915440889099,
            "count": 18
           },
           {
            "bin_start": 4.387915440889099,
            "bin_end": 4.913587360248338,
            "count": 20
           },
           {
            "bin_start": 4.913587360248338,
            "bin_end": 5.439259279607578,
            "count": 11
           },
           {
            "bin_start": 5.439259279607578,
            "bin_end": 5.964931198966818,
            "count": 3
           },
           {
            "bin_start": 5.964931198966818,
            "bin_end": 6.4906031183260575,
            "count": 0
           },
           {
            "bin_start": 6.4906031183260575,
            "bin_end": 7.016275037685298,
            "count": 1
           }
          ]
         }
        },
        {
         "name": "1",
         "dtype": "float64",
         "stats": {
          "unique_count": 62,
          "nan_count": 0,
          "min": "0.5036112897597299",
          "max": "6.968657975952336",
          "histogram": [
           {
            "bin_start": 0.5036112897597299,
            "bin_end": 1.1501159583789904,
            "count": 1
           },
           {
            "bin_start": 1.1501159583789904,
            "bin_end": 1.796620626998251,
            "count": 2
           },
           {
            "bin_start": 1.796620626998251,
            "bin_end": 2.4431252956175116,
            "count": 0
           },
           {
            "bin_start": 2.4431252956175116,
            "bin_end": 3.089629964236772,
            "count": 5
           },
           {
            "bin_start": 3.089629964236772,
            "bin_end": 3.7361346328560328,
            "count": 1
           },
           {
            "bin_start": 3.7361346328560328,
            "bin_end": 4.382639301475294,
            "count": 17
           },
           {
            "bin_start": 4.382639301475294,
            "bin_end": 5.029143970094554,
            "count": 27
           },
           {
            "bin_start": 5.029143970094554,
            "bin_end": 5.675648638713815,
            "count": 8
           },
           {
            "bin_start": 5.675648638713815,
            "bin_end": 6.322153307333076,
            "count": 0
           },
           {
            "bin_start": 6.322153307333076,
            "bin_end": 6.968657975952336,
            "count": 1
           }
          ]
         }
        },
        {
         "name": "2",
         "dtype": "float64",
         "stats": {
          "unique_count": 62,
          "nan_count": 0,
          "min": "0.4451762067385736",
          "max": "6.925038259327074",
          "histogram": [
           {
            "bin_start": 0.4451762067385736,
            "bin_end": 1.0931624119974237,
            "count": 1
           },
           {
            "bin_start": 1.0931624119974237,
            "bin_end": 1.7411486172562738,
            "count": 0
           },
           {
            "bin_start": 1.7411486172562738,
            "bin_end": 2.389134822515124,
            "count": 4
           },
           {
            "bin_start": 2.389134822515124,
            "bin_end": 3.037121027773974,
            "count": 2
           },
           {
            "bin_start": 3.037121027773974,
            "bin_end": 3.6851072330328245,
            "count": 1
           },
           {
            "bin_start": 3.6851072330328245,
            "bin_end": 4.333093438291674,
            "count": 18
           },
           {
            "bin_start": 4.333093438291674,
            "bin_end": 4.981079643550524,
            "count": 26
           },
           {
            "bin_start": 4.981079643550524,
            "bin_end": 5.6290658488093746,
            "count": 9
           },
           {
            "bin_start": 5.6290658488093746,
            "bin_end": 6.277052054068225,
            "count": 0
           },
           {
            "bin_start": 6.277052054068225,
            "bin_end": 6.925038259327074,
            "count": 1
           }
          ]
         }
        },
        {
         "name": "3",
         "dtype": "float64",
         "stats": {
          "unique_count": 62,
          "nan_count": 0,
          "min": "0.33199233297351705",
          "max": "6.901720960462273",
          "histogram": [
           {
            "bin_start": 0.33199233297351705,
            "bin_end": 0.9889651957223927,
            "count": 1
           },
           {
            "bin_start": 0.9889651957223927,
            "bin_end": 1.6459380584712684,
            "count": 1
           },
           {
            "bin_start": 1.6459380584712684,
            "bin_end": 2.3029109212201444,
            "count": 3
           },
           {
            "bin_start": 2.3029109212201444,
            "bin_end": 2.95988378396902,
            "count": 2
           },
           {
            "bin_start": 2.95988378396902,
            "bin_end": 3.6168566467178955,
            "count": 2
           },
           {
            "bin_start": 3.6168566467178955,
            "bin_end": 4.273829509466771,
            "count": 15
           },
           {
            "bin_start": 4.273829509466771,
            "bin_end": 4.930802372215647,
            "count": 27
           },
           {
            "bin_start": 4.930802372215647,
            "bin_end": 5.587775234964522,
            "count": 10
           },
           {
            "bin_start": 5.587775234964522,
            "bin_end": 6.244748097713398,
            "count": 0
           },
           {
            "bin_start": 6.244748097713398,
            "bin_end": 6.901720960462273,
            "count": 1
           }
          ]
         }
        },
        {
         "name": 4,
         "dtype": "float64",
         "stats": {
          "unique_count": 62,
          "nan_count": 0,
          "min": "0.05154550041104388",
          "max": "6.891200909854864",
          "histogram": [
           {
            "bin_start": 0.05154550041104388,
            "bin_end": 0.7355110413554259,
            "count": 1
           },
           {
            "bin_start": 0.7355110413554259,
            "bin_end": 1.4194765822998079,
            "count": 0
           },
           {
            "bin_start": 1.4194765822998079,
            "bin_end": 2.1034421232441898,
            "count": 4
           },
           {
            "bin_start": 2.1034421232441898,
            "bin_end": 2.7874076641885717,
            "count": 2
           },
           {
            "bin_start": 2.7874076641885717,
            "bin_end": 3.4713732051329536,
            "count": 2
           },
           {
            "bin_start": 3.4713732051329536,
            "bin_end": 4.155338746077336,
            "count": 14
           },
           {
            "bin_start": 4.155338746077336,
            "bin_end": 4.839304287021718,
            "count": 25
           },
           {
            "bin_start": 4.839304287021718,
            "bin_end": 5.5232698279661,
            "count": 13
           },
           {
            "bin_start": 5.5232698279661,
            "bin_end": 6.207235368910482,
            "count": 0
           },
           {
            "bin_start": 6.207235368910482,
            "bin_end": 6.891200909854864,
            "count": 1
           }
          ]
         }
        },
        {
         "name": "0_1",
         "dtype": "float64",
         "stats": {
          "unique_count": 51,
          "nan_count": 11,
          "min": "-0.7873366095880135",
          "max": "5.445279591309193",
          "histogram": [
           {
            "bin_start": -0.7873366095880135,
            "bin_end": -0.1640749894982929,
            "count": 26
           },
           {
            "bin_start": -0.1640749894982929,
            "bin_end": 0.4591866305914277,
            "count": 15
           },
           {
            "bin_start": 0.4591866305914277,
            "bin_end": 1.0824482506811481,
            "count": 6
           },
           {
            "bin_start": 1.0824482506811481,
            "bin_end": 1.7057098707708689,
            "count": 0
           },
           {
            "bin_start": 1.7057098707708689,
            "bin_end": 2.3289714908605896,
            "count": 2
           },
           {
            "bin_start": 2.3289714908605896,
            "bin_end": 2.95223311095031,
            "count": 0
           },
           {
            "bin_start": 2.95223311095031,
            "bin_end": 3.575494731040031,
            "count": 0
           },
           {
            "bin_start": 3.575494731040031,
            "bin_end": 4.198756351129751,
            "count": 1
           },
           {
            "bin_start": 4.198756351129751,
            "bin_end": 4.822017971219472,
            "count": 0
           },
           {
            "bin_start": 4.822017971219472,
            "bin_end": 5.445279591309193,
            "count": 1
           }
          ]
         }
        },
        {
         "name": "0_2",
         "dtype": "float64",
         "stats": {
          "unique_count": 51,
          "nan_count": 11,
          "min": "-0.7874672435803118",
          "max": "5.431556530985239",
          "histogram": [
           {
            "bin_start": -0.7874672435803118,
            "bin_end": -0.16556486612375676,
            "count": 26
           },
           {
            "bin_start": -0.16556486612375676,
            "bin_end": 0.4563375113327983,
            "count": 15
           },
           {
            "bin_start": 0.4563375113327983,
            "bin_end": 1.0782398887893534,
            "count": 6
           },
           {
            "bin_start": 1.0782398887893534,
            "bin_end": 1.7001422662459085,
            "count": 0
           },
           {
            "bin_start": 1.7001422662459085,
            "bin_end": 2.3220446437024638,
            "count": 2
           },
           {
            "bin_start": 2.3220446437024638,
            "bin_end": 2.9439470211590186,
            "count": 0
           },
           {
            "bin_start": 2.9439470211590186,
            "bin_end": 3.5658493986155735,
            "count": 0
           },
           {
            "bin_start": 3.5658493986155735,
            "bin_end": 4.187751776072129,
            "count": 1
           },
           {
            "bin_start": 4.187751776072129,
            "bin_end": 4.809654153528684,
            "count": 0
           },
           {
            "bin_start": 4.809654153528684,
            "bin_end": 5.431556530985239,
            "count": 1
           }
          ]
         }
        },
        {
         "name": "0_3",
         "dtype": "float64",
         "stats": {
          "unique_count": 51,
          "nan_count": 11,
          "min": "-0.7871345731650928",
          "max": "5.412785535190603",
          "histogram": [
           {
            "bin_start": -0.7871345731650928,
            "bin_end": -0.16714256232952318,
            "count": 26
           },
           {
            "bin_start": -0.16714256232952318,
            "bin_end": 0.45284944850604647,
            "count": 15
           },
           {
            "bin_start": 0.45284944850604647,
            "bin_end": 1.0728414593416162,
            "count": 5
           },
           {
            "bin_start": 1.0728414593416162,
            "bin_end": 1.6928334701771859,
            "count": 1
           },
           {
            "bin_start": 1.6928334701771859,
            "bin_end": 2.3128254810127555,
            "count": 2
           },
           {
            "bin_start": 2.3128254810127555,
            "bin_end": 2.932817491848325,
            "count": 0
           },
           {
            "bin_start": 2.932817491848325,
            "bin_end": 3.552809502683895,
            "count": 0
           },
           {
            "bin_start": 3.552809502683895,
            "bin_end": 4.172801513519464,
            "count": 1
           },
           {
            "bin_start": 4.172801513519464,
            "bin_end": 4.792793524355034,
            "count": 0
           },
           {
            "bin_start": 4.792793524355034,
            "bin_end": 5.412785535190603,
            "count": 1
           }
          ]
         }
        },
        {
         "name": "0_4",
         "dtype": "float64",
         "stats": {
          "unique_count": 51,
          "nan_count": 11,
          "min": "-0.7871494486714752",
          "max": "5.376525000858234",
          "histogram": [
           {
            "bin_start": -0.7871494486714752,
            "bin_end": -0.17078200371850416,
            "count": 26
           },
           {
            "bin_start": -0.17078200371850416,
            "bin_end": 0.44558544123446686,
            "count": 15
           },
           {
            "bin_start": 0.44558544123446686,
            "bin_end": 1.0619528861874379,
            "count": 5
           },
           {
            "bin_start": 1.0619528861874379,
            "bin_end": 1.678320331140409,
            "count": 1
           },
           {
            "bin_start": 1.678320331140409,
            "bin_end": 2.2946877760933795,
            "count": 2
           },
           {
            "bin_start": 2.2946877760933795,
            "bin_end": 2.911055221046351,
            "count": 0
           },
           {
            "bin_start": 2.911055221046351,
            "bin_end": 3.527422665999322,
            "count": 0
           },
           {
            "bin_start": 3.527422665999322,
            "bin_end": 4.143790110952293,
            "count": 1
           },
           {
            "bin_start": 4.143790110952293,
            "bin_end": 4.760157555905264,
            "count": 0
           },
           {
            "bin_start": 4.760157555905264,
            "bin_end": 5.376525000858234,
            "count": 1
           }
          ]
         }
        },
        {
         "name": "1_1",
         "dtype": "float64",
         "stats": {
          "unique_count": 51,
          "nan_count": 11,
          "min": "-0.7985889835351787",
          "max": "3.914986215047963",
          "histogram": [
           {
            "bin_start": -0.7985889835351787,
            "bin_end": -0.32723146367686456,
            "count": 24
           },
           {
            "bin_start": -0.32723146367686456,
            "bin_end": 0.14412605618144958,
            "count": 15
           },
           {
            "bin_start": 0.14412605618144958,
            "bin_end": 0.6154835760397637,
            "count": 5
           },
           {
            "bin_start": 0.6154835760397637,
            "bin_end": 1.0868410958980779,
            "count": 3
           },
           {
            "bin_start": 1.0868410958980779,
            "bin_end": 1.558198615756392,
            "count": 0
           },
           {
            "bin_start": 1.558198615756392,
            "bin_end": 2.029556135614706,
            "count": 1
           },
           {
            "bin_start": 2.029556135614706,
            "bin_end": 2.5009136554730205,
            "count": 2
           },
           {
            "bin_start": 2.5009136554730205,
            "bin_end": 2.9722711753313344,
            "count": 0
           },
           {
            "bin_start": 2.9722711753313344,
            "bin_end": 3.443628695189649,
            "count": 0
           },
           {
            "bin_start": 3.443628695189649,
            "bin_end": 3.914986215047963,
            "count": 1
           }
          ]
         }
        },
        {
         "name": "1_2",
         "dtype": "float64",
         "stats": {
          "unique_count": 51,
          "nan_count": 11,
          "min": "-0.7987545073515289",
          "max": "3.8674048794390847",
          "histogram": [
           {
            "bin_start": -0.7987545073515289,
            "bin_end": -0.33213856867246755,
            "count": 25
           },
           {
            "bin_start": -0.33213856867246755,
            "bin_end": 0.13447737000659377,
            "count": 14
           },
           {
            "bin_start": 0.13447737000659377,
            "bin_end": 0.601093308685655,
            "count": 5
           },
           {
            "bin_start": 0.601093308685655,
            "bin_end": 1.0677092473647165,
            "count": 3
           },
           {
            "bin_start": 1.0677092473647165,
            "bin_end": 1.5343251860437777,
            "count": 0
           },
           {
            "bin_start": 1.5343251860437777,
            "bin_end": 2.000941124722839,
            "count": 1
           },
           {
            "bin_start": 2.000941124722839,
            "bin_end": 2.4675570634019004,
            "count": 2
           },
           {
            "bin_start": 2.4675570634019004,
            "bin_end": 2.9341730020809615,
            "count": 0
           },
           {
            "bin_start": 2.9341730020809615,
            "bin_end": 3.4007889407600227,
            "count": 0
           },
           {
            "bin_start": 3.4007889407600227,
            "bin_end": 3.8674048794390847,
            "count": 1
           }
          ]
         }
        },
        {
         "name": "1_3",
         "dtype": "float64",
         "stats": {
          "unique_count": 51,
          "nan_count": 11,
          "min": "-0.7994871936562413",
          "max": "3.809419344211279",
          "histogram": [
           {
            "bin_start": -0.7994871936562413,
            "bin_end": -0.3385965398694893,
            "count": 25
           },
           {
            "bin_start": -0.3385965398694893,
            "bin_end": 0.12229411391726275,
            "count": 14
           },
           {
            "bin_start": 0.12229411391726275,
            "bin_end": 0.5831847677040147,
            "count": 5
           },
           {
            "bin_start": 0.5831847677040147,
            "bin_end": 1.0440754214907668,
            "count": 3
           },
           {
            "bin_start": 1.0440754214907668,
            "bin_end": 1.504966075277519,
            "count": 0
           },
           {
            "bin_start": 1.504966075277519,
            "bin_end": 1.9658567290642708,
            "count": 2
           },
           {
            "bin_start": 1.9658567290642708,
            "bin_end": 2.426747382851023,
            "count": 1
           },
           {
            "bin_start": 2.426747382851023,
            "bin_end": 2.887638036637775,
            "count": 0
           },
           {
            "bin_start": 2.887638036637775,
            "bin_end": 3.3485286904245273,
            "count": 0
           },
           {
            "bin_start": 3.3485286904245273,
            "bin_end": 3.809419344211279,
            "count": 1
           }
          ]
         }
        },
        {
         "name": "1_4",
         "dtype": "float64",
         "stats": {
          "unique_count": 51,
          "nan_count": 11,
          "min": "-0.8003561936921053",
          "max": "3.7482685716898025",
          "histogram": [
           {
            "bin_start": -0.8003561936921053,
            "bin_end": -0.3454937171539146,
            "count": 25
           },
           {
            "bin_start": -0.3454937171539146,
            "bin_end": 0.10936875938427615,
            "count": 14
           },
           {
            "bin_start": 0.10936875938427615,
            "bin_end": 0.5642312359224668,
            "count": 5
           },
           {
            "bin_start": 0.5642312359224668,
            "bin_end": 1.0190937124606576,
            "count": 3
           },
           {
            "bin_start": 1.0190937124606576,
            "bin_end": 1.4739561889988484,
            "count": 0
           },
           {
            "bin_start": 1.4739561889988484,
            "bin_end": 1.928818665537039,
            "count": 2
           },
           {
            "bin_start": 1.928818665537039,
            "bin_end": 2.38368114207523,
            "count": 1
           },
           {
            "bin_start": 2.38368114207523,
            "bin_end": 2.8385436186134205,
            "count": 0
           },
           {
            "bin_start": 2.8385436186134205,
            "bin_end": 3.2934060951516115,
            "count": 0
           },
           {
            "bin_start": 3.2934060951516115,
            "bin_end": 3.7482685716898025,
            "count": 1
           }
          ]
         }
        },
        {
         "name": "pred",
         "dtype": "float64",
         "stats": {
          "unique_count": 62,
          "nan_count": 0,
          "min": "48.86407041528877",
          "max": "266922.9254902257",
          "histogram": [
           {
            "bin_start": 48.86407041528877,
            "bin_end": 26736.270212396335,
            "count": 58
           },
           {
            "bin_start": 26736.270212396335,
            "bin_end": 53423.67635437738,
            "count": 3
           },
           {
            "bin_start": 53423.67635437738,
            "bin_end": 80111.08249635843,
            "count": 0
           },
           {
            "bin_start": 80111.08249635843,
            "bin_end": 106798.48863833948,
            "count": 0
           },
           {
            "bin_start": 106798.48863833948,
            "bin_end": 133485.89478032052,
            "count": 0
           },
           {
            "bin_start": 133485.89478032052,
            "bin_end": 160173.30092230157,
            "count": 0
           },
           {
            "bin_start": 160173.30092230157,
            "bin_end": 186860.70706428261,
            "count": 0
           },
           {
            "bin_start": 186860.70706428261,
            "bin_end": 213548.11320626366,
            "count": 0
           },
           {
            "bin_start": 213548.11320626366,
            "bin_end": 240235.5193482447,
            "count": 0
           },
           {
            "bin_start": 240235.5193482447,
            "bin_end": 266922.9254902257,
            "count": 1
           }
          ]
         }
        },
        {
         "name": "target_original",
         "dtype": "float64",
         "stats": {
          "unique_count": 62,
          "nan_count": 0,
          "min": "56.429577464788736",
          "max": "326591.37818977196",
          "histogram": [
           {
            "bin_start": 56.429577464788736,
            "bin_end": 32709.924438695507,
            "count": 58
           },
           {
            "bin_start": 32709.924438695507,
            "bin_end": 65363.41929992623,
            "count": 3
           },
           {
            "bin_start": 65363.41929992623,
            "bin_end": 98016.91416115695,
            "count": 0
           },
           {
            "bin_start": 98016.91416115695,
            "bin_end": 130670.40902238767,
            "count": 0
           },
           {
            "bin_start": 130670.40902238767,
            "bin_end": 163323.9038836184,
            "count": 0
           },
           {
            "bin_start": 163323.9038836184,
            "bin_end": 195977.3987448491,
            "count": 0
           },
           {
            "bin_start": 195977.3987448491,
            "bin_end": 228630.89360607983,
            "count": 0
           },
           {
            "bin_start": 228630.89360607983,
            "bin_end": 261284.38846731055,
            "count": 0
           },
           {
            "bin_start": 261284.38846731055,
            "bin_end": 293937.88332854124,
            "count": 0
           },
           {
            "bin_start": 293937.88332854124,
            "bin_end": 326591.37818977196,
            "count": 1
           }
          ]
         }
        },
        {
         "name": "total_diff",
         "dtype": "float64",
         "stats": {
          "unique_count": 62,
          "nan_count": 0,
          "min": "2.221830985915493",
          "max": "59668.45359858348",
          "histogram": [
           {
            "bin_start": 2.221830985915493,
            "bin_end": 5968.845007745672,
            "count": 60
           },
           {
            "bin_start": 5968.845007745672,
            "bin_end": 11935.46818450543,
            "count": 0
           },
           {
            "bin_start": 11935.46818450543,
            "bin_end": 17902.091361265186,
            "count": 1
           },
           {
            "bin_start": 17902.091361265186,
            "bin_end": 23868.714538024942,
            "count": 0
           },
           {
            "bin_start": 23868.714538024942,
            "bin_end": 29835.3377147847,
            "count": 0
           },
           {
            "bin_start": 29835.3377147847,
            "bin_end": 35801.960891544455,
            "count": 0
           },
           {
            "bin_start": 35801.960891544455,
            "bin_end": 41768.58406830421,
            "count": 0
           },
           {
            "bin_start": 41768.58406830421,
            "bin_end": 47735.20724506397,
            "count": 0
           },
           {
            "bin_start": 47735.20724506397,
            "bin_end": 53701.830421823724,
            "count": 0
           },
           {
            "bin_start": 53701.830421823724,
            "bin_end": 59668.45359858348,
            "count": 1
           }
          ]
         }
        },
        {
         "name": "perc_diff",
         "dtype": "float64",
         "stats": {
          "unique_count": 62,
          "nan_count": 0,
          "min": "-4414.94928644684",
          "max": "-0.6724198439341126",
          "histogram": [
           {
            "bin_start": -4414.94928644684,
            "bin_end": -3973.52159978655,
            "count": 1
           },
           {
            "bin_start": -3973.52159978655,
            "bin_end": -3532.093913126259,
            "count": 0
           },
           {
            "bin_start": -3532.093913126259,
            "bin_end": -3090.6662264659685,
            "count": 0
           },
           {
            "bin_start": -3090.6662264659685,
            "bin_end": -2649.2385398056776,
            "count": 0
           },
           {
            "bin_start": -2649.2385398056776,
            "bin_end": -2207.8108531453872,
            "count": 0
           },
           {
            "bin_start": -2207.8108531453872,
            "bin_end": -1766.3831664850968,
            "count": 0
           },
           {
            "bin_start": -1766.3831664850968,
            "bin_end": -1324.955479824806,
            "count": 0
           },
           {
            "bin_start": -1324.955479824806,
            "bin_end": -883.5277931645155,
            "count": 0
           },
           {
            "bin_start": -883.5277931645155,
            "bin_end": -442.1001065042251,
            "count": 1
           },
           {
            "bin_start": -442.1001065042251,
            "bin_end": -0.6724198439341126,
            "count": 60
           }
          ]
         }
        },
        {
         "name": "_deepnote_index_column",
         "dtype": "object"
        }
       ],
       "rows": [
        {
         "1": 4.765754496619005,
         "2": 4.876559362900707,
         "3": 4.929091344867602,
         "4": 4.8885543360488475,
         "target": 4.7315770943640905,
         "0_1": -0.16251990406226466,
         "0_2": -0.16263431022946193,
         "0_3": -0.16215234382298965,
         "0_4": -0.1620003431942498,
         "1_1": -0.23673732137991116,
         "1_2": -0.24037884533974516,
         "1_3": -0.2448374402949881,
         "1_4": -0.248653142911262,
         "pred": 10266.016985946937,
         "target_original": 12181.742127415344,
         "total_diff": 1915.7377080543333,
         "perc_diff": -161.5524628506757,
         "_deepnote_index_column": "Alabama"
        },
        {
         "1": 3.9121510999317013,
         "2": 3.7868935552030596,
         "3": 3.7532938438327785,
         "4": 3.5866438231000184,
         "target": 4.016383049548755,
         "0_1": -0.7389795839383303,
         "0_2": -0.7384097168124016,
         "0_3": -0.7393695926690056,
         "0_4": -0.7397520284146666,
         "1_1": -0.7862420427828094,
         "1_2": -0.7865863431393499,
         "1_3": -0.7870756120671548,
         "1_4": -0.78726791179497,
         "pred": 1693.4825761090453,
         "target_original": 1963.0290780141843,
         "total_diff": 269.5505319148936,
         "perc_diff": -20.043188163212932,
         "_deepnote_index_column": "Alaska"
        },
        {
         "1": 3.6511747886338406,
         "2": 3.6991901141615497,
         "3": 3.4179208118199593,
         "4": 3.2712676640712237,
         "target": 3.5458482592499743,
         "0_1": "nan",
         "0_2": "nan",
         "0_3": "nan",
         "0_4": "nan",
         "1_1": "nan",
         "1_2": "nan",
         "1_3": "nan",
         "1_4": "nan",
         "pred": 228.23872685377506,
         "target_original": 242.77777777777771,
         "total_diff": 14.444444444444445,
         "perc_diff": -0.6724198439341126,
         "_deepnote_index_column": "American Samoa"
        },
        {
         "1": 4.9132349021246275,
         "2": 4.866396707740716,
         "3": 4.825869586787357,
         "4": 4.738133375986934,
         "target": 5.0101794770262185,
         "0_1": 0.2076037906406529,
         "0_2": 0.1969713196135925,
         "0_3": 0.18460355315233545,
         "0_4": 0.1736741129253687,
         "1_1": 0.0155642489458219,
         "1_2": -0.003810151480307759,
         "1_3": -0.023994320380567383,
         "1_4": -0.04201234508934555,
         "pred": 11647.96473072665,
         "target_original": 13864.593294984723,
         "total_diff": 2216.620528491821,
         "perc_diff": -99.43595245498763,
         "_deepnote_index_column": "Arizona"
        },
        {
         "1": 4.454019069057385,
         "2": 4.460853734172741,
         "3": 4.527186294101317,
         "4": 4.479630176204477,
         "target": 4.516072764591359,
         "0_1": -0.422374174668625,
         "0_2": -0.4239388074751767,
         "0_3": -0.42510071975469776,
         "0_4": -0.42639948669283223,
         "1_1": -0.48953329944470514,
         "1_2": -0.4918465759174077,
         "1_3": -0.4945422881357659,
         "1_4": -0.4967433221513088,
         "pred": 7069.489324123306,
         "target_original": 8524.24731875719,
         "total_diff": 1454.7891829689297,
         "perc_diff": -125.16368606004637,
         "_deepnote_index_column": "Arkansas"
        },
        {
         "1": 1.468263852115817,
         "2": 2.1116047065124635,
         "3": 2.1053340648958687,
         "4": 1.7045864612509953,
         "target": 2.7490260537917157,
         "0_1": "nan",
         "0_2": "nan",
         "0_3": "nan",
         "0_4": "nan",
         "1_1": "nan",
         "1_2": "nan",
         "1_3": "nan",
         "1_4": "nan",
         "pred": 48.86407041528877,
         "target_original": 68.82222222222222,
         "total_diff": 19.86111111111111,
         "perc_diff": -12.699853268112712,
         "_deepnote_index_column": "Armed Forces Central/South America"
        },
        {
         "1": 2.6832500811833473,
         "2": 2.2155442301858117,
         "3": 2.058983407852687,
         "4": 1.6515093394951597,
         "target": 2.5040288101705555,
         "0_1": "nan",
         "0_2": "nan",
         "0_3": "nan",
         "0_4": "nan",
         "1_1": "nan",
         "1_2": "nan",
         "1_3": "nan",
         "1_4": "nan",
         "pred": 88.57469348016578,
         "target_original": 136.40856031128405,
         "total_diff": 47.797665369649806,
         "perc_diff": -11.53321366022133,
         "_deepnote_index_column": "Armed Forces Europe"
        },
        {
         "1": 1.6058366954033692,
         "2": 1.8791998976270419,
         "3": 1.6227888837397983,
         "4": 2.0280652431156825,
         "target": 1.7595558440929,
         "0_1": "nan",
         "0_2": "nan",
         "0_3": "nan",
         "0_4": "nan",
         "1_1": "nan",
         "1_2": "nan",
         "1_3": "nan",
         "1_4": "nan",
         "pred": 54.18155438718464,
         "target_original": 56.429577464788736,
         "total_diff": 2.221830985915493,
         "perc_diff": -3.172005053872731,
         "_deepnote_index_column": "Armed Forces Pacific"
        },
        {
         "1": 5.534571337966225,
         "2": 5.500198706293229,
         "3": 5.449106366799014,
         "4": 5.417562751944523,
         "target": 5.594945533365198,
         "0_1": 5.445279591309193,
         "0_2": 5.431556530985239,
         "0_3": 5.412785535190603,
         "0_4": 5.376525000858234,
         "1_1": 3.914986215047963,
         "1_2": 3.8674048794390847,
         "1_3": 3.809419344211279,
         "1_4": 3.7482685716898025,
         "pred": 31253.280702895554,
         "target_original": 46666.58534115138,
         "total_diff": 15413.295042643924,
         "perc_diff": -473.12564650014554,
         "_deepnote_index_column": "California"
        },
        {
         "1": 4.624256169445415,
         "2": 4.576409188653742,
         "3": 4.55472408696819,
         "4": 4.510388869933519,
         "target": 4.699988200336023,
         "0_1": 0.018744902671865706,
         "0_2": 0.007310236155741838,
         "0_3": -0.006639202328471357,
         "0_4": -0.024039217363436907,
         "1_1": -0.19072710970820173,
         "1_2": -0.20088653963262718,
         "1_3": -0.21289783486849817,
         "1_4": -0.22493076720449162,
         "pred": 6343.268659421175,
         "target_original": 8112.530874751492,
         "total_diff": 1769.2739562624254,
         "perc_diff": -98.89806530111781,
         "_deepnote_index_column": "Colorado"
        }
       ]
      },
      "text/plain": "                  target         1         2         3         4       0_1  \\\nstate                                                                        \nAlabama         4.731577  4.765754  4.876559  4.929091  4.888554 -0.162520   \nAlaska          4.016383  3.912151  3.786894  3.753294  3.586644 -0.738980   \nAmerican Samoa  3.545848  3.651175  3.699190  3.417921  3.271268       NaN   \nArizona         5.010179  4.913235  4.866397  4.825870  4.738133  0.207604   \nArkansas        4.516073  4.454019  4.460854  4.527186  4.479630 -0.422374   \n...                  ...       ...       ...       ...       ...       ...   \nVirginia        4.957227  4.882367  4.849227  4.831726  4.852941  0.417973   \nWashington      4.896520  4.807562  4.754399  4.743317  4.695378  0.311310   \nWest Virginia   4.187109  4.241998  4.272098  4.307053  4.304519 -0.626696   \nWisconsin       4.690639  4.694598  4.687254  4.694370  4.686876 -0.030085   \nWyoming         4.043106  3.953512  3.891862  3.813321  3.832198 -0.783313   \n\n                     0_2       0_3       0_4       1_1       1_2       1_3  \\\nstate                                                                        \nAlabama        -0.162634 -0.162152 -0.162000 -0.236737 -0.240379 -0.244837   \nAlaska         -0.738410 -0.739370 -0.739752 -0.786242 -0.786586 -0.787076   \nAmerican Samoa       NaN       NaN       NaN       NaN       NaN       NaN   \nArizona         0.196971  0.184604  0.173674  0.015564 -0.003810 -0.023994   \nArkansas       -0.423939 -0.425101 -0.426399 -0.489533 -0.491847 -0.494542   \n...                  ...       ...       ...       ...       ...       ...   \nVirginia        0.410374  0.404800  0.398453  0.206701  0.197277  0.186812   \nWashington      0.287503  0.263717  0.244507  0.062861  0.047921  0.031864   \nWest Virginia  -0.623965 -0.621622 -0.620256 -0.614600 -0.613812 -0.613400   \nWisconsin      -0.031952 -0.032171 -0.033151 -0.112231 -0.116293 -0.120374   \nWyoming        -0.781783 -0.781225 -0.781926 -0.798589 -0.798755 -0.799054   \n\n                     1_4          pred  target_original   total_diff  \\\nstate                                                                  \nAlabama        -0.248653  10266.016986     12181.742127  1915.737708   \nAlaska         -0.787268   1693.482576      1963.029078   269.550532   \nAmerican Samoa       NaN    228.238727       242.777778    14.444444   \nArizona        -0.042012  11647.964731     13864.593295  2216.620528   \nArkansas       -0.496743   7069.489324      8524.247319  1454.789183   \n...                  ...           ...              ...          ...   \nVirginia        0.176805  12706.275638     15244.817724  2538.529176   \nWashington      0.017852   8740.415348     10644.966846  1904.546248   \nWest Virginia  -0.613052   3335.849173      4011.929521   676.110423   \nWisconsin      -0.123075   6431.283319      7095.406585   664.121627   \nWyoming        -0.799364   1461.445381      2127.269171   665.814475   \n\n                 perc_diff  \nstate                       \nAlabama        -161.552463  \nAlaska          -20.043188  \nAmerican Samoa   -0.672420  \nArizona         -99.435952  \nArkansas       -125.163686  \n...                    ...  \nVirginia       -227.199428  \nWashington     -123.594843  \nWest Virginia   -89.645306  \nWisconsin      -142.706346  \nWyoming         -40.420285  \n\n[62 rows x 17 columns]",
      "text/html": "<div>\n<style scoped>\n    .dataframe tbody tr th:only-of-type {\n        vertical-align: middle;\n    }\n\n    .dataframe tbody tr th {\n        vertical-align: top;\n    }\n\n    .dataframe thead th {\n        text-align: right;\n    }\n</style>\n<table border=\"1\" class=\"dataframe\">\n  <thead>\n    <tr style=\"text-align: right;\">\n      <th></th>\n      <th>target</th>\n      <th>1</th>\n      <th>2</th>\n      <th>3</th>\n      <th>4</th>\n      <th>0_1</th>\n      <th>0_2</th>\n      <th>0_3</th>\n      <th>0_4</th>\n      <th>1_1</th>\n      <th>1_2</th>\n      <th>1_3</th>\n      <th>1_4</th>\n      <th>pred</th>\n      <th>target_original</th>\n      <th>total_diff</th>\n      <th>perc_diff</th>\n    </tr>\n    <tr>\n      <th>state</th>\n      <th></th>\n      <th></th>\n      <th></th>\n      <th></th>\n      <th></th>\n      <th></th>\n      <th></th>\n      <th></th>\n      <th></th>\n      <th></th>\n      <th></th>\n      <th></th>\n      <th></th>\n      <th></th>\n      <th></th>\n      <th></th>\n      <th></th>\n    </tr>\n  </thead>\n  <tbody>\n    <tr>\n      <th>Alabama</th>\n      <td>4.731577</td>\n      <td>4.765754</td>\n      <td>4.876559</td>\n      <td>4.929091</td>\n      <td>4.888554</td>\n      <td>-0.162520</td>\n      <td>-0.162634</td>\n      <td>-0.162152</td>\n      <td>-0.162000</td>\n      <td>-0.236737</td>\n      <td>-0.240379</td>\n      <td>-0.244837</td>\n      <td>-0.248653</td>\n      <td>10266.016986</td>\n      <td>12181.742127</td>\n      <td>1915.737708</td>\n      <td>-161.552463</td>\n    </tr>\n    <tr>\n      <th>Alaska</th>\n      <td>4.016383</td>\n      <td>3.912151</td>\n      <td>3.786894</td>\n      <td>3.753294</td>\n      <td>3.586644</td>\n      <td>-0.738980</td>\n      <td>-0.738410</td>\n      <td>-0.739370</td>\n      <td>-0.739752</td>\n      <td>-0.786242</td>\n      <td>-0.786586</td>\n      <td>-0.787076</td>\n      <td>-0.787268</td>\n      <td>1693.482576</td>\n      <td>1963.029078</td>\n      <td>269.550532</td>\n      <td>-20.043188</td>\n    </tr>\n    <tr>\n      <th>American Samoa</th>\n      <td>3.545848</td>\n      <td>3.651175</td>\n      <td>3.699190</td>\n      <td>3.417921</td>\n      <td>3.271268</td>\n      <td>NaN</td>\n      <td>NaN</td>\n      <td>NaN</td>\n      <td>NaN</td>\n      <td>NaN</td>\n      <td>NaN</td>\n      <td>NaN</td>\n      <td>NaN</td>\n      <td>228.238727</td>\n      <td>242.777778</td>\n      <td>14.444444</td>\n      <td>-0.672420</td>\n    </tr>\n    <tr>\n      <th>Arizona</th>\n      <td>5.010179</td>\n      <td>4.913235</td>\n      <td>4.866397</td>\n      <td>4.825870</td>\n      <td>4.738133</td>\n      <td>0.207604</td>\n      <td>0.196971</td>\n      <td>0.184604</td>\n      <td>0.173674</td>\n      <td>0.015564</td>\n      <td>-0.003810</td>\n      <td>-0.023994</td>\n      <td>-0.042012</td>\n      <td>11647.964731</td>\n      <td>13864.593295</td>\n      <td>2216.620528</td>\n      <td>-99.435952</td>\n    </tr>\n    <tr>\n      <th>Arkansas</th>\n      <td>4.516073</td>\n      <td>4.454019</td>\n      <td>4.460854</td>\n      <td>4.527186</td>\n      <td>4.479630</td>\n      <td>-0.422374</td>\n      <td>-0.423939</td>\n      <td>-0.425101</td>\n      <td>-0.426399</td>\n      <td>-0.489533</td>\n      <td>-0.491847</td>\n      <td>-0.494542</td>\n      <td>-0.496743</td>\n      <td>7069.489324</td>\n      <td>8524.247319</td>\n      <td>1454.789183</td>\n      <td>-125.163686</td>\n    </tr>\n    <tr>\n      <th>...</th>\n      <td>...</td>\n      <td>...</td>\n      <td>...</td>\n      <td>...</td>\n      <td>...</td>\n      <td>...</td>\n      <td>...</td>\n      <td>...</td>\n      <td>...</td>\n      <td>...</td>\n      <td>...</td>\n      <td>...</td>\n      <td>...</td>\n      <td>...</td>\n      <td>...</td>\n      <td>...</td>\n      <td>...</td>\n    </tr>\n    <tr>\n      <th>Virginia</th>\n      <td>4.957227</td>\n      <td>4.882367</td>\n      <td>4.849227</td>\n      <td>4.831726</td>\n      <td>4.852941</td>\n      <td>0.417973</td>\n      <td>0.410374</td>\n      <td>0.404800</td>\n      <td>0.398453</td>\n      <td>0.206701</td>\n      <td>0.197277</td>\n      <td>0.186812</td>\n      <td>0.176805</td>\n      <td>12706.275638</td>\n      <td>15244.817724</td>\n      <td>2538.529176</td>\n      <td>-227.199428</td>\n    </tr>\n    <tr>\n      <th>Washington</th>\n      <td>4.896520</td>\n      <td>4.807562</td>\n      <td>4.754399</td>\n      <td>4.743317</td>\n      <td>4.695378</td>\n      <td>0.311310</td>\n      <td>0.287503</td>\n      <td>0.263717</td>\n      <td>0.244507</td>\n      <td>0.062861</td>\n      <td>0.047921</td>\n      <td>0.031864</td>\n      <td>0.017852</td>\n      <td>8740.415348</td>\n      <td>10644.966846</td>\n      <td>1904.546248</td>\n      <td>-123.594843</td>\n    </tr>\n    <tr>\n      <th>West Virginia</th>\n      <td>4.187109</td>\n      <td>4.241998</td>\n      <td>4.272098</td>\n      <td>4.307053</td>\n      <td>4.304519</td>\n      <td>-0.626696</td>\n      <td>-0.623965</td>\n      <td>-0.621622</td>\n      <td>-0.620256</td>\n      <td>-0.614600</td>\n      <td>-0.613812</td>\n      <td>-0.613400</td>\n      <td>-0.613052</td>\n      <td>3335.849173</td>\n      <td>4011.929521</td>\n      <td>676.110423</td>\n      <td>-89.645306</td>\n    </tr>\n    <tr>\n      <th>Wisconsin</th>\n      <td>4.690639</td>\n      <td>4.694598</td>\n      <td>4.687254</td>\n      <td>4.694370</td>\n      <td>4.686876</td>\n      <td>-0.030085</td>\n      <td>-0.031952</td>\n      <td>-0.032171</td>\n      <td>-0.033151</td>\n      <td>-0.112231</td>\n      <td>-0.116293</td>\n      <td>-0.120374</td>\n      <td>-0.123075</td>\n      <td>6431.283319</td>\n      <td>7095.406585</td>\n      <td>664.121627</td>\n      <td>-142.706346</td>\n    </tr>\n    <tr>\n      <th>Wyoming</th>\n      <td>4.043106</td>\n      <td>3.953512</td>\n      <td>3.891862</td>\n      <td>3.813321</td>\n      <td>3.832198</td>\n      <td>-0.783313</td>\n      <td>-0.781783</td>\n      <td>-0.781225</td>\n      <td>-0.781926</td>\n      <td>-0.798589</td>\n      <td>-0.798755</td>\n      <td>-0.799054</td>\n      <td>-0.799364</td>\n      <td>1461.445381</td>\n      <td>2127.269171</td>\n      <td>665.814475</td>\n      <td>-40.420285</td>\n    </tr>\n  </tbody>\n</table>\n<p>62 rows × 17 columns</p>\n</div>"
     },
     "metadata": {}
    }
   ],
   "execution_count": 22
  },
  {
   "cell_type": "code",
   "source": "excl_states =  ['Armed Forces Central/South America', 'Armed Forces Europe', 'Armed Forces Pacific', 'Foreign Country']\n\nfull_test.loc[~full_test['state'].isin(excl_states),:]",
   "metadata": {
    "cell_id": "6d7c7b8f-e310-4247-b36a-a4df5c5a56ae",
    "tags": [],
    "deepnote_to_be_reexecuted": false,
    "source_hash": "e332c484",
    "execution_start": 1643019071188,
    "execution_millis": 340,
    "deepnote_output_heights": [
     289.8125
    ],
    "deepnote_cell_type": "code"
   },
   "outputs": [
    {
     "output_type": "execute_result",
     "execution_count": 23,
     "data": {
      "application/vnd.deepnote.dataframe.v3+json": {
       "column_count": 18,
       "row_count": 251635,
       "columns": [
        {
         "name": "target",
         "dtype": "float64"
        },
        {
         "name": "1",
         "dtype": "float64"
        },
        {
         "name": "2",
         "dtype": "float64"
        },
        {
         "name": "3",
         "dtype": "float64"
        },
        {
         "name": 4,
         "dtype": "float64"
        },
        {
         "name": "0_1",
         "dtype": "float64"
        },
        {
         "name": "0_2",
         "dtype": "float64"
        },
        {
         "name": "0_3",
         "dtype": "float64"
        },
        {
         "name": "0_4",
         "dtype": "float64"
        },
        {
         "name": "1_1",
         "dtype": "float64"
        },
        {
         "name": "1_2",
         "dtype": "float64"
        },
        {
         "name": "1_3",
         "dtype": "float64"
        },
        {
         "name": "1_4",
         "dtype": "float64"
        },
        {
         "name": "state",
         "dtype": "object"
        },
        {
         "name": "pred",
         "dtype": "float64"
        },
        {
         "name": "target_original",
         "dtype": "float64"
        },
        {
         "name": "total_diff",
         "dtype": "int64"
        },
        {
         "name": "perc_diff",
         "dtype": "float64"
        },
        {
         "name": "_deepnote_index_column",
         "dtype": "object"
        }
       ],
       "rows": [
        {
         "1": 5.69035945432406,
         "2": 5.8289456176102075,
         "3": 5.8998973535824915,
         "4": 5.937536205082426,
         "target": 5.662960480135946,
         "0_1": -0.1625199040622641,
         "0_2": -0.16263431022945082,
         "0_3": -0.16215234382300467,
         "0_4": -0.16200034319426013,
         "1_1": -0.23673732137992873,
         "1_2": -0.24037884533974418,
         "1_3": -0.24483744029499951,
         "1_4": -0.24865314291124105,
         "state": "Alabama",
         "pred": 247.72991867772018,
         "target_original": 288.00000000000006,
         "total_diff": 40,
         "perc_diff": 0.13888888888888887,
         "_deepnote_index_column": "Alabama_00100"
        },
        {
         "1": 0,
         "2": 0,
         "3": 5.0369526024136295,
         "4": 0,
         "target": 0,
         "0_1": -0.1625199040622641,
         "0_2": -0.16263431022945082,
         "0_3": -0.16215234382300467,
         "0_4": -0.16200034319426013,
         "1_1": -0.23673732137992873,
         "1_2": -0.24037884533974418,
         "1_3": -0.24483744029499951,
         "1_4": -0.24865314291124105,
         "state": "Alabama",
         "pred": 2.813114467691745,
         "target_original": 1,
         "total_diff": -2,
         "perc_diff": -2,
         "_deepnote_index_column": "Alabama_00102"
        },
        {
         "1": 8.012349639327795,
         "2": 8.250620082174692,
         "3": 8.189522110748094,
         "4": 8.24800570160062,
         "target": 8.044305406990638,
         "0_1": -0.1625199040622641,
         "0_2": -0.16263431022945082,
         "0_3": -0.16215234382300467,
         "0_4": -0.16200034319426013,
         "1_1": -0.23673732137992873,
         "1_2": -0.24037884533974418,
         "1_3": -0.24483744029499951,
         "1_4": -0.24865314291124105,
         "state": "Alabama",
         "pred": 2803.7606615412815,
         "target_original": 3115.9999999999977,
         "total_diff": 312,
         "perc_diff": 0.10012836970474975,
         "_deepnote_index_column": "Alabama_00103"
        },
        {
         "1": 7.807916628926408,
         "2": 8.270269111436624,
         "3": 8.133880887949207,
         "4": 8.055475141757274,
         "target": 7.426549072397305,
         "0_1": -0.1625199040622641,
         "0_2": -0.16263431022945082,
         "0_3": -0.16215234382300467,
         "0_4": -0.16200034319426013,
         "1_1": -0.23673732137992873,
         "1_2": -0.24037884533974418,
         "1_3": -0.24483744029499951,
         "1_4": -0.24865314291124105,
         "state": "Alabama",
         "pred": 1803.2191409870654,
         "target_original": 1680,
         "total_diff": -123,
         "perc_diff": -0.07321428571428572,
         "_deepnote_index_column": "Alabama_00104"
        },
        {
         "1": 6.70808408385307,
         "2": 6.76849321164863,
         "3": 6.687108607866515,
         "4": 6.666956792429207,
         "target": 6.602587892189336,
         "0_1": -0.1625199040622641,
         "0_2": -0.16263431022945082,
         "0_3": -0.16215234382300467,
         "0_4": -0.16200034319426013,
         "1_1": -0.23673732137992873,
         "1_2": -0.24037884533974418,
         "1_3": -0.24483744029499951,
         "1_4": -0.24865314291124105,
         "state": "Alabama",
         "pred": 688.0733822920233,
         "target_original": 736.9999999999999,
         "total_diff": 49,
         "perc_diff": 0.06648575305291725,
         "_deepnote_index_column": "Alabama_00120"
        },
        {
         "1": 3.713572066704308,
         "2": 3.8501476017100584,
         "3": 3.8918202981106265,
         "4": 0,
         "target": 4.0943445622221,
         "0_1": -0.1625199040622641,
         "0_2": -0.16263431022945082,
         "0_3": -0.16215234382300467,
         "0_4": -0.16200034319426013,
         "1_1": -0.23673732137992873,
         "1_2": -0.24037884533974418,
         "1_3": -0.24483744029499951,
         "1_4": -0.24865314291124105,
         "state": "Alabama",
         "pred": 25.19087122978518,
         "target_original": 59.999999999999986,
         "total_diff": 35,
         "perc_diff": 0.5833333333333335,
         "_deepnote_index_column": "Alabama_00124"
        },
        {
         "1": 6.421622267806518,
         "2": 6.586171654854675,
         "3": 6.651571873589727,
         "4": 6.618738983517219,
         "target": 6.419994928147142,
         "0_1": -0.1625199040622641,
         "0_2": -0.16263431022945082,
         "0_3": -0.16215234382300467,
         "0_4": -0.16200034319426013,
         "1_1": -0.23673732137992873,
         "1_2": -0.24037884533974418,
         "1_3": -0.24483744029499951,
         "1_4": -0.24865314291124105,
         "state": "Alabama",
         "pred": 523.9720639099926,
         "target_original": 613.9999999999999,
         "total_diff": 90,
         "perc_diff": 0.14657980456026062,
         "_deepnote_index_column": "Alabama_00126"
        },
        {
         "1": 8.213381737034572,
         "2": 8.359603270841466,
         "3": 8.252967195000798,
         "4": 8.192570471152173,
         "target": 8.178919332848396,
         "0_1": -0.1625199040622641,
         "0_2": -0.16263431022945082,
         "0_3": -0.16215234382300467,
         "0_4": -0.16200034319426013,
         "1_1": -0.23673732137992873,
         "1_2": -0.24037884533974418,
         "1_3": -0.24483744029499951,
         "1_4": -0.24865314291124105,
         "state": "Alabama",
         "pred": 2968.0934420883655,
         "target_original": 3565.0000000000005,
         "total_diff": 597,
         "perc_diff": 0.16746143057503504,
         "_deepnote_index_column": "Alabama_00140"
        },
        {
         "1": 10.803242315770184,
         "2": 10.99963012730331,
         "3": 10.99223467339126,
         "4": 10.965038129063412,
         "target": 10.76157697400153,
         "0_1": -0.1625199040622641,
         "0_2": -0.16263431022945082,
         "0_3": -0.16215234382300467,
         "0_4": -0.16200034319426013,
         "1_1": -0.23673732137992873,
         "1_2": -0.24037884533974418,
         "1_3": -0.24483744029499951,
         "1_4": -0.24865314291124105,
         "state": "Alabama",
         "pred": 34721.99649088638,
         "target_original": 47172.99999999998,
         "total_diff": 12451,
         "perc_diff": 0.2639433574290379,
         "_deepnote_index_column": "Alabama_00142"
        },
        {
         "1": 6.4967749901858625,
         "2": 6.6293632534374485,
         "3": 6.726233402358747,
         "4": 6.736966958001855,
         "target": 6.532334292222349,
         "0_1": -0.1625199040622641,
         "0_2": -0.16263431022945082,
         "0_3": -0.16215234382300467,
         "0_4": -0.16200034319426013,
         "1_1": -0.23673732137992873,
         "1_2": -0.24037884533974418,
         "1_3": -0.24483744029499951,
         "1_4": -0.24865314291124105,
         "state": "Alabama",
         "pred": 523.9410835065116,
         "target_original": 686.9999999999998,
         "total_diff": 163,
         "perc_diff": 0.23726346433770024,
         "_deepnote_index_column": "Alabama_00144"
        }
       ]
      },
      "text/plain": "                  target          1          2          3          4  \\\nidx                                                                    \nAlabama_00100   5.662960   5.690359   5.828946   5.899897   5.937536   \nAlabama_00102   0.000000   0.000000   0.000000   5.036953   0.000000   \nAlabama_00103   8.044305   8.012350   8.250620   8.189522   8.248006   \nAlabama_00104   7.426549   7.807917   8.270269   8.133881   8.055475   \nAlabama_00120   6.602588   6.708084   6.768493   6.687109   6.666957   \n...                  ...        ...        ...        ...        ...   \nWyoming_Q5101  11.523865  10.509442   0.000000   0.000000   0.000000   \nWyoming_Q9957   4.330733   4.430817   3.401197   2.833213   0.000000   \nWyoming_Q9965   3.433987   3.583519   4.553877   4.418841   4.709530   \nWyoming_Q9966   7.812378   6.590301   0.000000   0.000000   0.000000   \nWyoming_Q9967  12.174510  12.150549  12.118257  12.024904  12.126071   \n\n                    0_1       0_2       0_3       0_4       1_1       1_2  \\\nidx                                                                         \nAlabama_00100 -0.162520 -0.162634 -0.162152 -0.162000 -0.236737 -0.240379   \nAlabama_00102 -0.162520 -0.162634 -0.162152 -0.162000 -0.236737 -0.240379   \nAlabama_00103 -0.162520 -0.162634 -0.162152 -0.162000 -0.236737 -0.240379   \nAlabama_00104 -0.162520 -0.162634 -0.162152 -0.162000 -0.236737 -0.240379   \nAlabama_00120 -0.162520 -0.162634 -0.162152 -0.162000 -0.236737 -0.240379   \n...                 ...       ...       ...       ...       ...       ...   \nWyoming_Q5101 -0.783313 -0.781783 -0.781225 -0.781926 -0.798589 -0.798755   \nWyoming_Q9957 -0.783313 -0.781783 -0.781225 -0.781926 -0.798589 -0.798755   \nWyoming_Q9965 -0.783313 -0.781783 -0.781225 -0.781926 -0.798589 -0.798755   \nWyoming_Q9966 -0.783313 -0.781783 -0.781225 -0.781926 -0.798589 -0.798755   \nWyoming_Q9967 -0.783313 -0.781783 -0.781225 -0.781926 -0.798589 -0.798755   \n\n                    1_3       1_4    state           pred  target_original  \\\nidx                                                                          \nAlabama_00100 -0.244837 -0.248653  Alabama     247.729919            288.0   \nAlabama_00102 -0.244837 -0.248653  Alabama       2.813114              1.0   \nAlabama_00103 -0.244837 -0.248653  Alabama    2803.760662           3116.0   \nAlabama_00104 -0.244837 -0.248653  Alabama    1803.219141           1680.0   \nAlabama_00120 -0.244837 -0.248653  Alabama     688.073382            737.0   \n...                 ...       ...      ...            ...              ...   \nWyoming_Q5101 -0.799054 -0.799364  Wyoming   18621.076621         101100.0   \nWyoming_Q9957 -0.799054 -0.799364  Wyoming      59.645544             76.0   \nWyoming_Q9965 -0.799054 -0.799364  Wyoming      26.436546             31.0   \nWyoming_Q9966 -0.799054 -0.799364  Wyoming     319.249095           2471.0   \nWyoming_Q9967 -0.799054 -0.799364  Wyoming  206782.106203         193786.0   \n\n               total_diff  perc_diff  \nidx                                   \nAlabama_00100          40   0.138889  \nAlabama_00102          -2  -2.000000  \nAlabama_00103         312   0.100128  \nAlabama_00104        -123  -0.073214  \nAlabama_00120          49   0.066486  \n...                   ...        ...  \nWyoming_Q5101       82479   0.815816  \nWyoming_Q9957          16   0.210526  \nWyoming_Q9965           5   0.161290  \nWyoming_Q9966        2152   0.870902  \nWyoming_Q9967      -12996  -0.067064  \n\n[251635 rows x 18 columns]",
      "text/html": "<div>\n<style scoped>\n    .dataframe tbody tr th:only-of-type {\n        vertical-align: middle;\n    }\n\n    .dataframe tbody tr th {\n        vertical-align: top;\n    }\n\n    .dataframe thead th {\n        text-align: right;\n    }\n</style>\n<table border=\"1\" class=\"dataframe\">\n  <thead>\n    <tr style=\"text-align: right;\">\n      <th></th>\n      <th>target</th>\n      <th>1</th>\n      <th>2</th>\n      <th>3</th>\n      <th>4</th>\n      <th>0_1</th>\n      <th>0_2</th>\n      <th>0_3</th>\n      <th>0_4</th>\n      <th>1_1</th>\n      <th>1_2</th>\n      <th>1_3</th>\n      <th>1_4</th>\n      <th>state</th>\n      <th>pred</th>\n      <th>target_original</th>\n      <th>total_diff</th>\n      <th>perc_diff</th>\n    </tr>\n    <tr>\n      <th>idx</th>\n      <th></th>\n      <th></th>\n      <th></th>\n      <th></th>\n      <th></th>\n      <th></th>\n      <th></th>\n      <th></th>\n      <th></th>\n      <th></th>\n      <th></th>\n      <th></th>\n      <th></th>\n      <th></th>\n      <th></th>\n      <th></th>\n      <th></th>\n      <th></th>\n    </tr>\n  </thead>\n  <tbody>\n    <tr>\n      <th>Alabama_00100</th>\n      <td>5.662960</td>\n      <td>5.690359</td>\n      <td>5.828946</td>\n      <td>5.899897</td>\n      <td>5.937536</td>\n      <td>-0.162520</td>\n      <td>-0.162634</td>\n      <td>-0.162152</td>\n      <td>-0.162000</td>\n      <td>-0.236737</td>\n      <td>-0.240379</td>\n      <td>-0.244837</td>\n      <td>-0.248653</td>\n      <td>Alabama</td>\n      <td>247.729919</td>\n      <td>288.0</td>\n      <td>40</td>\n      <td>0.138889</td>\n    </tr>\n    <tr>\n      <th>Alabama_00102</th>\n      <td>0.000000</td>\n      <td>0.000000</td>\n      <td>0.000000</td>\n      <td>5.036953</td>\n      <td>0.000000</td>\n      <td>-0.162520</td>\n      <td>-0.162634</td>\n      <td>-0.162152</td>\n      <td>-0.162000</td>\n      <td>-0.236737</td>\n      <td>-0.240379</td>\n      <td>-0.244837</td>\n      <td>-0.248653</td>\n      <td>Alabama</td>\n      <td>2.813114</td>\n      <td>1.0</td>\n      <td>-2</td>\n      <td>-2.000000</td>\n    </tr>\n    <tr>\n      <th>Alabama_00103</th>\n      <td>8.044305</td>\n      <td>8.012350</td>\n      <td>8.250620</td>\n      <td>8.189522</td>\n      <td>8.248006</td>\n      <td>-0.162520</td>\n      <td>-0.162634</td>\n      <td>-0.162152</td>\n      <td>-0.162000</td>\n      <td>-0.236737</td>\n      <td>-0.240379</td>\n      <td>-0.244837</td>\n      <td>-0.248653</td>\n      <td>Alabama</td>\n      <td>2803.760662</td>\n      <td>3116.0</td>\n      <td>312</td>\n      <td>0.100128</td>\n    </tr>\n    <tr>\n      <th>Alabama_00104</th>\n      <td>7.426549</td>\n      <td>7.807917</td>\n      <td>8.270269</td>\n      <td>8.133881</td>\n      <td>8.055475</td>\n      <td>-0.162520</td>\n      <td>-0.162634</td>\n      <td>-0.162152</td>\n      <td>-0.162000</td>\n      <td>-0.236737</td>\n      <td>-0.240379</td>\n      <td>-0.244837</td>\n      <td>-0.248653</td>\n      <td>Alabama</td>\n      <td>1803.219141</td>\n      <td>1680.0</td>\n      <td>-123</td>\n      <td>-0.073214</td>\n    </tr>\n    <tr>\n      <th>Alabama_00120</th>\n      <td>6.602588</td>\n      <td>6.708084</td>\n      <td>6.768493</td>\n      <td>6.687109</td>\n      <td>6.666957</td>\n      <td>-0.162520</td>\n      <td>-0.162634</td>\n      <td>-0.162152</td>\n      <td>-0.162000</td>\n      <td>-0.236737</td>\n      <td>-0.240379</td>\n      <td>-0.244837</td>\n      <td>-0.248653</td>\n      <td>Alabama</td>\n      <td>688.073382</td>\n      <td>737.0</td>\n      <td>49</td>\n      <td>0.066486</td>\n    </tr>\n    <tr>\n      <th>...</th>\n      <td>...</td>\n      <td>...</td>\n      <td>...</td>\n      <td>...</td>\n      <td>...</td>\n      <td>...</td>\n      <td>...</td>\n      <td>...</td>\n      <td>...</td>\n      <td>...</td>\n      <td>...</td>\n      <td>...</td>\n      <td>...</td>\n      <td>...</td>\n      <td>...</td>\n      <td>...</td>\n      <td>...</td>\n      <td>...</td>\n    </tr>\n    <tr>\n      <th>Wyoming_Q5101</th>\n      <td>11.523865</td>\n      <td>10.509442</td>\n      <td>0.000000</td>\n      <td>0.000000</td>\n      <td>0.000000</td>\n      <td>-0.783313</td>\n      <td>-0.781783</td>\n      <td>-0.781225</td>\n      <td>-0.781926</td>\n      <td>-0.798589</td>\n      <td>-0.798755</td>\n      <td>-0.799054</td>\n      <td>-0.799364</td>\n      <td>Wyoming</td>\n      <td>18621.076621</td>\n      <td>101100.0</td>\n      <td>82479</td>\n      <td>0.815816</td>\n    </tr>\n    <tr>\n      <th>Wyoming_Q9957</th>\n      <td>4.330733</td>\n      <td>4.430817</td>\n      <td>3.401197</td>\n      <td>2.833213</td>\n      <td>0.000000</td>\n      <td>-0.783313</td>\n      <td>-0.781783</td>\n      <td>-0.781225</td>\n      <td>-0.781926</td>\n      <td>-0.798589</td>\n      <td>-0.798755</td>\n      <td>-0.799054</td>\n      <td>-0.799364</td>\n      <td>Wyoming</td>\n      <td>59.645544</td>\n      <td>76.0</td>\n      <td>16</td>\n      <td>0.210526</td>\n    </tr>\n    <tr>\n      <th>Wyoming_Q9965</th>\n      <td>3.433987</td>\n      <td>3.583519</td>\n      <td>4.553877</td>\n      <td>4.418841</td>\n      <td>4.709530</td>\n      <td>-0.783313</td>\n      <td>-0.781783</td>\n      <td>-0.781225</td>\n      <td>-0.781926</td>\n      <td>-0.798589</td>\n      <td>-0.798755</td>\n      <td>-0.799054</td>\n      <td>-0.799364</td>\n      <td>Wyoming</td>\n      <td>26.436546</td>\n      <td>31.0</td>\n      <td>5</td>\n      <td>0.161290</td>\n    </tr>\n    <tr>\n      <th>Wyoming_Q9966</th>\n      <td>7.812378</td>\n      <td>6.590301</td>\n      <td>0.000000</td>\n      <td>0.000000</td>\n      <td>0.000000</td>\n      <td>-0.783313</td>\n      <td>-0.781783</td>\n      <td>-0.781225</td>\n      <td>-0.781926</td>\n      <td>-0.798589</td>\n      <td>-0.798755</td>\n      <td>-0.799054</td>\n      <td>-0.799364</td>\n      <td>Wyoming</td>\n      <td>319.249095</td>\n      <td>2471.0</td>\n      <td>2152</td>\n      <td>0.870902</td>\n    </tr>\n    <tr>\n      <th>Wyoming_Q9967</th>\n      <td>12.174510</td>\n      <td>12.150549</td>\n      <td>12.118257</td>\n      <td>12.024904</td>\n      <td>12.126071</td>\n      <td>-0.783313</td>\n      <td>-0.781783</td>\n      <td>-0.781225</td>\n      <td>-0.781926</td>\n      <td>-0.798589</td>\n      <td>-0.798755</td>\n      <td>-0.799054</td>\n      <td>-0.799364</td>\n      <td>Wyoming</td>\n      <td>206782.106203</td>\n      <td>193786.0</td>\n      <td>-12996</td>\n      <td>-0.067064</td>\n    </tr>\n  </tbody>\n</table>\n<p>251635 rows × 18 columns</p>\n</div>"
     },
     "metadata": {}
    }
   ],
   "execution_count": 23
  },
  {
   "cell_type": "code",
   "source": "~full_test['state'].isin(excl_states)",
   "metadata": {
    "cell_id": "69f979e0-e5ab-4ad5-be7a-6f6f8d273e78",
    "tags": [],
    "deepnote_to_be_reexecuted": false,
    "source_hash": "94bbaa01",
    "execution_start": 1643019071541,
    "execution_millis": 241,
    "deepnote_output_heights": [
     251
    ],
    "deepnote_cell_type": "code"
   },
   "outputs": [
    {
     "output_type": "execute_result",
     "execution_count": 24,
     "data": {
      "text/plain": "idx\nAlabama_00100    True\nAlabama_00102    True\nAlabama_00103    True\nAlabama_00104    True\nAlabama_00120    True\n                 ... \nWyoming_Q5101    True\nWyoming_Q9957    True\nWyoming_Q9965    True\nWyoming_Q9966    True\nWyoming_Q9967    True\nName: state, Length: 252862, dtype: bool"
     },
     "metadata": {}
    }
   ],
   "execution_count": 24
  },
  {
   "cell_type": "code",
   "source": "",
   "metadata": {
    "cell_id": "acc1cdb2-e7c5-4488-b6e3-3dc41b02f2b9",
    "tags": [],
    "deepnote_to_be_reexecuted": false,
    "source_hash": "b623e53d",
    "execution_start": 1643019071788,
    "execution_millis": 18,
    "deepnote_cell_type": "code"
   },
   "outputs": [],
   "execution_count": 24
  },
  {
   "cell_type": "markdown",
   "source": "<a style='text-decoration:none;line-height:16px;display:flex;color:#5B5B62;padding:10px;justify-content:end;' href='https://deepnote.com?utm_source=created-in-deepnote-cell&projectId=f3594ae2-e1b0-4476-8420-ffda39dfce6e' target=\"_blank\">\n<img alt='Created in deepnote.com' style='display:inline;max-height:16px;margin:0px;margin-right:7.5px;' src='data:image/svg+xml;base64,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' > </img>\nCreated in <span style='font-weight:600;margin-left:4px;'>Deepnote</span></a>",
   "metadata": {
    "tags": [],
    "created_in_deepnote_cell": true,
    "deepnote_cell_type": "markdown"
   }
  }
 ],
 "nbformat": 4,
 "nbformat_minor": 2,
 "metadata": {
  "orig_nbformat": 2,
  "deepnote": {
   "is_reactive": false
  },
  "deepnote_notebook_id": "e61fc9a5-970a-4a24-8813-b6ad5d0d3cb5",
  "deepnote_execution_queue": []
 }
}